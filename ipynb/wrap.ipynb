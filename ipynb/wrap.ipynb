{
 "cells": [
  {
   "cell_type": "markdown",
   "metadata": {},
   "source": [
    "# Wrapping the call for the Bayesian optimization loop"
   ]
  },
  {
   "cell_type": "code",
   "execution_count": 1,
   "metadata": {},
   "outputs": [],
   "source": [
    "%load_ext autoreload\n",
    "%autoreload 2\n",
    "%config IPCompleter.greedy=True"
   ]
  },
  {
   "cell_type": "code",
   "execution_count": 2,
   "metadata": {},
   "outputs": [],
   "source": [
    "import os\n",
    "import numpy as np\n",
    "import netCDF4 as nc\n",
    "import xarray as xr\n",
    "import datatree as dt\n",
    "import matplotlib.pyplot as plt\n",
    "import cartopy.crs as ccrs\n",
    "from sithom.plot import plot_defaults, label_subplots, lim\n",
    "from tcpips.constants import DATA_PATH, FIGURE_PATH\n",
    "from adforce.mesh import xr_loader\n",
    "\n",
    "plot_defaults()"
   ]
  },
  {
   "cell_type": "code",
   "execution_count": 3,
   "metadata": {},
   "outputs": [],
   "source": [
    "from slurmpy import Slurm"
   ]
  },
  {
   "cell_type": "code",
   "execution_count": 11,
   "metadata": {},
   "outputs": [
    {
     "name": "stderr",
     "output_type": "stream",
     "text": [
      "b'Submitted batch job 5751164'\n"
     ]
    },
    {
     "data": {
      "text/plain": [
       "5751164"
      ]
     },
     "execution_count": 11,
     "metadata": {},
     "output_type": "execute_result"
    }
   ],
   "source": [
    "s = Slurm(\"nws13\", \n",
    "          {\"nodes\": 1, \n",
    "           \"account\": \"n01-SOWISE\", \n",
    "           \"partition\": \"standard\", \n",
    "           \"qos\": \"standard\", \n",
    "           \"time\": \"1:0:0\", \n",
    "           \"tasks-per-node\": 128,\n",
    "           \"cpus-per-task\": 1, \n",
    "           \"output\": \"test.out\", \n",
    "           \"error\": \"test.out\",\n",
    "           \"mail-type\": \"ALL\",\n",
    "           \"mail-user\": \"sdat2@cam.ac.uk\"}\n",
    ")\n",
    "jid = s.run(\n",
    "\"\"\"\n",
    "module load PrgEnv-gnu/8.3.3\n",
    "module load cray-hdf5-parallel\n",
    "module load cray-netcdf-hdf5parallel\n",
    "\n",
    "work=/mnt/lustre/a2fs-work1/work/n01/n01/sithom\n",
    "source $work/.bashrc\n",
    "\n",
    "conda activate base\n",
    "\n",
    "python -c \"import numpy as np; print('numpy', np.__version__)\"\n",
    "python -c \"import netCDF4 as nc; print('netCDF4', nc.__version__)\"\n",
    "python -c \"import xarray as xr; print('xarray', xr.__version__)\"\n",
    "python -c \"import cartopy; print('cartopy', cartopy.__version__)\"\n",
    "\"\"\"\n",
    ")\n",
    "jid"
   ]
  },
  {
   "cell_type": "code",
   "execution_count": 12,
   "metadata": {},
   "outputs": [
    {
     "name": "stdout",
     "output_type": "stream",
     "text": [
      "comp.ipynb  f63.ipynb  mesh.ipynb  \u001b[0m\u001b[01;34mslurm-scripts\u001b[0m/  test.out     wrap.ipynb\n",
      "f22.ipynb   \u001b[01;34mlogs\u001b[0m/      README.md   test.err        tides.ipynb\n"
     ]
    }
   ],
   "source": [
    "ls"
   ]
  },
  {
   "cell_type": "code",
   "execution_count": null,
   "metadata": {},
   "outputs": [],
   "source": []
  }
 ],
 "metadata": {
  "kernelspec": {
   "display_name": "base",
   "language": "python",
   "name": "python3"
  },
  "language_info": {
   "codemirror_mode": {
    "name": "ipython",
    "version": 3
   },
   "file_extension": ".py",
   "mimetype": "text/x-python",
   "name": "python",
   "nbconvert_exporter": "python",
   "pygments_lexer": "ipython3",
   "version": "3.10.8"
  }
 },
 "nbformat": 4,
 "nbformat_minor": 2
}
