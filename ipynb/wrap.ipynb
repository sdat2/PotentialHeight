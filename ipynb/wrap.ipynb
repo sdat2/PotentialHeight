{
 "cells": [
  {
   "cell_type": "markdown",
   "metadata": {},
   "source": [
    "# Wrapping the call for the Bayesian optimization loop"
   ]
  },
  {
   "cell_type": "code",
   "execution_count": 1,
   "metadata": {},
   "outputs": [],
   "source": [
    "%load_ext autoreload\n",
    "%autoreload 2\n",
    "%config IPCompleter.greedy=True"
   ]
  },
  {
   "cell_type": "code",
   "execution_count": 2,
   "metadata": {},
   "outputs": [],
   "source": [
    "import os\n",
    "import numpy as np\n",
    "import netCDF4 as nc\n",
    "import xarray as xr\n",
    "import datatree as dt\n",
    "import matplotlib.pyplot as plt\n",
    "import cartopy.crs as ccrs\n",
    "from sithom.plot import plot_defaults, label_subplots, lim\n",
    "from tcpips.constants import DATA_PATH, FIGURE_PATH\n",
    "from adforce.mesh import xr_loader\n",
    "\n",
    "plot_defaults()"
   ]
  },
  {
   "cell_type": "code",
   "execution_count": 5,
   "metadata": {},
   "outputs": [],
   "source": [
    "from slurmpy import Slurm"
   ]
  },
  {
   "cell_type": "code",
   "execution_count": 11,
   "metadata": {},
   "outputs": [
    {
     "name": "stderr",
     "output_type": "stream",
     "text": [
      "b'Submitted batch job 5751164'\n"
     ]
    },
    {
     "data": {
      "text/plain": [
       "5751164"
      ]
     },
     "execution_count": 11,
     "metadata": {},
     "output_type": "execute_result"
    }
   ],
   "source": [
    "s = Slurm(\"nws13\", \n",
    "          {\"nodes\": 1, \n",
    "           \"account\": \"n01-SOWISE\",\n",
    "           \"partition\": \"standard\",\n",
    "           \"qos\": \"standard\",\n",
    "           \"time\": \"1:0:0\",\n",
    "           \"tasks-per-node\": 128,\n",
    "           \"cpus-per-task\": 1,\n",
    "           \"output\": \"test.out\",\n",
    "           \"error\": \"test.out\",\n",
    "           \"mail-type\": \"ALL\",\n",
    "           \"mail-user\": \"sdat2@cam.ac.uk\"}\n",
    ")\n",
    "jid = s.run(\n",
    "\"\"\"\n",
    "module load PrgEnv-gnu/8.3.3\n",
    "module load cray-hdf5-parallel\n",
    "module load cray-netcdf-hdf5parallel\n",
    "\n",
    "work=/mnt/lustre/a2fs-work1/work/n01/n01/sithom\n",
    "source $work/.bashrc\n",
    "\n",
    "conda activate base\n",
    "\n",
    "python -c \"import numpy as np; print('numpy', np.__version__)\"\n",
    "python -c \"import netCDF4 as nc; print('netCDF4', nc.__version__)\"\n",
    "python -c \"import xarray as xr; print('xarray', xr.__version__)\"\n",
    "python -c \"import cartopy; print('cartopy', cartopy.__version__)\"\n",
    "\"\"\"\n",
    ")\n",
    "jid"
   ]
  },
  {
   "cell_type": "code",
   "execution_count": 6,
   "metadata": {},
   "outputs": [
    {
     "name": "stderr",
     "output_type": "stream",
     "text": [
      "b'Submitted batch job 5754241'\n"
     ]
    },
    {
     "data": {
      "text/plain": [
       "5754241"
      ]
     },
     "execution_count": 6,
     "metadata": {},
     "output_type": "execute_result"
    }
   ],
   "source": [
    "s = Slurm(\n",
    "    \"angle-test\",\n",
    "    {\n",
    "        \"nodes\": 1,\n",
    "        \"account\": \"n01-SOWISE\",\n",
    "        \"partition\": \"standard\",\n",
    "        \"qos\": \"standard\",\n",
    "        \"time\": \"1:0:0\",\n",
    "        \"tasks-per-node\": 128,\n",
    "        \"cpus-per-task\": 1,\n",
    "        \"output\": \"test.out\",\n",
    "        \"error\": \"test.out\",\n",
    "        \"mail-type\": \"ALL\",\n",
    "        \"mail-user\": \"sdat2@cam.ac.uk\",\n",
    "    },\n",
    ")\n",
    "\n",
    "jid = s.run(\n",
    "\"\"\"\n",
    "module load PrgEnv-gnu/8.3.3\n",
    "module load cray-hdf5-parallel\n",
    "module load cray-netcdf-hdf5parallel\n",
    "\n",
    "cd /mnt/lustre/a2fs-work1/work/n01/n01/sithom/adcirc-swan/angle_test/exp_000\n",
    "\n",
    "work=/mnt/lustre/a2fs-work1/work/n01/n01/sithom\n",
    "source $work/.bashrc\n",
    "\n",
    "d1=/work/n01/n01/sithom/adcirc-swan/katrina1\n",
    "\n",
    "echo \"hook 1\"\n",
    "eval \"$(conda shell.bash hook)\"\n",
    "\n",
    "# define variables\n",
    "case_name=$SLURM_JOB_NAME # name for printing\n",
    "np=128 # how many parallel tasks to define\n",
    "\n",
    "export OMP_NUM_THREADS=1\n",
    "\n",
    "# Propagate the cpus-per-task setting from script to srun commands\n",
    "#    By default, Slurm does not propagate this setting from the sbatch\n",
    "#    options to srun commands in the job script. If this is not done,\n",
    "#    process/thread pinning may be incorrect leading to poor performance\n",
    "export SRUN_CPUS_PER_TASK=$SLURM_CPUS_PER_TASK\n",
    "\n",
    "#...Run the case\n",
    "echo \"\"\n",
    "echo \"|---------------------------------------------|\"\n",
    "echo \"    TEST CASE: $case_name\"\n",
    "echo \"\"\n",
    "echo -n \"    Prepping case...\"\n",
    "${d1}/adcprep --np $np --partmesh >  adcprep.log\n",
    "${d1}/adcprep --np $np --prepall  >> adcprep.log\n",
    "if [ $? == 0 ] ; then\n",
    "    echo \"done!\"\n",
    "else\n",
    "    echo \"ERROR!\"\n",
    "    exit 1\n",
    "fi\n",
    "\n",
    "echo -n \"    Runnning case...\"\n",
    "srun --distribution=block:block --hint=nomultithread ${d1}/padcirc > padcirc_log.txt\n",
    "exitstat=$?\n",
    "echo \"Finished\"\n",
    "echo \"    ADCIRC Exit Code: $exitstat\"\n",
    "if [ \"x$exitstat\" != \"x0\" ] ; then\n",
    "    echo \"    ERROR: ADCIRC did not exit cleanly.\"\n",
    "    exit 1\n",
    "fi\n",
    "echo \"\"\n",
    "\n",
    "\"\"\"\n",
    ")\n",
    "jid"
   ]
  },
  {
   "cell_type": "code",
   "execution_count": 26,
   "metadata": {},
   "outputs": [],
   "source": [
    "import os, sys\n",
    "import subprocess\n",
    "\n",
    "args = f\"sacct -j {jid} -o state\"\n",
    "job_states = [x.strip() for x in os.popen(args).read().strip().split(\"\\n\")]\n",
    "is_finished = np.all([x == \"COMPLETED\" for x in job_states[2:]]) if len(job_states) > 2 else False"
   ]
  },
  {
   "cell_type": "code",
   "execution_count": 28,
   "metadata": {},
   "outputs": [
    {
     "data": {
      "text/plain": [
       "True"
      ]
     },
     "execution_count": 28,
     "metadata": {},
     "output_type": "execute_result"
    }
   ],
   "source": [
    "is_finished"
   ]
  },
  {
   "cell_type": "code",
   "execution_count": 30,
   "metadata": {},
   "outputs": [
    {
     "name": "stderr",
     "output_type": "stream",
     "text": [
      "b'Submitted batch job 5754702'\n"
     ]
    },
    {
     "name": "stdout",
     "output_type": "stream",
     "text": [
      "'run_and_wait'  07 min 14 s \n",
      "\n"
     ]
    },
    {
     "data": {
      "text/plain": [
       "5754702"
      ]
     },
     "execution_count": 30,
     "metadata": {},
     "output_type": "execute_result"
    }
   ],
   "source": [
    "import time\n",
    "from sithom.time import timeit\n",
    "\n",
    "\n",
    "@timeit\n",
    "def run_and_wait(dir: str, jobname=\"run\") -> int:\n",
    "    s = Slurm(\n",
    "        jobname,\n",
    "        {\n",
    "            \"nodes\": 1,\n",
    "            \"account\": \"n01-SOWISE\",\n",
    "            \"partition\": \"standard\",\n",
    "            \"qos\": \"standard\",\n",
    "            \"time\": \"1:0:0\",\n",
    "            \"tasks-per-node\": 128,\n",
    "            \"cpus-per-task\": 1,\n",
    "            \"output\": os.path.join(dir, \"test.out\"),\n",
    "            \"error\": os.path.join(dir, \"test.out\"),\n",
    "            \"mail-type\": \"ALL\",\n",
    "            \"mail-user\": \"sdat2@cam.ac.uk\",\n",
    "        },\n",
    "    )\n",
    "\n",
    "    jid = s.run(\n",
    "    f\"\"\"\n",
    "module load PrgEnv-gnu/8.3.3\n",
    "module load cray-hdf5-parallel\n",
    "module load cray-netcdf-hdf5parallel\n",
    "\n",
    "cd {dir}\n",
    "\n",
    "work=/mnt/lustre/a2fs-work1/work/n01/n01/sithom\n",
    "source $work/.bashrc\n",
    "\n",
    "d1=/work/n01/n01/sithom/adcirc-swan/katrina1\n",
    "\n",
    "echo \"hook 1\"\n",
    "eval \"$(conda shell.bash hook)\"\n",
    "\n",
    "# define variables\n",
    "case_name=$SLURM_JOB_NAME # name for printing\n",
    "np=128 # how many parallel tasks to define\n",
    "\n",
    "export OMP_NUM_THREADS=1\n",
    "\n",
    "# Propagate the cpus-per-task setting from script to srun commands\n",
    "#    By default, Slurm does not propagate this setting from the sbatch\n",
    "#    options to srun commands in the job script. If this is not done,\n",
    "#    process/thread pinning may be incorrect leading to poor performance\n",
    "export SRUN_CPUS_PER_TASK=$SLURM_CPUS_PER_TASK\n",
    "\n",
    "#...Run the case\n",
    "echo \"\"\n",
    "echo \"|---------------------------------------------|\"\n",
    "echo \"    TEST CASE: $case_name\"\n",
    "echo \"\"\n",
    "echo -n \"    Prepping case...\"\n",
    "$d1/adcprep --np $np --partmesh >  adcprep.log\n",
    "$d1/adcprep --np $np --prepall  >> adcprep.log\n",
    "if [ $? == 0 ] ; then\n",
    "    echo \"done!\"\n",
    "else\n",
    "    echo \"ERROR!\"\n",
    "    exit 1\n",
    "fi\n",
    "\n",
    "echo -n \"    Runnning case...\"\n",
    "srun --distribution=block:block --hint=nomultithread $d1/padcirc > padcirc_log.txt\n",
    "exitstat=$?\n",
    "echo \"Finished\"\n",
    "echo \"    ADCIRC Exit Code: $exitstat\"\n",
    "if [ \"x$exitstat\" != \"x0\" ] ; then\n",
    "    echo \"    ERROR: ADCIRC did not exit cleanly.\"\n",
    "    exit 1\n",
    "fi\n",
    "echo \"\"\n",
    "\n",
    "\"\"\"\n",
    "    )\n",
    "    def query_job(jid: int) -> bool:\n",
    "        args = f\"sacct -j {jid} -o state\"\n",
    "        job_states = [x.strip() for x in os.popen(args).read().strip().split(\"\\n\")]\n",
    "        return np.all([x == \"COMPLETED\" for x in job_states[2:]]) if len(job_states) > 2 else False\n",
    "    \n",
    "    is_finished = query_job(jid)\n",
    "    while not is_finished:\n",
    "        is_finished = query_job(jid)\n",
    "        time.sleep(10)\n",
    "\n",
    "    print(f\"Job {jid} finished\")\n",
    "\n",
    "    return jid\n",
    "\n",
    "\n",
    "run_and_wait(\"/mnt/lustre/a2fs-work1/work/n01/n01/sithom/adcirc-swan/angle_test/exp_000\")"
   ]
  },
  {
   "cell_type": "code",
   "execution_count": null,
   "metadata": {},
   "outputs": [],
   "source": []
  }
 ],
 "metadata": {
  "kernelspec": {
   "display_name": "base",
   "language": "python",
   "name": "python3"
  },
  "language_info": {
   "codemirror_mode": {
    "name": "ipython",
    "version": 3
   },
   "file_extension": ".py",
   "mimetype": "text/x-python",
   "name": "python",
   "nbconvert_exporter": "python",
   "pygments_lexer": "ipython3",
   "version": "3.10.8"
  }
 },
 "nbformat": 4,
 "nbformat_minor": 2
}
