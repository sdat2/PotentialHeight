{
 "cells": [
  {
   "cell_type": "code",
   "execution_count": 1,
   "metadata": {},
   "outputs": [],
   "source": [
    "%load_ext autoreload\n",
    "%autoreload 2\n",
    "%config IPCompleter.greedy=True"
   ]
  },
  {
   "cell_type": "code",
   "execution_count": 2,
   "metadata": {},
   "outputs": [],
   "source": [
    "import numpy as np\n",
    "import scipy as sc\n",
    "import matplotlib.pyplot as plt\n",
    "import pandas as pd\n",
    "import xarray as xr"
   ]
  },
  {
   "cell_type": "markdown",
   "metadata": {},
   "source": []
  },
  {
   "cell_type": "code",
   "execution_count": 3,
   "metadata": {},
   "outputs": [],
   "source": [
    "def log_likelihood(z: np.ndarray, z_star: float, beta: float, gamma: float):\n",
    "    return -np.sum(np.log(beta) + (1+1/gamma)*np.log(2+gamma/beta*(z-z_star)) - (2+gamma/beta*(z-z_star))**(-1/gamma))\n",
    "\n",
    "#\\log\\left(\\mathcal{L}\\left(z; z^{*}, \\beta, \\gamma\\right)\\right) & = & - n \\log \\beta - \\left(1+\\frac{1}{\\gamma}\\right)\\sum_{i=1}^{n} \\log\\left(2+\\frac{\\gamma}{\\beta}\\left(z_i - z^{*}\\right)\\right) \\\\ &&- \\sum_{i=1}^{n}\\left(2+ \\frac{\\gamma}{\\beta}\\left(z_i - z^{*}\\right)\\right)^{-\\frac{1}{\\gamma}}.\n"
   ]
  },
  {
   "cell_type": "code",
   "execution_count": 6,
   "metadata": {},
   "outputs": [],
   "source": [
    "z = np.array([1, 2, 3, 4, 5])\n",
    "z_star = 6"
   ]
  },
  {
   "cell_type": "code",
   "execution_count": 7,
   "metadata": {},
   "outputs": [
    {
     "name": "stderr",
     "output_type": "stream",
     "text": [
      "/var/folders/q5/n7rv_91d6b58cbb5xkzlsc4c0000gn/T/ipykernel_22079/409347968.py:2: RuntimeWarning: divide by zero encountered in log\n",
      "  return -np.sum(np.log(beta) + (1+1/gamma)*np.log(2+gamma/beta*(z-z_star)) - (2+gamma/beta*(z-z_star))**(-1/gamma))\n",
      "/var/folders/q5/n7rv_91d6b58cbb5xkzlsc4c0000gn/T/ipykernel_22079/409347968.py:2: RuntimeWarning: invalid value encountered in log\n",
      "  return -np.sum(np.log(beta) + (1+1/gamma)*np.log(2+gamma/beta*(z-z_star)) - (2+gamma/beta*(z-z_star))**(-1/gamma))\n",
      "/var/folders/q5/n7rv_91d6b58cbb5xkzlsc4c0000gn/T/ipykernel_22079/409347968.py:2: RuntimeWarning: divide by zero encountered in reciprocal\n",
      "  return -np.sum(np.log(beta) + (1+1/gamma)*np.log(2+gamma/beta*(z-z_star)) - (2+gamma/beta*(z-z_star))**(-1/gamma))\n",
      "/var/folders/q5/n7rv_91d6b58cbb5xkzlsc4c0000gn/T/ipykernel_22079/409347968.py:2: RuntimeWarning: invalid value encountered in power\n",
      "  return -np.sum(np.log(beta) + (1+1/gamma)*np.log(2+gamma/beta*(z-z_star)) - (2+gamma/beta*(z-z_star))**(-1/gamma))\n"
     ]
    },
    {
     "data": {
      "text/plain": [
       "  message: ABNORMAL_TERMINATION_IN_LNSRCH\n",
       "  success: False\n",
       "   status: 2\n",
       "      fun: nan\n",
       "        x: [ 1.000e+00  1.000e+00]\n",
       "      nit: 0\n",
       "      jac: [       nan        nan]\n",
       "     nfev: 63\n",
       "     njev: 21\n",
       " hess_inv: <2x2 LbfgsInvHessProduct with dtype=float64>"
      ]
     },
     "execution_count": 7,
     "metadata": {},
     "output_type": "execute_result"
    }
   ],
   "source": [
    "from scipy.optimize import minimize\n",
    "minimize(lambda x: -log_likelihood(z, z_star, x[0], x[1]), x0=[1,1], bounds=[(0.01, None), (0.01, None)])"
   ]
  },
  {
   "cell_type": "code",
   "execution_count": null,
   "metadata": {},
   "outputs": [],
   "source": []
  }
 ],
 "metadata": {
  "kernelspec": {
   "display_name": "Python 3",
   "language": "python",
   "name": "python3"
  },
  "language_info": {
   "codemirror_mode": {
    "name": "ipython",
    "version": 3
   },
   "file_extension": ".py",
   "mimetype": "text/x-python",
   "name": "python",
   "nbconvert_exporter": "python",
   "pygments_lexer": "ipython3",
   "version": "3.10.13"
  }
 },
 "nbformat": 4,
 "nbformat_minor": 2
}
