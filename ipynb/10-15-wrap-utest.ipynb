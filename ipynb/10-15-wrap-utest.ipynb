{
 "cells": [
  {
   "cell_type": "markdown",
   "metadata": {},
   "source": [
    "# Testing out data functions"
   ]
  },
  {
   "cell_type": "code",
   "execution_count": 1,
   "metadata": {},
   "outputs": [],
   "source": [
    "import netCDF4 as nc"
   ]
  },
  {
   "cell_type": "code",
   "execution_count": 5,
   "metadata": {},
   "outputs": [],
   "source": [
    "from adforce.constants import DATA_PATH"
   ]
  },
  {
   "cell_type": "code",
   "execution_count": 3,
   "metadata": {},
   "outputs": [],
   "source": [
    "import os"
   ]
  },
  {
   "cell_type": "code",
   "execution_count": 8,
   "metadata": {},
   "outputs": [
    {
     "data": {
      "text/plain": [
       "<class 'netCDF4._netCDF4.Group'>\n",
       "group /Main:\n",
       "    rank: 1\n",
       "    dimensions(sizes): time(673), yi(385), xi(393)\n",
       "    variables(dimensions): float64 lat(yi, xi), float64 lon(yi, xi), int32 time(time), float32 PSFC(time, yi, xi), float32 U10(time, yi, xi), float32 V10(time, yi, xi)\n",
       "    groups: "
      ]
     },
     "execution_count": 8,
     "metadata": {},
     "output_type": "execute_result"
    }
   ],
   "source": [
    "nc.Dataset(os.path.join(DATA_PATH, \"blank.nc\"))[\"Main\"]"
   ]
  },
  {
   "cell_type": "code",
   "execution_count": 10,
   "metadata": {},
   "outputs": [
    {
     "data": {
      "text/plain": [
       "<class 'netCDF4._netCDF4.Variable'>\n",
       "float64 lat(yi, xi)\n",
       "    axis: Y\n",
       "    _FillValue: 9.969209968386869e+36\n",
       "    units: degrees_north\n",
       "    standard_name: latitude\n",
       "    coordinates: lat lon\n",
       "path = /Main\n",
       "unlimited dimensions: \n",
       "current shape = (385, 393)\n",
       "filling on"
      ]
     },
     "execution_count": 10,
     "metadata": {},
     "output_type": "execute_result"
    }
   ],
   "source": [
    "lats = nc.Dataset(os.path.join(DATA_PATH, \"blank.nc\"))[\"Main\"][\"lat\"]\n",
    "lats"
   ]
  },
  {
   "cell_type": "code",
   "execution_count": 18,
   "metadata": {},
   "outputs": [
    {
     "data": {
      "text/plain": [
       "(0.0, 48.0, 0.125, True)"
      ]
     },
     "execution_count": 18,
     "metadata": {},
     "output_type": "execute_result"
    }
   ],
   "source": [
    "import numpy as np\n",
    "lat_2d = lats[:][:, 0]\n",
    "lat_2d[0], lat_2d[-1], - lat_2d[0] + lat_2d[1], np.allclose( - lat_2d[0:-1] + lat_2d[1:],0.125)"
   ]
  },
  {
   "cell_type": "code",
   "execution_count": 21,
   "metadata": {},
   "outputs": [
    {
     "data": {
      "text/plain": [
       "<class 'netCDF4._netCDF4.Variable'>\n",
       "float64 lon(yi, xi)\n",
       "    axis: X\n",
       "    _FillValue: 9.969209968386869e+36\n",
       "    units: degrees_east\n",
       "    standard_name: longitude\n",
       "    coordinates: lat lon\n",
       "path = /Main\n",
       "unlimited dimensions: \n",
       "current shape = (385, 393)\n",
       "filling on"
      ]
     },
     "execution_count": 21,
     "metadata": {},
     "output_type": "execute_result"
    }
   ],
   "source": [
    "lons = nc.Dataset(os.path.join(DATA_PATH, \"blank.nc\"))[\"Main\"][\"lon\"]\n",
    "lons"
   ]
  },
  {
   "cell_type": "code",
   "execution_count": 20,
   "metadata": {},
   "outputs": [
    {
     "data": {
      "text/plain": [
       "(-99.0, -50.0, -0.125, True)"
      ]
     },
     "execution_count": 20,
     "metadata": {},
     "output_type": "execute_result"
    }
   ],
   "source": [
    "\n",
    "lons_2d = lons[:][0, :]\n",
    "lons_2d[0], lons_2d[-1], lons_2d[0] - lons_2d[1], np.allclose(\n",
    "    lons_2d[0:-1] - lons_2d[1:], -0.125\n",
    ")"
   ]
  },
  {
   "cell_type": "code",
   "execution_count": 22,
   "metadata": {},
   "outputs": [
    {
     "data": {
      "text/plain": [
       "<class 'netCDF4._netCDF4.Variable'>\n",
       "int32 time(time)\n",
       "    _FillValue: -2147483647\n",
       "    axis: T\n",
       "    units: minutes since 1990-01-01T01:00:00+00:00\n",
       "    coordinates: time\n",
       "    calendar: proleptic_gregorian\n",
       "path = /Main\n",
       "unlimited dimensions: time\n",
       "current shape = (673,)\n",
       "filling on"
      ]
     },
     "execution_count": 22,
     "metadata": {},
     "output_type": "execute_result"
    }
   ],
   "source": [
    "times = nc.Dataset(os.path.join(DATA_PATH, \"blank.nc\"))[\"Main\"][\"time\"]\n",
    "times"
   ]
  },
  {
   "cell_type": "code",
   "execution_count": null,
   "metadata": {},
   "outputs": [],
   "source": []
  }
 ],
 "metadata": {
  "kernelspec": {
   "display_name": "Python 3",
   "language": "python",
   "name": "python3"
  },
  "language_info": {
   "codemirror_mode": {
    "name": "ipython",
    "version": 3
   },
   "file_extension": ".py",
   "mimetype": "text/x-python",
   "name": "python",
   "nbconvert_exporter": "python",
   "pygments_lexer": "ipython3",
   "version": "3.10.13"
  }
 },
 "nbformat": 4,
 "nbformat_minor": 2
}
