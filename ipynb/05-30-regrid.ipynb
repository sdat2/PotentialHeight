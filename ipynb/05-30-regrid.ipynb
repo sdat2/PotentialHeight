{
 "cells": [
  {
   "cell_type": "code",
   "execution_count": 2,
   "metadata": {},
   "outputs": [
    {
     "ename": "",
     "evalue": "",
     "output_type": "error",
     "traceback": [
      "\u001b[1;31mFailed to start the Kernel. \n",
      "\u001b[1;31mUnable to start Kernel 't1 (Python 3.10.14)' due to a timeout waiting for the ports to get used. \n",
      "\u001b[1;31mView Jupyter <a href='command:jupyter.viewOutput'>log</a> for further details."
     ]
    }
   ],
   "source": [
    "%load_ext autoreload\n",
    "%autoreload 2\n",
    "%config IPCompleter.greedy=True"
   ]
  },
  {
   "cell_type": "code",
   "execution_count": 3,
   "metadata": {},
   "outputs": [],
   "source": [
    "import os\n",
    "import xarray as xr\n",
    "from sithom.time import timeit\n",
    "import matplotlib.pyplot as plt\n",
    "import xesmf as xe\n",
    "from tcpips.constants import CMIP6_PATH\n",
    "from sithom.plot import plot_defaults\n",
    "# from tcpips.conver\n",
    "from tcpips.constants import CONVERSION_NAMES\n",
    "from tcpips.constants import (\n",
    "    DATA_PATH,\n",
    "    CMIP6_PATH,\n",
    "    RAW_PATH,\n",
    "    REGRIDDED_PATH,\n",
    "    BIAS_CORRECTED_PATH,\n",
    "    FIGURE_PATH,\n",
    ")"
   ]
  },
  {
   "cell_type": "code",
   "execution_count": 5,
   "metadata": {},
   "outputs": [],
   "source": [
    "MODELS = [\"CESM2\"]"
   ]
  },
  {
   "cell_type": "code",
   "execution_count": null,
   "metadata": {},
   "outputs": [],
   "source": [
    "def regrid_ocean(in_path, out_path):\n",
    "    print(in_path), print(out_path)\n",
    "    ds = xr.open_dataset(in_path)\n",
    "    print(ds)\n",
    "\n",
    "\n",
    "for model in MODELS:\n",
    "    model_path = os.path.join(RAW_PATH, \"ssp585\", \"ocean\", model)\n",
    "    print(model_path)\n",
    "    for file in os.listdir(model_path):\n",
    "        print(file)\n",
    "        regrid_ocean(\n",
    "            os.path.join(model_path, file),\n",
    "            os.path.join(REGRIDDED_PATH, \"ssp585\", \"ocean\", model, file),\n",
    "        )"
   ]
  },
  {
   "cell_type": "code",
   "execution_count": null,
   "metadata": {},
   "outputs": [],
   "source": [
    "from tcpips.regrid import regrid_cmip6_part; regrid_cmip6_part(\"ssp585\", \"atmos\", \"CESM2\", \"r4i1p1f1\")"
   ]
  },
  {
   "cell_type": "code",
   "execution_count": 7,
   "metadata": {},
   "outputs": [],
   "source": [
    "@timeit\n",
    "def regrid_1d(xesmf: bool = False) -> None:\n",
    "    \"\"\"\n",
    "    Regrid 1d data.\n",
    "\n",
    "    Args:\n",
    "        xesmf (bool, optional): Defaults to False.\n",
    "    \"\"\"\n",
    "\n",
    "    def open_1d(path: str):\n",
    "        ds = xr.open_dataset(path)\n",
    "        # plt.imshow(ds.lat.values)\n",
    "        #\n",
    "        # plt.imshow(ds.lon.values)\n",
    "        #\n",
    "        # print(\"ds\", name, ds)\n",
    "        ds = ds.drop_vars(\n",
    "            [\n",
    "                x\n",
    "                for x in [\n",
    "                    \"lon\",\n",
    "                    \"lat\",\n",
    "                    \"lat_verticies\",\n",
    "                    \"lon_verticies\",\n",
    "                    \"lon_bounds\",\n",
    "                    \"time_bounds\",\n",
    "                    \"lat_bounds\",\n",
    "                    \"CMIP6_PATH\",\n",
    "                    \"member_id\",\n",
    "                ]\n",
    "                if x in ds\n",
    "            ]\n",
    "        ).isel(y=slice(1, -1))\n",
    "        if xesmf:\n",
    "            ds = ds.assign_coords({\"lon\": ds[\"x\"], \"lat\": ds[\"y\"]})\n",
    "            return ds.drop_vars([\"x\", \"y\"])\n",
    "        else:\n",
    "            return ds.rename({\"x\": \"lon\", \"y\": \"lat\"})\n",
    "\n",
    "    ocean_ds = open_1d(os.path.join(CMIP6_PATH, \"ocean.nc\"))\n",
    "    print(\"ocean_ds\", ocean_ds)\n",
    "    ocean_ds.isel(time=0).tos.plot(x=\"lon\", y=\"lat\")\n",
    "\n",
    "    new_coords = atmos_ds[[\"lon\", \"lat\"]]\n",
    "    print(\"new_coords\", new_coords)\n",
    "    plt.plot(new_coords.lat.values, label=\"new\")\n",
    "    plt.plot(ocean_ds.lat.values, label=\"ocean\")\n",
    "    plt.legend()\n",
    "    plt.title(\"lat\")\n",
    "\n",
    "    plt.plot(new_coords.lon.values, label=\"new\")\n",
    "    plt.plot(ocean_ds.lon.values, label=\"ocean\")\n",
    "    plt.legend()\n",
    "    plt.title(\"lon\")\n",
    "\n",
    "    if xesmf:\n",
    "        regridder = xe.Regridder(ocean_ds, new_coords, \"nearest_s2d\", periodic=True)\n",
    "        print(regridder)\n",
    "        ocean_out = regridder(\n",
    "            ocean_ds,  # .drop_vars([\"x\", \"y\"]).set_coords([\"lon\", \"lat\"]),\n",
    "            keep_attrs=True,\n",
    "            skipna=True,\n",
    "        )\n",
    "    else:\n",
    "        ocean_out = ocean_ds.interp(\n",
    "            {\"lon\": new_coords.lon.values, \"lat\": new_coords.lat.values},\n",
    "            method=\"nearest\",\n",
    "        )\n",
    "    print(\"ocean_out\", ocean_out)\n",
    "    ocean_out.to_netcdf(os.path.join(CMIP6_PATH, \"regrid1d_ocean_regridded.nc\"))\n",
    "    ocean_out.tos.isel(time=0).plot(x=\"lon\", y=\"lat\")\n",
    "    plt.savefig(os.path.join(FIGURE_PATH, \"ocean_regridded_regrid1d.png\"))"
   ]
  },
  {
   "cell_type": "code",
   "execution_count": 2,
   "metadata": {},
   "outputs": [],
   "source": [
    "from sithom.time import timeit\n",
    "from sithom.plot import plot_defaults\n",
    "from sithom.misc import in_notebook\n",
    "from tcpips.constants import CONVERSION_NAMES, RAW_PATH, CMIP6_PATH, REGRIDDED_PATH\n",
    "import xarray as xr\n",
    "import xesmf as xe\n",
    "import os\n",
    "\n",
    "\n",
    "@timeit\n",
    "def regrid_any(\n",
    "    output_res: float = 1.0,\n",
    "    time_chunk: int = 10,\n",
    "    exp: str = \"ssp585\",\n",
    "    typ: str = \"ocean\",\n",
    "    model: str = \"CESM2\",\n",
    "    member: str = \"r4i1p1f1\",\n",
    ") -> None:\n",
    "    \"\"\"\n",
    "    Regrid 2d data to 1 degree resolution.\n",
    "\n",
    "    Args:\n",
    "        output_res (float, optional): Resolution of the output grid. Defaults to 1.0.\n",
    "        time_chunk (int, optional): Chunk size for time. Defaults to 10.\n",
    "    \"\"\"\n",
    "    plot_defaults()\n",
    "\n",
    "    def open_ds(path: str) -> xr.Dataset:\n",
    "        \"\"\"\n",
    "        Open dataset.\n",
    "\n",
    "        Args:\n",
    "            path (str): path to the dataset.\n",
    "\n",
    "        Returns:\n",
    "            xr.Dataset: xarray dataset.\n",
    "        \"\"\"\n",
    "        nonlocal time_chunk\n",
    "        # open netcdf4 file using dask backend\n",
    "        ds = xr.open_dataset(path, chunks={\"time\": time_chunk})\n",
    "        ds = ds.drop_vars(\n",
    "            [\n",
    "                x\n",
    "                for x in [\n",
    "                    \"x\",\n",
    "                    \"y\",\n",
    "                    \"dcpp_init_year\",\n",
    "                    \"member_id\",\n",
    "                ]\n",
    "                if x in ds\n",
    "            ]\n",
    "        )\n",
    "        return ds\n",
    "\n",
    "    in_ds = open_ds(os.path.join(RAW_PATH, exp, typ, model, member) + \".nc\").isel(\n",
    "        time=slice(0, 10)\n",
    "    )\n",
    "    # atmos_ds = open_ds(os.path.join(RAW_PATH, \"ssp585\", \"atmos\", \"CESM2\", 'r4i1p1f1.nc'))\n",
    "\n",
    "    new_coords = xe.util.grid_global(\n",
    "        output_res, output_res\n",
    "    )  # make regular lat/lon grid\n",
    "\n",
    "    def regrid_and_save(input_ds: xr.Dataset, output_name: str) -> xr.Dataset:\n",
    "        \"\"\"\n",
    "        Regrid and save the input dataset to the output.\n",
    "\n",
    "        Args:\n",
    "            input_ds (xr.Dataset): dataset to regrid.\n",
    "            output_name (str): of the output file.\n",
    "\n",
    "        Returns:\n",
    "            xr.Dataset: regridded dataset.\n",
    "        \"\"\"\n",
    "        regridder = xe.Regridder(\n",
    "            input_ds, new_coords, \"bilinear\", periodic=True, ignore_degenerate=True\n",
    "        )\n",
    "        print(regridder)\n",
    "        out_ds = regridder(\n",
    "            input_ds,\n",
    "            keep_attrs=True,\n",
    "            skipna=True,\n",
    "            # ignore_degenerate=True,\n",
    "        )\n",
    "        delayed_obj = out_ds.to_netcdf(\n",
    "            os.path.join(CMIP6_PATH, output_name),\n",
    "            format=\"NETCDF4\",\n",
    "            engine=\"h5netcdf\",  # should be better at parallel writing/dask\n",
    "            chunks={\"time\": time_chunk},\n",
    "            encoding={\n",
    "                var: {\"dtyp\": \"float32\", \"zlib\": True, \"complevel\": 6}\n",
    "                for var in CONVERSION_NAMES.keys()\n",
    "                if var in out_ds\n",
    "            },\n",
    "            compute=False,\n",
    "        )\n",
    "        with ProgressBar():\n",
    "            results = delayed_obj.compute()\n",
    "        return out_ds  # return for later plotting.\n",
    "\n",
    "    folder = os.path.join(REGRIDDED_PATH, exp, typ, model)\n",
    "    os.makedirs(folder, exist_ok=True)\n",
    "    out_ds = regrid_and_save(in_ds, os.path.join(folder, member) + \".nc\")\n",
    "    print(\"out_ds\", out_ds)\n",
    "    if typ == \"ocean\" and in_notebook():\n",
    "        out_ds.tos.isel(time=0).plot(x=\"lon\", y=\"lat\")\n",
    "        plt.show()\n",
    "        out_ds.tos.isel(time=0).plot()\n",
    "        plt.show()\n",
    "    elif typ == \"atmos\" and in_notebook():\n",
    "        out_ds.tas.isel(time=0, p=0).plot(x=\"lon\", y=\"lat\")\n",
    "        plt.show()"
   ]
  },
  {
   "cell_type": "code",
   "execution_count": null,
   "metadata": {},
   "outputs": [],
   "source": [
    "os.listdir(os.path.join(RAW_PATH, \"ssp585\", \"atmos\", \"CESM2\"))"
   ]
  },
  {
   "cell_type": "code",
   "execution_count": null,
   "metadata": {},
   "outputs": [],
   "source": [
    "regrid_any(output_res=0.5, time_chunk=1)"
   ]
  },
  {
   "cell_type": "code",
   "execution_count": 1,
   "metadata": {},
   "outputs": [],
   "source": [
    "from tcpips.regrid import regrid_any"
   ]
  },
  {
   "cell_type": "code",
   "execution_count": 2,
   "metadata": {},
   "outputs": [],
   "source": [
    "from tcpips.regrid import define_tasks"
   ]
  },
  {
   "cell_type": "code",
   "execution_count": null,
   "metadata": {},
   "outputs": [],
   "source": [
    "define_tasks()"
   ]
  },
  {
   "cell_type": "code",
   "execution_count": null,
   "metadata": {},
   "outputs": [],
   "source": [
    "%load_ext autoreload\n",
    "%autoreload 2\n",
    "%config IPCompleter.greedy=True"
   ]
  },
  {
   "cell_type": "code",
   "execution_count": null,
   "metadata": {},
   "outputs": [],
   "source": [
    "from tcpips.regrid import run_tasks\n",
    "\n",
    "run_tasks()"
   ]
  },
  {
   "cell_type": "code",
   "execution_count": null,
   "metadata": {},
   "outputs": [],
   "source": [
    "from tcpips.regrid import run_tasks\n",
    "\n",
    "run_tasks(force_regrid=True, output_res=0.5)"
   ]
  },
  {
   "cell_type": "markdown",
   "metadata": {},
   "source": []
  }
 ],
 "metadata": {
  "kernelspec": {
   "display_name": "Python 3 (ipykernel)",
   "language": "python",
   "name": "python3"
  }
 },
 "nbformat": 4,
 "nbformat_minor": 2
}
