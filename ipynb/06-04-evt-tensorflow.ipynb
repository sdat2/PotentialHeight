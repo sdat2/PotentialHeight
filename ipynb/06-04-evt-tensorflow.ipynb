{
 "cells": [
  {
   "cell_type": "code",
   "execution_count": 1,
   "metadata": {},
   "outputs": [],
   "source": [
    "%load_ext autoreload\n",
    "%autoreload 2\n",
    "%config IPCompleter.greedy=True"
   ]
  },
  {
   "cell_type": "markdown",
   "metadata": {},
   "source": [
    "# EVT fits using tensorflow for autodiff"
   ]
  },
  {
   "cell_type": "code",
   "execution_count": 2,
   "metadata": {},
   "outputs": [],
   "source": [
    "import numpy as np\n",
    "import matplotlib.pyplot as plt\n",
    "import tensorflow as tf"
   ]
  },
  {
   "cell_type": "code",
   "execution_count": 3,
   "metadata": {},
   "outputs": [],
   "source": [
    "x = tf.Variable(3.0)\n",
    "\n",
    "with tf.GradientTape() as tape:\n",
    "    y = x**2"
   ]
  },
  {
   "cell_type": "code",
   "execution_count": 4,
   "metadata": {},
   "outputs": [
    {
     "data": {
      "text/plain": [
       "6.0"
      ]
     },
     "execution_count": 4,
     "metadata": {},
     "output_type": "execute_result"
    }
   ],
   "source": [
    "# dy = 2x * dx\n",
    "dy_dx = tape.gradient(y, x)\n",
    "dy_dx.numpy()"
   ]
  },
  {
   "cell_type": "code",
   "execution_count": 5,
   "metadata": {},
   "outputs": [],
   "source": [
    "w = tf.Variable(tf.random.normal((3, 2)), name=\"w\")\n",
    "b = tf.Variable(tf.zeros(2, dtype=tf.float32), name=\"b\")\n",
    "x = [[1.0, 2.0, 3.0]]\n",
    "\n",
    "with tf.GradientTape(persistent=True) as tape:\n",
    "    y = x @ w + b\n",
    "    loss = tf.reduce_mean(y**2)"
   ]
  },
  {
   "cell_type": "code",
   "execution_count": 6,
   "metadata": {},
   "outputs": [],
   "source": [
    "[dl_dw, dl_db] = tape.gradient(loss, [w, b])"
   ]
  },
  {
   "cell_type": "code",
   "execution_count": 9,
   "metadata": {},
   "outputs": [
    {
     "data": {
      "text/plain": [
       "(<tf.Tensor: shape=(3, 2), dtype=float32, numpy=\n",
       " array([[-0.09011936, 10.3813715 ],\n",
       "        [-0.18023872, 20.762743  ],\n",
       "        [-0.2703581 , 31.144115  ]], dtype=float32)>,\n",
       " <tf.Tensor: shape=(2,), dtype=float32, numpy=array([-0.09011936, 10.3813715 ], dtype=float32)>)"
      ]
     },
     "execution_count": 9,
     "metadata": {},
     "output_type": "execute_result"
    }
   ],
   "source": [
    "dl_dw, dl_db\n"
   ]
  },
  {
   "cell_type": "code",
   "execution_count": 8,
   "metadata": {},
   "outputs": [
    {
     "data": {
      "text/plain": [
       "<tf.Tensor: shape=(2,), dtype=float32, numpy=array([-0.09011936, 10.3813715 ], dtype=float32)>"
      ]
     },
     "execution_count": 8,
     "metadata": {},
     "output_type": "execute_result"
    }
   ],
   "source": [
    "my_vars = {\"w\": w, \"b\": b}\n",
    "\n",
    "grad = tape.gradient(loss, my_vars)\n",
    "grad[\"b\"]"
   ]
  },
  {
   "cell_type": "code",
   "execution_count": 10,
   "metadata": {},
   "outputs": [],
   "source": [
    "layer = tf.keras.layers.Dense(2, activation=\"relu\")\n",
    "x = tf.constant([[1.0, 2.0, 3.0]])\n",
    "\n",
    "with tf.GradientTape() as tape:\n",
    "    # Forward pass\n",
    "    y = layer(x)\n",
    "    loss = tf.reduce_mean(y**2)\n",
    "\n",
    "# Calculate gradients with respect to every trainable variable\n",
    "grad = tape.gradient(loss, layer.trainable_variables)"
   ]
  },
  {
   "cell_type": "code",
   "execution_count": 11,
   "metadata": {},
   "outputs": [
    {
     "name": "stdout",
     "output_type": "stream",
     "text": [
      "dense/kernel:0, shape: (3, 2)\n",
      "dense/bias:0, shape: (2,)\n"
     ]
    }
   ],
   "source": [
    "for var, g in zip(layer.trainable_variables, grad):\n",
    "    print(f\"{var.name}, shape: {g.shape}\")"
   ]
  },
  {
   "cell_type": "code",
   "execution_count": 12,
   "metadata": {},
   "outputs": [
    {
     "name": "stdout",
     "output_type": "stream",
     "text": [
      "tf.Tensor(6.0, shape=(), dtype=float32)\n",
      "None\n",
      "None\n",
      "None\n"
     ]
    }
   ],
   "source": [
    "# A trainable variable\n",
    "x0 = tf.Variable(3.0, name=\"x0\")\n",
    "# Not trainable\n",
    "x1 = tf.Variable(3.0, name=\"x1\", trainable=False)\n",
    "# Not a Variable: A variable + tensor returns a tensor.\n",
    "x2 = tf.Variable(2.0, name=\"x2\") + 1.0\n",
    "# Not a variable\n",
    "x3 = tf.constant(3.0, name=\"x3\")\n",
    "\n",
    "with tf.GradientTape() as tape:\n",
    "    y = (x0**2) + (x1**2) + (x2**2)\n",
    "\n",
    "grad = tape.gradient(y, [x0, x1, x2, x3])\n",
    "\n",
    "for g in grad:\n",
    "    print(g)"
   ]
  },
  {
   "cell_type": "code",
   "execution_count": 13,
   "metadata": {},
   "outputs": [
    {
     "name": "stdout",
     "output_type": "stream",
     "text": [
      "6.0\n"
     ]
    }
   ],
   "source": [
    "x = tf.constant(3.0)\n",
    "with tf.GradientTape() as tape:\n",
    "    tape.watch(x)\n",
    "    y = x**2\n",
    "\n",
    "# dy = 2x * dx\n",
    "dy_dx = tape.gradient(y, x)\n",
    "print(dy_dx.numpy())"
   ]
  },
  {
   "cell_type": "code",
   "execution_count": 14,
   "metadata": {},
   "outputs": [],
   "source": [
    "x0 = tf.Variable(0.0)\n",
    "x1 = tf.Variable(10.0)\n",
    "\n",
    "with tf.GradientTape(watch_accessed_variables=False) as tape:\n",
    "    tape.watch(x1)\n",
    "    y0 = tf.math.sin(x0)\n",
    "    y1 = tf.nn.softplus(x1)\n",
    "    y = y0 + y1\n",
    "    ys = tf.reduce_sum(y)"
   ]
  },
  {
   "cell_type": "code",
   "execution_count": 15,
   "metadata": {},
   "outputs": [
    {
     "name": "stdout",
     "output_type": "stream",
     "text": [
      "dy/dx0: None\n",
      "dy/dx1: 0.9999546\n"
     ]
    }
   ],
   "source": [
    "# dys/dx1 = exp(x1) / (1 + exp(x1)) = sigmoid(x1)\n",
    "grad = tape.gradient(ys, {\"x0\": x0, \"x1\": x1})\n",
    "\n",
    "print(\"dy/dx0:\", grad[\"x0\"])\n",
    "print(\"dy/dx1:\", grad[\"x1\"].numpy())"
   ]
  },
  {
   "cell_type": "code",
   "execution_count": 16,
   "metadata": {},
   "outputs": [
    {
     "name": "stdout",
     "output_type": "stream",
     "text": [
      "18.0\n"
     ]
    }
   ],
   "source": [
    "x = tf.constant(3.0)\n",
    "\n",
    "with tf.GradientTape() as tape:\n",
    "    tape.watch(x)\n",
    "    y = x * x\n",
    "    z = y * y\n",
    "\n",
    "# Use the tape to compute the gradient of z with respect to the\n",
    "# intermediate value y.\n",
    "# dz_dy = 2 * y and y = x ** 2 = 9\n",
    "print(tape.gradient(z, y).numpy())"
   ]
  },
  {
   "cell_type": "code",
   "execution_count": 17,
   "metadata": {},
   "outputs": [
    {
     "name": "stdout",
     "output_type": "stream",
     "text": [
      "[  4. 108.]\n",
      "[2. 6.]\n"
     ]
    }
   ],
   "source": [
    "x = tf.constant([1, 3.0])\n",
    "with tf.GradientTape(persistent=True) as tape:\n",
    "    tape.watch(x)\n",
    "    y = x * x\n",
    "    z = y * y\n",
    "\n",
    "print(tape.gradient(z, x).numpy())  # [4.0, 108.0] (4 * x**3 at x = [1.0, 3.0])\n",
    "print(tape.gradient(y, x).numpy())  # [2.0, 6.0] (2 * x at x = [1.0, 3.0])"
   ]
  },
  {
   "cell_type": "code",
   "execution_count": 18,
   "metadata": {},
   "outputs": [
    {
     "name": "stderr",
     "output_type": "stream",
     "text": [
      "WARNING:absl:At this time, the v2.11+ optimizer `tf.keras.optimizers.Adam` runs slowly on M1/M2 Macs, please use the legacy Keras optimizer instead, located at `tf.keras.optimizers.legacy.Adam`.\n"
     ]
    },
    {
     "name": "stdout",
     "output_type": "stream",
     "text": [
      "WARNING:tensorflow:From /Users/simon/micromamba/envs/tcpips/lib/python3.10/site-packages/tensorflow/python/autograph/impl/api.py:459: Normal.__init__ (from tensorflow.python.ops.distributions.normal) is deprecated and will be removed after 2019-01-01.\n",
      "Instructions for updating:\n",
      "The TensorFlow Distributions library has moved to TensorFlow Probability (https://github.com/tensorflow/probability). You should update all references to use `tfp.distributions` instead of `tf.distributions`.\n"
     ]
    },
    {
     "name": "stderr",
     "output_type": "stream",
     "text": [
      "WARNING:tensorflow:From /Users/simon/micromamba/envs/tcpips/lib/python3.10/site-packages/tensorflow/python/autograph/impl/api.py:459: Normal.__init__ (from tensorflow.python.ops.distributions.normal) is deprecated and will be removed after 2019-01-01.\n",
      "Instructions for updating:\n",
      "The TensorFlow Distributions library has moved to TensorFlow Probability (https://github.com/tensorflow/probability). You should update all references to use `tfp.distributions` instead of `tf.distributions`.\n"
     ]
    },
    {
     "name": "stdout",
     "output_type": "stream",
     "text": [
      "WARNING:tensorflow:From /Users/simon/micromamba/envs/tcpips/lib/python3.10/site-packages/tensorflow/python/ops/distributions/normal.py:149: Distribution.__init__ (from tensorflow.python.ops.distributions.distribution) is deprecated and will be removed after 2019-01-01.\n",
      "Instructions for updating:\n",
      "The TensorFlow Distributions library has moved to TensorFlow Probability (https://github.com/tensorflow/probability). You should update all references to use `tfp.distributions` instead of `tf.distributions`.\n"
     ]
    },
    {
     "name": "stderr",
     "output_type": "stream",
     "text": [
      "WARNING:tensorflow:From /Users/simon/micromamba/envs/tcpips/lib/python3.10/site-packages/tensorflow/python/ops/distributions/normal.py:149: Distribution.__init__ (from tensorflow.python.ops.distributions.distribution) is deprecated and will be removed after 2019-01-01.\n",
      "Instructions for updating:\n",
      "The TensorFlow Distributions library has moved to TensorFlow Probability (https://github.com/tensorflow/probability). You should update all references to use `tfp.distributions` instead of `tf.distributions`.\n"
     ]
    },
    {
     "name": "stdout",
     "output_type": "stream",
     "text": [
      "Step 0, Loss: 3373.111328125, Mean: 0.009999933652579784, Stddev: 1.0099999904632568\n",
      "Step 100, Loss: 1882.8646240234375, Mean: 0.7618048191070557, Stddev: 1.5001142024993896\n",
      "Step 200, Loss: 1656.1044921875, Mean: 1.2704793214797974, Stddev: 1.4409856796264648\n",
      "Step 300, Loss: 1498.5015869140625, Mean: 1.6771808862686157, Stddev: 1.2032581567764282\n",
      "Step 400, Loss: 1448.788818359375, Mean: 1.9070074558258057, Stddev: 1.0438764095306396\n",
      "Step 500, Loss: 1447.109130859375, Mean: 1.9574655294418335, Stddev: 1.0286296606063843\n",
      "Step 600, Loss: 1447.097900390625, Mean: 1.9620147943496704, Stddev: 1.0285587310791016\n",
      "Step 700, Loss: 1447.097900390625, Mean: 1.96224045753479, Stddev: 1.0285587310791016\n",
      "Step 800, Loss: 1447.097900390625, Mean: 1.962245225906372, Stddev: 1.0285587310791016\n",
      "Step 900, Loss: 1447.097900390625, Mean: 1.962245225906372, Stddev: 1.0285587310791016\n",
      "Estimated Mean: 1.962245225906372, Estimated Stddev: 1.0285587310791016\n"
     ]
    }
   ],
   "source": [
    "import tensorflow as tf\n",
    "import numpy as np\n",
    "\n",
    "# Generate some synthetic data (e.g., from a normal distribution)\n",
    "true_mean = 2.0\n",
    "true_stddev = 1.0\n",
    "data = np.random.normal(true_mean, true_stddev, size=1000)\n",
    "\n",
    "# Define the parameters of the model\n",
    "mean = tf.Variable(0.0, dtype=tf.float32)\n",
    "stddev = tf.Variable(1.0, dtype=tf.float32)\n",
    "\n",
    "\n",
    "# Define the log likelihood function\n",
    "def log_likelihood(mean, stddev, data):\n",
    "    dist = tf.compat.v1.distributions.Normal(loc=mean, scale=stddev)\n",
    "    log_likelihoods = dist.log_prob(data)\n",
    "    return tf.reduce_sum(log_likelihoods)\n",
    "\n",
    "\n",
    "# Define the loss function (negative log likelihood)\n",
    "def neg_log_likelihood():\n",
    "    return -log_likelihood(mean, stddev, data)\n",
    "\n",
    "\n",
    "# Set up the optimizer\n",
    "optimizer = tf.optimizers.Adam(learning_rate=0.01)\n",
    "\n",
    "\n",
    "# Define the training step\n",
    "@tf.function\n",
    "def train_step():\n",
    "    with tf.GradientTape() as tape:\n",
    "        loss = neg_log_likelihood()\n",
    "    gradients = tape.gradient(loss, [mean, stddev])\n",
    "    optimizer.apply_gradients(zip(gradients, [mean, stddev]))\n",
    "    return loss\n",
    "\n",
    "\n",
    "# Training loop\n",
    "for step in range(1000):\n",
    "    loss = train_step()\n",
    "    if step % 100 == 0:\n",
    "        print(\n",
    "            f\"Step {step}, Loss: {loss.numpy()}, Mean: {mean.numpy()}, Stddev: {stddev.numpy()}\"\n",
    "        )\n",
    "\n",
    "print(f\"Estimated Mean: {mean.numpy()}, Estimated Stddev: {stddev.numpy()}\")"
   ]
  },
  {
   "cell_type": "code",
   "execution_count": 19,
   "metadata": {},
   "outputs": [
    {
     "name": "stderr",
     "output_type": "stream",
     "text": [
      "WARNING:absl:At this time, the v2.11+ optimizer `tf.keras.optimizers.Adam` runs slowly on M1/M2 Macs, please use the legacy Keras optimizer instead, located at `tf.keras.optimizers.legacy.Adam`.\n"
     ]
    },
    {
     "name": "stdout",
     "output_type": "stream",
     "text": [
      "Step 0, Loss: inf, Loc: 0.00999993272125721, Scale: 0.9900000691413879, Concentration: -0.009999931789934635\n",
      "Step 100, Loss: 1620.2271728515625, Loc: -0.026037784293293953, Scale: 0.9806874394416809, Concentration: 0.10872902721166611\n",
      "Step 200, Loss: 1620.2271728515625, Loc: -0.025770466774702072, Scale: 0.9806209802627563, Concentration: 0.1084568127989769\n",
      "Step 300, Loss: 1620.227294921875, Loc: -0.025771239772439003, Scale: 0.9806195497512817, Concentration: 0.1084568127989769\n",
      "Step 400, Loss: 1620.227294921875, Loc: -0.02577112428843975, Scale: 0.9806195497512817, Concentration: 0.10845671594142914\n",
      "Step 500, Loss: 1620.227294921875, Loc: -0.025771521031856537, Scale: 0.9806194305419922, Concentration: 0.1084570363163948\n",
      "Step 600, Loss: 1620.227294921875, Loc: -0.025771308690309525, Scale: 0.9806194305419922, Concentration: 0.10845670849084854\n",
      "Step 700, Loss: 1620.2271728515625, Loc: -0.025771496817469597, Scale: 0.9806194305419922, Concentration: 0.10845702886581421\n",
      "Step 800, Loss: 1620.227294921875, Loc: -0.025771260261535645, Scale: 0.980619490146637, Concentration: 0.10845673829317093\n",
      "Step 900, Loss: 1620.227294921875, Loc: -0.02577122673392296, Scale: 0.9806194305419922, Concentration: 0.1084565594792366\n",
      "Step 1000, Loss: 1620.227294921875, Loc: -0.025770941749215126, Scale: 0.9806196093559265, Concentration: 0.10845625400543213\n",
      "Step 1100, Loss: 1620.227294921875, Loc: -0.025771232321858406, Scale: 0.980619490146637, Concentration: 0.10845665633678436\n",
      "Step 1200, Loss: 1620.227294921875, Loc: -0.025771187618374825, Scale: 0.980619490146637, Concentration: 0.1084565594792366\n",
      "Step 1300, Loss: 1620.227294921875, Loc: -0.025771182030439377, Scale: 0.9806196689605713, Concentration: 0.10845699161291122\n",
      "Step 1400, Loss: 1620.2271728515625, Loc: -0.025771470740437508, Scale: 0.9806194305419922, Concentration: 0.10845693945884705\n",
      "Step 1500, Loss: 1620.227294921875, Loc: -0.025770902633666992, Scale: 0.9806197285652161, Concentration: 0.10845629125833511\n",
      "Step 1600, Loss: 1620.227294921875, Loc: -0.025771094486117363, Scale: 0.980619490146637, Concentration: 0.10845642536878586\n",
      "Step 1700, Loss: 1620.227294921875, Loc: -0.025771424174308777, Scale: 0.980619490146637, Concentration: 0.10845691710710526\n",
      "Step 1800, Loss: 1620.22705078125, Loc: -0.025771232321858406, Scale: 0.9806196093559265, Concentration: 0.10845663398504257\n",
      "Step 1900, Loss: 1620.227294921875, Loc: -0.02577134221792221, Scale: 0.9806194305419922, Concentration: 0.10845699906349182\n",
      "Estimated Loc: -0.025771068409085274, Estimated Scale: 0.9806195497512817, Estimated Concentration: 0.10845614969730377\n"
     ]
    }
   ],
   "source": [
    "import tensorflow as tf\n",
    "import tensorflow_probability as tfp\n",
    "import numpy as np\n",
    "\n",
    "# Use the TensorFlow Probability package\n",
    "tfd = tfp.distributions\n",
    "\n",
    "# Generate some synthetic data (for demonstration purposes, using a GEV distribution)\n",
    "true_loc = 0.0\n",
    "true_scale = 1.0\n",
    "true_concentration = 0.1  # Shape parameter, also known as xi\n",
    "\n",
    "gev = tfd.GeneralizedExtremeValue(\n",
    "    loc=true_loc, scale=true_scale, concentration=true_concentration\n",
    ")\n",
    "data = gev.sample(1000).numpy()\n",
    "\n",
    "# Define the parameters of the model\n",
    "loc = tf.Variable(0.0, dtype=tf.float32)\n",
    "scale = tf.Variable(1.0, dtype=tf.float32)\n",
    "concentration = tf.Variable(0.0, dtype=tf.float32)  # Start with zero for stability\n",
    "\n",
    "\n",
    "# Define the log likelihood function\n",
    "def log_likelihood(loc, scale, concentration, data):\n",
    "    dist = tfd.GeneralizedExtremeValue(\n",
    "        loc=loc, scale=scale, concentration=concentration\n",
    "    )\n",
    "    log_likelihoods = dist.log_prob(data)\n",
    "    return tf.reduce_sum(log_likelihoods)\n",
    "\n",
    "\n",
    "# Define the loss function (negative log likelihood)\n",
    "def neg_log_likelihood():\n",
    "    return -log_likelihood(loc, scale, concentration, data)\n",
    "\n",
    "\n",
    "# Set up the optimizer\n",
    "optimizer = tf.optimizers.Adam(learning_rate=0.01)\n",
    "\n",
    "\n",
    "# Define the training step\n",
    "@tf.function\n",
    "def train_step():\n",
    "    with tf.GradientTape() as tape:\n",
    "        loss = neg_log_likelihood()\n",
    "    gradients = tape.gradient(loss, [loc, scale, concentration])\n",
    "    optimizer.apply_gradients(zip(gradients, [loc, scale, concentration]))\n",
    "    return loss\n",
    "\n",
    "\n",
    "# Training loop\n",
    "for step in range(2000):\n",
    "    loss = train_step()\n",
    "    if step % 100 == 0:\n",
    "        print(\n",
    "            f\"Step {step}, Loss: {loss.numpy()}, Loc: {loc.numpy()}, Scale: {scale.numpy()}, Concentration: {concentration.numpy()}\"\n",
    "        )\n",
    "\n",
    "print(\n",
    "    f\"Estimated Loc: {loc.numpy()}, Estimated Scale: {scale.numpy()}, Estimated Concentration: {concentration.numpy()}\"\n",
    ")"
   ]
  },
  {
   "cell_type": "code",
   "execution_count": 20,
   "metadata": {},
   "outputs": [
    {
     "data": {
      "text/plain": [
       "(array([0.02123572, 0.06724644, 0.16634646, 0.30791792, 0.27606432,\n",
       "        0.4176358 , 0.34331079, 0.35392865, 0.29376075, 0.23359296,\n",
       "        0.19820004, 0.1840429 , 0.15572854, 0.06724647, 0.09202141,\n",
       "        0.08494291, 0.05308927, 0.04601074, 0.01769642, 0.02123573,\n",
       "        0.04247146, 0.01769641, 0.01415715, 0.01061786, 0.00353929,\n",
       "        0.01769641, 0.00353929, 0.00353929, 0.        , 0.        ,\n",
       "        0.00353929, 0.01061786, 0.00353928, 0.        , 0.        ,\n",
       "        0.        , 0.        , 0.        , 0.        , 0.        ,\n",
       "        0.        , 0.        , 0.        , 0.        , 0.00353928,\n",
       "        0.        , 0.        , 0.        , 0.        , 0.00353928]),\n",
       " array([-1.76652193, -1.48397911, -1.20143628, -0.91889346, -0.63635063,\n",
       "        -0.35380778, -0.07126495,  0.21127787,  0.4938207 ,  0.77636355,\n",
       "         1.05890632,  1.34144914,  1.62399197,  1.90653491,  2.18907762,\n",
       "         2.47162056,  2.75416327,  3.03670621,  3.31924891,  3.60179186,\n",
       "         3.88433456,  4.16687727,  4.44942045,  4.73196316,  5.01450586,\n",
       "         5.29704857,  5.57959175,  5.86213446,  6.14467716,  6.42722034,\n",
       "         6.70976305,  6.99230576,  7.27484846,  7.55739164,  7.83993435,\n",
       "         8.12247753,  8.40501976,  8.68756294,  8.97010517,  9.25264835,\n",
       "         9.53519154,  9.81773376, 10.10027695, 10.38282013, 10.66536236,\n",
       "        10.94790554, 11.23044777, 11.51299095, 11.79553413, 12.07807636,\n",
       "        12.36061954]),\n",
       " <BarContainer object of 50 artists>)"
      ]
     },
     "execution_count": 20,
     "metadata": {},
     "output_type": "execute_result"
    },
    {
     "data": {
      "image/png": "[encoded data removed]",
      "text/plain": [
       "<Figure size 640x480 with 1 Axes>"
      ]
     },
     "metadata": {},
     "output_type": "display_data"
    }
   ],
   "source": [
    "plt.hist(data, bins=50, density=True, alpha=0.5, color=\"blue\")"
   ]
  },
  {
   "cell_type": "code",
   "execution_count": 21,
   "metadata": {},
   "outputs": [],
   "source": [
    "# Use the TensorFlow Probability package\n",
    "tfd = tfp.distributions\n",
    "\n",
    "# Generate some synthetic data (for demonstration purposes, using a GEV distribution)\n",
    "true_loc = 0.0\n",
    "true_scale = 1.0\n",
    "true_concentration = 0.5  # Shape parameter, also known as xi\n",
    "true_z_star = true_loc * true_scale "
   ]
  },
  {
   "cell_type": "code",
   "execution_count": null,
   "metadata": {},
   "outputs": [],
   "source": []
  }
 ],
 "metadata": {
  "kernelspec": {
   "display_name": "Python 3",
   "language": "python",
   "name": "python3"
  },
  "language_info": {
   "codemirror_mode": {
    "name": "ipython",
    "version": 3
   },
   "file_extension": ".py",
   "mimetype": "text/x-python",
   "name": "python",
   "nbconvert_exporter": "python",
   "pygments_lexer": "ipython3",
   "version": "3.10.13"
  }
 },
 "nbformat": 4,
 "nbformat_minor": 2
}
