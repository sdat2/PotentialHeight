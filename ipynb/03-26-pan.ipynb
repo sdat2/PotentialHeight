{
 "cells": [
  {
   "cell_type": "code",
   "execution_count": 17,
   "metadata": {},
   "outputs": [
    {
     "name": "stdout",
     "output_type": "stream",
     "text": [
      "The autoreload extension is already loaded. To reload it, use:\n",
      "  %reload_ext autoreload\n"
     ]
    }
   ],
   "source": [
    "%load_ext autoreload\n",
    "%autoreload 2\n",
    "%config IPCompleter.greedy=True"
   ]
  },
  {
   "cell_type": "code",
   "execution_count": 18,
   "metadata": {},
   "outputs": [],
   "source": [
    "from tcpips.pangeo import get_all"
   ]
  },
  {
   "cell_type": "code",
   "execution_count": 19,
   "metadata": {},
   "outputs": [
    {
     "ename": "TypeError",
     "evalue": "super(type, obj): obj must be an instance or subtype of type",
     "output_type": "error",
     "traceback": [
      "\u001b[0;31m---------------------------------------------------------------------------\u001b[0m",
      "\u001b[0;31mTypeError\u001b[0m                                 Traceback (most recent call last)",
      "Cell \u001b[0;32mIn[19], line 3\u001b[0m\n\u001b[1;32m      1\u001b[0m url: \u001b[38;5;28mstr\u001b[39m \u001b[38;5;241m=\u001b[39m \u001b[38;5;124m\"\u001b[39m\u001b[38;5;124mhttps://storage.googleapis.com/cmip6/pangeo-cmip6.json\u001b[39m\u001b[38;5;124m\"\u001b[39m\n\u001b[1;32m      2\u001b[0m \u001b[38;5;28;01mimport\u001b[39;00m \u001b[38;5;21;01mintake\u001b[39;00m\n\u001b[0;32m----> 3\u001b[0m cat \u001b[38;5;241m=\u001b[39m \u001b[43mintake\u001b[49m\u001b[38;5;241;43m.\u001b[39;49m\u001b[43mopen_esm_datastore\u001b[49m\u001b[43m(\u001b[49m\u001b[43murl\u001b[49m\u001b[43m)\u001b[49m\n",
      "File \u001b[0;32m/work/n01/n01/sithom/miniconda3/lib/python3.10/site-packages/intake_esm/core.py:90\u001b[0m, in \u001b[0;36mesm_datastore.__init__\u001b[0;34m(self, obj, progressbar, sep, registry, read_csv_kwargs, columns_with_iterables, storage_options, **intake_kwargs)\u001b[0m\n\u001b[1;32m     77\u001b[0m \u001b[38;5;28;01mdef\u001b[39;00m \u001b[38;5;21m__init__\u001b[39m(\n\u001b[1;32m     78\u001b[0m     \u001b[38;5;28mself\u001b[39m,\n\u001b[1;32m     79\u001b[0m     obj: typing\u001b[38;5;241m.\u001b[39mUnion[pydantic\u001b[38;5;241m.\u001b[39mFilePath, pydantic\u001b[38;5;241m.\u001b[39mAnyUrl, \u001b[38;5;28mdict\u001b[39m[\u001b[38;5;28mstr\u001b[39m, typing\u001b[38;5;241m.\u001b[39mAny]],\n\u001b[0;32m   (...)\u001b[0m\n\u001b[1;32m     87\u001b[0m     \u001b[38;5;241m*\u001b[39m\u001b[38;5;241m*\u001b[39mintake_kwargs: \u001b[38;5;28mdict\u001b[39m[\u001b[38;5;28mstr\u001b[39m, typing\u001b[38;5;241m.\u001b[39mAny],\n\u001b[1;32m     88\u001b[0m ):\n\u001b[1;32m     89\u001b[0m \u001b[38;5;250m    \u001b[39m\u001b[38;5;124;03m\"\"\"Intake Catalog representing an ESM Collection.\"\"\"\u001b[39;00m\n\u001b[0;32m---> 90\u001b[0m     \u001b[38;5;28;43msuper\u001b[39;49m\u001b[43m(\u001b[49m\u001b[43m)\u001b[49m\u001b[38;5;241;43m.\u001b[39;49m\u001b[38;5;21;43m__init__\u001b[39;49m\u001b[43m(\u001b[49m\u001b[38;5;241;43m*\u001b[39;49m\u001b[38;5;241;43m*\u001b[39;49m\u001b[43mintake_kwargs\u001b[49m\u001b[43m)\u001b[49m\n\u001b[1;32m     91\u001b[0m     \u001b[38;5;28mself\u001b[39m\u001b[38;5;241m.\u001b[39mstorage_options \u001b[38;5;241m=\u001b[39m storage_options \u001b[38;5;129;01mor\u001b[39;00m {}\n\u001b[1;32m     92\u001b[0m     read_csv_kwargs \u001b[38;5;241m=\u001b[39m read_csv_kwargs \u001b[38;5;129;01mor\u001b[39;00m {}\n",
      "File \u001b[0;32m/work/n01/n01/sithom/miniconda3/lib/python3.10/site-packages/intake/catalog/base.py:93\u001b[0m, in \u001b[0;36mCatalog.__init__\u001b[0;34m(self, entries, name, description, metadata, ttl, getenv, getshell, persist_mode, storage_options, user_parameters)\u001b[0m\n\u001b[1;32m     48\u001b[0m \u001b[38;5;28;01mdef\u001b[39;00m \u001b[38;5;21m__init__\u001b[39m(\n\u001b[1;32m     49\u001b[0m     \u001b[38;5;28mself\u001b[39m,\n\u001b[1;32m     50\u001b[0m     entries\u001b[38;5;241m=\u001b[39m\u001b[38;5;28;01mNone\u001b[39;00m,\n\u001b[0;32m   (...)\u001b[0m\n\u001b[1;32m     59\u001b[0m     user_parameters\u001b[38;5;241m=\u001b[39m\u001b[38;5;28;01mNone\u001b[39;00m,\n\u001b[1;32m     60\u001b[0m ):\n\u001b[1;32m     61\u001b[0m \u001b[38;5;250m    \u001b[39m\u001b[38;5;124;03m\"\"\"\u001b[39;00m\n\u001b[1;32m     62\u001b[0m \u001b[38;5;124;03m    Parameters\u001b[39;00m\n\u001b[1;32m     63\u001b[0m \u001b[38;5;124;03m    ----------\u001b[39;00m\n\u001b[0;32m   (...)\u001b[0m\n\u001b[1;32m     91\u001b[0m \u001b[38;5;124;03m        normal local files.\u001b[39;00m\n\u001b[1;32m     92\u001b[0m \u001b[38;5;124;03m    \"\"\"\u001b[39;00m\n\u001b[0;32m---> 93\u001b[0m     \u001b[38;5;28;43msuper\u001b[39;49m\u001b[43m(\u001b[49m\u001b[43mCatalog\u001b[49m\u001b[43m,\u001b[49m\u001b[43m \u001b[49m\u001b[38;5;28;43mself\u001b[39;49m\u001b[43m)\u001b[49m\u001b[38;5;241m.\u001b[39m\u001b[38;5;21m__init__\u001b[39m()\n\u001b[1;32m     94\u001b[0m     \u001b[38;5;28mself\u001b[39m\u001b[38;5;241m.\u001b[39mname \u001b[38;5;241m=\u001b[39m name\n\u001b[1;32m     95\u001b[0m     \u001b[38;5;28mself\u001b[39m\u001b[38;5;241m.\u001b[39mdescription \u001b[38;5;241m=\u001b[39m description\n",
      "\u001b[0;31mTypeError\u001b[0m: super(type, obj): obj must be an instance or subtype of type"
     ]
    }
   ],
   "source": [
    "url: str = \"https://storage.googleapis.com/cmip6/pangeo-cmip6.json\"\n",
    "import intake\n",
    "cat = intake.open_esm_datastore(url)"
   ]
  },
  {
   "cell_type": "code",
   "execution_count": null,
   "metadata": {},
   "outputs": [],
   "source": []
  },
  {
   "cell_type": "code",
   "execution_count": null,
   "metadata": {},
   "outputs": [],
   "source": [
    "from tcpips.pangeo import get_ocean"
   ]
  },
  {
   "cell_type": "code",
   "execution_count": null,
   "metadata": {},
   "outputs": [
    {
     "ename": "AttributeError",
     "evalue": "'NoneType' object has no attribute 'search'",
     "output_type": "error",
     "traceback": [
      "\u001b[0;31m---------------------------------------------------------------------------\u001b[0m",
      "\u001b[0;31mAttributeError\u001b[0m                            Traceback (most recent call last)",
      "Cell \u001b[0;32mIn[4], line 1\u001b[0m\n\u001b[0;32m----> 1\u001b[0m \u001b[43mget_ocean\u001b[49m\u001b[43m(\u001b[49m\u001b[43m)\u001b[49m\n",
      "File \u001b[0;32m/mnt/lustre/a2fs-work1/work/n01/n01/sithom/adcirc-swan/sithom/sithom/time.py:136\u001b[0m, in \u001b[0;36mtimeit.<locals>.timed\u001b[0;34m(*args, **kw)\u001b[0m\n\u001b[1;32m    133\u001b[0m \u001b[38;5;129m@wraps\u001b[39m(method)\n\u001b[1;32m    134\u001b[0m \u001b[38;5;28;01mdef\u001b[39;00m \u001b[38;5;21mtimed\u001b[39m(\u001b[38;5;241m*\u001b[39margs, \u001b[38;5;241m*\u001b[39m\u001b[38;5;241m*\u001b[39mkw):\n\u001b[1;32m    135\u001b[0m     time_start \u001b[38;5;241m=\u001b[39m time\u001b[38;5;241m.\u001b[39mperf_counter()\n\u001b[0;32m--> 136\u001b[0m     result \u001b[38;5;241m=\u001b[39m \u001b[43mmethod\u001b[49m\u001b[43m(\u001b[49m\u001b[38;5;241;43m*\u001b[39;49m\u001b[43margs\u001b[49m\u001b[43m,\u001b[49m\u001b[43m \u001b[49m\u001b[38;5;241;43m*\u001b[39;49m\u001b[38;5;241;43m*\u001b[39;49m\u001b[43mkw\u001b[49m\u001b[43m)\u001b[49m\n\u001b[1;32m    137\u001b[0m     time_end \u001b[38;5;241m=\u001b[39m time\u001b[38;5;241m.\u001b[39mperf_counter()\n\u001b[1;32m    138\u001b[0m     \u001b[38;5;66;03m# time.gmtime()\u001b[39;00m\n",
      "File \u001b[0;32m/mnt/lustre/a2fs-work1/work/n01/n01/sithom/adcirc-swan/tcpips/tcpips/pangeo.py:160\u001b[0m, in \u001b[0;36mget_ocean\u001b[0;34m()\u001b[0m\n\u001b[1;32m    158\u001b[0m \u001b[38;5;129m@timeit\u001b[39m\n\u001b[1;32m    159\u001b[0m \u001b[38;5;28;01mdef\u001b[39;00m \u001b[38;5;21mget_ocean\u001b[39m() \u001b[38;5;241m-\u001b[39m\u001b[38;5;241m>\u001b[39m \u001b[38;5;28;01mNone\u001b[39;00m:\n\u001b[0;32m--> 160\u001b[0m     cat_subset \u001b[38;5;241m=\u001b[39m \u001b[43mcat\u001b[49m\u001b[38;5;241;43m.\u001b[39;49m\u001b[43msearch\u001b[49m(\n\u001b[1;32m    161\u001b[0m         experiment_id\u001b[38;5;241m=\u001b[39m[\u001b[38;5;124m\"\u001b[39m\u001b[38;5;124mhistorical\u001b[39m\u001b[38;5;124m\"\u001b[39m, \u001b[38;5;124m\"\u001b[39m\u001b[38;5;124mssp585\u001b[39m\u001b[38;5;124m\"\u001b[39m],\n\u001b[1;32m    162\u001b[0m         table_id\u001b[38;5;241m=\u001b[39m[\u001b[38;5;124m\"\u001b[39m\u001b[38;5;124mOmon\u001b[39m\u001b[38;5;124m\"\u001b[39m],\n\u001b[1;32m    163\u001b[0m         institution_id\u001b[38;5;241m=\u001b[39m\u001b[38;5;124m\"\u001b[39m\u001b[38;5;124mNCAR\u001b[39m\u001b[38;5;124m\"\u001b[39m,\n\u001b[1;32m    164\u001b[0m         member_id\u001b[38;5;241m=\u001b[39m\u001b[38;5;124m\"\u001b[39m\u001b[38;5;124mr10i1p1f1\u001b[39m\u001b[38;5;124m\"\u001b[39m,\n\u001b[1;32m    165\u001b[0m         source_id\u001b[38;5;241m=\u001b[39m\u001b[38;5;124m\"\u001b[39m\u001b[38;5;124mCESM2\u001b[39m\u001b[38;5;124m\"\u001b[39m,\n\u001b[1;32m    166\u001b[0m         variable_id\u001b[38;5;241m=\u001b[39mconversion_names\u001b[38;5;241m.\u001b[39mkeys(),\n\u001b[1;32m    167\u001b[0m         \u001b[38;5;66;03m# dcpp_init_year=\"20200528\",\u001b[39;00m\n\u001b[1;32m    168\u001b[0m         grid_label\u001b[38;5;241m=\u001b[39m\u001b[38;5;124m\"\u001b[39m\u001b[38;5;124mgn\u001b[39m\u001b[38;5;124m\"\u001b[39m,\n\u001b[1;32m    169\u001b[0m     )\n\u001b[1;32m    171\u001b[0m     \u001b[38;5;28mprint\u001b[39m(\u001b[38;5;124m\"\u001b[39m\u001b[38;5;124mcat_subset\u001b[39m\u001b[38;5;124m\"\u001b[39m, cat_subset)\n\u001b[1;32m    172\u001b[0m     unique \u001b[38;5;241m=\u001b[39m cat_subset\u001b[38;5;241m.\u001b[39munique()\n",
      "\u001b[0;31mAttributeError\u001b[0m: 'NoneType' object has no attribute 'search'"
     ]
    }
   ],
   "source": [
    "get_ocean()"
   ]
  },
  {
   "cell_type": "code",
   "execution_count": null,
   "metadata": {},
   "outputs": [],
   "source": [
    "import intake\n",
    "cat = intake.open_catalog(\n",
    "    \"https://raw.githubusercontent.com/pangeo-data/pangeo-datastore/master/intake-catalogs/master.yaml\"\n",
    ")\n",
    "entries = cat.walk(depth=5)\n",
    "\n",
    "l = [key for key in entries.keys()]"
   ]
  },
  {
   "cell_type": "code",
   "execution_count": null,
   "metadata": {},
   "outputs": [
    {
     "data": {
      "text/plain": [
       "['ocean.sea_surface_height',\n",
       " 'ocean.cesm_mom6_example',\n",
       " 'ocean.ECCOv4r3',\n",
       " 'ocean.SOSE',\n",
       " 'ocean.GODAS',\n",
       " 'ocean.ECCO_layers',\n",
       " 'ocean.altimetry.al',\n",
       " 'ocean.altimetry.alg',\n",
       " 'ocean.altimetry.c2',\n",
       " 'ocean.altimetry.e1',\n",
       " 'ocean.altimetry.e1g',\n",
       " 'ocean.altimetry.e2',\n",
       " 'ocean.altimetry.en',\n",
       " 'ocean.altimetry.enn',\n",
       " 'ocean.altimetry.g2',\n",
       " 'ocean.altimetry.h2',\n",
       " 'ocean.altimetry.j1',\n",
       " 'ocean.altimetry.j1g',\n",
       " 'ocean.altimetry.j1n',\n",
       " 'ocean.altimetry.j2',\n",
       " 'ocean.altimetry.j2g',\n",
       " 'ocean.altimetry.j2n',\n",
       " 'ocean.altimetry.j3',\n",
       " 'ocean.altimetry.s3a',\n",
       " 'ocean.altimetry.s3b',\n",
       " 'ocean.altimetry.tp',\n",
       " 'ocean.altimetry.tpn',\n",
       " 'ocean.altimetry',\n",
       " 'ocean.LLC4320.LLC4320_grid',\n",
       " 'ocean.LLC4320.LLC4320_SST',\n",
       " 'ocean.LLC4320.LLC4320_SSS',\n",
       " 'ocean.LLC4320.LLC4320_SSH',\n",
       " 'ocean.LLC4320.LLC4320_SSU',\n",
       " 'ocean.LLC4320.LLC4320_SSV',\n",
       " 'ocean.LLC4320',\n",
       " 'ocean.GFDL_CM2_6.GFDL_CM2_6_control_ocean',\n",
       " 'ocean.GFDL_CM2_6.GFDL_CM2_6_control_ocean_surface',\n",
       " 'ocean.GFDL_CM2_6.GFDL_CM2_6_control_ocean_3D',\n",
       " 'ocean.GFDL_CM2_6.GFDL_CM2_6_control_ocean_transport',\n",
       " 'ocean.GFDL_CM2_6.GFDL_CM2_6_control_ocean_boundary_flux',\n",
       " 'ocean.GFDL_CM2_6.GFDL_CM2_6_control_ocean_budgets',\n",
       " 'ocean.GFDL_CM2_6.GFDL_CM2_6_one_percent_ocean',\n",
       " 'ocean.GFDL_CM2_6.GFDL_CM2_6_one_percent_ocean_surface',\n",
       " 'ocean.GFDL_CM2_6.GFDL_CM2_6_one_percent_ocean_3D',\n",
       " 'ocean.GFDL_CM2_6.GFDL_CM2_6_one_percent_ocean_transport',\n",
       " 'ocean.GFDL_CM2_6.GFDL_CM2_6_one_percent_ocean_boundary_flux',\n",
       " 'ocean.GFDL_CM2_6.GFDL_CM2_6_one_percent_ocean_budgets',\n",
       " 'ocean.GFDL_CM2_6.GFDL_CM2_6_grid',\n",
       " 'ocean.GFDL_CM2_6',\n",
       " 'ocean.CESM_POP.CESM_POP_hires_control',\n",
       " 'ocean.CESM_POP.CESM_POP_hires_RCP8_5',\n",
       " 'ocean.CESM_POP',\n",
       " 'ocean.channel.MITgcm_channel_flatbottom_02km_run01_phys-mon',\n",
       " 'ocean.channel.MITgcm_channel_flatbottom_02km_run01_phys_snap15D',\n",
       " 'ocean.channel.channel_ridge_resolutions_01km',\n",
       " 'ocean.channel.channel_ridge_resolutions_05km',\n",
       " 'ocean.channel.channel_ridge_resolutions_20km',\n",
       " 'ocean.channel.run_tracers_restored_zarr',\n",
       " 'ocean.channel.channel_ridge_05km_float_run',\n",
       " 'ocean.channel.channel_ridge_05km_floats',\n",
       " 'ocean.channel',\n",
       " 'ocean.MEOM_NEMO.NATL60_coord',\n",
       " 'ocean.MEOM_NEMO.NATL60_horizontal_grid',\n",
       " 'ocean.MEOM_NEMO.NATL60_vertical_grid',\n",
       " 'ocean.MEOM_NEMO.NATL60_SSH',\n",
       " 'ocean.MEOM_NEMO.NATL60_SSH_1',\n",
       " 'ocean.MEOM_NEMO.NATL60_SSU',\n",
       " 'ocean.MEOM_NEMO.NATL60_SSV',\n",
       " 'ocean.MEOM_NEMO.eNATL60_grid',\n",
       " 'ocean.MEOM_NEMO.eNATL60_BLBT02_SSH',\n",
       " 'ocean.MEOM_NEMO.eNATL60_BLBT02_SSU',\n",
       " 'ocean.MEOM_NEMO.eNATL60_BLBT02_SSV',\n",
       " 'ocean.MEOM_NEMO.eNATL60_BLB002_SSU',\n",
       " 'ocean.MEOM_NEMO.eNATL60_BLB002_SSV',\n",
       " 'ocean.MEOM_NEMO',\n",
       " 'ocean',\n",
       " 'atmosphere.gmet_v1',\n",
       " 'atmosphere.trmm_3b42rt',\n",
       " 'atmosphere.sam_ngaqua_qobs_eqx_3d',\n",
       " 'atmosphere.sam_ngaqua_qobs_eqx_2d',\n",
       " 'atmosphere.gpcp_cdr_daily_v1_3',\n",
       " 'atmosphere.wrf50_erai',\n",
       " 'atmosphere.era5_hourly_reanalysis_single_levels_sa',\n",
       " 'atmosphere.nasa_ccmp_wind_vectors',\n",
       " 'atmosphere',\n",
       " 'climate.cmip6_gcs',\n",
       " 'climate.cmip6_s3',\n",
       " 'climate.GFDL_CM2_6',\n",
       " 'climate.GFDL_CM2_6_s3',\n",
       " 'climate.tracmip',\n",
       " 'climate.tracmip_s3',\n",
       " 'climate',\n",
       " 'hydro.cgiar_pet',\n",
       " 'hydro.hydrosheds_dir',\n",
       " 'hydro.hydrosheds_acc',\n",
       " 'hydro.hydrosheds_dem',\n",
       " 'hydro.soil_grids_single_level',\n",
       " 'hydro.soil_grids_multi_level',\n",
       " 'hydro.camels.basin_mean_forcing_gcp',\n",
       " 'hydro.camels.basin_mean_forcing_aws',\n",
       " 'hydro.camels.usgs_streamflow_gcp',\n",
       " 'hydro.camels.usgs_streamflow_aws',\n",
       " 'hydro.camels.attributes_aws',\n",
       " 'hydro.camels',\n",
       " 'hydro.nhd_catchment_attributes',\n",
       " 'hydro.nldas_hru_forcing',\n",
       " 'hydro.usgs_streamflow_observations',\n",
       " 'hydro']"
      ]
     },
     "execution_count": 8,
     "metadata": {},
     "output_type": "execute_result"
    }
   ],
   "source": [
    "l"
   ]
  },
  {
   "cell_type": "code",
   "execution_count": null,
   "metadata": {},
   "outputs": [
    {
     "ename": "TypeError",
     "evalue": "esm_datastore.__init__() missing 1 required positional argument: 'obj'",
     "output_type": "error",
     "traceback": [
      "\u001b[0;31m---------------------------------------------------------------------------\u001b[0m",
      "\u001b[0;31mTypeError\u001b[0m                                 Traceback (most recent call last)",
      "Cell \u001b[0;32mIn[10], line 1\u001b[0m\n\u001b[0;32m----> 1\u001b[0m \u001b[43mcat\u001b[49m\u001b[43m[\u001b[49m\u001b[38;5;124;43m\"\u001b[39;49m\u001b[38;5;124;43mclimate.cmip6_gcs\u001b[39;49m\u001b[38;5;124;43m\"\u001b[39;49m\u001b[43m]\u001b[49m  \u001b[38;5;66;03m# [\"cmip6_gcs\"]\u001b[39;00m\n",
      "File \u001b[0;32m/work/n01/n01/sithom/miniconda3/lib/python3.10/site-packages/intake/catalog/base.py:464\u001b[0m, in \u001b[0;36mCatalog.__getitem__\u001b[0;34m(self, key)\u001b[0m\n\u001b[1;32m    462\u001b[0m rest \u001b[38;5;241m=\u001b[39m \u001b[38;5;124m\"\u001b[39m\u001b[38;5;124m.\u001b[39m\u001b[38;5;124m\"\u001b[39m\u001b[38;5;241m.\u001b[39mjoin(parts)\n\u001b[1;32m    463\u001b[0m \u001b[38;5;28;01mtry\u001b[39;00m:\n\u001b[0;32m--> 464\u001b[0m     out \u001b[38;5;241m=\u001b[39m \u001b[38;5;28;43mself\u001b[39;49m\u001b[38;5;241;43m.\u001b[39;49m\u001b[43m_entries\u001b[49m\u001b[43m[\u001b[49m\u001b[43mprefix\u001b[49m\u001b[43m]\u001b[49m\u001b[43m[\u001b[49m\u001b[43mrest\u001b[49m\u001b[43m]\u001b[49m\n\u001b[1;32m    465\u001b[0m     \u001b[38;5;28;01mreturn\u001b[39;00m out()\n\u001b[1;32m    466\u001b[0m \u001b[38;5;28;01mexcept\u001b[39;00m \u001b[38;5;167;01mKeyError\u001b[39;00m:\n\u001b[1;32m    467\u001b[0m     \u001b[38;5;66;03m# name conflict like \"thing\" and \"think.oi\", where it's\u001b[39;00m\n\u001b[1;32m    468\u001b[0m     \u001b[38;5;66;03m# the latter we are after\u001b[39;00m\n",
      "File \u001b[0;32m/work/n01/n01/sithom/miniconda3/lib/python3.10/site-packages/intake/catalog/entry.py:147\u001b[0m, in \u001b[0;36mCatalogEntry.__getitem__\u001b[0;34m(self, item)\u001b[0m\n\u001b[1;32m    145\u001b[0m     \u001b[38;5;28;01melse\u001b[39;00m:\n\u001b[1;32m    146\u001b[0m         item \u001b[38;5;241m=\u001b[39m item[\u001b[38;5;241m0\u001b[39m]\n\u001b[0;32m--> 147\u001b[0m \u001b[38;5;28;01mreturn\u001b[39;00m \u001b[38;5;28;43mself\u001b[39;49m\u001b[43m(\u001b[49m\u001b[43m)\u001b[49m\u001b[43m[\u001b[49m\u001b[43mitem\u001b[49m\u001b[43m]\u001b[49m\n",
      "File \u001b[0;32m/work/n01/n01/sithom/miniconda3/lib/python3.10/site-packages/intake/catalog/base.py:447\u001b[0m, in \u001b[0;36mCatalog.__getitem__\u001b[0;34m(self, key)\u001b[0m\n\u001b[1;32m    438\u001b[0m \u001b[38;5;250m\u001b[39m\u001b[38;5;124;03m\"\"\"Return a catalog entry by name.\u001b[39;00m\n\u001b[1;32m    439\u001b[0m \n\u001b[1;32m    440\u001b[0m \u001b[38;5;124;03mCan also use attribute syntax, like ``cat.entry_name``, or\u001b[39;00m\n\u001b[0;32m   (...)\u001b[0m\n\u001b[1;32m    443\u001b[0m \u001b[38;5;124;03mcat['name1', 'name2']\u001b[39;00m\n\u001b[1;32m    444\u001b[0m \u001b[38;5;124;03m\"\"\"\u001b[39;00m\n\u001b[1;32m    445\u001b[0m \u001b[38;5;28;01mif\u001b[39;00m \u001b[38;5;129;01mnot\u001b[39;00m \u001b[38;5;28misinstance\u001b[39m(key, \u001b[38;5;28mlist\u001b[39m) \u001b[38;5;129;01mand\u001b[39;00m key \u001b[38;5;129;01min\u001b[39;00m \u001b[38;5;28mself\u001b[39m:\n\u001b[1;32m    446\u001b[0m     \u001b[38;5;66;03m# triggers reload_on_change\u001b[39;00m\n\u001b[0;32m--> 447\u001b[0m     s \u001b[38;5;241m=\u001b[39m \u001b[38;5;28;43mself\u001b[39;49m\u001b[38;5;241;43m.\u001b[39;49m\u001b[43m_get_entry\u001b[49m\u001b[43m(\u001b[49m\u001b[43mkey\u001b[49m\u001b[43m)\u001b[49m\n\u001b[1;32m    448\u001b[0m     \u001b[38;5;28;01mif\u001b[39;00m s\u001b[38;5;241m.\u001b[39mcontainer \u001b[38;5;241m==\u001b[39m \u001b[38;5;124m\"\u001b[39m\u001b[38;5;124mcatalog\u001b[39m\u001b[38;5;124m\"\u001b[39m:\n\u001b[1;32m    449\u001b[0m         s\u001b[38;5;241m.\u001b[39mname \u001b[38;5;241m=\u001b[39m key\n",
      "File \u001b[0;32m/work/n01/n01/sithom/miniconda3/lib/python3.10/site-packages/intake/catalog/utils.py:45\u001b[0m, in \u001b[0;36mreload_on_change.<locals>.wrapper\u001b[0;34m(self, *args, **kwargs)\u001b[0m\n\u001b[1;32m     42\u001b[0m \u001b[38;5;129m@functools\u001b[39m\u001b[38;5;241m.\u001b[39mwraps(f)\n\u001b[1;32m     43\u001b[0m \u001b[38;5;28;01mdef\u001b[39;00m \u001b[38;5;21mwrapper\u001b[39m(\u001b[38;5;28mself\u001b[39m, \u001b[38;5;241m*\u001b[39margs, \u001b[38;5;241m*\u001b[39m\u001b[38;5;241m*\u001b[39mkwargs):\n\u001b[1;32m     44\u001b[0m     \u001b[38;5;28mself\u001b[39m\u001b[38;5;241m.\u001b[39mreload()\n\u001b[0;32m---> 45\u001b[0m     \u001b[38;5;28;01mreturn\u001b[39;00m \u001b[43mf\u001b[49m\u001b[43m(\u001b[49m\u001b[38;5;28;43mself\u001b[39;49m\u001b[43m,\u001b[49m\u001b[43m \u001b[49m\u001b[38;5;241;43m*\u001b[39;49m\u001b[43margs\u001b[49m\u001b[43m,\u001b[49m\u001b[43m \u001b[49m\u001b[38;5;241;43m*\u001b[39;49m\u001b[38;5;241;43m*\u001b[39;49m\u001b[43mkwargs\u001b[49m\u001b[43m)\u001b[49m\n",
      "File \u001b[0;32m/work/n01/n01/sithom/miniconda3/lib/python3.10/site-packages/intake/catalog/base.py:333\u001b[0m, in \u001b[0;36mCatalog._get_entry\u001b[0;34m(self, name)\u001b[0m\n\u001b[1;32m    331\u001b[0m ups \u001b[38;5;241m=\u001b[39m [up \u001b[38;5;28;01mfor\u001b[39;00m name, up \u001b[38;5;129;01min\u001b[39;00m \u001b[38;5;28mself\u001b[39m\u001b[38;5;241m.\u001b[39muser_parameters\u001b[38;5;241m.\u001b[39mitems() \u001b[38;5;28;01mif\u001b[39;00m name \u001b[38;5;129;01mnot\u001b[39;00m \u001b[38;5;129;01min\u001b[39;00m up_names]\n\u001b[1;32m    332\u001b[0m entry\u001b[38;5;241m.\u001b[39m_user_parameters \u001b[38;5;241m=\u001b[39m ups \u001b[38;5;241m+\u001b[39m (entry\u001b[38;5;241m.\u001b[39m_user_parameters \u001b[38;5;129;01mor\u001b[39;00m [])\n\u001b[0;32m--> 333\u001b[0m \u001b[38;5;28;01mreturn\u001b[39;00m \u001b[43mentry\u001b[49m\u001b[43m(\u001b[49m\u001b[43m)\u001b[49m\n",
      "File \u001b[0;32m/work/n01/n01/sithom/miniconda3/lib/python3.10/site-packages/intake/catalog/entry.py:79\u001b[0m, in \u001b[0;36mCatalogEntry.__call__\u001b[0;34m(self, persist, **kwargs)\u001b[0m\n\u001b[1;32m     77\u001b[0m     \u001b[38;5;28;01mraise\u001b[39;00m \u001b[38;5;167;01mValueError\u001b[39;00m(\u001b[38;5;124m\"\u001b[39m\u001b[38;5;124mPersist value (\u001b[39m\u001b[38;5;132;01m%s\u001b[39;00m\u001b[38;5;124m) not understood\u001b[39m\u001b[38;5;124m\"\u001b[39m \u001b[38;5;241m%\u001b[39m persist)\n\u001b[1;32m     78\u001b[0m persist \u001b[38;5;241m=\u001b[39m persist \u001b[38;5;129;01mor\u001b[39;00m \u001b[38;5;28mself\u001b[39m\u001b[38;5;241m.\u001b[39m_pmode\n\u001b[0;32m---> 79\u001b[0m s \u001b[38;5;241m=\u001b[39m \u001b[38;5;28;43mself\u001b[39;49m\u001b[38;5;241;43m.\u001b[39;49m\u001b[43mget\u001b[49m\u001b[43m(\u001b[49m\u001b[38;5;241;43m*\u001b[39;49m\u001b[38;5;241;43m*\u001b[39;49m\u001b[43mkwargs\u001b[49m\u001b[43m)\u001b[49m\n\u001b[1;32m     80\u001b[0m \u001b[38;5;28;01mif\u001b[39;00m persist \u001b[38;5;241m!=\u001b[39m \u001b[38;5;124m\"\u001b[39m\u001b[38;5;124mnever\u001b[39m\u001b[38;5;124m\"\u001b[39m \u001b[38;5;129;01mand\u001b[39;00m \u001b[38;5;28misinstance\u001b[39m(s, PersistMixin) \u001b[38;5;129;01mand\u001b[39;00m s\u001b[38;5;241m.\u001b[39mhas_been_persisted:\n\u001b[1;32m     81\u001b[0m     \u001b[38;5;28;01mfrom\u001b[39;00m \u001b[38;5;21;01m.\u001b[39;00m\u001b[38;5;21;01m.\u001b[39;00m\u001b[38;5;21;01mcontainer\u001b[39;00m\u001b[38;5;21;01m.\u001b[39;00m\u001b[38;5;21;01mpersist\u001b[39;00m \u001b[38;5;28;01mimport\u001b[39;00m store\n",
      "File \u001b[0;32m/work/n01/n01/sithom/miniconda3/lib/python3.10/site-packages/intake/catalog/local.py:273\u001b[0m, in \u001b[0;36mLocalCatalogEntry.get\u001b[0;34m(self, **user_parameters)\u001b[0m\n\u001b[1;32m    270\u001b[0m     \u001b[38;5;28;01mreturn\u001b[39;00m \u001b[38;5;28mself\u001b[39m\u001b[38;5;241m.\u001b[39m_default_source\n\u001b[1;32m    272\u001b[0m plugin, open_args \u001b[38;5;241m=\u001b[39m \u001b[38;5;28mself\u001b[39m\u001b[38;5;241m.\u001b[39m_create_open_args(user_parameters)\n\u001b[0;32m--> 273\u001b[0m data_source \u001b[38;5;241m=\u001b[39m \u001b[43mplugin\u001b[49m\u001b[43m(\u001b[49m\u001b[38;5;241;43m*\u001b[39;49m\u001b[38;5;241;43m*\u001b[39;49m\u001b[43mopen_args\u001b[49m\u001b[43m)\u001b[49m\n\u001b[1;32m    274\u001b[0m data_source\u001b[38;5;241m.\u001b[39mcatalog_object \u001b[38;5;241m=\u001b[39m \u001b[38;5;28mself\u001b[39m\u001b[38;5;241m.\u001b[39m_catalog\n\u001b[1;32m    275\u001b[0m data_source\u001b[38;5;241m.\u001b[39mname \u001b[38;5;241m=\u001b[39m \u001b[38;5;28mself\u001b[39m\u001b[38;5;241m.\u001b[39mname\n",
      "\u001b[0;31mTypeError\u001b[0m: esm_datastore.__init__() missing 1 required positional argument: 'obj'"
     ]
    }
   ],
   "source": [
    "cat[\"climate.cmip6_gcs\"]  # [\"cmip6_gcs\"]"
   ]
  },
  {
   "cell_type": "code",
   "execution_count": null,
   "metadata": {},
   "outputs": [
    {
     "ename": "TypeError",
     "evalue": "esm_datastore.__init__() missing 1 required positional argument: 'obj'",
     "output_type": "error",
     "traceback": [
      "\u001b[0;31m---------------------------------------------------------------------------\u001b[0m",
      "\u001b[0;31mTypeError\u001b[0m                                 Traceback (most recent call last)",
      "Cell \u001b[0;32mIn[11], line 1\u001b[0m\n\u001b[0;32m----> 1\u001b[0m \u001b[43mcat\u001b[49m\u001b[43m[\u001b[49m\u001b[38;5;124;43m\"\u001b[39;49m\u001b[38;5;124;43mclimate.cmip6_s3\u001b[39;49m\u001b[38;5;124;43m\"\u001b[39;49m\u001b[43m]\u001b[49m\n",
      "File \u001b[0;32m/work/n01/n01/sithom/miniconda3/lib/python3.10/site-packages/intake/catalog/base.py:464\u001b[0m, in \u001b[0;36mCatalog.__getitem__\u001b[0;34m(self, key)\u001b[0m\n\u001b[1;32m    462\u001b[0m rest \u001b[38;5;241m=\u001b[39m \u001b[38;5;124m\"\u001b[39m\u001b[38;5;124m.\u001b[39m\u001b[38;5;124m\"\u001b[39m\u001b[38;5;241m.\u001b[39mjoin(parts)\n\u001b[1;32m    463\u001b[0m \u001b[38;5;28;01mtry\u001b[39;00m:\n\u001b[0;32m--> 464\u001b[0m     out \u001b[38;5;241m=\u001b[39m \u001b[38;5;28;43mself\u001b[39;49m\u001b[38;5;241;43m.\u001b[39;49m\u001b[43m_entries\u001b[49m\u001b[43m[\u001b[49m\u001b[43mprefix\u001b[49m\u001b[43m]\u001b[49m\u001b[43m[\u001b[49m\u001b[43mrest\u001b[49m\u001b[43m]\u001b[49m\n\u001b[1;32m    465\u001b[0m     \u001b[38;5;28;01mreturn\u001b[39;00m out()\n\u001b[1;32m    466\u001b[0m \u001b[38;5;28;01mexcept\u001b[39;00m \u001b[38;5;167;01mKeyError\u001b[39;00m:\n\u001b[1;32m    467\u001b[0m     \u001b[38;5;66;03m# name conflict like \"thing\" and \"think.oi\", where it's\u001b[39;00m\n\u001b[1;32m    468\u001b[0m     \u001b[38;5;66;03m# the latter we are after\u001b[39;00m\n",
      "File \u001b[0;32m/work/n01/n01/sithom/miniconda3/lib/python3.10/site-packages/intake/catalog/entry.py:147\u001b[0m, in \u001b[0;36mCatalogEntry.__getitem__\u001b[0;34m(self, item)\u001b[0m\n\u001b[1;32m    145\u001b[0m     \u001b[38;5;28;01melse\u001b[39;00m:\n\u001b[1;32m    146\u001b[0m         item \u001b[38;5;241m=\u001b[39m item[\u001b[38;5;241m0\u001b[39m]\n\u001b[0;32m--> 147\u001b[0m \u001b[38;5;28;01mreturn\u001b[39;00m \u001b[38;5;28;43mself\u001b[39;49m\u001b[43m(\u001b[49m\u001b[43m)\u001b[49m\u001b[43m[\u001b[49m\u001b[43mitem\u001b[49m\u001b[43m]\u001b[49m\n",
      "File \u001b[0;32m/work/n01/n01/sithom/miniconda3/lib/python3.10/site-packages/intake/catalog/base.py:447\u001b[0m, in \u001b[0;36mCatalog.__getitem__\u001b[0;34m(self, key)\u001b[0m\n\u001b[1;32m    438\u001b[0m \u001b[38;5;250m\u001b[39m\u001b[38;5;124;03m\"\"\"Return a catalog entry by name.\u001b[39;00m\n\u001b[1;32m    439\u001b[0m \n\u001b[1;32m    440\u001b[0m \u001b[38;5;124;03mCan also use attribute syntax, like ``cat.entry_name``, or\u001b[39;00m\n\u001b[0;32m   (...)\u001b[0m\n\u001b[1;32m    443\u001b[0m \u001b[38;5;124;03mcat['name1', 'name2']\u001b[39;00m\n\u001b[1;32m    444\u001b[0m \u001b[38;5;124;03m\"\"\"\u001b[39;00m\n\u001b[1;32m    445\u001b[0m \u001b[38;5;28;01mif\u001b[39;00m \u001b[38;5;129;01mnot\u001b[39;00m \u001b[38;5;28misinstance\u001b[39m(key, \u001b[38;5;28mlist\u001b[39m) \u001b[38;5;129;01mand\u001b[39;00m key \u001b[38;5;129;01min\u001b[39;00m \u001b[38;5;28mself\u001b[39m:\n\u001b[1;32m    446\u001b[0m     \u001b[38;5;66;03m# triggers reload_on_change\u001b[39;00m\n\u001b[0;32m--> 447\u001b[0m     s \u001b[38;5;241m=\u001b[39m \u001b[38;5;28;43mself\u001b[39;49m\u001b[38;5;241;43m.\u001b[39;49m\u001b[43m_get_entry\u001b[49m\u001b[43m(\u001b[49m\u001b[43mkey\u001b[49m\u001b[43m)\u001b[49m\n\u001b[1;32m    448\u001b[0m     \u001b[38;5;28;01mif\u001b[39;00m s\u001b[38;5;241m.\u001b[39mcontainer \u001b[38;5;241m==\u001b[39m \u001b[38;5;124m\"\u001b[39m\u001b[38;5;124mcatalog\u001b[39m\u001b[38;5;124m\"\u001b[39m:\n\u001b[1;32m    449\u001b[0m         s\u001b[38;5;241m.\u001b[39mname \u001b[38;5;241m=\u001b[39m key\n",
      "File \u001b[0;32m/work/n01/n01/sithom/miniconda3/lib/python3.10/site-packages/intake/catalog/utils.py:45\u001b[0m, in \u001b[0;36mreload_on_change.<locals>.wrapper\u001b[0;34m(self, *args, **kwargs)\u001b[0m\n\u001b[1;32m     42\u001b[0m \u001b[38;5;129m@functools\u001b[39m\u001b[38;5;241m.\u001b[39mwraps(f)\n\u001b[1;32m     43\u001b[0m \u001b[38;5;28;01mdef\u001b[39;00m \u001b[38;5;21mwrapper\u001b[39m(\u001b[38;5;28mself\u001b[39m, \u001b[38;5;241m*\u001b[39margs, \u001b[38;5;241m*\u001b[39m\u001b[38;5;241m*\u001b[39mkwargs):\n\u001b[1;32m     44\u001b[0m     \u001b[38;5;28mself\u001b[39m\u001b[38;5;241m.\u001b[39mreload()\n\u001b[0;32m---> 45\u001b[0m     \u001b[38;5;28;01mreturn\u001b[39;00m \u001b[43mf\u001b[49m\u001b[43m(\u001b[49m\u001b[38;5;28;43mself\u001b[39;49m\u001b[43m,\u001b[49m\u001b[43m \u001b[49m\u001b[38;5;241;43m*\u001b[39;49m\u001b[43margs\u001b[49m\u001b[43m,\u001b[49m\u001b[43m \u001b[49m\u001b[38;5;241;43m*\u001b[39;49m\u001b[38;5;241;43m*\u001b[39;49m\u001b[43mkwargs\u001b[49m\u001b[43m)\u001b[49m\n",
      "File \u001b[0;32m/work/n01/n01/sithom/miniconda3/lib/python3.10/site-packages/intake/catalog/base.py:333\u001b[0m, in \u001b[0;36mCatalog._get_entry\u001b[0;34m(self, name)\u001b[0m\n\u001b[1;32m    331\u001b[0m ups \u001b[38;5;241m=\u001b[39m [up \u001b[38;5;28;01mfor\u001b[39;00m name, up \u001b[38;5;129;01min\u001b[39;00m \u001b[38;5;28mself\u001b[39m\u001b[38;5;241m.\u001b[39muser_parameters\u001b[38;5;241m.\u001b[39mitems() \u001b[38;5;28;01mif\u001b[39;00m name \u001b[38;5;129;01mnot\u001b[39;00m \u001b[38;5;129;01min\u001b[39;00m up_names]\n\u001b[1;32m    332\u001b[0m entry\u001b[38;5;241m.\u001b[39m_user_parameters \u001b[38;5;241m=\u001b[39m ups \u001b[38;5;241m+\u001b[39m (entry\u001b[38;5;241m.\u001b[39m_user_parameters \u001b[38;5;129;01mor\u001b[39;00m [])\n\u001b[0;32m--> 333\u001b[0m \u001b[38;5;28;01mreturn\u001b[39;00m \u001b[43mentry\u001b[49m\u001b[43m(\u001b[49m\u001b[43m)\u001b[49m\n",
      "File \u001b[0;32m/work/n01/n01/sithom/miniconda3/lib/python3.10/site-packages/intake/catalog/entry.py:79\u001b[0m, in \u001b[0;36mCatalogEntry.__call__\u001b[0;34m(self, persist, **kwargs)\u001b[0m\n\u001b[1;32m     77\u001b[0m     \u001b[38;5;28;01mraise\u001b[39;00m \u001b[38;5;167;01mValueError\u001b[39;00m(\u001b[38;5;124m\"\u001b[39m\u001b[38;5;124mPersist value (\u001b[39m\u001b[38;5;132;01m%s\u001b[39;00m\u001b[38;5;124m) not understood\u001b[39m\u001b[38;5;124m\"\u001b[39m \u001b[38;5;241m%\u001b[39m persist)\n\u001b[1;32m     78\u001b[0m persist \u001b[38;5;241m=\u001b[39m persist \u001b[38;5;129;01mor\u001b[39;00m \u001b[38;5;28mself\u001b[39m\u001b[38;5;241m.\u001b[39m_pmode\n\u001b[0;32m---> 79\u001b[0m s \u001b[38;5;241m=\u001b[39m \u001b[38;5;28;43mself\u001b[39;49m\u001b[38;5;241;43m.\u001b[39;49m\u001b[43mget\u001b[49m\u001b[43m(\u001b[49m\u001b[38;5;241;43m*\u001b[39;49m\u001b[38;5;241;43m*\u001b[39;49m\u001b[43mkwargs\u001b[49m\u001b[43m)\u001b[49m\n\u001b[1;32m     80\u001b[0m \u001b[38;5;28;01mif\u001b[39;00m persist \u001b[38;5;241m!=\u001b[39m \u001b[38;5;124m\"\u001b[39m\u001b[38;5;124mnever\u001b[39m\u001b[38;5;124m\"\u001b[39m \u001b[38;5;129;01mand\u001b[39;00m \u001b[38;5;28misinstance\u001b[39m(s, PersistMixin) \u001b[38;5;129;01mand\u001b[39;00m s\u001b[38;5;241m.\u001b[39mhas_been_persisted:\n\u001b[1;32m     81\u001b[0m     \u001b[38;5;28;01mfrom\u001b[39;00m \u001b[38;5;21;01m.\u001b[39;00m\u001b[38;5;21;01m.\u001b[39;00m\u001b[38;5;21;01mcontainer\u001b[39;00m\u001b[38;5;21;01m.\u001b[39;00m\u001b[38;5;21;01mpersist\u001b[39;00m \u001b[38;5;28;01mimport\u001b[39;00m store\n",
      "File \u001b[0;32m/work/n01/n01/sithom/miniconda3/lib/python3.10/site-packages/intake/catalog/local.py:273\u001b[0m, in \u001b[0;36mLocalCatalogEntry.get\u001b[0;34m(self, **user_parameters)\u001b[0m\n\u001b[1;32m    270\u001b[0m     \u001b[38;5;28;01mreturn\u001b[39;00m \u001b[38;5;28mself\u001b[39m\u001b[38;5;241m.\u001b[39m_default_source\n\u001b[1;32m    272\u001b[0m plugin, open_args \u001b[38;5;241m=\u001b[39m \u001b[38;5;28mself\u001b[39m\u001b[38;5;241m.\u001b[39m_create_open_args(user_parameters)\n\u001b[0;32m--> 273\u001b[0m data_source \u001b[38;5;241m=\u001b[39m \u001b[43mplugin\u001b[49m\u001b[43m(\u001b[49m\u001b[38;5;241;43m*\u001b[39;49m\u001b[38;5;241;43m*\u001b[39;49m\u001b[43mopen_args\u001b[49m\u001b[43m)\u001b[49m\n\u001b[1;32m    274\u001b[0m data_source\u001b[38;5;241m.\u001b[39mcatalog_object \u001b[38;5;241m=\u001b[39m \u001b[38;5;28mself\u001b[39m\u001b[38;5;241m.\u001b[39m_catalog\n\u001b[1;32m    275\u001b[0m data_source\u001b[38;5;241m.\u001b[39mname \u001b[38;5;241m=\u001b[39m \u001b[38;5;28mself\u001b[39m\u001b[38;5;241m.\u001b[39mname\n",
      "\u001b[0;31mTypeError\u001b[0m: esm_datastore.__init__() missing 1 required positional argument: 'obj'"
     ]
    }
   ],
   "source": [
    "cat[\"climate.cmip6_s3\"]"
   ]
  },
  {
   "cell_type": "code",
   "execution_count": null,
   "metadata": {},
   "outputs": [
    {
     "ename": "TypeError",
     "evalue": "esm_datastore.__init__() missing 1 required positional argument: 'obj'",
     "output_type": "error",
     "traceback": [
      "\u001b[0;31m---------------------------------------------------------------------------\u001b[0m",
      "\u001b[0;31mTypeError\u001b[0m                                 Traceback (most recent call last)",
      "Cell \u001b[0;32mIn[12], line 1\u001b[0m\n\u001b[0;32m----> 1\u001b[0m \u001b[43mcat\u001b[49m\u001b[38;5;241;43m.\u001b[39;49m\u001b[43mclimate\u001b[49m\u001b[38;5;241;43m.\u001b[39;49m\u001b[43mcmip6_gcs\u001b[49m()\n",
      "File \u001b[0;32m/work/n01/n01/sithom/miniconda3/lib/python3.10/site-packages/intake/catalog/base.py:402\u001b[0m, in \u001b[0;36mCatalog.__getattr__\u001b[0;34m(self, item)\u001b[0m\n\u001b[1;32m    399\u001b[0m \u001b[38;5;28;01mif\u001b[39;00m \u001b[38;5;129;01mnot\u001b[39;00m item\u001b[38;5;241m.\u001b[39mstartswith(\u001b[38;5;124m\"\u001b[39m\u001b[38;5;124m_\u001b[39m\u001b[38;5;124m\"\u001b[39m):\n\u001b[1;32m    400\u001b[0m     \u001b[38;5;66;03m# Fall back to __getitem__.\u001b[39;00m\n\u001b[1;32m    401\u001b[0m     \u001b[38;5;28;01mtry\u001b[39;00m:\n\u001b[0;32m--> 402\u001b[0m         \u001b[38;5;28;01mreturn\u001b[39;00m \u001b[38;5;28;43mself\u001b[39;49m\u001b[43m[\u001b[49m\u001b[43mitem\u001b[49m\u001b[43m]\u001b[49m  \u001b[38;5;66;03m# triggers reload_on_change\u001b[39;00m\n\u001b[1;32m    403\u001b[0m     \u001b[38;5;28;01mexcept\u001b[39;00m \u001b[38;5;167;01mKeyError\u001b[39;00m \u001b[38;5;28;01mas\u001b[39;00m e:\n\u001b[1;32m    404\u001b[0m         \u001b[38;5;28;01mraise\u001b[39;00m \u001b[38;5;167;01mAttributeError\u001b[39;00m(item) \u001b[38;5;28;01mfrom\u001b[39;00m \u001b[38;5;21;01me\u001b[39;00m\n",
      "File \u001b[0;32m/work/n01/n01/sithom/miniconda3/lib/python3.10/site-packages/intake/catalog/base.py:447\u001b[0m, in \u001b[0;36mCatalog.__getitem__\u001b[0;34m(self, key)\u001b[0m\n\u001b[1;32m    438\u001b[0m \u001b[38;5;250m\u001b[39m\u001b[38;5;124;03m\"\"\"Return a catalog entry by name.\u001b[39;00m\n\u001b[1;32m    439\u001b[0m \n\u001b[1;32m    440\u001b[0m \u001b[38;5;124;03mCan also use attribute syntax, like ``cat.entry_name``, or\u001b[39;00m\n\u001b[0;32m   (...)\u001b[0m\n\u001b[1;32m    443\u001b[0m \u001b[38;5;124;03mcat['name1', 'name2']\u001b[39;00m\n\u001b[1;32m    444\u001b[0m \u001b[38;5;124;03m\"\"\"\u001b[39;00m\n\u001b[1;32m    445\u001b[0m \u001b[38;5;28;01mif\u001b[39;00m \u001b[38;5;129;01mnot\u001b[39;00m \u001b[38;5;28misinstance\u001b[39m(key, \u001b[38;5;28mlist\u001b[39m) \u001b[38;5;129;01mand\u001b[39;00m key \u001b[38;5;129;01min\u001b[39;00m \u001b[38;5;28mself\u001b[39m:\n\u001b[1;32m    446\u001b[0m     \u001b[38;5;66;03m# triggers reload_on_change\u001b[39;00m\n\u001b[0;32m--> 447\u001b[0m     s \u001b[38;5;241m=\u001b[39m \u001b[38;5;28;43mself\u001b[39;49m\u001b[38;5;241;43m.\u001b[39;49m\u001b[43m_get_entry\u001b[49m\u001b[43m(\u001b[49m\u001b[43mkey\u001b[49m\u001b[43m)\u001b[49m\n\u001b[1;32m    448\u001b[0m     \u001b[38;5;28;01mif\u001b[39;00m s\u001b[38;5;241m.\u001b[39mcontainer \u001b[38;5;241m==\u001b[39m \u001b[38;5;124m\"\u001b[39m\u001b[38;5;124mcatalog\u001b[39m\u001b[38;5;124m\"\u001b[39m:\n\u001b[1;32m    449\u001b[0m         s\u001b[38;5;241m.\u001b[39mname \u001b[38;5;241m=\u001b[39m key\n",
      "File \u001b[0;32m/work/n01/n01/sithom/miniconda3/lib/python3.10/site-packages/intake/catalog/utils.py:45\u001b[0m, in \u001b[0;36mreload_on_change.<locals>.wrapper\u001b[0;34m(self, *args, **kwargs)\u001b[0m\n\u001b[1;32m     42\u001b[0m \u001b[38;5;129m@functools\u001b[39m\u001b[38;5;241m.\u001b[39mwraps(f)\n\u001b[1;32m     43\u001b[0m \u001b[38;5;28;01mdef\u001b[39;00m \u001b[38;5;21mwrapper\u001b[39m(\u001b[38;5;28mself\u001b[39m, \u001b[38;5;241m*\u001b[39margs, \u001b[38;5;241m*\u001b[39m\u001b[38;5;241m*\u001b[39mkwargs):\n\u001b[1;32m     44\u001b[0m     \u001b[38;5;28mself\u001b[39m\u001b[38;5;241m.\u001b[39mreload()\n\u001b[0;32m---> 45\u001b[0m     \u001b[38;5;28;01mreturn\u001b[39;00m \u001b[43mf\u001b[49m\u001b[43m(\u001b[49m\u001b[38;5;28;43mself\u001b[39;49m\u001b[43m,\u001b[49m\u001b[43m \u001b[49m\u001b[38;5;241;43m*\u001b[39;49m\u001b[43margs\u001b[49m\u001b[43m,\u001b[49m\u001b[43m \u001b[49m\u001b[38;5;241;43m*\u001b[39;49m\u001b[38;5;241;43m*\u001b[39;49m\u001b[43mkwargs\u001b[49m\u001b[43m)\u001b[49m\n",
      "File \u001b[0;32m/work/n01/n01/sithom/miniconda3/lib/python3.10/site-packages/intake/catalog/base.py:333\u001b[0m, in \u001b[0;36mCatalog._get_entry\u001b[0;34m(self, name)\u001b[0m\n\u001b[1;32m    331\u001b[0m ups \u001b[38;5;241m=\u001b[39m [up \u001b[38;5;28;01mfor\u001b[39;00m name, up \u001b[38;5;129;01min\u001b[39;00m \u001b[38;5;28mself\u001b[39m\u001b[38;5;241m.\u001b[39muser_parameters\u001b[38;5;241m.\u001b[39mitems() \u001b[38;5;28;01mif\u001b[39;00m name \u001b[38;5;129;01mnot\u001b[39;00m \u001b[38;5;129;01min\u001b[39;00m up_names]\n\u001b[1;32m    332\u001b[0m entry\u001b[38;5;241m.\u001b[39m_user_parameters \u001b[38;5;241m=\u001b[39m ups \u001b[38;5;241m+\u001b[39m (entry\u001b[38;5;241m.\u001b[39m_user_parameters \u001b[38;5;129;01mor\u001b[39;00m [])\n\u001b[0;32m--> 333\u001b[0m \u001b[38;5;28;01mreturn\u001b[39;00m \u001b[43mentry\u001b[49m\u001b[43m(\u001b[49m\u001b[43m)\u001b[49m\n",
      "File \u001b[0;32m/work/n01/n01/sithom/miniconda3/lib/python3.10/site-packages/intake/catalog/entry.py:79\u001b[0m, in \u001b[0;36mCatalogEntry.__call__\u001b[0;34m(self, persist, **kwargs)\u001b[0m\n\u001b[1;32m     77\u001b[0m     \u001b[38;5;28;01mraise\u001b[39;00m \u001b[38;5;167;01mValueError\u001b[39;00m(\u001b[38;5;124m\"\u001b[39m\u001b[38;5;124mPersist value (\u001b[39m\u001b[38;5;132;01m%s\u001b[39;00m\u001b[38;5;124m) not understood\u001b[39m\u001b[38;5;124m\"\u001b[39m \u001b[38;5;241m%\u001b[39m persist)\n\u001b[1;32m     78\u001b[0m persist \u001b[38;5;241m=\u001b[39m persist \u001b[38;5;129;01mor\u001b[39;00m \u001b[38;5;28mself\u001b[39m\u001b[38;5;241m.\u001b[39m_pmode\n\u001b[0;32m---> 79\u001b[0m s \u001b[38;5;241m=\u001b[39m \u001b[38;5;28;43mself\u001b[39;49m\u001b[38;5;241;43m.\u001b[39;49m\u001b[43mget\u001b[49m\u001b[43m(\u001b[49m\u001b[38;5;241;43m*\u001b[39;49m\u001b[38;5;241;43m*\u001b[39;49m\u001b[43mkwargs\u001b[49m\u001b[43m)\u001b[49m\n\u001b[1;32m     80\u001b[0m \u001b[38;5;28;01mif\u001b[39;00m persist \u001b[38;5;241m!=\u001b[39m \u001b[38;5;124m\"\u001b[39m\u001b[38;5;124mnever\u001b[39m\u001b[38;5;124m\"\u001b[39m \u001b[38;5;129;01mand\u001b[39;00m \u001b[38;5;28misinstance\u001b[39m(s, PersistMixin) \u001b[38;5;129;01mand\u001b[39;00m s\u001b[38;5;241m.\u001b[39mhas_been_persisted:\n\u001b[1;32m     81\u001b[0m     \u001b[38;5;28;01mfrom\u001b[39;00m \u001b[38;5;21;01m.\u001b[39;00m\u001b[38;5;21;01m.\u001b[39;00m\u001b[38;5;21;01mcontainer\u001b[39;00m\u001b[38;5;21;01m.\u001b[39;00m\u001b[38;5;21;01mpersist\u001b[39;00m \u001b[38;5;28;01mimport\u001b[39;00m store\n",
      "File \u001b[0;32m/work/n01/n01/sithom/miniconda3/lib/python3.10/site-packages/intake/catalog/local.py:273\u001b[0m, in \u001b[0;36mLocalCatalogEntry.get\u001b[0;34m(self, **user_parameters)\u001b[0m\n\u001b[1;32m    270\u001b[0m     \u001b[38;5;28;01mreturn\u001b[39;00m \u001b[38;5;28mself\u001b[39m\u001b[38;5;241m.\u001b[39m_default_source\n\u001b[1;32m    272\u001b[0m plugin, open_args \u001b[38;5;241m=\u001b[39m \u001b[38;5;28mself\u001b[39m\u001b[38;5;241m.\u001b[39m_create_open_args(user_parameters)\n\u001b[0;32m--> 273\u001b[0m data_source \u001b[38;5;241m=\u001b[39m \u001b[43mplugin\u001b[49m\u001b[43m(\u001b[49m\u001b[38;5;241;43m*\u001b[39;49m\u001b[38;5;241;43m*\u001b[39;49m\u001b[43mopen_args\u001b[49m\u001b[43m)\u001b[49m\n\u001b[1;32m    274\u001b[0m data_source\u001b[38;5;241m.\u001b[39mcatalog_object \u001b[38;5;241m=\u001b[39m \u001b[38;5;28mself\u001b[39m\u001b[38;5;241m.\u001b[39m_catalog\n\u001b[1;32m    275\u001b[0m data_source\u001b[38;5;241m.\u001b[39mname \u001b[38;5;241m=\u001b[39m \u001b[38;5;28mself\u001b[39m\u001b[38;5;241m.\u001b[39mname\n",
      "\u001b[0;31mTypeError\u001b[0m: esm_datastore.__init__() missing 1 required positional argument: 'obj'"
     ]
    }
   ],
   "source": [
    "cat.climate.cmip6_gcs()"
   ]
  },
  {
   "cell_type": "code",
   "execution_count": null,
   "metadata": {},
   "outputs": [],
   "source": [
    "cat_subset = cat.search(\"cmip6\")"
   ]
  },
  {
   "cell_type": "code",
   "execution_count": null,
   "metadata": {},
   "outputs": [
    {
     "data": {
      "text/plain": [
       "['climate.cmip6_gcs',\n",
       " 'climate.cmip6_s3',\n",
       " 'climate.GFDL_CM2_6',\n",
       " 'climate.GFDL_CM2_6_s3',\n",
       " 'climate.tracmip',\n",
       " 'climate.tracmip_s3',\n",
       " 'climate']"
      ]
     },
     "execution_count": 15,
     "metadata": {},
     "output_type": "execute_result"
    }
   ],
   "source": [
    "list(cat_subset)"
   ]
  },
  {
   "cell_type": "code",
   "execution_count": null,
   "metadata": {},
   "outputs": [
    {
     "ename": "TypeError",
     "evalue": "esm_datastore.__init__() missing 1 required positional argument: 'obj'",
     "output_type": "error",
     "traceback": [
      "\u001b[0;31m---------------------------------------------------------------------------\u001b[0m",
      "\u001b[0;31mTypeError\u001b[0m                                 Traceback (most recent call last)",
      "Cell \u001b[0;32mIn[16], line 1\u001b[0m\n\u001b[0;32m----> 1\u001b[0m \u001b[43mcat\u001b[49m\u001b[38;5;241;43m.\u001b[39;49m\u001b[43mclimate\u001b[49m\u001b[38;5;241;43m.\u001b[39;49m\u001b[43mtracmip\u001b[49m()\n",
      "File \u001b[0;32m/work/n01/n01/sithom/miniconda3/lib/python3.10/site-packages/intake/catalog/base.py:402\u001b[0m, in \u001b[0;36mCatalog.__getattr__\u001b[0;34m(self, item)\u001b[0m\n\u001b[1;32m    399\u001b[0m \u001b[38;5;28;01mif\u001b[39;00m \u001b[38;5;129;01mnot\u001b[39;00m item\u001b[38;5;241m.\u001b[39mstartswith(\u001b[38;5;124m\"\u001b[39m\u001b[38;5;124m_\u001b[39m\u001b[38;5;124m\"\u001b[39m):\n\u001b[1;32m    400\u001b[0m     \u001b[38;5;66;03m# Fall back to __getitem__.\u001b[39;00m\n\u001b[1;32m    401\u001b[0m     \u001b[38;5;28;01mtry\u001b[39;00m:\n\u001b[0;32m--> 402\u001b[0m         \u001b[38;5;28;01mreturn\u001b[39;00m \u001b[38;5;28;43mself\u001b[39;49m\u001b[43m[\u001b[49m\u001b[43mitem\u001b[49m\u001b[43m]\u001b[49m  \u001b[38;5;66;03m# triggers reload_on_change\u001b[39;00m\n\u001b[1;32m    403\u001b[0m     \u001b[38;5;28;01mexcept\u001b[39;00m \u001b[38;5;167;01mKeyError\u001b[39;00m \u001b[38;5;28;01mas\u001b[39;00m e:\n\u001b[1;32m    404\u001b[0m         \u001b[38;5;28;01mraise\u001b[39;00m \u001b[38;5;167;01mAttributeError\u001b[39;00m(item) \u001b[38;5;28;01mfrom\u001b[39;00m \u001b[38;5;21;01me\u001b[39;00m\n",
      "File \u001b[0;32m/work/n01/n01/sithom/miniconda3/lib/python3.10/site-packages/intake/catalog/base.py:447\u001b[0m, in \u001b[0;36mCatalog.__getitem__\u001b[0;34m(self, key)\u001b[0m\n\u001b[1;32m    438\u001b[0m \u001b[38;5;250m\u001b[39m\u001b[38;5;124;03m\"\"\"Return a catalog entry by name.\u001b[39;00m\n\u001b[1;32m    439\u001b[0m \n\u001b[1;32m    440\u001b[0m \u001b[38;5;124;03mCan also use attribute syntax, like ``cat.entry_name``, or\u001b[39;00m\n\u001b[0;32m   (...)\u001b[0m\n\u001b[1;32m    443\u001b[0m \u001b[38;5;124;03mcat['name1', 'name2']\u001b[39;00m\n\u001b[1;32m    444\u001b[0m \u001b[38;5;124;03m\"\"\"\u001b[39;00m\n\u001b[1;32m    445\u001b[0m \u001b[38;5;28;01mif\u001b[39;00m \u001b[38;5;129;01mnot\u001b[39;00m \u001b[38;5;28misinstance\u001b[39m(key, \u001b[38;5;28mlist\u001b[39m) \u001b[38;5;129;01mand\u001b[39;00m key \u001b[38;5;129;01min\u001b[39;00m \u001b[38;5;28mself\u001b[39m:\n\u001b[1;32m    446\u001b[0m     \u001b[38;5;66;03m# triggers reload_on_change\u001b[39;00m\n\u001b[0;32m--> 447\u001b[0m     s \u001b[38;5;241m=\u001b[39m \u001b[38;5;28;43mself\u001b[39;49m\u001b[38;5;241;43m.\u001b[39;49m\u001b[43m_get_entry\u001b[49m\u001b[43m(\u001b[49m\u001b[43mkey\u001b[49m\u001b[43m)\u001b[49m\n\u001b[1;32m    448\u001b[0m     \u001b[38;5;28;01mif\u001b[39;00m s\u001b[38;5;241m.\u001b[39mcontainer \u001b[38;5;241m==\u001b[39m \u001b[38;5;124m\"\u001b[39m\u001b[38;5;124mcatalog\u001b[39m\u001b[38;5;124m\"\u001b[39m:\n\u001b[1;32m    449\u001b[0m         s\u001b[38;5;241m.\u001b[39mname \u001b[38;5;241m=\u001b[39m key\n",
      "File \u001b[0;32m/work/n01/n01/sithom/miniconda3/lib/python3.10/site-packages/intake/catalog/utils.py:45\u001b[0m, in \u001b[0;36mreload_on_change.<locals>.wrapper\u001b[0;34m(self, *args, **kwargs)\u001b[0m\n\u001b[1;32m     42\u001b[0m \u001b[38;5;129m@functools\u001b[39m\u001b[38;5;241m.\u001b[39mwraps(f)\n\u001b[1;32m     43\u001b[0m \u001b[38;5;28;01mdef\u001b[39;00m \u001b[38;5;21mwrapper\u001b[39m(\u001b[38;5;28mself\u001b[39m, \u001b[38;5;241m*\u001b[39margs, \u001b[38;5;241m*\u001b[39m\u001b[38;5;241m*\u001b[39mkwargs):\n\u001b[1;32m     44\u001b[0m     \u001b[38;5;28mself\u001b[39m\u001b[38;5;241m.\u001b[39mreload()\n\u001b[0;32m---> 45\u001b[0m     \u001b[38;5;28;01mreturn\u001b[39;00m \u001b[43mf\u001b[49m\u001b[43m(\u001b[49m\u001b[38;5;28;43mself\u001b[39;49m\u001b[43m,\u001b[49m\u001b[43m \u001b[49m\u001b[38;5;241;43m*\u001b[39;49m\u001b[43margs\u001b[49m\u001b[43m,\u001b[49m\u001b[43m \u001b[49m\u001b[38;5;241;43m*\u001b[39;49m\u001b[38;5;241;43m*\u001b[39;49m\u001b[43mkwargs\u001b[49m\u001b[43m)\u001b[49m\n",
      "File \u001b[0;32m/work/n01/n01/sithom/miniconda3/lib/python3.10/site-packages/intake/catalog/base.py:333\u001b[0m, in \u001b[0;36mCatalog._get_entry\u001b[0;34m(self, name)\u001b[0m\n\u001b[1;32m    331\u001b[0m ups \u001b[38;5;241m=\u001b[39m [up \u001b[38;5;28;01mfor\u001b[39;00m name, up \u001b[38;5;129;01min\u001b[39;00m \u001b[38;5;28mself\u001b[39m\u001b[38;5;241m.\u001b[39muser_parameters\u001b[38;5;241m.\u001b[39mitems() \u001b[38;5;28;01mif\u001b[39;00m name \u001b[38;5;129;01mnot\u001b[39;00m \u001b[38;5;129;01min\u001b[39;00m up_names]\n\u001b[1;32m    332\u001b[0m entry\u001b[38;5;241m.\u001b[39m_user_parameters \u001b[38;5;241m=\u001b[39m ups \u001b[38;5;241m+\u001b[39m (entry\u001b[38;5;241m.\u001b[39m_user_parameters \u001b[38;5;129;01mor\u001b[39;00m [])\n\u001b[0;32m--> 333\u001b[0m \u001b[38;5;28;01mreturn\u001b[39;00m \u001b[43mentry\u001b[49m\u001b[43m(\u001b[49m\u001b[43m)\u001b[49m\n",
      "File \u001b[0;32m/work/n01/n01/sithom/miniconda3/lib/python3.10/site-packages/intake/catalog/entry.py:79\u001b[0m, in \u001b[0;36mCatalogEntry.__call__\u001b[0;34m(self, persist, **kwargs)\u001b[0m\n\u001b[1;32m     77\u001b[0m     \u001b[38;5;28;01mraise\u001b[39;00m \u001b[38;5;167;01mValueError\u001b[39;00m(\u001b[38;5;124m\"\u001b[39m\u001b[38;5;124mPersist value (\u001b[39m\u001b[38;5;132;01m%s\u001b[39;00m\u001b[38;5;124m) not understood\u001b[39m\u001b[38;5;124m\"\u001b[39m \u001b[38;5;241m%\u001b[39m persist)\n\u001b[1;32m     78\u001b[0m persist \u001b[38;5;241m=\u001b[39m persist \u001b[38;5;129;01mor\u001b[39;00m \u001b[38;5;28mself\u001b[39m\u001b[38;5;241m.\u001b[39m_pmode\n\u001b[0;32m---> 79\u001b[0m s \u001b[38;5;241m=\u001b[39m \u001b[38;5;28;43mself\u001b[39;49m\u001b[38;5;241;43m.\u001b[39;49m\u001b[43mget\u001b[49m\u001b[43m(\u001b[49m\u001b[38;5;241;43m*\u001b[39;49m\u001b[38;5;241;43m*\u001b[39;49m\u001b[43mkwargs\u001b[49m\u001b[43m)\u001b[49m\n\u001b[1;32m     80\u001b[0m \u001b[38;5;28;01mif\u001b[39;00m persist \u001b[38;5;241m!=\u001b[39m \u001b[38;5;124m\"\u001b[39m\u001b[38;5;124mnever\u001b[39m\u001b[38;5;124m\"\u001b[39m \u001b[38;5;129;01mand\u001b[39;00m \u001b[38;5;28misinstance\u001b[39m(s, PersistMixin) \u001b[38;5;129;01mand\u001b[39;00m s\u001b[38;5;241m.\u001b[39mhas_been_persisted:\n\u001b[1;32m     81\u001b[0m     \u001b[38;5;28;01mfrom\u001b[39;00m \u001b[38;5;21;01m.\u001b[39;00m\u001b[38;5;21;01m.\u001b[39;00m\u001b[38;5;21;01mcontainer\u001b[39;00m\u001b[38;5;21;01m.\u001b[39;00m\u001b[38;5;21;01mpersist\u001b[39;00m \u001b[38;5;28;01mimport\u001b[39;00m store\n",
      "File \u001b[0;32m/work/n01/n01/sithom/miniconda3/lib/python3.10/site-packages/intake/catalog/local.py:273\u001b[0m, in \u001b[0;36mLocalCatalogEntry.get\u001b[0;34m(self, **user_parameters)\u001b[0m\n\u001b[1;32m    270\u001b[0m     \u001b[38;5;28;01mreturn\u001b[39;00m \u001b[38;5;28mself\u001b[39m\u001b[38;5;241m.\u001b[39m_default_source\n\u001b[1;32m    272\u001b[0m plugin, open_args \u001b[38;5;241m=\u001b[39m \u001b[38;5;28mself\u001b[39m\u001b[38;5;241m.\u001b[39m_create_open_args(user_parameters)\n\u001b[0;32m--> 273\u001b[0m data_source \u001b[38;5;241m=\u001b[39m \u001b[43mplugin\u001b[49m\u001b[43m(\u001b[49m\u001b[38;5;241;43m*\u001b[39;49m\u001b[38;5;241;43m*\u001b[39;49m\u001b[43mopen_args\u001b[49m\u001b[43m)\u001b[49m\n\u001b[1;32m    274\u001b[0m data_source\u001b[38;5;241m.\u001b[39mcatalog_object \u001b[38;5;241m=\u001b[39m \u001b[38;5;28mself\u001b[39m\u001b[38;5;241m.\u001b[39m_catalog\n\u001b[1;32m    275\u001b[0m data_source\u001b[38;5;241m.\u001b[39mname \u001b[38;5;241m=\u001b[39m \u001b[38;5;28mself\u001b[39m\u001b[38;5;241m.\u001b[39mname\n",
      "\u001b[0;31mTypeError\u001b[0m: esm_datastore.__init__() missing 1 required positional argument: 'obj'"
     ]
    }
   ],
   "source": [
    "cat.climate.tracmip()"
   ]
  },
  {
   "cell_type": "code",
   "execution_count": null,
   "metadata": {},
   "outputs": [],
   "source": []
  }
 ],
 "metadata": {
  "kernelspec": {
   "display_name": "base",
   "language": "python",
   "name": "python3"
  },
  "language_info": {
   "codemirror_mode": {
    "name": "ipython",
    "version": 3
   },
   "file_extension": ".py",
   "mimetype": "text/x-python",
   "name": "python",
   "nbconvert_exporter": "python",
   "pygments_lexer": "ipython3",
   "version": "3.10.14"
  }
 },
 "nbformat": 4,
 "nbformat_minor": 2
}
