{
 "cells": [
  {
   "cell_type": "markdown",
   "metadata": {},
   "source": [
    "# ER11E04"
   ]
  },
  {
   "cell_type": "code",
   "execution_count": 2,
   "metadata": {},
   "outputs": [],
   "source": [
    "%load_ext autoreload\n",
    "%autoreload 2\n",
    "%config IPCompleter.greedy=True"
   ]
  },
  {
   "cell_type": "code",
   "execution_count": 3,
   "metadata": {},
   "outputs": [],
   "source": [
    "import numpy as np\n",
    "from chavas15.er11e04.r0input import ER11E04_nondim_r0input\n",
    "from matplotlib import pyplot as plt\n",
    "from sithom.plot import plot_defaults\n",
    "\n",
    "plot_defaults()"
   ]
  },
  {
   "cell_type": "code",
   "execution_count": 4,
   "metadata": {},
   "outputs": [
    {
     "name": "stdout",
     "output_type": "stream",
     "text": [
      "'E04_outerwind_r0input_nondim_MM0'  0.00054 s \n",
      "\n",
      "Large storm detected. Increasing drfracrm.\n",
      "dr =  675.9270370814833\n",
      "[  547500.900036     548176.82707308   548852.75411016 ...\n",
      " 33793648.14592583 33794324.07296292 33795000.        ]\n"
     ]
    },
    {
     "name": "stderr",
     "output_type": "stream",
     "text": [
      "/Users/simon/tcpips/chavas15/er11/radprof_raw.py:51: RuntimeWarning: divide by zero encountered in divide\n",
      "  V_ER11 = (1 / rr_ER11) * (Vmax * rmax + 0.5 * fcor * rmax**2) * (\n",
      "/Users/simon/tcpips/chavas15/er11/radprof_raw.py:51: RuntimeWarning: invalid value encountered in multiply\n",
      "  V_ER11 = (1 / rr_ER11) * (Vmax * rmax + 0.5 * fcor * rmax**2) * (\n"
     ]
    },
    {
     "name": "stdout",
     "output_type": "stream",
     "text": [
      "'ER11_radprof_raw'  0.52902 s \n",
      "\n",
      "[  632667.70670827   633343.63374535   634019.56078243 ...\n",
      " 33793648.14592583 33794324.07296292 33795000.        ]\n"
     ]
    },
    {
     "name": "stderr",
     "output_type": "stream",
     "text": [
      "/Users/simon/tcpips/chavas15/er11/radprof_raw.py:51: RuntimeWarning: divide by zero encountered in divide\n",
      "  V_ER11 = (1 / rr_ER11) * (Vmax * rmax + 0.5 * fcor * rmax**2) * (\n",
      "/Users/simon/tcpips/chavas15/er11/radprof_raw.py:51: RuntimeWarning: invalid value encountered in multiply\n",
      "  V_ER11 = (1 / rr_ER11) * (Vmax * rmax + 0.5 * fcor * rmax**2) * (\n"
     ]
    },
    {
     "name": "stdout",
     "output_type": "stream",
     "text": [
      "'ER11_radprof_raw'  0.44335 s \n",
      "\n",
      "[  631315.85263411   631991.77967119   632667.70670827 ...\n",
      " 33793648.14592583 33794324.07296292 33795000.        ]\n"
     ]
    },
    {
     "name": "stderr",
     "output_type": "stream",
     "text": [
      "/Users/simon/tcpips/chavas15/er11/radprof_raw.py:51: RuntimeWarning: divide by zero encountered in divide\n",
      "  V_ER11 = (1 / rr_ER11) * (Vmax * rmax + 0.5 * fcor * rmax**2) * (\n",
      "/Users/simon/tcpips/chavas15/er11/radprof_raw.py:51: RuntimeWarning: invalid value encountered in multiply\n",
      "  V_ER11 = (1 / rr_ER11) * (Vmax * rmax + 0.5 * fcor * rmax**2) * (\n"
     ]
    },
    {
     "name": "stdout",
     "output_type": "stream",
     "text": [
      "'ER11_radprof_raw'  0.40826 s \n",
      "\n",
      "[  631315.85263411   631991.77967119   632667.70670827 ...\n",
      " 33793648.14592583 33794324.07296292 33795000.        ]\n"
     ]
    },
    {
     "name": "stderr",
     "output_type": "stream",
     "text": [
      "/Users/simon/tcpips/chavas15/er11/radprof_raw.py:51: RuntimeWarning: divide by zero encountered in divide\n",
      "  V_ER11 = (1 / rr_ER11) * (Vmax * rmax + 0.5 * fcor * rmax**2) * (\n",
      "/Users/simon/tcpips/chavas15/er11/radprof_raw.py:51: RuntimeWarning: invalid value encountered in multiply\n",
      "  V_ER11 = (1 / rr_ER11) * (Vmax * rmax + 0.5 * fcor * rmax**2) * (\n"
     ]
    },
    {
     "name": "stdout",
     "output_type": "stream",
     "text": [
      "'ER11_radprof_raw'  0.39185 s \n",
      "\n",
      "[  661056.64226569   661732.56930277   662408.49633985 ...\n",
      " 33793648.14592583 33794324.07296292 33795000.        ]\n"
     ]
    },
    {
     "name": "stderr",
     "output_type": "stream",
     "text": [
      "/Users/simon/tcpips/chavas15/er11/radprof_raw.py:51: RuntimeWarning: divide by zero encountered in divide\n",
      "  V_ER11 = (1 / rr_ER11) * (Vmax * rmax + 0.5 * fcor * rmax**2) * (\n",
      "/Users/simon/tcpips/chavas15/er11/radprof_raw.py:51: RuntimeWarning: invalid value encountered in multiply\n",
      "  V_ER11 = (1 / rr_ER11) * (Vmax * rmax + 0.5 * fcor * rmax**2) * (\n"
     ]
    },
    {
     "name": "stdout",
     "output_type": "stream",
     "text": [
      "'ER11_radprof_raw'  0.39414 s \n",
      "\n"
     ]
    },
    {
     "name": "stderr",
     "output_type": "stream",
     "text": [
      "/Users/simon/tcpips/chavas15/er11/radprof_raw.py:51: RuntimeWarning: divide by zero encountered in divide\n",
      "  V_ER11 = (1 / rr_ER11) * (Vmax * rmax + 0.5 * fcor * rmax**2) * (\n",
      "/Users/simon/tcpips/chavas15/er11/radprof_raw.py:51: RuntimeWarning: invalid value encountered in multiply\n",
      "  V_ER11 = (1 / rr_ER11) * (Vmax * rmax + 0.5 * fcor * rmax**2) * (\n"
     ]
    },
    {
     "name": "stdout",
     "output_type": "stream",
     "text": [
      "[  671195.54782191   671871.47485899   672547.40189608 ...\n",
      " 33793648.14592583 33794324.07296292 33795000.        ]\n",
      "'ER11_radprof_raw'  0.37445 s \n",
      "\n",
      "[  674575.18300732   675251.1100444    675927.03708148 ...\n",
      " 33793648.14592583 33794324.07296292 33795000.        ]\n"
     ]
    },
    {
     "name": "stderr",
     "output_type": "stream",
     "text": [
      "/Users/simon/tcpips/chavas15/er11/radprof_raw.py:51: RuntimeWarning: divide by zero encountered in divide\n",
      "  V_ER11 = (1 / rr_ER11) * (Vmax * rmax + 0.5 * fcor * rmax**2) * (\n",
      "/Users/simon/tcpips/chavas15/er11/radprof_raw.py:51: RuntimeWarning: invalid value encountered in multiply\n",
      "  V_ER11 = (1 / rr_ER11) * (Vmax * rmax + 0.5 * fcor * rmax**2) * (\n"
     ]
    },
    {
     "name": "stdout",
     "output_type": "stream",
     "text": [
      "'ER11_radprof_raw'  0.37624 s \n",
      "\n",
      "[  675927.03708148   676602.96411856   677278.89115565 ...\n",
      " 33793648.14592583 33794324.07296292 33795000.        ]\n"
     ]
    },
    {
     "name": "stderr",
     "output_type": "stream",
     "text": [
      "/Users/simon/tcpips/chavas15/er11/radprof_raw.py:51: RuntimeWarning: divide by zero encountered in divide\n",
      "  V_ER11 = (1 / rr_ER11) * (Vmax * rmax + 0.5 * fcor * rmax**2) * (\n",
      "/Users/simon/tcpips/chavas15/er11/radprof_raw.py:51: RuntimeWarning: invalid value encountered in multiply\n",
      "  V_ER11 = (1 / rr_ER11) * (Vmax * rmax + 0.5 * fcor * rmax**2) * (\n"
     ]
    },
    {
     "name": "stdout",
     "output_type": "stream",
     "text": [
      "'ER11_radprof_raw'  0.44763 s \n",
      "\n",
      "[  676602.96411856   677278.89115565   677954.81819273 ...\n",
      " 33793648.14592583 33794324.07296292 33795000.        ]\n"
     ]
    },
    {
     "name": "stderr",
     "output_type": "stream",
     "text": [
      "/Users/simon/tcpips/chavas15/er11/radprof_raw.py:51: RuntimeWarning: divide by zero encountered in divide\n",
      "  V_ER11 = (1 / rr_ER11) * (Vmax * rmax + 0.5 * fcor * rmax**2) * (\n",
      "/Users/simon/tcpips/chavas15/er11/radprof_raw.py:51: RuntimeWarning: invalid value encountered in multiply\n",
      "  V_ER11 = (1 / rr_ER11) * (Vmax * rmax + 0.5 * fcor * rmax**2) * (\n"
     ]
    },
    {
     "name": "stdout",
     "output_type": "stream",
     "text": [
      "'ER11_radprof_raw'  0.37619 s \n",
      "\n",
      "'ER11_radprof'  4.75619 s \n",
      "\n",
      "intersection sizes 1000 1332 1332000\n",
      "'curveintersect'  2.09431 s \n",
      "\n",
      "Large storm detected. Increasing drfracrm.\n",
      "dr =  675.4770190807633\n",
      "[  547136.38545542   547811.8624745    548487.33949358 ...\n",
      " 33771149.04596184 33771824.52298092 33772500.        ]\n"
     ]
    },
    {
     "name": "stderr",
     "output_type": "stream",
     "text": [
      "/Users/simon/tcpips/chavas15/er11/radprof_raw.py:51: RuntimeWarning: divide by zero encountered in divide\n",
      "  V_ER11 = (1 / rr_ER11) * (Vmax * rmax + 0.5 * fcor * rmax**2) * (\n",
      "/Users/simon/tcpips/chavas15/er11/radprof_raw.py:51: RuntimeWarning: invalid value encountered in multiply\n",
      "  V_ER11 = (1 / rr_ER11) * (Vmax * rmax + 0.5 * fcor * rmax**2) * (\n"
     ]
    },
    {
     "name": "stdout",
     "output_type": "stream",
     "text": [
      "'ER11_radprof_raw'  0.48262 s \n",
      "\n",
      "[  632246.48985959   632921.96687868   633597.44389776 ...\n",
      " 33771149.04596184 33771824.52298092 33772500.        ]\n"
     ]
    },
    {
     "name": "stderr",
     "output_type": "stream",
     "text": [
      "/Users/simon/tcpips/chavas15/er11/radprof_raw.py:51: RuntimeWarning: divide by zero encountered in divide\n",
      "  V_ER11 = (1 / rr_ER11) * (Vmax * rmax + 0.5 * fcor * rmax**2) * (\n",
      "/Users/simon/tcpips/chavas15/er11/radprof_raw.py:51: RuntimeWarning: invalid value encountered in multiply\n",
      "  V_ER11 = (1 / rr_ER11) * (Vmax * rmax + 0.5 * fcor * rmax**2) * (\n"
     ]
    },
    {
     "name": "stdout",
     "output_type": "stream",
     "text": [
      "'ER11_radprof_raw'  0.41681 s \n",
      "\n",
      "[  630895.53582143   631571.01284051   632246.48985959 ...\n",
      " 33771149.04596184 33771824.52298092 33772500.        ]\n"
     ]
    },
    {
     "name": "stderr",
     "output_type": "stream",
     "text": [
      "/Users/simon/tcpips/chavas15/er11/radprof_raw.py:51: RuntimeWarning: divide by zero encountered in divide\n",
      "  V_ER11 = (1 / rr_ER11) * (Vmax * rmax + 0.5 * fcor * rmax**2) * (\n",
      "/Users/simon/tcpips/chavas15/er11/radprof_raw.py:51: RuntimeWarning: invalid value encountered in multiply\n",
      "  V_ER11 = (1 / rr_ER11) * (Vmax * rmax + 0.5 * fcor * rmax**2) * (\n"
     ]
    },
    {
     "name": "stdout",
     "output_type": "stream",
     "text": [
      "'ER11_radprof_raw'  0.42385 s \n",
      "\n",
      "[  630895.53582143   631571.01284051   632246.48985959 ...\n",
      " 33771149.04596184 33771824.52298092 33772500.        ]\n"
     ]
    },
    {
     "name": "stderr",
     "output_type": "stream",
     "text": [
      "/Users/simon/tcpips/chavas15/er11/radprof_raw.py:51: RuntimeWarning: divide by zero encountered in divide\n",
      "  V_ER11 = (1 / rr_ER11) * (Vmax * rmax + 0.5 * fcor * rmax**2) * (\n",
      "/Users/simon/tcpips/chavas15/er11/radprof_raw.py:51: RuntimeWarning: invalid value encountered in multiply\n",
      "  V_ER11 = (1 / rr_ER11) * (Vmax * rmax + 0.5 * fcor * rmax**2) * (\n"
     ]
    },
    {
     "name": "stdout",
     "output_type": "stream",
     "text": [
      "'ER11_radprof_raw'  0.47459 s \n",
      "\n"
     ]
    },
    {
     "name": "stderr",
     "output_type": "stream",
     "text": [
      "/Users/simon/tcpips/chavas15/er11/radprof_raw.py:51: RuntimeWarning: divide by zero encountered in divide\n",
      "  V_ER11 = (1 / rr_ER11) * (Vmax * rmax + 0.5 * fcor * rmax**2) * (\n",
      "/Users/simon/tcpips/chavas15/er11/radprof_raw.py:51: RuntimeWarning: invalid value encountered in multiply\n",
      "  V_ER11 = (1 / rr_ER11) * (Vmax * rmax + 0.5 * fcor * rmax**2) * (\n"
     ]
    },
    {
     "name": "stdout",
     "output_type": "stream",
     "text": [
      "[  660616.52466099   661292.00168007   661967.47869915 ...\n",
      " 33771149.04596184 33771824.52298092 33772500.        ]\n",
      "'ER11_radprof_raw'  0.41340 s \n",
      "\n",
      "[  670748.6799472    671424.15696628   672099.63398536 ...\n",
      " 33771149.04596184 33771824.52298092 33772500.        ]\n"
     ]
    },
    {
     "name": "stderr",
     "output_type": "stream",
     "text": [
      "/Users/simon/tcpips/chavas15/er11/radprof_raw.py:51: RuntimeWarning: divide by zero encountered in divide\n",
      "  V_ER11 = (1 / rr_ER11) * (Vmax * rmax + 0.5 * fcor * rmax**2) * (\n",
      "/Users/simon/tcpips/chavas15/er11/radprof_raw.py:51: RuntimeWarning: invalid value encountered in multiply\n",
      "  V_ER11 = (1 / rr_ER11) * (Vmax * rmax + 0.5 * fcor * rmax**2) * (\n"
     ]
    },
    {
     "name": "stdout",
     "output_type": "stream",
     "text": [
      "'ER11_radprof_raw'  0.40972 s \n",
      "\n",
      "[  674801.54206168   675477.01908076   676152.49609984 ...\n",
      " 33771149.04596184 33771824.52298092 33772500.        ]\n"
     ]
    },
    {
     "name": "stderr",
     "output_type": "stream",
     "text": [
      "/Users/simon/tcpips/chavas15/er11/radprof_raw.py:51: RuntimeWarning: divide by zero encountered in divide\n",
      "  V_ER11 = (1 / rr_ER11) * (Vmax * rmax + 0.5 * fcor * rmax**2) * (\n",
      "/Users/simon/tcpips/chavas15/er11/radprof_raw.py:51: RuntimeWarning: invalid value encountered in multiply\n",
      "  V_ER11 = (1 / rr_ER11) * (Vmax * rmax + 0.5 * fcor * rmax**2) * (\n"
     ]
    },
    {
     "name": "stdout",
     "output_type": "stream",
     "text": [
      "'ER11_radprof_raw'  0.50797 s \n",
      "\n",
      "[  675477.01908076   676152.49609984   676827.97311892 ...\n",
      " 33771149.04596184 33771824.52298092 33772500.        ]\n"
     ]
    },
    {
     "name": "stderr",
     "output_type": "stream",
     "text": [
      "/Users/simon/tcpips/chavas15/er11/radprof_raw.py:51: RuntimeWarning: divide by zero encountered in divide\n",
      "  V_ER11 = (1 / rr_ER11) * (Vmax * rmax + 0.5 * fcor * rmax**2) * (\n",
      "/Users/simon/tcpips/chavas15/er11/radprof_raw.py:51: RuntimeWarning: invalid value encountered in multiply\n",
      "  V_ER11 = (1 / rr_ER11) * (Vmax * rmax + 0.5 * fcor * rmax**2) * (\n"
     ]
    },
    {
     "name": "stdout",
     "output_type": "stream",
     "text": [
      "'ER11_radprof_raw'  0.41724 s \n",
      "\n",
      "[  675477.01908076   676152.49609984   676827.97311892 ...\n",
      " 33771149.04596184 33771824.52298092 33772500.        ]\n"
     ]
    },
    {
     "name": "stderr",
     "output_type": "stream",
     "text": [
      "/Users/simon/tcpips/chavas15/er11/radprof_raw.py:51: RuntimeWarning: divide by zero encountered in divide\n",
      "  V_ER11 = (1 / rr_ER11) * (Vmax * rmax + 0.5 * fcor * rmax**2) * (\n",
      "/Users/simon/tcpips/chavas15/er11/radprof_raw.py:51: RuntimeWarning: invalid value encountered in multiply\n",
      "  V_ER11 = (1 / rr_ER11) * (Vmax * rmax + 0.5 * fcor * rmax**2) * (\n"
     ]
    },
    {
     "name": "stdout",
     "output_type": "stream",
     "text": [
      "'ER11_radprof_raw'  0.46267 s \n",
      "\n"
     ]
    },
    {
     "name": "stderr",
     "output_type": "stream",
     "text": [
      "/Users/simon/tcpips/chavas15/er11/radprof_raw.py:51: RuntimeWarning: divide by zero encountered in divide\n",
      "  V_ER11 = (1 / rr_ER11) * (Vmax * rmax + 0.5 * fcor * rmax**2) * (\n",
      "/Users/simon/tcpips/chavas15/er11/radprof_raw.py:51: RuntimeWarning: invalid value encountered in multiply\n",
      "  V_ER11 = (1 / rr_ER11) * (Vmax * rmax + 0.5 * fcor * rmax**2) * (\n"
     ]
    },
    {
     "name": "stdout",
     "output_type": "stream",
     "text": [
      "[  676152.49609984   676827.97311892   677503.45013801 ...\n",
      " 33771149.04596184 33771824.52298092 33772500.        ]\n",
      "'ER11_radprof_raw'  0.47024 s \n",
      "\n",
      "'ER11_radprof'  5.80321 s \n",
      "\n",
      "intersection sizes 1000 1333 1333000\n",
      "'curveintersect'  2.29074 s \n",
      "\n",
      "Large storm detected. Increasing drfracrm.\n",
      "dr =  675.2520100804032\n",
      "[  546954.12816513   547629.38017521   548304.63218529 ...\n",
      " 33759899.49597984 33760574.74798992 33761250.        ]\n"
     ]
    },
    {
     "name": "stderr",
     "output_type": "stream",
     "text": [
      "/Users/simon/tcpips/chavas15/er11/radprof_raw.py:51: RuntimeWarning: divide by zero encountered in divide\n",
      "  V_ER11 = (1 / rr_ER11) * (Vmax * rmax + 0.5 * fcor * rmax**2) * (\n",
      "/Users/simon/tcpips/chavas15/er11/radprof_raw.py:51: RuntimeWarning: invalid value encountered in multiply\n",
      "  V_ER11 = (1 / rr_ER11) * (Vmax * rmax + 0.5 * fcor * rmax**2) * (\n"
     ]
    },
    {
     "name": "stdout",
     "output_type": "stream",
     "text": [
      "'ER11_radprof_raw'  0.41253 s \n",
      "\n",
      "[  632035.88143526   632711.13344534   633386.38545542 ...\n",
      " 33759899.49597984 33760574.74798992 33761250.        ]\n"
     ]
    },
    {
     "name": "stderr",
     "output_type": "stream",
     "text": [
      "/Users/simon/tcpips/chavas15/er11/radprof_raw.py:51: RuntimeWarning: divide by zero encountered in divide\n",
      "  V_ER11 = (1 / rr_ER11) * (Vmax * rmax + 0.5 * fcor * rmax**2) * (\n",
      "/Users/simon/tcpips/chavas15/er11/radprof_raw.py:51: RuntimeWarning: invalid value encountered in multiply\n",
      "  V_ER11 = (1 / rr_ER11) * (Vmax * rmax + 0.5 * fcor * rmax**2) * (\n"
     ]
    },
    {
     "name": "stdout",
     "output_type": "stream",
     "text": [
      "'ER11_radprof_raw'  0.47596 s \n",
      "\n",
      "[  630685.3774151    631360.62942518   632035.88143526 ...\n",
      " 33759899.49597984 33760574.74798992 33761250.        ]\n"
     ]
    },
    {
     "name": "stderr",
     "output_type": "stream",
     "text": [
      "/Users/simon/tcpips/chavas15/er11/radprof_raw.py:51: RuntimeWarning: divide by zero encountered in divide\n",
      "  V_ER11 = (1 / rr_ER11) * (Vmax * rmax + 0.5 * fcor * rmax**2) * (\n",
      "/Users/simon/tcpips/chavas15/er11/radprof_raw.py:51: RuntimeWarning: invalid value encountered in multiply\n",
      "  V_ER11 = (1 / rr_ER11) * (Vmax * rmax + 0.5 * fcor * rmax**2) * (\n"
     ]
    },
    {
     "name": "stdout",
     "output_type": "stream",
     "text": [
      "'ER11_radprof_raw'  0.39703 s \n",
      "\n",
      "[  630685.3774151    631360.62942518   632035.88143526 ...\n",
      " 33759899.49597984 33760574.74798992 33761250.        ]\n"
     ]
    },
    {
     "name": "stderr",
     "output_type": "stream",
     "text": [
      "/Users/simon/tcpips/chavas15/er11/radprof_raw.py:51: RuntimeWarning: divide by zero encountered in divide\n",
      "  V_ER11 = (1 / rr_ER11) * (Vmax * rmax + 0.5 * fcor * rmax**2) * (\n",
      "/Users/simon/tcpips/chavas15/er11/radprof_raw.py:51: RuntimeWarning: invalid value encountered in multiply\n",
      "  V_ER11 = (1 / rr_ER11) * (Vmax * rmax + 0.5 * fcor * rmax**2) * (\n"
     ]
    },
    {
     "name": "stdout",
     "output_type": "stream",
     "text": [
      "'ER11_radprof_raw'  0.39933 s \n",
      "\n",
      "[  660396.46585863   661071.71786871   661746.9698788  ...\n",
      " 33759899.49597984 33760574.74798992 33761250.        ]\n"
     ]
    },
    {
     "name": "stderr",
     "output_type": "stream",
     "text": [
      "/Users/simon/tcpips/chavas15/er11/radprof_raw.py:51: RuntimeWarning: divide by zero encountered in divide\n",
      "  V_ER11 = (1 / rr_ER11) * (Vmax * rmax + 0.5 * fcor * rmax**2) * (\n",
      "/Users/simon/tcpips/chavas15/er11/radprof_raw.py:51: RuntimeWarning: invalid value encountered in multiply\n",
      "  V_ER11 = (1 / rr_ER11) * (Vmax * rmax + 0.5 * fcor * rmax**2) * (\n"
     ]
    },
    {
     "name": "stdout",
     "output_type": "stream",
     "text": [
      "'ER11_radprof_raw'  0.42623 s \n",
      "\n"
     ]
    },
    {
     "name": "stderr",
     "output_type": "stream",
     "text": [
      "/Users/simon/tcpips/chavas15/er11/radprof_raw.py:51: RuntimeWarning: divide by zero encountered in divide\n",
      "  V_ER11 = (1 / rr_ER11) * (Vmax * rmax + 0.5 * fcor * rmax**2) * (\n",
      "/Users/simon/tcpips/chavas15/er11/radprof_raw.py:51: RuntimeWarning: invalid value encountered in multiply\n",
      "  V_ER11 = (1 / rr_ER11) * (Vmax * rmax + 0.5 * fcor * rmax**2) * (\n"
     ]
    },
    {
     "name": "stdout",
     "output_type": "stream",
     "text": [
      "[  670525.24600984   671200.49801992   671875.75003    ...\n",
      " 33759899.49597984 33760574.74798992 33761250.        ]\n",
      "'ER11_radprof_raw'  0.40559 s \n",
      "\n",
      "[  674576.75807032   675252.0100804    675927.26209048 ...\n",
      " 33759899.49597984 33760574.74798992 33761250.        ]\n"
     ]
    },
    {
     "name": "stderr",
     "output_type": "stream",
     "text": [
      "/Users/simon/tcpips/chavas15/er11/radprof_raw.py:51: RuntimeWarning: divide by zero encountered in divide\n",
      "  V_ER11 = (1 / rr_ER11) * (Vmax * rmax + 0.5 * fcor * rmax**2) * (\n",
      "/Users/simon/tcpips/chavas15/er11/radprof_raw.py:51: RuntimeWarning: invalid value encountered in multiply\n",
      "  V_ER11 = (1 / rr_ER11) * (Vmax * rmax + 0.5 * fcor * rmax**2) * (\n"
     ]
    },
    {
     "name": "stdout",
     "output_type": "stream",
     "text": [
      "'ER11_radprof_raw'  0.39828 s \n",
      "\n",
      "[  675252.0100804    675927.26209048   676602.51410056 ...\n",
      " 33759899.49597984 33760574.74798992 33761250.        ]\n"
     ]
    },
    {
     "name": "stderr",
     "output_type": "stream",
     "text": [
      "/Users/simon/tcpips/chavas15/er11/radprof_raw.py:51: RuntimeWarning: divide by zero encountered in divide\n",
      "  V_ER11 = (1 / rr_ER11) * (Vmax * rmax + 0.5 * fcor * rmax**2) * (\n",
      "/Users/simon/tcpips/chavas15/er11/radprof_raw.py:51: RuntimeWarning: invalid value encountered in multiply\n",
      "  V_ER11 = (1 / rr_ER11) * (Vmax * rmax + 0.5 * fcor * rmax**2) * (\n"
     ]
    },
    {
     "name": "stdout",
     "output_type": "stream",
     "text": [
      "'ER11_radprof_raw'  0.45609 s \n",
      "\n",
      "[  675252.0100804    675927.26209048   676602.51410056 ...\n",
      " 33759899.49597984 33760574.74798992 33761250.        ]\n"
     ]
    },
    {
     "name": "stderr",
     "output_type": "stream",
     "text": [
      "/Users/simon/tcpips/chavas15/er11/radprof_raw.py:51: RuntimeWarning: divide by zero encountered in divide\n",
      "  V_ER11 = (1 / rr_ER11) * (Vmax * rmax + 0.5 * fcor * rmax**2) * (\n",
      "/Users/simon/tcpips/chavas15/er11/radprof_raw.py:51: RuntimeWarning: invalid value encountered in multiply\n",
      "  V_ER11 = (1 / rr_ER11) * (Vmax * rmax + 0.5 * fcor * rmax**2) * (\n"
     ]
    },
    {
     "name": "stdout",
     "output_type": "stream",
     "text": [
      "'ER11_radprof_raw'  0.38463 s \n",
      "\n",
      "[  675927.26209048   676602.51410056   677277.76611064 ...\n",
      " 33759899.49597984 33760574.74798992 33761250.        ]\n"
     ]
    },
    {
     "name": "stderr",
     "output_type": "stream",
     "text": [
      "/Users/simon/tcpips/chavas15/er11/radprof_raw.py:51: RuntimeWarning: divide by zero encountered in divide\n",
      "  V_ER11 = (1 / rr_ER11) * (Vmax * rmax + 0.5 * fcor * rmax**2) * (\n",
      "/Users/simon/tcpips/chavas15/er11/radprof_raw.py:51: RuntimeWarning: invalid value encountered in multiply\n",
      "  V_ER11 = (1 / rr_ER11) * (Vmax * rmax + 0.5 * fcor * rmax**2) * (\n"
     ]
    },
    {
     "name": "stdout",
     "output_type": "stream",
     "text": [
      "'ER11_radprof_raw'  0.39127 s \n",
      "\n",
      "'ER11_radprof'  5.32313 s \n",
      "\n",
      "intersection sizes 1000 1333 1333000\n",
      "'curveintersect'  2.05903 s \n",
      "\n",
      "Large storm detected. Increasing drfracrm.\n",
      "dr =  675.1395055802232\n",
      "[  546862.99951998   547538.13902556   548213.27853114 ...\n",
      " 33754274.72098883 33754949.86049441 33755624.99999999]\n"
     ]
    },
    {
     "name": "stderr",
     "output_type": "stream",
     "text": [
      "/Users/simon/tcpips/chavas15/er11/radprof_raw.py:51: RuntimeWarning: divide by zero encountered in divide\n",
      "  V_ER11 = (1 / rr_ER11) * (Vmax * rmax + 0.5 * fcor * rmax**2) * (\n",
      "/Users/simon/tcpips/chavas15/er11/radprof_raw.py:51: RuntimeWarning: invalid value encountered in multiply\n",
      "  V_ER11 = (1 / rr_ER11) * (Vmax * rmax + 0.5 * fcor * rmax**2) * (\n"
     ]
    },
    {
     "name": "stdout",
     "output_type": "stream",
     "text": [
      "'ER11_radprof_raw'  0.37168 s \n",
      "\n",
      "[  631930.57722309   632605.71672867   633280.85623425 ...\n",
      " 33754274.72098883 33754949.86049441 33755624.99999999]\n"
     ]
    },
    {
     "name": "stderr",
     "output_type": "stream",
     "text": [
      "/Users/simon/tcpips/chavas15/er11/radprof_raw.py:51: RuntimeWarning: divide by zero encountered in divide\n",
      "  V_ER11 = (1 / rr_ER11) * (Vmax * rmax + 0.5 * fcor * rmax**2) * (\n",
      "/Users/simon/tcpips/chavas15/er11/radprof_raw.py:51: RuntimeWarning: invalid value encountered in multiply\n",
      "  V_ER11 = (1 / rr_ER11) * (Vmax * rmax + 0.5 * fcor * rmax**2) * (\n"
     ]
    },
    {
     "name": "stdout",
     "output_type": "stream",
     "text": [
      "'ER11_radprof_raw'  0.40516 s \n",
      "\n",
      "[  630580.29821193   631255.43771751   631930.57722309 ...\n",
      " 33754274.72098883 33754949.86049441 33755624.99999999]\n"
     ]
    },
    {
     "name": "stderr",
     "output_type": "stream",
     "text": [
      "/Users/simon/tcpips/chavas15/er11/radprof_raw.py:51: RuntimeWarning: divide by zero encountered in divide\n",
      "  V_ER11 = (1 / rr_ER11) * (Vmax * rmax + 0.5 * fcor * rmax**2) * (\n",
      "/Users/simon/tcpips/chavas15/er11/radprof_raw.py:51: RuntimeWarning: invalid value encountered in multiply\n",
      "  V_ER11 = (1 / rr_ER11) * (Vmax * rmax + 0.5 * fcor * rmax**2) * (\n"
     ]
    },
    {
     "name": "stdout",
     "output_type": "stream",
     "text": [
      "'ER11_radprof_raw'  0.37457 s \n",
      "\n",
      "[  630580.29821193   631255.43771751   631930.57722309 ...\n",
      " 33754274.72098883 33754949.86049441 33755624.99999999]\n"
     ]
    },
    {
     "name": "stderr",
     "output_type": "stream",
     "text": [
      "/Users/simon/tcpips/chavas15/er11/radprof_raw.py:51: RuntimeWarning: divide by zero encountered in divide\n",
      "  V_ER11 = (1 / rr_ER11) * (Vmax * rmax + 0.5 * fcor * rmax**2) * (\n",
      "/Users/simon/tcpips/chavas15/er11/radprof_raw.py:51: RuntimeWarning: invalid value encountered in multiply\n",
      "  V_ER11 = (1 / rr_ER11) * (Vmax * rmax + 0.5 * fcor * rmax**2) * (\n"
     ]
    },
    {
     "name": "stdout",
     "output_type": "stream",
     "text": [
      "'ER11_radprof_raw'  0.44549 s \n",
      "\n",
      "[  660286.43645746   660961.57596304   661636.71546862 ...\n",
      " 33754274.72098883 33754949.86049441 33755624.99999999]\n"
     ]
    },
    {
     "name": "stderr",
     "output_type": "stream",
     "text": [
      "/Users/simon/tcpips/chavas15/er11/radprof_raw.py:51: RuntimeWarning: divide by zero encountered in divide\n",
      "  V_ER11 = (1 / rr_ER11) * (Vmax * rmax + 0.5 * fcor * rmax**2) * (\n",
      "/Users/simon/tcpips/chavas15/er11/radprof_raw.py:51: RuntimeWarning: invalid value encountered in multiply\n",
      "  V_ER11 = (1 / rr_ER11) * (Vmax * rmax + 0.5 * fcor * rmax**2) * (\n"
     ]
    },
    {
     "name": "stdout",
     "output_type": "stream",
     "text": [
      "'ER11_radprof_raw'  0.37953 s \n",
      "\n",
      "[  670413.52904116   671088.66854674   671763.80805232 ...\n",
      " 33754274.72098883 33754949.86049441 33755624.99999999]\n"
     ]
    },
    {
     "name": "stderr",
     "output_type": "stream",
     "text": [
      "/Users/simon/tcpips/chavas15/er11/radprof_raw.py:51: RuntimeWarning: divide by zero encountered in divide\n",
      "  V_ER11 = (1 / rr_ER11) * (Vmax * rmax + 0.5 * fcor * rmax**2) * (\n",
      "/Users/simon/tcpips/chavas15/er11/radprof_raw.py:51: RuntimeWarning: invalid value encountered in multiply\n",
      "  V_ER11 = (1 / rr_ER11) * (Vmax * rmax + 0.5 * fcor * rmax**2) * (\n"
     ]
    },
    {
     "name": "stdout",
     "output_type": "stream",
     "text": [
      "'ER11_radprof_raw'  0.40788 s \n",
      "\n",
      "[  674464.36607464   675139.50558022   675814.6450858  ...\n",
      " 33754274.72098883 33754949.86049441 33755624.99999999]\n"
     ]
    },
    {
     "name": "stderr",
     "output_type": "stream",
     "text": [
      "/Users/simon/tcpips/chavas15/er11/radprof_raw.py:51: RuntimeWarning: divide by zero encountered in divide\n",
      "  V_ER11 = (1 / rr_ER11) * (Vmax * rmax + 0.5 * fcor * rmax**2) * (\n",
      "/Users/simon/tcpips/chavas15/er11/radprof_raw.py:51: RuntimeWarning: invalid value encountered in multiply\n",
      "  V_ER11 = (1 / rr_ER11) * (Vmax * rmax + 0.5 * fcor * rmax**2) * (\n"
     ]
    },
    {
     "name": "stdout",
     "output_type": "stream",
     "text": [
      "'ER11_radprof_raw'  0.46858 s \n",
      "\n",
      "[  675139.50558022   675814.6450858    676489.78459138 ...\n",
      " 33754274.72098883 33754949.86049441 33755624.99999999]\n"
     ]
    },
    {
     "name": "stderr",
     "output_type": "stream",
     "text": [
      "/Users/simon/tcpips/chavas15/er11/radprof_raw.py:51: RuntimeWarning: divide by zero encountered in divide\n",
      "  V_ER11 = (1 / rr_ER11) * (Vmax * rmax + 0.5 * fcor * rmax**2) * (\n",
      "/Users/simon/tcpips/chavas15/er11/radprof_raw.py:51: RuntimeWarning: invalid value encountered in multiply\n",
      "  V_ER11 = (1 / rr_ER11) * (Vmax * rmax + 0.5 * fcor * rmax**2) * (\n"
     ]
    },
    {
     "name": "stdout",
     "output_type": "stream",
     "text": [
      "'ER11_radprof_raw'  0.37220 s \n",
      "\n",
      "[  675814.6450858    676489.78459138   677164.92409696 ...\n",
      " 33754274.72098883 33754949.86049441 33755624.99999999]\n"
     ]
    },
    {
     "name": "stderr",
     "output_type": "stream",
     "text": [
      "/Users/simon/tcpips/chavas15/er11/radprof_raw.py:51: RuntimeWarning: divide by zero encountered in divide\n",
      "  V_ER11 = (1 / rr_ER11) * (Vmax * rmax + 0.5 * fcor * rmax**2) * (\n",
      "/Users/simon/tcpips/chavas15/er11/radprof_raw.py:51: RuntimeWarning: invalid value encountered in multiply\n",
      "  V_ER11 = (1 / rr_ER11) * (Vmax * rmax + 0.5 * fcor * rmax**2) * (\n"
     ]
    },
    {
     "name": "stdout",
     "output_type": "stream",
     "text": [
      "'ER11_radprof_raw'  0.37557 s \n",
      "\n",
      "'ER11_radprof'  4.53708 s \n",
      "\n",
      "intersection sizes 1000 1334 1334000\n",
      "'curveintersect'  2.11025 s \n",
      "\n",
      "Large storm detected. Increasing drfracrm.\n",
      "dr =  675.0832533301333\n",
      "[  546817.43519741   547492.51845074   548167.60170407 ...\n",
      " 33751462.33349334 33752137.41674667 33752812.5       ]\n"
     ]
    },
    {
     "name": "stderr",
     "output_type": "stream",
     "text": [
      "/Users/simon/tcpips/chavas15/er11/radprof_raw.py:51: RuntimeWarning: divide by zero encountered in divide\n",
      "  V_ER11 = (1 / rr_ER11) * (Vmax * rmax + 0.5 * fcor * rmax**2) * (\n",
      "/Users/simon/tcpips/chavas15/er11/radprof_raw.py:51: RuntimeWarning: invalid value encountered in multiply\n",
      "  V_ER11 = (1 / rr_ER11) * (Vmax * rmax + 0.5 * fcor * rmax**2) * (\n"
     ]
    },
    {
     "name": "stdout",
     "output_type": "stream",
     "text": [
      "'ER11_radprof_raw'  0.43263 s \n",
      "\n",
      "[  631877.925117     632553.00837033   633228.09162366 ...\n",
      " 33751462.33349334 33752137.41674667 33752812.5       ]\n"
     ]
    },
    {
     "name": "stderr",
     "output_type": "stream",
     "text": [
      "/Users/simon/tcpips/chavas15/er11/radprof_raw.py:51: RuntimeWarning: divide by zero encountered in divide\n",
      "  V_ER11 = (1 / rr_ER11) * (Vmax * rmax + 0.5 * fcor * rmax**2) * (\n",
      "/Users/simon/tcpips/chavas15/er11/radprof_raw.py:51: RuntimeWarning: invalid value encountered in multiply\n",
      "  V_ER11 = (1 / rr_ER11) * (Vmax * rmax + 0.5 * fcor * rmax**2) * (\n"
     ]
    },
    {
     "name": "stdout",
     "output_type": "stream",
     "text": [
      "'ER11_radprof_raw'  0.41581 s \n",
      "\n",
      "[  630527.75861034   631202.84186367   631877.925117   ...\n",
      " 33751462.33349334 33752137.41674667 33752812.5       ]\n"
     ]
    },
    {
     "name": "stderr",
     "output_type": "stream",
     "text": [
      "/Users/simon/tcpips/chavas15/er11/radprof_raw.py:51: RuntimeWarning: divide by zero encountered in divide\n",
      "  V_ER11 = (1 / rr_ER11) * (Vmax * rmax + 0.5 * fcor * rmax**2) * (\n",
      "/Users/simon/tcpips/chavas15/er11/radprof_raw.py:51: RuntimeWarning: invalid value encountered in multiply\n",
      "  V_ER11 = (1 / rr_ER11) * (Vmax * rmax + 0.5 * fcor * rmax**2) * (\n"
     ]
    },
    {
     "name": "stdout",
     "output_type": "stream",
     "text": [
      "'ER11_radprof_raw'  0.36859 s \n",
      "\n",
      "[  630527.75861034   631202.84186367   631877.925117   ...\n",
      " 33751462.33349334 33752137.41674667 33752812.5       ]\n"
     ]
    },
    {
     "name": "stderr",
     "output_type": "stream",
     "text": [
      "/Users/simon/tcpips/chavas15/er11/radprof_raw.py:51: RuntimeWarning: divide by zero encountered in divide\n",
      "  V_ER11 = (1 / rr_ER11) * (Vmax * rmax + 0.5 * fcor * rmax**2) * (\n",
      "/Users/simon/tcpips/chavas15/er11/radprof_raw.py:51: RuntimeWarning: invalid value encountered in multiply\n",
      "  V_ER11 = (1 / rr_ER11) * (Vmax * rmax + 0.5 * fcor * rmax**2) * (\n"
     ]
    },
    {
     "name": "stdout",
     "output_type": "stream",
     "text": [
      "'ER11_radprof_raw'  0.43654 s \n",
      "\n",
      "[  660231.42175687   660906.5050102    661581.58826353 ...\n",
      " 33751462.33349334 33752137.41674667 33752812.5       ]\n"
     ]
    },
    {
     "name": "stderr",
     "output_type": "stream",
     "text": [
      "/Users/simon/tcpips/chavas15/er11/radprof_raw.py:51: RuntimeWarning: divide by zero encountered in divide\n",
      "  V_ER11 = (1 / rr_ER11) * (Vmax * rmax + 0.5 * fcor * rmax**2) * (\n",
      "/Users/simon/tcpips/chavas15/er11/radprof_raw.py:51: RuntimeWarning: invalid value encountered in multiply\n",
      "  V_ER11 = (1 / rr_ER11) * (Vmax * rmax + 0.5 * fcor * rmax**2) * (\n"
     ]
    },
    {
     "name": "stdout",
     "output_type": "stream",
     "text": [
      "'ER11_radprof_raw'  0.36721 s \n",
      "\n",
      "[  670357.67055682   671032.75381015   671707.83706348 ...\n",
      " 33751462.33349334 33752137.41674667 33752812.5       ]\n"
     ]
    },
    {
     "name": "stderr",
     "output_type": "stream",
     "text": [
      "/Users/simon/tcpips/chavas15/er11/radprof_raw.py:51: RuntimeWarning: divide by zero encountered in divide\n",
      "  V_ER11 = (1 / rr_ER11) * (Vmax * rmax + 0.5 * fcor * rmax**2) * (\n",
      "/Users/simon/tcpips/chavas15/er11/radprof_raw.py:51: RuntimeWarning: invalid value encountered in multiply\n",
      "  V_ER11 = (1 / rr_ER11) * (Vmax * rmax + 0.5 * fcor * rmax**2) * (\n"
     ]
    },
    {
     "name": "stdout",
     "output_type": "stream",
     "text": [
      "'ER11_radprof_raw'  0.36474 s \n",
      "\n",
      "[  674408.1700768    675083.25333013   675758.33658346 ...\n",
      " 33751462.33349334 33752137.41674667 33752812.5       ]\n"
     ]
    },
    {
     "name": "stderr",
     "output_type": "stream",
     "text": [
      "/Users/simon/tcpips/chavas15/er11/radprof_raw.py:51: RuntimeWarning: divide by zero encountered in divide\n",
      "  V_ER11 = (1 / rr_ER11) * (Vmax * rmax + 0.5 * fcor * rmax**2) * (\n",
      "/Users/simon/tcpips/chavas15/er11/radprof_raw.py:51: RuntimeWarning: invalid value encountered in multiply\n",
      "  V_ER11 = (1 / rr_ER11) * (Vmax * rmax + 0.5 * fcor * rmax**2) * (\n"
     ]
    },
    {
     "name": "stdout",
     "output_type": "stream",
     "text": [
      "'ER11_radprof_raw'  0.43559 s \n",
      "\n",
      "[  675083.25333013   675758.33658346   676433.41983679 ...\n",
      " 33751462.33349334 33752137.41674667 33752812.5       ]\n"
     ]
    },
    {
     "name": "stderr",
     "output_type": "stream",
     "text": [
      "/Users/simon/tcpips/chavas15/er11/radprof_raw.py:51: RuntimeWarning: divide by zero encountered in divide\n",
      "  V_ER11 = (1 / rr_ER11) * (Vmax * rmax + 0.5 * fcor * rmax**2) * (\n",
      "/Users/simon/tcpips/chavas15/er11/radprof_raw.py:51: RuntimeWarning: invalid value encountered in multiply\n",
      "  V_ER11 = (1 / rr_ER11) * (Vmax * rmax + 0.5 * fcor * rmax**2) * (\n"
     ]
    },
    {
     "name": "stdout",
     "output_type": "stream",
     "text": [
      "'ER11_radprof_raw'  0.36873 s \n",
      "\n",
      "[  675758.33658346   676433.41983679   677108.50309012 ...\n",
      " 33751462.33349334 33752137.41674667 33752812.5       ]\n"
     ]
    },
    {
     "name": "stderr",
     "output_type": "stream",
     "text": [
      "/Users/simon/tcpips/chavas15/er11/radprof_raw.py:51: RuntimeWarning: divide by zero encountered in divide\n",
      "  V_ER11 = (1 / rr_ER11) * (Vmax * rmax + 0.5 * fcor * rmax**2) * (\n",
      "/Users/simon/tcpips/chavas15/er11/radprof_raw.py:51: RuntimeWarning: invalid value encountered in multiply\n",
      "  V_ER11 = (1 / rr_ER11) * (Vmax * rmax + 0.5 * fcor * rmax**2) * (\n"
     ]
    },
    {
     "name": "stdout",
     "output_type": "stream",
     "text": [
      "'ER11_radprof_raw'  0.35626 s \n",
      "\n",
      "'ER11_radprof'  4.45088 s \n",
      "\n",
      "intersection sizes 1000 1334 1334000\n",
      "'curveintersect'  2.06798 s \n",
      "\n",
      "Large storm detected. Increasing drfracrm.\n",
      "dr =  675.0551272050881\n",
      "[  546794.65303612   547469.70816333   548144.76329053 ...\n",
      " 33750056.13974559 33750731.19487279 33751406.24999999]\n"
     ]
    },
    {
     "name": "stderr",
     "output_type": "stream",
     "text": [
      "/Users/simon/tcpips/chavas15/er11/radprof_raw.py:51: RuntimeWarning: divide by zero encountered in divide\n",
      "  V_ER11 = (1 / rr_ER11) * (Vmax * rmax + 0.5 * fcor * rmax**2) * (\n",
      "/Users/simon/tcpips/chavas15/er11/radprof_raw.py:51: RuntimeWarning: invalid value encountered in multiply\n",
      "  V_ER11 = (1 / rr_ER11) * (Vmax * rmax + 0.5 * fcor * rmax**2) * (\n"
     ]
    },
    {
     "name": "stdout",
     "output_type": "stream",
     "text": [
      "'ER11_radprof_raw'  0.41351 s \n",
      "\n",
      "[  631851.59906396   632526.65419117   633201.70931837 ...\n",
      " 33750056.13974559 33750731.19487279 33751406.24999999]\n"
     ]
    },
    {
     "name": "stderr",
     "output_type": "stream",
     "text": [
      "/Users/simon/tcpips/chavas15/er11/radprof_raw.py:51: RuntimeWarning: divide by zero encountered in divide\n",
      "  V_ER11 = (1 / rr_ER11) * (Vmax * rmax + 0.5 * fcor * rmax**2) * (\n",
      "/Users/simon/tcpips/chavas15/er11/radprof_raw.py:51: RuntimeWarning: invalid value encountered in multiply\n",
      "  V_ER11 = (1 / rr_ER11) * (Vmax * rmax + 0.5 * fcor * rmax**2) * (\n"
     ]
    },
    {
     "name": "stdout",
     "output_type": "stream",
     "text": [
      "'ER11_radprof_raw'  0.44106 s \n",
      "\n",
      "[  630501.48880955   631176.54393676   631851.59906396 ...\n",
      " 33750056.13974559 33750731.19487279 33751406.24999999]\n"
     ]
    },
    {
     "name": "stderr",
     "output_type": "stream",
     "text": [
      "/Users/simon/tcpips/chavas15/er11/radprof_raw.py:51: RuntimeWarning: divide by zero encountered in divide\n",
      "  V_ER11 = (1 / rr_ER11) * (Vmax * rmax + 0.5 * fcor * rmax**2) * (\n",
      "/Users/simon/tcpips/chavas15/er11/radprof_raw.py:51: RuntimeWarning: invalid value encountered in multiply\n",
      "  V_ER11 = (1 / rr_ER11) * (Vmax * rmax + 0.5 * fcor * rmax**2) * (\n"
     ]
    },
    {
     "name": "stdout",
     "output_type": "stream",
     "text": [
      "'ER11_radprof_raw'  0.42200 s \n",
      "\n",
      "[  630501.48880955   631176.54393676   631851.59906396 ...\n",
      " 33750056.13974559 33750731.19487279 33751406.24999999]\n"
     ]
    },
    {
     "name": "stderr",
     "output_type": "stream",
     "text": [
      "/Users/simon/tcpips/chavas15/er11/radprof_raw.py:51: RuntimeWarning: divide by zero encountered in divide\n",
      "  V_ER11 = (1 / rr_ER11) * (Vmax * rmax + 0.5 * fcor * rmax**2) * (\n",
      "/Users/simon/tcpips/chavas15/er11/radprof_raw.py:51: RuntimeWarning: invalid value encountered in multiply\n",
      "  V_ER11 = (1 / rr_ER11) * (Vmax * rmax + 0.5 * fcor * rmax**2) * (\n"
     ]
    },
    {
     "name": "stdout",
     "output_type": "stream",
     "text": [
      "'ER11_radprof_raw'  0.51466 s \n",
      "\n",
      "[  660203.91440658   660878.96953378   661554.02466099 ...\n",
      " 33750056.13974559 33750731.19487279 33751406.24999999]\n"
     ]
    },
    {
     "name": "stderr",
     "output_type": "stream",
     "text": [
      "/Users/simon/tcpips/chavas15/er11/radprof_raw.py:51: RuntimeWarning: divide by zero encountered in divide\n",
      "  V_ER11 = (1 / rr_ER11) * (Vmax * rmax + 0.5 * fcor * rmax**2) * (\n",
      "/Users/simon/tcpips/chavas15/er11/radprof_raw.py:51: RuntimeWarning: invalid value encountered in multiply\n",
      "  V_ER11 = (1 / rr_ER11) * (Vmax * rmax + 0.5 * fcor * rmax**2) * (\n"
     ]
    },
    {
     "name": "stdout",
     "output_type": "stream",
     "text": [
      "'ER11_radprof_raw'  0.42002 s \n",
      "\n"
     ]
    },
    {
     "name": "stderr",
     "output_type": "stream",
     "text": [
      "/Users/simon/tcpips/chavas15/er11/radprof_raw.py:51: RuntimeWarning: divide by zero encountered in divide\n",
      "  V_ER11 = (1 / rr_ER11) * (Vmax * rmax + 0.5 * fcor * rmax**2) * (\n",
      "/Users/simon/tcpips/chavas15/er11/radprof_raw.py:51: RuntimeWarning: invalid value encountered in multiply\n",
      "  V_ER11 = (1 / rr_ER11) * (Vmax * rmax + 0.5 * fcor * rmax**2) * (\n"
     ]
    },
    {
     "name": "stdout",
     "output_type": "stream",
     "text": [
      "[  670329.74131465   671004.79644186   671679.85156906 ...\n",
      " 33750056.13974559 33750731.19487279 33751406.24999999]\n",
      "'ER11_radprof_raw'  0.44113 s \n",
      "\n",
      "[  674380.07207788   675055.12720509   675730.18233229 ...\n",
      " 33750056.13974559 33750731.19487279 33751406.24999999]\n"
     ]
    },
    {
     "name": "stderr",
     "output_type": "stream",
     "text": [
      "/Users/simon/tcpips/chavas15/er11/radprof_raw.py:51: RuntimeWarning: divide by zero encountered in divide\n",
      "  V_ER11 = (1 / rr_ER11) * (Vmax * rmax + 0.5 * fcor * rmax**2) * (\n",
      "/Users/simon/tcpips/chavas15/er11/radprof_raw.py:51: RuntimeWarning: invalid value encountered in multiply\n",
      "  V_ER11 = (1 / rr_ER11) * (Vmax * rmax + 0.5 * fcor * rmax**2) * (\n"
     ]
    },
    {
     "name": "stdout",
     "output_type": "stream",
     "text": [
      "'ER11_radprof_raw'  0.49379 s \n",
      "\n",
      "[  675055.12720509   675730.18233229   676405.2374595  ...\n",
      " 33750056.13974559 33750731.19487279 33751406.24999999]\n"
     ]
    },
    {
     "name": "stderr",
     "output_type": "stream",
     "text": [
      "/Users/simon/tcpips/chavas15/er11/radprof_raw.py:51: RuntimeWarning: divide by zero encountered in divide\n",
      "  V_ER11 = (1 / rr_ER11) * (Vmax * rmax + 0.5 * fcor * rmax**2) * (\n",
      "/Users/simon/tcpips/chavas15/er11/radprof_raw.py:51: RuntimeWarning: invalid value encountered in multiply\n",
      "  V_ER11 = (1 / rr_ER11) * (Vmax * rmax + 0.5 * fcor * rmax**2) * (\n"
     ]
    },
    {
     "name": "stdout",
     "output_type": "stream",
     "text": [
      "'ER11_radprof_raw'  0.41921 s \n",
      "\n",
      "[  675730.18233229   676405.2374595    677080.2925867  ...\n",
      " 33750056.13974559 33750731.19487279 33751406.24999999]\n"
     ]
    },
    {
     "name": "stderr",
     "output_type": "stream",
     "text": [
      "/Users/simon/tcpips/chavas15/er11/radprof_raw.py:51: RuntimeWarning: divide by zero encountered in divide\n",
      "  V_ER11 = (1 / rr_ER11) * (Vmax * rmax + 0.5 * fcor * rmax**2) * (\n",
      "/Users/simon/tcpips/chavas15/er11/radprof_raw.py:51: RuntimeWarning: invalid value encountered in multiply\n",
      "  V_ER11 = (1 / rr_ER11) * (Vmax * rmax + 0.5 * fcor * rmax**2) * (\n"
     ]
    },
    {
     "name": "stdout",
     "output_type": "stream",
     "text": [
      "'ER11_radprof_raw'  0.41851 s \n",
      "\n",
      "'ER11_radprof'  4.96522 s \n",
      "\n",
      "intersection sizes 1000 1334 1334000\n",
      "'curveintersect'  2.19551 s \n",
      "\n",
      "Large storm detected. Increasing drfracrm.\n",
      "dr =  675.0410641425657\n",
      "[  546783.26195548   547458.30301962   548133.34408376 ...\n",
      " 33749353.04287171 33750028.08393586 33750703.125     ]\n"
     ]
    },
    {
     "name": "stderr",
     "output_type": "stream",
     "text": [
      "/Users/simon/tcpips/chavas15/er11/radprof_raw.py:51: RuntimeWarning: divide by zero encountered in divide\n",
      "  V_ER11 = (1 / rr_ER11) * (Vmax * rmax + 0.5 * fcor * rmax**2) * (\n",
      "/Users/simon/tcpips/chavas15/er11/radprof_raw.py:51: RuntimeWarning: invalid value encountered in multiply\n",
      "  V_ER11 = (1 / rr_ER11) * (Vmax * rmax + 0.5 * fcor * rmax**2) * (\n"
     ]
    },
    {
     "name": "stdout",
     "output_type": "stream",
     "text": [
      "'ER11_radprof_raw'  0.45611 s \n",
      "\n",
      "[  631838.43603744   632513.47710158   633188.51816573 ...\n",
      " 33749353.04287171 33750028.08393586 33750703.125     ]\n"
     ]
    },
    {
     "name": "stderr",
     "output_type": "stream",
     "text": [
      "/Users/simon/tcpips/chavas15/er11/radprof_raw.py:51: RuntimeWarning: divide by zero encountered in divide\n",
      "  V_ER11 = (1 / rr_ER11) * (Vmax * rmax + 0.5 * fcor * rmax**2) * (\n",
      "/Users/simon/tcpips/chavas15/er11/radprof_raw.py:51: RuntimeWarning: invalid value encountered in multiply\n",
      "  V_ER11 = (1 / rr_ER11) * (Vmax * rmax + 0.5 * fcor * rmax**2) * (\n"
     ]
    },
    {
     "name": "stdout",
     "output_type": "stream",
     "text": [
      "'ER11_radprof_raw'  0.37720 s \n",
      "\n",
      "[  630488.35390916   631163.3949733    631838.43603744 ...\n",
      " 33749353.04287171 33750028.08393586 33750703.125     ]\n"
     ]
    },
    {
     "name": "stderr",
     "output_type": "stream",
     "text": [
      "/Users/simon/tcpips/chavas15/er11/radprof_raw.py:51: RuntimeWarning: divide by zero encountered in divide\n",
      "  V_ER11 = (1 / rr_ER11) * (Vmax * rmax + 0.5 * fcor * rmax**2) * (\n",
      "/Users/simon/tcpips/chavas15/er11/radprof_raw.py:51: RuntimeWarning: invalid value encountered in multiply\n",
      "  V_ER11 = (1 / rr_ER11) * (Vmax * rmax + 0.5 * fcor * rmax**2) * (\n"
     ]
    },
    {
     "name": "stdout",
     "output_type": "stream",
     "text": [
      "'ER11_radprof_raw'  0.37895 s \n",
      "\n",
      "[  630488.35390916   631163.3949733    631838.43603744 ...\n",
      " 33749353.04287171 33750028.08393586 33750703.125     ]\n"
     ]
    },
    {
     "name": "stderr",
     "output_type": "stream",
     "text": [
      "/Users/simon/tcpips/chavas15/er11/radprof_raw.py:51: RuntimeWarning: divide by zero encountered in divide\n",
      "  V_ER11 = (1 / rr_ER11) * (Vmax * rmax + 0.5 * fcor * rmax**2) * (\n",
      "/Users/simon/tcpips/chavas15/er11/radprof_raw.py:51: RuntimeWarning: invalid value encountered in multiply\n",
      "  V_ER11 = (1 / rr_ER11) * (Vmax * rmax + 0.5 * fcor * rmax**2) * (\n"
     ]
    },
    {
     "name": "stdout",
     "output_type": "stream",
     "text": [
      "'ER11_radprof_raw'  0.38207 s \n",
      "\n"
     ]
    },
    {
     "name": "stderr",
     "output_type": "stream",
     "text": [
      "/Users/simon/tcpips/chavas15/er11/radprof_raw.py:51: RuntimeWarning: divide by zero encountered in divide\n",
      "  V_ER11 = (1 / rr_ER11) * (Vmax * rmax + 0.5 * fcor * rmax**2) * (\n",
      "/Users/simon/tcpips/chavas15/er11/radprof_raw.py:51: RuntimeWarning: invalid value encountered in multiply\n",
      "  V_ER11 = (1 / rr_ER11) * (Vmax * rmax + 0.5 * fcor * rmax**2) * (\n"
     ]
    },
    {
     "name": "stdout",
     "output_type": "stream",
     "text": [
      "[  660190.16073143   660865.20179557   661540.24285971 ...\n",
      " 33749353.04287171 33750028.08393586 33750703.125     ]\n",
      "'ER11_radprof_raw'  0.38351 s \n",
      "\n",
      "[  670315.77669357   670990.81775771   671665.85882185 ...\n",
      " 33749353.04287171 33750028.08393586 33750703.125     ]\n"
     ]
    },
    {
     "name": "stderr",
     "output_type": "stream",
     "text": [
      "/Users/simon/tcpips/chavas15/er11/radprof_raw.py:51: RuntimeWarning: divide by zero encountered in divide\n",
      "  V_ER11 = (1 / rr_ER11) * (Vmax * rmax + 0.5 * fcor * rmax**2) * (\n",
      "/Users/simon/tcpips/chavas15/er11/radprof_raw.py:51: RuntimeWarning: invalid value encountered in multiply\n",
      "  V_ER11 = (1 / rr_ER11) * (Vmax * rmax + 0.5 * fcor * rmax**2) * (\n"
     ]
    },
    {
     "name": "stdout",
     "output_type": "stream",
     "text": [
      "'ER11_radprof_raw'  0.38165 s \n",
      "\n",
      "[  674366.02307842   675041.06414257   675716.10520671 ...\n",
      " 33749353.04287171 33750028.08393586 33750703.125     ]\n"
     ]
    },
    {
     "name": "stderr",
     "output_type": "stream",
     "text": [
      "/Users/simon/tcpips/chavas15/er11/radprof_raw.py:51: RuntimeWarning: divide by zero encountered in divide\n",
      "  V_ER11 = (1 / rr_ER11) * (Vmax * rmax + 0.5 * fcor * rmax**2) * (\n",
      "/Users/simon/tcpips/chavas15/er11/radprof_raw.py:51: RuntimeWarning: invalid value encountered in multiply\n",
      "  V_ER11 = (1 / rr_ER11) * (Vmax * rmax + 0.5 * fcor * rmax**2) * (\n"
     ]
    },
    {
     "name": "stdout",
     "output_type": "stream",
     "text": [
      "'ER11_radprof_raw'  0.41442 s \n",
      "\n",
      "[  675041.06414257   675716.10520671   676391.14627085 ...\n",
      " 33749353.04287171 33750028.08393586 33750703.125     ]\n"
     ]
    },
    {
     "name": "stderr",
     "output_type": "stream",
     "text": [
      "/Users/simon/tcpips/chavas15/er11/radprof_raw.py:51: RuntimeWarning: divide by zero encountered in divide\n",
      "  V_ER11 = (1 / rr_ER11) * (Vmax * rmax + 0.5 * fcor * rmax**2) * (\n",
      "/Users/simon/tcpips/chavas15/er11/radprof_raw.py:51: RuntimeWarning: invalid value encountered in multiply\n",
      "  V_ER11 = (1 / rr_ER11) * (Vmax * rmax + 0.5 * fcor * rmax**2) * (\n"
     ]
    },
    {
     "name": "stdout",
     "output_type": "stream",
     "text": [
      "'ER11_radprof_raw'  0.49965 s \n",
      "\n",
      "[  675716.10520671   676391.14627085   677066.18733499 ...\n",
      " 33749353.04287171 33750028.08393586 33750703.125     ]\n"
     ]
    },
    {
     "name": "stderr",
     "output_type": "stream",
     "text": [
      "/Users/simon/tcpips/chavas15/er11/radprof_raw.py:51: RuntimeWarning: divide by zero encountered in divide\n",
      "  V_ER11 = (1 / rr_ER11) * (Vmax * rmax + 0.5 * fcor * rmax**2) * (\n",
      "/Users/simon/tcpips/chavas15/er11/radprof_raw.py:51: RuntimeWarning: invalid value encountered in multiply\n",
      "  V_ER11 = (1 / rr_ER11) * (Vmax * rmax + 0.5 * fcor * rmax**2) * (\n"
     ]
    },
    {
     "name": "stdout",
     "output_type": "stream",
     "text": [
      "'ER11_radprof_raw'  0.39468 s \n",
      "\n",
      "'ER11_radprof'  4.68903 s \n",
      "\n",
      "intersection sizes 1000 1334 1334000\n",
      "'curveintersect'  2.22128 s \n",
      "\n",
      "Large storm detected. Increasing drfracrm.\n",
      "dr =  675.0340326113044\n",
      "[  546777.56641516   547452.60044777   548127.63448038 ...\n",
      " 33749001.49443477 33749676.52846738 33750351.56249999]\n"
     ]
    },
    {
     "name": "stderr",
     "output_type": "stream",
     "text": [
      "/Users/simon/tcpips/chavas15/er11/radprof_raw.py:51: RuntimeWarning: divide by zero encountered in divide\n",
      "  V_ER11 = (1 / rr_ER11) * (Vmax * rmax + 0.5 * fcor * rmax**2) * (\n",
      "/Users/simon/tcpips/chavas15/er11/radprof_raw.py:51: RuntimeWarning: invalid value encountered in multiply\n",
      "  V_ER11 = (1 / rr_ER11) * (Vmax * rmax + 0.5 * fcor * rmax**2) * (\n"
     ]
    },
    {
     "name": "stdout",
     "output_type": "stream",
     "text": [
      "'ER11_radprof_raw'  0.37750 s \n",
      "\n",
      "[  631831.85452418   632506.88855679   633181.9225894  ...\n",
      " 33749001.49443477 33749676.52846738 33750351.56249999]\n"
     ]
    },
    {
     "name": "stderr",
     "output_type": "stream",
     "text": [
      "/Users/simon/tcpips/chavas15/er11/radprof_raw.py:51: RuntimeWarning: divide by zero encountered in divide\n",
      "  V_ER11 = (1 / rr_ER11) * (Vmax * rmax + 0.5 * fcor * rmax**2) * (\n",
      "/Users/simon/tcpips/chavas15/er11/radprof_raw.py:51: RuntimeWarning: invalid value encountered in multiply\n",
      "  V_ER11 = (1 / rr_ER11) * (Vmax * rmax + 0.5 * fcor * rmax**2) * (\n"
     ]
    },
    {
     "name": "stdout",
     "output_type": "stream",
     "text": [
      "'ER11_radprof_raw'  0.46317 s \n",
      "\n",
      "[  630481.78645896   631156.82049157   631831.85452418 ...\n",
      " 33749001.49443477 33749676.52846738 33750351.56249999]\n"
     ]
    },
    {
     "name": "stderr",
     "output_type": "stream",
     "text": [
      "/Users/simon/tcpips/chavas15/er11/radprof_raw.py:51: RuntimeWarning: divide by zero encountered in divide\n",
      "  V_ER11 = (1 / rr_ER11) * (Vmax * rmax + 0.5 * fcor * rmax**2) * (\n",
      "/Users/simon/tcpips/chavas15/er11/radprof_raw.py:51: RuntimeWarning: invalid value encountered in multiply\n",
      "  V_ER11 = (1 / rr_ER11) * (Vmax * rmax + 0.5 * fcor * rmax**2) * (\n"
     ]
    },
    {
     "name": "stdout",
     "output_type": "stream",
     "text": [
      "'ER11_radprof_raw'  0.37188 s \n",
      "\n",
      "[  630481.78645896   631156.82049157   631831.85452418 ...\n",
      " 33749001.49443477 33749676.52846738 33750351.56249999]\n"
     ]
    },
    {
     "name": "stderr",
     "output_type": "stream",
     "text": [
      "/Users/simon/tcpips/chavas15/er11/radprof_raw.py:51: RuntimeWarning: divide by zero encountered in divide\n",
      "  V_ER11 = (1 / rr_ER11) * (Vmax * rmax + 0.5 * fcor * rmax**2) * (\n",
      "/Users/simon/tcpips/chavas15/er11/radprof_raw.py:51: RuntimeWarning: invalid value encountered in multiply\n",
      "  V_ER11 = (1 / rr_ER11) * (Vmax * rmax + 0.5 * fcor * rmax**2) * (\n"
     ]
    },
    {
     "name": "stdout",
     "output_type": "stream",
     "text": [
      "'ER11_radprof_raw'  0.38032 s \n",
      "\n",
      "[  660183.28389386   660858.31792647   661533.35195908 ...\n",
      " 33749001.49443477 33749676.52846738 33750351.56249999]\n"
     ]
    },
    {
     "name": "stderr",
     "output_type": "stream",
     "text": [
      "/Users/simon/tcpips/chavas15/er11/radprof_raw.py:51: RuntimeWarning: divide by zero encountered in divide\n",
      "  V_ER11 = (1 / rr_ER11) * (Vmax * rmax + 0.5 * fcor * rmax**2) * (\n",
      "/Users/simon/tcpips/chavas15/er11/radprof_raw.py:51: RuntimeWarning: invalid value encountered in multiply\n",
      "  V_ER11 = (1 / rr_ER11) * (Vmax * rmax + 0.5 * fcor * rmax**2) * (\n"
     ]
    },
    {
     "name": "stdout",
     "output_type": "stream",
     "text": [
      "'ER11_radprof_raw'  0.37326 s \n",
      "\n"
     ]
    },
    {
     "name": "stderr",
     "output_type": "stream",
     "text": [
      "/Users/simon/tcpips/chavas15/er11/radprof_raw.py:51: RuntimeWarning: divide by zero encountered in divide\n",
      "  V_ER11 = (1 / rr_ER11) * (Vmax * rmax + 0.5 * fcor * rmax**2) * (\n",
      "/Users/simon/tcpips/chavas15/er11/radprof_raw.py:51: RuntimeWarning: invalid value encountered in multiply\n",
      "  V_ER11 = (1 / rr_ER11) * (Vmax * rmax + 0.5 * fcor * rmax**2) * (\n"
     ]
    },
    {
     "name": "stdout",
     "output_type": "stream",
     "text": [
      "[  670308.79438303   670983.82841564   671658.86244825 ...\n",
      " 33749001.49443477 33749676.52846738 33750351.56249999]\n",
      "'ER11_radprof_raw'  0.38592 s \n",
      "\n",
      "[  674358.99857869   675034.0326113    675709.06664392 ...\n",
      " 33749001.49443477 33749676.52846738 33750351.56249999]\n"
     ]
    },
    {
     "name": "stderr",
     "output_type": "stream",
     "text": [
      "/Users/simon/tcpips/chavas15/er11/radprof_raw.py:51: RuntimeWarning: divide by zero encountered in divide\n",
      "  V_ER11 = (1 / rr_ER11) * (Vmax * rmax + 0.5 * fcor * rmax**2) * (\n",
      "/Users/simon/tcpips/chavas15/er11/radprof_raw.py:51: RuntimeWarning: invalid value encountered in multiply\n",
      "  V_ER11 = (1 / rr_ER11) * (Vmax * rmax + 0.5 * fcor * rmax**2) * (\n"
     ]
    },
    {
     "name": "stdout",
     "output_type": "stream",
     "text": [
      "'ER11_radprof_raw'  0.38350 s \n",
      "\n",
      "[  675034.0326113    675709.06664392   676384.10067653 ...\n",
      " 33749001.49443477 33749676.52846738 33750351.56249999]\n"
     ]
    },
    {
     "name": "stderr",
     "output_type": "stream",
     "text": [
      "/Users/simon/tcpips/chavas15/er11/radprof_raw.py:51: RuntimeWarning: divide by zero encountered in divide\n",
      "  V_ER11 = (1 / rr_ER11) * (Vmax * rmax + 0.5 * fcor * rmax**2) * (\n",
      "/Users/simon/tcpips/chavas15/er11/radprof_raw.py:51: RuntimeWarning: invalid value encountered in multiply\n",
      "  V_ER11 = (1 / rr_ER11) * (Vmax * rmax + 0.5 * fcor * rmax**2) * (\n"
     ]
    },
    {
     "name": "stdout",
     "output_type": "stream",
     "text": [
      "'ER11_radprof_raw'  0.37885 s \n",
      "\n",
      "[  675709.06664392   676384.10067653   677059.13470914 ...\n",
      " 33749001.49443477 33749676.52846738 33750351.56249999]\n"
     ]
    },
    {
     "name": "stderr",
     "output_type": "stream",
     "text": [
      "/Users/simon/tcpips/chavas15/er11/radprof_raw.py:51: RuntimeWarning: divide by zero encountered in divide\n",
      "  V_ER11 = (1 / rr_ER11) * (Vmax * rmax + 0.5 * fcor * rmax**2) * (\n",
      "/Users/simon/tcpips/chavas15/er11/radprof_raw.py:51: RuntimeWarning: invalid value encountered in multiply\n",
      "  V_ER11 = (1 / rr_ER11) * (Vmax * rmax + 0.5 * fcor * rmax**2) * (\n"
     ]
    },
    {
     "name": "stdout",
     "output_type": "stream",
     "text": [
      "'ER11_radprof_raw'  0.46504 s \n",
      "\n",
      "'ER11_radprof'  4.59302 s \n",
      "\n",
      "intersection sizes 1000 1334 1334000\n",
      "'curveintersect'  2.13745 s \n",
      "\n",
      "Large storm detected. Increasing drfracrm.\n",
      "dr =  675.0305168456738\n",
      "[  546774.718645     547449.74916184   548124.77967869 ...\n",
      " 33748825.7202163  33749500.75073315 33750175.78124999]\n"
     ]
    },
    {
     "name": "stderr",
     "output_type": "stream",
     "text": [
      "/Users/simon/tcpips/chavas15/er11/radprof_raw.py:51: RuntimeWarning: divide by zero encountered in divide\n",
      "  V_ER11 = (1 / rr_ER11) * (Vmax * rmax + 0.5 * fcor * rmax**2) * (\n",
      "/Users/simon/tcpips/chavas15/er11/radprof_raw.py:51: RuntimeWarning: invalid value encountered in multiply\n",
      "  V_ER11 = (1 / rr_ER11) * (Vmax * rmax + 0.5 * fcor * rmax**2) * (\n"
     ]
    },
    {
     "name": "stdout",
     "output_type": "stream",
     "text": [
      "'ER11_radprof_raw'  0.37327 s \n",
      "\n",
      "[  631828.56376755   632503.5942844    633178.62480124 ...\n",
      " 33748825.7202163  33749500.75073315 33750175.78124999]\n"
     ]
    },
    {
     "name": "stderr",
     "output_type": "stream",
     "text": [
      "/Users/simon/tcpips/chavas15/er11/radprof_raw.py:51: RuntimeWarning: divide by zero encountered in divide\n",
      "  V_ER11 = (1 / rr_ER11) * (Vmax * rmax + 0.5 * fcor * rmax**2) * (\n",
      "/Users/simon/tcpips/chavas15/er11/radprof_raw.py:51: RuntimeWarning: invalid value encountered in multiply\n",
      "  V_ER11 = (1 / rr_ER11) * (Vmax * rmax + 0.5 * fcor * rmax**2) * (\n"
     ]
    },
    {
     "name": "stdout",
     "output_type": "stream",
     "text": [
      "'ER11_radprof_raw'  0.38020 s \n",
      "\n",
      "[  630478.50273386   631153.5332507    631828.56376755 ...\n",
      " 33748825.7202163  33749500.75073315 33750175.78124999]\n"
     ]
    },
    {
     "name": "stderr",
     "output_type": "stream",
     "text": [
      "/Users/simon/tcpips/chavas15/er11/radprof_raw.py:51: RuntimeWarning: divide by zero encountered in divide\n",
      "  V_ER11 = (1 / rr_ER11) * (Vmax * rmax + 0.5 * fcor * rmax**2) * (\n",
      "/Users/simon/tcpips/chavas15/er11/radprof_raw.py:51: RuntimeWarning: invalid value encountered in multiply\n",
      "  V_ER11 = (1 / rr_ER11) * (Vmax * rmax + 0.5 * fcor * rmax**2) * (\n"
     ]
    },
    {
     "name": "stdout",
     "output_type": "stream",
     "text": [
      "'ER11_radprof_raw'  0.45710 s \n",
      "\n",
      "[  630478.50273386   631153.5332507    631828.56376755 ...\n",
      " 33748825.7202163  33749500.75073315 33750175.78124999]\n"
     ]
    },
    {
     "name": "stderr",
     "output_type": "stream",
     "text": [
      "/Users/simon/tcpips/chavas15/er11/radprof_raw.py:51: RuntimeWarning: divide by zero encountered in divide\n",
      "  V_ER11 = (1 / rr_ER11) * (Vmax * rmax + 0.5 * fcor * rmax**2) * (\n",
      "/Users/simon/tcpips/chavas15/er11/radprof_raw.py:51: RuntimeWarning: invalid value encountered in multiply\n",
      "  V_ER11 = (1 / rr_ER11) * (Vmax * rmax + 0.5 * fcor * rmax**2) * (\n"
     ]
    },
    {
     "name": "stdout",
     "output_type": "stream",
     "text": [
      "'ER11_radprof_raw'  0.39491 s \n",
      "\n",
      "[  660179.84547507   660854.87599191   661529.90650876 ...\n",
      " 33748825.7202163  33749500.75073315 33750175.78124999]\n"
     ]
    },
    {
     "name": "stderr",
     "output_type": "stream",
     "text": [
      "/Users/simon/tcpips/chavas15/er11/radprof_raw.py:51: RuntimeWarning: divide by zero encountered in divide\n",
      "  V_ER11 = (1 / rr_ER11) * (Vmax * rmax + 0.5 * fcor * rmax**2) * (\n",
      "/Users/simon/tcpips/chavas15/er11/radprof_raw.py:51: RuntimeWarning: invalid value encountered in multiply\n",
      "  V_ER11 = (1 / rr_ER11) * (Vmax * rmax + 0.5 * fcor * rmax**2) * (\n"
     ]
    },
    {
     "name": "stdout",
     "output_type": "stream",
     "text": [
      "'ER11_radprof_raw'  0.37527 s \n",
      "\n"
     ]
    },
    {
     "name": "stderr",
     "output_type": "stream",
     "text": [
      "/Users/simon/tcpips/chavas15/er11/radprof_raw.py:51: RuntimeWarning: divide by zero encountered in divide\n",
      "  V_ER11 = (1 / rr_ER11) * (Vmax * rmax + 0.5 * fcor * rmax**2) * (\n",
      "/Users/simon/tcpips/chavas15/er11/radprof_raw.py:51: RuntimeWarning: invalid value encountered in multiply\n",
      "  V_ER11 = (1 / rr_ER11) * (Vmax * rmax + 0.5 * fcor * rmax**2) * (\n"
     ]
    },
    {
     "name": "stdout",
     "output_type": "stream",
     "text": [
      "[  670305.30322775   670980.3337446    671655.36426145 ...\n",
      " 33748825.7202163  33749500.75073315 33750175.78124999]\n",
      "'ER11_radprof_raw'  0.50733 s \n",
      "\n"
     ]
    },
    {
     "name": "stderr",
     "output_type": "stream",
     "text": [
      "/Users/simon/tcpips/chavas15/er11/radprof_raw.py:51: RuntimeWarning: divide by zero encountered in divide\n",
      "  V_ER11 = (1 / rr_ER11) * (Vmax * rmax + 0.5 * fcor * rmax**2) * (\n",
      "/Users/simon/tcpips/chavas15/er11/radprof_raw.py:51: RuntimeWarning: invalid value encountered in multiply\n",
      "  V_ER11 = (1 / rr_ER11) * (Vmax * rmax + 0.5 * fcor * rmax**2) * (\n"
     ]
    },
    {
     "name": "stdout",
     "output_type": "stream",
     "text": [
      "[  674355.48632883   675030.51684567   675705.54736252 ...\n",
      " 33748825.7202163  33749500.75073315 33750175.78124999]\n",
      "'ER11_radprof_raw'  0.38349 s \n",
      "\n",
      "[  675030.51684567   675705.54736252   676380.57787937 ...\n",
      " 33748825.7202163  33749500.75073315 33750175.78124999]\n"
     ]
    },
    {
     "name": "stderr",
     "output_type": "stream",
     "text": [
      "/Users/simon/tcpips/chavas15/er11/radprof_raw.py:51: RuntimeWarning: divide by zero encountered in divide\n",
      "  V_ER11 = (1 / rr_ER11) * (Vmax * rmax + 0.5 * fcor * rmax**2) * (\n",
      "/Users/simon/tcpips/chavas15/er11/radprof_raw.py:51: RuntimeWarning: invalid value encountered in multiply\n",
      "  V_ER11 = (1 / rr_ER11) * (Vmax * rmax + 0.5 * fcor * rmax**2) * (\n"
     ]
    },
    {
     "name": "stdout",
     "output_type": "stream",
     "text": [
      "'ER11_radprof_raw'  0.38974 s \n",
      "\n",
      "[  675705.54736252   676380.57787937   677055.60839621 ...\n",
      " 33748825.7202163  33749500.75073315 33750175.78124999]\n"
     ]
    },
    {
     "name": "stderr",
     "output_type": "stream",
     "text": [
      "/Users/simon/tcpips/chavas15/er11/radprof_raw.py:51: RuntimeWarning: divide by zero encountered in divide\n",
      "  V_ER11 = (1 / rr_ER11) * (Vmax * rmax + 0.5 * fcor * rmax**2) * (\n",
      "/Users/simon/tcpips/chavas15/er11/radprof_raw.py:51: RuntimeWarning: invalid value encountered in multiply\n",
      "  V_ER11 = (1 / rr_ER11) * (Vmax * rmax + 0.5 * fcor * rmax**2) * (\n"
     ]
    },
    {
     "name": "stdout",
     "output_type": "stream",
     "text": [
      "'ER11_radprof_raw'  0.37078 s \n",
      "\n",
      "'ER11_radprof'  4.70913 s \n",
      "\n",
      "intersection sizes 1000 1334 1334000\n",
      "'curveintersect'  2.05689 s \n",
      "\n",
      "Large storm detected. Increasing drfracrm.\n",
      "dr =  675.0287589628585\n",
      "[  546773.29475992   547448.32351888   548123.35227784 ...\n",
      " 33748737.83310708 33749412.86186603 33750087.890625  ]\n"
     ]
    },
    {
     "name": "stderr",
     "output_type": "stream",
     "text": [
      "/Users/simon/tcpips/chavas15/er11/radprof_raw.py:51: RuntimeWarning: divide by zero encountered in divide\n",
      "  V_ER11 = (1 / rr_ER11) * (Vmax * rmax + 0.5 * fcor * rmax**2) * (\n",
      "/Users/simon/tcpips/chavas15/er11/radprof_raw.py:51: RuntimeWarning: invalid value encountered in multiply\n",
      "  V_ER11 = (1 / rr_ER11) * (Vmax * rmax + 0.5 * fcor * rmax**2) * (\n"
     ]
    },
    {
     "name": "stdout",
     "output_type": "stream",
     "text": [
      "'ER11_radprof_raw'  0.36520 s \n",
      "\n",
      "[  631826.91838924   632501.9471482    633176.97590716 ...\n",
      " 33748737.83310708 33749412.86186603 33750087.890625  ]\n"
     ]
    },
    {
     "name": "stderr",
     "output_type": "stream",
     "text": [
      "/Users/simon/tcpips/chavas15/er11/radprof_raw.py:51: RuntimeWarning: divide by zero encountered in divide\n",
      "  V_ER11 = (1 / rr_ER11) * (Vmax * rmax + 0.5 * fcor * rmax**2) * (\n",
      "/Users/simon/tcpips/chavas15/er11/radprof_raw.py:51: RuntimeWarning: invalid value encountered in multiply\n",
      "  V_ER11 = (1 / rr_ER11) * (Vmax * rmax + 0.5 * fcor * rmax**2) * (\n"
     ]
    },
    {
     "name": "stdout",
     "output_type": "stream",
     "text": [
      "'ER11_radprof_raw'  0.36425 s \n",
      "\n",
      "[  630476.86087131   631151.88963027   631826.91838924 ...\n",
      " 33748737.83310708 33749412.86186603 33750087.890625  ]\n"
     ]
    },
    {
     "name": "stderr",
     "output_type": "stream",
     "text": [
      "/Users/simon/tcpips/chavas15/er11/radprof_raw.py:51: RuntimeWarning: divide by zero encountered in divide\n",
      "  V_ER11 = (1 / rr_ER11) * (Vmax * rmax + 0.5 * fcor * rmax**2) * (\n",
      "/Users/simon/tcpips/chavas15/er11/radprof_raw.py:51: RuntimeWarning: invalid value encountered in multiply\n",
      "  V_ER11 = (1 / rr_ER11) * (Vmax * rmax + 0.5 * fcor * rmax**2) * (\n"
     ]
    },
    {
     "name": "stdout",
     "output_type": "stream",
     "text": [
      "'ER11_radprof_raw'  0.36060 s \n",
      "\n",
      "[  630476.86087131   631151.88963027   631826.91838924 ...\n",
      " 33748737.83310708 33749412.86186603 33750087.890625  ]\n"
     ]
    },
    {
     "name": "stderr",
     "output_type": "stream",
     "text": [
      "/Users/simon/tcpips/chavas15/er11/radprof_raw.py:51: RuntimeWarning: divide by zero encountered in divide\n",
      "  V_ER11 = (1 / rr_ER11) * (Vmax * rmax + 0.5 * fcor * rmax**2) * (\n",
      "/Users/simon/tcpips/chavas15/er11/radprof_raw.py:51: RuntimeWarning: invalid value encountered in multiply\n",
      "  V_ER11 = (1 / rr_ER11) * (Vmax * rmax + 0.5 * fcor * rmax**2) * (\n"
     ]
    },
    {
     "name": "stdout",
     "output_type": "stream",
     "text": [
      "'ER11_radprof_raw'  0.36747 s \n",
      "\n"
     ]
    },
    {
     "name": "stderr",
     "output_type": "stream",
     "text": [
      "/Users/simon/tcpips/chavas15/er11/radprof_raw.py:51: RuntimeWarning: divide by zero encountered in divide\n",
      "  V_ER11 = (1 / rr_ER11) * (Vmax * rmax + 0.5 * fcor * rmax**2) * (\n",
      "/Users/simon/tcpips/chavas15/er11/radprof_raw.py:51: RuntimeWarning: invalid value encountered in multiply\n",
      "  V_ER11 = (1 / rr_ER11) * (Vmax * rmax + 0.5 * fcor * rmax**2) * (\n"
     ]
    },
    {
     "name": "stdout",
     "output_type": "stream",
     "text": [
      "[  660178.12626568   660853.15502464   661528.1837836  ...\n",
      " 33748737.83310708 33749412.86186603 33750087.890625  ]\n",
      "'ER11_radprof_raw'  0.36129 s \n",
      "\n",
      "[  670303.55765012   670978.58640908   671653.61516804 ...\n",
      " 33748737.83310708 33749412.86186603 33750087.890625  ]\n"
     ]
    },
    {
     "name": "stderr",
     "output_type": "stream",
     "text": [
      "/Users/simon/tcpips/chavas15/er11/radprof_raw.py:51: RuntimeWarning: divide by zero encountered in divide\n",
      "  V_ER11 = (1 / rr_ER11) * (Vmax * rmax + 0.5 * fcor * rmax**2) * (\n",
      "/Users/simon/tcpips/chavas15/er11/radprof_raw.py:51: RuntimeWarning: invalid value encountered in multiply\n",
      "  V_ER11 = (1 / rr_ER11) * (Vmax * rmax + 0.5 * fcor * rmax**2) * (\n"
     ]
    },
    {
     "name": "stdout",
     "output_type": "stream",
     "text": [
      "'ER11_radprof_raw'  0.36059 s \n",
      "\n",
      "[  674353.7302039    675028.75896286   675703.78772182 ...\n",
      " 33748737.83310708 33749412.86186603 33750087.890625  ]\n"
     ]
    },
    {
     "name": "stderr",
     "output_type": "stream",
     "text": [
      "/Users/simon/tcpips/chavas15/er11/radprof_raw.py:51: RuntimeWarning: divide by zero encountered in divide\n",
      "  V_ER11 = (1 / rr_ER11) * (Vmax * rmax + 0.5 * fcor * rmax**2) * (\n",
      "/Users/simon/tcpips/chavas15/er11/radprof_raw.py:51: RuntimeWarning: invalid value encountered in multiply\n",
      "  V_ER11 = (1 / rr_ER11) * (Vmax * rmax + 0.5 * fcor * rmax**2) * (\n"
     ]
    },
    {
     "name": "stdout",
     "output_type": "stream",
     "text": [
      "'ER11_radprof_raw'  0.36822 s \n",
      "\n",
      "[  675028.75896286   675703.78772182   676378.81648078 ...\n",
      " 33748737.83310708 33749412.86186603 33750087.890625  ]\n"
     ]
    },
    {
     "name": "stderr",
     "output_type": "stream",
     "text": [
      "/Users/simon/tcpips/chavas15/er11/radprof_raw.py:51: RuntimeWarning: divide by zero encountered in divide\n",
      "  V_ER11 = (1 / rr_ER11) * (Vmax * rmax + 0.5 * fcor * rmax**2) * (\n",
      "/Users/simon/tcpips/chavas15/er11/radprof_raw.py:51: RuntimeWarning: invalid value encountered in multiply\n",
      "  V_ER11 = (1 / rr_ER11) * (Vmax * rmax + 0.5 * fcor * rmax**2) * (\n"
     ]
    },
    {
     "name": "stdout",
     "output_type": "stream",
     "text": [
      "'ER11_radprof_raw'  0.45381 s \n",
      "\n",
      "[  675703.78772182   676378.81648078   677053.84523975 ...\n",
      " 33748737.83310708 33749412.86186603 33750087.890625  ]\n"
     ]
    },
    {
     "name": "stderr",
     "output_type": "stream",
     "text": [
      "/Users/simon/tcpips/chavas15/er11/radprof_raw.py:51: RuntimeWarning: divide by zero encountered in divide\n",
      "  V_ER11 = (1 / rr_ER11) * (Vmax * rmax + 0.5 * fcor * rmax**2) * (\n",
      "/Users/simon/tcpips/chavas15/er11/radprof_raw.py:51: RuntimeWarning: invalid value encountered in multiply\n",
      "  V_ER11 = (1 / rr_ER11) * (Vmax * rmax + 0.5 * fcor * rmax**2) * (\n"
     ]
    },
    {
     "name": "stdout",
     "output_type": "stream",
     "text": [
      "'ER11_radprof_raw'  0.36281 s \n",
      "\n",
      "'ER11_radprof'  4.41597 s \n",
      "\n",
      "intersection sizes 1000 1334 1334000\n",
      "'curveintersect'  2.10172 s \n",
      "\n",
      "Adjusting CkCd to find convergence.\n",
      "Large storm detected. Increasing drfracrm.\n",
      "dr =  675.9270370814833\n",
      "[  558315.73262931   558991.65966639   559667.58670347 ...\n",
      " 33793648.14592583 33794324.07296292 33795000.        ]\n"
     ]
    },
    {
     "name": "stderr",
     "output_type": "stream",
     "text": [
      "/Users/simon/tcpips/chavas15/er11/radprof_raw.py:51: RuntimeWarning: divide by zero encountered in divide\n",
      "  V_ER11 = (1 / rr_ER11) * (Vmax * rmax + 0.5 * fcor * rmax**2) * (\n",
      "/Users/simon/tcpips/chavas15/er11/radprof_raw.py:51: RuntimeWarning: invalid value encountered in multiply\n",
      "  V_ER11 = (1 / rr_ER11) * (Vmax * rmax + 0.5 * fcor * rmax**2) * (\n"
     ]
    },
    {
     "name": "stdout",
     "output_type": "stream",
     "text": [
      "'ER11_radprof_raw'  0.36832 s \n",
      "\n",
      "[  640102.90411616   640778.83115325   641454.75819033 ...\n",
      " 33793648.14592583 33794324.07296292 33795000.        ]\n"
     ]
    },
    {
     "name": "stderr",
     "output_type": "stream",
     "text": [
      "/Users/simon/tcpips/chavas15/er11/radprof_raw.py:51: RuntimeWarning: divide by zero encountered in divide\n",
      "  V_ER11 = (1 / rr_ER11) * (Vmax * rmax + 0.5 * fcor * rmax**2) * (\n",
      "/Users/simon/tcpips/chavas15/er11/radprof_raw.py:51: RuntimeWarning: invalid value encountered in multiply\n",
      "  V_ER11 = (1 / rr_ER11) * (Vmax * rmax + 0.5 * fcor * rmax**2) * (\n"
     ]
    },
    {
     "name": "stdout",
     "output_type": "stream",
     "text": [
      "'ER11_radprof_raw'  0.45799 s \n",
      "\n",
      "[  638751.050042     639426.97707908   640102.90411616 ...\n",
      " 33793648.14592583 33794324.07296292 33795000.        ]\n"
     ]
    },
    {
     "name": "stderr",
     "output_type": "stream",
     "text": [
      "/Users/simon/tcpips/chavas15/er11/radprof_raw.py:51: RuntimeWarning: divide by zero encountered in divide\n",
      "  V_ER11 = (1 / rr_ER11) * (Vmax * rmax + 0.5 * fcor * rmax**2) * (\n",
      "/Users/simon/tcpips/chavas15/er11/radprof_raw.py:51: RuntimeWarning: invalid value encountered in multiply\n",
      "  V_ER11 = (1 / rr_ER11) * (Vmax * rmax + 0.5 * fcor * rmax**2) * (\n"
     ]
    },
    {
     "name": "stdout",
     "output_type": "stream",
     "text": [
      "'ER11_radprof_raw'  0.37121 s \n",
      "\n",
      "[  638751.050042     639426.97707908   640102.90411616 ...\n",
      " 33793648.14592583 33794324.07296292 33795000.        ]\n"
     ]
    },
    {
     "name": "stderr",
     "output_type": "stream",
     "text": [
      "/Users/simon/tcpips/chavas15/er11/radprof_raw.py:51: RuntimeWarning: divide by zero encountered in divide\n",
      "  V_ER11 = (1 / rr_ER11) * (Vmax * rmax + 0.5 * fcor * rmax**2) * (\n",
      "/Users/simon/tcpips/chavas15/er11/radprof_raw.py:51: RuntimeWarning: invalid value encountered in multiply\n",
      "  V_ER11 = (1 / rr_ER11) * (Vmax * rmax + 0.5 * fcor * rmax**2) * (\n"
     ]
    },
    {
     "name": "stdout",
     "output_type": "stream",
     "text": [
      "'ER11_radprof_raw'  0.37201 s \n",
      "\n",
      "[  665112.20448818   665788.13152526   666464.05856234 ...\n",
      " 33793648.14592583 33794324.07296292 33795000.        ]\n"
     ]
    },
    {
     "name": "stderr",
     "output_type": "stream",
     "text": [
      "/Users/simon/tcpips/chavas15/er11/radprof_raw.py:51: RuntimeWarning: divide by zero encountered in divide\n",
      "  V_ER11 = (1 / rr_ER11) * (Vmax * rmax + 0.5 * fcor * rmax**2) * (\n",
      "/Users/simon/tcpips/chavas15/er11/radprof_raw.py:51: RuntimeWarning: invalid value encountered in multiply\n",
      "  V_ER11 = (1 / rr_ER11) * (Vmax * rmax + 0.5 * fcor * rmax**2) * (\n"
     ]
    },
    {
     "name": "stdout",
     "output_type": "stream",
     "text": [
      "'ER11_radprof_raw'  0.37172 s \n",
      "\n",
      "[  673223.32893316   673899.25597024   674575.18300732 ...\n",
      " 33793648.14592583 33794324.07296292 33795000.        ]\n"
     ]
    },
    {
     "name": "stderr",
     "output_type": "stream",
     "text": [
      "/Users/simon/tcpips/chavas15/er11/radprof_raw.py:51: RuntimeWarning: divide by zero encountered in divide\n",
      "  V_ER11 = (1 / rr_ER11) * (Vmax * rmax + 0.5 * fcor * rmax**2) * (\n",
      "/Users/simon/tcpips/chavas15/er11/radprof_raw.py:51: RuntimeWarning: invalid value encountered in multiply\n",
      "  V_ER11 = (1 / rr_ER11) * (Vmax * rmax + 0.5 * fcor * rmax**2) * (\n"
     ]
    },
    {
     "name": "stdout",
     "output_type": "stream",
     "text": [
      "'ER11_radprof_raw'  0.45925 s \n",
      "\n",
      "[  675251.1100444    675927.03708148   676602.96411856 ...\n",
      " 33793648.14592583 33794324.07296292 33795000.        ]\n"
     ]
    },
    {
     "name": "stderr",
     "output_type": "stream",
     "text": [
      "/Users/simon/tcpips/chavas15/er11/radprof_raw.py:51: RuntimeWarning: divide by zero encountered in divide\n",
      "  V_ER11 = (1 / rr_ER11) * (Vmax * rmax + 0.5 * fcor * rmax**2) * (\n",
      "/Users/simon/tcpips/chavas15/er11/radprof_raw.py:51: RuntimeWarning: invalid value encountered in multiply\n",
      "  V_ER11 = (1 / rr_ER11) * (Vmax * rmax + 0.5 * fcor * rmax**2) * (\n"
     ]
    },
    {
     "name": "stdout",
     "output_type": "stream",
     "text": [
      "'ER11_radprof_raw'  0.37176 s \n",
      "\n",
      "[  676602.96411856   677278.89115565   677954.81819273 ...\n",
      " 33793648.14592583 33794324.07296292 33795000.        ]\n"
     ]
    },
    {
     "name": "stderr",
     "output_type": "stream",
     "text": [
      "/Users/simon/tcpips/chavas15/er11/radprof_raw.py:51: RuntimeWarning: divide by zero encountered in divide\n",
      "  V_ER11 = (1 / rr_ER11) * (Vmax * rmax + 0.5 * fcor * rmax**2) * (\n",
      "/Users/simon/tcpips/chavas15/er11/radprof_raw.py:51: RuntimeWarning: invalid value encountered in multiply\n",
      "  V_ER11 = (1 / rr_ER11) * (Vmax * rmax + 0.5 * fcor * rmax**2) * (\n"
     ]
    },
    {
     "name": "stdout",
     "output_type": "stream",
     "text": [
      "'ER11_radprof_raw'  0.36486 s \n",
      "\n",
      "'ER11_radprof'  3.90717 s \n",
      "\n",
      "intersection sizes 1000 1332 1332000\n",
      "'curveintersect'  2.10592 s \n",
      "\n",
      "Large storm detected. Increasing drfracrm.\n",
      "dr =  675.4770190807633\n",
      "[  557944.01776071   558619.49477979   559294.97179887 ...\n",
      " 33771149.04596184 33771824.52298092 33772500.        ]\n"
     ]
    },
    {
     "name": "stderr",
     "output_type": "stream",
     "text": [
      "/Users/simon/tcpips/chavas15/er11/radprof_raw.py:51: RuntimeWarning: divide by zero encountered in divide\n",
      "  V_ER11 = (1 / rr_ER11) * (Vmax * rmax + 0.5 * fcor * rmax**2) * (\n",
      "/Users/simon/tcpips/chavas15/er11/radprof_raw.py:51: RuntimeWarning: invalid value encountered in multiply\n",
      "  V_ER11 = (1 / rr_ER11) * (Vmax * rmax + 0.5 * fcor * rmax**2) * (\n"
     ]
    },
    {
     "name": "stdout",
     "output_type": "stream",
     "text": [
      "'ER11_radprof_raw'  0.50615 s \n",
      "\n",
      "[  639676.73706948   640352.21408856   641027.69110764 ...\n",
      " 33771149.04596184 33771824.52298092 33772500.        ]\n"
     ]
    },
    {
     "name": "stderr",
     "output_type": "stream",
     "text": [
      "/Users/simon/tcpips/chavas15/er11/radprof_raw.py:51: RuntimeWarning: divide by zero encountered in divide\n",
      "  V_ER11 = (1 / rr_ER11) * (Vmax * rmax + 0.5 * fcor * rmax**2) * (\n",
      "/Users/simon/tcpips/chavas15/er11/radprof_raw.py:51: RuntimeWarning: invalid value encountered in multiply\n",
      "  V_ER11 = (1 / rr_ER11) * (Vmax * rmax + 0.5 * fcor * rmax**2) * (\n"
     ]
    },
    {
     "name": "stdout",
     "output_type": "stream",
     "text": [
      "'ER11_radprof_raw'  0.41985 s \n",
      "\n",
      "[  638325.78303132   639001.2600504    639676.73706948 ...\n",
      " 33771149.04596184 33771824.52298092 33772500.        ]\n"
     ]
    },
    {
     "name": "stderr",
     "output_type": "stream",
     "text": [
      "/Users/simon/tcpips/chavas15/er11/radprof_raw.py:51: RuntimeWarning: divide by zero encountered in divide\n",
      "  V_ER11 = (1 / rr_ER11) * (Vmax * rmax + 0.5 * fcor * rmax**2) * (\n",
      "/Users/simon/tcpips/chavas15/er11/radprof_raw.py:51: RuntimeWarning: invalid value encountered in multiply\n",
      "  V_ER11 = (1 / rr_ER11) * (Vmax * rmax + 0.5 * fcor * rmax**2) * (\n"
     ]
    },
    {
     "name": "stdout",
     "output_type": "stream",
     "text": [
      "'ER11_radprof_raw'  0.41710 s \n",
      "\n",
      "[  638325.78303132   639001.2600504    639676.73706948 ...\n",
      " 33771149.04596184 33771824.52298092 33772500.        ]\n"
     ]
    },
    {
     "name": "stderr",
     "output_type": "stream",
     "text": [
      "/Users/simon/tcpips/chavas15/er11/radprof_raw.py:51: RuntimeWarning: divide by zero encountered in divide\n",
      "  V_ER11 = (1 / rr_ER11) * (Vmax * rmax + 0.5 * fcor * rmax**2) * (\n",
      "/Users/simon/tcpips/chavas15/er11/radprof_raw.py:51: RuntimeWarning: invalid value encountered in multiply\n",
      "  V_ER11 = (1 / rr_ER11) * (Vmax * rmax + 0.5 * fcor * rmax**2) * (\n"
     ]
    },
    {
     "name": "stdout",
     "output_type": "stream",
     "text": [
      "'ER11_radprof_raw'  0.41607 s \n",
      "\n",
      "[  664669.38677547   665344.86379455   666020.34081363 ...\n",
      " 33771149.04596184 33771824.52298092 33772500.        ]\n"
     ]
    },
    {
     "name": "stderr",
     "output_type": "stream",
     "text": [
      "/Users/simon/tcpips/chavas15/er11/radprof_raw.py:51: RuntimeWarning: divide by zero encountered in divide\n",
      "  V_ER11 = (1 / rr_ER11) * (Vmax * rmax + 0.5 * fcor * rmax**2) * (\n",
      "/Users/simon/tcpips/chavas15/er11/radprof_raw.py:51: RuntimeWarning: invalid value encountered in multiply\n",
      "  V_ER11 = (1 / rr_ER11) * (Vmax * rmax + 0.5 * fcor * rmax**2) * (\n"
     ]
    },
    {
     "name": "stdout",
     "output_type": "stream",
     "text": [
      "'ER11_radprof_raw'  0.40890 s \n",
      "\n"
     ]
    },
    {
     "name": "stderr",
     "output_type": "stream",
     "text": [
      "/Users/simon/tcpips/chavas15/er11/radprof_raw.py:51: RuntimeWarning: divide by zero encountered in divide\n",
      "  V_ER11 = (1 / rr_ER11) * (Vmax * rmax + 0.5 * fcor * rmax**2) * (\n",
      "/Users/simon/tcpips/chavas15/er11/radprof_raw.py:51: RuntimeWarning: invalid value encountered in multiply\n",
      "  V_ER11 = (1 / rr_ER11) * (Vmax * rmax + 0.5 * fcor * rmax**2) * (\n"
     ]
    },
    {
     "name": "stdout",
     "output_type": "stream",
     "text": [
      "[  672775.11100444   673450.58802352   674126.0650426  ...\n",
      " 33771149.04596184 33771824.52298092 33772500.        ]\n",
      "'ER11_radprof_raw'  0.41612 s \n",
      "\n",
      "[  674801.54206168   675477.01908076   676152.49609984 ...\n",
      " 33771149.04596184 33771824.52298092 33772500.        ]\n"
     ]
    },
    {
     "name": "stderr",
     "output_type": "stream",
     "text": [
      "/Users/simon/tcpips/chavas15/er11/radprof_raw.py:51: RuntimeWarning: divide by zero encountered in divide\n",
      "  V_ER11 = (1 / rr_ER11) * (Vmax * rmax + 0.5 * fcor * rmax**2) * (\n",
      "/Users/simon/tcpips/chavas15/er11/radprof_raw.py:51: RuntimeWarning: invalid value encountered in multiply\n",
      "  V_ER11 = (1 / rr_ER11) * (Vmax * rmax + 0.5 * fcor * rmax**2) * (\n"
     ]
    },
    {
     "name": "stdout",
     "output_type": "stream",
     "text": [
      "'ER11_radprof_raw'  0.40949 s \n",
      "\n",
      "[  676152.49609984   676827.97311892   677503.45013801 ...\n",
      " 33771149.04596184 33771824.52298092 33772500.        ]\n"
     ]
    },
    {
     "name": "stderr",
     "output_type": "stream",
     "text": [
      "/Users/simon/tcpips/chavas15/er11/radprof_raw.py:51: RuntimeWarning: divide by zero encountered in divide\n",
      "  V_ER11 = (1 / rr_ER11) * (Vmax * rmax + 0.5 * fcor * rmax**2) * (\n",
      "/Users/simon/tcpips/chavas15/er11/radprof_raw.py:51: RuntimeWarning: invalid value encountered in multiply\n",
      "  V_ER11 = (1 / rr_ER11) * (Vmax * rmax + 0.5 * fcor * rmax**2) * (\n"
     ]
    },
    {
     "name": "stdout",
     "output_type": "stream",
     "text": [
      "'ER11_radprof_raw'  0.41391 s \n",
      "\n",
      "'ER11_radprof'  4.30574 s \n",
      "\n",
      "intersection sizes 1000 1333 1333000\n",
      "'curveintersect'  2.03230 s \n",
      "\n",
      "Large storm detected. Increasing drfracrm.\n",
      "dr =  675.2520100804032\n",
      "[  557758.16032641   558433.41233649   559108.66434657 ...\n",
      " 33759899.49597984 33760574.74798992 33761250.        ]\n"
     ]
    },
    {
     "name": "stderr",
     "output_type": "stream",
     "text": [
      "/Users/simon/tcpips/chavas15/er11/radprof_raw.py:51: RuntimeWarning: divide by zero encountered in divide\n",
      "  V_ER11 = (1 / rr_ER11) * (Vmax * rmax + 0.5 * fcor * rmax**2) * (\n",
      "/Users/simon/tcpips/chavas15/er11/radprof_raw.py:51: RuntimeWarning: invalid value encountered in multiply\n",
      "  V_ER11 = (1 / rr_ER11) * (Vmax * rmax + 0.5 * fcor * rmax**2) * (\n"
     ]
    },
    {
     "name": "stdout",
     "output_type": "stream",
     "text": [
      "'ER11_radprof_raw'  0.38639 s \n",
      "\n",
      "[  639463.65354614   640138.90555622   640814.1575663  ...\n",
      " 33759899.49597984 33760574.74798992 33761250.        ]\n"
     ]
    },
    {
     "name": "stderr",
     "output_type": "stream",
     "text": [
      "/Users/simon/tcpips/chavas15/er11/radprof_raw.py:51: RuntimeWarning: divide by zero encountered in divide\n",
      "  V_ER11 = (1 / rr_ER11) * (Vmax * rmax + 0.5 * fcor * rmax**2) * (\n",
      "/Users/simon/tcpips/chavas15/er11/radprof_raw.py:51: RuntimeWarning: invalid value encountered in multiply\n",
      "  V_ER11 = (1 / rr_ER11) * (Vmax * rmax + 0.5 * fcor * rmax**2) * (\n"
     ]
    },
    {
     "name": "stdout",
     "output_type": "stream",
     "text": [
      "'ER11_radprof_raw'  0.38892 s \n",
      "\n",
      "[  638113.14952598   638788.40153606   639463.65354614 ...\n",
      " 33759899.49597984 33760574.74798992 33761250.        ]\n"
     ]
    },
    {
     "name": "stderr",
     "output_type": "stream",
     "text": [
      "/Users/simon/tcpips/chavas15/er11/radprof_raw.py:51: RuntimeWarning: divide by zero encountered in divide\n",
      "  V_ER11 = (1 / rr_ER11) * (Vmax * rmax + 0.5 * fcor * rmax**2) * (\n",
      "/Users/simon/tcpips/chavas15/er11/radprof_raw.py:51: RuntimeWarning: invalid value encountered in multiply\n",
      "  V_ER11 = (1 / rr_ER11) * (Vmax * rmax + 0.5 * fcor * rmax**2) * (\n"
     ]
    },
    {
     "name": "stdout",
     "output_type": "stream",
     "text": [
      "'ER11_radprof_raw'  0.38461 s \n",
      "\n",
      "[  638113.14952598   638788.40153606   639463.65354614 ...\n",
      " 33759899.49597984 33760574.74798992 33761250.        ]\n"
     ]
    },
    {
     "name": "stderr",
     "output_type": "stream",
     "text": [
      "/Users/simon/tcpips/chavas15/er11/radprof_raw.py:51: RuntimeWarning: divide by zero encountered in divide\n",
      "  V_ER11 = (1 / rr_ER11) * (Vmax * rmax + 0.5 * fcor * rmax**2) * (\n",
      "/Users/simon/tcpips/chavas15/er11/radprof_raw.py:51: RuntimeWarning: invalid value encountered in multiply\n",
      "  V_ER11 = (1 / rr_ER11) * (Vmax * rmax + 0.5 * fcor * rmax**2) * (\n"
     ]
    },
    {
     "name": "stdout",
     "output_type": "stream",
     "text": [
      "'ER11_radprof_raw'  0.39216 s \n",
      "\n",
      "[  664447.97791912   665123.2299292    665798.48193928 ...\n",
      " 33759899.49597984 33760574.74798992 33761250.        ]\n"
     ]
    },
    {
     "name": "stderr",
     "output_type": "stream",
     "text": [
      "/Users/simon/tcpips/chavas15/er11/radprof_raw.py:51: RuntimeWarning: divide by zero encountered in divide\n",
      "  V_ER11 = (1 / rr_ER11) * (Vmax * rmax + 0.5 * fcor * rmax**2) * (\n",
      "/Users/simon/tcpips/chavas15/er11/radprof_raw.py:51: RuntimeWarning: invalid value encountered in multiply\n",
      "  V_ER11 = (1 / rr_ER11) * (Vmax * rmax + 0.5 * fcor * rmax**2) * (\n"
     ]
    },
    {
     "name": "stdout",
     "output_type": "stream",
     "text": [
      "'ER11_radprof_raw'  0.48735 s \n",
      "\n",
      "[  672551.00204008   673226.25405016   673901.50606024 ...\n",
      " 33759899.49597984 33760574.74798992 33761250.        ]\n"
     ]
    },
    {
     "name": "stderr",
     "output_type": "stream",
     "text": [
      "/Users/simon/tcpips/chavas15/er11/radprof_raw.py:51: RuntimeWarning: divide by zero encountered in divide\n",
      "  V_ER11 = (1 / rr_ER11) * (Vmax * rmax + 0.5 * fcor * rmax**2) * (\n",
      "/Users/simon/tcpips/chavas15/er11/radprof_raw.py:51: RuntimeWarning: invalid value encountered in multiply\n",
      "  V_ER11 = (1 / rr_ER11) * (Vmax * rmax + 0.5 * fcor * rmax**2) * (\n"
     ]
    },
    {
     "name": "stdout",
     "output_type": "stream",
     "text": [
      "'ER11_radprof_raw'  0.46421 s \n",
      "\n",
      "[  674576.75807032   675252.0100804    675927.26209048 ...\n",
      " 33759899.49597984 33760574.74798992 33761250.        ]\n"
     ]
    },
    {
     "name": "stderr",
     "output_type": "stream",
     "text": [
      "/Users/simon/tcpips/chavas15/er11/radprof_raw.py:51: RuntimeWarning: divide by zero encountered in divide\n",
      "  V_ER11 = (1 / rr_ER11) * (Vmax * rmax + 0.5 * fcor * rmax**2) * (\n",
      "/Users/simon/tcpips/chavas15/er11/radprof_raw.py:51: RuntimeWarning: invalid value encountered in multiply\n",
      "  V_ER11 = (1 / rr_ER11) * (Vmax * rmax + 0.5 * fcor * rmax**2) * (\n"
     ]
    },
    {
     "name": "stdout",
     "output_type": "stream",
     "text": [
      "'ER11_radprof_raw'  0.41239 s \n",
      "\n"
     ]
    },
    {
     "name": "stderr",
     "output_type": "stream",
     "text": [
      "/Users/simon/tcpips/chavas15/er11/radprof_raw.py:51: RuntimeWarning: divide by zero encountered in divide\n",
      "  V_ER11 = (1 / rr_ER11) * (Vmax * rmax + 0.5 * fcor * rmax**2) * (\n",
      "/Users/simon/tcpips/chavas15/er11/radprof_raw.py:51: RuntimeWarning: invalid value encountered in multiply\n",
      "  V_ER11 = (1 / rr_ER11) * (Vmax * rmax + 0.5 * fcor * rmax**2) * (\n"
     ]
    },
    {
     "name": "stdout",
     "output_type": "stream",
     "text": [
      "[  675927.26209048   676602.51410056   677277.76611064 ...\n",
      " 33759899.49597984 33760574.74798992 33761250.        ]\n",
      "'ER11_radprof_raw'  0.42201 s \n",
      "\n",
      "'ER11_radprof'  4.29804 s \n",
      "\n",
      "intersection sizes 1000 1333 1333000\n",
      "'curveintersect'  2.25314 s \n",
      "\n",
      "Large storm detected. Increasing drfracrm.\n",
      "dr =  675.1395055802232\n",
      "[  557665.23160926   558340.37111484   559015.51062042 ...\n",
      " 33754274.72098883 33754949.86049441 33755624.99999999]\n"
     ]
    },
    {
     "name": "stderr",
     "output_type": "stream",
     "text": [
      "/Users/simon/tcpips/chavas15/er11/radprof_raw.py:51: RuntimeWarning: divide by zero encountered in divide\n",
      "  V_ER11 = (1 / rr_ER11) * (Vmax * rmax + 0.5 * fcor * rmax**2) * (\n",
      "/Users/simon/tcpips/chavas15/er11/radprof_raw.py:51: RuntimeWarning: invalid value encountered in multiply\n",
      "  V_ER11 = (1 / rr_ER11) * (Vmax * rmax + 0.5 * fcor * rmax**2) * (\n"
     ]
    },
    {
     "name": "stdout",
     "output_type": "stream",
     "text": [
      "'ER11_radprof_raw'  0.38165 s \n",
      "\n",
      "[  639357.11178447   640032.25129005   640707.39079563 ...\n",
      " 33754274.72098883 33754949.86049441 33755624.99999999]\n"
     ]
    },
    {
     "name": "stderr",
     "output_type": "stream",
     "text": [
      "/Users/simon/tcpips/chavas15/er11/radprof_raw.py:51: RuntimeWarning: divide by zero encountered in divide\n",
      "  V_ER11 = (1 / rr_ER11) * (Vmax * rmax + 0.5 * fcor * rmax**2) * (\n",
      "/Users/simon/tcpips/chavas15/er11/radprof_raw.py:51: RuntimeWarning: invalid value encountered in multiply\n",
      "  V_ER11 = (1 / rr_ER11) * (Vmax * rmax + 0.5 * fcor * rmax**2) * (\n"
     ]
    },
    {
     "name": "stdout",
     "output_type": "stream",
     "text": [
      "'ER11_radprof_raw'  0.38399 s \n",
      "\n",
      "[  638006.83277331   638681.97227889   639357.11178447 ...\n",
      " 33754274.72098883 33754949.86049441 33755624.99999999]\n"
     ]
    },
    {
     "name": "stderr",
     "output_type": "stream",
     "text": [
      "/Users/simon/tcpips/chavas15/er11/radprof_raw.py:51: RuntimeWarning: divide by zero encountered in divide\n",
      "  V_ER11 = (1 / rr_ER11) * (Vmax * rmax + 0.5 * fcor * rmax**2) * (\n",
      "/Users/simon/tcpips/chavas15/er11/radprof_raw.py:51: RuntimeWarning: invalid value encountered in multiply\n",
      "  V_ER11 = (1 / rr_ER11) * (Vmax * rmax + 0.5 * fcor * rmax**2) * (\n"
     ]
    },
    {
     "name": "stdout",
     "output_type": "stream",
     "text": [
      "'ER11_radprof_raw'  0.38324 s \n",
      "\n",
      "[  638006.83277331   638681.97227889   639357.11178447 ...\n",
      " 33754274.72098883 33754949.86049441 33755624.99999999]\n"
     ]
    },
    {
     "name": "stderr",
     "output_type": "stream",
     "text": [
      "/Users/simon/tcpips/chavas15/er11/radprof_raw.py:51: RuntimeWarning: divide by zero encountered in divide\n",
      "  V_ER11 = (1 / rr_ER11) * (Vmax * rmax + 0.5 * fcor * rmax**2) * (\n",
      "/Users/simon/tcpips/chavas15/er11/radprof_raw.py:51: RuntimeWarning: invalid value encountered in multiply\n",
      "  V_ER11 = (1 / rr_ER11) * (Vmax * rmax + 0.5 * fcor * rmax**2) * (\n"
     ]
    },
    {
     "name": "stdout",
     "output_type": "stream",
     "text": [
      "'ER11_radprof_raw'  0.38293 s \n",
      "\n"
     ]
    },
    {
     "name": "stderr",
     "output_type": "stream",
     "text": [
      "/Users/simon/tcpips/chavas15/er11/radprof_raw.py:51: RuntimeWarning: divide by zero encountered in divide\n",
      "  V_ER11 = (1 / rr_ER11) * (Vmax * rmax + 0.5 * fcor * rmax**2) * (\n",
      "/Users/simon/tcpips/chavas15/er11/radprof_raw.py:51: RuntimeWarning: invalid value encountered in multiply\n",
      "  V_ER11 = (1 / rr_ER11) * (Vmax * rmax + 0.5 * fcor * rmax**2) * (\n"
     ]
    },
    {
     "name": "stdout",
     "output_type": "stream",
     "text": [
      "[  664337.27349094   665012.41299652   665687.5525021  ...\n",
      " 33754274.72098883 33754949.86049441 33755624.99999999]\n",
      "'ER11_radprof_raw'  0.48573 s \n",
      "\n",
      "[  672438.9475579    673114.08706348   673789.22656906 ...\n",
      " 33754274.72098883 33754949.86049441 33755624.99999999]\n"
     ]
    },
    {
     "name": "stderr",
     "output_type": "stream",
     "text": [
      "/Users/simon/tcpips/chavas15/er11/radprof_raw.py:51: RuntimeWarning: divide by zero encountered in divide\n",
      "  V_ER11 = (1 / rr_ER11) * (Vmax * rmax + 0.5 * fcor * rmax**2) * (\n",
      "/Users/simon/tcpips/chavas15/er11/radprof_raw.py:51: RuntimeWarning: invalid value encountered in multiply\n",
      "  V_ER11 = (1 / rr_ER11) * (Vmax * rmax + 0.5 * fcor * rmax**2) * (\n"
     ]
    },
    {
     "name": "stdout",
     "output_type": "stream",
     "text": [
      "'ER11_radprof_raw'  0.37527 s \n",
      "\n",
      "[  674464.36607464   675139.50558022   675814.6450858  ...\n",
      " 33754274.72098883 33754949.86049441 33755624.99999999]\n"
     ]
    },
    {
     "name": "stderr",
     "output_type": "stream",
     "text": [
      "/Users/simon/tcpips/chavas15/er11/radprof_raw.py:51: RuntimeWarning: divide by zero encountered in divide\n",
      "  V_ER11 = (1 / rr_ER11) * (Vmax * rmax + 0.5 * fcor * rmax**2) * (\n",
      "/Users/simon/tcpips/chavas15/er11/radprof_raw.py:51: RuntimeWarning: invalid value encountered in multiply\n",
      "  V_ER11 = (1 / rr_ER11) * (Vmax * rmax + 0.5 * fcor * rmax**2) * (\n"
     ]
    },
    {
     "name": "stdout",
     "output_type": "stream",
     "text": [
      "'ER11_radprof_raw'  0.37215 s \n",
      "\n",
      "[  675814.6450858    676489.78459138   677164.92409696 ...\n",
      " 33754274.72098883 33754949.86049441 33755624.99999999]\n"
     ]
    },
    {
     "name": "stderr",
     "output_type": "stream",
     "text": [
      "/Users/simon/tcpips/chavas15/er11/radprof_raw.py:51: RuntimeWarning: divide by zero encountered in divide\n",
      "  V_ER11 = (1 / rr_ER11) * (Vmax * rmax + 0.5 * fcor * rmax**2) * (\n",
      "/Users/simon/tcpips/chavas15/er11/radprof_raw.py:51: RuntimeWarning: invalid value encountered in multiply\n",
      "  V_ER11 = (1 / rr_ER11) * (Vmax * rmax + 0.5 * fcor * rmax**2) * (\n"
     ]
    },
    {
     "name": "stdout",
     "output_type": "stream",
     "text": [
      "'ER11_radprof_raw'  0.47434 s \n",
      "\n",
      "'ER11_radprof'  4.01798 s \n",
      "\n",
      "intersection sizes 1000 1334 1334000\n",
      "'curveintersect'  2.14888 s \n",
      "\n",
      "Large storm detected. Increasing drfracrm.\n",
      "dr =  675.0832533301333\n",
      "[  557618.76725069   558293.85050402   558968.93375735 ...\n",
      " 33751462.33349334 33752137.41674667 33752812.5       ]\n"
     ]
    },
    {
     "name": "stderr",
     "output_type": "stream",
     "text": [
      "/Users/simon/tcpips/chavas15/er11/radprof_raw.py:51: RuntimeWarning: divide by zero encountered in divide\n",
      "  V_ER11 = (1 / rr_ER11) * (Vmax * rmax + 0.5 * fcor * rmax**2) * (\n",
      "/Users/simon/tcpips/chavas15/er11/radprof_raw.py:51: RuntimeWarning: invalid value encountered in multiply\n",
      "  V_ER11 = (1 / rr_ER11) * (Vmax * rmax + 0.5 * fcor * rmax**2) * (\n"
     ]
    },
    {
     "name": "stdout",
     "output_type": "stream",
     "text": [
      "'ER11_radprof_raw'  0.41527 s \n",
      "\n",
      "[  639303.84090364   639978.92415697   640654.0074103  ...\n",
      " 33751462.33349334 33752137.41674667 33752812.5       ]\n"
     ]
    },
    {
     "name": "stderr",
     "output_type": "stream",
     "text": [
      "/Users/simon/tcpips/chavas15/er11/radprof_raw.py:51: RuntimeWarning: divide by zero encountered in divide\n",
      "  V_ER11 = (1 / rr_ER11) * (Vmax * rmax + 0.5 * fcor * rmax**2) * (\n",
      "/Users/simon/tcpips/chavas15/er11/radprof_raw.py:51: RuntimeWarning: invalid value encountered in multiply\n",
      "  V_ER11 = (1 / rr_ER11) * (Vmax * rmax + 0.5 * fcor * rmax**2) * (\n"
     ]
    },
    {
     "name": "stdout",
     "output_type": "stream",
     "text": [
      "'ER11_radprof_raw'  0.38834 s \n",
      "\n",
      "[  637953.67439698   638628.75765031   639303.84090364 ...\n",
      " 33751462.33349334 33752137.41674667 33752812.5       ]\n"
     ]
    },
    {
     "name": "stderr",
     "output_type": "stream",
     "text": [
      "/Users/simon/tcpips/chavas15/er11/radprof_raw.py:51: RuntimeWarning: divide by zero encountered in divide\n",
      "  V_ER11 = (1 / rr_ER11) * (Vmax * rmax + 0.5 * fcor * rmax**2) * (\n",
      "/Users/simon/tcpips/chavas15/er11/radprof_raw.py:51: RuntimeWarning: invalid value encountered in multiply\n",
      "  V_ER11 = (1 / rr_ER11) * (Vmax * rmax + 0.5 * fcor * rmax**2) * (\n"
     ]
    },
    {
     "name": "stdout",
     "output_type": "stream",
     "text": [
      "'ER11_radprof_raw'  0.41615 s \n",
      "\n",
      "[  637953.67439698   638628.75765031   639303.84090364 ...\n",
      " 33751462.33349334 33752137.41674667 33752812.5       ]\n"
     ]
    },
    {
     "name": "stderr",
     "output_type": "stream",
     "text": [
      "/Users/simon/tcpips/chavas15/er11/radprof_raw.py:51: RuntimeWarning: divide by zero encountered in divide\n",
      "  V_ER11 = (1 / rr_ER11) * (Vmax * rmax + 0.5 * fcor * rmax**2) * (\n",
      "/Users/simon/tcpips/chavas15/er11/radprof_raw.py:51: RuntimeWarning: invalid value encountered in multiply\n",
      "  V_ER11 = (1 / rr_ER11) * (Vmax * rmax + 0.5 * fcor * rmax**2) * (\n"
     ]
    },
    {
     "name": "stdout",
     "output_type": "stream",
     "text": [
      "'ER11_radprof_raw'  0.37573 s \n",
      "\n"
     ]
    },
    {
     "name": "stderr",
     "output_type": "stream",
     "text": [
      "/Users/simon/tcpips/chavas15/er11/radprof_raw.py:51: RuntimeWarning: divide by zero encountered in divide\n",
      "  V_ER11 = (1 / rr_ER11) * (Vmax * rmax + 0.5 * fcor * rmax**2) * (\n",
      "/Users/simon/tcpips/chavas15/er11/radprof_raw.py:51: RuntimeWarning: invalid value encountered in multiply\n",
      "  V_ER11 = (1 / rr_ER11) * (Vmax * rmax + 0.5 * fcor * rmax**2) * (\n"
     ]
    },
    {
     "name": "stdout",
     "output_type": "stream",
     "text": [
      "[  664281.92127685   664957.00453018   665632.08778351 ...\n",
      " 33751462.33349334 33752137.41674667 33752812.5       ]\n",
      "'ER11_radprof_raw'  0.37142 s \n",
      "\n",
      "[  672382.92031681   673058.00357014   673733.08682347 ...\n",
      " 33751462.33349334 33752137.41674667 33752812.5       ]\n"
     ]
    },
    {
     "name": "stderr",
     "output_type": "stream",
     "text": [
      "/Users/simon/tcpips/chavas15/er11/radprof_raw.py:51: RuntimeWarning: divide by zero encountered in divide\n",
      "  V_ER11 = (1 / rr_ER11) * (Vmax * rmax + 0.5 * fcor * rmax**2) * (\n",
      "/Users/simon/tcpips/chavas15/er11/radprof_raw.py:51: RuntimeWarning: invalid value encountered in multiply\n",
      "  V_ER11 = (1 / rr_ER11) * (Vmax * rmax + 0.5 * fcor * rmax**2) * (\n"
     ]
    },
    {
     "name": "stdout",
     "output_type": "stream",
     "text": [
      "'ER11_radprof_raw'  0.36829 s \n",
      "\n",
      "[  674408.1700768    675083.25333013   675758.33658346 ...\n",
      " 33751462.33349334 33752137.41674667 33752812.5       ]\n"
     ]
    },
    {
     "name": "stderr",
     "output_type": "stream",
     "text": [
      "/Users/simon/tcpips/chavas15/er11/radprof_raw.py:51: RuntimeWarning: divide by zero encountered in divide\n",
      "  V_ER11 = (1 / rr_ER11) * (Vmax * rmax + 0.5 * fcor * rmax**2) * (\n",
      "/Users/simon/tcpips/chavas15/er11/radprof_raw.py:51: RuntimeWarning: invalid value encountered in multiply\n",
      "  V_ER11 = (1 / rr_ER11) * (Vmax * rmax + 0.5 * fcor * rmax**2) * (\n"
     ]
    },
    {
     "name": "stdout",
     "output_type": "stream",
     "text": [
      "'ER11_radprof_raw'  0.36852 s \n",
      "\n",
      "[  675758.33658346   676433.41983679   677108.50309012 ...\n",
      " 33751462.33349334 33752137.41674667 33752812.5       ]\n"
     ]
    },
    {
     "name": "stderr",
     "output_type": "stream",
     "text": [
      "/Users/simon/tcpips/chavas15/er11/radprof_raw.py:51: RuntimeWarning: divide by zero encountered in divide\n",
      "  V_ER11 = (1 / rr_ER11) * (Vmax * rmax + 0.5 * fcor * rmax**2) * (\n",
      "/Users/simon/tcpips/chavas15/er11/radprof_raw.py:51: RuntimeWarning: invalid value encountered in multiply\n",
      "  V_ER11 = (1 / rr_ER11) * (Vmax * rmax + 0.5 * fcor * rmax**2) * (\n"
     ]
    },
    {
     "name": "stdout",
     "output_type": "stream",
     "text": [
      "'ER11_radprof_raw'  0.46838 s \n",
      "\n",
      "'ER11_radprof'  4.08229 s \n",
      "\n",
      "intersection sizes 1000 1334 1334000\n",
      "'curveintersect'  2.09331 s \n",
      "\n",
      "Large storm detected. Increasing drfracrm.\n",
      "dr =  675.0551272050881\n",
      "[  557595.5350714    558270.59019861   558945.64532581 ...\n",
      " 33750056.13974559 33750731.19487279 33751406.24999999]\n"
     ]
    },
    {
     "name": "stderr",
     "output_type": "stream",
     "text": [
      "/Users/simon/tcpips/chavas15/er11/radprof_raw.py:51: RuntimeWarning: divide by zero encountered in divide\n",
      "  V_ER11 = (1 / rr_ER11) * (Vmax * rmax + 0.5 * fcor * rmax**2) * (\n",
      "/Users/simon/tcpips/chavas15/er11/radprof_raw.py:51: RuntimeWarning: invalid value encountered in multiply\n",
      "  V_ER11 = (1 / rr_ER11) * (Vmax * rmax + 0.5 * fcor * rmax**2) * (\n"
     ]
    },
    {
     "name": "stdout",
     "output_type": "stream",
     "text": [
      "'ER11_radprof_raw'  0.41134 s \n",
      "\n",
      "[  639277.20546322   639952.26059042   640627.31571763 ...\n",
      " 33750056.13974559 33750731.19487279 33751406.24999999]\n"
     ]
    },
    {
     "name": "stderr",
     "output_type": "stream",
     "text": [
      "/Users/simon/tcpips/chavas15/er11/radprof_raw.py:51: RuntimeWarning: divide by zero encountered in divide\n",
      "  V_ER11 = (1 / rr_ER11) * (Vmax * rmax + 0.5 * fcor * rmax**2) * (\n",
      "/Users/simon/tcpips/chavas15/er11/radprof_raw.py:51: RuntimeWarning: invalid value encountered in multiply\n",
      "  V_ER11 = (1 / rr_ER11) * (Vmax * rmax + 0.5 * fcor * rmax**2) * (\n"
     ]
    },
    {
     "name": "stdout",
     "output_type": "stream",
     "text": [
      "'ER11_radprof_raw'  0.42940 s \n",
      "\n",
      "[  637927.09520881   638602.15033601   639277.20546322 ...\n",
      " 33750056.13974559 33750731.19487279 33751406.24999999]\n"
     ]
    },
    {
     "name": "stderr",
     "output_type": "stream",
     "text": [
      "/Users/simon/tcpips/chavas15/er11/radprof_raw.py:51: RuntimeWarning: divide by zero encountered in divide\n",
      "  V_ER11 = (1 / rr_ER11) * (Vmax * rmax + 0.5 * fcor * rmax**2) * (\n",
      "/Users/simon/tcpips/chavas15/er11/radprof_raw.py:51: RuntimeWarning: invalid value encountered in multiply\n",
      "  V_ER11 = (1 / rr_ER11) * (Vmax * rmax + 0.5 * fcor * rmax**2) * (\n"
     ]
    },
    {
     "name": "stdout",
     "output_type": "stream",
     "text": [
      "'ER11_radprof_raw'  0.42592 s \n",
      "\n",
      "[  637927.09520881   638602.15033601   639277.20546322 ...\n",
      " 33750056.13974559 33750731.19487279 33751406.24999999]\n"
     ]
    },
    {
     "name": "stderr",
     "output_type": "stream",
     "text": [
      "/Users/simon/tcpips/chavas15/er11/radprof_raw.py:51: RuntimeWarning: divide by zero encountered in divide\n",
      "  V_ER11 = (1 / rr_ER11) * (Vmax * rmax + 0.5 * fcor * rmax**2) * (\n",
      "/Users/simon/tcpips/chavas15/er11/radprof_raw.py:51: RuntimeWarning: invalid value encountered in multiply\n",
      "  V_ER11 = (1 / rr_ER11) * (Vmax * rmax + 0.5 * fcor * rmax**2) * (\n"
     ]
    },
    {
     "name": "stdout",
     "output_type": "stream",
     "text": [
      "'ER11_radprof_raw'  0.40674 s \n",
      "\n"
     ]
    },
    {
     "name": "stderr",
     "output_type": "stream",
     "text": [
      "/Users/simon/tcpips/chavas15/er11/radprof_raw.py:51: RuntimeWarning: divide by zero encountered in divide\n",
      "  V_ER11 = (1 / rr_ER11) * (Vmax * rmax + 0.5 * fcor * rmax**2) * (\n",
      "/Users/simon/tcpips/chavas15/er11/radprof_raw.py:51: RuntimeWarning: invalid value encountered in multiply\n",
      "  V_ER11 = (1 / rr_ER11) * (Vmax * rmax + 0.5 * fcor * rmax**2) * (\n"
     ]
    },
    {
     "name": "stdout",
     "output_type": "stream",
     "text": [
      "[  664254.24516981   664929.30029701   665604.35542422 ...\n",
      " 33750056.13974559 33750731.19487279 33751406.24999999]\n",
      "'ER11_radprof_raw'  0.40879 s \n",
      "\n",
      "[  672354.90669627   673029.96182347   673705.01695068 ...\n",
      " 33750056.13974559 33750731.19487279 33751406.24999999]\n"
     ]
    },
    {
     "name": "stderr",
     "output_type": "stream",
     "text": [
      "/Users/simon/tcpips/chavas15/er11/radprof_raw.py:51: RuntimeWarning: divide by zero encountered in divide\n",
      "  V_ER11 = (1 / rr_ER11) * (Vmax * rmax + 0.5 * fcor * rmax**2) * (\n",
      "/Users/simon/tcpips/chavas15/er11/radprof_raw.py:51: RuntimeWarning: invalid value encountered in multiply\n",
      "  V_ER11 = (1 / rr_ER11) * (Vmax * rmax + 0.5 * fcor * rmax**2) * (\n"
     ]
    },
    {
     "name": "stdout",
     "output_type": "stream",
     "text": [
      "'ER11_radprof_raw'  0.41544 s \n",
      "\n",
      "[  674380.07207788   675055.12720509   675730.18233229 ...\n",
      " 33750056.13974559 33750731.19487279 33751406.24999999]\n"
     ]
    },
    {
     "name": "stderr",
     "output_type": "stream",
     "text": [
      "/Users/simon/tcpips/chavas15/er11/radprof_raw.py:51: RuntimeWarning: divide by zero encountered in divide\n",
      "  V_ER11 = (1 / rr_ER11) * (Vmax * rmax + 0.5 * fcor * rmax**2) * (\n",
      "/Users/simon/tcpips/chavas15/er11/radprof_raw.py:51: RuntimeWarning: invalid value encountered in multiply\n",
      "  V_ER11 = (1 / rr_ER11) * (Vmax * rmax + 0.5 * fcor * rmax**2) * (\n"
     ]
    },
    {
     "name": "stdout",
     "output_type": "stream",
     "text": [
      "'ER11_radprof_raw'  0.41172 s \n",
      "\n",
      "[  675730.18233229   676405.2374595    677080.2925867  ...\n",
      " 33750056.13974559 33750731.19487279 33751406.24999999]\n"
     ]
    },
    {
     "name": "stderr",
     "output_type": "stream",
     "text": [
      "/Users/simon/tcpips/chavas15/er11/radprof_raw.py:51: RuntimeWarning: divide by zero encountered in divide\n",
      "  V_ER11 = (1 / rr_ER11) * (Vmax * rmax + 0.5 * fcor * rmax**2) * (\n",
      "/Users/simon/tcpips/chavas15/er11/radprof_raw.py:51: RuntimeWarning: invalid value encountered in multiply\n",
      "  V_ER11 = (1 / rr_ER11) * (Vmax * rmax + 0.5 * fcor * rmax**2) * (\n"
     ]
    },
    {
     "name": "stdout",
     "output_type": "stream",
     "text": [
      "'ER11_radprof_raw'  0.41729 s \n",
      "\n",
      "'ER11_radprof'  4.34928 s \n",
      "\n",
      "intersection sizes 1000 1334 1334000\n",
      "'curveintersect'  2.11680 s \n",
      "\n",
      "Large storm detected. Increasing drfracrm.\n",
      "dr =  675.0410641425657\n",
      "[  557583.91898176   558258.9600459    558934.00111004 ...\n",
      " 33749353.04287171 33750028.08393586 33750703.125     ]\n"
     ]
    },
    {
     "name": "stderr",
     "output_type": "stream",
     "text": [
      "/Users/simon/tcpips/chavas15/er11/radprof_raw.py:51: RuntimeWarning: divide by zero encountered in divide\n",
      "  V_ER11 = (1 / rr_ER11) * (Vmax * rmax + 0.5 * fcor * rmax**2) * (\n",
      "/Users/simon/tcpips/chavas15/er11/radprof_raw.py:51: RuntimeWarning: invalid value encountered in multiply\n",
      "  V_ER11 = (1 / rr_ER11) * (Vmax * rmax + 0.5 * fcor * rmax**2) * (\n"
     ]
    },
    {
     "name": "stdout",
     "output_type": "stream",
     "text": [
      "'ER11_radprof_raw'  0.38231 s \n",
      "\n",
      "[  639263.88774301   639938.92880715   640613.96987129 ...\n",
      " 33749353.04287171 33750028.08393586 33750703.125     ]\n"
     ]
    },
    {
     "name": "stderr",
     "output_type": "stream",
     "text": [
      "/Users/simon/tcpips/chavas15/er11/radprof_raw.py:51: RuntimeWarning: divide by zero encountered in divide\n",
      "  V_ER11 = (1 / rr_ER11) * (Vmax * rmax + 0.5 * fcor * rmax**2) * (\n",
      "/Users/simon/tcpips/chavas15/er11/radprof_raw.py:51: RuntimeWarning: invalid value encountered in multiply\n",
      "  V_ER11 = (1 / rr_ER11) * (Vmax * rmax + 0.5 * fcor * rmax**2) * (\n"
     ]
    },
    {
     "name": "stdout",
     "output_type": "stream",
     "text": [
      "'ER11_radprof_raw'  0.38524 s \n",
      "\n",
      "[  637913.80561472   638588.84667887   639263.88774301 ...\n",
      " 33749353.04287171 33750028.08393586 33750703.125     ]\n"
     ]
    },
    {
     "name": "stderr",
     "output_type": "stream",
     "text": [
      "/Users/simon/tcpips/chavas15/er11/radprof_raw.py:51: RuntimeWarning: divide by zero encountered in divide\n",
      "  V_ER11 = (1 / rr_ER11) * (Vmax * rmax + 0.5 * fcor * rmax**2) * (\n",
      "/Users/simon/tcpips/chavas15/er11/radprof_raw.py:51: RuntimeWarning: invalid value encountered in multiply\n",
      "  V_ER11 = (1 / rr_ER11) * (Vmax * rmax + 0.5 * fcor * rmax**2) * (\n"
     ]
    },
    {
     "name": "stdout",
     "output_type": "stream",
     "text": [
      "'ER11_radprof_raw'  0.39718 s \n",
      "\n",
      "[  637913.80561472   638588.84667887   639263.88774301 ...\n",
      " 33749353.04287171 33750028.08393586 33750703.125     ]\n"
     ]
    },
    {
     "name": "stderr",
     "output_type": "stream",
     "text": [
      "/Users/simon/tcpips/chavas15/er11/radprof_raw.py:51: RuntimeWarning: divide by zero encountered in divide\n",
      "  V_ER11 = (1 / rr_ER11) * (Vmax * rmax + 0.5 * fcor * rmax**2) * (\n",
      "/Users/simon/tcpips/chavas15/er11/radprof_raw.py:51: RuntimeWarning: invalid value encountered in multiply\n",
      "  V_ER11 = (1 / rr_ER11) * (Vmax * rmax + 0.5 * fcor * rmax**2) * (\n"
     ]
    },
    {
     "name": "stdout",
     "output_type": "stream",
     "text": [
      "'ER11_radprof_raw'  0.38954 s \n",
      "\n",
      "[  664240.40711628   664915.44818043   665590.48924457 ...\n",
      " 33749353.04287171 33750028.08393586 33750703.125     ]\n"
     ]
    },
    {
     "name": "stderr",
     "output_type": "stream",
     "text": [
      "/Users/simon/tcpips/chavas15/er11/radprof_raw.py:51: RuntimeWarning: divide by zero encountered in divide\n",
      "  V_ER11 = (1 / rr_ER11) * (Vmax * rmax + 0.5 * fcor * rmax**2) * (\n",
      "/Users/simon/tcpips/chavas15/er11/radprof_raw.py:51: RuntimeWarning: invalid value encountered in multiply\n",
      "  V_ER11 = (1 / rr_ER11) * (Vmax * rmax + 0.5 * fcor * rmax**2) * (\n"
     ]
    },
    {
     "name": "stdout",
     "output_type": "stream",
     "text": [
      "'ER11_radprof_raw'  0.56760 s \n",
      "\n"
     ]
    },
    {
     "name": "stderr",
     "output_type": "stream",
     "text": [
      "/Users/simon/tcpips/chavas15/er11/radprof_raw.py:51: RuntimeWarning: divide by zero encountered in divide\n",
      "  V_ER11 = (1 / rr_ER11) * (Vmax * rmax + 0.5 * fcor * rmax**2) * (\n",
      "/Users/simon/tcpips/chavas15/er11/radprof_raw.py:51: RuntimeWarning: invalid value encountered in multiply\n",
      "  V_ER11 = (1 / rr_ER11) * (Vmax * rmax + 0.5 * fcor * rmax**2) * (\n"
     ]
    },
    {
     "name": "stdout",
     "output_type": "stream",
     "text": [
      "[  672340.899886     673015.94095014   673690.98201428 ...\n",
      " 33749353.04287171 33750028.08393586 33750703.125     ]\n",
      "'ER11_radprof_raw'  0.41805 s \n",
      "\n",
      "[  674366.02307842   675041.06414257   675716.10520671 ...\n",
      " 33749353.04287171 33750028.08393586 33750703.125     ]\n"
     ]
    },
    {
     "name": "stderr",
     "output_type": "stream",
     "text": [
      "/Users/simon/tcpips/chavas15/er11/radprof_raw.py:51: RuntimeWarning: divide by zero encountered in divide\n",
      "  V_ER11 = (1 / rr_ER11) * (Vmax * rmax + 0.5 * fcor * rmax**2) * (\n",
      "/Users/simon/tcpips/chavas15/er11/radprof_raw.py:51: RuntimeWarning: invalid value encountered in multiply\n",
      "  V_ER11 = (1 / rr_ER11) * (Vmax * rmax + 0.5 * fcor * rmax**2) * (\n"
     ]
    },
    {
     "name": "stdout",
     "output_type": "stream",
     "text": [
      "'ER11_radprof_raw'  0.45809 s \n",
      "\n",
      "[  675716.10520671   676391.14627085   677066.18733499 ...\n",
      " 33749353.04287171 33750028.08393586 33750703.125     ]\n"
     ]
    },
    {
     "name": "stderr",
     "output_type": "stream",
     "text": [
      "/Users/simon/tcpips/chavas15/er11/radprof_raw.py:51: RuntimeWarning: divide by zero encountered in divide\n",
      "  V_ER11 = (1 / rr_ER11) * (Vmax * rmax + 0.5 * fcor * rmax**2) * (\n",
      "/Users/simon/tcpips/chavas15/er11/radprof_raw.py:51: RuntimeWarning: invalid value encountered in multiply\n",
      "  V_ER11 = (1 / rr_ER11) * (Vmax * rmax + 0.5 * fcor * rmax**2) * (\n"
     ]
    },
    {
     "name": "stdout",
     "output_type": "stream",
     "text": [
      "'ER11_radprof_raw'  0.38888 s \n",
      "\n",
      "'ER11_radprof'  4.23259 s \n",
      "\n",
      "intersection sizes 1000 1334 1334000\n",
      "'curveintersect'  2.18174 s \n",
      "\n",
      "Large storm detected. Increasing drfracrm.\n",
      "dr =  675.0340326113044\n",
      "[  557578.11093694   558253.14496955   558928.17900216 ...\n",
      " 33749001.49443477 33749676.52846738 33750351.56249999]\n"
     ]
    },
    {
     "name": "stderr",
     "output_type": "stream",
     "text": [
      "/Users/simon/tcpips/chavas15/er11/radprof_raw.py:51: RuntimeWarning: divide by zero encountered in divide\n",
      "  V_ER11 = (1 / rr_ER11) * (Vmax * rmax + 0.5 * fcor * rmax**2) * (\n",
      "/Users/simon/tcpips/chavas15/er11/radprof_raw.py:51: RuntimeWarning: invalid value encountered in multiply\n",
      "  V_ER11 = (1 / rr_ER11) * (Vmax * rmax + 0.5 * fcor * rmax**2) * (\n"
     ]
    },
    {
     "name": "stdout",
     "output_type": "stream",
     "text": [
      "'ER11_radprof_raw'  0.41246 s \n",
      "\n",
      "[  639257.22888291   639932.26291552   640607.29694813 ...\n",
      " 33749001.49443477 33749676.52846738 33750351.56249999]\n"
     ]
    },
    {
     "name": "stderr",
     "output_type": "stream",
     "text": [
      "/Users/simon/tcpips/chavas15/er11/radprof_raw.py:51: RuntimeWarning: divide by zero encountered in divide\n",
      "  V_ER11 = (1 / rr_ER11) * (Vmax * rmax + 0.5 * fcor * rmax**2) * (\n",
      "/Users/simon/tcpips/chavas15/er11/radprof_raw.py:51: RuntimeWarning: invalid value encountered in multiply\n",
      "  V_ER11 = (1 / rr_ER11) * (Vmax * rmax + 0.5 * fcor * rmax**2) * (\n"
     ]
    },
    {
     "name": "stdout",
     "output_type": "stream",
     "text": [
      "'ER11_radprof_raw'  0.37690 s \n",
      "\n",
      "[  637907.16081768   638582.19485029   639257.22888291 ...\n",
      " 33749001.49443477 33749676.52846738 33750351.56249999]\n"
     ]
    },
    {
     "name": "stderr",
     "output_type": "stream",
     "text": [
      "/Users/simon/tcpips/chavas15/er11/radprof_raw.py:51: RuntimeWarning: divide by zero encountered in divide\n",
      "  V_ER11 = (1 / rr_ER11) * (Vmax * rmax + 0.5 * fcor * rmax**2) * (\n",
      "/Users/simon/tcpips/chavas15/er11/radprof_raw.py:51: RuntimeWarning: invalid value encountered in multiply\n",
      "  V_ER11 = (1 / rr_ER11) * (Vmax * rmax + 0.5 * fcor * rmax**2) * (\n"
     ]
    },
    {
     "name": "stdout",
     "output_type": "stream",
     "text": [
      "'ER11_radprof_raw'  0.38948 s \n",
      "\n",
      "[  637907.16081768   638582.19485029   639257.22888291 ...\n",
      " 33749001.49443477 33749676.52846738 33750351.56249999]\n"
     ]
    },
    {
     "name": "stderr",
     "output_type": "stream",
     "text": [
      "/Users/simon/tcpips/chavas15/er11/radprof_raw.py:51: RuntimeWarning: divide by zero encountered in divide\n",
      "  V_ER11 = (1 / rr_ER11) * (Vmax * rmax + 0.5 * fcor * rmax**2) * (\n",
      "/Users/simon/tcpips/chavas15/er11/radprof_raw.py:51: RuntimeWarning: invalid value encountered in multiply\n",
      "  V_ER11 = (1 / rr_ER11) * (Vmax * rmax + 0.5 * fcor * rmax**2) * (\n"
     ]
    },
    {
     "name": "stdout",
     "output_type": "stream",
     "text": [
      "'ER11_radprof_raw'  0.37781 s \n",
      "\n",
      "[  664233.48808952   664908.52212213   665583.55615475 ...\n",
      " 33749001.49443477 33749676.52846738 33750351.56249999]\n"
     ]
    },
    {
     "name": "stderr",
     "output_type": "stream",
     "text": [
      "/Users/simon/tcpips/chavas15/er11/radprof_raw.py:51: RuntimeWarning: divide by zero encountered in divide\n",
      "  V_ER11 = (1 / rr_ER11) * (Vmax * rmax + 0.5 * fcor * rmax**2) * (\n",
      "/Users/simon/tcpips/chavas15/er11/radprof_raw.py:51: RuntimeWarning: invalid value encountered in multiply\n",
      "  V_ER11 = (1 / rr_ER11) * (Vmax * rmax + 0.5 * fcor * rmax**2) * (\n"
     ]
    },
    {
     "name": "stdout",
     "output_type": "stream",
     "text": [
      "'ER11_radprof_raw'  0.47770 s \n",
      "\n",
      "[  672333.89648086   673008.93051347   673683.96454608 ...\n",
      " 33749001.49443477 33749676.52846738 33750351.56249999]\n"
     ]
    },
    {
     "name": "stderr",
     "output_type": "stream",
     "text": [
      "/Users/simon/tcpips/chavas15/er11/radprof_raw.py:51: RuntimeWarning: divide by zero encountered in divide\n",
      "  V_ER11 = (1 / rr_ER11) * (Vmax * rmax + 0.5 * fcor * rmax**2) * (\n",
      "/Users/simon/tcpips/chavas15/er11/radprof_raw.py:51: RuntimeWarning: invalid value encountered in multiply\n",
      "  V_ER11 = (1 / rr_ER11) * (Vmax * rmax + 0.5 * fcor * rmax**2) * (\n"
     ]
    },
    {
     "name": "stdout",
     "output_type": "stream",
     "text": [
      "'ER11_radprof_raw'  0.38586 s \n",
      "\n",
      "[  674358.99857869   675034.0326113    675709.06664392 ...\n",
      " 33749001.49443477 33749676.52846738 33750351.56249999]\n"
     ]
    },
    {
     "name": "stderr",
     "output_type": "stream",
     "text": [
      "/Users/simon/tcpips/chavas15/er11/radprof_raw.py:51: RuntimeWarning: divide by zero encountered in divide\n",
      "  V_ER11 = (1 / rr_ER11) * (Vmax * rmax + 0.5 * fcor * rmax**2) * (\n",
      "/Users/simon/tcpips/chavas15/er11/radprof_raw.py:51: RuntimeWarning: invalid value encountered in multiply\n",
      "  V_ER11 = (1 / rr_ER11) * (Vmax * rmax + 0.5 * fcor * rmax**2) * (\n"
     ]
    },
    {
     "name": "stdout",
     "output_type": "stream",
     "text": [
      "'ER11_radprof_raw'  0.37772 s \n",
      "\n",
      "[  675709.06664392   676384.10067653   677059.13470914 ...\n",
      " 33749001.49443477 33749676.52846738 33750351.56249999]\n"
     ]
    },
    {
     "name": "stderr",
     "output_type": "stream",
     "text": [
      "/Users/simon/tcpips/chavas15/er11/radprof_raw.py:51: RuntimeWarning: divide by zero encountered in divide\n",
      "  V_ER11 = (1 / rr_ER11) * (Vmax * rmax + 0.5 * fcor * rmax**2) * (\n",
      "/Users/simon/tcpips/chavas15/er11/radprof_raw.py:51: RuntimeWarning: invalid value encountered in multiply\n",
      "  V_ER11 = (1 / rr_ER11) * (Vmax * rmax + 0.5 * fcor * rmax**2) * (\n"
     ]
    },
    {
     "name": "stdout",
     "output_type": "stream",
     "text": [
      "'ER11_radprof_raw'  0.37226 s \n",
      "\n",
      "'ER11_radprof'  3.94872 s \n",
      "\n",
      "intersection sizes 1000 1334 1334000\n",
      "'curveintersect'  2.10221 s \n",
      "\n",
      "Large storm detected. Increasing drfracrm.\n",
      "dr =  675.0305168456738\n",
      "[  557575.20691453   558250.23743137   558925.26794822 ...\n",
      " 33748825.7202163  33749500.75073315 33750175.78124999]\n"
     ]
    },
    {
     "name": "stderr",
     "output_type": "stream",
     "text": [
      "/Users/simon/tcpips/chavas15/er11/radprof_raw.py:51: RuntimeWarning: divide by zero encountered in divide\n",
      "  V_ER11 = (1 / rr_ER11) * (Vmax * rmax + 0.5 * fcor * rmax**2) * (\n",
      "/Users/simon/tcpips/chavas15/er11/radprof_raw.py:51: RuntimeWarning: invalid value encountered in multiply\n",
      "  V_ER11 = (1 / rr_ER11) * (Vmax * rmax + 0.5 * fcor * rmax**2) * (\n"
     ]
    },
    {
     "name": "stdout",
     "output_type": "stream",
     "text": [
      "'ER11_radprof_raw'  0.52132 s \n",
      "\n",
      "[  639253.89945285   639928.9299697    640603.96048654 ...\n",
      " 33748825.7202163  33749500.75073315 33750175.78124999]\n"
     ]
    },
    {
     "name": "stderr",
     "output_type": "stream",
     "text": [
      "/Users/simon/tcpips/chavas15/er11/radprof_raw.py:51: RuntimeWarning: divide by zero encountered in divide\n",
      "  V_ER11 = (1 / rr_ER11) * (Vmax * rmax + 0.5 * fcor * rmax**2) * (\n",
      "/Users/simon/tcpips/chavas15/er11/radprof_raw.py:51: RuntimeWarning: invalid value encountered in multiply\n",
      "  V_ER11 = (1 / rr_ER11) * (Vmax * rmax + 0.5 * fcor * rmax**2) * (\n"
     ]
    },
    {
     "name": "stdout",
     "output_type": "stream",
     "text": [
      "'ER11_radprof_raw'  0.40292 s \n",
      "\n",
      "[  637903.83841916   638578.86893601   639253.89945285 ...\n",
      " 33748825.7202163  33749500.75073315 33750175.78124999]\n"
     ]
    },
    {
     "name": "stderr",
     "output_type": "stream",
     "text": [
      "/Users/simon/tcpips/chavas15/er11/radprof_raw.py:51: RuntimeWarning: divide by zero encountered in divide\n",
      "  V_ER11 = (1 / rr_ER11) * (Vmax * rmax + 0.5 * fcor * rmax**2) * (\n",
      "/Users/simon/tcpips/chavas15/er11/radprof_raw.py:51: RuntimeWarning: invalid value encountered in multiply\n",
      "  V_ER11 = (1 / rr_ER11) * (Vmax * rmax + 0.5 * fcor * rmax**2) * (\n"
     ]
    },
    {
     "name": "stdout",
     "output_type": "stream",
     "text": [
      "'ER11_radprof_raw'  0.45806 s \n",
      "\n",
      "[  637903.83841916   638578.86893601   639253.89945285 ...\n",
      " 33748825.7202163  33749500.75073315 33750175.78124999]\n"
     ]
    },
    {
     "name": "stderr",
     "output_type": "stream",
     "text": [
      "/Users/simon/tcpips/chavas15/er11/radprof_raw.py:51: RuntimeWarning: divide by zero encountered in divide\n",
      "  V_ER11 = (1 / rr_ER11) * (Vmax * rmax + 0.5 * fcor * rmax**2) * (\n",
      "/Users/simon/tcpips/chavas15/er11/radprof_raw.py:51: RuntimeWarning: invalid value encountered in multiply\n",
      "  V_ER11 = (1 / rr_ER11) * (Vmax * rmax + 0.5 * fcor * rmax**2) * (\n"
     ]
    },
    {
     "name": "stdout",
     "output_type": "stream",
     "text": [
      "'ER11_radprof_raw'  0.39619 s \n",
      "\n",
      "[  664230.02857614   664905.05909299   665580.08960983 ...\n",
      " 33748825.7202163  33749500.75073315 33750175.78124999]\n"
     ]
    },
    {
     "name": "stderr",
     "output_type": "stream",
     "text": [
      "/Users/simon/tcpips/chavas15/er11/radprof_raw.py:51: RuntimeWarning: divide by zero encountered in divide\n",
      "  V_ER11 = (1 / rr_ER11) * (Vmax * rmax + 0.5 * fcor * rmax**2) * (\n",
      "/Users/simon/tcpips/chavas15/er11/radprof_raw.py:51: RuntimeWarning: invalid value encountered in multiply\n",
      "  V_ER11 = (1 / rr_ER11) * (Vmax * rmax + 0.5 * fcor * rmax**2) * (\n"
     ]
    },
    {
     "name": "stdout",
     "output_type": "stream",
     "text": [
      "'ER11_radprof_raw'  0.39729 s \n",
      "\n"
     ]
    },
    {
     "name": "stderr",
     "output_type": "stream",
     "text": [
      "/Users/simon/tcpips/chavas15/er11/radprof_raw.py:51: RuntimeWarning: divide by zero encountered in divide\n",
      "  V_ER11 = (1 / rr_ER11) * (Vmax * rmax + 0.5 * fcor * rmax**2) * (\n",
      "/Users/simon/tcpips/chavas15/er11/radprof_raw.py:51: RuntimeWarning: invalid value encountered in multiply\n",
      "  V_ER11 = (1 / rr_ER11) * (Vmax * rmax + 0.5 * fcor * rmax**2) * (\n"
     ]
    },
    {
     "name": "stdout",
     "output_type": "stream",
     "text": [
      "[  672330.39477829   673005.42529514   673680.45581198 ...\n",
      " 33748825.7202163  33749500.75073315 33750175.78124999]\n",
      "'ER11_radprof_raw'  0.38445 s \n",
      "\n",
      "[  674355.48632883   675030.51684567   675705.54736252 ...\n",
      " 33748825.7202163  33749500.75073315 33750175.78124999]\n"
     ]
    },
    {
     "name": "stderr",
     "output_type": "stream",
     "text": [
      "/Users/simon/tcpips/chavas15/er11/radprof_raw.py:51: RuntimeWarning: divide by zero encountered in divide\n",
      "  V_ER11 = (1 / rr_ER11) * (Vmax * rmax + 0.5 * fcor * rmax**2) * (\n",
      "/Users/simon/tcpips/chavas15/er11/radprof_raw.py:51: RuntimeWarning: invalid value encountered in multiply\n",
      "  V_ER11 = (1 / rr_ER11) * (Vmax * rmax + 0.5 * fcor * rmax**2) * (\n"
     ]
    },
    {
     "name": "stdout",
     "output_type": "stream",
     "text": [
      "'ER11_radprof_raw'  0.41568 s \n",
      "\n",
      "[  675705.54736252   676380.57787937   677055.60839621 ...\n",
      " 33748825.7202163  33749500.75073315 33750175.78124999]\n"
     ]
    },
    {
     "name": "stderr",
     "output_type": "stream",
     "text": [
      "/Users/simon/tcpips/chavas15/er11/radprof_raw.py:51: RuntimeWarning: divide by zero encountered in divide\n",
      "  V_ER11 = (1 / rr_ER11) * (Vmax * rmax + 0.5 * fcor * rmax**2) * (\n",
      "/Users/simon/tcpips/chavas15/er11/radprof_raw.py:51: RuntimeWarning: invalid value encountered in multiply\n",
      "  V_ER11 = (1 / rr_ER11) * (Vmax * rmax + 0.5 * fcor * rmax**2) * (\n"
     ]
    },
    {
     "name": "stdout",
     "output_type": "stream",
     "text": [
      "'ER11_radprof_raw'  0.40215 s \n",
      "\n",
      "'ER11_radprof'  4.34042 s \n",
      "\n",
      "intersection sizes 1000 1334 1334000\n",
      "'curveintersect'  2.26903 s \n",
      "\n",
      "Large storm detected. Increasing drfracrm.\n",
      "dr =  675.0287589628585\n",
      "[  557573.75490332   558248.78366228   558923.81242125 ...\n",
      " 33748737.83310708 33749412.86186603 33750087.890625  ]\n"
     ]
    },
    {
     "name": "stderr",
     "output_type": "stream",
     "text": [
      "/Users/simon/tcpips/chavas15/er11/radprof_raw.py:51: RuntimeWarning: divide by zero encountered in divide\n",
      "  V_ER11 = (1 / rr_ER11) * (Vmax * rmax + 0.5 * fcor * rmax**2) * (\n",
      "/Users/simon/tcpips/chavas15/er11/radprof_raw.py:51: RuntimeWarning: invalid value encountered in multiply\n",
      "  V_ER11 = (1 / rr_ER11) * (Vmax * rmax + 0.5 * fcor * rmax**2) * (\n"
     ]
    },
    {
     "name": "stdout",
     "output_type": "stream",
     "text": [
      "'ER11_radprof_raw'  0.60488 s \n",
      "\n",
      "[  639252.23473783   639927.26349679   640602.29225575 ...\n",
      " 33748737.83310708 33749412.86186603 33750087.890625  ]\n"
     ]
    },
    {
     "name": "stderr",
     "output_type": "stream",
     "text": [
      "/Users/simon/tcpips/chavas15/er11/radprof_raw.py:51: RuntimeWarning: divide by zero encountered in divide\n",
      "  V_ER11 = (1 / rr_ER11) * (Vmax * rmax + 0.5 * fcor * rmax**2) * (\n",
      "/Users/simon/tcpips/chavas15/er11/radprof_raw.py:51: RuntimeWarning: invalid value encountered in multiply\n",
      "  V_ER11 = (1 / rr_ER11) * (Vmax * rmax + 0.5 * fcor * rmax**2) * (\n"
     ]
    },
    {
     "name": "stdout",
     "output_type": "stream",
     "text": [
      "'ER11_radprof_raw'  0.37171 s \n",
      "\n",
      "[  637902.1772199    638577.20597886   639252.23473783 ...\n",
      " 33748737.83310708 33749412.86186603 33750087.890625  ]\n"
     ]
    },
    {
     "name": "stderr",
     "output_type": "stream",
     "text": [
      "/Users/simon/tcpips/chavas15/er11/radprof_raw.py:51: RuntimeWarning: divide by zero encountered in divide\n",
      "  V_ER11 = (1 / rr_ER11) * (Vmax * rmax + 0.5 * fcor * rmax**2) * (\n",
      "/Users/simon/tcpips/chavas15/er11/radprof_raw.py:51: RuntimeWarning: invalid value encountered in multiply\n",
      "  V_ER11 = (1 / rr_ER11) * (Vmax * rmax + 0.5 * fcor * rmax**2) * (\n"
     ]
    },
    {
     "name": "stdout",
     "output_type": "stream",
     "text": [
      "'ER11_radprof_raw'  0.36751 s \n",
      "\n",
      "[  637902.1772199    638577.20597886   639252.23473783 ...\n",
      " 33748737.83310708 33749412.86186603 33750087.890625  ]\n"
     ]
    },
    {
     "name": "stderr",
     "output_type": "stream",
     "text": [
      "/Users/simon/tcpips/chavas15/er11/radprof_raw.py:51: RuntimeWarning: divide by zero encountered in divide\n",
      "  V_ER11 = (1 / rr_ER11) * (Vmax * rmax + 0.5 * fcor * rmax**2) * (\n",
      "/Users/simon/tcpips/chavas15/er11/radprof_raw.py:51: RuntimeWarning: invalid value encountered in multiply\n",
      "  V_ER11 = (1 / rr_ER11) * (Vmax * rmax + 0.5 * fcor * rmax**2) * (\n"
     ]
    },
    {
     "name": "stdout",
     "output_type": "stream",
     "text": [
      "'ER11_radprof_raw'  0.36499 s \n",
      "\n",
      "[  664228.29881945   664903.32757842   665578.35633738 ...\n",
      " 33748737.83310708 33749412.86186603 33750087.890625  ]\n"
     ]
    },
    {
     "name": "stderr",
     "output_type": "stream",
     "text": [
      "/Users/simon/tcpips/chavas15/er11/radprof_raw.py:51: RuntimeWarning: divide by zero encountered in divide\n",
      "  V_ER11 = (1 / rr_ER11) * (Vmax * rmax + 0.5 * fcor * rmax**2) * (\n",
      "/Users/simon/tcpips/chavas15/er11/radprof_raw.py:51: RuntimeWarning: invalid value encountered in multiply\n",
      "  V_ER11 = (1 / rr_ER11) * (Vmax * rmax + 0.5 * fcor * rmax**2) * (\n"
     ]
    },
    {
     "name": "stdout",
     "output_type": "stream",
     "text": [
      "'ER11_radprof_raw'  0.37170 s \n",
      "\n",
      "[  672328.64392701   673003.67268597   673678.70144493 ...\n",
      " 33748737.83310708 33749412.86186603 33750087.890625  ]\n"
     ]
    },
    {
     "name": "stderr",
     "output_type": "stream",
     "text": [
      "/Users/simon/tcpips/chavas15/er11/radprof_raw.py:51: RuntimeWarning: divide by zero encountered in divide\n",
      "  V_ER11 = (1 / rr_ER11) * (Vmax * rmax + 0.5 * fcor * rmax**2) * (\n",
      "/Users/simon/tcpips/chavas15/er11/radprof_raw.py:51: RuntimeWarning: invalid value encountered in multiply\n",
      "  V_ER11 = (1 / rr_ER11) * (Vmax * rmax + 0.5 * fcor * rmax**2) * (\n"
     ]
    },
    {
     "name": "stdout",
     "output_type": "stream",
     "text": [
      "'ER11_radprof_raw'  0.48926 s \n",
      "\n",
      "[  674353.7302039    675028.75896286   675703.78772182 ...\n",
      " 33748737.83310708 33749412.86186603 33750087.890625  ]\n"
     ]
    },
    {
     "name": "stderr",
     "output_type": "stream",
     "text": [
      "/Users/simon/tcpips/chavas15/er11/radprof_raw.py:51: RuntimeWarning: divide by zero encountered in divide\n",
      "  V_ER11 = (1 / rr_ER11) * (Vmax * rmax + 0.5 * fcor * rmax**2) * (\n",
      "/Users/simon/tcpips/chavas15/er11/radprof_raw.py:51: RuntimeWarning: invalid value encountered in multiply\n",
      "  V_ER11 = (1 / rr_ER11) * (Vmax * rmax + 0.5 * fcor * rmax**2) * (\n"
     ]
    },
    {
     "name": "stdout",
     "output_type": "stream",
     "text": [
      "'ER11_radprof_raw'  0.38267 s \n",
      "\n",
      "[  675703.78772182   676378.81648078   677053.84523975 ...\n",
      " 33748737.83310708 33749412.86186603 33750087.890625  ]\n"
     ]
    },
    {
     "name": "stderr",
     "output_type": "stream",
     "text": [
      "/Users/simon/tcpips/chavas15/er11/radprof_raw.py:51: RuntimeWarning: divide by zero encountered in divide\n",
      "  V_ER11 = (1 / rr_ER11) * (Vmax * rmax + 0.5 * fcor * rmax**2) * (\n",
      "/Users/simon/tcpips/chavas15/er11/radprof_raw.py:51: RuntimeWarning: invalid value encountered in multiply\n",
      "  V_ER11 = (1 / rr_ER11) * (Vmax * rmax + 0.5 * fcor * rmax**2) * (\n"
     ]
    },
    {
     "name": "stdout",
     "output_type": "stream",
     "text": [
      "'ER11_radprof_raw'  0.38152 s \n",
      "\n",
      "'ER11_radprof'  4.10859 s \n",
      "\n",
      "intersection sizes 1000 1334 1334000\n",
      "'curveintersect'  2.13580 s \n",
      "\n",
      "Adjusting CkCd to find convergence.\n",
      "Large storm detected. Increasing drfracrm.\n",
      "dr =  675.9270370814833\n",
      "[  567778.71114845   568454.63818553   569130.56522261 ...\n",
      " 33793648.14592583 33794324.07296292 33795000.        ]\n"
     ]
    },
    {
     "name": "stderr",
     "output_type": "stream",
     "text": [
      "/Users/simon/tcpips/chavas15/er11/radprof_raw.py:51: RuntimeWarning: divide by zero encountered in divide\n",
      "  V_ER11 = (1 / rr_ER11) * (Vmax * rmax + 0.5 * fcor * rmax**2) * (\n",
      "/Users/simon/tcpips/chavas15/er11/radprof_raw.py:51: RuntimeWarning: invalid value encountered in multiply\n",
      "  V_ER11 = (1 / rr_ER11) * (Vmax * rmax + 0.5 * fcor * rmax**2) * (\n"
     ]
    },
    {
     "name": "stdout",
     "output_type": "stream",
     "text": [
      "'ER11_radprof_raw'  0.39356 s \n",
      "\n",
      "[  645510.32041282   646186.2474499    646862.17448698 ...\n",
      " 33793648.14592583 33794324.07296292 33795000.        ]\n"
     ]
    },
    {
     "name": "stderr",
     "output_type": "stream",
     "text": [
      "/Users/simon/tcpips/chavas15/er11/radprof_raw.py:51: RuntimeWarning: divide by zero encountered in divide\n",
      "  V_ER11 = (1 / rr_ER11) * (Vmax * rmax + 0.5 * fcor * rmax**2) * (\n",
      "/Users/simon/tcpips/chavas15/er11/radprof_raw.py:51: RuntimeWarning: invalid value encountered in multiply\n",
      "  V_ER11 = (1 / rr_ER11) * (Vmax * rmax + 0.5 * fcor * rmax**2) * (\n"
     ]
    },
    {
     "name": "stdout",
     "output_type": "stream",
     "text": [
      "'ER11_radprof_raw'  0.52017 s \n",
      "\n",
      "[  645510.32041282   646186.2474499    646862.17448698 ...\n",
      " 33793648.14592583 33794324.07296292 33795000.        ]\n"
     ]
    },
    {
     "name": "stderr",
     "output_type": "stream",
     "text": [
      "/Users/simon/tcpips/chavas15/er11/radprof_raw.py:51: RuntimeWarning: divide by zero encountered in divide\n",
      "  V_ER11 = (1 / rr_ER11) * (Vmax * rmax + 0.5 * fcor * rmax**2) * (\n",
      "/Users/simon/tcpips/chavas15/er11/radprof_raw.py:51: RuntimeWarning: invalid value encountered in multiply\n",
      "  V_ER11 = (1 / rr_ER11) * (Vmax * rmax + 0.5 * fcor * rmax**2) * (\n"
     ]
    },
    {
     "name": "stdout",
     "output_type": "stream",
     "text": [
      "'ER11_radprof_raw'  0.41296 s \n",
      "\n",
      "[  667815.91263651   668491.83967359   669167.76671067 ...\n",
      " 33793648.14592583 33794324.07296292 33795000.        ]\n"
     ]
    },
    {
     "name": "stderr",
     "output_type": "stream",
     "text": [
      "/Users/simon/tcpips/chavas15/er11/radprof_raw.py:51: RuntimeWarning: divide by zero encountered in divide\n",
      "  V_ER11 = (1 / rr_ER11) * (Vmax * rmax + 0.5 * fcor * rmax**2) * (\n",
      "/Users/simon/tcpips/chavas15/er11/radprof_raw.py:51: RuntimeWarning: invalid value encountered in multiply\n",
      "  V_ER11 = (1 / rr_ER11) * (Vmax * rmax + 0.5 * fcor * rmax**2) * (\n"
     ]
    },
    {
     "name": "stdout",
     "output_type": "stream",
     "text": [
      "'ER11_radprof_raw'  0.41311 s \n",
      "\n",
      "[  673223.32893316   673899.25597024   674575.18300732 ...\n",
      " 33793648.14592583 33794324.07296292 33795000.        ]\n"
     ]
    },
    {
     "name": "stderr",
     "output_type": "stream",
     "text": [
      "/Users/simon/tcpips/chavas15/er11/radprof_raw.py:51: RuntimeWarning: divide by zero encountered in divide\n",
      "  V_ER11 = (1 / rr_ER11) * (Vmax * rmax + 0.5 * fcor * rmax**2) * (\n",
      "/Users/simon/tcpips/chavas15/er11/radprof_raw.py:51: RuntimeWarning: invalid value encountered in multiply\n",
      "  V_ER11 = (1 / rr_ER11) * (Vmax * rmax + 0.5 * fcor * rmax**2) * (\n"
     ]
    },
    {
     "name": "stdout",
     "output_type": "stream",
     "text": [
      "'ER11_radprof_raw'  0.41331 s \n",
      "\n",
      "[  673223.32893316   673899.25597024   674575.18300732 ...\n",
      " 33793648.14592583 33794324.07296292 33795000.        ]\n"
     ]
    },
    {
     "name": "stderr",
     "output_type": "stream",
     "text": [
      "/Users/simon/tcpips/chavas15/er11/radprof_raw.py:51: RuntimeWarning: divide by zero encountered in divide\n",
      "  V_ER11 = (1 / rr_ER11) * (Vmax * rmax + 0.5 * fcor * rmax**2) * (\n",
      "/Users/simon/tcpips/chavas15/er11/radprof_raw.py:51: RuntimeWarning: invalid value encountered in multiply\n",
      "  V_ER11 = (1 / rr_ER11) * (Vmax * rmax + 0.5 * fcor * rmax**2) * (\n"
     ]
    },
    {
     "name": "stdout",
     "output_type": "stream",
     "text": [
      "'ER11_radprof_raw'  0.38322 s \n",
      "\n",
      "[  675251.1100444    675927.03708148   676602.96411856 ...\n",
      " 33793648.14592583 33794324.07296292 33795000.        ]\n"
     ]
    },
    {
     "name": "stderr",
     "output_type": "stream",
     "text": [
      "/Users/simon/tcpips/chavas15/er11/radprof_raw.py:51: RuntimeWarning: divide by zero encountered in divide\n",
      "  V_ER11 = (1 / rr_ER11) * (Vmax * rmax + 0.5 * fcor * rmax**2) * (\n",
      "/Users/simon/tcpips/chavas15/er11/radprof_raw.py:51: RuntimeWarning: invalid value encountered in multiply\n",
      "  V_ER11 = (1 / rr_ER11) * (Vmax * rmax + 0.5 * fcor * rmax**2) * (\n"
     ]
    },
    {
     "name": "stdout",
     "output_type": "stream",
     "text": [
      "'ER11_radprof_raw'  0.51763 s \n",
      "\n",
      "[  676602.96411856   677278.89115565   677954.81819273 ...\n",
      " 33793648.14592583 33794324.07296292 33795000.        ]\n"
     ]
    },
    {
     "name": "stderr",
     "output_type": "stream",
     "text": [
      "/Users/simon/tcpips/chavas15/er11/radprof_raw.py:51: RuntimeWarning: divide by zero encountered in divide\n",
      "  V_ER11 = (1 / rr_ER11) * (Vmax * rmax + 0.5 * fcor * rmax**2) * (\n",
      "/Users/simon/tcpips/chavas15/er11/radprof_raw.py:51: RuntimeWarning: invalid value encountered in multiply\n",
      "  V_ER11 = (1 / rr_ER11) * (Vmax * rmax + 0.5 * fcor * rmax**2) * (\n"
     ]
    },
    {
     "name": "stdout",
     "output_type": "stream",
     "text": [
      "'ER11_radprof_raw'  0.38860 s \n",
      "\n",
      "'ER11_radprof'  4.25097 s \n",
      "\n",
      "intersection sizes 1000 1332 1332000\n",
      "'curveintersect'  2.19197 s \n",
      "\n",
      "Large storm detected. Increasing drfracrm.\n",
      "dr =  675.4770190807633\n",
      "[  567400.69602784   568076.17304692   568751.650066   ...\n",
      " 33771149.04596184 33771824.52298092 33772500.        ]\n"
     ]
    },
    {
     "name": "stderr",
     "output_type": "stream",
     "text": [
      "/Users/simon/tcpips/chavas15/er11/radprof_raw.py:51: RuntimeWarning: divide by zero encountered in divide\n",
      "  V_ER11 = (1 / rr_ER11) * (Vmax * rmax + 0.5 * fcor * rmax**2) * (\n",
      "/Users/simon/tcpips/chavas15/er11/radprof_raw.py:51: RuntimeWarning: invalid value encountered in multiply\n",
      "  V_ER11 = (1 / rr_ER11) * (Vmax * rmax + 0.5 * fcor * rmax**2) * (\n"
     ]
    },
    {
     "name": "stdout",
     "output_type": "stream",
     "text": [
      "'ER11_radprof_raw'  0.42041 s \n",
      "\n",
      "[  645080.55322213   645756.03024121   646431.50726029 ...\n",
      " 33771149.04596184 33771824.52298092 33772500.        ]\n"
     ]
    },
    {
     "name": "stderr",
     "output_type": "stream",
     "text": [
      "/Users/simon/tcpips/chavas15/er11/radprof_raw.py:51: RuntimeWarning: divide by zero encountered in divide\n",
      "  V_ER11 = (1 / rr_ER11) * (Vmax * rmax + 0.5 * fcor * rmax**2) * (\n",
      "/Users/simon/tcpips/chavas15/er11/radprof_raw.py:51: RuntimeWarning: invalid value encountered in multiply\n",
      "  V_ER11 = (1 / rr_ER11) * (Vmax * rmax + 0.5 * fcor * rmax**2) * (\n"
     ]
    },
    {
     "name": "stdout",
     "output_type": "stream",
     "text": [
      "'ER11_radprof_raw'  0.43092 s \n",
      "\n",
      "[  645080.55322213   645756.03024121   646431.50726029 ...\n",
      " 33771149.04596184 33771824.52298092 33772500.        ]\n"
     ]
    },
    {
     "name": "stderr",
     "output_type": "stream",
     "text": [
      "/Users/simon/tcpips/chavas15/er11/radprof_raw.py:51: RuntimeWarning: divide by zero encountered in divide\n",
      "  V_ER11 = (1 / rr_ER11) * (Vmax * rmax + 0.5 * fcor * rmax**2) * (\n",
      "/Users/simon/tcpips/chavas15/er11/radprof_raw.py:51: RuntimeWarning: invalid value encountered in multiply\n",
      "  V_ER11 = (1 / rr_ER11) * (Vmax * rmax + 0.5 * fcor * rmax**2) * (\n"
     ]
    },
    {
     "name": "stdout",
     "output_type": "stream",
     "text": [
      "'ER11_radprof_raw'  0.41907 s \n",
      "\n",
      "[  667371.29485179   668046.77187087   668722.24888996 ...\n",
      " 33771149.04596184 33771824.52298092 33772500.        ]\n"
     ]
    },
    {
     "name": "stderr",
     "output_type": "stream",
     "text": [
      "/Users/simon/tcpips/chavas15/er11/radprof_raw.py:51: RuntimeWarning: divide by zero encountered in divide\n",
      "  V_ER11 = (1 / rr_ER11) * (Vmax * rmax + 0.5 * fcor * rmax**2) * (\n",
      "/Users/simon/tcpips/chavas15/er11/radprof_raw.py:51: RuntimeWarning: invalid value encountered in multiply\n",
      "  V_ER11 = (1 / rr_ER11) * (Vmax * rmax + 0.5 * fcor * rmax**2) * (\n"
     ]
    },
    {
     "name": "stdout",
     "output_type": "stream",
     "text": [
      "'ER11_radprof_raw'  0.55988 s \n",
      "\n",
      "[  672775.11100444   673450.58802352   674126.0650426  ...\n",
      " 33771149.04596184 33771824.52298092 33772500.        ]\n"
     ]
    },
    {
     "name": "stderr",
     "output_type": "stream",
     "text": [
      "/Users/simon/tcpips/chavas15/er11/radprof_raw.py:51: RuntimeWarning: divide by zero encountered in divide\n",
      "  V_ER11 = (1 / rr_ER11) * (Vmax * rmax + 0.5 * fcor * rmax**2) * (\n",
      "/Users/simon/tcpips/chavas15/er11/radprof_raw.py:51: RuntimeWarning: invalid value encountered in multiply\n",
      "  V_ER11 = (1 / rr_ER11) * (Vmax * rmax + 0.5 * fcor * rmax**2) * (\n"
     ]
    },
    {
     "name": "stdout",
     "output_type": "stream",
     "text": [
      "'ER11_radprof_raw'  0.42216 s \n",
      "\n",
      "[  672775.11100444   673450.58802352   674126.0650426  ...\n",
      " 33771149.04596184 33771824.52298092 33772500.        ]\n"
     ]
    },
    {
     "name": "stderr",
     "output_type": "stream",
     "text": [
      "/Users/simon/tcpips/chavas15/er11/radprof_raw.py:51: RuntimeWarning: divide by zero encountered in divide\n",
      "  V_ER11 = (1 / rr_ER11) * (Vmax * rmax + 0.5 * fcor * rmax**2) * (\n",
      "/Users/simon/tcpips/chavas15/er11/radprof_raw.py:51: RuntimeWarning: invalid value encountered in multiply\n",
      "  V_ER11 = (1 / rr_ER11) * (Vmax * rmax + 0.5 * fcor * rmax**2) * (\n"
     ]
    },
    {
     "name": "stdout",
     "output_type": "stream",
     "text": [
      "'ER11_radprof_raw'  0.42298 s \n",
      "\n",
      "[  674801.54206168   675477.01908076   676152.49609984 ...\n",
      " 33771149.04596184 33771824.52298092 33772500.        ]\n"
     ]
    },
    {
     "name": "stderr",
     "output_type": "stream",
     "text": [
      "/Users/simon/tcpips/chavas15/er11/radprof_raw.py:51: RuntimeWarning: divide by zero encountered in divide\n",
      "  V_ER11 = (1 / rr_ER11) * (Vmax * rmax + 0.5 * fcor * rmax**2) * (\n",
      "/Users/simon/tcpips/chavas15/er11/radprof_raw.py:51: RuntimeWarning: invalid value encountered in multiply\n",
      "  V_ER11 = (1 / rr_ER11) * (Vmax * rmax + 0.5 * fcor * rmax**2) * (\n"
     ]
    },
    {
     "name": "stdout",
     "output_type": "stream",
     "text": [
      "'ER11_radprof_raw'  0.41780 s \n",
      "\n",
      "[  676152.49609984   676827.97311892   677503.45013801 ...\n",
      " 33771149.04596184 33771824.52298092 33772500.        ]\n"
     ]
    },
    {
     "name": "stderr",
     "output_type": "stream",
     "text": [
      "/Users/simon/tcpips/chavas15/er11/radprof_raw.py:51: RuntimeWarning: divide by zero encountered in divide\n",
      "  V_ER11 = (1 / rr_ER11) * (Vmax * rmax + 0.5 * fcor * rmax**2) * (\n",
      "/Users/simon/tcpips/chavas15/er11/radprof_raw.py:51: RuntimeWarning: invalid value encountered in multiply\n",
      "  V_ER11 = (1 / rr_ER11) * (Vmax * rmax + 0.5 * fcor * rmax**2) * (\n"
     ]
    },
    {
     "name": "stdout",
     "output_type": "stream",
     "text": [
      "'ER11_radprof_raw'  0.55597 s \n",
      "\n",
      "'ER11_radprof'  4.42655 s \n",
      "\n",
      "intersection sizes 1000 1333 1333000\n",
      "'curveintersect'  2.14603 s \n",
      "\n",
      "Large storm detected. Increasing drfracrm.\n",
      "dr =  675.2520100804032\n",
      "[  567211.68846754   567886.94047762   568562.1924877  ...\n",
      " 33759899.49597984 33760574.74798992 33761250.        ]\n"
     ]
    },
    {
     "name": "stderr",
     "output_type": "stream",
     "text": [
      "/Users/simon/tcpips/chavas15/er11/radprof_raw.py:51: RuntimeWarning: divide by zero encountered in divide\n",
      "  V_ER11 = (1 / rr_ER11) * (Vmax * rmax + 0.5 * fcor * rmax**2) * (\n",
      "/Users/simon/tcpips/chavas15/er11/radprof_raw.py:51: RuntimeWarning: invalid value encountered in multiply\n",
      "  V_ER11 = (1 / rr_ER11) * (Vmax * rmax + 0.5 * fcor * rmax**2) * (\n"
     ]
    },
    {
     "name": "stdout",
     "output_type": "stream",
     "text": [
      "'ER11_radprof_raw'  0.39598 s \n",
      "\n",
      "[  644865.66962679   645540.92163687   646216.17364695 ...\n",
      " 33759899.49597984 33760574.74798992 33761250.        ]\n"
     ]
    },
    {
     "name": "stderr",
     "output_type": "stream",
     "text": [
      "/Users/simon/tcpips/chavas15/er11/radprof_raw.py:51: RuntimeWarning: divide by zero encountered in divide\n",
      "  V_ER11 = (1 / rr_ER11) * (Vmax * rmax + 0.5 * fcor * rmax**2) * (\n",
      "/Users/simon/tcpips/chavas15/er11/radprof_raw.py:51: RuntimeWarning: invalid value encountered in multiply\n",
      "  V_ER11 = (1 / rr_ER11) * (Vmax * rmax + 0.5 * fcor * rmax**2) * (\n"
     ]
    },
    {
     "name": "stdout",
     "output_type": "stream",
     "text": [
      "'ER11_radprof_raw'  0.39897 s \n",
      "\n",
      "[  644865.66962679   645540.92163687   646216.17364695 ...\n",
      " 33759899.49597984 33760574.74798992 33761250.        ]\n"
     ]
    },
    {
     "name": "stderr",
     "output_type": "stream",
     "text": [
      "/Users/simon/tcpips/chavas15/er11/radprof_raw.py:51: RuntimeWarning: divide by zero encountered in divide\n",
      "  V_ER11 = (1 / rr_ER11) * (Vmax * rmax + 0.5 * fcor * rmax**2) * (\n",
      "/Users/simon/tcpips/chavas15/er11/radprof_raw.py:51: RuntimeWarning: invalid value encountered in multiply\n",
      "  V_ER11 = (1 / rr_ER11) * (Vmax * rmax + 0.5 * fcor * rmax**2) * (\n"
     ]
    },
    {
     "name": "stdout",
     "output_type": "stream",
     "text": [
      "'ER11_radprof_raw'  0.39459 s \n",
      "\n",
      "[  667148.98595944   667824.23796952   668499.4899796  ...\n",
      " 33759899.49597984 33760574.74798992 33761250.        ]\n"
     ]
    },
    {
     "name": "stderr",
     "output_type": "stream",
     "text": [
      "/Users/simon/tcpips/chavas15/er11/radprof_raw.py:51: RuntimeWarning: divide by zero encountered in divide\n",
      "  V_ER11 = (1 / rr_ER11) * (Vmax * rmax + 0.5 * fcor * rmax**2) * (\n",
      "/Users/simon/tcpips/chavas15/er11/radprof_raw.py:51: RuntimeWarning: invalid value encountered in multiply\n",
      "  V_ER11 = (1 / rr_ER11) * (Vmax * rmax + 0.5 * fcor * rmax**2) * (\n"
     ]
    },
    {
     "name": "stdout",
     "output_type": "stream",
     "text": [
      "'ER11_radprof_raw'  0.39147 s \n",
      "\n",
      "[  672551.00204008   673226.25405016   673901.50606024 ...\n",
      " 33759899.49597984 33760574.74798992 33761250.        ]\n"
     ]
    },
    {
     "name": "stderr",
     "output_type": "stream",
     "text": [
      "/Users/simon/tcpips/chavas15/er11/radprof_raw.py:51: RuntimeWarning: divide by zero encountered in divide\n",
      "  V_ER11 = (1 / rr_ER11) * (Vmax * rmax + 0.5 * fcor * rmax**2) * (\n",
      "/Users/simon/tcpips/chavas15/er11/radprof_raw.py:51: RuntimeWarning: invalid value encountered in multiply\n",
      "  V_ER11 = (1 / rr_ER11) * (Vmax * rmax + 0.5 * fcor * rmax**2) * (\n"
     ]
    },
    {
     "name": "stdout",
     "output_type": "stream",
     "text": [
      "'ER11_radprof_raw'  0.52223 s \n",
      "\n",
      "[  672551.00204008   673226.25405016   673901.50606024 ...\n",
      " 33759899.49597984 33760574.74798992 33761250.        ]\n"
     ]
    },
    {
     "name": "stderr",
     "output_type": "stream",
     "text": [
      "/Users/simon/tcpips/chavas15/er11/radprof_raw.py:51: RuntimeWarning: divide by zero encountered in divide\n",
      "  V_ER11 = (1 / rr_ER11) * (Vmax * rmax + 0.5 * fcor * rmax**2) * (\n",
      "/Users/simon/tcpips/chavas15/er11/radprof_raw.py:51: RuntimeWarning: invalid value encountered in multiply\n",
      "  V_ER11 = (1 / rr_ER11) * (Vmax * rmax + 0.5 * fcor * rmax**2) * (\n"
     ]
    },
    {
     "name": "stdout",
     "output_type": "stream",
     "text": [
      "'ER11_radprof_raw'  0.39337 s \n",
      "\n",
      "[  675252.0100804    675927.26209048   676602.51410056 ...\n",
      " 33759899.49597984 33760574.74798992 33761250.        ]\n"
     ]
    },
    {
     "name": "stderr",
     "output_type": "stream",
     "text": [
      "/Users/simon/tcpips/chavas15/er11/radprof_raw.py:51: RuntimeWarning: divide by zero encountered in divide\n",
      "  V_ER11 = (1 / rr_ER11) * (Vmax * rmax + 0.5 * fcor * rmax**2) * (\n",
      "/Users/simon/tcpips/chavas15/er11/radprof_raw.py:51: RuntimeWarning: invalid value encountered in multiply\n",
      "  V_ER11 = (1 / rr_ER11) * (Vmax * rmax + 0.5 * fcor * rmax**2) * (\n"
     ]
    },
    {
     "name": "stdout",
     "output_type": "stream",
     "text": [
      "'ER11_radprof_raw'  0.43736 s \n",
      "\n",
      "[  675252.0100804    675927.26209048   676602.51410056 ...\n",
      " 33759899.49597984 33760574.74798992 33761250.        ]\n"
     ]
    },
    {
     "name": "stderr",
     "output_type": "stream",
     "text": [
      "/Users/simon/tcpips/chavas15/er11/radprof_raw.py:51: RuntimeWarning: divide by zero encountered in divide\n",
      "  V_ER11 = (1 / rr_ER11) * (Vmax * rmax + 0.5 * fcor * rmax**2) * (\n",
      "/Users/simon/tcpips/chavas15/er11/radprof_raw.py:51: RuntimeWarning: invalid value encountered in multiply\n",
      "  V_ER11 = (1 / rr_ER11) * (Vmax * rmax + 0.5 * fcor * rmax**2) * (\n"
     ]
    },
    {
     "name": "stdout",
     "output_type": "stream",
     "text": [
      "'ER11_radprof_raw'  0.39462 s \n",
      "\n",
      "[  675927.26209048   676602.51410056   677277.76611064 ...\n",
      " 33759899.49597984 33760574.74798992 33761250.        ]\n"
     ]
    },
    {
     "name": "stderr",
     "output_type": "stream",
     "text": [
      "/Users/simon/tcpips/chavas15/er11/radprof_raw.py:51: RuntimeWarning: divide by zero encountered in divide\n",
      "  V_ER11 = (1 / rr_ER11) * (Vmax * rmax + 0.5 * fcor * rmax**2) * (\n",
      "/Users/simon/tcpips/chavas15/er11/radprof_raw.py:51: RuntimeWarning: invalid value encountered in multiply\n",
      "  V_ER11 = (1 / rr_ER11) * (Vmax * rmax + 0.5 * fcor * rmax**2) * (\n"
     ]
    },
    {
     "name": "stdout",
     "output_type": "stream",
     "text": [
      "'ER11_radprof_raw'  0.38717 s \n",
      "\n",
      "'ER11_radprof'  4.80361 s \n",
      "\n",
      "intersection sizes 1000 1333 1333000\n",
      "'curveintersect'  2.08660 s \n",
      "\n",
      "Large storm detected. Increasing drfracrm.\n",
      "dr =  675.1395055802232\n",
      "[  567117.18468739   567792.32419297   568467.46369855 ...\n",
      " 33754274.72098883 33754949.86049441 33755624.99999999]\n"
     ]
    },
    {
     "name": "stderr",
     "output_type": "stream",
     "text": [
      "/Users/simon/tcpips/chavas15/er11/radprof_raw.py:51: RuntimeWarning: divide by zero encountered in divide\n",
      "  V_ER11 = (1 / rr_ER11) * (Vmax * rmax + 0.5 * fcor * rmax**2) * (\n",
      "/Users/simon/tcpips/chavas15/er11/radprof_raw.py:51: RuntimeWarning: invalid value encountered in multiply\n",
      "  V_ER11 = (1 / rr_ER11) * (Vmax * rmax + 0.5 * fcor * rmax**2) * (\n"
     ]
    },
    {
     "name": "stdout",
     "output_type": "stream",
     "text": [
      "'ER11_radprof_raw'  0.37704 s \n",
      "\n",
      "[  644758.22782911   645433.36733469   646108.50684027 ...\n",
      " 33754274.72098883 33754949.86049441 33755624.99999999]\n"
     ]
    },
    {
     "name": "stderr",
     "output_type": "stream",
     "text": [
      "/Users/simon/tcpips/chavas15/er11/radprof_raw.py:51: RuntimeWarning: divide by zero encountered in divide\n",
      "  V_ER11 = (1 / rr_ER11) * (Vmax * rmax + 0.5 * fcor * rmax**2) * (\n",
      "/Users/simon/tcpips/chavas15/er11/radprof_raw.py:51: RuntimeWarning: invalid value encountered in multiply\n",
      "  V_ER11 = (1 / rr_ER11) * (Vmax * rmax + 0.5 * fcor * rmax**2) * (\n"
     ]
    },
    {
     "name": "stdout",
     "output_type": "stream",
     "text": [
      "'ER11_radprof_raw'  0.38465 s \n",
      "\n",
      "[  644758.22782911   645433.36733469   646108.50684027 ...\n",
      " 33754274.72098883 33754949.86049441 33755624.99999999]\n"
     ]
    },
    {
     "name": "stderr",
     "output_type": "stream",
     "text": [
      "/Users/simon/tcpips/chavas15/er11/radprof_raw.py:51: RuntimeWarning: divide by zero encountered in divide\n",
      "  V_ER11 = (1 / rr_ER11) * (Vmax * rmax + 0.5 * fcor * rmax**2) * (\n",
      "/Users/simon/tcpips/chavas15/er11/radprof_raw.py:51: RuntimeWarning: invalid value encountered in multiply\n",
      "  V_ER11 = (1 / rr_ER11) * (Vmax * rmax + 0.5 * fcor * rmax**2) * (\n"
     ]
    },
    {
     "name": "stdout",
     "output_type": "stream",
     "text": [
      "'ER11_radprof_raw'  0.39852 s \n",
      "\n",
      "[  667037.83151326   667712.97101884   668388.11052442 ...\n",
      " 33754274.72098883 33754949.86049441 33755624.99999999]\n"
     ]
    },
    {
     "name": "stderr",
     "output_type": "stream",
     "text": [
      "/Users/simon/tcpips/chavas15/er11/radprof_raw.py:51: RuntimeWarning: divide by zero encountered in divide\n",
      "  V_ER11 = (1 / rr_ER11) * (Vmax * rmax + 0.5 * fcor * rmax**2) * (\n",
      "/Users/simon/tcpips/chavas15/er11/radprof_raw.py:51: RuntimeWarning: invalid value encountered in multiply\n",
      "  V_ER11 = (1 / rr_ER11) * (Vmax * rmax + 0.5 * fcor * rmax**2) * (\n"
     ]
    },
    {
     "name": "stdout",
     "output_type": "stream",
     "text": [
      "'ER11_radprof_raw'  0.38005 s \n",
      "\n",
      "[  672438.9475579    673114.08706348   673789.22656906 ...\n",
      " 33754274.72098883 33754949.86049441 33755624.99999999]\n"
     ]
    },
    {
     "name": "stderr",
     "output_type": "stream",
     "text": [
      "/Users/simon/tcpips/chavas15/er11/radprof_raw.py:51: RuntimeWarning: divide by zero encountered in divide\n",
      "  V_ER11 = (1 / rr_ER11) * (Vmax * rmax + 0.5 * fcor * rmax**2) * (\n",
      "/Users/simon/tcpips/chavas15/er11/radprof_raw.py:51: RuntimeWarning: invalid value encountered in multiply\n",
      "  V_ER11 = (1 / rr_ER11) * (Vmax * rmax + 0.5 * fcor * rmax**2) * (\n"
     ]
    },
    {
     "name": "stdout",
     "output_type": "stream",
     "text": [
      "'ER11_radprof_raw'  0.52501 s \n",
      "\n",
      "[  672438.9475579    673114.08706348   673789.22656906 ...\n",
      " 33754274.72098883 33754949.86049441 33755624.99999999]\n"
     ]
    },
    {
     "name": "stderr",
     "output_type": "stream",
     "text": [
      "/Users/simon/tcpips/chavas15/er11/radprof_raw.py:51: RuntimeWarning: divide by zero encountered in divide\n",
      "  V_ER11 = (1 / rr_ER11) * (Vmax * rmax + 0.5 * fcor * rmax**2) * (\n",
      "/Users/simon/tcpips/chavas15/er11/radprof_raw.py:51: RuntimeWarning: invalid value encountered in multiply\n",
      "  V_ER11 = (1 / rr_ER11) * (Vmax * rmax + 0.5 * fcor * rmax**2) * (\n"
     ]
    },
    {
     "name": "stdout",
     "output_type": "stream",
     "text": [
      "'ER11_radprof_raw'  0.38628 s \n",
      "\n",
      "[  675139.50558022   675814.6450858    676489.78459138 ...\n",
      " 33754274.72098883 33754949.86049441 33755624.99999999]\n"
     ]
    },
    {
     "name": "stderr",
     "output_type": "stream",
     "text": [
      "/Users/simon/tcpips/chavas15/er11/radprof_raw.py:51: RuntimeWarning: divide by zero encountered in divide\n",
      "  V_ER11 = (1 / rr_ER11) * (Vmax * rmax + 0.5 * fcor * rmax**2) * (\n",
      "/Users/simon/tcpips/chavas15/er11/radprof_raw.py:51: RuntimeWarning: invalid value encountered in multiply\n",
      "  V_ER11 = (1 / rr_ER11) * (Vmax * rmax + 0.5 * fcor * rmax**2) * (\n"
     ]
    },
    {
     "name": "stdout",
     "output_type": "stream",
     "text": [
      "'ER11_radprof_raw'  0.39205 s \n",
      "\n",
      "[  675139.50558022   675814.6450858    676489.78459138 ...\n",
      " 33754274.72098883 33754949.86049441 33755624.99999999]\n"
     ]
    },
    {
     "name": "stderr",
     "output_type": "stream",
     "text": [
      "/Users/simon/tcpips/chavas15/er11/radprof_raw.py:51: RuntimeWarning: divide by zero encountered in divide\n",
      "  V_ER11 = (1 / rr_ER11) * (Vmax * rmax + 0.5 * fcor * rmax**2) * (\n",
      "/Users/simon/tcpips/chavas15/er11/radprof_raw.py:51: RuntimeWarning: invalid value encountered in multiply\n",
      "  V_ER11 = (1 / rr_ER11) * (Vmax * rmax + 0.5 * fcor * rmax**2) * (\n"
     ]
    },
    {
     "name": "stdout",
     "output_type": "stream",
     "text": [
      "'ER11_radprof_raw'  0.38394 s \n",
      "\n",
      "[  675814.6450858    676489.78459138   677164.92409696 ...\n",
      " 33754274.72098883 33754949.86049441 33755624.99999999]\n"
     ]
    },
    {
     "name": "stderr",
     "output_type": "stream",
     "text": [
      "/Users/simon/tcpips/chavas15/er11/radprof_raw.py:51: RuntimeWarning: divide by zero encountered in divide\n",
      "  V_ER11 = (1 / rr_ER11) * (Vmax * rmax + 0.5 * fcor * rmax**2) * (\n",
      "/Users/simon/tcpips/chavas15/er11/radprof_raw.py:51: RuntimeWarning: invalid value encountered in multiply\n",
      "  V_ER11 = (1 / rr_ER11) * (Vmax * rmax + 0.5 * fcor * rmax**2) * (\n"
     ]
    },
    {
     "name": "stdout",
     "output_type": "stream",
     "text": [
      "'ER11_radprof_raw'  0.37964 s \n",
      "\n",
      "'ER11_radprof'  4.54982 s \n",
      "\n",
      "intersection sizes 1000 1334 1334000\n",
      "'curveintersect'  2.17105 s \n",
      "\n",
      "Large storm detected. Increasing drfracrm.\n",
      "dr =  675.0832533301333\n",
      "[  567069.93279731   567745.01605064   568420.09930397 ...\n",
      " 33751462.33349334 33752137.41674667 33752812.5       ]\n"
     ]
    },
    {
     "name": "stderr",
     "output_type": "stream",
     "text": [
      "/Users/simon/tcpips/chavas15/er11/radprof_raw.py:51: RuntimeWarning: divide by zero encountered in divide\n",
      "  V_ER11 = (1 / rr_ER11) * (Vmax * rmax + 0.5 * fcor * rmax**2) * (\n",
      "/Users/simon/tcpips/chavas15/er11/radprof_raw.py:51: RuntimeWarning: invalid value encountered in multiply\n",
      "  V_ER11 = (1 / rr_ER11) * (Vmax * rmax + 0.5 * fcor * rmax**2) * (\n"
     ]
    },
    {
     "name": "stdout",
     "output_type": "stream",
     "text": [
      "'ER11_radprof_raw'  0.36825 s \n",
      "\n",
      "[  644704.50693028   645379.59018361   646054.67343694 ...\n",
      " 33751462.33349334 33752137.41674667 33752812.5       ]\n"
     ]
    },
    {
     "name": "stderr",
     "output_type": "stream",
     "text": [
      "/Users/simon/tcpips/chavas15/er11/radprof_raw.py:51: RuntimeWarning: divide by zero encountered in divide\n",
      "  V_ER11 = (1 / rr_ER11) * (Vmax * rmax + 0.5 * fcor * rmax**2) * (\n",
      "/Users/simon/tcpips/chavas15/er11/radprof_raw.py:51: RuntimeWarning: invalid value encountered in multiply\n",
      "  V_ER11 = (1 / rr_ER11) * (Vmax * rmax + 0.5 * fcor * rmax**2) * (\n"
     ]
    },
    {
     "name": "stdout",
     "output_type": "stream",
     "text": [
      "'ER11_radprof_raw'  0.37517 s \n",
      "\n",
      "[  644704.50693028   645379.59018361   646054.67343694 ...\n",
      " 33751462.33349334 33752137.41674667 33752812.5       ]\n"
     ]
    },
    {
     "name": "stderr",
     "output_type": "stream",
     "text": [
      "/Users/simon/tcpips/chavas15/er11/radprof_raw.py:51: RuntimeWarning: divide by zero encountered in divide\n",
      "  V_ER11 = (1 / rr_ER11) * (Vmax * rmax + 0.5 * fcor * rmax**2) * (\n",
      "/Users/simon/tcpips/chavas15/er11/radprof_raw.py:51: RuntimeWarning: invalid value encountered in multiply\n",
      "  V_ER11 = (1 / rr_ER11) * (Vmax * rmax + 0.5 * fcor * rmax**2) * (\n"
     ]
    },
    {
     "name": "stdout",
     "output_type": "stream",
     "text": [
      "'ER11_radprof_raw'  0.37752 s \n",
      "\n",
      "[  666982.25429017   667657.3375435    668332.42079683 ...\n",
      " 33751462.33349334 33752137.41674667 33752812.5       ]\n"
     ]
    },
    {
     "name": "stderr",
     "output_type": "stream",
     "text": [
      "/Users/simon/tcpips/chavas15/er11/radprof_raw.py:51: RuntimeWarning: divide by zero encountered in divide\n",
      "  V_ER11 = (1 / rr_ER11) * (Vmax * rmax + 0.5 * fcor * rmax**2) * (\n",
      "/Users/simon/tcpips/chavas15/er11/radprof_raw.py:51: RuntimeWarning: invalid value encountered in multiply\n",
      "  V_ER11 = (1 / rr_ER11) * (Vmax * rmax + 0.5 * fcor * rmax**2) * (\n"
     ]
    },
    {
     "name": "stdout",
     "output_type": "stream",
     "text": [
      "'ER11_radprof_raw'  0.39390 s \n",
      "\n",
      "[  672382.92031681   673058.00357014   673733.08682347 ...\n",
      " 33751462.33349334 33752137.41674667 33752812.5       ]\n"
     ]
    },
    {
     "name": "stderr",
     "output_type": "stream",
     "text": [
      "/Users/simon/tcpips/chavas15/er11/radprof_raw.py:51: RuntimeWarning: divide by zero encountered in divide\n",
      "  V_ER11 = (1 / rr_ER11) * (Vmax * rmax + 0.5 * fcor * rmax**2) * (\n",
      "/Users/simon/tcpips/chavas15/er11/radprof_raw.py:51: RuntimeWarning: invalid value encountered in multiply\n",
      "  V_ER11 = (1 / rr_ER11) * (Vmax * rmax + 0.5 * fcor * rmax**2) * (\n"
     ]
    },
    {
     "name": "stdout",
     "output_type": "stream",
     "text": [
      "'ER11_radprof_raw'  0.42946 s \n",
      "\n",
      "[  672382.92031681   673058.00357014   673733.08682347 ...\n",
      " 33751462.33349334 33752137.41674667 33752812.5       ]\n"
     ]
    },
    {
     "name": "stderr",
     "output_type": "stream",
     "text": [
      "/Users/simon/tcpips/chavas15/er11/radprof_raw.py:51: RuntimeWarning: divide by zero encountered in divide\n",
      "  V_ER11 = (1 / rr_ER11) * (Vmax * rmax + 0.5 * fcor * rmax**2) * (\n",
      "/Users/simon/tcpips/chavas15/er11/radprof_raw.py:51: RuntimeWarning: invalid value encountered in multiply\n",
      "  V_ER11 = (1 / rr_ER11) * (Vmax * rmax + 0.5 * fcor * rmax**2) * (\n"
     ]
    },
    {
     "name": "stdout",
     "output_type": "stream",
     "text": [
      "'ER11_radprof_raw'  0.52219 s \n",
      "\n",
      "[  675083.25333013   675758.33658346   676433.41983679 ...\n",
      " 33751462.33349334 33752137.41674667 33752812.5       ]\n"
     ]
    },
    {
     "name": "stderr",
     "output_type": "stream",
     "text": [
      "/Users/simon/tcpips/chavas15/er11/radprof_raw.py:51: RuntimeWarning: divide by zero encountered in divide\n",
      "  V_ER11 = (1 / rr_ER11) * (Vmax * rmax + 0.5 * fcor * rmax**2) * (\n",
      "/Users/simon/tcpips/chavas15/er11/radprof_raw.py:51: RuntimeWarning: invalid value encountered in multiply\n",
      "  V_ER11 = (1 / rr_ER11) * (Vmax * rmax + 0.5 * fcor * rmax**2) * (\n"
     ]
    },
    {
     "name": "stdout",
     "output_type": "stream",
     "text": [
      "'ER11_radprof_raw'  0.37625 s \n",
      "\n",
      "[  675083.25333013   675758.33658346   676433.41983679 ...\n",
      " 33751462.33349334 33752137.41674667 33752812.5       ]\n"
     ]
    },
    {
     "name": "stderr",
     "output_type": "stream",
     "text": [
      "/Users/simon/tcpips/chavas15/er11/radprof_raw.py:51: RuntimeWarning: divide by zero encountered in divide\n",
      "  V_ER11 = (1 / rr_ER11) * (Vmax * rmax + 0.5 * fcor * rmax**2) * (\n",
      "/Users/simon/tcpips/chavas15/er11/radprof_raw.py:51: RuntimeWarning: invalid value encountered in multiply\n",
      "  V_ER11 = (1 / rr_ER11) * (Vmax * rmax + 0.5 * fcor * rmax**2) * (\n"
     ]
    },
    {
     "name": "stdout",
     "output_type": "stream",
     "text": [
      "'ER11_radprof_raw'  0.38458 s \n",
      "\n",
      "[  675758.33658346   676433.41983679   677108.50309012 ...\n",
      " 33751462.33349334 33752137.41674667 33752812.5       ]\n"
     ]
    },
    {
     "name": "stderr",
     "output_type": "stream",
     "text": [
      "/Users/simon/tcpips/chavas15/er11/radprof_raw.py:51: RuntimeWarning: divide by zero encountered in divide\n",
      "  V_ER11 = (1 / rr_ER11) * (Vmax * rmax + 0.5 * fcor * rmax**2) * (\n",
      "/Users/simon/tcpips/chavas15/er11/radprof_raw.py:51: RuntimeWarning: invalid value encountered in multiply\n",
      "  V_ER11 = (1 / rr_ER11) * (Vmax * rmax + 0.5 * fcor * rmax**2) * (\n"
     ]
    },
    {
     "name": "stdout",
     "output_type": "stream",
     "text": [
      "'ER11_radprof_raw'  0.37875 s \n",
      "\n",
      "'ER11_radprof'  4.55724 s \n",
      "\n",
      "intersection sizes 1000 1334 1334000\n",
      "'curveintersect'  2.16125 s \n",
      "\n",
      "Large storm detected. Increasing drfracrm.\n",
      "dr =  675.0551272050881\n",
      "[  567046.30685227   567721.36197948   568396.41710668 ...\n",
      " 33750056.13974559 33750731.19487279 33751406.24999999]\n"
     ]
    },
    {
     "name": "stderr",
     "output_type": "stream",
     "text": [
      "/Users/simon/tcpips/chavas15/er11/radprof_raw.py:51: RuntimeWarning: divide by zero encountered in divide\n",
      "  V_ER11 = (1 / rr_ER11) * (Vmax * rmax + 0.5 * fcor * rmax**2) * (\n",
      "/Users/simon/tcpips/chavas15/er11/radprof_raw.py:51: RuntimeWarning: invalid value encountered in multiply\n",
      "  V_ER11 = (1 / rr_ER11) * (Vmax * rmax + 0.5 * fcor * rmax**2) * (\n"
     ]
    },
    {
     "name": "stdout",
     "output_type": "stream",
     "text": [
      "'ER11_radprof_raw'  0.57271 s \n",
      "\n",
      "[  644677.64648086   645352.70160806   646027.75673527 ...\n",
      " 33750056.13974559 33750731.19487279 33751406.24999999]\n"
     ]
    },
    {
     "name": "stderr",
     "output_type": "stream",
     "text": [
      "/Users/simon/tcpips/chavas15/er11/radprof_raw.py:51: RuntimeWarning: divide by zero encountered in divide\n",
      "  V_ER11 = (1 / rr_ER11) * (Vmax * rmax + 0.5 * fcor * rmax**2) * (\n",
      "/Users/simon/tcpips/chavas15/er11/radprof_raw.py:51: RuntimeWarning: invalid value encountered in multiply\n",
      "  V_ER11 = (1 / rr_ER11) * (Vmax * rmax + 0.5 * fcor * rmax**2) * (\n"
     ]
    },
    {
     "name": "stdout",
     "output_type": "stream",
     "text": [
      "'ER11_radprof_raw'  0.43645 s \n",
      "\n",
      "[  644677.64648086   645352.70160806   646027.75673527 ...\n",
      " 33750056.13974559 33750731.19487279 33751406.24999999]\n"
     ]
    },
    {
     "name": "stderr",
     "output_type": "stream",
     "text": [
      "/Users/simon/tcpips/chavas15/er11/radprof_raw.py:51: RuntimeWarning: divide by zero encountered in divide\n",
      "  V_ER11 = (1 / rr_ER11) * (Vmax * rmax + 0.5 * fcor * rmax**2) * (\n",
      "/Users/simon/tcpips/chavas15/er11/radprof_raw.py:51: RuntimeWarning: invalid value encountered in multiply\n",
      "  V_ER11 = (1 / rr_ER11) * (Vmax * rmax + 0.5 * fcor * rmax**2) * (\n"
     ]
    },
    {
     "name": "stdout",
     "output_type": "stream",
     "text": [
      "'ER11_radprof_raw'  0.42937 s \n",
      "\n",
      "[  666954.46567863   667629.52080583   668304.57593304 ...\n",
      " 33750056.13974559 33750731.19487279 33751406.24999999]\n"
     ]
    },
    {
     "name": "stderr",
     "output_type": "stream",
     "text": [
      "/Users/simon/tcpips/chavas15/er11/radprof_raw.py:51: RuntimeWarning: divide by zero encountered in divide\n",
      "  V_ER11 = (1 / rr_ER11) * (Vmax * rmax + 0.5 * fcor * rmax**2) * (\n",
      "/Users/simon/tcpips/chavas15/er11/radprof_raw.py:51: RuntimeWarning: invalid value encountered in multiply\n",
      "  V_ER11 = (1 / rr_ER11) * (Vmax * rmax + 0.5 * fcor * rmax**2) * (\n"
     ]
    },
    {
     "name": "stdout",
     "output_type": "stream",
     "text": [
      "'ER11_radprof_raw'  0.42009 s \n",
      "\n",
      "[  672354.90669627   673029.96182347   673705.01695068 ...\n",
      " 33750056.13974559 33750731.19487279 33751406.24999999]\n"
     ]
    },
    {
     "name": "stderr",
     "output_type": "stream",
     "text": [
      "/Users/simon/tcpips/chavas15/er11/radprof_raw.py:51: RuntimeWarning: divide by zero encountered in divide\n",
      "  V_ER11 = (1 / rr_ER11) * (Vmax * rmax + 0.5 * fcor * rmax**2) * (\n",
      "/Users/simon/tcpips/chavas15/er11/radprof_raw.py:51: RuntimeWarning: invalid value encountered in multiply\n",
      "  V_ER11 = (1 / rr_ER11) * (Vmax * rmax + 0.5 * fcor * rmax**2) * (\n"
     ]
    },
    {
     "name": "stdout",
     "output_type": "stream",
     "text": [
      "'ER11_radprof_raw'  0.42695 s \n",
      "\n",
      "[  672354.90669627   673029.96182347   673705.01695068 ...\n",
      " 33750056.13974559 33750731.19487279 33751406.24999999]\n"
     ]
    },
    {
     "name": "stderr",
     "output_type": "stream",
     "text": [
      "/Users/simon/tcpips/chavas15/er11/radprof_raw.py:51: RuntimeWarning: divide by zero encountered in divide\n",
      "  V_ER11 = (1 / rr_ER11) * (Vmax * rmax + 0.5 * fcor * rmax**2) * (\n",
      "/Users/simon/tcpips/chavas15/er11/radprof_raw.py:51: RuntimeWarning: invalid value encountered in multiply\n",
      "  V_ER11 = (1 / rr_ER11) * (Vmax * rmax + 0.5 * fcor * rmax**2) * (\n"
     ]
    },
    {
     "name": "stdout",
     "output_type": "stream",
     "text": [
      "'ER11_radprof_raw'  0.42118 s \n",
      "\n",
      "[  675055.12720509   675730.18233229   676405.2374595  ...\n",
      " 33750056.13974559 33750731.19487279 33751406.24999999]\n"
     ]
    },
    {
     "name": "stderr",
     "output_type": "stream",
     "text": [
      "/Users/simon/tcpips/chavas15/er11/radprof_raw.py:51: RuntimeWarning: divide by zero encountered in divide\n",
      "  V_ER11 = (1 / rr_ER11) * (Vmax * rmax + 0.5 * fcor * rmax**2) * (\n",
      "/Users/simon/tcpips/chavas15/er11/radprof_raw.py:51: RuntimeWarning: invalid value encountered in multiply\n",
      "  V_ER11 = (1 / rr_ER11) * (Vmax * rmax + 0.5 * fcor * rmax**2) * (\n"
     ]
    },
    {
     "name": "stdout",
     "output_type": "stream",
     "text": [
      "'ER11_radprof_raw'  0.59795 s \n",
      "\n",
      "[  675055.12720509   675730.18233229   676405.2374595  ...\n",
      " 33750056.13974559 33750731.19487279 33751406.24999999]\n"
     ]
    },
    {
     "name": "stderr",
     "output_type": "stream",
     "text": [
      "/Users/simon/tcpips/chavas15/er11/radprof_raw.py:51: RuntimeWarning: divide by zero encountered in divide\n",
      "  V_ER11 = (1 / rr_ER11) * (Vmax * rmax + 0.5 * fcor * rmax**2) * (\n",
      "/Users/simon/tcpips/chavas15/er11/radprof_raw.py:51: RuntimeWarning: invalid value encountered in multiply\n",
      "  V_ER11 = (1 / rr_ER11) * (Vmax * rmax + 0.5 * fcor * rmax**2) * (\n"
     ]
    },
    {
     "name": "stdout",
     "output_type": "stream",
     "text": [
      "'ER11_radprof_raw'  0.42681 s \n",
      "\n",
      "[  675730.18233229   676405.2374595    677080.2925867  ...\n",
      " 33750056.13974559 33750731.19487279 33751406.24999999]\n"
     ]
    },
    {
     "name": "stderr",
     "output_type": "stream",
     "text": [
      "/Users/simon/tcpips/chavas15/er11/radprof_raw.py:51: RuntimeWarning: divide by zero encountered in divide\n",
      "  V_ER11 = (1 / rr_ER11) * (Vmax * rmax + 0.5 * fcor * rmax**2) * (\n",
      "/Users/simon/tcpips/chavas15/er11/radprof_raw.py:51: RuntimeWarning: invalid value encountered in multiply\n",
      "  V_ER11 = (1 / rr_ER11) * (Vmax * rmax + 0.5 * fcor * rmax**2) * (\n"
     ]
    },
    {
     "name": "stdout",
     "output_type": "stream",
     "text": [
      "'ER11_radprof_raw'  0.42452 s \n",
      "\n",
      "'ER11_radprof'  5.09581 s \n",
      "\n",
      "intersection sizes 1000 1334 1334000\n",
      "'curveintersect'  2.10749 s \n",
      "\n",
      "Large storm detected. Increasing drfracrm.\n",
      "dr =  675.0410641425657\n",
      "[  567034.49387976   567709.5349439    568384.57600804 ...\n",
      " 33749353.04287171 33750028.08393586 33750703.125     ]\n"
     ]
    },
    {
     "name": "stderr",
     "output_type": "stream",
     "text": [
      "/Users/simon/tcpips/chavas15/er11/radprof_raw.py:51: RuntimeWarning: divide by zero encountered in divide\n",
      "  V_ER11 = (1 / rr_ER11) * (Vmax * rmax + 0.5 * fcor * rmax**2) * (\n",
      "/Users/simon/tcpips/chavas15/er11/radprof_raw.py:51: RuntimeWarning: invalid value encountered in multiply\n",
      "  V_ER11 = (1 / rr_ER11) * (Vmax * rmax + 0.5 * fcor * rmax**2) * (\n"
     ]
    },
    {
     "name": "stdout",
     "output_type": "stream",
     "text": [
      "'ER11_radprof_raw'  0.38695 s \n",
      "\n",
      "[  644664.21625615   645339.25732029   646014.29838444 ...\n",
      " 33749353.04287171 33750028.08393586 33750703.125     ]\n"
     ]
    },
    {
     "name": "stderr",
     "output_type": "stream",
     "text": [
      "/Users/simon/tcpips/chavas15/er11/radprof_raw.py:51: RuntimeWarning: divide by zero encountered in divide\n",
      "  V_ER11 = (1 / rr_ER11) * (Vmax * rmax + 0.5 * fcor * rmax**2) * (\n",
      "/Users/simon/tcpips/chavas15/er11/radprof_raw.py:51: RuntimeWarning: invalid value encountered in multiply\n",
      "  V_ER11 = (1 / rr_ER11) * (Vmax * rmax + 0.5 * fcor * rmax**2) * (\n"
     ]
    },
    {
     "name": "stdout",
     "output_type": "stream",
     "text": [
      "'ER11_radprof_raw'  0.38756 s \n",
      "\n",
      "[  644664.21625615   645339.25732029   646014.29838444 ...\n",
      " 33749353.04287171 33750028.08393586 33750703.125     ]\n"
     ]
    },
    {
     "name": "stderr",
     "output_type": "stream",
     "text": [
      "/Users/simon/tcpips/chavas15/er11/radprof_raw.py:51: RuntimeWarning: divide by zero encountered in divide\n",
      "  V_ER11 = (1 / rr_ER11) * (Vmax * rmax + 0.5 * fcor * rmax**2) * (\n",
      "/Users/simon/tcpips/chavas15/er11/radprof_raw.py:51: RuntimeWarning: invalid value encountered in multiply\n",
      "  V_ER11 = (1 / rr_ER11) * (Vmax * rmax + 0.5 * fcor * rmax**2) * (\n"
     ]
    },
    {
     "name": "stdout",
     "output_type": "stream",
     "text": [
      "'ER11_radprof_raw'  0.54389 s \n",
      "\n"
     ]
    },
    {
     "name": "stderr",
     "output_type": "stream",
     "text": [
      "/Users/simon/tcpips/chavas15/er11/radprof_raw.py:51: RuntimeWarning: divide by zero encountered in divide\n",
      "  V_ER11 = (1 / rr_ER11) * (Vmax * rmax + 0.5 * fcor * rmax**2) * (\n",
      "/Users/simon/tcpips/chavas15/er11/radprof_raw.py:51: RuntimeWarning: invalid value encountered in multiply\n",
      "  V_ER11 = (1 / rr_ER11) * (Vmax * rmax + 0.5 * fcor * rmax**2) * (\n"
     ]
    },
    {
     "name": "stdout",
     "output_type": "stream",
     "text": [
      "[  666940.57137285   667615.612437     668290.65350114 ...\n",
      " 33749353.04287171 33750028.08393586 33750703.125     ]\n",
      "'ER11_radprof_raw'  0.40093 s \n",
      "\n",
      "[  672340.899886     673015.94095014   673690.98201428 ...\n",
      " 33749353.04287171 33750028.08393586 33750703.125     ]\n"
     ]
    },
    {
     "name": "stderr",
     "output_type": "stream",
     "text": [
      "/Users/simon/tcpips/chavas15/er11/radprof_raw.py:51: RuntimeWarning: divide by zero encountered in divide\n",
      "  V_ER11 = (1 / rr_ER11) * (Vmax * rmax + 0.5 * fcor * rmax**2) * (\n",
      "/Users/simon/tcpips/chavas15/er11/radprof_raw.py:51: RuntimeWarning: invalid value encountered in multiply\n",
      "  V_ER11 = (1 / rr_ER11) * (Vmax * rmax + 0.5 * fcor * rmax**2) * (\n"
     ]
    },
    {
     "name": "stdout",
     "output_type": "stream",
     "text": [
      "'ER11_radprof_raw'  0.39549 s \n",
      "\n",
      "[  672340.899886     673015.94095014   673690.98201428 ...\n",
      " 33749353.04287171 33750028.08393586 33750703.125     ]\n"
     ]
    },
    {
     "name": "stderr",
     "output_type": "stream",
     "text": [
      "/Users/simon/tcpips/chavas15/er11/radprof_raw.py:51: RuntimeWarning: divide by zero encountered in divide\n",
      "  V_ER11 = (1 / rr_ER11) * (Vmax * rmax + 0.5 * fcor * rmax**2) * (\n",
      "/Users/simon/tcpips/chavas15/er11/radprof_raw.py:51: RuntimeWarning: invalid value encountered in multiply\n",
      "  V_ER11 = (1 / rr_ER11) * (Vmax * rmax + 0.5 * fcor * rmax**2) * (\n"
     ]
    },
    {
     "name": "stdout",
     "output_type": "stream",
     "text": [
      "'ER11_radprof_raw'  0.38237 s \n",
      "\n",
      "[  675041.06414257   675716.10520671   676391.14627085 ...\n",
      " 33749353.04287171 33750028.08393586 33750703.125     ]\n"
     ]
    },
    {
     "name": "stderr",
     "output_type": "stream",
     "text": [
      "/Users/simon/tcpips/chavas15/er11/radprof_raw.py:51: RuntimeWarning: divide by zero encountered in divide\n",
      "  V_ER11 = (1 / rr_ER11) * (Vmax * rmax + 0.5 * fcor * rmax**2) * (\n",
      "/Users/simon/tcpips/chavas15/er11/radprof_raw.py:51: RuntimeWarning: invalid value encountered in multiply\n",
      "  V_ER11 = (1 / rr_ER11) * (Vmax * rmax + 0.5 * fcor * rmax**2) * (\n"
     ]
    },
    {
     "name": "stdout",
     "output_type": "stream",
     "text": [
      "'ER11_radprof_raw'  0.40388 s \n",
      "\n",
      "[  675041.06414257   675716.10520671   676391.14627085 ...\n",
      " 33749353.04287171 33750028.08393586 33750703.125     ]\n"
     ]
    },
    {
     "name": "stderr",
     "output_type": "stream",
     "text": [
      "/Users/simon/tcpips/chavas15/er11/radprof_raw.py:51: RuntimeWarning: divide by zero encountered in divide\n",
      "  V_ER11 = (1 / rr_ER11) * (Vmax * rmax + 0.5 * fcor * rmax**2) * (\n",
      "/Users/simon/tcpips/chavas15/er11/radprof_raw.py:51: RuntimeWarning: invalid value encountered in multiply\n",
      "  V_ER11 = (1 / rr_ER11) * (Vmax * rmax + 0.5 * fcor * rmax**2) * (\n"
     ]
    },
    {
     "name": "stdout",
     "output_type": "stream",
     "text": [
      "'ER11_radprof_raw'  0.54077 s \n",
      "\n",
      "[  675716.10520671   676391.14627085   677066.18733499 ...\n",
      " 33749353.04287171 33750028.08393586 33750703.125     ]\n"
     ]
    },
    {
     "name": "stderr",
     "output_type": "stream",
     "text": [
      "/Users/simon/tcpips/chavas15/er11/radprof_raw.py:51: RuntimeWarning: divide by zero encountered in divide\n",
      "  V_ER11 = (1 / rr_ER11) * (Vmax * rmax + 0.5 * fcor * rmax**2) * (\n",
      "/Users/simon/tcpips/chavas15/er11/radprof_raw.py:51: RuntimeWarning: invalid value encountered in multiply\n",
      "  V_ER11 = (1 / rr_ER11) * (Vmax * rmax + 0.5 * fcor * rmax**2) * (\n"
     ]
    },
    {
     "name": "stdout",
     "output_type": "stream",
     "text": [
      "'ER11_radprof_raw'  0.39114 s \n",
      "\n",
      "'ER11_radprof'  4.81624 s \n",
      "\n",
      "intersection sizes 1000 1334 1334000\n",
      "'curveintersect'  2.12871 s \n",
      "\n",
      "Large storm detected. Increasing drfracrm.\n",
      "dr =  675.0340326113044\n",
      "[  567028.5873935    567703.62142611   568378.65545872 ...\n",
      " 33749001.49443477 33749676.52846738 33750351.56249999]\n"
     ]
    },
    {
     "name": "stderr",
     "output_type": "stream",
     "text": [
      "/Users/simon/tcpips/chavas15/er11/radprof_raw.py:51: RuntimeWarning: divide by zero encountered in divide\n",
      "  V_ER11 = (1 / rr_ER11) * (Vmax * rmax + 0.5 * fcor * rmax**2) * (\n",
      "/Users/simon/tcpips/chavas15/er11/radprof_raw.py:51: RuntimeWarning: invalid value encountered in multiply\n",
      "  V_ER11 = (1 / rr_ER11) * (Vmax * rmax + 0.5 * fcor * rmax**2) * (\n"
     ]
    },
    {
     "name": "stdout",
     "output_type": "stream",
     "text": [
      "'ER11_radprof_raw'  0.42858 s \n",
      "\n",
      "[  644657.5011438    645332.53517641   646007.56920902 ...\n",
      " 33749001.49443477 33749676.52846738 33750351.56249999]\n"
     ]
    },
    {
     "name": "stderr",
     "output_type": "stream",
     "text": [
      "/Users/simon/tcpips/chavas15/er11/radprof_raw.py:51: RuntimeWarning: divide by zero encountered in divide\n",
      "  V_ER11 = (1 / rr_ER11) * (Vmax * rmax + 0.5 * fcor * rmax**2) * (\n",
      "/Users/simon/tcpips/chavas15/er11/radprof_raw.py:51: RuntimeWarning: invalid value encountered in multiply\n",
      "  V_ER11 = (1 / rr_ER11) * (Vmax * rmax + 0.5 * fcor * rmax**2) * (\n"
     ]
    },
    {
     "name": "stdout",
     "output_type": "stream",
     "text": [
      "'ER11_radprof_raw'  0.37534 s \n",
      "\n",
      "[  644657.5011438    645332.53517641   646007.56920902 ...\n",
      " 33749001.49443477 33749676.52846738 33750351.56249999]\n"
     ]
    },
    {
     "name": "stderr",
     "output_type": "stream",
     "text": [
      "/Users/simon/tcpips/chavas15/er11/radprof_raw.py:51: RuntimeWarning: divide by zero encountered in divide\n",
      "  V_ER11 = (1 / rr_ER11) * (Vmax * rmax + 0.5 * fcor * rmax**2) * (\n",
      "/Users/simon/tcpips/chavas15/er11/radprof_raw.py:51: RuntimeWarning: invalid value encountered in multiply\n",
      "  V_ER11 = (1 / rr_ER11) * (Vmax * rmax + 0.5 * fcor * rmax**2) * (\n"
     ]
    },
    {
     "name": "stdout",
     "output_type": "stream",
     "text": [
      "'ER11_radprof_raw'  0.37599 s \n",
      "\n"
     ]
    },
    {
     "name": "stderr",
     "output_type": "stream",
     "text": [
      "/Users/simon/tcpips/chavas15/er11/radprof_raw.py:51: RuntimeWarning: divide by zero encountered in divide\n",
      "  V_ER11 = (1 / rr_ER11) * (Vmax * rmax + 0.5 * fcor * rmax**2) * (\n",
      "/Users/simon/tcpips/chavas15/er11/radprof_raw.py:51: RuntimeWarning: invalid value encountered in multiply\n",
      "  V_ER11 = (1 / rr_ER11) * (Vmax * rmax + 0.5 * fcor * rmax**2) * (\n"
     ]
    },
    {
     "name": "stdout",
     "output_type": "stream",
     "text": [
      "[  666933.62421997   667608.65825258   668283.69228519 ...\n",
      " 33749001.49443477 33749676.52846738 33750351.56249999]\n",
      "'ER11_radprof_raw'  0.53359 s \n",
      "\n",
      "[  672333.89648086   673008.93051347   673683.96454608 ...\n",
      " 33749001.49443477 33749676.52846738 33750351.56249999]\n"
     ]
    },
    {
     "name": "stderr",
     "output_type": "stream",
     "text": [
      "/Users/simon/tcpips/chavas15/er11/radprof_raw.py:51: RuntimeWarning: divide by zero encountered in divide\n",
      "  V_ER11 = (1 / rr_ER11) * (Vmax * rmax + 0.5 * fcor * rmax**2) * (\n",
      "/Users/simon/tcpips/chavas15/er11/radprof_raw.py:51: RuntimeWarning: invalid value encountered in multiply\n",
      "  V_ER11 = (1 / rr_ER11) * (Vmax * rmax + 0.5 * fcor * rmax**2) * (\n"
     ]
    },
    {
     "name": "stdout",
     "output_type": "stream",
     "text": [
      "'ER11_radprof_raw'  0.38222 s \n",
      "\n",
      "[  672333.89648086   673008.93051347   673683.96454608 ...\n",
      " 33749001.49443477 33749676.52846738 33750351.56249999]\n"
     ]
    },
    {
     "name": "stderr",
     "output_type": "stream",
     "text": [
      "/Users/simon/tcpips/chavas15/er11/radprof_raw.py:51: RuntimeWarning: divide by zero encountered in divide\n",
      "  V_ER11 = (1 / rr_ER11) * (Vmax * rmax + 0.5 * fcor * rmax**2) * (\n",
      "/Users/simon/tcpips/chavas15/er11/radprof_raw.py:51: RuntimeWarning: invalid value encountered in multiply\n",
      "  V_ER11 = (1 / rr_ER11) * (Vmax * rmax + 0.5 * fcor * rmax**2) * (\n"
     ]
    },
    {
     "name": "stdout",
     "output_type": "stream",
     "text": [
      "'ER11_radprof_raw'  0.39388 s \n",
      "\n",
      "[  675034.0326113    675709.06664392   676384.10067653 ...\n",
      " 33749001.49443477 33749676.52846738 33750351.56249999]\n"
     ]
    },
    {
     "name": "stderr",
     "output_type": "stream",
     "text": [
      "/Users/simon/tcpips/chavas15/er11/radprof_raw.py:51: RuntimeWarning: divide by zero encountered in divide\n",
      "  V_ER11 = (1 / rr_ER11) * (Vmax * rmax + 0.5 * fcor * rmax**2) * (\n",
      "/Users/simon/tcpips/chavas15/er11/radprof_raw.py:51: RuntimeWarning: invalid value encountered in multiply\n",
      "  V_ER11 = (1 / rr_ER11) * (Vmax * rmax + 0.5 * fcor * rmax**2) * (\n"
     ]
    },
    {
     "name": "stdout",
     "output_type": "stream",
     "text": [
      "'ER11_radprof_raw'  0.39148 s \n",
      "\n",
      "[  675034.0326113    675709.06664392   676384.10067653 ...\n",
      " 33749001.49443477 33749676.52846738 33750351.56249999]\n"
     ]
    },
    {
     "name": "stderr",
     "output_type": "stream",
     "text": [
      "/Users/simon/tcpips/chavas15/er11/radprof_raw.py:51: RuntimeWarning: divide by zero encountered in divide\n",
      "  V_ER11 = (1 / rr_ER11) * (Vmax * rmax + 0.5 * fcor * rmax**2) * (\n",
      "/Users/simon/tcpips/chavas15/er11/radprof_raw.py:51: RuntimeWarning: invalid value encountered in multiply\n",
      "  V_ER11 = (1 / rr_ER11) * (Vmax * rmax + 0.5 * fcor * rmax**2) * (\n"
     ]
    },
    {
     "name": "stdout",
     "output_type": "stream",
     "text": [
      "'ER11_radprof_raw'  0.37794 s \n",
      "\n"
     ]
    },
    {
     "name": "stderr",
     "output_type": "stream",
     "text": [
      "/Users/simon/tcpips/chavas15/er11/radprof_raw.py:51: RuntimeWarning: divide by zero encountered in divide\n",
      "  V_ER11 = (1 / rr_ER11) * (Vmax * rmax + 0.5 * fcor * rmax**2) * (\n",
      "/Users/simon/tcpips/chavas15/er11/radprof_raw.py:51: RuntimeWarning: invalid value encountered in multiply\n",
      "  V_ER11 = (1 / rr_ER11) * (Vmax * rmax + 0.5 * fcor * rmax**2) * (\n"
     ]
    },
    {
     "name": "stdout",
     "output_type": "stream",
     "text": [
      "[  675709.06664392   676384.10067653   677059.13470914 ...\n",
      " 33749001.49443477 33749676.52846738 33750351.56249999]\n",
      "'ER11_radprof_raw'  0.54120 s \n",
      "\n",
      "'ER11_radprof'  4.72986 s \n",
      "\n",
      "intersection sizes 1000 1334 1334000\n",
      "'curveintersect'  2.15171 s \n",
      "\n",
      "Large storm detected. Increasing drfracrm.\n",
      "dr =  675.0305168456738\n",
      "[  567025.63415037   567700.66466721   568375.69518406 ...\n",
      " 33748825.7202163  33749500.75073315 33750175.78124999]\n"
     ]
    },
    {
     "name": "stderr",
     "output_type": "stream",
     "text": [
      "/Users/simon/tcpips/chavas15/er11/radprof_raw.py:51: RuntimeWarning: divide by zero encountered in divide\n",
      "  V_ER11 = (1 / rr_ER11) * (Vmax * rmax + 0.5 * fcor * rmax**2) * (\n",
      "/Users/simon/tcpips/chavas15/er11/radprof_raw.py:51: RuntimeWarning: invalid value encountered in multiply\n",
      "  V_ER11 = (1 / rr_ER11) * (Vmax * rmax + 0.5 * fcor * rmax**2) * (\n"
     ]
    },
    {
     "name": "stdout",
     "output_type": "stream",
     "text": [
      "'ER11_radprof_raw'  0.38620 s \n",
      "\n",
      "[  644654.14358762   645329.17410446   646004.20462131 ...\n",
      " 33748825.7202163  33749500.75073315 33750175.78124999]\n"
     ]
    },
    {
     "name": "stderr",
     "output_type": "stream",
     "text": [
      "/Users/simon/tcpips/chavas15/er11/radprof_raw.py:51: RuntimeWarning: divide by zero encountered in divide\n",
      "  V_ER11 = (1 / rr_ER11) * (Vmax * rmax + 0.5 * fcor * rmax**2) * (\n",
      "/Users/simon/tcpips/chavas15/er11/radprof_raw.py:51: RuntimeWarning: invalid value encountered in multiply\n",
      "  V_ER11 = (1 / rr_ER11) * (Vmax * rmax + 0.5 * fcor * rmax**2) * (\n"
     ]
    },
    {
     "name": "stdout",
     "output_type": "stream",
     "text": [
      "'ER11_radprof_raw'  0.39433 s \n",
      "\n",
      "[  644654.14358762   645329.17410446   646004.20462131 ...\n",
      " 33748825.7202163  33749500.75073315 33750175.78124999]\n"
     ]
    },
    {
     "name": "stderr",
     "output_type": "stream",
     "text": [
      "/Users/simon/tcpips/chavas15/er11/radprof_raw.py:51: RuntimeWarning: divide by zero encountered in divide\n",
      "  V_ER11 = (1 / rr_ER11) * (Vmax * rmax + 0.5 * fcor * rmax**2) * (\n",
      "/Users/simon/tcpips/chavas15/er11/radprof_raw.py:51: RuntimeWarning: invalid value encountered in multiply\n",
      "  V_ER11 = (1 / rr_ER11) * (Vmax * rmax + 0.5 * fcor * rmax**2) * (\n"
     ]
    },
    {
     "name": "stdout",
     "output_type": "stream",
     "text": [
      "'ER11_radprof_raw'  0.42041 s \n",
      "\n",
      "[  666930.15064353   667605.18116037   668280.21167722 ...\n",
      " 33748825.7202163  33749500.75073315 33750175.78124999]\n"
     ]
    },
    {
     "name": "stderr",
     "output_type": "stream",
     "text": [
      "/Users/simon/tcpips/chavas15/er11/radprof_raw.py:51: RuntimeWarning: divide by zero encountered in divide\n",
      "  V_ER11 = (1 / rr_ER11) * (Vmax * rmax + 0.5 * fcor * rmax**2) * (\n",
      "/Users/simon/tcpips/chavas15/er11/radprof_raw.py:51: RuntimeWarning: invalid value encountered in multiply\n",
      "  V_ER11 = (1 / rr_ER11) * (Vmax * rmax + 0.5 * fcor * rmax**2) * (\n"
     ]
    },
    {
     "name": "stdout",
     "output_type": "stream",
     "text": [
      "'ER11_radprof_raw'  0.38679 s \n",
      "\n",
      "[  672330.39477829   673005.42529514   673680.45581198 ...\n",
      " 33748825.7202163  33749500.75073315 33750175.78124999]\n"
     ]
    },
    {
     "name": "stderr",
     "output_type": "stream",
     "text": [
      "/Users/simon/tcpips/chavas15/er11/radprof_raw.py:51: RuntimeWarning: divide by zero encountered in divide\n",
      "  V_ER11 = (1 / rr_ER11) * (Vmax * rmax + 0.5 * fcor * rmax**2) * (\n",
      "/Users/simon/tcpips/chavas15/er11/radprof_raw.py:51: RuntimeWarning: invalid value encountered in multiply\n",
      "  V_ER11 = (1 / rr_ER11) * (Vmax * rmax + 0.5 * fcor * rmax**2) * (\n"
     ]
    },
    {
     "name": "stdout",
     "output_type": "stream",
     "text": [
      "'ER11_radprof_raw'  0.55276 s \n",
      "\n",
      "[  672330.39477829   673005.42529514   673680.45581198 ...\n",
      " 33748825.7202163  33749500.75073315 33750175.78124999]\n"
     ]
    },
    {
     "name": "stderr",
     "output_type": "stream",
     "text": [
      "/Users/simon/tcpips/chavas15/er11/radprof_raw.py:51: RuntimeWarning: divide by zero encountered in divide\n",
      "  V_ER11 = (1 / rr_ER11) * (Vmax * rmax + 0.5 * fcor * rmax**2) * (\n",
      "/Users/simon/tcpips/chavas15/er11/radprof_raw.py:51: RuntimeWarning: invalid value encountered in multiply\n",
      "  V_ER11 = (1 / rr_ER11) * (Vmax * rmax + 0.5 * fcor * rmax**2) * (\n"
     ]
    },
    {
     "name": "stdout",
     "output_type": "stream",
     "text": [
      "'ER11_radprof_raw'  0.40203 s \n",
      "\n",
      "[  675030.51684567   675705.54736252   676380.57787937 ...\n",
      " 33748825.7202163  33749500.75073315 33750175.78124999]\n"
     ]
    },
    {
     "name": "stderr",
     "output_type": "stream",
     "text": [
      "/Users/simon/tcpips/chavas15/er11/radprof_raw.py:51: RuntimeWarning: divide by zero encountered in divide\n",
      "  V_ER11 = (1 / rr_ER11) * (Vmax * rmax + 0.5 * fcor * rmax**2) * (\n",
      "/Users/simon/tcpips/chavas15/er11/radprof_raw.py:51: RuntimeWarning: invalid value encountered in multiply\n",
      "  V_ER11 = (1 / rr_ER11) * (Vmax * rmax + 0.5 * fcor * rmax**2) * (\n"
     ]
    },
    {
     "name": "stdout",
     "output_type": "stream",
     "text": [
      "'ER11_radprof_raw'  0.44246 s \n",
      "\n",
      "[  675030.51684567   675705.54736252   676380.57787937 ...\n",
      " 33748825.7202163  33749500.75073315 33750175.78124999]\n"
     ]
    },
    {
     "name": "stderr",
     "output_type": "stream",
     "text": [
      "/Users/simon/tcpips/chavas15/er11/radprof_raw.py:51: RuntimeWarning: divide by zero encountered in divide\n",
      "  V_ER11 = (1 / rr_ER11) * (Vmax * rmax + 0.5 * fcor * rmax**2) * (\n",
      "/Users/simon/tcpips/chavas15/er11/radprof_raw.py:51: RuntimeWarning: invalid value encountered in multiply\n",
      "  V_ER11 = (1 / rr_ER11) * (Vmax * rmax + 0.5 * fcor * rmax**2) * (\n"
     ]
    },
    {
     "name": "stdout",
     "output_type": "stream",
     "text": [
      "'ER11_radprof_raw'  0.43766 s \n",
      "\n",
      "[  675705.54736252   676380.57787937   677055.60839621 ...\n",
      " 33748825.7202163  33749500.75073315 33750175.78124999]\n"
     ]
    },
    {
     "name": "stderr",
     "output_type": "stream",
     "text": [
      "/Users/simon/tcpips/chavas15/er11/radprof_raw.py:51: RuntimeWarning: divide by zero encountered in divide\n",
      "  V_ER11 = (1 / rr_ER11) * (Vmax * rmax + 0.5 * fcor * rmax**2) * (\n",
      "/Users/simon/tcpips/chavas15/er11/radprof_raw.py:51: RuntimeWarning: invalid value encountered in multiply\n",
      "  V_ER11 = (1 / rr_ER11) * (Vmax * rmax + 0.5 * fcor * rmax**2) * (\n"
     ]
    },
    {
     "name": "stdout",
     "output_type": "stream",
     "text": [
      "'ER11_radprof_raw'  0.38429 s \n",
      "\n",
      "'ER11_radprof'  4.77470 s \n",
      "\n",
      "intersection sizes 1000 1334 1334000\n",
      "'curveintersect'  2.23755 s \n",
      "\n",
      "Large storm detected. Increasing drfracrm.\n",
      "dr =  675.0287589628585\n",
      "[  567024.1575288    567699.18628776   568374.21504673 ...\n",
      " 33748737.83310708 33749412.86186603 33750087.890625  ]\n"
     ]
    },
    {
     "name": "stderr",
     "output_type": "stream",
     "text": [
      "/Users/simon/tcpips/chavas15/er11/radprof_raw.py:51: RuntimeWarning: divide by zero encountered in divide\n",
      "  V_ER11 = (1 / rr_ER11) * (Vmax * rmax + 0.5 * fcor * rmax**2) * (\n",
      "/Users/simon/tcpips/chavas15/er11/radprof_raw.py:51: RuntimeWarning: invalid value encountered in multiply\n",
      "  V_ER11 = (1 / rr_ER11) * (Vmax * rmax + 0.5 * fcor * rmax**2) * (\n"
     ]
    },
    {
     "name": "stdout",
     "output_type": "stream",
     "text": [
      "'ER11_radprof_raw'  0.38209 s \n",
      "\n",
      "[  644652.46480953   645327.49356849   646002.52232746 ...\n",
      " 33748737.83310708 33749412.86186603 33750087.890625  ]\n"
     ]
    },
    {
     "name": "stderr",
     "output_type": "stream",
     "text": [
      "/Users/simon/tcpips/chavas15/er11/radprof_raw.py:51: RuntimeWarning: divide by zero encountered in divide\n",
      "  V_ER11 = (1 / rr_ER11) * (Vmax * rmax + 0.5 * fcor * rmax**2) * (\n",
      "/Users/simon/tcpips/chavas15/er11/radprof_raw.py:51: RuntimeWarning: invalid value encountered in multiply\n",
      "  V_ER11 = (1 / rr_ER11) * (Vmax * rmax + 0.5 * fcor * rmax**2) * (\n"
     ]
    },
    {
     "name": "stdout",
     "output_type": "stream",
     "text": [
      "'ER11_radprof_raw'  0.39169 s \n",
      "\n",
      "[  644652.46480953   645327.49356849   646002.52232746 ...\n",
      " 33748737.83310708 33749412.86186603 33750087.890625  ]\n"
     ]
    },
    {
     "name": "stderr",
     "output_type": "stream",
     "text": [
      "/Users/simon/tcpips/chavas15/er11/radprof_raw.py:51: RuntimeWarning: divide by zero encountered in divide\n",
      "  V_ER11 = (1 / rr_ER11) * (Vmax * rmax + 0.5 * fcor * rmax**2) * (\n",
      "/Users/simon/tcpips/chavas15/er11/radprof_raw.py:51: RuntimeWarning: invalid value encountered in multiply\n",
      "  V_ER11 = (1 / rr_ER11) * (Vmax * rmax + 0.5 * fcor * rmax**2) * (\n"
     ]
    },
    {
     "name": "stdout",
     "output_type": "stream",
     "text": [
      "'ER11_radprof_raw'  0.38019 s \n",
      "\n",
      "[  666928.4138553    667603.44261427   668278.47137323 ...\n",
      " 33748737.83310708 33749412.86186603 33750087.890625  ]\n"
     ]
    },
    {
     "name": "stderr",
     "output_type": "stream",
     "text": [
      "/Users/simon/tcpips/chavas15/er11/radprof_raw.py:51: RuntimeWarning: divide by zero encountered in divide\n",
      "  V_ER11 = (1 / rr_ER11) * (Vmax * rmax + 0.5 * fcor * rmax**2) * (\n",
      "/Users/simon/tcpips/chavas15/er11/radprof_raw.py:51: RuntimeWarning: invalid value encountered in multiply\n",
      "  V_ER11 = (1 / rr_ER11) * (Vmax * rmax + 0.5 * fcor * rmax**2) * (\n"
     ]
    },
    {
     "name": "stdout",
     "output_type": "stream",
     "text": [
      "'ER11_radprof_raw'  0.38163 s \n",
      "\n",
      "[  672328.64392701   673003.67268597   673678.70144493 ...\n",
      " 33748737.83310708 33749412.86186603 33750087.890625  ]\n"
     ]
    },
    {
     "name": "stderr",
     "output_type": "stream",
     "text": [
      "/Users/simon/tcpips/chavas15/er11/radprof_raw.py:51: RuntimeWarning: divide by zero encountered in divide\n",
      "  V_ER11 = (1 / rr_ER11) * (Vmax * rmax + 0.5 * fcor * rmax**2) * (\n",
      "/Users/simon/tcpips/chavas15/er11/radprof_raw.py:51: RuntimeWarning: invalid value encountered in multiply\n",
      "  V_ER11 = (1 / rr_ER11) * (Vmax * rmax + 0.5 * fcor * rmax**2) * (\n"
     ]
    },
    {
     "name": "stdout",
     "output_type": "stream",
     "text": [
      "'ER11_radprof_raw'  0.36836 s \n",
      "\n",
      "[  672328.64392701   673003.67268597   673678.70144493 ...\n",
      " 33748737.83310708 33749412.86186603 33750087.890625  ]\n"
     ]
    },
    {
     "name": "stderr",
     "output_type": "stream",
     "text": [
      "/Users/simon/tcpips/chavas15/er11/radprof_raw.py:51: RuntimeWarning: divide by zero encountered in divide\n",
      "  V_ER11 = (1 / rr_ER11) * (Vmax * rmax + 0.5 * fcor * rmax**2) * (\n",
      "/Users/simon/tcpips/chavas15/er11/radprof_raw.py:51: RuntimeWarning: invalid value encountered in multiply\n",
      "  V_ER11 = (1 / rr_ER11) * (Vmax * rmax + 0.5 * fcor * rmax**2) * (\n"
     ]
    },
    {
     "name": "stdout",
     "output_type": "stream",
     "text": [
      "'ER11_radprof_raw'  0.35886 s \n",
      "\n"
     ]
    },
    {
     "name": "stderr",
     "output_type": "stream",
     "text": [
      "/Users/simon/tcpips/chavas15/er11/radprof_raw.py:51: RuntimeWarning: divide by zero encountered in divide\n",
      "  V_ER11 = (1 / rr_ER11) * (Vmax * rmax + 0.5 * fcor * rmax**2) * (\n",
      "/Users/simon/tcpips/chavas15/er11/radprof_raw.py:51: RuntimeWarning: invalid value encountered in multiply\n",
      "  V_ER11 = (1 / rr_ER11) * (Vmax * rmax + 0.5 * fcor * rmax**2) * (\n"
     ]
    },
    {
     "name": "stdout",
     "output_type": "stream",
     "text": [
      "[  675028.75896286   675703.78772182   676378.81648078 ...\n",
      " 33748737.83310708 33749412.86186603 33750087.890625  ]\n",
      "'ER11_radprof_raw'  0.36529 s \n",
      "\n",
      "[  675028.75896286   675703.78772182   676378.81648078 ...\n",
      " 33748737.83310708 33749412.86186603 33750087.890625  ]\n"
     ]
    },
    {
     "name": "stderr",
     "output_type": "stream",
     "text": [
      "/Users/simon/tcpips/chavas15/er11/radprof_raw.py:51: RuntimeWarning: divide by zero encountered in divide\n",
      "  V_ER11 = (1 / rr_ER11) * (Vmax * rmax + 0.5 * fcor * rmax**2) * (\n",
      "/Users/simon/tcpips/chavas15/er11/radprof_raw.py:51: RuntimeWarning: invalid value encountered in multiply\n",
      "  V_ER11 = (1 / rr_ER11) * (Vmax * rmax + 0.5 * fcor * rmax**2) * (\n"
     ]
    },
    {
     "name": "stdout",
     "output_type": "stream",
     "text": [
      "'ER11_radprof_raw'  0.36096 s \n",
      "\n",
      "[  675703.78772182   676378.81648078   677053.84523975 ...\n",
      " 33748737.83310708 33749412.86186603 33750087.890625  ]\n"
     ]
    },
    {
     "name": "stderr",
     "output_type": "stream",
     "text": [
      "/Users/simon/tcpips/chavas15/er11/radprof_raw.py:51: RuntimeWarning: divide by zero encountered in divide\n",
      "  V_ER11 = (1 / rr_ER11) * (Vmax * rmax + 0.5 * fcor * rmax**2) * (\n",
      "/Users/simon/tcpips/chavas15/er11/radprof_raw.py:51: RuntimeWarning: invalid value encountered in multiply\n",
      "  V_ER11 = (1 / rr_ER11) * (Vmax * rmax + 0.5 * fcor * rmax**2) * (\n"
     ]
    },
    {
     "name": "stdout",
     "output_type": "stream",
     "text": [
      "'ER11_radprof_raw'  0.35389 s \n",
      "\n",
      "'ER11_radprof'  4.40682 s \n",
      "\n",
      "intersection sizes 1000 1334 1334000\n",
      "'curveintersect'  2.19234 s \n",
      "\n",
      "Adjusting CkCd to find convergence.\n",
      "Large storm detected. Increasing drfracrm.\n",
      "dr =  675.9270370814833\n",
      "[  575889.83559342   576565.76263051   577241.68966759 ...\n",
      " 33793648.14592583 33794324.07296292 33795000.        ]\n"
     ]
    },
    {
     "name": "stderr",
     "output_type": "stream",
     "text": [
      "/Users/simon/tcpips/chavas15/er11/radprof_raw.py:51: RuntimeWarning: divide by zero encountered in divide\n",
      "  V_ER11 = (1 / rr_ER11) * (Vmax * rmax + 0.5 * fcor * rmax**2) * (\n",
      "/Users/simon/tcpips/chavas15/er11/radprof_raw.py:51: RuntimeWarning: invalid value encountered in multiply\n",
      "  V_ER11 = (1 / rr_ER11) * (Vmax * rmax + 0.5 * fcor * rmax**2) * (\n"
     ]
    },
    {
     "name": "stdout",
     "output_type": "stream",
     "text": [
      "'ER11_radprof_raw'  0.40097 s \n",
      "\n",
      "[  649565.88263531   650241.80967239   650917.73670947 ...\n",
      " 33793648.14592583 33794324.07296292 33795000.        ]\n"
     ]
    },
    {
     "name": "stderr",
     "output_type": "stream",
     "text": [
      "/Users/simon/tcpips/chavas15/er11/radprof_raw.py:51: RuntimeWarning: divide by zero encountered in divide\n",
      "  V_ER11 = (1 / rr_ER11) * (Vmax * rmax + 0.5 * fcor * rmax**2) * (\n",
      "/Users/simon/tcpips/chavas15/er11/radprof_raw.py:51: RuntimeWarning: invalid value encountered in multiply\n",
      "  V_ER11 = (1 / rr_ER11) * (Vmax * rmax + 0.5 * fcor * rmax**2) * (\n"
     ]
    },
    {
     "name": "stdout",
     "output_type": "stream",
     "text": [
      "'ER11_radprof_raw'  0.38309 s \n",
      "\n",
      "[  649565.88263531   650241.80967239   650917.73670947 ...\n",
      " 33793648.14592583 33794324.07296292 33795000.        ]\n"
     ]
    },
    {
     "name": "stderr",
     "output_type": "stream",
     "text": [
      "/Users/simon/tcpips/chavas15/er11/radprof_raw.py:51: RuntimeWarning: divide by zero encountered in divide\n",
      "  V_ER11 = (1 / rr_ER11) * (Vmax * rmax + 0.5 * fcor * rmax**2) * (\n",
      "/Users/simon/tcpips/chavas15/er11/radprof_raw.py:51: RuntimeWarning: invalid value encountered in multiply\n",
      "  V_ER11 = (1 / rr_ER11) * (Vmax * rmax + 0.5 * fcor * rmax**2) * (\n"
     ]
    },
    {
     "name": "stdout",
     "output_type": "stream",
     "text": [
      "'ER11_radprof_raw'  0.51797 s \n",
      "\n",
      "[  669843.69374775   670519.62078483   671195.54782191 ...\n",
      " 33793648.14592583 33794324.07296292 33795000.        ]\n"
     ]
    },
    {
     "name": "stderr",
     "output_type": "stream",
     "text": [
      "/Users/simon/tcpips/chavas15/er11/radprof_raw.py:51: RuntimeWarning: divide by zero encountered in divide\n",
      "  V_ER11 = (1 / rr_ER11) * (Vmax * rmax + 0.5 * fcor * rmax**2) * (\n",
      "/Users/simon/tcpips/chavas15/er11/radprof_raw.py:51: RuntimeWarning: invalid value encountered in multiply\n",
      "  V_ER11 = (1 / rr_ER11) * (Vmax * rmax + 0.5 * fcor * rmax**2) * (\n"
     ]
    },
    {
     "name": "stdout",
     "output_type": "stream",
     "text": [
      "'ER11_radprof_raw'  0.37825 s \n",
      "\n",
      "[  674575.18300732   675251.1100444    675927.03708148 ...\n",
      " 33793648.14592583 33794324.07296292 33795000.        ]\n"
     ]
    },
    {
     "name": "stderr",
     "output_type": "stream",
     "text": [
      "/Users/simon/tcpips/chavas15/er11/radprof_raw.py:51: RuntimeWarning: divide by zero encountered in divide\n",
      "  V_ER11 = (1 / rr_ER11) * (Vmax * rmax + 0.5 * fcor * rmax**2) * (\n",
      "/Users/simon/tcpips/chavas15/er11/radprof_raw.py:51: RuntimeWarning: invalid value encountered in multiply\n",
      "  V_ER11 = (1 / rr_ER11) * (Vmax * rmax + 0.5 * fcor * rmax**2) * (\n"
     ]
    },
    {
     "name": "stdout",
     "output_type": "stream",
     "text": [
      "'ER11_radprof_raw'  0.37642 s \n",
      "\n",
      "[  675251.1100444    675927.03708148   676602.96411856 ...\n",
      " 33793648.14592583 33794324.07296292 33795000.        ]\n"
     ]
    },
    {
     "name": "stderr",
     "output_type": "stream",
     "text": [
      "/Users/simon/tcpips/chavas15/er11/radprof_raw.py:51: RuntimeWarning: divide by zero encountered in divide\n",
      "  V_ER11 = (1 / rr_ER11) * (Vmax * rmax + 0.5 * fcor * rmax**2) * (\n",
      "/Users/simon/tcpips/chavas15/er11/radprof_raw.py:51: RuntimeWarning: invalid value encountered in multiply\n",
      "  V_ER11 = (1 / rr_ER11) * (Vmax * rmax + 0.5 * fcor * rmax**2) * (\n"
     ]
    },
    {
     "name": "stdout",
     "output_type": "stream",
     "text": [
      "'ER11_radprof_raw'  0.36786 s \n",
      "\n",
      "[  675251.1100444    675927.03708148   676602.96411856 ...\n",
      " 33793648.14592583 33794324.07296292 33795000.        ]\n"
     ]
    },
    {
     "name": "stderr",
     "output_type": "stream",
     "text": [
      "/Users/simon/tcpips/chavas15/er11/radprof_raw.py:51: RuntimeWarning: divide by zero encountered in divide\n",
      "  V_ER11 = (1 / rr_ER11) * (Vmax * rmax + 0.5 * fcor * rmax**2) * (\n",
      "/Users/simon/tcpips/chavas15/er11/radprof_raw.py:51: RuntimeWarning: invalid value encountered in multiply\n",
      "  V_ER11 = (1 / rr_ER11) * (Vmax * rmax + 0.5 * fcor * rmax**2) * (\n"
     ]
    },
    {
     "name": "stdout",
     "output_type": "stream",
     "text": [
      "'ER11_radprof_raw'  0.36399 s \n",
      "\n",
      "[  676602.96411856   677278.89115565   677954.81819273 ...\n",
      " 33793648.14592583 33794324.07296292 33795000.        ]\n"
     ]
    },
    {
     "name": "stderr",
     "output_type": "stream",
     "text": [
      "/Users/simon/tcpips/chavas15/er11/radprof_raw.py:51: RuntimeWarning: divide by zero encountered in divide\n",
      "  V_ER11 = (1 / rr_ER11) * (Vmax * rmax + 0.5 * fcor * rmax**2) * (\n",
      "/Users/simon/tcpips/chavas15/er11/radprof_raw.py:51: RuntimeWarning: invalid value encountered in multiply\n",
      "  V_ER11 = (1 / rr_ER11) * (Vmax * rmax + 0.5 * fcor * rmax**2) * (\n"
     ]
    },
    {
     "name": "stdout",
     "output_type": "stream",
     "text": [
      "'ER11_radprof_raw'  0.51972 s \n",
      "\n",
      "'ER11_radprof'  4.07462 s \n",
      "\n",
      "intersection sizes 1000 1332 1332000\n",
      "'curveintersect'  2.12668 s \n",
      "\n",
      "Large storm detected. Increasing drfracrm.\n",
      "dr =  675.4770190807633\n",
      "[  575506.42025681   576181.89727589   576857.37429497 ...\n",
      " 33771149.04596184 33771824.52298092 33772500.        ]\n"
     ]
    },
    {
     "name": "stderr",
     "output_type": "stream",
     "text": [
      "/Users/simon/tcpips/chavas15/er11/radprof_raw.py:51: RuntimeWarning: divide by zero encountered in divide\n",
      "  V_ER11 = (1 / rr_ER11) * (Vmax * rmax + 0.5 * fcor * rmax**2) * (\n",
      "/Users/simon/tcpips/chavas15/er11/radprof_raw.py:51: RuntimeWarning: invalid value encountered in multiply\n",
      "  V_ER11 = (1 / rr_ER11) * (Vmax * rmax + 0.5 * fcor * rmax**2) * (\n"
     ]
    },
    {
     "name": "stdout",
     "output_type": "stream",
     "text": [
      "'ER11_radprof_raw'  0.40360 s \n",
      "\n",
      "[  649133.41533661   649808.89235569   650484.36937477 ...\n",
      " 33771149.04596184 33771824.52298092 33772500.        ]\n"
     ]
    },
    {
     "name": "stderr",
     "output_type": "stream",
     "text": [
      "/Users/simon/tcpips/chavas15/er11/radprof_raw.py:51: RuntimeWarning: divide by zero encountered in divide\n",
      "  V_ER11 = (1 / rr_ER11) * (Vmax * rmax + 0.5 * fcor * rmax**2) * (\n",
      "/Users/simon/tcpips/chavas15/er11/radprof_raw.py:51: RuntimeWarning: invalid value encountered in multiply\n",
      "  V_ER11 = (1 / rr_ER11) * (Vmax * rmax + 0.5 * fcor * rmax**2) * (\n"
     ]
    },
    {
     "name": "stdout",
     "output_type": "stream",
     "text": [
      "'ER11_radprof_raw'  0.40568 s \n",
      "\n",
      "[  649133.41533661   649808.89235569   650484.36937477 ...\n",
      " 33771149.04596184 33771824.52298092 33772500.        ]\n"
     ]
    },
    {
     "name": "stderr",
     "output_type": "stream",
     "text": [
      "/Users/simon/tcpips/chavas15/er11/radprof_raw.py:51: RuntimeWarning: divide by zero encountered in divide\n",
      "  V_ER11 = (1 / rr_ER11) * (Vmax * rmax + 0.5 * fcor * rmax**2) * (\n",
      "/Users/simon/tcpips/chavas15/er11/radprof_raw.py:51: RuntimeWarning: invalid value encountered in multiply\n",
      "  V_ER11 = (1 / rr_ER11) * (Vmax * rmax + 0.5 * fcor * rmax**2) * (\n"
     ]
    },
    {
     "name": "stdout",
     "output_type": "stream",
     "text": [
      "'ER11_radprof_raw'  0.41023 s \n",
      "\n",
      "[  669397.72590904   670073.20292812   670748.6799472  ...\n",
      " 33771149.04596184 33771824.52298092 33772500.        ]\n"
     ]
    },
    {
     "name": "stderr",
     "output_type": "stream",
     "text": [
      "/Users/simon/tcpips/chavas15/er11/radprof_raw.py:51: RuntimeWarning: divide by zero encountered in divide\n",
      "  V_ER11 = (1 / rr_ER11) * (Vmax * rmax + 0.5 * fcor * rmax**2) * (\n",
      "/Users/simon/tcpips/chavas15/er11/radprof_raw.py:51: RuntimeWarning: invalid value encountered in multiply\n",
      "  V_ER11 = (1 / rr_ER11) * (Vmax * rmax + 0.5 * fcor * rmax**2) * (\n"
     ]
    },
    {
     "name": "stdout",
     "output_type": "stream",
     "text": [
      "'ER11_radprof_raw'  0.40738 s \n",
      "\n",
      "[  674126.0650426    674801.54206168   675477.01908076 ...\n",
      " 33771149.04596184 33771824.52298092 33772500.        ]\n"
     ]
    },
    {
     "name": "stderr",
     "output_type": "stream",
     "text": [
      "/Users/simon/tcpips/chavas15/er11/radprof_raw.py:51: RuntimeWarning: divide by zero encountered in divide\n",
      "  V_ER11 = (1 / rr_ER11) * (Vmax * rmax + 0.5 * fcor * rmax**2) * (\n",
      "/Users/simon/tcpips/chavas15/er11/radprof_raw.py:51: RuntimeWarning: invalid value encountered in multiply\n",
      "  V_ER11 = (1 / rr_ER11) * (Vmax * rmax + 0.5 * fcor * rmax**2) * (\n"
     ]
    },
    {
     "name": "stdout",
     "output_type": "stream",
     "text": [
      "'ER11_radprof_raw'  0.40810 s \n",
      "\n"
     ]
    },
    {
     "name": "stderr",
     "output_type": "stream",
     "text": [
      "/Users/simon/tcpips/chavas15/er11/radprof_raw.py:51: RuntimeWarning: divide by zero encountered in divide\n",
      "  V_ER11 = (1 / rr_ER11) * (Vmax * rmax + 0.5 * fcor * rmax**2) * (\n",
      "/Users/simon/tcpips/chavas15/er11/radprof_raw.py:51: RuntimeWarning: invalid value encountered in multiply\n",
      "  V_ER11 = (1 / rr_ER11) * (Vmax * rmax + 0.5 * fcor * rmax**2) * (\n"
     ]
    },
    {
     "name": "stdout",
     "output_type": "stream",
     "text": [
      "[  674801.54206168   675477.01908076   676152.49609984 ...\n",
      " 33771149.04596184 33771824.52298092 33772500.        ]\n",
      "'ER11_radprof_raw'  0.40855 s \n",
      "\n",
      "[  674801.54206168   675477.01908076   676152.49609984 ...\n",
      " 33771149.04596184 33771824.52298092 33772500.        ]\n"
     ]
    },
    {
     "name": "stderr",
     "output_type": "stream",
     "text": [
      "/Users/simon/tcpips/chavas15/er11/radprof_raw.py:51: RuntimeWarning: divide by zero encountered in divide\n",
      "  V_ER11 = (1 / rr_ER11) * (Vmax * rmax + 0.5 * fcor * rmax**2) * (\n",
      "/Users/simon/tcpips/chavas15/er11/radprof_raw.py:51: RuntimeWarning: invalid value encountered in multiply\n",
      "  V_ER11 = (1 / rr_ER11) * (Vmax * rmax + 0.5 * fcor * rmax**2) * (\n"
     ]
    },
    {
     "name": "stdout",
     "output_type": "stream",
     "text": [
      "'ER11_radprof_raw'  0.41357 s \n",
      "\n",
      "[  676152.49609984   676827.97311892   677503.45013801 ...\n",
      " 33771149.04596184 33771824.52298092 33772500.        ]\n"
     ]
    },
    {
     "name": "stderr",
     "output_type": "stream",
     "text": [
      "/Users/simon/tcpips/chavas15/er11/radprof_raw.py:51: RuntimeWarning: divide by zero encountered in divide\n",
      "  V_ER11 = (1 / rr_ER11) * (Vmax * rmax + 0.5 * fcor * rmax**2) * (\n",
      "/Users/simon/tcpips/chavas15/er11/radprof_raw.py:51: RuntimeWarning: invalid value encountered in multiply\n",
      "  V_ER11 = (1 / rr_ER11) * (Vmax * rmax + 0.5 * fcor * rmax**2) * (\n"
     ]
    },
    {
     "name": "stdout",
     "output_type": "stream",
     "text": [
      "'ER11_radprof_raw'  0.41687 s \n",
      "\n",
      "'ER11_radprof'  4.20310 s \n",
      "\n",
      "intersection sizes 1000 1333 1333000\n",
      "'curveintersect'  2.12568 s \n",
      "\n",
      "Large storm detected. Increasing drfracrm.\n",
      "dr =  675.2520100804032\n",
      "[  575314.7125885    575989.96459858   576665.21660866 ...\n",
      " 33759899.49597984 33760574.74798992 33761250.        ]\n"
     ]
    },
    {
     "name": "stderr",
     "output_type": "stream",
     "text": [
      "/Users/simon/tcpips/chavas15/er11/radprof_raw.py:51: RuntimeWarning: divide by zero encountered in divide\n",
      "  V_ER11 = (1 / rr_ER11) * (Vmax * rmax + 0.5 * fcor * rmax**2) * (\n",
      "/Users/simon/tcpips/chavas15/er11/radprof_raw.py:51: RuntimeWarning: invalid value encountered in multiply\n",
      "  V_ER11 = (1 / rr_ER11) * (Vmax * rmax + 0.5 * fcor * rmax**2) * (\n"
     ]
    },
    {
     "name": "stdout",
     "output_type": "stream",
     "text": [
      "'ER11_radprof_raw'  0.39423 s \n",
      "\n",
      "[  648917.18168727   649592.43369735   650267.68570743 ...\n",
      " 33759899.49597984 33760574.74798992 33761250.        ]\n"
     ]
    },
    {
     "name": "stderr",
     "output_type": "stream",
     "text": [
      "/Users/simon/tcpips/chavas15/er11/radprof_raw.py:51: RuntimeWarning: divide by zero encountered in divide\n",
      "  V_ER11 = (1 / rr_ER11) * (Vmax * rmax + 0.5 * fcor * rmax**2) * (\n",
      "/Users/simon/tcpips/chavas15/er11/radprof_raw.py:51: RuntimeWarning: invalid value encountered in multiply\n",
      "  V_ER11 = (1 / rr_ER11) * (Vmax * rmax + 0.5 * fcor * rmax**2) * (\n"
     ]
    },
    {
     "name": "stdout",
     "output_type": "stream",
     "text": [
      "'ER11_radprof_raw'  0.38172 s \n",
      "\n",
      "[  648917.18168727   649592.43369735   650267.68570743 ...\n",
      " 33759899.49597984 33760574.74798992 33761250.        ]\n"
     ]
    },
    {
     "name": "stderr",
     "output_type": "stream",
     "text": [
      "/Users/simon/tcpips/chavas15/er11/radprof_raw.py:51: RuntimeWarning: divide by zero encountered in divide\n",
      "  V_ER11 = (1 / rr_ER11) * (Vmax * rmax + 0.5 * fcor * rmax**2) * (\n",
      "/Users/simon/tcpips/chavas15/er11/radprof_raw.py:51: RuntimeWarning: invalid value encountered in multiply\n",
      "  V_ER11 = (1 / rr_ER11) * (Vmax * rmax + 0.5 * fcor * rmax**2) * (\n"
     ]
    },
    {
     "name": "stdout",
     "output_type": "stream",
     "text": [
      "'ER11_radprof_raw'  0.54266 s \n",
      "\n",
      "[  669174.74198968   669849.99399976   670525.24600984 ...\n",
      " 33759899.49597984 33760574.74798992 33761250.        ]\n"
     ]
    },
    {
     "name": "stderr",
     "output_type": "stream",
     "text": [
      "/Users/simon/tcpips/chavas15/er11/radprof_raw.py:51: RuntimeWarning: divide by zero encountered in divide\n",
      "  V_ER11 = (1 / rr_ER11) * (Vmax * rmax + 0.5 * fcor * rmax**2) * (\n",
      "/Users/simon/tcpips/chavas15/er11/radprof_raw.py:51: RuntimeWarning: invalid value encountered in multiply\n",
      "  V_ER11 = (1 / rr_ER11) * (Vmax * rmax + 0.5 * fcor * rmax**2) * (\n"
     ]
    },
    {
     "name": "stdout",
     "output_type": "stream",
     "text": [
      "'ER11_radprof_raw'  0.39227 s \n",
      "\n",
      "[  673901.50606024   674576.75807032   675252.0100804  ...\n",
      " 33759899.49597984 33760574.74798992 33761250.        ]\n"
     ]
    },
    {
     "name": "stderr",
     "output_type": "stream",
     "text": [
      "/Users/simon/tcpips/chavas15/er11/radprof_raw.py:51: RuntimeWarning: divide by zero encountered in divide\n",
      "  V_ER11 = (1 / rr_ER11) * (Vmax * rmax + 0.5 * fcor * rmax**2) * (\n",
      "/Users/simon/tcpips/chavas15/er11/radprof_raw.py:51: RuntimeWarning: invalid value encountered in multiply\n",
      "  V_ER11 = (1 / rr_ER11) * (Vmax * rmax + 0.5 * fcor * rmax**2) * (\n"
     ]
    },
    {
     "name": "stdout",
     "output_type": "stream",
     "text": [
      "'ER11_radprof_raw'  0.39655 s \n",
      "\n",
      "[  674576.75807032   675252.0100804    675927.26209048 ...\n",
      " 33759899.49597984 33760574.74798992 33761250.        ]\n"
     ]
    },
    {
     "name": "stderr",
     "output_type": "stream",
     "text": [
      "/Users/simon/tcpips/chavas15/er11/radprof_raw.py:51: RuntimeWarning: divide by zero encountered in divide\n",
      "  V_ER11 = (1 / rr_ER11) * (Vmax * rmax + 0.5 * fcor * rmax**2) * (\n",
      "/Users/simon/tcpips/chavas15/er11/radprof_raw.py:51: RuntimeWarning: invalid value encountered in multiply\n",
      "  V_ER11 = (1 / rr_ER11) * (Vmax * rmax + 0.5 * fcor * rmax**2) * (\n"
     ]
    },
    {
     "name": "stdout",
     "output_type": "stream",
     "text": [
      "'ER11_radprof_raw'  0.39783 s \n",
      "\n",
      "[  674576.75807032   675252.0100804    675927.26209048 ...\n",
      " 33759899.49597984 33760574.74798992 33761250.        ]\n"
     ]
    },
    {
     "name": "stderr",
     "output_type": "stream",
     "text": [
      "/Users/simon/tcpips/chavas15/er11/radprof_raw.py:51: RuntimeWarning: divide by zero encountered in divide\n",
      "  V_ER11 = (1 / rr_ER11) * (Vmax * rmax + 0.5 * fcor * rmax**2) * (\n",
      "/Users/simon/tcpips/chavas15/er11/radprof_raw.py:51: RuntimeWarning: invalid value encountered in multiply\n",
      "  V_ER11 = (1 / rr_ER11) * (Vmax * rmax + 0.5 * fcor * rmax**2) * (\n"
     ]
    },
    {
     "name": "stdout",
     "output_type": "stream",
     "text": [
      "'ER11_radprof_raw'  0.38893 s \n",
      "\n",
      "[  675927.26209048   676602.51410056   677277.76611064 ...\n",
      " 33759899.49597984 33760574.74798992 33761250.        ]\n"
     ]
    },
    {
     "name": "stderr",
     "output_type": "stream",
     "text": [
      "/Users/simon/tcpips/chavas15/er11/radprof_raw.py:51: RuntimeWarning: divide by zero encountered in divide\n",
      "  V_ER11 = (1 / rr_ER11) * (Vmax * rmax + 0.5 * fcor * rmax**2) * (\n",
      "/Users/simon/tcpips/chavas15/er11/radprof_raw.py:51: RuntimeWarning: invalid value encountered in multiply\n",
      "  V_ER11 = (1 / rr_ER11) * (Vmax * rmax + 0.5 * fcor * rmax**2) * (\n"
     ]
    },
    {
     "name": "stdout",
     "output_type": "stream",
     "text": [
      "'ER11_radprof_raw'  0.39754 s \n",
      "\n",
      "'ER11_radprof'  4.06711 s \n",
      "\n",
      "intersection sizes 1000 1333 1333000\n",
      "'curveintersect'  2.08997 s \n",
      "\n",
      "Large storm detected. Increasing drfracrm.\n",
      "dr =  675.1395055802232\n",
      "[  575218.85875435   575893.99825993   576569.13776551 ...\n",
      " 33754274.72098883 33754949.86049441 33755624.99999999]\n"
     ]
    },
    {
     "name": "stderr",
     "output_type": "stream",
     "text": [
      "/Users/simon/tcpips/chavas15/er11/radprof_raw.py:51: RuntimeWarning: divide by zero encountered in divide\n",
      "  V_ER11 = (1 / rr_ER11) * (Vmax * rmax + 0.5 * fcor * rmax**2) * (\n",
      "/Users/simon/tcpips/chavas15/er11/radprof_raw.py:51: RuntimeWarning: invalid value encountered in multiply\n",
      "  V_ER11 = (1 / rr_ER11) * (Vmax * rmax + 0.5 * fcor * rmax**2) * (\n"
     ]
    },
    {
     "name": "stdout",
     "output_type": "stream",
     "text": [
      "'ER11_radprof_raw'  0.38130 s \n",
      "\n",
      "[  648809.06486259   649484.20436817   650159.34387375 ...\n",
      " 33754274.72098883 33754949.86049441 33755624.99999999]\n"
     ]
    },
    {
     "name": "stderr",
     "output_type": "stream",
     "text": [
      "/Users/simon/tcpips/chavas15/er11/radprof_raw.py:51: RuntimeWarning: divide by zero encountered in divide\n",
      "  V_ER11 = (1 / rr_ER11) * (Vmax * rmax + 0.5 * fcor * rmax**2) * (\n",
      "/Users/simon/tcpips/chavas15/er11/radprof_raw.py:51: RuntimeWarning: invalid value encountered in multiply\n",
      "  V_ER11 = (1 / rr_ER11) * (Vmax * rmax + 0.5 * fcor * rmax**2) * (\n"
     ]
    },
    {
     "name": "stdout",
     "output_type": "stream",
     "text": [
      "'ER11_radprof_raw'  0.38303 s \n",
      "\n",
      "[  648809.06486259   649484.20436817   650159.34387375 ...\n",
      " 33754274.72098883 33754949.86049441 33755624.99999999]\n"
     ]
    },
    {
     "name": "stderr",
     "output_type": "stream",
     "text": [
      "/Users/simon/tcpips/chavas15/er11/radprof_raw.py:51: RuntimeWarning: divide by zero encountered in divide\n",
      "  V_ER11 = (1 / rr_ER11) * (Vmax * rmax + 0.5 * fcor * rmax**2) * (\n",
      "/Users/simon/tcpips/chavas15/er11/radprof_raw.py:51: RuntimeWarning: invalid value encountered in multiply\n",
      "  V_ER11 = (1 / rr_ER11) * (Vmax * rmax + 0.5 * fcor * rmax**2) * (\n"
     ]
    },
    {
     "name": "stdout",
     "output_type": "stream",
     "text": [
      "'ER11_radprof_raw'  0.37710 s \n",
      "\n",
      "[  669063.25003      669738.38953558   670413.52904116 ...\n",
      " 33754274.72098883 33754949.86049441 33755624.99999999]\n"
     ]
    },
    {
     "name": "stderr",
     "output_type": "stream",
     "text": [
      "/Users/simon/tcpips/chavas15/er11/radprof_raw.py:51: RuntimeWarning: divide by zero encountered in divide\n",
      "  V_ER11 = (1 / rr_ER11) * (Vmax * rmax + 0.5 * fcor * rmax**2) * (\n",
      "/Users/simon/tcpips/chavas15/er11/radprof_raw.py:51: RuntimeWarning: invalid value encountered in multiply\n",
      "  V_ER11 = (1 / rr_ER11) * (Vmax * rmax + 0.5 * fcor * rmax**2) * (\n"
     ]
    },
    {
     "name": "stdout",
     "output_type": "stream",
     "text": [
      "'ER11_radprof_raw'  0.37287 s \n",
      "\n",
      "[  673789.22656906   674464.36607464   675139.50558022 ...\n",
      " 33754274.72098883 33754949.86049441 33755624.99999999]\n"
     ]
    },
    {
     "name": "stderr",
     "output_type": "stream",
     "text": [
      "/Users/simon/tcpips/chavas15/er11/radprof_raw.py:51: RuntimeWarning: divide by zero encountered in divide\n",
      "  V_ER11 = (1 / rr_ER11) * (Vmax * rmax + 0.5 * fcor * rmax**2) * (\n",
      "/Users/simon/tcpips/chavas15/er11/radprof_raw.py:51: RuntimeWarning: invalid value encountered in multiply\n",
      "  V_ER11 = (1 / rr_ER11) * (Vmax * rmax + 0.5 * fcor * rmax**2) * (\n"
     ]
    },
    {
     "name": "stdout",
     "output_type": "stream",
     "text": [
      "'ER11_radprof_raw'  0.37787 s \n",
      "\n",
      "[  675139.50558022   675814.6450858    676489.78459138 ...\n",
      " 33754274.72098883 33754949.86049441 33755624.99999999]\n"
     ]
    },
    {
     "name": "stderr",
     "output_type": "stream",
     "text": [
      "/Users/simon/tcpips/chavas15/er11/radprof_raw.py:51: RuntimeWarning: divide by zero encountered in divide\n",
      "  V_ER11 = (1 / rr_ER11) * (Vmax * rmax + 0.5 * fcor * rmax**2) * (\n",
      "/Users/simon/tcpips/chavas15/er11/radprof_raw.py:51: RuntimeWarning: invalid value encountered in multiply\n",
      "  V_ER11 = (1 / rr_ER11) * (Vmax * rmax + 0.5 * fcor * rmax**2) * (\n"
     ]
    },
    {
     "name": "stdout",
     "output_type": "stream",
     "text": [
      "'ER11_radprof_raw'  0.55802 s \n",
      "\n",
      "[  675139.50558022   675814.6450858    676489.78459138 ...\n",
      " 33754274.72098883 33754949.86049441 33755624.99999999]\n"
     ]
    },
    {
     "name": "stderr",
     "output_type": "stream",
     "text": [
      "/Users/simon/tcpips/chavas15/er11/radprof_raw.py:51: RuntimeWarning: divide by zero encountered in divide\n",
      "  V_ER11 = (1 / rr_ER11) * (Vmax * rmax + 0.5 * fcor * rmax**2) * (\n",
      "/Users/simon/tcpips/chavas15/er11/radprof_raw.py:51: RuntimeWarning: invalid value encountered in multiply\n",
      "  V_ER11 = (1 / rr_ER11) * (Vmax * rmax + 0.5 * fcor * rmax**2) * (\n"
     ]
    },
    {
     "name": "stdout",
     "output_type": "stream",
     "text": [
      "'ER11_radprof_raw'  0.37339 s \n",
      "\n",
      "[  675139.50558022   675814.6450858    676489.78459138 ...\n",
      " 33754274.72098883 33754949.86049441 33755624.99999999]\n"
     ]
    },
    {
     "name": "stderr",
     "output_type": "stream",
     "text": [
      "/Users/simon/tcpips/chavas15/er11/radprof_raw.py:51: RuntimeWarning: divide by zero encountered in divide\n",
      "  V_ER11 = (1 / rr_ER11) * (Vmax * rmax + 0.5 * fcor * rmax**2) * (\n",
      "/Users/simon/tcpips/chavas15/er11/radprof_raw.py:51: RuntimeWarning: invalid value encountered in multiply\n",
      "  V_ER11 = (1 / rr_ER11) * (Vmax * rmax + 0.5 * fcor * rmax**2) * (\n"
     ]
    },
    {
     "name": "stdout",
     "output_type": "stream",
     "text": [
      "'ER11_radprof_raw'  0.37424 s \n",
      "\n",
      "[  675814.6450858    676489.78459138   677164.92409696 ...\n",
      " 33754274.72098883 33754949.86049441 33755624.99999999]\n"
     ]
    },
    {
     "name": "stderr",
     "output_type": "stream",
     "text": [
      "/Users/simon/tcpips/chavas15/er11/radprof_raw.py:51: RuntimeWarning: divide by zero encountered in divide\n",
      "  V_ER11 = (1 / rr_ER11) * (Vmax * rmax + 0.5 * fcor * rmax**2) * (\n",
      "/Users/simon/tcpips/chavas15/er11/radprof_raw.py:51: RuntimeWarning: invalid value encountered in multiply\n",
      "  V_ER11 = (1 / rr_ER11) * (Vmax * rmax + 0.5 * fcor * rmax**2) * (\n"
     ]
    },
    {
     "name": "stdout",
     "output_type": "stream",
     "text": [
      "'ER11_radprof_raw'  0.37540 s \n",
      "\n",
      "'ER11_radprof'  4.50843 s \n",
      "\n",
      "intersection sizes 1000 1334 1334000\n",
      "'curveintersect'  2.11983 s \n",
      "\n",
      "Large storm detected. Increasing drfracrm.\n",
      "dr =  675.0832533301333\n",
      "[  575170.93183727   575846.0150906    576521.09834393 ...\n",
      " 33751462.33349334 33752137.41674667 33752812.5       ]\n"
     ]
    },
    {
     "name": "stderr",
     "output_type": "stream",
     "text": [
      "/Users/simon/tcpips/chavas15/er11/radprof_raw.py:51: RuntimeWarning: divide by zero encountered in divide\n",
      "  V_ER11 = (1 / rr_ER11) * (Vmax * rmax + 0.5 * fcor * rmax**2) * (\n",
      "/Users/simon/tcpips/chavas15/er11/radprof_raw.py:51: RuntimeWarning: invalid value encountered in multiply\n",
      "  V_ER11 = (1 / rr_ER11) * (Vmax * rmax + 0.5 * fcor * rmax**2) * (\n"
     ]
    },
    {
     "name": "stdout",
     "output_type": "stream",
     "text": [
      "'ER11_radprof_raw'  0.35997 s \n",
      "\n",
      "[  648755.00645026   649430.08970359   650105.17295692 ...\n",
      " 33751462.33349334 33752137.41674667 33752812.5       ]\n"
     ]
    },
    {
     "name": "stderr",
     "output_type": "stream",
     "text": [
      "/Users/simon/tcpips/chavas15/er11/radprof_raw.py:51: RuntimeWarning: divide by zero encountered in divide\n",
      "  V_ER11 = (1 / rr_ER11) * (Vmax * rmax + 0.5 * fcor * rmax**2) * (\n",
      "/Users/simon/tcpips/chavas15/er11/radprof_raw.py:51: RuntimeWarning: invalid value encountered in multiply\n",
      "  V_ER11 = (1 / rr_ER11) * (Vmax * rmax + 0.5 * fcor * rmax**2) * (\n"
     ]
    },
    {
     "name": "stdout",
     "output_type": "stream",
     "text": [
      "'ER11_radprof_raw'  0.36185 s \n",
      "\n",
      "[  648755.00645026   649430.08970359   650105.17295692 ...\n",
      " 33751462.33349334 33752137.41674667 33752812.5       ]\n"
     ]
    },
    {
     "name": "stderr",
     "output_type": "stream",
     "text": [
      "/Users/simon/tcpips/chavas15/er11/radprof_raw.py:51: RuntimeWarning: divide by zero encountered in divide\n",
      "  V_ER11 = (1 / rr_ER11) * (Vmax * rmax + 0.5 * fcor * rmax**2) * (\n",
      "/Users/simon/tcpips/chavas15/er11/radprof_raw.py:51: RuntimeWarning: invalid value encountered in multiply\n",
      "  V_ER11 = (1 / rr_ER11) * (Vmax * rmax + 0.5 * fcor * rmax**2) * (\n"
     ]
    },
    {
     "name": "stdout",
     "output_type": "stream",
     "text": [
      "'ER11_radprof_raw'  0.52784 s \n",
      "\n",
      "[  669007.50405016   669682.58730349   670357.67055682 ...\n",
      " 33751462.33349334 33752137.41674667 33752812.5       ]\n"
     ]
    },
    {
     "name": "stderr",
     "output_type": "stream",
     "text": [
      "/Users/simon/tcpips/chavas15/er11/radprof_raw.py:51: RuntimeWarning: divide by zero encountered in divide\n",
      "  V_ER11 = (1 / rr_ER11) * (Vmax * rmax + 0.5 * fcor * rmax**2) * (\n",
      "/Users/simon/tcpips/chavas15/er11/radprof_raw.py:51: RuntimeWarning: invalid value encountered in multiply\n",
      "  V_ER11 = (1 / rr_ER11) * (Vmax * rmax + 0.5 * fcor * rmax**2) * (\n"
     ]
    },
    {
     "name": "stdout",
     "output_type": "stream",
     "text": [
      "'ER11_radprof_raw'  0.36388 s \n",
      "\n",
      "[  673733.08682347   674408.1700768    675083.25333013 ...\n",
      " 33751462.33349334 33752137.41674667 33752812.5       ]\n"
     ]
    },
    {
     "name": "stderr",
     "output_type": "stream",
     "text": [
      "/Users/simon/tcpips/chavas15/er11/radprof_raw.py:51: RuntimeWarning: divide by zero encountered in divide\n",
      "  V_ER11 = (1 / rr_ER11) * (Vmax * rmax + 0.5 * fcor * rmax**2) * (\n",
      "/Users/simon/tcpips/chavas15/er11/radprof_raw.py:51: RuntimeWarning: invalid value encountered in multiply\n",
      "  V_ER11 = (1 / rr_ER11) * (Vmax * rmax + 0.5 * fcor * rmax**2) * (\n"
     ]
    },
    {
     "name": "stdout",
     "output_type": "stream",
     "text": [
      "'ER11_radprof_raw'  0.36788 s \n",
      "\n",
      "[  675083.25333013   675758.33658346   676433.41983679 ...\n",
      " 33751462.33349334 33752137.41674667 33752812.5       ]\n"
     ]
    },
    {
     "name": "stderr",
     "output_type": "stream",
     "text": [
      "/Users/simon/tcpips/chavas15/er11/radprof_raw.py:51: RuntimeWarning: divide by zero encountered in divide\n",
      "  V_ER11 = (1 / rr_ER11) * (Vmax * rmax + 0.5 * fcor * rmax**2) * (\n",
      "/Users/simon/tcpips/chavas15/er11/radprof_raw.py:51: RuntimeWarning: invalid value encountered in multiply\n",
      "  V_ER11 = (1 / rr_ER11) * (Vmax * rmax + 0.5 * fcor * rmax**2) * (\n"
     ]
    },
    {
     "name": "stdout",
     "output_type": "stream",
     "text": [
      "'ER11_radprof_raw'  0.37027 s \n",
      "\n",
      "[  675083.25333013   675758.33658346   676433.41983679 ...\n",
      " 33751462.33349334 33752137.41674667 33752812.5       ]\n"
     ]
    },
    {
     "name": "stderr",
     "output_type": "stream",
     "text": [
      "/Users/simon/tcpips/chavas15/er11/radprof_raw.py:51: RuntimeWarning: divide by zero encountered in divide\n",
      "  V_ER11 = (1 / rr_ER11) * (Vmax * rmax + 0.5 * fcor * rmax**2) * (\n",
      "/Users/simon/tcpips/chavas15/er11/radprof_raw.py:51: RuntimeWarning: invalid value encountered in multiply\n",
      "  V_ER11 = (1 / rr_ER11) * (Vmax * rmax + 0.5 * fcor * rmax**2) * (\n"
     ]
    },
    {
     "name": "stdout",
     "output_type": "stream",
     "text": [
      "'ER11_radprof_raw'  0.36761 s \n",
      "\n",
      "[  675083.25333013   675758.33658346   676433.41983679 ...\n",
      " 33751462.33349334 33752137.41674667 33752812.5       ]\n"
     ]
    },
    {
     "name": "stderr",
     "output_type": "stream",
     "text": [
      "/Users/simon/tcpips/chavas15/er11/radprof_raw.py:51: RuntimeWarning: divide by zero encountered in divide\n",
      "  V_ER11 = (1 / rr_ER11) * (Vmax * rmax + 0.5 * fcor * rmax**2) * (\n",
      "/Users/simon/tcpips/chavas15/er11/radprof_raw.py:51: RuntimeWarning: invalid value encountered in multiply\n",
      "  V_ER11 = (1 / rr_ER11) * (Vmax * rmax + 0.5 * fcor * rmax**2) * (\n"
     ]
    },
    {
     "name": "stdout",
     "output_type": "stream",
     "text": [
      "'ER11_radprof_raw'  0.36206 s \n",
      "\n"
     ]
    },
    {
     "name": "stderr",
     "output_type": "stream",
     "text": [
      "/Users/simon/tcpips/chavas15/er11/radprof_raw.py:51: RuntimeWarning: divide by zero encountered in divide\n",
      "  V_ER11 = (1 / rr_ER11) * (Vmax * rmax + 0.5 * fcor * rmax**2) * (\n",
      "/Users/simon/tcpips/chavas15/er11/radprof_raw.py:51: RuntimeWarning: invalid value encountered in multiply\n",
      "  V_ER11 = (1 / rr_ER11) * (Vmax * rmax + 0.5 * fcor * rmax**2) * (\n"
     ]
    },
    {
     "name": "stdout",
     "output_type": "stream",
     "text": [
      "[  675758.33658346   676433.41983679   677108.50309012 ...\n",
      " 33751462.33349334 33752137.41674667 33752812.5       ]\n",
      "'ER11_radprof_raw'  0.36597 s \n",
      "\n",
      "'ER11_radprof'  4.53543 s \n",
      "\n",
      "intersection sizes 1000 1334 1334000\n",
      "'curveintersect'  2.16252 s \n",
      "\n",
      "Large storm detected. Increasing drfracrm.\n",
      "dr =  675.0551272050881\n",
      "[  575146.96837874   575822.02350594   576497.07863315 ...\n",
      " 33750056.13974559 33750731.19487279 33751406.24999999]\n"
     ]
    },
    {
     "name": "stderr",
     "output_type": "stream",
     "text": [
      "/Users/simon/tcpips/chavas15/er11/radprof_raw.py:51: RuntimeWarning: divide by zero encountered in divide\n",
      "  V_ER11 = (1 / rr_ER11) * (Vmax * rmax + 0.5 * fcor * rmax**2) * (\n",
      "/Users/simon/tcpips/chavas15/er11/radprof_raw.py:51: RuntimeWarning: invalid value encountered in multiply\n",
      "  V_ER11 = (1 / rr_ER11) * (Vmax * rmax + 0.5 * fcor * rmax**2) * (\n"
     ]
    },
    {
     "name": "stdout",
     "output_type": "stream",
     "text": [
      "'ER11_radprof_raw'  0.42044 s \n",
      "\n",
      "[  648727.97724409   649403.03237129   650078.0874985  ...\n",
      " 33750056.13974559 33750731.19487279 33751406.24999999]\n"
     ]
    },
    {
     "name": "stderr",
     "output_type": "stream",
     "text": [
      "/Users/simon/tcpips/chavas15/er11/radprof_raw.py:51: RuntimeWarning: divide by zero encountered in divide\n",
      "  V_ER11 = (1 / rr_ER11) * (Vmax * rmax + 0.5 * fcor * rmax**2) * (\n",
      "/Users/simon/tcpips/chavas15/er11/radprof_raw.py:51: RuntimeWarning: invalid value encountered in multiply\n",
      "  V_ER11 = (1 / rr_ER11) * (Vmax * rmax + 0.5 * fcor * rmax**2) * (\n"
     ]
    },
    {
     "name": "stdout",
     "output_type": "stream",
     "text": [
      "'ER11_radprof_raw'  0.41297 s \n",
      "\n",
      "[  648727.97724409   649403.03237129   650078.0874985  ...\n",
      " 33750056.13974559 33750731.19487279 33751406.24999999]\n"
     ]
    },
    {
     "name": "stderr",
     "output_type": "stream",
     "text": [
      "/Users/simon/tcpips/chavas15/er11/radprof_raw.py:51: RuntimeWarning: divide by zero encountered in divide\n",
      "  V_ER11 = (1 / rr_ER11) * (Vmax * rmax + 0.5 * fcor * rmax**2) * (\n",
      "/Users/simon/tcpips/chavas15/er11/radprof_raw.py:51: RuntimeWarning: invalid value encountered in multiply\n",
      "  V_ER11 = (1 / rr_ER11) * (Vmax * rmax + 0.5 * fcor * rmax**2) * (\n"
     ]
    },
    {
     "name": "stdout",
     "output_type": "stream",
     "text": [
      "'ER11_radprof_raw'  0.41039 s \n",
      "\n",
      "[  668979.63106024   669654.68618745   670329.74131465 ...\n",
      " 33750056.13974559 33750731.19487279 33751406.24999999]\n"
     ]
    },
    {
     "name": "stderr",
     "output_type": "stream",
     "text": [
      "/Users/simon/tcpips/chavas15/er11/radprof_raw.py:51: RuntimeWarning: divide by zero encountered in divide\n",
      "  V_ER11 = (1 / rr_ER11) * (Vmax * rmax + 0.5 * fcor * rmax**2) * (\n",
      "/Users/simon/tcpips/chavas15/er11/radprof_raw.py:51: RuntimeWarning: invalid value encountered in multiply\n",
      "  V_ER11 = (1 / rr_ER11) * (Vmax * rmax + 0.5 * fcor * rmax**2) * (\n"
     ]
    },
    {
     "name": "stdout",
     "output_type": "stream",
     "text": [
      "'ER11_radprof_raw'  0.41580 s \n",
      "\n",
      "[  673705.01695068   674380.07207788   675055.12720509 ...\n",
      " 33750056.13974559 33750731.19487279 33751406.24999999]\n"
     ]
    },
    {
     "name": "stderr",
     "output_type": "stream",
     "text": [
      "/Users/simon/tcpips/chavas15/er11/radprof_raw.py:51: RuntimeWarning: divide by zero encountered in divide\n",
      "  V_ER11 = (1 / rr_ER11) * (Vmax * rmax + 0.5 * fcor * rmax**2) * (\n",
      "/Users/simon/tcpips/chavas15/er11/radprof_raw.py:51: RuntimeWarning: invalid value encountered in multiply\n",
      "  V_ER11 = (1 / rr_ER11) * (Vmax * rmax + 0.5 * fcor * rmax**2) * (\n"
     ]
    },
    {
     "name": "stdout",
     "output_type": "stream",
     "text": [
      "'ER11_radprof_raw'  0.58189 s \n",
      "\n",
      "[  675055.12720509   675730.18233229   676405.2374595  ...\n",
      " 33750056.13974559 33750731.19487279 33751406.24999999]\n"
     ]
    },
    {
     "name": "stderr",
     "output_type": "stream",
     "text": [
      "/Users/simon/tcpips/chavas15/er11/radprof_raw.py:51: RuntimeWarning: divide by zero encountered in divide\n",
      "  V_ER11 = (1 / rr_ER11) * (Vmax * rmax + 0.5 * fcor * rmax**2) * (\n",
      "/Users/simon/tcpips/chavas15/er11/radprof_raw.py:51: RuntimeWarning: invalid value encountered in multiply\n",
      "  V_ER11 = (1 / rr_ER11) * (Vmax * rmax + 0.5 * fcor * rmax**2) * (\n"
     ]
    },
    {
     "name": "stdout",
     "output_type": "stream",
     "text": [
      "'ER11_radprof_raw'  0.41295 s \n",
      "\n",
      "[  675055.12720509   675730.18233229   676405.2374595  ...\n",
      " 33750056.13974559 33750731.19487279 33751406.24999999]\n"
     ]
    },
    {
     "name": "stderr",
     "output_type": "stream",
     "text": [
      "/Users/simon/tcpips/chavas15/er11/radprof_raw.py:51: RuntimeWarning: divide by zero encountered in divide\n",
      "  V_ER11 = (1 / rr_ER11) * (Vmax * rmax + 0.5 * fcor * rmax**2) * (\n",
      "/Users/simon/tcpips/chavas15/er11/radprof_raw.py:51: RuntimeWarning: invalid value encountered in multiply\n",
      "  V_ER11 = (1 / rr_ER11) * (Vmax * rmax + 0.5 * fcor * rmax**2) * (\n"
     ]
    },
    {
     "name": "stdout",
     "output_type": "stream",
     "text": [
      "'ER11_radprof_raw'  0.41968 s \n",
      "\n",
      "[  675055.12720509   675730.18233229   676405.2374595  ...\n",
      " 33750056.13974559 33750731.19487279 33751406.24999999]\n"
     ]
    },
    {
     "name": "stderr",
     "output_type": "stream",
     "text": [
      "/Users/simon/tcpips/chavas15/er11/radprof_raw.py:51: RuntimeWarning: divide by zero encountered in divide\n",
      "  V_ER11 = (1 / rr_ER11) * (Vmax * rmax + 0.5 * fcor * rmax**2) * (\n",
      "/Users/simon/tcpips/chavas15/er11/radprof_raw.py:51: RuntimeWarning: invalid value encountered in multiply\n",
      "  V_ER11 = (1 / rr_ER11) * (Vmax * rmax + 0.5 * fcor * rmax**2) * (\n"
     ]
    },
    {
     "name": "stdout",
     "output_type": "stream",
     "text": [
      "'ER11_radprof_raw'  0.41051 s \n",
      "\n",
      "[  675730.18233229   676405.2374595    677080.2925867  ...\n",
      " 33750056.13974559 33750731.19487279 33751406.24999999]\n"
     ]
    },
    {
     "name": "stderr",
     "output_type": "stream",
     "text": [
      "/Users/simon/tcpips/chavas15/er11/radprof_raw.py:51: RuntimeWarning: divide by zero encountered in divide\n",
      "  V_ER11 = (1 / rr_ER11) * (Vmax * rmax + 0.5 * fcor * rmax**2) * (\n",
      "/Users/simon/tcpips/chavas15/er11/radprof_raw.py:51: RuntimeWarning: invalid value encountered in multiply\n",
      "  V_ER11 = (1 / rr_ER11) * (Vmax * rmax + 0.5 * fcor * rmax**2) * (\n"
     ]
    },
    {
     "name": "stdout",
     "output_type": "stream",
     "text": [
      "'ER11_radprof_raw'  0.41456 s \n",
      "\n",
      "'ER11_radprof'  4.81512 s \n",
      "\n",
      "intersection sizes 1000 1334 1334000\n",
      "'curveintersect'  2.09046 s \n",
      "\n",
      "Large storm detected. Increasing drfracrm.\n",
      "dr =  675.0410641425657\n",
      "[  575134.98664947   575810.02771361   576485.06877775 ...\n",
      " 33749353.04287171 33750028.08393586 33750703.125     ]\n"
     ]
    },
    {
     "name": "stderr",
     "output_type": "stream",
     "text": [
      "/Users/simon/tcpips/chavas15/er11/radprof_raw.py:51: RuntimeWarning: divide by zero encountered in divide\n",
      "  V_ER11 = (1 / rr_ER11) * (Vmax * rmax + 0.5 * fcor * rmax**2) * (\n",
      "/Users/simon/tcpips/chavas15/er11/radprof_raw.py:51: RuntimeWarning: invalid value encountered in multiply\n",
      "  V_ER11 = (1 / rr_ER11) * (Vmax * rmax + 0.5 * fcor * rmax**2) * (\n"
     ]
    },
    {
     "name": "stdout",
     "output_type": "stream",
     "text": [
      "'ER11_radprof_raw'  0.38604 s \n",
      "\n",
      "[  648714.46264101   649389.50370515   650064.54476929 ...\n",
      " 33749353.04287171 33750028.08393586 33750703.125     ]\n"
     ]
    },
    {
     "name": "stderr",
     "output_type": "stream",
     "text": [
      "/Users/simon/tcpips/chavas15/er11/radprof_raw.py:51: RuntimeWarning: divide by zero encountered in divide\n",
      "  V_ER11 = (1 / rr_ER11) * (Vmax * rmax + 0.5 * fcor * rmax**2) * (\n",
      "/Users/simon/tcpips/chavas15/er11/radprof_raw.py:51: RuntimeWarning: invalid value encountered in multiply\n",
      "  V_ER11 = (1 / rr_ER11) * (Vmax * rmax + 0.5 * fcor * rmax**2) * (\n"
     ]
    },
    {
     "name": "stdout",
     "output_type": "stream",
     "text": [
      "'ER11_radprof_raw'  0.58160 s \n",
      "\n",
      "[  648714.46264101   649389.50370515   650064.54476929 ...\n",
      " 33749353.04287171 33750028.08393586 33750703.125     ]\n"
     ]
    },
    {
     "name": "stderr",
     "output_type": "stream",
     "text": [
      "/Users/simon/tcpips/chavas15/er11/radprof_raw.py:51: RuntimeWarning: divide by zero encountered in divide\n",
      "  V_ER11 = (1 / rr_ER11) * (Vmax * rmax + 0.5 * fcor * rmax**2) * (\n",
      "/Users/simon/tcpips/chavas15/er11/radprof_raw.py:51: RuntimeWarning: invalid value encountered in multiply\n",
      "  V_ER11 = (1 / rr_ER11) * (Vmax * rmax + 0.5 * fcor * rmax**2) * (\n"
     ]
    },
    {
     "name": "stdout",
     "output_type": "stream",
     "text": [
      "'ER11_radprof_raw'  0.38519 s \n",
      "\n",
      "[  668965.69456528   669640.73562943   670315.77669357 ...\n",
      " 33749353.04287171 33750028.08393586 33750703.125     ]\n"
     ]
    },
    {
     "name": "stderr",
     "output_type": "stream",
     "text": [
      "/Users/simon/tcpips/chavas15/er11/radprof_raw.py:51: RuntimeWarning: divide by zero encountered in divide\n",
      "  V_ER11 = (1 / rr_ER11) * (Vmax * rmax + 0.5 * fcor * rmax**2) * (\n",
      "/Users/simon/tcpips/chavas15/er11/radprof_raw.py:51: RuntimeWarning: invalid value encountered in multiply\n",
      "  V_ER11 = (1 / rr_ER11) * (Vmax * rmax + 0.5 * fcor * rmax**2) * (\n"
     ]
    },
    {
     "name": "stdout",
     "output_type": "stream",
     "text": [
      "'ER11_radprof_raw'  0.37868 s \n",
      "\n",
      "[  673690.98201428   674366.02307842   675041.06414257 ...\n",
      " 33749353.04287171 33750028.08393586 33750703.125     ]\n"
     ]
    },
    {
     "name": "stderr",
     "output_type": "stream",
     "text": [
      "/Users/simon/tcpips/chavas15/er11/radprof_raw.py:51: RuntimeWarning: divide by zero encountered in divide\n",
      "  V_ER11 = (1 / rr_ER11) * (Vmax * rmax + 0.5 * fcor * rmax**2) * (\n",
      "/Users/simon/tcpips/chavas15/er11/radprof_raw.py:51: RuntimeWarning: invalid value encountered in multiply\n",
      "  V_ER11 = (1 / rr_ER11) * (Vmax * rmax + 0.5 * fcor * rmax**2) * (\n"
     ]
    },
    {
     "name": "stdout",
     "output_type": "stream",
     "text": [
      "'ER11_radprof_raw'  0.38383 s \n",
      "\n",
      "[  675041.06414257   675716.10520671   676391.14627085 ...\n",
      " 33749353.04287171 33750028.08393586 33750703.125     ]\n"
     ]
    },
    {
     "name": "stderr",
     "output_type": "stream",
     "text": [
      "/Users/simon/tcpips/chavas15/er11/radprof_raw.py:51: RuntimeWarning: divide by zero encountered in divide\n",
      "  V_ER11 = (1 / rr_ER11) * (Vmax * rmax + 0.5 * fcor * rmax**2) * (\n",
      "/Users/simon/tcpips/chavas15/er11/radprof_raw.py:51: RuntimeWarning: invalid value encountered in multiply\n",
      "  V_ER11 = (1 / rr_ER11) * (Vmax * rmax + 0.5 * fcor * rmax**2) * (\n"
     ]
    },
    {
     "name": "stdout",
     "output_type": "stream",
     "text": [
      "'ER11_radprof_raw'  0.38431 s \n",
      "\n",
      "[  675041.06414257   675716.10520671   676391.14627085 ...\n",
      " 33749353.04287171 33750028.08393586 33750703.125     ]\n"
     ]
    },
    {
     "name": "stderr",
     "output_type": "stream",
     "text": [
      "/Users/simon/tcpips/chavas15/er11/radprof_raw.py:51: RuntimeWarning: divide by zero encountered in divide\n",
      "  V_ER11 = (1 / rr_ER11) * (Vmax * rmax + 0.5 * fcor * rmax**2) * (\n",
      "/Users/simon/tcpips/chavas15/er11/radprof_raw.py:51: RuntimeWarning: invalid value encountered in multiply\n",
      "  V_ER11 = (1 / rr_ER11) * (Vmax * rmax + 0.5 * fcor * rmax**2) * (\n"
     ]
    },
    {
     "name": "stdout",
     "output_type": "stream",
     "text": [
      "'ER11_radprof_raw'  0.39721 s \n",
      "\n",
      "[  675041.06414257   675716.10520671   676391.14627085 ...\n",
      " 33749353.04287171 33750028.08393586 33750703.125     ]\n"
     ]
    },
    {
     "name": "stderr",
     "output_type": "stream",
     "text": [
      "/Users/simon/tcpips/chavas15/er11/radprof_raw.py:51: RuntimeWarning: divide by zero encountered in divide\n",
      "  V_ER11 = (1 / rr_ER11) * (Vmax * rmax + 0.5 * fcor * rmax**2) * (\n",
      "/Users/simon/tcpips/chavas15/er11/radprof_raw.py:51: RuntimeWarning: invalid value encountered in multiply\n",
      "  V_ER11 = (1 / rr_ER11) * (Vmax * rmax + 0.5 * fcor * rmax**2) * (\n"
     ]
    },
    {
     "name": "stdout",
     "output_type": "stream",
     "text": [
      "'ER11_radprof_raw'  0.38607 s \n",
      "\n"
     ]
    },
    {
     "name": "stderr",
     "output_type": "stream",
     "text": [
      "/Users/simon/tcpips/chavas15/er11/radprof_raw.py:51: RuntimeWarning: divide by zero encountered in divide\n",
      "  V_ER11 = (1 / rr_ER11) * (Vmax * rmax + 0.5 * fcor * rmax**2) * (\n",
      "/Users/simon/tcpips/chavas15/er11/radprof_raw.py:51: RuntimeWarning: invalid value encountered in multiply\n",
      "  V_ER11 = (1 / rr_ER11) * (Vmax * rmax + 0.5 * fcor * rmax**2) * (\n"
     ]
    },
    {
     "name": "stdout",
     "output_type": "stream",
     "text": [
      "[  675716.10520671   676391.14627085   677066.18733499 ...\n",
      " 33749353.04287171 33750028.08393586 33750703.125     ]\n",
      "'ER11_radprof_raw'  0.38056 s \n",
      "\n",
      "'ER11_radprof'  4.76012 s \n",
      "\n",
      "intersection sizes 1000 1334 1334000\n",
      "'curveintersect'  2.18331 s \n",
      "\n",
      "Large storm detected. Increasing drfracrm.\n",
      "dr =  675.0340326113044\n",
      "[  575128.99578483   575804.02981744   576479.06385005 ...\n",
      " 33749001.49443477 33749676.52846738 33750351.56249999]\n"
     ]
    },
    {
     "name": "stderr",
     "output_type": "stream",
     "text": [
      "/Users/simon/tcpips/chavas15/er11/radprof_raw.py:51: RuntimeWarning: divide by zero encountered in divide\n",
      "  V_ER11 = (1 / rr_ER11) * (Vmax * rmax + 0.5 * fcor * rmax**2) * (\n",
      "/Users/simon/tcpips/chavas15/er11/radprof_raw.py:51: RuntimeWarning: invalid value encountered in multiply\n",
      "  V_ER11 = (1 / rr_ER11) * (Vmax * rmax + 0.5 * fcor * rmax**2) * (\n"
     ]
    },
    {
     "name": "stdout",
     "output_type": "stream",
     "text": [
      "'ER11_radprof_raw'  0.39045 s \n",
      "\n",
      "[  648707.70533946   649382.73937207   650057.77340469 ...\n",
      " 33749001.49443477 33749676.52846738 33750351.56249999]\n"
     ]
    },
    {
     "name": "stderr",
     "output_type": "stream",
     "text": [
      "/Users/simon/tcpips/chavas15/er11/radprof_raw.py:51: RuntimeWarning: divide by zero encountered in divide\n",
      "  V_ER11 = (1 / rr_ER11) * (Vmax * rmax + 0.5 * fcor * rmax**2) * (\n",
      "/Users/simon/tcpips/chavas15/er11/radprof_raw.py:51: RuntimeWarning: invalid value encountered in multiply\n",
      "  V_ER11 = (1 / rr_ER11) * (Vmax * rmax + 0.5 * fcor * rmax**2) * (\n"
     ]
    },
    {
     "name": "stdout",
     "output_type": "stream",
     "text": [
      "'ER11_radprof_raw'  0.37347 s \n",
      "\n",
      "[  648707.70533946   649382.73937207   650057.77340469 ...\n",
      " 33749001.49443477 33749676.52846738 33750351.56249999]\n"
     ]
    },
    {
     "name": "stderr",
     "output_type": "stream",
     "text": [
      "/Users/simon/tcpips/chavas15/er11/radprof_raw.py:51: RuntimeWarning: divide by zero encountered in divide\n",
      "  V_ER11 = (1 / rr_ER11) * (Vmax * rmax + 0.5 * fcor * rmax**2) * (\n",
      "/Users/simon/tcpips/chavas15/er11/radprof_raw.py:51: RuntimeWarning: invalid value encountered in multiply\n",
      "  V_ER11 = (1 / rr_ER11) * (Vmax * rmax + 0.5 * fcor * rmax**2) * (\n"
     ]
    },
    {
     "name": "stdout",
     "output_type": "stream",
     "text": [
      "'ER11_radprof_raw'  0.36721 s \n",
      "\n",
      "[  668958.7263178    669633.76035041   670308.79438303 ...\n",
      " 33749001.49443477 33749676.52846738 33750351.56249999]\n"
     ]
    },
    {
     "name": "stderr",
     "output_type": "stream",
     "text": [
      "/Users/simon/tcpips/chavas15/er11/radprof_raw.py:51: RuntimeWarning: divide by zero encountered in divide\n",
      "  V_ER11 = (1 / rr_ER11) * (Vmax * rmax + 0.5 * fcor * rmax**2) * (\n",
      "/Users/simon/tcpips/chavas15/er11/radprof_raw.py:51: RuntimeWarning: invalid value encountered in multiply\n",
      "  V_ER11 = (1 / rr_ER11) * (Vmax * rmax + 0.5 * fcor * rmax**2) * (\n"
     ]
    },
    {
     "name": "stdout",
     "output_type": "stream",
     "text": [
      "'ER11_radprof_raw'  0.36401 s \n",
      "\n",
      "[  673683.96454608   674358.99857869   675034.0326113  ...\n",
      " 33749001.49443477 33749676.52846738 33750351.56249999]\n"
     ]
    },
    {
     "name": "stderr",
     "output_type": "stream",
     "text": [
      "/Users/simon/tcpips/chavas15/er11/radprof_raw.py:51: RuntimeWarning: divide by zero encountered in divide\n",
      "  V_ER11 = (1 / rr_ER11) * (Vmax * rmax + 0.5 * fcor * rmax**2) * (\n",
      "/Users/simon/tcpips/chavas15/er11/radprof_raw.py:51: RuntimeWarning: invalid value encountered in multiply\n",
      "  V_ER11 = (1 / rr_ER11) * (Vmax * rmax + 0.5 * fcor * rmax**2) * (\n"
     ]
    },
    {
     "name": "stdout",
     "output_type": "stream",
     "text": [
      "'ER11_radprof_raw'  0.36718 s \n",
      "\n"
     ]
    },
    {
     "name": "stderr",
     "output_type": "stream",
     "text": [
      "/Users/simon/tcpips/chavas15/er11/radprof_raw.py:51: RuntimeWarning: divide by zero encountered in divide\n",
      "  V_ER11 = (1 / rr_ER11) * (Vmax * rmax + 0.5 * fcor * rmax**2) * (\n",
      "/Users/simon/tcpips/chavas15/er11/radprof_raw.py:51: RuntimeWarning: invalid value encountered in multiply\n",
      "  V_ER11 = (1 / rr_ER11) * (Vmax * rmax + 0.5 * fcor * rmax**2) * (\n"
     ]
    },
    {
     "name": "stdout",
     "output_type": "stream",
     "text": [
      "[  675034.0326113    675709.06664392   676384.10067653 ...\n",
      " 33749001.49443477 33749676.52846738 33750351.56249999]\n",
      "'ER11_radprof_raw'  0.36887 s \n",
      "\n",
      "[  675034.0326113    675709.06664392   676384.10067653 ...\n",
      " 33749001.49443477 33749676.52846738 33750351.56249999]\n"
     ]
    },
    {
     "name": "stderr",
     "output_type": "stream",
     "text": [
      "/Users/simon/tcpips/chavas15/er11/radprof_raw.py:51: RuntimeWarning: divide by zero encountered in divide\n",
      "  V_ER11 = (1 / rr_ER11) * (Vmax * rmax + 0.5 * fcor * rmax**2) * (\n",
      "/Users/simon/tcpips/chavas15/er11/radprof_raw.py:51: RuntimeWarning: invalid value encountered in multiply\n",
      "  V_ER11 = (1 / rr_ER11) * (Vmax * rmax + 0.5 * fcor * rmax**2) * (\n"
     ]
    },
    {
     "name": "stdout",
     "output_type": "stream",
     "text": [
      "'ER11_radprof_raw'  0.38017 s \n",
      "\n",
      "[  675034.0326113    675709.06664392   676384.10067653 ...\n",
      " 33749001.49443477 33749676.52846738 33750351.56249999]\n"
     ]
    },
    {
     "name": "stderr",
     "output_type": "stream",
     "text": [
      "/Users/simon/tcpips/chavas15/er11/radprof_raw.py:51: RuntimeWarning: divide by zero encountered in divide\n",
      "  V_ER11 = (1 / rr_ER11) * (Vmax * rmax + 0.5 * fcor * rmax**2) * (\n",
      "/Users/simon/tcpips/chavas15/er11/radprof_raw.py:51: RuntimeWarning: invalid value encountered in multiply\n",
      "  V_ER11 = (1 / rr_ER11) * (Vmax * rmax + 0.5 * fcor * rmax**2) * (\n"
     ]
    },
    {
     "name": "stdout",
     "output_type": "stream",
     "text": [
      "'ER11_radprof_raw'  0.37073 s \n",
      "\n",
      "[  675709.06664392   676384.10067653   677059.13470914 ...\n",
      " 33749001.49443477 33749676.52846738 33750351.56249999]\n"
     ]
    },
    {
     "name": "stderr",
     "output_type": "stream",
     "text": [
      "/Users/simon/tcpips/chavas15/er11/radprof_raw.py:51: RuntimeWarning: divide by zero encountered in divide\n",
      "  V_ER11 = (1 / rr_ER11) * (Vmax * rmax + 0.5 * fcor * rmax**2) * (\n",
      "/Users/simon/tcpips/chavas15/er11/radprof_raw.py:51: RuntimeWarning: invalid value encountered in multiply\n",
      "  V_ER11 = (1 / rr_ER11) * (Vmax * rmax + 0.5 * fcor * rmax**2) * (\n"
     ]
    },
    {
     "name": "stdout",
     "output_type": "stream",
     "text": [
      "'ER11_radprof_raw'  0.36949 s \n",
      "\n",
      "'ER11_radprof'  4.44614 s \n",
      "\n",
      "intersection sizes 1000 1334 1334000\n",
      "'curveintersect'  2.11054 s \n",
      "\n",
      "Large storm detected. Increasing drfracrm.\n",
      "dr =  675.0305168456738\n",
      "[  575126.00035251   575801.03086936   576476.06138621 ...\n",
      " 33748825.7202163  33749500.75073315 33750175.78124999]\n"
     ]
    },
    {
     "name": "stderr",
     "output_type": "stream",
     "text": [
      "/Users/simon/tcpips/chavas15/er11/radprof_raw.py:51: RuntimeWarning: divide by zero encountered in divide\n",
      "  V_ER11 = (1 / rr_ER11) * (Vmax * rmax + 0.5 * fcor * rmax**2) * (\n",
      "/Users/simon/tcpips/chavas15/er11/radprof_raw.py:51: RuntimeWarning: invalid value encountered in multiply\n",
      "  V_ER11 = (1 / rr_ER11) * (Vmax * rmax + 0.5 * fcor * rmax**2) * (\n"
     ]
    },
    {
     "name": "stdout",
     "output_type": "stream",
     "text": [
      "'ER11_radprof_raw'  0.37587 s \n",
      "\n",
      "[  648704.32668869   649379.35720554   650054.38772238 ...\n",
      " 33748825.7202163  33749500.75073315 33750175.78124999]\n"
     ]
    },
    {
     "name": "stderr",
     "output_type": "stream",
     "text": [
      "/Users/simon/tcpips/chavas15/er11/radprof_raw.py:51: RuntimeWarning: divide by zero encountered in divide\n",
      "  V_ER11 = (1 / rr_ER11) * (Vmax * rmax + 0.5 * fcor * rmax**2) * (\n",
      "/Users/simon/tcpips/chavas15/er11/radprof_raw.py:51: RuntimeWarning: invalid value encountered in multiply\n",
      "  V_ER11 = (1 / rr_ER11) * (Vmax * rmax + 0.5 * fcor * rmax**2) * (\n"
     ]
    },
    {
     "name": "stdout",
     "output_type": "stream",
     "text": [
      "'ER11_radprof_raw'  0.56700 s \n",
      "\n",
      "[  648704.32668869   649379.35720554   650054.38772238 ...\n",
      " 33748825.7202163  33749500.75073315 33750175.78124999]\n"
     ]
    },
    {
     "name": "stderr",
     "output_type": "stream",
     "text": [
      "/Users/simon/tcpips/chavas15/er11/radprof_raw.py:51: RuntimeWarning: divide by zero encountered in divide\n",
      "  V_ER11 = (1 / rr_ER11) * (Vmax * rmax + 0.5 * fcor * rmax**2) * (\n",
      "/Users/simon/tcpips/chavas15/er11/radprof_raw.py:51: RuntimeWarning: invalid value encountered in multiply\n",
      "  V_ER11 = (1 / rr_ER11) * (Vmax * rmax + 0.5 * fcor * rmax**2) * (\n"
     ]
    },
    {
     "name": "stdout",
     "output_type": "stream",
     "text": [
      "'ER11_radprof_raw'  0.38068 s \n",
      "\n",
      "[  668955.24219406   669630.27271091   670305.30322775 ...\n",
      " 33748825.7202163  33749500.75073315 33750175.78124999]\n"
     ]
    },
    {
     "name": "stderr",
     "output_type": "stream",
     "text": [
      "/Users/simon/tcpips/chavas15/er11/radprof_raw.py:51: RuntimeWarning: divide by zero encountered in divide\n",
      "  V_ER11 = (1 / rr_ER11) * (Vmax * rmax + 0.5 * fcor * rmax**2) * (\n",
      "/Users/simon/tcpips/chavas15/er11/radprof_raw.py:51: RuntimeWarning: invalid value encountered in multiply\n",
      "  V_ER11 = (1 / rr_ER11) * (Vmax * rmax + 0.5 * fcor * rmax**2) * (\n"
     ]
    },
    {
     "name": "stdout",
     "output_type": "stream",
     "text": [
      "'ER11_radprof_raw'  0.37878 s \n",
      "\n",
      "[  673680.45581198   674355.48632883   675030.51684567 ...\n",
      " 33748825.7202163  33749500.75073315 33750175.78124999]\n"
     ]
    },
    {
     "name": "stderr",
     "output_type": "stream",
     "text": [
      "/Users/simon/tcpips/chavas15/er11/radprof_raw.py:51: RuntimeWarning: divide by zero encountered in divide\n",
      "  V_ER11 = (1 / rr_ER11) * (Vmax * rmax + 0.5 * fcor * rmax**2) * (\n",
      "/Users/simon/tcpips/chavas15/er11/radprof_raw.py:51: RuntimeWarning: invalid value encountered in multiply\n",
      "  V_ER11 = (1 / rr_ER11) * (Vmax * rmax + 0.5 * fcor * rmax**2) * (\n"
     ]
    },
    {
     "name": "stdout",
     "output_type": "stream",
     "text": [
      "'ER11_radprof_raw'  0.38276 s \n",
      "\n",
      "[  675030.51684567   675705.54736252   676380.57787937 ...\n",
      " 33748825.7202163  33749500.75073315 33750175.78124999]\n"
     ]
    },
    {
     "name": "stderr",
     "output_type": "stream",
     "text": [
      "/Users/simon/tcpips/chavas15/er11/radprof_raw.py:51: RuntimeWarning: divide by zero encountered in divide\n",
      "  V_ER11 = (1 / rr_ER11) * (Vmax * rmax + 0.5 * fcor * rmax**2) * (\n",
      "/Users/simon/tcpips/chavas15/er11/radprof_raw.py:51: RuntimeWarning: invalid value encountered in multiply\n",
      "  V_ER11 = (1 / rr_ER11) * (Vmax * rmax + 0.5 * fcor * rmax**2) * (\n"
     ]
    },
    {
     "name": "stdout",
     "output_type": "stream",
     "text": [
      "'ER11_radprof_raw'  0.37468 s \n",
      "\n",
      "[  675030.51684567   675705.54736252   676380.57787937 ...\n",
      " 33748825.7202163  33749500.75073315 33750175.78124999]\n"
     ]
    },
    {
     "name": "stderr",
     "output_type": "stream",
     "text": [
      "/Users/simon/tcpips/chavas15/er11/radprof_raw.py:51: RuntimeWarning: divide by zero encountered in divide\n",
      "  V_ER11 = (1 / rr_ER11) * (Vmax * rmax + 0.5 * fcor * rmax**2) * (\n",
      "/Users/simon/tcpips/chavas15/er11/radprof_raw.py:51: RuntimeWarning: invalid value encountered in multiply\n",
      "  V_ER11 = (1 / rr_ER11) * (Vmax * rmax + 0.5 * fcor * rmax**2) * (\n"
     ]
    },
    {
     "name": "stdout",
     "output_type": "stream",
     "text": [
      "'ER11_radprof_raw'  0.36990 s \n",
      "\n",
      "[  675030.51684567   675705.54736252   676380.57787937 ...\n",
      " 33748825.7202163  33749500.75073315 33750175.78124999]\n"
     ]
    },
    {
     "name": "stderr",
     "output_type": "stream",
     "text": [
      "/Users/simon/tcpips/chavas15/er11/radprof_raw.py:51: RuntimeWarning: divide by zero encountered in divide\n",
      "  V_ER11 = (1 / rr_ER11) * (Vmax * rmax + 0.5 * fcor * rmax**2) * (\n",
      "/Users/simon/tcpips/chavas15/er11/radprof_raw.py:51: RuntimeWarning: invalid value encountered in multiply\n",
      "  V_ER11 = (1 / rr_ER11) * (Vmax * rmax + 0.5 * fcor * rmax**2) * (\n"
     ]
    },
    {
     "name": "stdout",
     "output_type": "stream",
     "text": [
      "'ER11_radprof_raw'  0.37946 s \n",
      "\n"
     ]
    },
    {
     "name": "stderr",
     "output_type": "stream",
     "text": [
      "/Users/simon/tcpips/chavas15/er11/radprof_raw.py:51: RuntimeWarning: divide by zero encountered in divide\n",
      "  V_ER11 = (1 / rr_ER11) * (Vmax * rmax + 0.5 * fcor * rmax**2) * (\n",
      "/Users/simon/tcpips/chavas15/er11/radprof_raw.py:51: RuntimeWarning: invalid value encountered in multiply\n",
      "  V_ER11 = (1 / rr_ER11) * (Vmax * rmax + 0.5 * fcor * rmax**2) * (\n"
     ]
    },
    {
     "name": "stdout",
     "output_type": "stream",
     "text": [
      "[  675705.54736252   676380.57787937   677055.60839621 ...\n",
      " 33748825.7202163  33749500.75073315 33750175.78124999]\n",
      "'ER11_radprof_raw'  0.37605 s \n",
      "\n",
      "'ER11_radprof'  4.67586 s \n",
      "\n",
      "intersection sizes 1000 1334 1334000\n",
      "'curveintersect'  2.16076 s \n",
      "\n",
      "Large storm detected. Increasing drfracrm.\n",
      "dr =  675.0287589628585\n",
      "[  575124.50263636   575799.53139532   576474.56015428 ...\n",
      " 33748737.83310708 33749412.86186603 33750087.890625  ]\n"
     ]
    },
    {
     "name": "stderr",
     "output_type": "stream",
     "text": [
      "/Users/simon/tcpips/chavas15/er11/radprof_raw.py:51: RuntimeWarning: divide by zero encountered in divide\n",
      "  V_ER11 = (1 / rr_ER11) * (Vmax * rmax + 0.5 * fcor * rmax**2) * (\n",
      "/Users/simon/tcpips/chavas15/er11/radprof_raw.py:51: RuntimeWarning: invalid value encountered in multiply\n",
      "  V_ER11 = (1 / rr_ER11) * (Vmax * rmax + 0.5 * fcor * rmax**2) * (\n"
     ]
    },
    {
     "name": "stdout",
     "output_type": "stream",
     "text": [
      "'ER11_radprof_raw'  0.36297 s \n",
      "\n",
      "[  648702.63736331   649377.66612227   650052.69488123 ...\n",
      " 33748737.83310708 33749412.86186603 33750087.890625  ]\n"
     ]
    },
    {
     "name": "stderr",
     "output_type": "stream",
     "text": [
      "/Users/simon/tcpips/chavas15/er11/radprof_raw.py:51: RuntimeWarning: divide by zero encountered in divide\n",
      "  V_ER11 = (1 / rr_ER11) * (Vmax * rmax + 0.5 * fcor * rmax**2) * (\n",
      "/Users/simon/tcpips/chavas15/er11/radprof_raw.py:51: RuntimeWarning: invalid value encountered in multiply\n",
      "  V_ER11 = (1 / rr_ER11) * (Vmax * rmax + 0.5 * fcor * rmax**2) * (\n"
     ]
    },
    {
     "name": "stdout",
     "output_type": "stream",
     "text": [
      "'ER11_radprof_raw'  0.36640 s \n",
      "\n",
      "[  648702.63736331   649377.66612227   650052.69488123 ...\n",
      " 33748737.83310708 33749412.86186603 33750087.890625  ]\n"
     ]
    },
    {
     "name": "stderr",
     "output_type": "stream",
     "text": [
      "/Users/simon/tcpips/chavas15/er11/radprof_raw.py:51: RuntimeWarning: divide by zero encountered in divide\n",
      "  V_ER11 = (1 / rr_ER11) * (Vmax * rmax + 0.5 * fcor * rmax**2) * (\n",
      "/Users/simon/tcpips/chavas15/er11/radprof_raw.py:51: RuntimeWarning: invalid value encountered in multiply\n",
      "  V_ER11 = (1 / rr_ER11) * (Vmax * rmax + 0.5 * fcor * rmax**2) * (\n"
     ]
    },
    {
     "name": "stdout",
     "output_type": "stream",
     "text": [
      "'ER11_radprof_raw'  0.35938 s \n",
      "\n",
      "[  668953.50013219   669628.52889116   670303.55765012 ...\n",
      " 33748737.83310708 33749412.86186603 33750087.890625  ]\n"
     ]
    },
    {
     "name": "stderr",
     "output_type": "stream",
     "text": [
      "/Users/simon/tcpips/chavas15/er11/radprof_raw.py:51: RuntimeWarning: divide by zero encountered in divide\n",
      "  V_ER11 = (1 / rr_ER11) * (Vmax * rmax + 0.5 * fcor * rmax**2) * (\n",
      "/Users/simon/tcpips/chavas15/er11/radprof_raw.py:51: RuntimeWarning: invalid value encountered in multiply\n",
      "  V_ER11 = (1 / rr_ER11) * (Vmax * rmax + 0.5 * fcor * rmax**2) * (\n"
     ]
    },
    {
     "name": "stdout",
     "output_type": "stream",
     "text": [
      "'ER11_radprof_raw'  0.36965 s \n",
      "\n",
      "[  673678.70144493   674353.7302039    675028.75896286 ...\n",
      " 33748737.83310708 33749412.86186603 33750087.890625  ]\n"
     ]
    },
    {
     "name": "stderr",
     "output_type": "stream",
     "text": [
      "/Users/simon/tcpips/chavas15/er11/radprof_raw.py:51: RuntimeWarning: divide by zero encountered in divide\n",
      "  V_ER11 = (1 / rr_ER11) * (Vmax * rmax + 0.5 * fcor * rmax**2) * (\n",
      "/Users/simon/tcpips/chavas15/er11/radprof_raw.py:51: RuntimeWarning: invalid value encountered in multiply\n",
      "  V_ER11 = (1 / rr_ER11) * (Vmax * rmax + 0.5 * fcor * rmax**2) * (\n"
     ]
    },
    {
     "name": "stdout",
     "output_type": "stream",
     "text": [
      "'ER11_radprof_raw'  0.36161 s \n",
      "\n"
     ]
    },
    {
     "name": "stderr",
     "output_type": "stream",
     "text": [
      "/Users/simon/tcpips/chavas15/er11/radprof_raw.py:51: RuntimeWarning: divide by zero encountered in divide\n",
      "  V_ER11 = (1 / rr_ER11) * (Vmax * rmax + 0.5 * fcor * rmax**2) * (\n",
      "/Users/simon/tcpips/chavas15/er11/radprof_raw.py:51: RuntimeWarning: invalid value encountered in multiply\n",
      "  V_ER11 = (1 / rr_ER11) * (Vmax * rmax + 0.5 * fcor * rmax**2) * (\n"
     ]
    },
    {
     "name": "stdout",
     "output_type": "stream",
     "text": [
      "[  675028.75896286   675703.78772182   676378.81648078 ...\n",
      " 33748737.83310708 33749412.86186603 33750087.890625  ]\n",
      "'ER11_radprof_raw'  0.36871 s \n",
      "\n",
      "[  675028.75896286   675703.78772182   676378.81648078 ...\n",
      " 33748737.83310708 33749412.86186603 33750087.890625  ]\n"
     ]
    },
    {
     "name": "stderr",
     "output_type": "stream",
     "text": [
      "/Users/simon/tcpips/chavas15/er11/radprof_raw.py:51: RuntimeWarning: divide by zero encountered in divide\n",
      "  V_ER11 = (1 / rr_ER11) * (Vmax * rmax + 0.5 * fcor * rmax**2) * (\n",
      "/Users/simon/tcpips/chavas15/er11/radprof_raw.py:51: RuntimeWarning: invalid value encountered in multiply\n",
      "  V_ER11 = (1 / rr_ER11) * (Vmax * rmax + 0.5 * fcor * rmax**2) * (\n"
     ]
    },
    {
     "name": "stdout",
     "output_type": "stream",
     "text": [
      "'ER11_radprof_raw'  0.36362 s \n",
      "\n",
      "[  675028.75896286   675703.78772182   676378.81648078 ...\n",
      " 33748737.83310708 33749412.86186603 33750087.890625  ]\n"
     ]
    },
    {
     "name": "stderr",
     "output_type": "stream",
     "text": [
      "/Users/simon/tcpips/chavas15/er11/radprof_raw.py:51: RuntimeWarning: divide by zero encountered in divide\n",
      "  V_ER11 = (1 / rr_ER11) * (Vmax * rmax + 0.5 * fcor * rmax**2) * (\n",
      "/Users/simon/tcpips/chavas15/er11/radprof_raw.py:51: RuntimeWarning: invalid value encountered in multiply\n",
      "  V_ER11 = (1 / rr_ER11) * (Vmax * rmax + 0.5 * fcor * rmax**2) * (\n"
     ]
    },
    {
     "name": "stdout",
     "output_type": "stream",
     "text": [
      "'ER11_radprof_raw'  0.36769 s \n",
      "\n",
      "[  675703.78772182   676378.81648078   677053.84523975 ...\n",
      " 33748737.83310708 33749412.86186603 33750087.890625  ]\n"
     ]
    },
    {
     "name": "stderr",
     "output_type": "stream",
     "text": [
      "/Users/simon/tcpips/chavas15/er11/radprof_raw.py:51: RuntimeWarning: divide by zero encountered in divide\n",
      "  V_ER11 = (1 / rr_ER11) * (Vmax * rmax + 0.5 * fcor * rmax**2) * (\n",
      "/Users/simon/tcpips/chavas15/er11/radprof_raw.py:51: RuntimeWarning: invalid value encountered in multiply\n",
      "  V_ER11 = (1 / rr_ER11) * (Vmax * rmax + 0.5 * fcor * rmax**2) * (\n"
     ]
    },
    {
     "name": "stdout",
     "output_type": "stream",
     "text": [
      "'ER11_radprof_raw'  0.36805 s \n",
      "\n",
      "'ER11_radprof'  4.38588 s \n",
      "\n",
      "intersection sizes 1000 1334 1334000\n",
      "'curveintersect'  2.09315 s \n",
      "\n",
      "Adjusting CkCd to find convergence.\n",
      "Large storm detected. Increasing drfracrm.\n",
      "dr =  675.9270370814833\n",
      "[  582649.10596424   583325.03300132   584000.9600384  ...\n",
      " 33793648.14592583 33794324.07296292 33795000.        ]\n"
     ]
    },
    {
     "name": "stderr",
     "output_type": "stream",
     "text": [
      "/Users/simon/tcpips/chavas15/er11/radprof_raw.py:51: RuntimeWarning: divide by zero encountered in divide\n",
      "  V_ER11 = (1 / rr_ER11) * (Vmax * rmax + 0.5 * fcor * rmax**2) * (\n",
      "/Users/simon/tcpips/chavas15/er11/radprof_raw.py:51: RuntimeWarning: invalid value encountered in multiply\n",
      "  V_ER11 = (1 / rr_ER11) * (Vmax * rmax + 0.5 * fcor * rmax**2) * (\n"
     ]
    },
    {
     "name": "stdout",
     "output_type": "stream",
     "text": [
      "'ER11_radprof_raw'  0.36566 s \n",
      "\n",
      "[  653621.44485779   654297.37189488   654973.29893196 ...\n",
      " 33793648.14592583 33794324.07296292 33795000.        ]\n"
     ]
    },
    {
     "name": "stderr",
     "output_type": "stream",
     "text": [
      "/Users/simon/tcpips/chavas15/er11/radprof_raw.py:51: RuntimeWarning: divide by zero encountered in divide\n",
      "  V_ER11 = (1 / rr_ER11) * (Vmax * rmax + 0.5 * fcor * rmax**2) * (\n",
      "/Users/simon/tcpips/chavas15/er11/radprof_raw.py:51: RuntimeWarning: invalid value encountered in multiply\n",
      "  V_ER11 = (1 / rr_ER11) * (Vmax * rmax + 0.5 * fcor * rmax**2) * (\n"
     ]
    },
    {
     "name": "stdout",
     "output_type": "stream",
     "text": [
      "'ER11_radprof_raw'  0.36688 s \n",
      "\n",
      "[  653621.44485779   654297.37189488   654973.29893196 ...\n",
      " 33793648.14592583 33794324.07296292 33795000.        ]\n"
     ]
    },
    {
     "name": "stderr",
     "output_type": "stream",
     "text": [
      "/Users/simon/tcpips/chavas15/er11/radprof_raw.py:51: RuntimeWarning: divide by zero encountered in divide\n",
      "  V_ER11 = (1 / rr_ER11) * (Vmax * rmax + 0.5 * fcor * rmax**2) * (\n",
      "/Users/simon/tcpips/chavas15/er11/radprof_raw.py:51: RuntimeWarning: invalid value encountered in multiply\n",
      "  V_ER11 = (1 / rr_ER11) * (Vmax * rmax + 0.5 * fcor * rmax**2) * (\n"
     ]
    },
    {
     "name": "stdout",
     "output_type": "stream",
     "text": [
      "'ER11_radprof_raw'  0.54843 s \n",
      "\n",
      "[  671195.54782191   671871.47485899   672547.40189608 ...\n",
      " 33793648.14592583 33794324.07296292 33795000.        ]\n"
     ]
    },
    {
     "name": "stderr",
     "output_type": "stream",
     "text": [
      "/Users/simon/tcpips/chavas15/er11/radprof_raw.py:51: RuntimeWarning: divide by zero encountered in divide\n",
      "  V_ER11 = (1 / rr_ER11) * (Vmax * rmax + 0.5 * fcor * rmax**2) * (\n",
      "/Users/simon/tcpips/chavas15/er11/radprof_raw.py:51: RuntimeWarning: invalid value encountered in multiply\n",
      "  V_ER11 = (1 / rr_ER11) * (Vmax * rmax + 0.5 * fcor * rmax**2) * (\n"
     ]
    },
    {
     "name": "stdout",
     "output_type": "stream",
     "text": [
      "'ER11_radprof_raw'  0.38311 s \n",
      "\n",
      "[  675251.1100444    675927.03708148   676602.96411856 ...\n",
      " 33793648.14592583 33794324.07296292 33795000.        ]\n"
     ]
    },
    {
     "name": "stderr",
     "output_type": "stream",
     "text": [
      "/Users/simon/tcpips/chavas15/er11/radprof_raw.py:51: RuntimeWarning: divide by zero encountered in divide\n",
      "  V_ER11 = (1 / rr_ER11) * (Vmax * rmax + 0.5 * fcor * rmax**2) * (\n",
      "/Users/simon/tcpips/chavas15/er11/radprof_raw.py:51: RuntimeWarning: invalid value encountered in multiply\n",
      "  V_ER11 = (1 / rr_ER11) * (Vmax * rmax + 0.5 * fcor * rmax**2) * (\n"
     ]
    },
    {
     "name": "stdout",
     "output_type": "stream",
     "text": [
      "'ER11_radprof_raw'  0.37420 s \n",
      "\n",
      "[  675927.03708148   676602.96411856   677278.89115565 ...\n",
      " 33793648.14592583 33794324.07296292 33795000.        ]\n"
     ]
    },
    {
     "name": "stderr",
     "output_type": "stream",
     "text": [
      "/Users/simon/tcpips/chavas15/er11/radprof_raw.py:51: RuntimeWarning: divide by zero encountered in divide\n",
      "  V_ER11 = (1 / rr_ER11) * (Vmax * rmax + 0.5 * fcor * rmax**2) * (\n",
      "/Users/simon/tcpips/chavas15/er11/radprof_raw.py:51: RuntimeWarning: invalid value encountered in multiply\n",
      "  V_ER11 = (1 / rr_ER11) * (Vmax * rmax + 0.5 * fcor * rmax**2) * (\n"
     ]
    },
    {
     "name": "stdout",
     "output_type": "stream",
     "text": [
      "'ER11_radprof_raw'  0.37124 s \n",
      "\n",
      "[  676602.96411856   677278.89115565   677954.81819273 ...\n",
      " 33793648.14592583 33794324.07296292 33795000.        ]\n"
     ]
    },
    {
     "name": "stderr",
     "output_type": "stream",
     "text": [
      "/Users/simon/tcpips/chavas15/er11/radprof_raw.py:51: RuntimeWarning: divide by zero encountered in divide\n",
      "  V_ER11 = (1 / rr_ER11) * (Vmax * rmax + 0.5 * fcor * rmax**2) * (\n",
      "/Users/simon/tcpips/chavas15/er11/radprof_raw.py:51: RuntimeWarning: invalid value encountered in multiply\n",
      "  V_ER11 = (1 / rr_ER11) * (Vmax * rmax + 0.5 * fcor * rmax**2) * (\n"
     ]
    },
    {
     "name": "stdout",
     "output_type": "stream",
     "text": [
      "'ER11_radprof_raw'  0.36993 s \n",
      "\n",
      "'ER11_radprof'  3.54320 s \n",
      "\n",
      "intersection sizes 1000 1332 1332000\n",
      "'curveintersect'  2.12578 s \n",
      "\n",
      "Large storm detected. Increasing drfracrm.\n",
      "dr =  675.4770190807633\n",
      "[  582261.19044762   582936.6674667    583612.14448578 ...\n",
      " 33771149.04596184 33771824.52298092 33772500.        ]\n"
     ]
    },
    {
     "name": "stderr",
     "output_type": "stream",
     "text": [
      "/Users/simon/tcpips/chavas15/er11/radprof_raw.py:51: RuntimeWarning: divide by zero encountered in divide\n",
      "  V_ER11 = (1 / rr_ER11) * (Vmax * rmax + 0.5 * fcor * rmax**2) * (\n",
      "/Users/simon/tcpips/chavas15/er11/radprof_raw.py:51: RuntimeWarning: invalid value encountered in multiply\n",
      "  V_ER11 = (1 / rr_ER11) * (Vmax * rmax + 0.5 * fcor * rmax**2) * (\n"
     ]
    },
    {
     "name": "stdout",
     "output_type": "stream",
     "text": [
      "'ER11_radprof_raw'  0.59247 s \n",
      "\n",
      "[  653186.2774511    653861.75447018   654537.23148926 ...\n",
      " 33771149.04596184 33771824.52298092 33772500.        ]\n"
     ]
    },
    {
     "name": "stderr",
     "output_type": "stream",
     "text": [
      "/Users/simon/tcpips/chavas15/er11/radprof_raw.py:51: RuntimeWarning: divide by zero encountered in divide\n",
      "  V_ER11 = (1 / rr_ER11) * (Vmax * rmax + 0.5 * fcor * rmax**2) * (\n",
      "/Users/simon/tcpips/chavas15/er11/radprof_raw.py:51: RuntimeWarning: invalid value encountered in multiply\n",
      "  V_ER11 = (1 / rr_ER11) * (Vmax * rmax + 0.5 * fcor * rmax**2) * (\n"
     ]
    },
    {
     "name": "stdout",
     "output_type": "stream",
     "text": [
      "'ER11_radprof_raw'  0.42178 s \n",
      "\n",
      "[  653186.2774511    653861.75447018   654537.23148926 ...\n",
      " 33771149.04596184 33771824.52298092 33772500.        ]\n"
     ]
    },
    {
     "name": "stderr",
     "output_type": "stream",
     "text": [
      "/Users/simon/tcpips/chavas15/er11/radprof_raw.py:51: RuntimeWarning: divide by zero encountered in divide\n",
      "  V_ER11 = (1 / rr_ER11) * (Vmax * rmax + 0.5 * fcor * rmax**2) * (\n",
      "/Users/simon/tcpips/chavas15/er11/radprof_raw.py:51: RuntimeWarning: invalid value encountered in multiply\n",
      "  V_ER11 = (1 / rr_ER11) * (Vmax * rmax + 0.5 * fcor * rmax**2) * (\n"
     ]
    },
    {
     "name": "stdout",
     "output_type": "stream",
     "text": [
      "'ER11_radprof_raw'  0.40658 s \n",
      "\n",
      "[  670748.6799472    671424.15696628   672099.63398536 ...\n",
      " 33771149.04596184 33771824.52298092 33772500.        ]\n"
     ]
    },
    {
     "name": "stderr",
     "output_type": "stream",
     "text": [
      "/Users/simon/tcpips/chavas15/er11/radprof_raw.py:51: RuntimeWarning: divide by zero encountered in divide\n",
      "  V_ER11 = (1 / rr_ER11) * (Vmax * rmax + 0.5 * fcor * rmax**2) * (\n",
      "/Users/simon/tcpips/chavas15/er11/radprof_raw.py:51: RuntimeWarning: invalid value encountered in multiply\n",
      "  V_ER11 = (1 / rr_ER11) * (Vmax * rmax + 0.5 * fcor * rmax**2) * (\n"
     ]
    },
    {
     "name": "stdout",
     "output_type": "stream",
     "text": [
      "'ER11_radprof_raw'  0.41508 s \n",
      "\n",
      "[  674801.54206168   675477.01908076   676152.49609984 ...\n",
      " 33771149.04596184 33771824.52298092 33772500.        ]\n"
     ]
    },
    {
     "name": "stderr",
     "output_type": "stream",
     "text": [
      "/Users/simon/tcpips/chavas15/er11/radprof_raw.py:51: RuntimeWarning: divide by zero encountered in divide\n",
      "  V_ER11 = (1 / rr_ER11) * (Vmax * rmax + 0.5 * fcor * rmax**2) * (\n",
      "/Users/simon/tcpips/chavas15/er11/radprof_raw.py:51: RuntimeWarning: invalid value encountered in multiply\n",
      "  V_ER11 = (1 / rr_ER11) * (Vmax * rmax + 0.5 * fcor * rmax**2) * (\n"
     ]
    },
    {
     "name": "stdout",
     "output_type": "stream",
     "text": [
      "'ER11_radprof_raw'  0.40986 s \n",
      "\n",
      "[  675477.01908076   676152.49609984   676827.97311892 ...\n",
      " 33771149.04596184 33771824.52298092 33772500.        ]\n"
     ]
    },
    {
     "name": "stderr",
     "output_type": "stream",
     "text": [
      "/Users/simon/tcpips/chavas15/er11/radprof_raw.py:51: RuntimeWarning: divide by zero encountered in divide\n",
      "  V_ER11 = (1 / rr_ER11) * (Vmax * rmax + 0.5 * fcor * rmax**2) * (\n",
      "/Users/simon/tcpips/chavas15/er11/radprof_raw.py:51: RuntimeWarning: invalid value encountered in multiply\n",
      "  V_ER11 = (1 / rr_ER11) * (Vmax * rmax + 0.5 * fcor * rmax**2) * (\n"
     ]
    },
    {
     "name": "stdout",
     "output_type": "stream",
     "text": [
      "'ER11_radprof_raw'  0.40627 s \n",
      "\n",
      "[  676152.49609984   676827.97311892   677503.45013801 ...\n",
      " 33771149.04596184 33771824.52298092 33772500.        ]\n"
     ]
    },
    {
     "name": "stderr",
     "output_type": "stream",
     "text": [
      "/Users/simon/tcpips/chavas15/er11/radprof_raw.py:51: RuntimeWarning: divide by zero encountered in divide\n",
      "  V_ER11 = (1 / rr_ER11) * (Vmax * rmax + 0.5 * fcor * rmax**2) * (\n",
      "/Users/simon/tcpips/chavas15/er11/radprof_raw.py:51: RuntimeWarning: invalid value encountered in multiply\n",
      "  V_ER11 = (1 / rr_ER11) * (Vmax * rmax + 0.5 * fcor * rmax**2) * (\n"
     ]
    },
    {
     "name": "stdout",
     "output_type": "stream",
     "text": [
      "'ER11_radprof_raw'  0.40412 s \n",
      "\n",
      "'ER11_radprof'  3.82225 s \n",
      "\n",
      "intersection sizes 1000 1333 1333000\n",
      "'curveintersect'  2.11538 s \n",
      "\n",
      "Large storm detected. Increasing drfracrm.\n",
      "dr =  675.2520100804032\n",
      "[  582067.23268931   582742.48469939   583417.73670947 ...\n",
      " 33759899.49597984 33760574.74798992 33761250.        ]\n"
     ]
    },
    {
     "name": "stderr",
     "output_type": "stream",
     "text": [
      "/Users/simon/tcpips/chavas15/er11/radprof_raw.py:51: RuntimeWarning: divide by zero encountered in divide\n",
      "  V_ER11 = (1 / rr_ER11) * (Vmax * rmax + 0.5 * fcor * rmax**2) * (\n",
      "/Users/simon/tcpips/chavas15/er11/radprof_raw.py:51: RuntimeWarning: invalid value encountered in multiply\n",
      "  V_ER11 = (1 / rr_ER11) * (Vmax * rmax + 0.5 * fcor * rmax**2) * (\n"
     ]
    },
    {
     "name": "stdout",
     "output_type": "stream",
     "text": [
      "'ER11_radprof_raw'  0.38115 s \n",
      "\n",
      "[  652968.69374775   653643.94575783   654319.19776791 ...\n",
      " 33759899.49597984 33760574.74798992 33761250.        ]\n"
     ]
    },
    {
     "name": "stderr",
     "output_type": "stream",
     "text": [
      "/Users/simon/tcpips/chavas15/er11/radprof_raw.py:51: RuntimeWarning: divide by zero encountered in divide\n",
      "  V_ER11 = (1 / rr_ER11) * (Vmax * rmax + 0.5 * fcor * rmax**2) * (\n",
      "/Users/simon/tcpips/chavas15/er11/radprof_raw.py:51: RuntimeWarning: invalid value encountered in multiply\n",
      "  V_ER11 = (1 / rr_ER11) * (Vmax * rmax + 0.5 * fcor * rmax**2) * (\n"
     ]
    },
    {
     "name": "stdout",
     "output_type": "stream",
     "text": [
      "'ER11_radprof_raw'  0.38888 s \n",
      "\n",
      "[  652968.69374775   653643.94575783   654319.19776791 ...\n",
      " 33759899.49597984 33760574.74798992 33761250.        ]\n"
     ]
    },
    {
     "name": "stderr",
     "output_type": "stream",
     "text": [
      "/Users/simon/tcpips/chavas15/er11/radprof_raw.py:51: RuntimeWarning: divide by zero encountered in divide\n",
      "  V_ER11 = (1 / rr_ER11) * (Vmax * rmax + 0.5 * fcor * rmax**2) * (\n",
      "/Users/simon/tcpips/chavas15/er11/radprof_raw.py:51: RuntimeWarning: invalid value encountered in multiply\n",
      "  V_ER11 = (1 / rr_ER11) * (Vmax * rmax + 0.5 * fcor * rmax**2) * (\n"
     ]
    },
    {
     "name": "stdout",
     "output_type": "stream",
     "text": [
      "'ER11_radprof_raw'  0.38297 s \n",
      "\n",
      "[  670525.24600984   671200.49801992   671875.75003    ...\n",
      " 33759899.49597984 33760574.74798992 33761250.        ]\n"
     ]
    },
    {
     "name": "stderr",
     "output_type": "stream",
     "text": [
      "/Users/simon/tcpips/chavas15/er11/radprof_raw.py:51: RuntimeWarning: divide by zero encountered in divide\n",
      "  V_ER11 = (1 / rr_ER11) * (Vmax * rmax + 0.5 * fcor * rmax**2) * (\n",
      "/Users/simon/tcpips/chavas15/er11/radprof_raw.py:51: RuntimeWarning: invalid value encountered in multiply\n",
      "  V_ER11 = (1 / rr_ER11) * (Vmax * rmax + 0.5 * fcor * rmax**2) * (\n"
     ]
    },
    {
     "name": "stdout",
     "output_type": "stream",
     "text": [
      "'ER11_radprof_raw'  0.38115 s \n",
      "\n",
      "[  674576.75807032   675252.0100804    675927.26209048 ...\n",
      " 33759899.49597984 33760574.74798992 33761250.        ]\n"
     ]
    },
    {
     "name": "stderr",
     "output_type": "stream",
     "text": [
      "/Users/simon/tcpips/chavas15/er11/radprof_raw.py:51: RuntimeWarning: divide by zero encountered in divide\n",
      "  V_ER11 = (1 / rr_ER11) * (Vmax * rmax + 0.5 * fcor * rmax**2) * (\n",
      "/Users/simon/tcpips/chavas15/er11/radprof_raw.py:51: RuntimeWarning: invalid value encountered in multiply\n",
      "  V_ER11 = (1 / rr_ER11) * (Vmax * rmax + 0.5 * fcor * rmax**2) * (\n"
     ]
    },
    {
     "name": "stdout",
     "output_type": "stream",
     "text": [
      "'ER11_radprof_raw'  0.38776 s \n",
      "\n",
      "[  675252.0100804    675927.26209048   676602.51410056 ...\n",
      " 33759899.49597984 33760574.74798992 33761250.        ]\n"
     ]
    },
    {
     "name": "stderr",
     "output_type": "stream",
     "text": [
      "/Users/simon/tcpips/chavas15/er11/radprof_raw.py:51: RuntimeWarning: divide by zero encountered in divide\n",
      "  V_ER11 = (1 / rr_ER11) * (Vmax * rmax + 0.5 * fcor * rmax**2) * (\n",
      "/Users/simon/tcpips/chavas15/er11/radprof_raw.py:51: RuntimeWarning: invalid value encountered in multiply\n",
      "  V_ER11 = (1 / rr_ER11) * (Vmax * rmax + 0.5 * fcor * rmax**2) * (\n"
     ]
    },
    {
     "name": "stdout",
     "output_type": "stream",
     "text": [
      "'ER11_radprof_raw'  0.39367 s \n",
      "\n",
      "[  675927.26209048   676602.51410056   677277.76611064 ...\n",
      " 33759899.49597984 33760574.74798992 33761250.        ]\n"
     ]
    },
    {
     "name": "stderr",
     "output_type": "stream",
     "text": [
      "/Users/simon/tcpips/chavas15/er11/radprof_raw.py:51: RuntimeWarning: divide by zero encountered in divide\n",
      "  V_ER11 = (1 / rr_ER11) * (Vmax * rmax + 0.5 * fcor * rmax**2) * (\n",
      "/Users/simon/tcpips/chavas15/er11/radprof_raw.py:51: RuntimeWarning: invalid value encountered in multiply\n",
      "  V_ER11 = (1 / rr_ER11) * (Vmax * rmax + 0.5 * fcor * rmax**2) * (\n"
     ]
    },
    {
     "name": "stdout",
     "output_type": "stream",
     "text": [
      "'ER11_radprof_raw'  0.58640 s \n",
      "\n",
      "'ER11_radprof'  3.66246 s \n",
      "\n",
      "intersection sizes 1000 1333 1333000\n",
      "'curveintersect'  2.16668 s \n",
      "\n",
      "Large storm detected. Increasing drfracrm.\n",
      "dr =  675.1395055802232\n",
      "[  581970.25381015   582645.39331573   583320.53282131 ...\n",
      " 33754274.72098883 33754949.86049441 33755624.99999999]\n"
     ]
    },
    {
     "name": "stderr",
     "output_type": "stream",
     "text": [
      "/Users/simon/tcpips/chavas15/er11/radprof_raw.py:51: RuntimeWarning: divide by zero encountered in divide\n",
      "  V_ER11 = (1 / rr_ER11) * (Vmax * rmax + 0.5 * fcor * rmax**2) * (\n",
      "/Users/simon/tcpips/chavas15/er11/radprof_raw.py:51: RuntimeWarning: invalid value encountered in multiply\n",
      "  V_ER11 = (1 / rr_ER11) * (Vmax * rmax + 0.5 * fcor * rmax**2) * (\n"
     ]
    },
    {
     "name": "stdout",
     "output_type": "stream",
     "text": [
      "'ER11_radprof_raw'  0.37312 s \n",
      "\n",
      "[  652859.90189608   653535.04140166   654210.18090724 ...\n",
      " 33754274.72098883 33754949.86049441 33755624.99999999]\n"
     ]
    },
    {
     "name": "stderr",
     "output_type": "stream",
     "text": [
      "/Users/simon/tcpips/chavas15/er11/radprof_raw.py:51: RuntimeWarning: divide by zero encountered in divide\n",
      "  V_ER11 = (1 / rr_ER11) * (Vmax * rmax + 0.5 * fcor * rmax**2) * (\n",
      "/Users/simon/tcpips/chavas15/er11/radprof_raw.py:51: RuntimeWarning: invalid value encountered in multiply\n",
      "  V_ER11 = (1 / rr_ER11) * (Vmax * rmax + 0.5 * fcor * rmax**2) * (\n"
     ]
    },
    {
     "name": "stdout",
     "output_type": "stream",
     "text": [
      "'ER11_radprof_raw'  0.37166 s \n",
      "\n",
      "[  652859.90189608   653535.04140166   654210.18090724 ...\n",
      " 33754274.72098883 33754949.86049441 33755624.99999999]\n"
     ]
    },
    {
     "name": "stderr",
     "output_type": "stream",
     "text": [
      "/Users/simon/tcpips/chavas15/er11/radprof_raw.py:51: RuntimeWarning: divide by zero encountered in divide\n",
      "  V_ER11 = (1 / rr_ER11) * (Vmax * rmax + 0.5 * fcor * rmax**2) * (\n",
      "/Users/simon/tcpips/chavas15/er11/radprof_raw.py:51: RuntimeWarning: invalid value encountered in multiply\n",
      "  V_ER11 = (1 / rr_ER11) * (Vmax * rmax + 0.5 * fcor * rmax**2) * (\n"
     ]
    },
    {
     "name": "stdout",
     "output_type": "stream",
     "text": [
      "'ER11_radprof_raw'  0.37486 s \n",
      "\n",
      "[  670413.52904116   671088.66854674   671763.80805232 ...\n",
      " 33754274.72098883 33754949.86049441 33755624.99999999]\n"
     ]
    },
    {
     "name": "stderr",
     "output_type": "stream",
     "text": [
      "/Users/simon/tcpips/chavas15/er11/radprof_raw.py:51: RuntimeWarning: divide by zero encountered in divide\n",
      "  V_ER11 = (1 / rr_ER11) * (Vmax * rmax + 0.5 * fcor * rmax**2) * (\n",
      "/Users/simon/tcpips/chavas15/er11/radprof_raw.py:51: RuntimeWarning: invalid value encountered in multiply\n",
      "  V_ER11 = (1 / rr_ER11) * (Vmax * rmax + 0.5 * fcor * rmax**2) * (\n"
     ]
    },
    {
     "name": "stdout",
     "output_type": "stream",
     "text": [
      "'ER11_radprof_raw'  0.37628 s \n",
      "\n",
      "[  674464.36607464   675139.50558022   675814.6450858  ...\n",
      " 33754274.72098883 33754949.86049441 33755624.99999999]\n"
     ]
    },
    {
     "name": "stderr",
     "output_type": "stream",
     "text": [
      "/Users/simon/tcpips/chavas15/er11/radprof_raw.py:51: RuntimeWarning: divide by zero encountered in divide\n",
      "  V_ER11 = (1 / rr_ER11) * (Vmax * rmax + 0.5 * fcor * rmax**2) * (\n",
      "/Users/simon/tcpips/chavas15/er11/radprof_raw.py:51: RuntimeWarning: invalid value encountered in multiply\n",
      "  V_ER11 = (1 / rr_ER11) * (Vmax * rmax + 0.5 * fcor * rmax**2) * (\n"
     ]
    },
    {
     "name": "stdout",
     "output_type": "stream",
     "text": [
      "'ER11_radprof_raw'  0.37564 s \n",
      "\n",
      "[  675139.50558022   675814.6450858    676489.78459138 ...\n",
      " 33754274.72098883 33754949.86049441 33755624.99999999]\n"
     ]
    },
    {
     "name": "stderr",
     "output_type": "stream",
     "text": [
      "/Users/simon/tcpips/chavas15/er11/radprof_raw.py:51: RuntimeWarning: divide by zero encountered in divide\n",
      "  V_ER11 = (1 / rr_ER11) * (Vmax * rmax + 0.5 * fcor * rmax**2) * (\n",
      "/Users/simon/tcpips/chavas15/er11/radprof_raw.py:51: RuntimeWarning: invalid value encountered in multiply\n",
      "  V_ER11 = (1 / rr_ER11) * (Vmax * rmax + 0.5 * fcor * rmax**2) * (\n"
     ]
    },
    {
     "name": "stdout",
     "output_type": "stream",
     "text": [
      "'ER11_radprof_raw'  0.56887 s \n",
      "\n",
      "[  675814.6450858    676489.78459138   677164.92409696 ...\n",
      " 33754274.72098883 33754949.86049441 33755624.99999999]\n"
     ]
    },
    {
     "name": "stderr",
     "output_type": "stream",
     "text": [
      "/Users/simon/tcpips/chavas15/er11/radprof_raw.py:51: RuntimeWarning: divide by zero encountered in divide\n",
      "  V_ER11 = (1 / rr_ER11) * (Vmax * rmax + 0.5 * fcor * rmax**2) * (\n",
      "/Users/simon/tcpips/chavas15/er11/radprof_raw.py:51: RuntimeWarning: invalid value encountered in multiply\n",
      "  V_ER11 = (1 / rr_ER11) * (Vmax * rmax + 0.5 * fcor * rmax**2) * (\n"
     ]
    },
    {
     "name": "stdout",
     "output_type": "stream",
     "text": [
      "'ER11_radprof_raw'  0.36974 s \n",
      "\n",
      "'ER11_radprof'  3.57420 s \n",
      "\n",
      "intersection sizes 1000 1334 1334000\n",
      "'curveintersect'  2.23488 s \n",
      "\n",
      "Large storm detected. Increasing drfracrm.\n",
      "dr =  675.0832533301333\n",
      "[  581921.76437057   582596.8476239    583271.93087724 ...\n",
      " 33751462.33349334 33752137.41674667 33752812.5       ]\n"
     ]
    },
    {
     "name": "stderr",
     "output_type": "stream",
     "text": [
      "/Users/simon/tcpips/chavas15/er11/radprof_raw.py:51: RuntimeWarning: divide by zero encountered in divide\n",
      "  V_ER11 = (1 / rr_ER11) * (Vmax * rmax + 0.5 * fcor * rmax**2) * (\n",
      "/Users/simon/tcpips/chavas15/er11/radprof_raw.py:51: RuntimeWarning: invalid value encountered in multiply\n",
      "  V_ER11 = (1 / rr_ER11) * (Vmax * rmax + 0.5 * fcor * rmax**2) * (\n"
     ]
    },
    {
     "name": "stdout",
     "output_type": "stream",
     "text": [
      "'ER11_radprof_raw'  0.36380 s \n",
      "\n",
      "[  652805.50597024   653480.58922357   654155.6724769  ...\n",
      " 33751462.33349334 33752137.41674667 33752812.5       ]\n"
     ]
    },
    {
     "name": "stderr",
     "output_type": "stream",
     "text": [
      "/Users/simon/tcpips/chavas15/er11/radprof_raw.py:51: RuntimeWarning: divide by zero encountered in divide\n",
      "  V_ER11 = (1 / rr_ER11) * (Vmax * rmax + 0.5 * fcor * rmax**2) * (\n",
      "/Users/simon/tcpips/chavas15/er11/radprof_raw.py:51: RuntimeWarning: invalid value encountered in multiply\n",
      "  V_ER11 = (1 / rr_ER11) * (Vmax * rmax + 0.5 * fcor * rmax**2) * (\n"
     ]
    },
    {
     "name": "stdout",
     "output_type": "stream",
     "text": [
      "'ER11_radprof_raw'  0.36955 s \n",
      "\n",
      "[  652805.50597024   653480.58922357   654155.6724769  ...\n",
      " 33751462.33349334 33752137.41674667 33752812.5       ]\n"
     ]
    },
    {
     "name": "stderr",
     "output_type": "stream",
     "text": [
      "/Users/simon/tcpips/chavas15/er11/radprof_raw.py:51: RuntimeWarning: divide by zero encountered in divide\n",
      "  V_ER11 = (1 / rr_ER11) * (Vmax * rmax + 0.5 * fcor * rmax**2) * (\n",
      "/Users/simon/tcpips/chavas15/er11/radprof_raw.py:51: RuntimeWarning: invalid value encountered in multiply\n",
      "  V_ER11 = (1 / rr_ER11) * (Vmax * rmax + 0.5 * fcor * rmax**2) * (\n"
     ]
    },
    {
     "name": "stdout",
     "output_type": "stream",
     "text": [
      "'ER11_radprof_raw'  0.36159 s \n",
      "\n",
      "[  670357.67055682   671032.75381015   671707.83706348 ...\n",
      " 33751462.33349334 33752137.41674667 33752812.5       ]\n"
     ]
    },
    {
     "name": "stderr",
     "output_type": "stream",
     "text": [
      "/Users/simon/tcpips/chavas15/er11/radprof_raw.py:51: RuntimeWarning: divide by zero encountered in divide\n",
      "  V_ER11 = (1 / rr_ER11) * (Vmax * rmax + 0.5 * fcor * rmax**2) * (\n",
      "/Users/simon/tcpips/chavas15/er11/radprof_raw.py:51: RuntimeWarning: invalid value encountered in multiply\n",
      "  V_ER11 = (1 / rr_ER11) * (Vmax * rmax + 0.5 * fcor * rmax**2) * (\n"
     ]
    },
    {
     "name": "stdout",
     "output_type": "stream",
     "text": [
      "'ER11_radprof_raw'  0.36698 s \n",
      "\n",
      "[  674408.1700768    675083.25333013   675758.33658346 ...\n",
      " 33751462.33349334 33752137.41674667 33752812.5       ]\n"
     ]
    },
    {
     "name": "stderr",
     "output_type": "stream",
     "text": [
      "/Users/simon/tcpips/chavas15/er11/radprof_raw.py:51: RuntimeWarning: divide by zero encountered in divide\n",
      "  V_ER11 = (1 / rr_ER11) * (Vmax * rmax + 0.5 * fcor * rmax**2) * (\n",
      "/Users/simon/tcpips/chavas15/er11/radprof_raw.py:51: RuntimeWarning: invalid value encountered in multiply\n",
      "  V_ER11 = (1 / rr_ER11) * (Vmax * rmax + 0.5 * fcor * rmax**2) * (\n"
     ]
    },
    {
     "name": "stdout",
     "output_type": "stream",
     "text": [
      "'ER11_radprof_raw'  0.35385 s \n",
      "\n"
     ]
    },
    {
     "name": "stderr",
     "output_type": "stream",
     "text": [
      "/Users/simon/tcpips/chavas15/er11/radprof_raw.py:51: RuntimeWarning: divide by zero encountered in divide\n",
      "  V_ER11 = (1 / rr_ER11) * (Vmax * rmax + 0.5 * fcor * rmax**2) * (\n",
      "/Users/simon/tcpips/chavas15/er11/radprof_raw.py:51: RuntimeWarning: invalid value encountered in multiply\n",
      "  V_ER11 = (1 / rr_ER11) * (Vmax * rmax + 0.5 * fcor * rmax**2) * (\n"
     ]
    },
    {
     "name": "stdout",
     "output_type": "stream",
     "text": [
      "[  675083.25333013   675758.33658346   676433.41983679 ...\n",
      " 33751462.33349334 33752137.41674667 33752812.5       ]\n",
      "'ER11_radprof_raw'  0.36109 s \n",
      "\n",
      "[  675758.33658346   676433.41983679   677108.50309012 ...\n",
      " 33751462.33349334 33752137.41674667 33752812.5       ]\n"
     ]
    },
    {
     "name": "stderr",
     "output_type": "stream",
     "text": [
      "/Users/simon/tcpips/chavas15/er11/radprof_raw.py:51: RuntimeWarning: divide by zero encountered in divide\n",
      "  V_ER11 = (1 / rr_ER11) * (Vmax * rmax + 0.5 * fcor * rmax**2) * (\n",
      "/Users/simon/tcpips/chavas15/er11/radprof_raw.py:51: RuntimeWarning: invalid value encountered in multiply\n",
      "  V_ER11 = (1 / rr_ER11) * (Vmax * rmax + 0.5 * fcor * rmax**2) * (\n"
     ]
    },
    {
     "name": "stdout",
     "output_type": "stream",
     "text": [
      "'ER11_radprof_raw'  0.36843 s \n",
      "\n",
      "'ER11_radprof'  3.49682 s \n",
      "\n",
      "intersection sizes 1000 1334 1334000\n",
      "'curveintersect'  2.09262 s \n",
      "\n",
      "Large storm detected. Increasing drfracrm.\n",
      "dr =  675.0551272050881\n",
      "[  581897.51965079   582572.57477799   583247.6299052  ...\n",
      " 33750056.13974559 33750731.19487279 33751406.24999999]\n"
     ]
    },
    {
     "name": "stderr",
     "output_type": "stream",
     "text": [
      "/Users/simon/tcpips/chavas15/er11/radprof_raw.py:51: RuntimeWarning: divide by zero encountered in divide\n",
      "  V_ER11 = (1 / rr_ER11) * (Vmax * rmax + 0.5 * fcor * rmax**2) * (\n",
      "/Users/simon/tcpips/chavas15/er11/radprof_raw.py:51: RuntimeWarning: invalid value encountered in multiply\n",
      "  V_ER11 = (1 / rr_ER11) * (Vmax * rmax + 0.5 * fcor * rmax**2) * (\n"
     ]
    },
    {
     "name": "stdout",
     "output_type": "stream",
     "text": [
      "'ER11_radprof_raw'  0.40575 s \n",
      "\n",
      "[  652778.30800732   653453.36313453   654128.41826173 ...\n",
      " 33750056.13974559 33750731.19487279 33751406.24999999]\n"
     ]
    },
    {
     "name": "stderr",
     "output_type": "stream",
     "text": [
      "/Users/simon/tcpips/chavas15/er11/radprof_raw.py:51: RuntimeWarning: divide by zero encountered in divide\n",
      "  V_ER11 = (1 / rr_ER11) * (Vmax * rmax + 0.5 * fcor * rmax**2) * (\n",
      "/Users/simon/tcpips/chavas15/er11/radprof_raw.py:51: RuntimeWarning: invalid value encountered in multiply\n",
      "  V_ER11 = (1 / rr_ER11) * (Vmax * rmax + 0.5 * fcor * rmax**2) * (\n"
     ]
    },
    {
     "name": "stdout",
     "output_type": "stream",
     "text": [
      "'ER11_radprof_raw'  0.41276 s \n",
      "\n",
      "[  652778.30800732   653453.36313453   654128.41826173 ...\n",
      " 33750056.13974559 33750731.19487279 33751406.24999999]\n"
     ]
    },
    {
     "name": "stderr",
     "output_type": "stream",
     "text": [
      "/Users/simon/tcpips/chavas15/er11/radprof_raw.py:51: RuntimeWarning: divide by zero encountered in divide\n",
      "  V_ER11 = (1 / rr_ER11) * (Vmax * rmax + 0.5 * fcor * rmax**2) * (\n",
      "/Users/simon/tcpips/chavas15/er11/radprof_raw.py:51: RuntimeWarning: invalid value encountered in multiply\n",
      "  V_ER11 = (1 / rr_ER11) * (Vmax * rmax + 0.5 * fcor * rmax**2) * (\n"
     ]
    },
    {
     "name": "stdout",
     "output_type": "stream",
     "text": [
      "'ER11_radprof_raw'  0.41683 s \n",
      "\n",
      "[  670329.74131465   671004.79644186   671679.85156906 ...\n",
      " 33750056.13974559 33750731.19487279 33751406.24999999]\n"
     ]
    },
    {
     "name": "stderr",
     "output_type": "stream",
     "text": [
      "/Users/simon/tcpips/chavas15/er11/radprof_raw.py:51: RuntimeWarning: divide by zero encountered in divide\n",
      "  V_ER11 = (1 / rr_ER11) * (Vmax * rmax + 0.5 * fcor * rmax**2) * (\n",
      "/Users/simon/tcpips/chavas15/er11/radprof_raw.py:51: RuntimeWarning: invalid value encountered in multiply\n",
      "  V_ER11 = (1 / rr_ER11) * (Vmax * rmax + 0.5 * fcor * rmax**2) * (\n"
     ]
    },
    {
     "name": "stdout",
     "output_type": "stream",
     "text": [
      "'ER11_radprof_raw'  0.40983 s \n",
      "\n",
      "[  674380.07207788   675055.12720509   675730.18233229 ...\n",
      " 33750056.13974559 33750731.19487279 33751406.24999999]\n"
     ]
    },
    {
     "name": "stderr",
     "output_type": "stream",
     "text": [
      "/Users/simon/tcpips/chavas15/er11/radprof_raw.py:51: RuntimeWarning: divide by zero encountered in divide\n",
      "  V_ER11 = (1 / rr_ER11) * (Vmax * rmax + 0.5 * fcor * rmax**2) * (\n",
      "/Users/simon/tcpips/chavas15/er11/radprof_raw.py:51: RuntimeWarning: invalid value encountered in multiply\n",
      "  V_ER11 = (1 / rr_ER11) * (Vmax * rmax + 0.5 * fcor * rmax**2) * (\n"
     ]
    },
    {
     "name": "stdout",
     "output_type": "stream",
     "text": [
      "'ER11_radprof_raw'  0.62412 s \n",
      "\n",
      "[  675055.12720509   675730.18233229   676405.2374595  ...\n",
      " 33750056.13974559 33750731.19487279 33751406.24999999]\n"
     ]
    },
    {
     "name": "stderr",
     "output_type": "stream",
     "text": [
      "/Users/simon/tcpips/chavas15/er11/radprof_raw.py:51: RuntimeWarning: divide by zero encountered in divide\n",
      "  V_ER11 = (1 / rr_ER11) * (Vmax * rmax + 0.5 * fcor * rmax**2) * (\n",
      "/Users/simon/tcpips/chavas15/er11/radprof_raw.py:51: RuntimeWarning: invalid value encountered in multiply\n",
      "  V_ER11 = (1 / rr_ER11) * (Vmax * rmax + 0.5 * fcor * rmax**2) * (\n"
     ]
    },
    {
     "name": "stdout",
     "output_type": "stream",
     "text": [
      "'ER11_radprof_raw'  0.41553 s \n",
      "\n",
      "[  675730.18233229   676405.2374595    677080.2925867  ...\n",
      " 33750056.13974559 33750731.19487279 33751406.24999999]\n"
     ]
    },
    {
     "name": "stderr",
     "output_type": "stream",
     "text": [
      "/Users/simon/tcpips/chavas15/er11/radprof_raw.py:51: RuntimeWarning: divide by zero encountered in divide\n",
      "  V_ER11 = (1 / rr_ER11) * (Vmax * rmax + 0.5 * fcor * rmax**2) * (\n",
      "/Users/simon/tcpips/chavas15/er11/radprof_raw.py:51: RuntimeWarning: invalid value encountered in multiply\n",
      "  V_ER11 = (1 / rr_ER11) * (Vmax * rmax + 0.5 * fcor * rmax**2) * (\n"
     ]
    },
    {
     "name": "stdout",
     "output_type": "stream",
     "text": [
      "'ER11_radprof_raw'  0.43034 s \n",
      "\n",
      "'ER11_radprof'  3.87818 s \n",
      "\n",
      "intersection sizes 1000 1334 1334000\n",
      "'curveintersect'  2.17157 s \n",
      "\n",
      "Large storm detected. Increasing drfracrm.\n",
      "dr =  675.0410641425657\n",
      "[  581885.39729089   582560.43835503   583235.47941918 ...\n",
      " 33749353.04287171 33750028.08393586 33750703.125     ]\n"
     ]
    },
    {
     "name": "stderr",
     "output_type": "stream",
     "text": [
      "/Users/simon/tcpips/chavas15/er11/radprof_raw.py:51: RuntimeWarning: divide by zero encountered in divide\n",
      "  V_ER11 = (1 / rr_ER11) * (Vmax * rmax + 0.5 * fcor * rmax**2) * (\n",
      "/Users/simon/tcpips/chavas15/er11/radprof_raw.py:51: RuntimeWarning: invalid value encountered in multiply\n",
      "  V_ER11 = (1 / rr_ER11) * (Vmax * rmax + 0.5 * fcor * rmax**2) * (\n"
     ]
    },
    {
     "name": "stdout",
     "output_type": "stream",
     "text": [
      "'ER11_radprof_raw'  0.37487 s \n",
      "\n",
      "[  652764.70902586   653439.75009      654114.79115415 ...\n",
      " 33749353.04287171 33750028.08393586 33750703.125     ]\n"
     ]
    },
    {
     "name": "stderr",
     "output_type": "stream",
     "text": [
      "/Users/simon/tcpips/chavas15/er11/radprof_raw.py:51: RuntimeWarning: divide by zero encountered in divide\n",
      "  V_ER11 = (1 / rr_ER11) * (Vmax * rmax + 0.5 * fcor * rmax**2) * (\n",
      "/Users/simon/tcpips/chavas15/er11/radprof_raw.py:51: RuntimeWarning: invalid value encountered in multiply\n",
      "  V_ER11 = (1 / rr_ER11) * (Vmax * rmax + 0.5 * fcor * rmax**2) * (\n"
     ]
    },
    {
     "name": "stdout",
     "output_type": "stream",
     "text": [
      "'ER11_radprof_raw'  0.37864 s \n",
      "\n",
      "[  652764.70902586   653439.75009      654114.79115415 ...\n",
      " 33749353.04287171 33750028.08393586 33750703.125     ]\n"
     ]
    },
    {
     "name": "stderr",
     "output_type": "stream",
     "text": [
      "/Users/simon/tcpips/chavas15/er11/radprof_raw.py:51: RuntimeWarning: divide by zero encountered in divide\n",
      "  V_ER11 = (1 / rr_ER11) * (Vmax * rmax + 0.5 * fcor * rmax**2) * (\n",
      "/Users/simon/tcpips/chavas15/er11/radprof_raw.py:51: RuntimeWarning: invalid value encountered in multiply\n",
      "  V_ER11 = (1 / rr_ER11) * (Vmax * rmax + 0.5 * fcor * rmax**2) * (\n"
     ]
    },
    {
     "name": "stdout",
     "output_type": "stream",
     "text": [
      "'ER11_radprof_raw'  0.38258 s \n",
      "\n",
      "[  670315.77669357   670990.81775771   671665.85882185 ...\n",
      " 33749353.04287171 33750028.08393586 33750703.125     ]\n"
     ]
    },
    {
     "name": "stderr",
     "output_type": "stream",
     "text": [
      "/Users/simon/tcpips/chavas15/er11/radprof_raw.py:51: RuntimeWarning: divide by zero encountered in divide\n",
      "  V_ER11 = (1 / rr_ER11) * (Vmax * rmax + 0.5 * fcor * rmax**2) * (\n",
      "/Users/simon/tcpips/chavas15/er11/radprof_raw.py:51: RuntimeWarning: invalid value encountered in multiply\n",
      "  V_ER11 = (1 / rr_ER11) * (Vmax * rmax + 0.5 * fcor * rmax**2) * (\n"
     ]
    },
    {
     "name": "stdout",
     "output_type": "stream",
     "text": [
      "'ER11_radprof_raw'  0.37849 s \n",
      "\n"
     ]
    },
    {
     "name": "stderr",
     "output_type": "stream",
     "text": [
      "/Users/simon/tcpips/chavas15/er11/radprof_raw.py:51: RuntimeWarning: divide by zero encountered in divide\n",
      "  V_ER11 = (1 / rr_ER11) * (Vmax * rmax + 0.5 * fcor * rmax**2) * (\n",
      "/Users/simon/tcpips/chavas15/er11/radprof_raw.py:51: RuntimeWarning: invalid value encountered in multiply\n",
      "  V_ER11 = (1 / rr_ER11) * (Vmax * rmax + 0.5 * fcor * rmax**2) * (\n"
     ]
    },
    {
     "name": "stdout",
     "output_type": "stream",
     "text": [
      "[  674366.02307842   675041.06414257   675716.10520671 ...\n",
      " 33749353.04287171 33750028.08393586 33750703.125     ]\n",
      "'ER11_radprof_raw'  0.37828 s \n",
      "\n",
      "[  675041.06414257   675716.10520671   676391.14627085 ...\n",
      " 33749353.04287171 33750028.08393586 33750703.125     ]\n"
     ]
    },
    {
     "name": "stderr",
     "output_type": "stream",
     "text": [
      "/Users/simon/tcpips/chavas15/er11/radprof_raw.py:51: RuntimeWarning: divide by zero encountered in divide\n",
      "  V_ER11 = (1 / rr_ER11) * (Vmax * rmax + 0.5 * fcor * rmax**2) * (\n",
      "/Users/simon/tcpips/chavas15/er11/radprof_raw.py:51: RuntimeWarning: invalid value encountered in multiply\n",
      "  V_ER11 = (1 / rr_ER11) * (Vmax * rmax + 0.5 * fcor * rmax**2) * (\n"
     ]
    },
    {
     "name": "stdout",
     "output_type": "stream",
     "text": [
      "'ER11_radprof_raw'  0.38519 s \n",
      "\n",
      "[  675716.10520671   676391.14627085   677066.18733499 ...\n",
      " 33749353.04287171 33750028.08393586 33750703.125     ]\n"
     ]
    },
    {
     "name": "stderr",
     "output_type": "stream",
     "text": [
      "/Users/simon/tcpips/chavas15/er11/radprof_raw.py:51: RuntimeWarning: divide by zero encountered in divide\n",
      "  V_ER11 = (1 / rr_ER11) * (Vmax * rmax + 0.5 * fcor * rmax**2) * (\n",
      "/Users/simon/tcpips/chavas15/er11/radprof_raw.py:51: RuntimeWarning: invalid value encountered in multiply\n",
      "  V_ER11 = (1 / rr_ER11) * (Vmax * rmax + 0.5 * fcor * rmax**2) * (\n"
     ]
    },
    {
     "name": "stdout",
     "output_type": "stream",
     "text": [
      "'ER11_radprof_raw'  0.38074 s \n",
      "\n",
      "'ER11_radprof'  3.64121 s \n",
      "\n",
      "intersection sizes 1000 1334 1334000\n",
      "'curveintersect'  2.15640 s \n",
      "\n",
      "Large storm detected. Increasing drfracrm.\n",
      "dr =  675.0340326113044\n",
      "[  581879.33611094   582554.37014356   583229.40417617 ...\n",
      " 33749001.49443477 33749676.52846738 33750351.56249999]\n"
     ]
    },
    {
     "name": "stderr",
     "output_type": "stream",
     "text": [
      "/Users/simon/tcpips/chavas15/er11/radprof_raw.py:51: RuntimeWarning: divide by zero encountered in divide\n",
      "  V_ER11 = (1 / rr_ER11) * (Vmax * rmax + 0.5 * fcor * rmax**2) * (\n",
      "/Users/simon/tcpips/chavas15/er11/radprof_raw.py:51: RuntimeWarning: invalid value encountered in multiply\n",
      "  V_ER11 = (1 / rr_ER11) * (Vmax * rmax + 0.5 * fcor * rmax**2) * (\n"
     ]
    },
    {
     "name": "stdout",
     "output_type": "stream",
     "text": [
      "'ER11_radprof_raw'  0.36605 s \n",
      "\n",
      "[  652757.90953513   653432.94356774   654107.97760035 ...\n",
      " 33749001.49443477 33749676.52846738 33750351.56249999]\n"
     ]
    },
    {
     "name": "stderr",
     "output_type": "stream",
     "text": [
      "/Users/simon/tcpips/chavas15/er11/radprof_raw.py:51: RuntimeWarning: divide by zero encountered in divide\n",
      "  V_ER11 = (1 / rr_ER11) * (Vmax * rmax + 0.5 * fcor * rmax**2) * (\n",
      "/Users/simon/tcpips/chavas15/er11/radprof_raw.py:51: RuntimeWarning: invalid value encountered in multiply\n",
      "  V_ER11 = (1 / rr_ER11) * (Vmax * rmax + 0.5 * fcor * rmax**2) * (\n"
     ]
    },
    {
     "name": "stdout",
     "output_type": "stream",
     "text": [
      "'ER11_radprof_raw'  0.37288 s \n",
      "\n",
      "[  652757.90953513   653432.94356774   654107.97760035 ...\n",
      " 33749001.49443477 33749676.52846738 33750351.56249999]\n"
     ]
    },
    {
     "name": "stderr",
     "output_type": "stream",
     "text": [
      "/Users/simon/tcpips/chavas15/er11/radprof_raw.py:51: RuntimeWarning: divide by zero encountered in divide\n",
      "  V_ER11 = (1 / rr_ER11) * (Vmax * rmax + 0.5 * fcor * rmax**2) * (\n",
      "/Users/simon/tcpips/chavas15/er11/radprof_raw.py:51: RuntimeWarning: invalid value encountered in multiply\n",
      "  V_ER11 = (1 / rr_ER11) * (Vmax * rmax + 0.5 * fcor * rmax**2) * (\n"
     ]
    },
    {
     "name": "stdout",
     "output_type": "stream",
     "text": [
      "'ER11_radprof_raw'  0.37844 s \n",
      "\n",
      "[  670308.79438303   670983.82841564   671658.86244825 ...\n",
      " 33749001.49443477 33749676.52846738 33750351.56249999]\n"
     ]
    },
    {
     "name": "stderr",
     "output_type": "stream",
     "text": [
      "/Users/simon/tcpips/chavas15/er11/radprof_raw.py:51: RuntimeWarning: divide by zero encountered in divide\n",
      "  V_ER11 = (1 / rr_ER11) * (Vmax * rmax + 0.5 * fcor * rmax**2) * (\n",
      "/Users/simon/tcpips/chavas15/er11/radprof_raw.py:51: RuntimeWarning: invalid value encountered in multiply\n",
      "  V_ER11 = (1 / rr_ER11) * (Vmax * rmax + 0.5 * fcor * rmax**2) * (\n"
     ]
    },
    {
     "name": "stdout",
     "output_type": "stream",
     "text": [
      "'ER11_radprof_raw'  0.57947 s \n",
      "\n",
      "[  674358.99857869   675034.0326113    675709.06664392 ...\n",
      " 33749001.49443477 33749676.52846738 33750351.56249999]\n"
     ]
    },
    {
     "name": "stderr",
     "output_type": "stream",
     "text": [
      "/Users/simon/tcpips/chavas15/er11/radprof_raw.py:51: RuntimeWarning: divide by zero encountered in divide\n",
      "  V_ER11 = (1 / rr_ER11) * (Vmax * rmax + 0.5 * fcor * rmax**2) * (\n",
      "/Users/simon/tcpips/chavas15/er11/radprof_raw.py:51: RuntimeWarning: invalid value encountered in multiply\n",
      "  V_ER11 = (1 / rr_ER11) * (Vmax * rmax + 0.5 * fcor * rmax**2) * (\n"
     ]
    },
    {
     "name": "stdout",
     "output_type": "stream",
     "text": [
      "'ER11_radprof_raw'  0.36828 s \n",
      "\n",
      "[  675034.0326113    675709.06664392   676384.10067653 ...\n",
      " 33749001.49443477 33749676.52846738 33750351.56249999]\n"
     ]
    },
    {
     "name": "stderr",
     "output_type": "stream",
     "text": [
      "/Users/simon/tcpips/chavas15/er11/radprof_raw.py:51: RuntimeWarning: divide by zero encountered in divide\n",
      "  V_ER11 = (1 / rr_ER11) * (Vmax * rmax + 0.5 * fcor * rmax**2) * (\n",
      "/Users/simon/tcpips/chavas15/er11/radprof_raw.py:51: RuntimeWarning: invalid value encountered in multiply\n",
      "  V_ER11 = (1 / rr_ER11) * (Vmax * rmax + 0.5 * fcor * rmax**2) * (\n"
     ]
    },
    {
     "name": "stdout",
     "output_type": "stream",
     "text": [
      "'ER11_radprof_raw'  0.37128 s \n",
      "\n",
      "[  675709.06664392   676384.10067653   677059.13470914 ...\n",
      " 33749001.49443477 33749676.52846738 33750351.56249999]\n"
     ]
    },
    {
     "name": "stderr",
     "output_type": "stream",
     "text": [
      "/Users/simon/tcpips/chavas15/er11/radprof_raw.py:51: RuntimeWarning: divide by zero encountered in divide\n",
      "  V_ER11 = (1 / rr_ER11) * (Vmax * rmax + 0.5 * fcor * rmax**2) * (\n",
      "/Users/simon/tcpips/chavas15/er11/radprof_raw.py:51: RuntimeWarning: invalid value encountered in multiply\n",
      "  V_ER11 = (1 / rr_ER11) * (Vmax * rmax + 0.5 * fcor * rmax**2) * (\n"
     ]
    },
    {
     "name": "stdout",
     "output_type": "stream",
     "text": [
      "'ER11_radprof_raw'  0.36389 s \n",
      "\n",
      "'ER11_radprof'  3.56563 s \n",
      "\n",
      "intersection sizes 1000 1334 1334000\n",
      "'curveintersect'  2.11046 s \n",
      "\n",
      "Large storm detected. Increasing drfracrm.\n",
      "dr =  675.0305168456738\n",
      "[  581876.30552097   582551.33603782   583226.36655466 ...\n",
      " 33748825.7202163  33749500.75073315 33750175.78124999]\n"
     ]
    },
    {
     "name": "stderr",
     "output_type": "stream",
     "text": [
      "/Users/simon/tcpips/chavas15/er11/radprof_raw.py:51: RuntimeWarning: divide by zero encountered in divide\n",
      "  V_ER11 = (1 / rr_ER11) * (Vmax * rmax + 0.5 * fcor * rmax**2) * (\n",
      "/Users/simon/tcpips/chavas15/er11/radprof_raw.py:51: RuntimeWarning: invalid value encountered in multiply\n",
      "  V_ER11 = (1 / rr_ER11) * (Vmax * rmax + 0.5 * fcor * rmax**2) * (\n"
     ]
    },
    {
     "name": "stdout",
     "output_type": "stream",
     "text": [
      "'ER11_radprof_raw'  0.37353 s \n",
      "\n",
      "[  652754.50978977   653429.54030661   654104.57082346 ...\n",
      " 33748825.7202163  33749500.75073315 33750175.78124999]\n"
     ]
    },
    {
     "name": "stderr",
     "output_type": "stream",
     "text": [
      "/Users/simon/tcpips/chavas15/er11/radprof_raw.py:51: RuntimeWarning: divide by zero encountered in divide\n",
      "  V_ER11 = (1 / rr_ER11) * (Vmax * rmax + 0.5 * fcor * rmax**2) * (\n",
      "/Users/simon/tcpips/chavas15/er11/radprof_raw.py:51: RuntimeWarning: invalid value encountered in multiply\n",
      "  V_ER11 = (1 / rr_ER11) * (Vmax * rmax + 0.5 * fcor * rmax**2) * (\n"
     ]
    },
    {
     "name": "stdout",
     "output_type": "stream",
     "text": [
      "'ER11_radprof_raw'  0.37635 s \n",
      "\n",
      "[  652754.50978977   653429.54030661   654104.57082346 ...\n",
      " 33748825.7202163  33749500.75073315 33750175.78124999]\n"
     ]
    },
    {
     "name": "stderr",
     "output_type": "stream",
     "text": [
      "/Users/simon/tcpips/chavas15/er11/radprof_raw.py:51: RuntimeWarning: divide by zero encountered in divide\n",
      "  V_ER11 = (1 / rr_ER11) * (Vmax * rmax + 0.5 * fcor * rmax**2) * (\n",
      "/Users/simon/tcpips/chavas15/er11/radprof_raw.py:51: RuntimeWarning: invalid value encountered in multiply\n",
      "  V_ER11 = (1 / rr_ER11) * (Vmax * rmax + 0.5 * fcor * rmax**2) * (\n"
     ]
    },
    {
     "name": "stdout",
     "output_type": "stream",
     "text": [
      "'ER11_radprof_raw'  0.38634 s \n",
      "\n",
      "[  670305.30322775   670980.3337446    671655.36426145 ...\n",
      " 33748825.7202163  33749500.75073315 33750175.78124999]\n"
     ]
    },
    {
     "name": "stderr",
     "output_type": "stream",
     "text": [
      "/Users/simon/tcpips/chavas15/er11/radprof_raw.py:51: RuntimeWarning: divide by zero encountered in divide\n",
      "  V_ER11 = (1 / rr_ER11) * (Vmax * rmax + 0.5 * fcor * rmax**2) * (\n",
      "/Users/simon/tcpips/chavas15/er11/radprof_raw.py:51: RuntimeWarning: invalid value encountered in multiply\n",
      "  V_ER11 = (1 / rr_ER11) * (Vmax * rmax + 0.5 * fcor * rmax**2) * (\n"
     ]
    },
    {
     "name": "stdout",
     "output_type": "stream",
     "text": [
      "'ER11_radprof_raw'  0.58651 s \n",
      "\n",
      "[  674355.48632883   675030.51684567   675705.54736252 ...\n",
      " 33748825.7202163  33749500.75073315 33750175.78124999]\n"
     ]
    },
    {
     "name": "stderr",
     "output_type": "stream",
     "text": [
      "/Users/simon/tcpips/chavas15/er11/radprof_raw.py:51: RuntimeWarning: divide by zero encountered in divide\n",
      "  V_ER11 = (1 / rr_ER11) * (Vmax * rmax + 0.5 * fcor * rmax**2) * (\n",
      "/Users/simon/tcpips/chavas15/er11/radprof_raw.py:51: RuntimeWarning: invalid value encountered in multiply\n",
      "  V_ER11 = (1 / rr_ER11) * (Vmax * rmax + 0.5 * fcor * rmax**2) * (\n"
     ]
    },
    {
     "name": "stdout",
     "output_type": "stream",
     "text": [
      "'ER11_radprof_raw'  0.37627 s \n",
      "\n",
      "[  675030.51684567   675705.54736252   676380.57787937 ...\n",
      " 33748825.7202163  33749500.75073315 33750175.78124999]\n"
     ]
    },
    {
     "name": "stderr",
     "output_type": "stream",
     "text": [
      "/Users/simon/tcpips/chavas15/er11/radprof_raw.py:51: RuntimeWarning: divide by zero encountered in divide\n",
      "  V_ER11 = (1 / rr_ER11) * (Vmax * rmax + 0.5 * fcor * rmax**2) * (\n",
      "/Users/simon/tcpips/chavas15/er11/radprof_raw.py:51: RuntimeWarning: invalid value encountered in multiply\n",
      "  V_ER11 = (1 / rr_ER11) * (Vmax * rmax + 0.5 * fcor * rmax**2) * (\n"
     ]
    },
    {
     "name": "stdout",
     "output_type": "stream",
     "text": [
      "'ER11_radprof_raw'  0.38262 s \n",
      "\n",
      "[  675705.54736252   676380.57787937   677055.60839621 ...\n",
      " 33748825.7202163  33749500.75073315 33750175.78124999]\n"
     ]
    },
    {
     "name": "stderr",
     "output_type": "stream",
     "text": [
      "/Users/simon/tcpips/chavas15/er11/radprof_raw.py:51: RuntimeWarning: divide by zero encountered in divide\n",
      "  V_ER11 = (1 / rr_ER11) * (Vmax * rmax + 0.5 * fcor * rmax**2) * (\n",
      "/Users/simon/tcpips/chavas15/er11/radprof_raw.py:51: RuntimeWarning: invalid value encountered in multiply\n",
      "  V_ER11 = (1 / rr_ER11) * (Vmax * rmax + 0.5 * fcor * rmax**2) * (\n"
     ]
    },
    {
     "name": "stdout",
     "output_type": "stream",
     "text": [
      "'ER11_radprof_raw'  0.37647 s \n",
      "\n",
      "'ER11_radprof'  3.62459 s \n",
      "\n",
      "intersection sizes 1000 1334 1334000\n",
      "'curveintersect'  2.09891 s \n",
      "\n",
      "Large storm detected. Increasing drfracrm.\n",
      "dr =  675.0287589628585\n",
      "[  581874.79022598   582549.81898495   583224.84774391 ...\n",
      " 33748737.83310708 33749412.86186603 33750087.890625  ]\n"
     ]
    },
    {
     "name": "stderr",
     "output_type": "stream",
     "text": [
      "/Users/simon/tcpips/chavas15/er11/radprof_raw.py:51: RuntimeWarning: divide by zero encountered in divide\n",
      "  V_ER11 = (1 / rr_ER11) * (Vmax * rmax + 0.5 * fcor * rmax**2) * (\n",
      "/Users/simon/tcpips/chavas15/er11/radprof_raw.py:51: RuntimeWarning: invalid value encountered in multiply\n",
      "  V_ER11 = (1 / rr_ER11) * (Vmax * rmax + 0.5 * fcor * rmax**2) * (\n"
     ]
    },
    {
     "name": "stdout",
     "output_type": "stream",
     "text": [
      "'ER11_radprof_raw'  0.36056 s \n",
      "\n",
      "[  652752.80991708   653427.83867605   654102.86743501 ...\n",
      " 33748737.83310708 33749412.86186603 33750087.890625  ]\n"
     ]
    },
    {
     "name": "stderr",
     "output_type": "stream",
     "text": [
      "/Users/simon/tcpips/chavas15/er11/radprof_raw.py:51: RuntimeWarning: divide by zero encountered in divide\n",
      "  V_ER11 = (1 / rr_ER11) * (Vmax * rmax + 0.5 * fcor * rmax**2) * (\n",
      "/Users/simon/tcpips/chavas15/er11/radprof_raw.py:51: RuntimeWarning: invalid value encountered in multiply\n",
      "  V_ER11 = (1 / rr_ER11) * (Vmax * rmax + 0.5 * fcor * rmax**2) * (\n"
     ]
    },
    {
     "name": "stdout",
     "output_type": "stream",
     "text": [
      "'ER11_radprof_raw'  0.36913 s \n",
      "\n",
      "[  652752.80991708   653427.83867605   654102.86743501 ...\n",
      " 33748737.83310708 33749412.86186603 33750087.890625  ]\n"
     ]
    },
    {
     "name": "stderr",
     "output_type": "stream",
     "text": [
      "/Users/simon/tcpips/chavas15/er11/radprof_raw.py:51: RuntimeWarning: divide by zero encountered in divide\n",
      "  V_ER11 = (1 / rr_ER11) * (Vmax * rmax + 0.5 * fcor * rmax**2) * (\n",
      "/Users/simon/tcpips/chavas15/er11/radprof_raw.py:51: RuntimeWarning: invalid value encountered in multiply\n",
      "  V_ER11 = (1 / rr_ER11) * (Vmax * rmax + 0.5 * fcor * rmax**2) * (\n"
     ]
    },
    {
     "name": "stdout",
     "output_type": "stream",
     "text": [
      "'ER11_radprof_raw'  0.36359 s \n",
      "\n"
     ]
    },
    {
     "name": "stderr",
     "output_type": "stream",
     "text": [
      "/Users/simon/tcpips/chavas15/er11/radprof_raw.py:51: RuntimeWarning: divide by zero encountered in divide\n",
      "  V_ER11 = (1 / rr_ER11) * (Vmax * rmax + 0.5 * fcor * rmax**2) * (\n",
      "/Users/simon/tcpips/chavas15/er11/radprof_raw.py:51: RuntimeWarning: invalid value encountered in multiply\n",
      "  V_ER11 = (1 / rr_ER11) * (Vmax * rmax + 0.5 * fcor * rmax**2) * (\n"
     ]
    },
    {
     "name": "stdout",
     "output_type": "stream",
     "text": [
      "[  670303.55765012   670978.58640908   671653.61516804 ...\n",
      " 33748737.83310708 33749412.86186603 33750087.890625  ]\n",
      "'ER11_radprof_raw'  0.36914 s \n",
      "\n",
      "[  674353.7302039    675028.75896286   675703.78772182 ...\n",
      " 33748737.83310708 33749412.86186603 33750087.890625  ]\n"
     ]
    },
    {
     "name": "stderr",
     "output_type": "stream",
     "text": [
      "/Users/simon/tcpips/chavas15/er11/radprof_raw.py:51: RuntimeWarning: divide by zero encountered in divide\n",
      "  V_ER11 = (1 / rr_ER11) * (Vmax * rmax + 0.5 * fcor * rmax**2) * (\n",
      "/Users/simon/tcpips/chavas15/er11/radprof_raw.py:51: RuntimeWarning: invalid value encountered in multiply\n",
      "  V_ER11 = (1 / rr_ER11) * (Vmax * rmax + 0.5 * fcor * rmax**2) * (\n"
     ]
    },
    {
     "name": "stdout",
     "output_type": "stream",
     "text": [
      "'ER11_radprof_raw'  0.35513 s \n",
      "\n",
      "[  675028.75896286   675703.78772182   676378.81648078 ...\n",
      " 33748737.83310708 33749412.86186603 33750087.890625  ]\n"
     ]
    },
    {
     "name": "stderr",
     "output_type": "stream",
     "text": [
      "/Users/simon/tcpips/chavas15/er11/radprof_raw.py:51: RuntimeWarning: divide by zero encountered in divide\n",
      "  V_ER11 = (1 / rr_ER11) * (Vmax * rmax + 0.5 * fcor * rmax**2) * (\n",
      "/Users/simon/tcpips/chavas15/er11/radprof_raw.py:51: RuntimeWarning: invalid value encountered in multiply\n",
      "  V_ER11 = (1 / rr_ER11) * (Vmax * rmax + 0.5 * fcor * rmax**2) * (\n"
     ]
    },
    {
     "name": "stdout",
     "output_type": "stream",
     "text": [
      "'ER11_radprof_raw'  0.36340 s \n",
      "\n",
      "[  675703.78772182   676378.81648078   677053.84523975 ...\n",
      " 33748737.83310708 33749412.86186603 33750087.890625  ]\n"
     ]
    },
    {
     "name": "stderr",
     "output_type": "stream",
     "text": [
      "/Users/simon/tcpips/chavas15/er11/radprof_raw.py:51: RuntimeWarning: divide by zero encountered in divide\n",
      "  V_ER11 = (1 / rr_ER11) * (Vmax * rmax + 0.5 * fcor * rmax**2) * (\n",
      "/Users/simon/tcpips/chavas15/er11/radprof_raw.py:51: RuntimeWarning: invalid value encountered in multiply\n",
      "  V_ER11 = (1 / rr_ER11) * (Vmax * rmax + 0.5 * fcor * rmax**2) * (\n"
     ]
    },
    {
     "name": "stdout",
     "output_type": "stream",
     "text": [
      "'ER11_radprof_raw'  0.36883 s \n",
      "\n",
      "'ER11_radprof'  3.52155 s \n",
      "\n",
      "intersection sizes 1000 1334 1334000\n",
      "'curveintersect'  2.08135 s \n",
      "\n",
      "Adjusting CkCd to find convergence.\n",
      "Large storm detected. Increasing drfracrm.\n",
      "dr =  675.9270370814833\n",
      "[  588732.44929797   589408.37633505   590084.30337213 ...\n",
      " 33793648.14592583 33794324.07296292 33795000.        ]\n"
     ]
    },
    {
     "name": "stderr",
     "output_type": "stream",
     "text": [
      "/Users/simon/tcpips/chavas15/er11/radprof_raw.py:51: RuntimeWarning: divide by zero encountered in divide\n",
      "  V_ER11 = (1 / rr_ER11) * (Vmax * rmax + 0.5 * fcor * rmax**2) * (\n",
      "/Users/simon/tcpips/chavas15/er11/radprof_raw.py:51: RuntimeWarning: invalid value encountered in multiply\n",
      "  V_ER11 = (1 / rr_ER11) * (Vmax * rmax + 0.5 * fcor * rmax**2) * (\n"
     ]
    },
    {
     "name": "stdout",
     "output_type": "stream",
     "text": [
      "'ER11_radprof_raw'  0.36898 s \n",
      "\n",
      "[  656325.15300612   657001.0800432    657677.00708028 ...\n",
      " 33793648.14592583 33794324.07296292 33795000.        ]\n"
     ]
    },
    {
     "name": "stderr",
     "output_type": "stream",
     "text": [
      "/Users/simon/tcpips/chavas15/er11/radprof_raw.py:51: RuntimeWarning: divide by zero encountered in divide\n",
      "  V_ER11 = (1 / rr_ER11) * (Vmax * rmax + 0.5 * fcor * rmax**2) * (\n",
      "/Users/simon/tcpips/chavas15/er11/radprof_raw.py:51: RuntimeWarning: invalid value encountered in multiply\n",
      "  V_ER11 = (1 / rr_ER11) * (Vmax * rmax + 0.5 * fcor * rmax**2) * (\n"
     ]
    },
    {
     "name": "stdout",
     "output_type": "stream",
     "text": [
      "'ER11_radprof_raw'  0.36254 s \n",
      "\n",
      "[  656325.15300612   657001.0800432    657677.00708028 ...\n",
      " 33793648.14592583 33794324.07296292 33795000.        ]\n"
     ]
    },
    {
     "name": "stderr",
     "output_type": "stream",
     "text": [
      "/Users/simon/tcpips/chavas15/er11/radprof_raw.py:51: RuntimeWarning: divide by zero encountered in divide\n",
      "  V_ER11 = (1 / rr_ER11) * (Vmax * rmax + 0.5 * fcor * rmax**2) * (\n",
      "/Users/simon/tcpips/chavas15/er11/radprof_raw.py:51: RuntimeWarning: invalid value encountered in multiply\n",
      "  V_ER11 = (1 / rr_ER11) * (Vmax * rmax + 0.5 * fcor * rmax**2) * (\n"
     ]
    },
    {
     "name": "stdout",
     "output_type": "stream",
     "text": [
      "'ER11_radprof_raw'  0.58305 s \n",
      "\n",
      "[  671871.47485899   672547.40189608   673223.32893316 ...\n",
      " 33793648.14592583 33794324.07296292 33795000.        ]\n"
     ]
    },
    {
     "name": "stderr",
     "output_type": "stream",
     "text": [
      "/Users/simon/tcpips/chavas15/er11/radprof_raw.py:51: RuntimeWarning: divide by zero encountered in divide\n",
      "  V_ER11 = (1 / rr_ER11) * (Vmax * rmax + 0.5 * fcor * rmax**2) * (\n",
      "/Users/simon/tcpips/chavas15/er11/radprof_raw.py:51: RuntimeWarning: invalid value encountered in multiply\n",
      "  V_ER11 = (1 / rr_ER11) * (Vmax * rmax + 0.5 * fcor * rmax**2) * (\n"
     ]
    },
    {
     "name": "stdout",
     "output_type": "stream",
     "text": [
      "'ER11_radprof_raw'  0.37068 s \n",
      "\n",
      "[  675927.03708148   676602.96411856   677278.89115565 ...\n",
      " 33793648.14592583 33794324.07296292 33795000.        ]\n"
     ]
    },
    {
     "name": "stderr",
     "output_type": "stream",
     "text": [
      "/Users/simon/tcpips/chavas15/er11/radprof_raw.py:51: RuntimeWarning: divide by zero encountered in divide\n",
      "  V_ER11 = (1 / rr_ER11) * (Vmax * rmax + 0.5 * fcor * rmax**2) * (\n",
      "/Users/simon/tcpips/chavas15/er11/radprof_raw.py:51: RuntimeWarning: invalid value encountered in multiply\n",
      "  V_ER11 = (1 / rr_ER11) * (Vmax * rmax + 0.5 * fcor * rmax**2) * (\n"
     ]
    },
    {
     "name": "stdout",
     "output_type": "stream",
     "text": [
      "'ER11_radprof_raw'  0.37210 s \n",
      "\n",
      "[  675927.03708148   676602.96411856   677278.89115565 ...\n",
      " 33793648.14592583 33794324.07296292 33795000.        ]\n"
     ]
    },
    {
     "name": "stderr",
     "output_type": "stream",
     "text": [
      "/Users/simon/tcpips/chavas15/er11/radprof_raw.py:51: RuntimeWarning: divide by zero encountered in divide\n",
      "  V_ER11 = (1 / rr_ER11) * (Vmax * rmax + 0.5 * fcor * rmax**2) * (\n",
      "/Users/simon/tcpips/chavas15/er11/radprof_raw.py:51: RuntimeWarning: invalid value encountered in multiply\n",
      "  V_ER11 = (1 / rr_ER11) * (Vmax * rmax + 0.5 * fcor * rmax**2) * (\n"
     ]
    },
    {
     "name": "stdout",
     "output_type": "stream",
     "text": [
      "'ER11_radprof_raw'  0.37716 s \n",
      "\n",
      "[  676602.96411856   677278.89115565   677954.81819273 ...\n",
      " 33793648.14592583 33794324.07296292 33795000.        ]\n"
     ]
    },
    {
     "name": "stderr",
     "output_type": "stream",
     "text": [
      "/Users/simon/tcpips/chavas15/er11/radprof_raw.py:51: RuntimeWarning: divide by zero encountered in divide\n",
      "  V_ER11 = (1 / rr_ER11) * (Vmax * rmax + 0.5 * fcor * rmax**2) * (\n",
      "/Users/simon/tcpips/chavas15/er11/radprof_raw.py:51: RuntimeWarning: invalid value encountered in multiply\n",
      "  V_ER11 = (1 / rr_ER11) * (Vmax * rmax + 0.5 * fcor * rmax**2) * (\n"
     ]
    },
    {
     "name": "stdout",
     "output_type": "stream",
     "text": [
      "'ER11_radprof_raw'  0.36481 s \n",
      "\n",
      "'ER11_radprof'  3.56565 s \n",
      "\n",
      "intersection sizes 1000 1332 1332000\n",
      "'curveintersect'  2.20527 s \n",
      "\n",
      "Large storm detected. Increasing drfracrm.\n",
      "dr =  675.4770190807633\n",
      "[  588340.48361934   589015.96063843   589691.43765751 ...\n",
      " 33771149.04596184 33771824.52298092 33772500.        ]\n"
     ]
    },
    {
     "name": "stderr",
     "output_type": "stream",
     "text": [
      "/Users/simon/tcpips/chavas15/er11/radprof_raw.py:51: RuntimeWarning: divide by zero encountered in divide\n",
      "  V_ER11 = (1 / rr_ER11) * (Vmax * rmax + 0.5 * fcor * rmax**2) * (\n",
      "/Users/simon/tcpips/chavas15/er11/radprof_raw.py:51: RuntimeWarning: invalid value encountered in multiply\n",
      "  V_ER11 = (1 / rr_ER11) * (Vmax * rmax + 0.5 * fcor * rmax**2) * (\n"
     ]
    },
    {
     "name": "stdout",
     "output_type": "stream",
     "text": [
      "'ER11_radprof_raw'  0.41018 s \n",
      "\n",
      "[  655888.18552742   656563.6625465    657239.13956558 ...\n",
      " 33771149.04596184 33771824.52298092 33772500.        ]\n"
     ]
    },
    {
     "name": "stderr",
     "output_type": "stream",
     "text": [
      "/Users/simon/tcpips/chavas15/er11/radprof_raw.py:51: RuntimeWarning: divide by zero encountered in divide\n",
      "  V_ER11 = (1 / rr_ER11) * (Vmax * rmax + 0.5 * fcor * rmax**2) * (\n",
      "/Users/simon/tcpips/chavas15/er11/radprof_raw.py:51: RuntimeWarning: invalid value encountered in multiply\n",
      "  V_ER11 = (1 / rr_ER11) * (Vmax * rmax + 0.5 * fcor * rmax**2) * (\n"
     ]
    },
    {
     "name": "stdout",
     "output_type": "stream",
     "text": [
      "'ER11_radprof_raw'  0.41252 s \n",
      "\n",
      "[  655888.18552742   656563.6625465    657239.13956558 ...\n",
      " 33771149.04596184 33771824.52298092 33772500.        ]\n"
     ]
    },
    {
     "name": "stderr",
     "output_type": "stream",
     "text": [
      "/Users/simon/tcpips/chavas15/er11/radprof_raw.py:51: RuntimeWarning: divide by zero encountered in divide\n",
      "  V_ER11 = (1 / rr_ER11) * (Vmax * rmax + 0.5 * fcor * rmax**2) * (\n",
      "/Users/simon/tcpips/chavas15/er11/radprof_raw.py:51: RuntimeWarning: invalid value encountered in multiply\n",
      "  V_ER11 = (1 / rr_ER11) * (Vmax * rmax + 0.5 * fcor * rmax**2) * (\n"
     ]
    },
    {
     "name": "stdout",
     "output_type": "stream",
     "text": [
      "'ER11_radprof_raw'  0.62522 s \n",
      "\n",
      "[  671424.15696628   672099.63398536   672775.11100444 ...\n",
      " 33771149.04596184 33771824.52298092 33772500.        ]\n"
     ]
    },
    {
     "name": "stderr",
     "output_type": "stream",
     "text": [
      "/Users/simon/tcpips/chavas15/er11/radprof_raw.py:51: RuntimeWarning: divide by zero encountered in divide\n",
      "  V_ER11 = (1 / rr_ER11) * (Vmax * rmax + 0.5 * fcor * rmax**2) * (\n",
      "/Users/simon/tcpips/chavas15/er11/radprof_raw.py:51: RuntimeWarning: invalid value encountered in multiply\n",
      "  V_ER11 = (1 / rr_ER11) * (Vmax * rmax + 0.5 * fcor * rmax**2) * (\n"
     ]
    },
    {
     "name": "stdout",
     "output_type": "stream",
     "text": [
      "'ER11_radprof_raw'  0.41126 s \n",
      "\n",
      "[  675477.01908076   676152.49609984   676827.97311892 ...\n",
      " 33771149.04596184 33771824.52298092 33772500.        ]\n"
     ]
    },
    {
     "name": "stderr",
     "output_type": "stream",
     "text": [
      "/Users/simon/tcpips/chavas15/er11/radprof_raw.py:51: RuntimeWarning: divide by zero encountered in divide\n",
      "  V_ER11 = (1 / rr_ER11) * (Vmax * rmax + 0.5 * fcor * rmax**2) * (\n",
      "/Users/simon/tcpips/chavas15/er11/radprof_raw.py:51: RuntimeWarning: invalid value encountered in multiply\n",
      "  V_ER11 = (1 / rr_ER11) * (Vmax * rmax + 0.5 * fcor * rmax**2) * (\n"
     ]
    },
    {
     "name": "stdout",
     "output_type": "stream",
     "text": [
      "'ER11_radprof_raw'  0.41695 s \n",
      "\n",
      "[  675477.01908076   676152.49609984   676827.97311892 ...\n",
      " 33771149.04596184 33771824.52298092 33772500.        ]\n"
     ]
    },
    {
     "name": "stderr",
     "output_type": "stream",
     "text": [
      "/Users/simon/tcpips/chavas15/er11/radprof_raw.py:51: RuntimeWarning: divide by zero encountered in divide\n",
      "  V_ER11 = (1 / rr_ER11) * (Vmax * rmax + 0.5 * fcor * rmax**2) * (\n",
      "/Users/simon/tcpips/chavas15/er11/radprof_raw.py:51: RuntimeWarning: invalid value encountered in multiply\n",
      "  V_ER11 = (1 / rr_ER11) * (Vmax * rmax + 0.5 * fcor * rmax**2) * (\n"
     ]
    },
    {
     "name": "stdout",
     "output_type": "stream",
     "text": [
      "'ER11_radprof_raw'  0.40277 s \n",
      "\n",
      "[  676152.49609984   676827.97311892   677503.45013801 ...\n",
      " 33771149.04596184 33771824.52298092 33772500.        ]\n"
     ]
    },
    {
     "name": "stderr",
     "output_type": "stream",
     "text": [
      "/Users/simon/tcpips/chavas15/er11/radprof_raw.py:51: RuntimeWarning: divide by zero encountered in divide\n",
      "  V_ER11 = (1 / rr_ER11) * (Vmax * rmax + 0.5 * fcor * rmax**2) * (\n",
      "/Users/simon/tcpips/chavas15/er11/radprof_raw.py:51: RuntimeWarning: invalid value encountered in multiply\n",
      "  V_ER11 = (1 / rr_ER11) * (Vmax * rmax + 0.5 * fcor * rmax**2) * (\n"
     ]
    },
    {
     "name": "stdout",
     "output_type": "stream",
     "text": [
      "'ER11_radprof_raw'  0.40751 s \n",
      "\n",
      "'ER11_radprof'  3.84724 s \n",
      "\n",
      "intersection sizes 1000 1333 1333000\n",
      "'curveintersect'  2.12189 s \n",
      "\n",
      "Large storm detected. Increasing drfracrm.\n",
      "dr =  675.2520100804032\n",
      "[  588144.50078003   588819.75279011   589495.00480019 ...\n",
      " 33759899.49597984 33760574.74798992 33761250.        ]\n"
     ]
    },
    {
     "name": "stderr",
     "output_type": "stream",
     "text": [
      "/Users/simon/tcpips/chavas15/er11/radprof_raw.py:51: RuntimeWarning: divide by zero encountered in divide\n",
      "  V_ER11 = (1 / rr_ER11) * (Vmax * rmax + 0.5 * fcor * rmax**2) * (\n",
      "/Users/simon/tcpips/chavas15/er11/radprof_raw.py:51: RuntimeWarning: invalid value encountered in multiply\n",
      "  V_ER11 = (1 / rr_ER11) * (Vmax * rmax + 0.5 * fcor * rmax**2) * (\n"
     ]
    },
    {
     "name": "stdout",
     "output_type": "stream",
     "text": [
      "'ER11_radprof_raw'  0.39492 s \n",
      "\n",
      "[  655669.70178807   656344.95379815   657020.20580823 ...\n",
      " 33759899.49597984 33760574.74798992 33761250.        ]\n"
     ]
    },
    {
     "name": "stderr",
     "output_type": "stream",
     "text": [
      "/Users/simon/tcpips/chavas15/er11/radprof_raw.py:51: RuntimeWarning: divide by zero encountered in divide\n",
      "  V_ER11 = (1 / rr_ER11) * (Vmax * rmax + 0.5 * fcor * rmax**2) * (\n",
      "/Users/simon/tcpips/chavas15/er11/radprof_raw.py:51: RuntimeWarning: invalid value encountered in multiply\n",
      "  V_ER11 = (1 / rr_ER11) * (Vmax * rmax + 0.5 * fcor * rmax**2) * (\n"
     ]
    },
    {
     "name": "stdout",
     "output_type": "stream",
     "text": [
      "'ER11_radprof_raw'  0.38668 s \n",
      "\n",
      "[  655669.70178807   656344.95379815   657020.20580823 ...\n",
      " 33759899.49597984 33760574.74798992 33761250.        ]\n"
     ]
    },
    {
     "name": "stderr",
     "output_type": "stream",
     "text": [
      "/Users/simon/tcpips/chavas15/er11/radprof_raw.py:51: RuntimeWarning: divide by zero encountered in divide\n",
      "  V_ER11 = (1 / rr_ER11) * (Vmax * rmax + 0.5 * fcor * rmax**2) * (\n",
      "/Users/simon/tcpips/chavas15/er11/radprof_raw.py:51: RuntimeWarning: invalid value encountered in multiply\n",
      "  V_ER11 = (1 / rr_ER11) * (Vmax * rmax + 0.5 * fcor * rmax**2) * (\n"
     ]
    },
    {
     "name": "stdout",
     "output_type": "stream",
     "text": [
      "'ER11_radprof_raw'  0.61237 s \n",
      "\n",
      "[  671200.49801992   671875.75003      672551.00204008 ...\n",
      " 33759899.49597984 33760574.74798992 33761250.        ]\n"
     ]
    },
    {
     "name": "stderr",
     "output_type": "stream",
     "text": [
      "/Users/simon/tcpips/chavas15/er11/radprof_raw.py:51: RuntimeWarning: divide by zero encountered in divide\n",
      "  V_ER11 = (1 / rr_ER11) * (Vmax * rmax + 0.5 * fcor * rmax**2) * (\n",
      "/Users/simon/tcpips/chavas15/er11/radprof_raw.py:51: RuntimeWarning: invalid value encountered in multiply\n",
      "  V_ER11 = (1 / rr_ER11) * (Vmax * rmax + 0.5 * fcor * rmax**2) * (\n"
     ]
    },
    {
     "name": "stdout",
     "output_type": "stream",
     "text": [
      "'ER11_radprof_raw'  0.39739 s \n",
      "\n",
      "[  675252.0100804    675927.26209048   676602.51410056 ...\n",
      " 33759899.49597984 33760574.74798992 33761250.        ]\n"
     ]
    },
    {
     "name": "stderr",
     "output_type": "stream",
     "text": [
      "/Users/simon/tcpips/chavas15/er11/radprof_raw.py:51: RuntimeWarning: divide by zero encountered in divide\n",
      "  V_ER11 = (1 / rr_ER11) * (Vmax * rmax + 0.5 * fcor * rmax**2) * (\n",
      "/Users/simon/tcpips/chavas15/er11/radprof_raw.py:51: RuntimeWarning: invalid value encountered in multiply\n",
      "  V_ER11 = (1 / rr_ER11) * (Vmax * rmax + 0.5 * fcor * rmax**2) * (\n"
     ]
    },
    {
     "name": "stdout",
     "output_type": "stream",
     "text": [
      "'ER11_radprof_raw'  0.38574 s \n",
      "\n",
      "[  675252.0100804    675927.26209048   676602.51410056 ...\n",
      " 33759899.49597984 33760574.74798992 33761250.        ]\n"
     ]
    },
    {
     "name": "stderr",
     "output_type": "stream",
     "text": [
      "/Users/simon/tcpips/chavas15/er11/radprof_raw.py:51: RuntimeWarning: divide by zero encountered in divide\n",
      "  V_ER11 = (1 / rr_ER11) * (Vmax * rmax + 0.5 * fcor * rmax**2) * (\n",
      "/Users/simon/tcpips/chavas15/er11/radprof_raw.py:51: RuntimeWarning: invalid value encountered in multiply\n",
      "  V_ER11 = (1 / rr_ER11) * (Vmax * rmax + 0.5 * fcor * rmax**2) * (\n"
     ]
    },
    {
     "name": "stdout",
     "output_type": "stream",
     "text": [
      "'ER11_radprof_raw'  0.38448 s \n",
      "\n",
      "[  675927.26209048   676602.51410056   677277.76611064 ...\n",
      " 33759899.49597984 33760574.74798992 33761250.        ]\n"
     ]
    },
    {
     "name": "stderr",
     "output_type": "stream",
     "text": [
      "/Users/simon/tcpips/chavas15/er11/radprof_raw.py:51: RuntimeWarning: divide by zero encountered in divide\n",
      "  V_ER11 = (1 / rr_ER11) * (Vmax * rmax + 0.5 * fcor * rmax**2) * (\n",
      "/Users/simon/tcpips/chavas15/er11/radprof_raw.py:51: RuntimeWarning: invalid value encountered in multiply\n",
      "  V_ER11 = (1 / rr_ER11) * (Vmax * rmax + 0.5 * fcor * rmax**2) * (\n"
     ]
    },
    {
     "name": "stdout",
     "output_type": "stream",
     "text": [
      "'ER11_radprof_raw'  0.39091 s \n",
      "\n",
      "'ER11_radprof'  3.71357 s \n",
      "\n",
      "intersection sizes 1000 1333 1333000\n",
      "'curveintersect'  2.10010 s \n",
      "\n",
      "Large storm detected. Increasing drfracrm.\n",
      "dr =  675.1395055802232\n",
      "[  588046.50936037   588721.64886595   589396.78837153 ...\n",
      " 33754274.72098883 33754949.86049441 33755624.99999999]\n"
     ]
    },
    {
     "name": "stderr",
     "output_type": "stream",
     "text": [
      "/Users/simon/tcpips/chavas15/er11/radprof_raw.py:51: RuntimeWarning: divide by zero encountered in divide\n",
      "  V_ER11 = (1 / rr_ER11) * (Vmax * rmax + 0.5 * fcor * rmax**2) * (\n",
      "/Users/simon/tcpips/chavas15/er11/radprof_raw.py:51: RuntimeWarning: invalid value encountered in multiply\n",
      "  V_ER11 = (1 / rr_ER11) * (Vmax * rmax + 0.5 * fcor * rmax**2) * (\n"
     ]
    },
    {
     "name": "stdout",
     "output_type": "stream",
     "text": [
      "'ER11_radprof_raw'  0.36596 s \n",
      "\n",
      "[  655560.4599184    656235.59942398   656910.73892956 ...\n",
      " 33754274.72098883 33754949.86049441 33755624.99999999]\n"
     ]
    },
    {
     "name": "stderr",
     "output_type": "stream",
     "text": [
      "/Users/simon/tcpips/chavas15/er11/radprof_raw.py:51: RuntimeWarning: divide by zero encountered in divide\n",
      "  V_ER11 = (1 / rr_ER11) * (Vmax * rmax + 0.5 * fcor * rmax**2) * (\n",
      "/Users/simon/tcpips/chavas15/er11/radprof_raw.py:51: RuntimeWarning: invalid value encountered in multiply\n",
      "  V_ER11 = (1 / rr_ER11) * (Vmax * rmax + 0.5 * fcor * rmax**2) * (\n"
     ]
    },
    {
     "name": "stdout",
     "output_type": "stream",
     "text": [
      "'ER11_radprof_raw'  0.37327 s \n",
      "\n",
      "[  655560.4599184    656235.59942398   656910.73892956 ...\n",
      " 33754274.72098883 33754949.86049441 33755624.99999999]\n"
     ]
    },
    {
     "name": "stderr",
     "output_type": "stream",
     "text": [
      "/Users/simon/tcpips/chavas15/er11/radprof_raw.py:51: RuntimeWarning: divide by zero encountered in divide\n",
      "  V_ER11 = (1 / rr_ER11) * (Vmax * rmax + 0.5 * fcor * rmax**2) * (\n",
      "/Users/simon/tcpips/chavas15/er11/radprof_raw.py:51: RuntimeWarning: invalid value encountered in multiply\n",
      "  V_ER11 = (1 / rr_ER11) * (Vmax * rmax + 0.5 * fcor * rmax**2) * (\n"
     ]
    },
    {
     "name": "stdout",
     "output_type": "stream",
     "text": [
      "'ER11_radprof_raw'  0.59826 s \n",
      "\n",
      "[  671088.66854674   671763.80805232   672438.9475579  ...\n",
      " 33754274.72098883 33754949.86049441 33755624.99999999]\n"
     ]
    },
    {
     "name": "stderr",
     "output_type": "stream",
     "text": [
      "/Users/simon/tcpips/chavas15/er11/radprof_raw.py:51: RuntimeWarning: divide by zero encountered in divide\n",
      "  V_ER11 = (1 / rr_ER11) * (Vmax * rmax + 0.5 * fcor * rmax**2) * (\n",
      "/Users/simon/tcpips/chavas15/er11/radprof_raw.py:51: RuntimeWarning: invalid value encountered in multiply\n",
      "  V_ER11 = (1 / rr_ER11) * (Vmax * rmax + 0.5 * fcor * rmax**2) * (\n"
     ]
    },
    {
     "name": "stdout",
     "output_type": "stream",
     "text": [
      "'ER11_radprof_raw'  0.37008 s \n",
      "\n",
      "[  675139.50558022   675814.6450858    676489.78459138 ...\n",
      " 33754274.72098883 33754949.86049441 33755624.99999999]\n"
     ]
    },
    {
     "name": "stderr",
     "output_type": "stream",
     "text": [
      "/Users/simon/tcpips/chavas15/er11/radprof_raw.py:51: RuntimeWarning: divide by zero encountered in divide\n",
      "  V_ER11 = (1 / rr_ER11) * (Vmax * rmax + 0.5 * fcor * rmax**2) * (\n",
      "/Users/simon/tcpips/chavas15/er11/radprof_raw.py:51: RuntimeWarning: invalid value encountered in multiply\n",
      "  V_ER11 = (1 / rr_ER11) * (Vmax * rmax + 0.5 * fcor * rmax**2) * (\n"
     ]
    },
    {
     "name": "stdout",
     "output_type": "stream",
     "text": [
      "'ER11_radprof_raw'  0.38606 s \n",
      "\n",
      "[  675814.6450858    676489.78459138   677164.92409696 ...\n",
      " 33754274.72098883 33754949.86049441 33755624.99999999]\n"
     ]
    },
    {
     "name": "stderr",
     "output_type": "stream",
     "text": [
      "/Users/simon/tcpips/chavas15/er11/radprof_raw.py:51: RuntimeWarning: divide by zero encountered in divide\n",
      "  V_ER11 = (1 / rr_ER11) * (Vmax * rmax + 0.5 * fcor * rmax**2) * (\n",
      "/Users/simon/tcpips/chavas15/er11/radprof_raw.py:51: RuntimeWarning: invalid value encountered in multiply\n",
      "  V_ER11 = (1 / rr_ER11) * (Vmax * rmax + 0.5 * fcor * rmax**2) * (\n"
     ]
    },
    {
     "name": "stdout",
     "output_type": "stream",
     "text": [
      "'ER11_radprof_raw'  0.38212 s \n",
      "\n",
      "'ER11_radprof'  3.08949 s \n",
      "\n",
      "intersection sizes 1000 1334 1334000\n",
      "'curveintersect'  2.10256 s \n",
      "\n",
      "Large storm detected. Increasing drfracrm.\n",
      "dr =  675.0832533301333\n",
      "[  587997.51365055   588672.59690388   589347.68015721 ...\n",
      " 33751462.33349334 33752137.41674667 33752812.5       ]\n"
     ]
    },
    {
     "name": "stderr",
     "output_type": "stream",
     "text": [
      "/Users/simon/tcpips/chavas15/er11/radprof_raw.py:51: RuntimeWarning: divide by zero encountered in divide\n",
      "  V_ER11 = (1 / rr_ER11) * (Vmax * rmax + 0.5 * fcor * rmax**2) * (\n",
      "/Users/simon/tcpips/chavas15/er11/radprof_raw.py:51: RuntimeWarning: invalid value encountered in multiply\n",
      "  V_ER11 = (1 / rr_ER11) * (Vmax * rmax + 0.5 * fcor * rmax**2) * (\n"
     ]
    },
    {
     "name": "stdout",
     "output_type": "stream",
     "text": [
      "'ER11_radprof_raw'  0.36430 s \n",
      "\n",
      "[  655505.83898356   656180.92223689   656856.00549022 ...\n",
      " 33751462.33349334 33752137.41674667 33752812.5       ]\n"
     ]
    },
    {
     "name": "stderr",
     "output_type": "stream",
     "text": [
      "/Users/simon/tcpips/chavas15/er11/radprof_raw.py:51: RuntimeWarning: divide by zero encountered in divide\n",
      "  V_ER11 = (1 / rr_ER11) * (Vmax * rmax + 0.5 * fcor * rmax**2) * (\n",
      "/Users/simon/tcpips/chavas15/er11/radprof_raw.py:51: RuntimeWarning: invalid value encountered in multiply\n",
      "  V_ER11 = (1 / rr_ER11) * (Vmax * rmax + 0.5 * fcor * rmax**2) * (\n"
     ]
    },
    {
     "name": "stdout",
     "output_type": "stream",
     "text": [
      "'ER11_radprof_raw'  0.36211 s \n",
      "\n",
      "[  655505.83898356   656180.92223689   656856.00549022 ...\n",
      " 33751462.33349334 33752137.41674667 33752812.5       ]\n"
     ]
    },
    {
     "name": "stderr",
     "output_type": "stream",
     "text": [
      "/Users/simon/tcpips/chavas15/er11/radprof_raw.py:51: RuntimeWarning: divide by zero encountered in divide\n",
      "  V_ER11 = (1 / rr_ER11) * (Vmax * rmax + 0.5 * fcor * rmax**2) * (\n",
      "/Users/simon/tcpips/chavas15/er11/radprof_raw.py:51: RuntimeWarning: invalid value encountered in multiply\n",
      "  V_ER11 = (1 / rr_ER11) * (Vmax * rmax + 0.5 * fcor * rmax**2) * (\n"
     ]
    },
    {
     "name": "stdout",
     "output_type": "stream",
     "text": [
      "'ER11_radprof_raw'  0.36203 s \n",
      "\n",
      "[  671032.75381015   671707.83706348   672382.92031681 ...\n",
      " 33751462.33349334 33752137.41674667 33752812.5       ]\n"
     ]
    },
    {
     "name": "stderr",
     "output_type": "stream",
     "text": [
      "/Users/simon/tcpips/chavas15/er11/radprof_raw.py:51: RuntimeWarning: divide by zero encountered in divide\n",
      "  V_ER11 = (1 / rr_ER11) * (Vmax * rmax + 0.5 * fcor * rmax**2) * (\n",
      "/Users/simon/tcpips/chavas15/er11/radprof_raw.py:51: RuntimeWarning: invalid value encountered in multiply\n",
      "  V_ER11 = (1 / rr_ER11) * (Vmax * rmax + 0.5 * fcor * rmax**2) * (\n"
     ]
    },
    {
     "name": "stdout",
     "output_type": "stream",
     "text": [
      "'ER11_radprof_raw'  0.60129 s \n",
      "\n",
      "[  675083.25333013   675758.33658346   676433.41983679 ...\n",
      " 33751462.33349334 33752137.41674667 33752812.5       ]\n"
     ]
    },
    {
     "name": "stderr",
     "output_type": "stream",
     "text": [
      "/Users/simon/tcpips/chavas15/er11/radprof_raw.py:51: RuntimeWarning: divide by zero encountered in divide\n",
      "  V_ER11 = (1 / rr_ER11) * (Vmax * rmax + 0.5 * fcor * rmax**2) * (\n",
      "/Users/simon/tcpips/chavas15/er11/radprof_raw.py:51: RuntimeWarning: invalid value encountered in multiply\n",
      "  V_ER11 = (1 / rr_ER11) * (Vmax * rmax + 0.5 * fcor * rmax**2) * (\n"
     ]
    },
    {
     "name": "stdout",
     "output_type": "stream",
     "text": [
      "'ER11_radprof_raw'  0.36096 s \n",
      "\n",
      "[  675758.33658346   676433.41983679   677108.50309012 ...\n",
      " 33751462.33349334 33752137.41674667 33752812.5       ]\n"
     ]
    },
    {
     "name": "stderr",
     "output_type": "stream",
     "text": [
      "/Users/simon/tcpips/chavas15/er11/radprof_raw.py:51: RuntimeWarning: divide by zero encountered in divide\n",
      "  V_ER11 = (1 / rr_ER11) * (Vmax * rmax + 0.5 * fcor * rmax**2) * (\n",
      "/Users/simon/tcpips/chavas15/er11/radprof_raw.py:51: RuntimeWarning: invalid value encountered in multiply\n",
      "  V_ER11 = (1 / rr_ER11) * (Vmax * rmax + 0.5 * fcor * rmax**2) * (\n"
     ]
    },
    {
     "name": "stdout",
     "output_type": "stream",
     "text": [
      "'ER11_radprof_raw'  0.36942 s \n",
      "\n",
      "'ER11_radprof'  3.03439 s \n",
      "\n",
      "intersection sizes 1000 1334 1334000\n",
      "'curveintersect'  2.18912 s \n",
      "\n",
      "Large storm detected. Increasing drfracrm.\n",
      "dr =  675.0551272050881\n",
      "[  587973.01579563   588648.07092284   589323.12605004 ...\n",
      " 33750056.13974559 33750731.19487279 33751406.24999999]\n"
     ]
    },
    {
     "name": "stderr",
     "output_type": "stream",
     "text": [
      "/Users/simon/tcpips/chavas15/er11/radprof_raw.py:51: RuntimeWarning: divide by zero encountered in divide\n",
      "  V_ER11 = (1 / rr_ER11) * (Vmax * rmax + 0.5 * fcor * rmax**2) * (\n",
      "/Users/simon/tcpips/chavas15/er11/radprof_raw.py:51: RuntimeWarning: invalid value encountered in multiply\n",
      "  V_ER11 = (1 / rr_ER11) * (Vmax * rmax + 0.5 * fcor * rmax**2) * (\n"
     ]
    },
    {
     "name": "stdout",
     "output_type": "stream",
     "text": [
      "'ER11_radprof_raw'  0.41189 s \n",
      "\n",
      "[  655478.52851614   656153.58364335   656828.63877055 ...\n",
      " 33750056.13974559 33750731.19487279 33751406.24999999]\n"
     ]
    },
    {
     "name": "stderr",
     "output_type": "stream",
     "text": [
      "/Users/simon/tcpips/chavas15/er11/radprof_raw.py:51: RuntimeWarning: divide by zero encountered in divide\n",
      "  V_ER11 = (1 / rr_ER11) * (Vmax * rmax + 0.5 * fcor * rmax**2) * (\n",
      "/Users/simon/tcpips/chavas15/er11/radprof_raw.py:51: RuntimeWarning: invalid value encountered in multiply\n",
      "  V_ER11 = (1 / rr_ER11) * (Vmax * rmax + 0.5 * fcor * rmax**2) * (\n"
     ]
    },
    {
     "name": "stdout",
     "output_type": "stream",
     "text": [
      "'ER11_radprof_raw'  0.41405 s \n",
      "\n",
      "[  655478.52851614   656153.58364335   656828.63877055 ...\n",
      " 33750056.13974559 33750731.19487279 33751406.24999999]\n"
     ]
    },
    {
     "name": "stderr",
     "output_type": "stream",
     "text": [
      "/Users/simon/tcpips/chavas15/er11/radprof_raw.py:51: RuntimeWarning: divide by zero encountered in divide\n",
      "  V_ER11 = (1 / rr_ER11) * (Vmax * rmax + 0.5 * fcor * rmax**2) * (\n",
      "/Users/simon/tcpips/chavas15/er11/radprof_raw.py:51: RuntimeWarning: invalid value encountered in multiply\n",
      "  V_ER11 = (1 / rr_ER11) * (Vmax * rmax + 0.5 * fcor * rmax**2) * (\n"
     ]
    },
    {
     "name": "stdout",
     "output_type": "stream",
     "text": [
      "'ER11_radprof_raw'  0.41674 s \n",
      "\n",
      "[  671004.79644186   671679.85156906   672354.90669627 ...\n",
      " 33750056.13974559 33750731.19487279 33751406.24999999]\n"
     ]
    },
    {
     "name": "stderr",
     "output_type": "stream",
     "text": [
      "/Users/simon/tcpips/chavas15/er11/radprof_raw.py:51: RuntimeWarning: divide by zero encountered in divide\n",
      "  V_ER11 = (1 / rr_ER11) * (Vmax * rmax + 0.5 * fcor * rmax**2) * (\n",
      "/Users/simon/tcpips/chavas15/er11/radprof_raw.py:51: RuntimeWarning: invalid value encountered in multiply\n",
      "  V_ER11 = (1 / rr_ER11) * (Vmax * rmax + 0.5 * fcor * rmax**2) * (\n"
     ]
    },
    {
     "name": "stdout",
     "output_type": "stream",
     "text": [
      "'ER11_radprof_raw'  0.41456 s \n",
      "\n",
      "[  675055.12720509   675730.18233229   676405.2374595  ...\n",
      " 33750056.13974559 33750731.19487279 33751406.24999999]\n"
     ]
    },
    {
     "name": "stderr",
     "output_type": "stream",
     "text": [
      "/Users/simon/tcpips/chavas15/er11/radprof_raw.py:51: RuntimeWarning: divide by zero encountered in divide\n",
      "  V_ER11 = (1 / rr_ER11) * (Vmax * rmax + 0.5 * fcor * rmax**2) * (\n",
      "/Users/simon/tcpips/chavas15/er11/radprof_raw.py:51: RuntimeWarning: invalid value encountered in multiply\n",
      "  V_ER11 = (1 / rr_ER11) * (Vmax * rmax + 0.5 * fcor * rmax**2) * (\n"
     ]
    },
    {
     "name": "stdout",
     "output_type": "stream",
     "text": [
      "'ER11_radprof_raw'  0.40542 s \n",
      "\n"
     ]
    },
    {
     "name": "stderr",
     "output_type": "stream",
     "text": [
      "/Users/simon/tcpips/chavas15/er11/radprof_raw.py:51: RuntimeWarning: divide by zero encountered in divide\n",
      "  V_ER11 = (1 / rr_ER11) * (Vmax * rmax + 0.5 * fcor * rmax**2) * (\n",
      "/Users/simon/tcpips/chavas15/er11/radprof_raw.py:51: RuntimeWarning: invalid value encountered in multiply\n",
      "  V_ER11 = (1 / rr_ER11) * (Vmax * rmax + 0.5 * fcor * rmax**2) * (\n"
     ]
    },
    {
     "name": "stdout",
     "output_type": "stream",
     "text": [
      "[  675730.18233229   676405.2374595    677080.2925867  ...\n",
      " 33750056.13974559 33750731.19487279 33751406.24999999]\n",
      "'ER11_radprof_raw'  0.40644 s \n",
      "\n",
      "'ER11_radprof'  3.32103 s \n",
      "\n",
      "intersection sizes 1000 1334 1334000\n",
      "'curveintersect'  2.13744 s \n",
      "\n",
      "Large storm detected. Increasing drfracrm.\n",
      "dr =  675.0410641425657\n",
      "[  587960.76686817   588635.80793232   589310.84899646 ...\n",
      " 33749353.04287171 33750028.08393586 33750703.125     ]\n"
     ]
    },
    {
     "name": "stderr",
     "output_type": "stream",
     "text": [
      "/Users/simon/tcpips/chavas15/er11/radprof_raw.py:51: RuntimeWarning: divide by zero encountered in divide\n",
      "  V_ER11 = (1 / rr_ER11) * (Vmax * rmax + 0.5 * fcor * rmax**2) * (\n",
      "/Users/simon/tcpips/chavas15/er11/radprof_raw.py:51: RuntimeWarning: invalid value encountered in multiply\n",
      "  V_ER11 = (1 / rr_ER11) * (Vmax * rmax + 0.5 * fcor * rmax**2) * (\n"
     ]
    },
    {
     "name": "stdout",
     "output_type": "stream",
     "text": [
      "'ER11_radprof_raw'  0.38872 s \n",
      "\n",
      "[  655464.87328243   656139.91434657   656814.95541072 ...\n",
      " 33749353.04287171 33750028.08393586 33750703.125     ]\n"
     ]
    },
    {
     "name": "stderr",
     "output_type": "stream",
     "text": [
      "/Users/simon/tcpips/chavas15/er11/radprof_raw.py:51: RuntimeWarning: divide by zero encountered in divide\n",
      "  V_ER11 = (1 / rr_ER11) * (Vmax * rmax + 0.5 * fcor * rmax**2) * (\n",
      "/Users/simon/tcpips/chavas15/er11/radprof_raw.py:51: RuntimeWarning: invalid value encountered in multiply\n",
      "  V_ER11 = (1 / rr_ER11) * (Vmax * rmax + 0.5 * fcor * rmax**2) * (\n"
     ]
    },
    {
     "name": "stdout",
     "output_type": "stream",
     "text": [
      "'ER11_radprof_raw'  0.37944 s \n",
      "\n",
      "[  655464.87328243   656139.91434657   656814.95541072 ...\n",
      " 33749353.04287171 33750028.08393586 33750703.125     ]\n"
     ]
    },
    {
     "name": "stderr",
     "output_type": "stream",
     "text": [
      "/Users/simon/tcpips/chavas15/er11/radprof_raw.py:51: RuntimeWarning: divide by zero encountered in divide\n",
      "  V_ER11 = (1 / rr_ER11) * (Vmax * rmax + 0.5 * fcor * rmax**2) * (\n",
      "/Users/simon/tcpips/chavas15/er11/radprof_raw.py:51: RuntimeWarning: invalid value encountered in multiply\n",
      "  V_ER11 = (1 / rr_ER11) * (Vmax * rmax + 0.5 * fcor * rmax**2) * (\n"
     ]
    },
    {
     "name": "stdout",
     "output_type": "stream",
     "text": [
      "'ER11_radprof_raw'  0.38863 s \n",
      "\n",
      "[  670990.81775771   671665.85882185   672340.899886   ...\n",
      " 33749353.04287171 33750028.08393586 33750703.125     ]\n"
     ]
    },
    {
     "name": "stderr",
     "output_type": "stream",
     "text": [
      "/Users/simon/tcpips/chavas15/er11/radprof_raw.py:51: RuntimeWarning: divide by zero encountered in divide\n",
      "  V_ER11 = (1 / rr_ER11) * (Vmax * rmax + 0.5 * fcor * rmax**2) * (\n",
      "/Users/simon/tcpips/chavas15/er11/radprof_raw.py:51: RuntimeWarning: invalid value encountered in multiply\n",
      "  V_ER11 = (1 / rr_ER11) * (Vmax * rmax + 0.5 * fcor * rmax**2) * (\n"
     ]
    },
    {
     "name": "stdout",
     "output_type": "stream",
     "text": [
      "'ER11_radprof_raw'  0.38338 s \n",
      "\n",
      "[  675041.06414257   675716.10520671   676391.14627085 ...\n",
      " 33749353.04287171 33750028.08393586 33750703.125     ]\n"
     ]
    },
    {
     "name": "stderr",
     "output_type": "stream",
     "text": [
      "/Users/simon/tcpips/chavas15/er11/radprof_raw.py:51: RuntimeWarning: divide by zero encountered in divide\n",
      "  V_ER11 = (1 / rr_ER11) * (Vmax * rmax + 0.5 * fcor * rmax**2) * (\n",
      "/Users/simon/tcpips/chavas15/er11/radprof_raw.py:51: RuntimeWarning: invalid value encountered in multiply\n",
      "  V_ER11 = (1 / rr_ER11) * (Vmax * rmax + 0.5 * fcor * rmax**2) * (\n"
     ]
    },
    {
     "name": "stdout",
     "output_type": "stream",
     "text": [
      "'ER11_radprof_raw'  0.39426 s \n",
      "\n",
      "[  675716.10520671   676391.14627085   677066.18733499 ...\n",
      " 33749353.04287171 33750028.08393586 33750703.125     ]\n"
     ]
    },
    {
     "name": "stderr",
     "output_type": "stream",
     "text": [
      "/Users/simon/tcpips/chavas15/er11/radprof_raw.py:51: RuntimeWarning: divide by zero encountered in divide\n",
      "  V_ER11 = (1 / rr_ER11) * (Vmax * rmax + 0.5 * fcor * rmax**2) * (\n",
      "/Users/simon/tcpips/chavas15/er11/radprof_raw.py:51: RuntimeWarning: invalid value encountered in multiply\n",
      "  V_ER11 = (1 / rr_ER11) * (Vmax * rmax + 0.5 * fcor * rmax**2) * (\n"
     ]
    },
    {
     "name": "stdout",
     "output_type": "stream",
     "text": [
      "'ER11_radprof_raw'  0.38822 s \n",
      "\n",
      "'ER11_radprof'  2.95127 s \n",
      "\n",
      "intersection sizes 1000 1334 1334000\n",
      "'curveintersect'  2.06410 s \n",
      "\n",
      "Large storm detected. Increasing drfracrm.\n",
      "dr =  675.0340326113044\n",
      "[  587954.64240445   588629.67643706   589304.71046967 ...\n",
      " 33749001.49443477 33749676.52846738 33750351.56249999]\n"
     ]
    },
    {
     "name": "stderr",
     "output_type": "stream",
     "text": [
      "/Users/simon/tcpips/chavas15/er11/radprof_raw.py:51: RuntimeWarning: divide by zero encountered in divide\n",
      "  V_ER11 = (1 / rr_ER11) * (Vmax * rmax + 0.5 * fcor * rmax**2) * (\n",
      "/Users/simon/tcpips/chavas15/er11/radprof_raw.py:51: RuntimeWarning: invalid value encountered in multiply\n",
      "  V_ER11 = (1 / rr_ER11) * (Vmax * rmax + 0.5 * fcor * rmax**2) * (\n"
     ]
    },
    {
     "name": "stdout",
     "output_type": "stream",
     "text": [
      "'ER11_radprof_raw'  0.36715 s \n",
      "\n",
      "[  655458.04566558   656133.07969819   656808.1137308  ...\n",
      " 33749001.49443477 33749676.52846738 33750351.56249999]\n"
     ]
    },
    {
     "name": "stderr",
     "output_type": "stream",
     "text": [
      "/Users/simon/tcpips/chavas15/er11/radprof_raw.py:51: RuntimeWarning: divide by zero encountered in divide\n",
      "  V_ER11 = (1 / rr_ER11) * (Vmax * rmax + 0.5 * fcor * rmax**2) * (\n",
      "/Users/simon/tcpips/chavas15/er11/radprof_raw.py:51: RuntimeWarning: invalid value encountered in multiply\n",
      "  V_ER11 = (1 / rr_ER11) * (Vmax * rmax + 0.5 * fcor * rmax**2) * (\n"
     ]
    },
    {
     "name": "stdout",
     "output_type": "stream",
     "text": [
      "'ER11_radprof_raw'  0.37718 s \n",
      "\n",
      "[  655458.04566558   656133.07969819   656808.1137308  ...\n",
      " 33749001.49443477 33749676.52846738 33750351.56249999]\n"
     ]
    },
    {
     "name": "stderr",
     "output_type": "stream",
     "text": [
      "/Users/simon/tcpips/chavas15/er11/radprof_raw.py:51: RuntimeWarning: divide by zero encountered in divide\n",
      "  V_ER11 = (1 / rr_ER11) * (Vmax * rmax + 0.5 * fcor * rmax**2) * (\n",
      "/Users/simon/tcpips/chavas15/er11/radprof_raw.py:51: RuntimeWarning: invalid value encountered in multiply\n",
      "  V_ER11 = (1 / rr_ER11) * (Vmax * rmax + 0.5 * fcor * rmax**2) * (\n"
     ]
    },
    {
     "name": "stdout",
     "output_type": "stream",
     "text": [
      "'ER11_radprof_raw'  0.36725 s \n",
      "\n",
      "[  670983.82841564   671658.86244825   672333.89648086 ...\n",
      " 33749001.49443477 33749676.52846738 33750351.56249999]\n"
     ]
    },
    {
     "name": "stderr",
     "output_type": "stream",
     "text": [
      "/Users/simon/tcpips/chavas15/er11/radprof_raw.py:51: RuntimeWarning: divide by zero encountered in divide\n",
      "  V_ER11 = (1 / rr_ER11) * (Vmax * rmax + 0.5 * fcor * rmax**2) * (\n",
      "/Users/simon/tcpips/chavas15/er11/radprof_raw.py:51: RuntimeWarning: invalid value encountered in multiply\n",
      "  V_ER11 = (1 / rr_ER11) * (Vmax * rmax + 0.5 * fcor * rmax**2) * (\n"
     ]
    },
    {
     "name": "stdout",
     "output_type": "stream",
     "text": [
      "'ER11_radprof_raw'  0.37654 s \n",
      "\n",
      "[  675034.0326113    675709.06664392   676384.10067653 ...\n",
      " 33749001.49443477 33749676.52846738 33750351.56249999]\n"
     ]
    },
    {
     "name": "stderr",
     "output_type": "stream",
     "text": [
      "/Users/simon/tcpips/chavas15/er11/radprof_raw.py:51: RuntimeWarning: divide by zero encountered in divide\n",
      "  V_ER11 = (1 / rr_ER11) * (Vmax * rmax + 0.5 * fcor * rmax**2) * (\n",
      "/Users/simon/tcpips/chavas15/er11/radprof_raw.py:51: RuntimeWarning: invalid value encountered in multiply\n",
      "  V_ER11 = (1 / rr_ER11) * (Vmax * rmax + 0.5 * fcor * rmax**2) * (\n"
     ]
    },
    {
     "name": "stdout",
     "output_type": "stream",
     "text": [
      "'ER11_radprof_raw'  0.36980 s \n",
      "\n",
      "[  675709.06664392   676384.10067653   677059.13470914 ...\n",
      " 33749001.49443477 33749676.52846738 33750351.56249999]\n"
     ]
    },
    {
     "name": "stderr",
     "output_type": "stream",
     "text": [
      "/Users/simon/tcpips/chavas15/er11/radprof_raw.py:51: RuntimeWarning: divide by zero encountered in divide\n",
      "  V_ER11 = (1 / rr_ER11) * (Vmax * rmax + 0.5 * fcor * rmax**2) * (\n",
      "/Users/simon/tcpips/chavas15/er11/radprof_raw.py:51: RuntimeWarning: invalid value encountered in multiply\n",
      "  V_ER11 = (1 / rr_ER11) * (Vmax * rmax + 0.5 * fcor * rmax**2) * (\n"
     ]
    },
    {
     "name": "stdout",
     "output_type": "stream",
     "text": [
      "'ER11_radprof_raw'  0.37548 s \n",
      "\n",
      "'ER11_radprof'  2.85042 s \n",
      "\n",
      "intersection sizes 1000 1334 1334000\n",
      "'curveintersect'  2.09420 s \n",
      "\n",
      "Large storm detected. Increasing drfracrm.\n",
      "dr =  675.0305168456738\n",
      "[  587951.58017258   588626.61068943   589301.64120627 ...\n",
      " 33748825.7202163  33749500.75073315 33750175.78124999]\n"
     ]
    },
    {
     "name": "stderr",
     "output_type": "stream",
     "text": [
      "/Users/simon/tcpips/chavas15/er11/radprof_raw.py:51: RuntimeWarning: divide by zero encountered in divide\n",
      "  V_ER11 = (1 / rr_ER11) * (Vmax * rmax + 0.5 * fcor * rmax**2) * (\n",
      "/Users/simon/tcpips/chavas15/er11/radprof_raw.py:51: RuntimeWarning: invalid value encountered in multiply\n",
      "  V_ER11 = (1 / rr_ER11) * (Vmax * rmax + 0.5 * fcor * rmax**2) * (\n"
     ]
    },
    {
     "name": "stdout",
     "output_type": "stream",
     "text": [
      "'ER11_radprof_raw'  0.37576 s \n",
      "\n",
      "[  655454.63185715   656129.66237399   656804.69289084 ...\n",
      " 33748825.7202163  33749500.75073315 33750175.78124999]\n"
     ]
    },
    {
     "name": "stderr",
     "output_type": "stream",
     "text": [
      "/Users/simon/tcpips/chavas15/er11/radprof_raw.py:51: RuntimeWarning: divide by zero encountered in divide\n",
      "  V_ER11 = (1 / rr_ER11) * (Vmax * rmax + 0.5 * fcor * rmax**2) * (\n",
      "/Users/simon/tcpips/chavas15/er11/radprof_raw.py:51: RuntimeWarning: invalid value encountered in multiply\n",
      "  V_ER11 = (1 / rr_ER11) * (Vmax * rmax + 0.5 * fcor * rmax**2) * (\n"
     ]
    },
    {
     "name": "stdout",
     "output_type": "stream",
     "text": [
      "'ER11_radprof_raw'  0.62190 s \n",
      "\n",
      "[  655454.63185715   656129.66237399   656804.69289084 ...\n",
      " 33748825.7202163  33749500.75073315 33750175.78124999]\n"
     ]
    },
    {
     "name": "stderr",
     "output_type": "stream",
     "text": [
      "/Users/simon/tcpips/chavas15/er11/radprof_raw.py:51: RuntimeWarning: divide by zero encountered in divide\n",
      "  V_ER11 = (1 / rr_ER11) * (Vmax * rmax + 0.5 * fcor * rmax**2) * (\n",
      "/Users/simon/tcpips/chavas15/er11/radprof_raw.py:51: RuntimeWarning: invalid value encountered in multiply\n",
      "  V_ER11 = (1 / rr_ER11) * (Vmax * rmax + 0.5 * fcor * rmax**2) * (\n"
     ]
    },
    {
     "name": "stdout",
     "output_type": "stream",
     "text": [
      "'ER11_radprof_raw'  0.37413 s \n",
      "\n",
      "[  670980.3337446    671655.36426145   672330.39477829 ...\n",
      " 33748825.7202163  33749500.75073315 33750175.78124999]\n"
     ]
    },
    {
     "name": "stderr",
     "output_type": "stream",
     "text": [
      "/Users/simon/tcpips/chavas15/er11/radprof_raw.py:51: RuntimeWarning: divide by zero encountered in divide\n",
      "  V_ER11 = (1 / rr_ER11) * (Vmax * rmax + 0.5 * fcor * rmax**2) * (\n",
      "/Users/simon/tcpips/chavas15/er11/radprof_raw.py:51: RuntimeWarning: invalid value encountered in multiply\n",
      "  V_ER11 = (1 / rr_ER11) * (Vmax * rmax + 0.5 * fcor * rmax**2) * (\n"
     ]
    },
    {
     "name": "stdout",
     "output_type": "stream",
     "text": [
      "'ER11_radprof_raw'  0.37646 s \n",
      "\n",
      "[  675030.51684567   675705.54736252   676380.57787937 ...\n",
      " 33748825.7202163  33749500.75073315 33750175.78124999]\n"
     ]
    },
    {
     "name": "stderr",
     "output_type": "stream",
     "text": [
      "/Users/simon/tcpips/chavas15/er11/radprof_raw.py:51: RuntimeWarning: divide by zero encountered in divide\n",
      "  V_ER11 = (1 / rr_ER11) * (Vmax * rmax + 0.5 * fcor * rmax**2) * (\n",
      "/Users/simon/tcpips/chavas15/er11/radprof_raw.py:51: RuntimeWarning: invalid value encountered in multiply\n",
      "  V_ER11 = (1 / rr_ER11) * (Vmax * rmax + 0.5 * fcor * rmax**2) * (\n"
     ]
    },
    {
     "name": "stdout",
     "output_type": "stream",
     "text": [
      "'ER11_radprof_raw'  0.38632 s \n",
      "\n",
      "[  675705.54736252   676380.57787937   677055.60839621 ...\n",
      " 33748825.7202163  33749500.75073315 33750175.78124999]\n"
     ]
    },
    {
     "name": "stderr",
     "output_type": "stream",
     "text": [
      "/Users/simon/tcpips/chavas15/er11/radprof_raw.py:51: RuntimeWarning: divide by zero encountered in divide\n",
      "  V_ER11 = (1 / rr_ER11) * (Vmax * rmax + 0.5 * fcor * rmax**2) * (\n",
      "/Users/simon/tcpips/chavas15/er11/radprof_raw.py:51: RuntimeWarning: invalid value encountered in multiply\n",
      "  V_ER11 = (1 / rr_ER11) * (Vmax * rmax + 0.5 * fcor * rmax**2) * (\n"
     ]
    },
    {
     "name": "stdout",
     "output_type": "stream",
     "text": [
      "'ER11_radprof_raw'  0.38239 s \n",
      "\n",
      "'ER11_radprof'  3.13595 s \n",
      "\n",
      "intersection sizes 1000 1334 1334000\n",
      "'curveintersect'  2.16833 s \n",
      "\n",
      "Large storm detected. Increasing drfracrm.\n",
      "dr =  675.0287589628585\n",
      "[  587950.04905665   588625.07781561   589300.10657458 ...\n",
      " 33748737.83310708 33749412.86186603 33750087.890625  ]\n"
     ]
    },
    {
     "name": "stderr",
     "output_type": "stream",
     "text": [
      "/Users/simon/tcpips/chavas15/er11/radprof_raw.py:51: RuntimeWarning: divide by zero encountered in divide\n",
      "  V_ER11 = (1 / rr_ER11) * (Vmax * rmax + 0.5 * fcor * rmax**2) * (\n",
      "/Users/simon/tcpips/chavas15/er11/radprof_raw.py:51: RuntimeWarning: invalid value encountered in multiply\n",
      "  V_ER11 = (1 / rr_ER11) * (Vmax * rmax + 0.5 * fcor * rmax**2) * (\n"
     ]
    },
    {
     "name": "stdout",
     "output_type": "stream",
     "text": [
      "'ER11_radprof_raw'  0.36063 s \n",
      "\n",
      "[  655452.92495294   656127.9537119    656802.98247086 ...\n",
      " 33748737.83310708 33749412.86186603 33750087.890625  ]\n"
     ]
    },
    {
     "name": "stderr",
     "output_type": "stream",
     "text": [
      "/Users/simon/tcpips/chavas15/er11/radprof_raw.py:51: RuntimeWarning: divide by zero encountered in divide\n",
      "  V_ER11 = (1 / rr_ER11) * (Vmax * rmax + 0.5 * fcor * rmax**2) * (\n",
      "/Users/simon/tcpips/chavas15/er11/radprof_raw.py:51: RuntimeWarning: invalid value encountered in multiply\n",
      "  V_ER11 = (1 / rr_ER11) * (Vmax * rmax + 0.5 * fcor * rmax**2) * (\n"
     ]
    },
    {
     "name": "stdout",
     "output_type": "stream",
     "text": [
      "'ER11_radprof_raw'  0.35892 s \n",
      "\n",
      "[  655452.92495294   656127.9537119    656802.98247086 ...\n",
      " 33748737.83310708 33749412.86186603 33750087.890625  ]\n"
     ]
    },
    {
     "name": "stderr",
     "output_type": "stream",
     "text": [
      "/Users/simon/tcpips/chavas15/er11/radprof_raw.py:51: RuntimeWarning: divide by zero encountered in divide\n",
      "  V_ER11 = (1 / rr_ER11) * (Vmax * rmax + 0.5 * fcor * rmax**2) * (\n",
      "/Users/simon/tcpips/chavas15/er11/radprof_raw.py:51: RuntimeWarning: invalid value encountered in multiply\n",
      "  V_ER11 = (1 / rr_ER11) * (Vmax * rmax + 0.5 * fcor * rmax**2) * (\n"
     ]
    },
    {
     "name": "stdout",
     "output_type": "stream",
     "text": [
      "'ER11_radprof_raw'  0.35746 s \n",
      "\n",
      "[  670978.58640908   671653.61516804   672328.64392701 ...\n",
      " 33748737.83310708 33749412.86186603 33750087.890625  ]\n"
     ]
    },
    {
     "name": "stderr",
     "output_type": "stream",
     "text": [
      "/Users/simon/tcpips/chavas15/er11/radprof_raw.py:51: RuntimeWarning: divide by zero encountered in divide\n",
      "  V_ER11 = (1 / rr_ER11) * (Vmax * rmax + 0.5 * fcor * rmax**2) * (\n",
      "/Users/simon/tcpips/chavas15/er11/radprof_raw.py:51: RuntimeWarning: invalid value encountered in multiply\n",
      "  V_ER11 = (1 / rr_ER11) * (Vmax * rmax + 0.5 * fcor * rmax**2) * (\n"
     ]
    },
    {
     "name": "stdout",
     "output_type": "stream",
     "text": [
      "'ER11_radprof_raw'  0.61757 s \n",
      "\n",
      "[  675028.75896286   675703.78772182   676378.81648078 ...\n",
      " 33748737.83310708 33749412.86186603 33750087.890625  ]\n"
     ]
    },
    {
     "name": "stderr",
     "output_type": "stream",
     "text": [
      "/Users/simon/tcpips/chavas15/er11/radprof_raw.py:51: RuntimeWarning: divide by zero encountered in divide\n",
      "  V_ER11 = (1 / rr_ER11) * (Vmax * rmax + 0.5 * fcor * rmax**2) * (\n",
      "/Users/simon/tcpips/chavas15/er11/radprof_raw.py:51: RuntimeWarning: invalid value encountered in multiply\n",
      "  V_ER11 = (1 / rr_ER11) * (Vmax * rmax + 0.5 * fcor * rmax**2) * (\n"
     ]
    },
    {
     "name": "stdout",
     "output_type": "stream",
     "text": [
      "'ER11_radprof_raw'  0.36733 s \n",
      "\n",
      "[  675703.78772182   676378.81648078   677053.84523975 ...\n",
      " 33748737.83310708 33749412.86186603 33750087.890625  ]\n"
     ]
    },
    {
     "name": "stderr",
     "output_type": "stream",
     "text": [
      "/Users/simon/tcpips/chavas15/er11/radprof_raw.py:51: RuntimeWarning: divide by zero encountered in divide\n",
      "  V_ER11 = (1 / rr_ER11) * (Vmax * rmax + 0.5 * fcor * rmax**2) * (\n",
      "/Users/simon/tcpips/chavas15/er11/radprof_raw.py:51: RuntimeWarning: invalid value encountered in multiply\n",
      "  V_ER11 = (1 / rr_ER11) * (Vmax * rmax + 0.5 * fcor * rmax**2) * (\n"
     ]
    },
    {
     "name": "stdout",
     "output_type": "stream",
     "text": [
      "'ER11_radprof_raw'  0.36053 s \n",
      "\n",
      "'ER11_radprof'  3.02891 s \n",
      "\n",
      "intersection sizes 1000 1334 1334000\n",
      "'curveintersect'  2.12136 s \n",
      "\n",
      "Adjusting CkCd to find convergence.\n",
      "Large storm detected. Increasing drfracrm.\n",
      "dr =  675.9270370814833\n",
      "[  594139.86559462   594815.79263171   595491.71966879 ...\n",
      " 33793648.14592583 33794324.07296292 33795000.        ]\n"
     ]
    },
    {
     "name": "stderr",
     "output_type": "stream",
     "text": [
      "/Users/simon/tcpips/chavas15/er11/radprof_raw.py:51: RuntimeWarning: divide by zero encountered in divide\n",
      "  V_ER11 = (1 / rr_ER11) * (Vmax * rmax + 0.5 * fcor * rmax**2) * (\n",
      "/Users/simon/tcpips/chavas15/er11/radprof_raw.py:51: RuntimeWarning: invalid value encountered in multiply\n",
      "  V_ER11 = (1 / rr_ER11) * (Vmax * rmax + 0.5 * fcor * rmax**2) * (\n"
     ]
    },
    {
     "name": "stdout",
     "output_type": "stream",
     "text": [
      "'ER11_radprof_raw'  0.37944 s \n",
      "\n",
      "[  658352.93411736   659028.86115445   659704.78819153 ...\n",
      " 33793648.14592583 33794324.07296292 33795000.        ]\n"
     ]
    },
    {
     "name": "stderr",
     "output_type": "stream",
     "text": [
      "/Users/simon/tcpips/chavas15/er11/radprof_raw.py:51: RuntimeWarning: divide by zero encountered in divide\n",
      "  V_ER11 = (1 / rr_ER11) * (Vmax * rmax + 0.5 * fcor * rmax**2) * (\n",
      "/Users/simon/tcpips/chavas15/er11/radprof_raw.py:51: RuntimeWarning: invalid value encountered in multiply\n",
      "  V_ER11 = (1 / rr_ER11) * (Vmax * rmax + 0.5 * fcor * rmax**2) * (\n"
     ]
    },
    {
     "name": "stdout",
     "output_type": "stream",
     "text": [
      "'ER11_radprof_raw'  0.36850 s \n",
      "\n",
      "[  658352.93411736   659028.86115445   659704.78819153 ...\n",
      " 33793648.14592583 33794324.07296292 33795000.        ]\n"
     ]
    },
    {
     "name": "stderr",
     "output_type": "stream",
     "text": [
      "/Users/simon/tcpips/chavas15/er11/radprof_raw.py:51: RuntimeWarning: divide by zero encountered in divide\n",
      "  V_ER11 = (1 / rr_ER11) * (Vmax * rmax + 0.5 * fcor * rmax**2) * (\n",
      "/Users/simon/tcpips/chavas15/er11/radprof_raw.py:51: RuntimeWarning: invalid value encountered in multiply\n",
      "  V_ER11 = (1 / rr_ER11) * (Vmax * rmax + 0.5 * fcor * rmax**2) * (\n"
     ]
    },
    {
     "name": "stdout",
     "output_type": "stream",
     "text": [
      "'ER11_radprof_raw'  0.37500 s \n",
      "\n",
      "[  673223.32893316   673899.25597024   674575.18300732 ...\n",
      " 33793648.14592583 33794324.07296292 33795000.        ]\n"
     ]
    },
    {
     "name": "stderr",
     "output_type": "stream",
     "text": [
      "/Users/simon/tcpips/chavas15/er11/radprof_raw.py:51: RuntimeWarning: divide by zero encountered in divide\n",
      "  V_ER11 = (1 / rr_ER11) * (Vmax * rmax + 0.5 * fcor * rmax**2) * (\n",
      "/Users/simon/tcpips/chavas15/er11/radprof_raw.py:51: RuntimeWarning: invalid value encountered in multiply\n",
      "  V_ER11 = (1 / rr_ER11) * (Vmax * rmax + 0.5 * fcor * rmax**2) * (\n"
     ]
    },
    {
     "name": "stdout",
     "output_type": "stream",
     "text": [
      "'ER11_radprof_raw'  0.36847 s \n",
      "\n",
      "[  675927.03708148   676602.96411856   677278.89115565 ...\n",
      " 33793648.14592583 33794324.07296292 33795000.        ]\n"
     ]
    },
    {
     "name": "stderr",
     "output_type": "stream",
     "text": [
      "/Users/simon/tcpips/chavas15/er11/radprof_raw.py:51: RuntimeWarning: divide by zero encountered in divide\n",
      "  V_ER11 = (1 / rr_ER11) * (Vmax * rmax + 0.5 * fcor * rmax**2) * (\n",
      "/Users/simon/tcpips/chavas15/er11/radprof_raw.py:51: RuntimeWarning: invalid value encountered in multiply\n",
      "  V_ER11 = (1 / rr_ER11) * (Vmax * rmax + 0.5 * fcor * rmax**2) * (\n"
     ]
    },
    {
     "name": "stdout",
     "output_type": "stream",
     "text": [
      "'ER11_radprof_raw'  0.36581 s \n",
      "\n",
      "[  675927.03708148   676602.96411856   677278.89115565 ...\n",
      " 33793648.14592583 33794324.07296292 33795000.        ]\n"
     ]
    },
    {
     "name": "stderr",
     "output_type": "stream",
     "text": [
      "/Users/simon/tcpips/chavas15/er11/radprof_raw.py:51: RuntimeWarning: divide by zero encountered in divide\n",
      "  V_ER11 = (1 / rr_ER11) * (Vmax * rmax + 0.5 * fcor * rmax**2) * (\n",
      "/Users/simon/tcpips/chavas15/er11/radprof_raw.py:51: RuntimeWarning: invalid value encountered in multiply\n",
      "  V_ER11 = (1 / rr_ER11) * (Vmax * rmax + 0.5 * fcor * rmax**2) * (\n"
     ]
    },
    {
     "name": "stdout",
     "output_type": "stream",
     "text": [
      "'ER11_radprof_raw'  0.61633 s \n",
      "\n",
      "[  676602.96411856   677278.89115565   677954.81819273 ...\n",
      " 33793648.14592583 33794324.07296292 33795000.        ]\n"
     ]
    },
    {
     "name": "stderr",
     "output_type": "stream",
     "text": [
      "/Users/simon/tcpips/chavas15/er11/radprof_raw.py:51: RuntimeWarning: divide by zero encountered in divide\n",
      "  V_ER11 = (1 / rr_ER11) * (Vmax * rmax + 0.5 * fcor * rmax**2) * (\n",
      "/Users/simon/tcpips/chavas15/er11/radprof_raw.py:51: RuntimeWarning: invalid value encountered in multiply\n",
      "  V_ER11 = (1 / rr_ER11) * (Vmax * rmax + 0.5 * fcor * rmax**2) * (\n"
     ]
    },
    {
     "name": "stdout",
     "output_type": "stream",
     "text": [
      "'ER11_radprof_raw'  0.37361 s \n",
      "\n",
      "'ER11_radprof'  3.61015 s \n",
      "\n",
      "intersection sizes 1000 1332 1332000\n",
      "'curveintersect'  2.16141 s \n",
      "\n",
      "Large storm detected. Increasing drfracrm.\n",
      "dr =  675.4770190807633\n",
      "[  593744.29977199   594419.77679107   595095.25381015 ...\n",
      " 33771149.04596184 33771824.52298092 33772500.        ]\n"
     ]
    },
    {
     "name": "stderr",
     "output_type": "stream",
     "text": [
      "/Users/simon/tcpips/chavas15/er11/radprof_raw.py:51: RuntimeWarning: divide by zero encountered in divide\n",
      "  V_ER11 = (1 / rr_ER11) * (Vmax * rmax + 0.5 * fcor * rmax**2) * (\n",
      "/Users/simon/tcpips/chavas15/er11/radprof_raw.py:51: RuntimeWarning: invalid value encountered in multiply\n",
      "  V_ER11 = (1 / rr_ER11) * (Vmax * rmax + 0.5 * fcor * rmax**2) * (\n"
     ]
    },
    {
     "name": "stdout",
     "output_type": "stream",
     "text": [
      "'ER11_radprof_raw'  0.41276 s \n",
      "\n",
      "[  657914.61658466   658590.09360374   659265.57062282 ...\n",
      " 33771149.04596184 33771824.52298092 33772500.        ]\n"
     ]
    },
    {
     "name": "stderr",
     "output_type": "stream",
     "text": [
      "/Users/simon/tcpips/chavas15/er11/radprof_raw.py:51: RuntimeWarning: divide by zero encountered in divide\n",
      "  V_ER11 = (1 / rr_ER11) * (Vmax * rmax + 0.5 * fcor * rmax**2) * (\n",
      "/Users/simon/tcpips/chavas15/er11/radprof_raw.py:51: RuntimeWarning: invalid value encountered in multiply\n",
      "  V_ER11 = (1 / rr_ER11) * (Vmax * rmax + 0.5 * fcor * rmax**2) * (\n"
     ]
    },
    {
     "name": "stdout",
     "output_type": "stream",
     "text": [
      "'ER11_radprof_raw'  0.41579 s \n",
      "\n",
      "[  657914.61658466   658590.09360374   659265.57062282 ...\n",
      " 33771149.04596184 33771824.52298092 33772500.        ]\n"
     ]
    },
    {
     "name": "stderr",
     "output_type": "stream",
     "text": [
      "/Users/simon/tcpips/chavas15/er11/radprof_raw.py:51: RuntimeWarning: divide by zero encountered in divide\n",
      "  V_ER11 = (1 / rr_ER11) * (Vmax * rmax + 0.5 * fcor * rmax**2) * (\n",
      "/Users/simon/tcpips/chavas15/er11/radprof_raw.py:51: RuntimeWarning: invalid value encountered in multiply\n",
      "  V_ER11 = (1 / rr_ER11) * (Vmax * rmax + 0.5 * fcor * rmax**2) * (\n"
     ]
    },
    {
     "name": "stdout",
     "output_type": "stream",
     "text": [
      "'ER11_radprof_raw'  0.41201 s \n",
      "\n",
      "[  672775.11100444   673450.58802352   674126.0650426  ...\n",
      " 33771149.04596184 33771824.52298092 33772500.        ]\n"
     ]
    },
    {
     "name": "stderr",
     "output_type": "stream",
     "text": [
      "/Users/simon/tcpips/chavas15/er11/radprof_raw.py:51: RuntimeWarning: divide by zero encountered in divide\n",
      "  V_ER11 = (1 / rr_ER11) * (Vmax * rmax + 0.5 * fcor * rmax**2) * (\n",
      "/Users/simon/tcpips/chavas15/er11/radprof_raw.py:51: RuntimeWarning: invalid value encountered in multiply\n",
      "  V_ER11 = (1 / rr_ER11) * (Vmax * rmax + 0.5 * fcor * rmax**2) * (\n"
     ]
    },
    {
     "name": "stdout",
     "output_type": "stream",
     "text": [
      "'ER11_radprof_raw'  0.40349 s \n",
      "\n",
      "[  675477.01908076   676152.49609984   676827.97311892 ...\n",
      " 33771149.04596184 33771824.52298092 33772500.        ]\n"
     ]
    },
    {
     "name": "stderr",
     "output_type": "stream",
     "text": [
      "/Users/simon/tcpips/chavas15/er11/radprof_raw.py:51: RuntimeWarning: divide by zero encountered in divide\n",
      "  V_ER11 = (1 / rr_ER11) * (Vmax * rmax + 0.5 * fcor * rmax**2) * (\n",
      "/Users/simon/tcpips/chavas15/er11/radprof_raw.py:51: RuntimeWarning: invalid value encountered in multiply\n",
      "  V_ER11 = (1 / rr_ER11) * (Vmax * rmax + 0.5 * fcor * rmax**2) * (\n"
     ]
    },
    {
     "name": "stdout",
     "output_type": "stream",
     "text": [
      "'ER11_radprof_raw'  0.40648 s \n",
      "\n",
      "[  675477.01908076   676152.49609984   676827.97311892 ...\n",
      " 33771149.04596184 33771824.52298092 33772500.        ]\n"
     ]
    },
    {
     "name": "stderr",
     "output_type": "stream",
     "text": [
      "/Users/simon/tcpips/chavas15/er11/radprof_raw.py:51: RuntimeWarning: divide by zero encountered in divide\n",
      "  V_ER11 = (1 / rr_ER11) * (Vmax * rmax + 0.5 * fcor * rmax**2) * (\n",
      "/Users/simon/tcpips/chavas15/er11/radprof_raw.py:51: RuntimeWarning: invalid value encountered in multiply\n",
      "  V_ER11 = (1 / rr_ER11) * (Vmax * rmax + 0.5 * fcor * rmax**2) * (\n"
     ]
    },
    {
     "name": "stdout",
     "output_type": "stream",
     "text": [
      "'ER11_radprof_raw'  0.40380 s \n",
      "\n"
     ]
    },
    {
     "name": "stderr",
     "output_type": "stream",
     "text": [
      "/Users/simon/tcpips/chavas15/er11/radprof_raw.py:51: RuntimeWarning: divide by zero encountered in divide\n",
      "  V_ER11 = (1 / rr_ER11) * (Vmax * rmax + 0.5 * fcor * rmax**2) * (\n",
      "/Users/simon/tcpips/chavas15/er11/radprof_raw.py:51: RuntimeWarning: invalid value encountered in multiply\n",
      "  V_ER11 = (1 / rr_ER11) * (Vmax * rmax + 0.5 * fcor * rmax**2) * (\n"
     ]
    },
    {
     "name": "stdout",
     "output_type": "stream",
     "text": [
      "[  676152.49609984   676827.97311892   677503.45013801 ...\n",
      " 33771149.04596184 33771824.52298092 33772500.        ]\n",
      "'ER11_radprof_raw'  0.40347 s \n",
      "\n",
      "'ER11_radprof'  3.89323 s \n",
      "\n",
      "intersection sizes 1000 1333 1333000\n",
      "'curveintersect'  2.10888 s \n",
      "\n",
      "Large storm detected. Increasing drfracrm.\n",
      "dr =  675.2520100804032\n",
      "[  593546.51686067   594221.76887075   594897.02088084 ...\n",
      " 33759899.49597984 33760574.74798992 33761250.        ]\n"
     ]
    },
    {
     "name": "stderr",
     "output_type": "stream",
     "text": [
      "/Users/simon/tcpips/chavas15/er11/radprof_raw.py:51: RuntimeWarning: divide by zero encountered in divide\n",
      "  V_ER11 = (1 / rr_ER11) * (Vmax * rmax + 0.5 * fcor * rmax**2) * (\n",
      "/Users/simon/tcpips/chavas15/er11/radprof_raw.py:51: RuntimeWarning: invalid value encountered in multiply\n",
      "  V_ER11 = (1 / rr_ER11) * (Vmax * rmax + 0.5 * fcor * rmax**2) * (\n"
     ]
    },
    {
     "name": "stdout",
     "output_type": "stream",
     "text": [
      "'ER11_radprof_raw'  0.38953 s \n",
      "\n",
      "[  657695.45781831   658370.70982839   659045.96183847 ...\n",
      " 33759899.49597984 33760574.74798992 33761250.        ]\n"
     ]
    },
    {
     "name": "stderr",
     "output_type": "stream",
     "text": [
      "/Users/simon/tcpips/chavas15/er11/radprof_raw.py:51: RuntimeWarning: divide by zero encountered in divide\n",
      "  V_ER11 = (1 / rr_ER11) * (Vmax * rmax + 0.5 * fcor * rmax**2) * (\n",
      "/Users/simon/tcpips/chavas15/er11/radprof_raw.py:51: RuntimeWarning: invalid value encountered in multiply\n",
      "  V_ER11 = (1 / rr_ER11) * (Vmax * rmax + 0.5 * fcor * rmax**2) * (\n"
     ]
    },
    {
     "name": "stdout",
     "output_type": "stream",
     "text": [
      "'ER11_radprof_raw'  0.38817 s \n",
      "\n",
      "[  657695.45781831   658370.70982839   659045.96183847 ...\n",
      " 33759899.49597984 33760574.74798992 33761250.        ]\n"
     ]
    },
    {
     "name": "stderr",
     "output_type": "stream",
     "text": [
      "/Users/simon/tcpips/chavas15/er11/radprof_raw.py:51: RuntimeWarning: divide by zero encountered in divide\n",
      "  V_ER11 = (1 / rr_ER11) * (Vmax * rmax + 0.5 * fcor * rmax**2) * (\n",
      "/Users/simon/tcpips/chavas15/er11/radprof_raw.py:51: RuntimeWarning: invalid value encountered in multiply\n",
      "  V_ER11 = (1 / rr_ER11) * (Vmax * rmax + 0.5 * fcor * rmax**2) * (\n"
     ]
    },
    {
     "name": "stdout",
     "output_type": "stream",
     "text": [
      "'ER11_radprof_raw'  0.38522 s \n",
      "\n",
      "[  672551.00204008   673226.25405016   673901.50606024 ...\n",
      " 33759899.49597984 33760574.74798992 33761250.        ]\n"
     ]
    },
    {
     "name": "stderr",
     "output_type": "stream",
     "text": [
      "/Users/simon/tcpips/chavas15/er11/radprof_raw.py:51: RuntimeWarning: divide by zero encountered in divide\n",
      "  V_ER11 = (1 / rr_ER11) * (Vmax * rmax + 0.5 * fcor * rmax**2) * (\n",
      "/Users/simon/tcpips/chavas15/er11/radprof_raw.py:51: RuntimeWarning: invalid value encountered in multiply\n",
      "  V_ER11 = (1 / rr_ER11) * (Vmax * rmax + 0.5 * fcor * rmax**2) * (\n"
     ]
    },
    {
     "name": "stdout",
     "output_type": "stream",
     "text": [
      "'ER11_radprof_raw'  0.38370 s \n",
      "\n",
      "[  675252.0100804    675927.26209048   676602.51410056 ...\n",
      " 33759899.49597984 33760574.74798992 33761250.        ]\n"
     ]
    },
    {
     "name": "stderr",
     "output_type": "stream",
     "text": [
      "/Users/simon/tcpips/chavas15/er11/radprof_raw.py:51: RuntimeWarning: divide by zero encountered in divide\n",
      "  V_ER11 = (1 / rr_ER11) * (Vmax * rmax + 0.5 * fcor * rmax**2) * (\n",
      "/Users/simon/tcpips/chavas15/er11/radprof_raw.py:51: RuntimeWarning: invalid value encountered in multiply\n",
      "  V_ER11 = (1 / rr_ER11) * (Vmax * rmax + 0.5 * fcor * rmax**2) * (\n"
     ]
    },
    {
     "name": "stdout",
     "output_type": "stream",
     "text": [
      "'ER11_radprof_raw'  0.38875 s \n",
      "\n",
      "[  675252.0100804    675927.26209048   676602.51410056 ...\n",
      " 33759899.49597984 33760574.74798992 33761250.        ]\n"
     ]
    },
    {
     "name": "stderr",
     "output_type": "stream",
     "text": [
      "/Users/simon/tcpips/chavas15/er11/radprof_raw.py:51: RuntimeWarning: divide by zero encountered in divide\n",
      "  V_ER11 = (1 / rr_ER11) * (Vmax * rmax + 0.5 * fcor * rmax**2) * (\n",
      "/Users/simon/tcpips/chavas15/er11/radprof_raw.py:51: RuntimeWarning: invalid value encountered in multiply\n",
      "  V_ER11 = (1 / rr_ER11) * (Vmax * rmax + 0.5 * fcor * rmax**2) * (\n"
     ]
    },
    {
     "name": "stdout",
     "output_type": "stream",
     "text": [
      "'ER11_radprof_raw'  0.38895 s \n",
      "\n",
      "[  675927.26209048   676602.51410056   677277.76611064 ...\n",
      " 33759899.49597984 33760574.74798992 33761250.        ]\n"
     ]
    },
    {
     "name": "stderr",
     "output_type": "stream",
     "text": [
      "/Users/simon/tcpips/chavas15/er11/radprof_raw.py:51: RuntimeWarning: divide by zero encountered in divide\n",
      "  V_ER11 = (1 / rr_ER11) * (Vmax * rmax + 0.5 * fcor * rmax**2) * (\n",
      "/Users/simon/tcpips/chavas15/er11/radprof_raw.py:51: RuntimeWarning: invalid value encountered in multiply\n",
      "  V_ER11 = (1 / rr_ER11) * (Vmax * rmax + 0.5 * fcor * rmax**2) * (\n"
     ]
    },
    {
     "name": "stdout",
     "output_type": "stream",
     "text": [
      "'ER11_radprof_raw'  0.64655 s \n",
      "\n",
      "'ER11_radprof'  3.73453 s \n",
      "\n",
      "intersection sizes 1000 1333 1333000\n",
      "'curveintersect'  2.12212 s \n",
      "\n",
      "Large storm detected. Increasing drfracrm.\n",
      "dr =  675.1395055802232\n",
      "[  593447.62540502   594122.7649106    594797.90441618 ...\n",
      " 33754274.72098883 33754949.86049441 33755624.99999999]\n"
     ]
    },
    {
     "name": "stderr",
     "output_type": "stream",
     "text": [
      "/Users/simon/tcpips/chavas15/er11/radprof_raw.py:51: RuntimeWarning: divide by zero encountered in divide\n",
      "  V_ER11 = (1 / rr_ER11) * (Vmax * rmax + 0.5 * fcor * rmax**2) * (\n",
      "/Users/simon/tcpips/chavas15/er11/radprof_raw.py:51: RuntimeWarning: invalid value encountered in multiply\n",
      "  V_ER11 = (1 / rr_ER11) * (Vmax * rmax + 0.5 * fcor * rmax**2) * (\n"
     ]
    },
    {
     "name": "stdout",
     "output_type": "stream",
     "text": [
      "'ER11_radprof_raw'  0.37396 s \n",
      "\n",
      "[  657585.87843514   658261.01794072   658936.1574463  ...\n",
      " 33754274.72098883 33754949.86049441 33755624.99999999]\n"
     ]
    },
    {
     "name": "stderr",
     "output_type": "stream",
     "text": [
      "/Users/simon/tcpips/chavas15/er11/radprof_raw.py:51: RuntimeWarning: divide by zero encountered in divide\n",
      "  V_ER11 = (1 / rr_ER11) * (Vmax * rmax + 0.5 * fcor * rmax**2) * (\n",
      "/Users/simon/tcpips/chavas15/er11/radprof_raw.py:51: RuntimeWarning: invalid value encountered in multiply\n",
      "  V_ER11 = (1 / rr_ER11) * (Vmax * rmax + 0.5 * fcor * rmax**2) * (\n"
     ]
    },
    {
     "name": "stdout",
     "output_type": "stream",
     "text": [
      "'ER11_radprof_raw'  0.37712 s \n",
      "\n",
      "[  657585.87843514   658261.01794072   658936.1574463  ...\n",
      " 33754274.72098883 33754949.86049441 33755624.99999999]\n"
     ]
    },
    {
     "name": "stderr",
     "output_type": "stream",
     "text": [
      "/Users/simon/tcpips/chavas15/er11/radprof_raw.py:51: RuntimeWarning: divide by zero encountered in divide\n",
      "  V_ER11 = (1 / rr_ER11) * (Vmax * rmax + 0.5 * fcor * rmax**2) * (\n",
      "/Users/simon/tcpips/chavas15/er11/radprof_raw.py:51: RuntimeWarning: invalid value encountered in multiply\n",
      "  V_ER11 = (1 / rr_ER11) * (Vmax * rmax + 0.5 * fcor * rmax**2) * (\n"
     ]
    },
    {
     "name": "stdout",
     "output_type": "stream",
     "text": [
      "'ER11_radprof_raw'  0.38453 s \n",
      "\n",
      "[  672438.9475579    673114.08706348   673789.22656906 ...\n",
      " 33754274.72098883 33754949.86049441 33755624.99999999]\n"
     ]
    },
    {
     "name": "stderr",
     "output_type": "stream",
     "text": [
      "/Users/simon/tcpips/chavas15/er11/radprof_raw.py:51: RuntimeWarning: divide by zero encountered in divide\n",
      "  V_ER11 = (1 / rr_ER11) * (Vmax * rmax + 0.5 * fcor * rmax**2) * (\n",
      "/Users/simon/tcpips/chavas15/er11/radprof_raw.py:51: RuntimeWarning: invalid value encountered in multiply\n",
      "  V_ER11 = (1 / rr_ER11) * (Vmax * rmax + 0.5 * fcor * rmax**2) * (\n"
     ]
    },
    {
     "name": "stdout",
     "output_type": "stream",
     "text": [
      "'ER11_radprof_raw'  0.37647 s \n",
      "\n",
      "[  675139.50558022   675814.6450858    676489.78459138 ...\n",
      " 33754274.72098883 33754949.86049441 33755624.99999999]\n"
     ]
    },
    {
     "name": "stderr",
     "output_type": "stream",
     "text": [
      "/Users/simon/tcpips/chavas15/er11/radprof_raw.py:51: RuntimeWarning: divide by zero encountered in divide\n",
      "  V_ER11 = (1 / rr_ER11) * (Vmax * rmax + 0.5 * fcor * rmax**2) * (\n",
      "/Users/simon/tcpips/chavas15/er11/radprof_raw.py:51: RuntimeWarning: invalid value encountered in multiply\n",
      "  V_ER11 = (1 / rr_ER11) * (Vmax * rmax + 0.5 * fcor * rmax**2) * (\n"
     ]
    },
    {
     "name": "stdout",
     "output_type": "stream",
     "text": [
      "'ER11_radprof_raw'  0.37355 s \n",
      "\n",
      "[  675139.50558022   675814.6450858    676489.78459138 ...\n",
      " 33754274.72098883 33754949.86049441 33755624.99999999]\n"
     ]
    },
    {
     "name": "stderr",
     "output_type": "stream",
     "text": [
      "/Users/simon/tcpips/chavas15/er11/radprof_raw.py:51: RuntimeWarning: divide by zero encountered in divide\n",
      "  V_ER11 = (1 / rr_ER11) * (Vmax * rmax + 0.5 * fcor * rmax**2) * (\n",
      "/Users/simon/tcpips/chavas15/er11/radprof_raw.py:51: RuntimeWarning: invalid value encountered in multiply\n",
      "  V_ER11 = (1 / rr_ER11) * (Vmax * rmax + 0.5 * fcor * rmax**2) * (\n"
     ]
    },
    {
     "name": "stdout",
     "output_type": "stream",
     "text": [
      "'ER11_radprof_raw'  0.37506 s \n",
      "\n",
      "[  675814.6450858    676489.78459138   677164.92409696 ...\n",
      " 33754274.72098883 33754949.86049441 33755624.99999999]\n"
     ]
    },
    {
     "name": "stderr",
     "output_type": "stream",
     "text": [
      "/Users/simon/tcpips/chavas15/er11/radprof_raw.py:51: RuntimeWarning: divide by zero encountered in divide\n",
      "  V_ER11 = (1 / rr_ER11) * (Vmax * rmax + 0.5 * fcor * rmax**2) * (\n",
      "/Users/simon/tcpips/chavas15/er11/radprof_raw.py:51: RuntimeWarning: invalid value encountered in multiply\n",
      "  V_ER11 = (1 / rr_ER11) * (Vmax * rmax + 0.5 * fcor * rmax**2) * (\n"
     ]
    },
    {
     "name": "stdout",
     "output_type": "stream",
     "text": [
      "'ER11_radprof_raw'  0.37408 s \n",
      "\n",
      "'ER11_radprof'  3.38758 s \n",
      "\n",
      "intersection sizes 1000 1334 1334000\n",
      "'curveintersect'  2.15224 s \n",
      "\n",
      "Large storm detected. Increasing drfracrm.\n",
      "dr =  675.0832533301333\n",
      "[  593398.17967719   594073.26293052   594748.34618385 ...\n",
      " 33751462.33349334 33752137.41674667 33752812.5       ]\n"
     ]
    },
    {
     "name": "stderr",
     "output_type": "stream",
     "text": [
      "/Users/simon/tcpips/chavas15/er11/radprof_raw.py:51: RuntimeWarning: divide by zero encountered in divide\n",
      "  V_ER11 = (1 / rr_ER11) * (Vmax * rmax + 0.5 * fcor * rmax**2) * (\n",
      "/Users/simon/tcpips/chavas15/er11/radprof_raw.py:51: RuntimeWarning: invalid value encountered in multiply\n",
      "  V_ER11 = (1 / rr_ER11) * (Vmax * rmax + 0.5 * fcor * rmax**2) * (\n"
     ]
    },
    {
     "name": "stdout",
     "output_type": "stream",
     "text": [
      "'ER11_radprof_raw'  0.36488 s \n",
      "\n",
      "[  657531.08874355   658206.17199688   658881.25525021 ...\n",
      " 33751462.33349334 33752137.41674667 33752812.5       ]\n"
     ]
    },
    {
     "name": "stderr",
     "output_type": "stream",
     "text": [
      "/Users/simon/tcpips/chavas15/er11/radprof_raw.py:51: RuntimeWarning: divide by zero encountered in divide\n",
      "  V_ER11 = (1 / rr_ER11) * (Vmax * rmax + 0.5 * fcor * rmax**2) * (\n",
      "/Users/simon/tcpips/chavas15/er11/radprof_raw.py:51: RuntimeWarning: invalid value encountered in multiply\n",
      "  V_ER11 = (1 / rr_ER11) * (Vmax * rmax + 0.5 * fcor * rmax**2) * (\n"
     ]
    },
    {
     "name": "stdout",
     "output_type": "stream",
     "text": [
      "'ER11_radprof_raw'  0.36531 s \n",
      "\n",
      "[  657531.08874355   658206.17199688   658881.25525021 ...\n",
      " 33751462.33349334 33752137.41674667 33752812.5       ]\n"
     ]
    },
    {
     "name": "stderr",
     "output_type": "stream",
     "text": [
      "/Users/simon/tcpips/chavas15/er11/radprof_raw.py:51: RuntimeWarning: divide by zero encountered in divide\n",
      "  V_ER11 = (1 / rr_ER11) * (Vmax * rmax + 0.5 * fcor * rmax**2) * (\n",
      "/Users/simon/tcpips/chavas15/er11/radprof_raw.py:51: RuntimeWarning: invalid value encountered in multiply\n",
      "  V_ER11 = (1 / rr_ER11) * (Vmax * rmax + 0.5 * fcor * rmax**2) * (\n"
     ]
    },
    {
     "name": "stdout",
     "output_type": "stream",
     "text": [
      "'ER11_radprof_raw'  0.36305 s \n",
      "\n",
      "[  672382.92031681   673058.00357014   673733.08682347 ...\n",
      " 33751462.33349334 33752137.41674667 33752812.5       ]\n"
     ]
    },
    {
     "name": "stderr",
     "output_type": "stream",
     "text": [
      "/Users/simon/tcpips/chavas15/er11/radprof_raw.py:51: RuntimeWarning: divide by zero encountered in divide\n",
      "  V_ER11 = (1 / rr_ER11) * (Vmax * rmax + 0.5 * fcor * rmax**2) * (\n",
      "/Users/simon/tcpips/chavas15/er11/radprof_raw.py:51: RuntimeWarning: invalid value encountered in multiply\n",
      "  V_ER11 = (1 / rr_ER11) * (Vmax * rmax + 0.5 * fcor * rmax**2) * (\n"
     ]
    },
    {
     "name": "stdout",
     "output_type": "stream",
     "text": [
      "'ER11_radprof_raw'  0.37391 s \n",
      "\n",
      "[  675083.25333013   675758.33658346   676433.41983679 ...\n",
      " 33751462.33349334 33752137.41674667 33752812.5       ]\n"
     ]
    },
    {
     "name": "stderr",
     "output_type": "stream",
     "text": [
      "/Users/simon/tcpips/chavas15/er11/radprof_raw.py:51: RuntimeWarning: divide by zero encountered in divide\n",
      "  V_ER11 = (1 / rr_ER11) * (Vmax * rmax + 0.5 * fcor * rmax**2) * (\n",
      "/Users/simon/tcpips/chavas15/er11/radprof_raw.py:51: RuntimeWarning: invalid value encountered in multiply\n",
      "  V_ER11 = (1 / rr_ER11) * (Vmax * rmax + 0.5 * fcor * rmax**2) * (\n"
     ]
    },
    {
     "name": "stdout",
     "output_type": "stream",
     "text": [
      "'ER11_radprof_raw'  0.36923 s \n",
      "\n",
      "[  675758.33658346   676433.41983679   677108.50309012 ...\n",
      " 33751462.33349334 33752137.41674667 33752812.5       ]\n"
     ]
    },
    {
     "name": "stderr",
     "output_type": "stream",
     "text": [
      "/Users/simon/tcpips/chavas15/er11/radprof_raw.py:51: RuntimeWarning: divide by zero encountered in divide\n",
      "  V_ER11 = (1 / rr_ER11) * (Vmax * rmax + 0.5 * fcor * rmax**2) * (\n",
      "/Users/simon/tcpips/chavas15/er11/radprof_raw.py:51: RuntimeWarning: invalid value encountered in multiply\n",
      "  V_ER11 = (1 / rr_ER11) * (Vmax * rmax + 0.5 * fcor * rmax**2) * (\n"
     ]
    },
    {
     "name": "stdout",
     "output_type": "stream",
     "text": [
      "'ER11_radprof_raw'  0.37172 s \n",
      "\n",
      "'ER11_radprof'  2.81170 s \n",
      "\n",
      "intersection sizes 1000 1334 1334000\n",
      "'curveintersect'  2.12527 s \n",
      "\n",
      "Large storm detected. Increasing drfracrm.\n",
      "dr =  675.0551272050881\n",
      "[  593373.45681327   594048.51194048   594723.56706768 ...\n",
      " 33750056.13974559 33750731.19487279 33751406.24999999]\n"
     ]
    },
    {
     "name": "stderr",
     "output_type": "stream",
     "text": [
      "/Users/simon/tcpips/chavas15/er11/radprof_raw.py:51: RuntimeWarning: divide by zero encountered in divide\n",
      "  V_ER11 = (1 / rr_ER11) * (Vmax * rmax + 0.5 * fcor * rmax**2) * (\n",
      "/Users/simon/tcpips/chavas15/er11/radprof_raw.py:51: RuntimeWarning: invalid value encountered in multiply\n",
      "  V_ER11 = (1 / rr_ER11) * (Vmax * rmax + 0.5 * fcor * rmax**2) * (\n"
     ]
    },
    {
     "name": "stdout",
     "output_type": "stream",
     "text": [
      "'ER11_radprof_raw'  0.41848 s \n",
      "\n",
      "[  657503.69389776   658178.74902496   658853.80415217 ...\n",
      " 33750056.13974559 33750731.19487279 33751406.24999999]\n"
     ]
    },
    {
     "name": "stderr",
     "output_type": "stream",
     "text": [
      "/Users/simon/tcpips/chavas15/er11/radprof_raw.py:51: RuntimeWarning: divide by zero encountered in divide\n",
      "  V_ER11 = (1 / rr_ER11) * (Vmax * rmax + 0.5 * fcor * rmax**2) * (\n",
      "/Users/simon/tcpips/chavas15/er11/radprof_raw.py:51: RuntimeWarning: invalid value encountered in multiply\n",
      "  V_ER11 = (1 / rr_ER11) * (Vmax * rmax + 0.5 * fcor * rmax**2) * (\n"
     ]
    },
    {
     "name": "stdout",
     "output_type": "stream",
     "text": [
      "'ER11_radprof_raw'  0.40509 s \n",
      "\n",
      "[  657503.69389776   658178.74902496   658853.80415217 ...\n",
      " 33750056.13974559 33750731.19487279 33751406.24999999]\n"
     ]
    },
    {
     "name": "stderr",
     "output_type": "stream",
     "text": [
      "/Users/simon/tcpips/chavas15/er11/radprof_raw.py:51: RuntimeWarning: divide by zero encountered in divide\n",
      "  V_ER11 = (1 / rr_ER11) * (Vmax * rmax + 0.5 * fcor * rmax**2) * (\n",
      "/Users/simon/tcpips/chavas15/er11/radprof_raw.py:51: RuntimeWarning: invalid value encountered in multiply\n",
      "  V_ER11 = (1 / rr_ER11) * (Vmax * rmax + 0.5 * fcor * rmax**2) * (\n"
     ]
    },
    {
     "name": "stdout",
     "output_type": "stream",
     "text": [
      "'ER11_radprof_raw'  0.66578 s \n",
      "\n",
      "[  672354.90669627   673029.96182347   673705.01695068 ...\n",
      " 33750056.13974559 33750731.19487279 33751406.24999999]\n"
     ]
    },
    {
     "name": "stderr",
     "output_type": "stream",
     "text": [
      "/Users/simon/tcpips/chavas15/er11/radprof_raw.py:51: RuntimeWarning: divide by zero encountered in divide\n",
      "  V_ER11 = (1 / rr_ER11) * (Vmax * rmax + 0.5 * fcor * rmax**2) * (\n",
      "/Users/simon/tcpips/chavas15/er11/radprof_raw.py:51: RuntimeWarning: invalid value encountered in multiply\n",
      "  V_ER11 = (1 / rr_ER11) * (Vmax * rmax + 0.5 * fcor * rmax**2) * (\n"
     ]
    },
    {
     "name": "stdout",
     "output_type": "stream",
     "text": [
      "'ER11_radprof_raw'  0.40536 s \n",
      "\n",
      "[  675055.12720509   675730.18233229   676405.2374595  ...\n",
      " 33750056.13974559 33750731.19487279 33751406.24999999]\n"
     ]
    },
    {
     "name": "stderr",
     "output_type": "stream",
     "text": [
      "/Users/simon/tcpips/chavas15/er11/radprof_raw.py:51: RuntimeWarning: divide by zero encountered in divide\n",
      "  V_ER11 = (1 / rr_ER11) * (Vmax * rmax + 0.5 * fcor * rmax**2) * (\n",
      "/Users/simon/tcpips/chavas15/er11/radprof_raw.py:51: RuntimeWarning: invalid value encountered in multiply\n",
      "  V_ER11 = (1 / rr_ER11) * (Vmax * rmax + 0.5 * fcor * rmax**2) * (\n"
     ]
    },
    {
     "name": "stdout",
     "output_type": "stream",
     "text": [
      "'ER11_radprof_raw'  0.41738 s \n",
      "\n",
      "[  675730.18233229   676405.2374595    677080.2925867  ...\n",
      " 33750056.13974559 33750731.19487279 33751406.24999999]\n"
     ]
    },
    {
     "name": "stderr",
     "output_type": "stream",
     "text": [
      "/Users/simon/tcpips/chavas15/er11/radprof_raw.py:51: RuntimeWarning: divide by zero encountered in divide\n",
      "  V_ER11 = (1 / rr_ER11) * (Vmax * rmax + 0.5 * fcor * rmax**2) * (\n",
      "/Users/simon/tcpips/chavas15/er11/radprof_raw.py:51: RuntimeWarning: invalid value encountered in multiply\n",
      "  V_ER11 = (1 / rr_ER11) * (Vmax * rmax + 0.5 * fcor * rmax**2) * (\n"
     ]
    },
    {
     "name": "stdout",
     "output_type": "stream",
     "text": [
      "'ER11_radprof_raw'  0.41074 s \n",
      "\n",
      "'ER11_radprof'  3.35853 s \n",
      "\n",
      "intersection sizes 1000 1334 1334000\n",
      "'curveintersect'  2.10616 s \n",
      "\n",
      "Large storm detected. Increasing drfracrm.\n",
      "dr =  675.0410641425657\n",
      "[  593361.09538132   594036.13644546   594711.1775096  ...\n",
      " 33749353.04287171 33750028.08393586 33750703.125     ]\n"
     ]
    },
    {
     "name": "stderr",
     "output_type": "stream",
     "text": [
      "/Users/simon/tcpips/chavas15/er11/radprof_raw.py:51: RuntimeWarning: divide by zero encountered in divide\n",
      "  V_ER11 = (1 / rr_ER11) * (Vmax * rmax + 0.5 * fcor * rmax**2) * (\n",
      "/Users/simon/tcpips/chavas15/er11/radprof_raw.py:51: RuntimeWarning: invalid value encountered in multiply\n",
      "  V_ER11 = (1 / rr_ER11) * (Vmax * rmax + 0.5 * fcor * rmax**2) * (\n"
     ]
    },
    {
     "name": "stdout",
     "output_type": "stream",
     "text": [
      "'ER11_radprof_raw'  0.38134 s \n",
      "\n",
      "[  657489.99647486   658165.037539     658840.07860314 ...\n",
      " 33749353.04287171 33750028.08393586 33750703.125     ]\n"
     ]
    },
    {
     "name": "stderr",
     "output_type": "stream",
     "text": [
      "/Users/simon/tcpips/chavas15/er11/radprof_raw.py:51: RuntimeWarning: divide by zero encountered in divide\n",
      "  V_ER11 = (1 / rr_ER11) * (Vmax * rmax + 0.5 * fcor * rmax**2) * (\n",
      "/Users/simon/tcpips/chavas15/er11/radprof_raw.py:51: RuntimeWarning: invalid value encountered in multiply\n",
      "  V_ER11 = (1 / rr_ER11) * (Vmax * rmax + 0.5 * fcor * rmax**2) * (\n"
     ]
    },
    {
     "name": "stdout",
     "output_type": "stream",
     "text": [
      "'ER11_radprof_raw'  0.38772 s \n",
      "\n",
      "[  657489.99647486   658165.037539     658840.07860314 ...\n",
      " 33749353.04287171 33750028.08393586 33750703.125     ]\n"
     ]
    },
    {
     "name": "stderr",
     "output_type": "stream",
     "text": [
      "/Users/simon/tcpips/chavas15/er11/radprof_raw.py:51: RuntimeWarning: divide by zero encountered in divide\n",
      "  V_ER11 = (1 / rr_ER11) * (Vmax * rmax + 0.5 * fcor * rmax**2) * (\n",
      "/Users/simon/tcpips/chavas15/er11/radprof_raw.py:51: RuntimeWarning: invalid value encountered in multiply\n",
      "  V_ER11 = (1 / rr_ER11) * (Vmax * rmax + 0.5 * fcor * rmax**2) * (\n"
     ]
    },
    {
     "name": "stdout",
     "output_type": "stream",
     "text": [
      "'ER11_radprof_raw'  0.38426 s \n",
      "\n",
      "[  672340.899886     673015.94095014   673690.98201428 ...\n",
      " 33749353.04287171 33750028.08393586 33750703.125     ]\n"
     ]
    },
    {
     "name": "stderr",
     "output_type": "stream",
     "text": [
      "/Users/simon/tcpips/chavas15/er11/radprof_raw.py:51: RuntimeWarning: divide by zero encountered in divide\n",
      "  V_ER11 = (1 / rr_ER11) * (Vmax * rmax + 0.5 * fcor * rmax**2) * (\n",
      "/Users/simon/tcpips/chavas15/er11/radprof_raw.py:51: RuntimeWarning: invalid value encountered in multiply\n",
      "  V_ER11 = (1 / rr_ER11) * (Vmax * rmax + 0.5 * fcor * rmax**2) * (\n"
     ]
    },
    {
     "name": "stdout",
     "output_type": "stream",
     "text": [
      "'ER11_radprof_raw'  0.37839 s \n",
      "\n",
      "[  675041.06414257   675716.10520671   676391.14627085 ...\n",
      " 33749353.04287171 33750028.08393586 33750703.125     ]\n"
     ]
    },
    {
     "name": "stderr",
     "output_type": "stream",
     "text": [
      "/Users/simon/tcpips/chavas15/er11/radprof_raw.py:51: RuntimeWarning: divide by zero encountered in divide\n",
      "  V_ER11 = (1 / rr_ER11) * (Vmax * rmax + 0.5 * fcor * rmax**2) * (\n",
      "/Users/simon/tcpips/chavas15/er11/radprof_raw.py:51: RuntimeWarning: invalid value encountered in multiply\n",
      "  V_ER11 = (1 / rr_ER11) * (Vmax * rmax + 0.5 * fcor * rmax**2) * (\n"
     ]
    },
    {
     "name": "stdout",
     "output_type": "stream",
     "text": [
      "'ER11_radprof_raw'  0.37653 s \n",
      "\n"
     ]
    },
    {
     "name": "stderr",
     "output_type": "stream",
     "text": [
      "/Users/simon/tcpips/chavas15/er11/radprof_raw.py:51: RuntimeWarning: divide by zero encountered in divide\n",
      "  V_ER11 = (1 / rr_ER11) * (Vmax * rmax + 0.5 * fcor * rmax**2) * (\n",
      "/Users/simon/tcpips/chavas15/er11/radprof_raw.py:51: RuntimeWarning: invalid value encountered in multiply\n",
      "  V_ER11 = (1 / rr_ER11) * (Vmax * rmax + 0.5 * fcor * rmax**2) * (\n"
     ]
    },
    {
     "name": "stdout",
     "output_type": "stream",
     "text": [
      "[  675716.10520671   676391.14627085   677066.18733499 ...\n",
      " 33749353.04287171 33750028.08393586 33750703.125     ]\n",
      "'ER11_radprof_raw'  0.38057 s \n",
      "\n",
      "'ER11_radprof'  3.17326 s \n",
      "\n",
      "intersection sizes 1000 1334 1334000\n",
      "'curveintersect'  2.11040 s \n",
      "\n",
      "Large storm detected. Increasing drfracrm.\n",
      "dr =  675.0340326113044\n",
      "[  593354.91466534   594029.94869795   594704.98273056 ...\n",
      " 33749001.49443477 33749676.52846738 33750351.56249999]\n"
     ]
    },
    {
     "name": "stderr",
     "output_type": "stream",
     "text": [
      "/Users/simon/tcpips/chavas15/er11/radprof_raw.py:51: RuntimeWarning: divide by zero encountered in divide\n",
      "  V_ER11 = (1 / rr_ER11) * (Vmax * rmax + 0.5 * fcor * rmax**2) * (\n",
      "/Users/simon/tcpips/chavas15/er11/radprof_raw.py:51: RuntimeWarning: invalid value encountered in multiply\n",
      "  V_ER11 = (1 / rr_ER11) * (Vmax * rmax + 0.5 * fcor * rmax**2) * (\n"
     ]
    },
    {
     "name": "stdout",
     "output_type": "stream",
     "text": [
      "'ER11_radprof_raw'  0.37437 s \n",
      "\n",
      "[  657483.14776341   658158.18179602   658833.21582863 ...\n",
      " 33749001.49443477 33749676.52846738 33750351.56249999]\n"
     ]
    },
    {
     "name": "stderr",
     "output_type": "stream",
     "text": [
      "/Users/simon/tcpips/chavas15/er11/radprof_raw.py:51: RuntimeWarning: divide by zero encountered in divide\n",
      "  V_ER11 = (1 / rr_ER11) * (Vmax * rmax + 0.5 * fcor * rmax**2) * (\n",
      "/Users/simon/tcpips/chavas15/er11/radprof_raw.py:51: RuntimeWarning: invalid value encountered in multiply\n",
      "  V_ER11 = (1 / rr_ER11) * (Vmax * rmax + 0.5 * fcor * rmax**2) * (\n"
     ]
    },
    {
     "name": "stdout",
     "output_type": "stream",
     "text": [
      "'ER11_radprof_raw'  0.37400 s \n",
      "\n",
      "[  657483.14776341   658158.18179602   658833.21582863 ...\n",
      " 33749001.49443477 33749676.52846738 33750351.56249999]\n"
     ]
    },
    {
     "name": "stderr",
     "output_type": "stream",
     "text": [
      "/Users/simon/tcpips/chavas15/er11/radprof_raw.py:51: RuntimeWarning: divide by zero encountered in divide\n",
      "  V_ER11 = (1 / rr_ER11) * (Vmax * rmax + 0.5 * fcor * rmax**2) * (\n",
      "/Users/simon/tcpips/chavas15/er11/radprof_raw.py:51: RuntimeWarning: invalid value encountered in multiply\n",
      "  V_ER11 = (1 / rr_ER11) * (Vmax * rmax + 0.5 * fcor * rmax**2) * (\n"
     ]
    },
    {
     "name": "stdout",
     "output_type": "stream",
     "text": [
      "'ER11_radprof_raw'  0.36190 s \n",
      "\n",
      "[  672333.89648086   673008.93051347   673683.96454608 ...\n",
      " 33749001.49443477 33749676.52846738 33750351.56249999]\n"
     ]
    },
    {
     "name": "stderr",
     "output_type": "stream",
     "text": [
      "/Users/simon/tcpips/chavas15/er11/radprof_raw.py:51: RuntimeWarning: divide by zero encountered in divide\n",
      "  V_ER11 = (1 / rr_ER11) * (Vmax * rmax + 0.5 * fcor * rmax**2) * (\n",
      "/Users/simon/tcpips/chavas15/er11/radprof_raw.py:51: RuntimeWarning: invalid value encountered in multiply\n",
      "  V_ER11 = (1 / rr_ER11) * (Vmax * rmax + 0.5 * fcor * rmax**2) * (\n"
     ]
    },
    {
     "name": "stdout",
     "output_type": "stream",
     "text": [
      "'ER11_radprof_raw'  0.37558 s \n",
      "\n",
      "[  675034.0326113    675709.06664392   676384.10067653 ...\n",
      " 33749001.49443477 33749676.52846738 33750351.56249999]\n"
     ]
    },
    {
     "name": "stderr",
     "output_type": "stream",
     "text": [
      "/Users/simon/tcpips/chavas15/er11/radprof_raw.py:51: RuntimeWarning: divide by zero encountered in divide\n",
      "  V_ER11 = (1 / rr_ER11) * (Vmax * rmax + 0.5 * fcor * rmax**2) * (\n",
      "/Users/simon/tcpips/chavas15/er11/radprof_raw.py:51: RuntimeWarning: invalid value encountered in multiply\n",
      "  V_ER11 = (1 / rr_ER11) * (Vmax * rmax + 0.5 * fcor * rmax**2) * (\n"
     ]
    },
    {
     "name": "stdout",
     "output_type": "stream",
     "text": [
      "'ER11_radprof_raw'  0.37028 s \n",
      "\n",
      "[  675709.06664392   676384.10067653   677059.13470914 ...\n",
      " 33749001.49443477 33749676.52846738 33750351.56249999]\n"
     ]
    },
    {
     "name": "stderr",
     "output_type": "stream",
     "text": [
      "/Users/simon/tcpips/chavas15/er11/radprof_raw.py:51: RuntimeWarning: divide by zero encountered in divide\n",
      "  V_ER11 = (1 / rr_ER11) * (Vmax * rmax + 0.5 * fcor * rmax**2) * (\n",
      "/Users/simon/tcpips/chavas15/er11/radprof_raw.py:51: RuntimeWarning: invalid value encountered in multiply\n",
      "  V_ER11 = (1 / rr_ER11) * (Vmax * rmax + 0.5 * fcor * rmax**2) * (\n"
     ]
    },
    {
     "name": "stdout",
     "output_type": "stream",
     "text": [
      "'ER11_radprof_raw'  0.37828 s \n",
      "\n",
      "'ER11_radprof'  2.84991 s \n",
      "\n",
      "intersection sizes 1000 1334 1334000\n",
      "'curveintersect'  2.10894 s \n",
      "\n",
      "Large storm detected. Increasing drfracrm.\n",
      "dr =  675.0305168456738\n",
      "[  593351.82430735   594026.85482419   594701.88534104 ...\n",
      " 33748825.7202163  33749500.75073315 33750175.78124999]\n"
     ]
    },
    {
     "name": "stderr",
     "output_type": "stream",
     "text": [
      "/Users/simon/tcpips/chavas15/er11/radprof_raw.py:51: RuntimeWarning: divide by zero encountered in divide\n",
      "  V_ER11 = (1 / rr_ER11) * (Vmax * rmax + 0.5 * fcor * rmax**2) * (\n",
      "/Users/simon/tcpips/chavas15/er11/radprof_raw.py:51: RuntimeWarning: invalid value encountered in multiply\n",
      "  V_ER11 = (1 / rr_ER11) * (Vmax * rmax + 0.5 * fcor * rmax**2) * (\n"
     ]
    },
    {
     "name": "stdout",
     "output_type": "stream",
     "text": [
      "'ER11_radprof_raw'  0.37537 s \n",
      "\n",
      "[  657479.72340769   658154.75392453   658829.78444138 ...\n",
      " 33748825.7202163  33749500.75073315 33750175.78124999]\n"
     ]
    },
    {
     "name": "stderr",
     "output_type": "stream",
     "text": [
      "/Users/simon/tcpips/chavas15/er11/radprof_raw.py:51: RuntimeWarning: divide by zero encountered in divide\n",
      "  V_ER11 = (1 / rr_ER11) * (Vmax * rmax + 0.5 * fcor * rmax**2) * (\n",
      "/Users/simon/tcpips/chavas15/er11/radprof_raw.py:51: RuntimeWarning: invalid value encountered in multiply\n",
      "  V_ER11 = (1 / rr_ER11) * (Vmax * rmax + 0.5 * fcor * rmax**2) * (\n"
     ]
    },
    {
     "name": "stdout",
     "output_type": "stream",
     "text": [
      "'ER11_radprof_raw'  0.65519 s \n",
      "\n",
      "[  657479.72340769   658154.75392453   658829.78444138 ...\n",
      " 33748825.7202163  33749500.75073315 33750175.78124999]\n"
     ]
    },
    {
     "name": "stderr",
     "output_type": "stream",
     "text": [
      "/Users/simon/tcpips/chavas15/er11/radprof_raw.py:51: RuntimeWarning: divide by zero encountered in divide\n",
      "  V_ER11 = (1 / rr_ER11) * (Vmax * rmax + 0.5 * fcor * rmax**2) * (\n",
      "/Users/simon/tcpips/chavas15/er11/radprof_raw.py:51: RuntimeWarning: invalid value encountered in multiply\n",
      "  V_ER11 = (1 / rr_ER11) * (Vmax * rmax + 0.5 * fcor * rmax**2) * (\n"
     ]
    },
    {
     "name": "stdout",
     "output_type": "stream",
     "text": [
      "'ER11_radprof_raw'  0.40688 s \n",
      "\n",
      "[  672330.39477829   673005.42529514   673680.45581198 ...\n",
      " 33748825.7202163  33749500.75073315 33750175.78124999]\n"
     ]
    },
    {
     "name": "stderr",
     "output_type": "stream",
     "text": [
      "/Users/simon/tcpips/chavas15/er11/radprof_raw.py:51: RuntimeWarning: divide by zero encountered in divide\n",
      "  V_ER11 = (1 / rr_ER11) * (Vmax * rmax + 0.5 * fcor * rmax**2) * (\n",
      "/Users/simon/tcpips/chavas15/er11/radprof_raw.py:51: RuntimeWarning: invalid value encountered in multiply\n",
      "  V_ER11 = (1 / rr_ER11) * (Vmax * rmax + 0.5 * fcor * rmax**2) * (\n"
     ]
    },
    {
     "name": "stdout",
     "output_type": "stream",
     "text": [
      "'ER11_radprof_raw'  0.38266 s \n",
      "\n",
      "[  675030.51684567   675705.54736252   676380.57787937 ...\n",
      " 33748825.7202163  33749500.75073315 33750175.78124999]\n"
     ]
    },
    {
     "name": "stderr",
     "output_type": "stream",
     "text": [
      "/Users/simon/tcpips/chavas15/er11/radprof_raw.py:51: RuntimeWarning: divide by zero encountered in divide\n",
      "  V_ER11 = (1 / rr_ER11) * (Vmax * rmax + 0.5 * fcor * rmax**2) * (\n",
      "/Users/simon/tcpips/chavas15/er11/radprof_raw.py:51: RuntimeWarning: invalid value encountered in multiply\n",
      "  V_ER11 = (1 / rr_ER11) * (Vmax * rmax + 0.5 * fcor * rmax**2) * (\n"
     ]
    },
    {
     "name": "stdout",
     "output_type": "stream",
     "text": [
      "'ER11_radprof_raw'  0.38962 s \n",
      "\n",
      "[  675705.54736252   676380.57787937   677055.60839621 ...\n",
      " 33748825.7202163  33749500.75073315 33750175.78124999]\n"
     ]
    },
    {
     "name": "stderr",
     "output_type": "stream",
     "text": [
      "/Users/simon/tcpips/chavas15/er11/radprof_raw.py:51: RuntimeWarning: divide by zero encountered in divide\n",
      "  V_ER11 = (1 / rr_ER11) * (Vmax * rmax + 0.5 * fcor * rmax**2) * (\n",
      "/Users/simon/tcpips/chavas15/er11/radprof_raw.py:51: RuntimeWarning: invalid value encountered in multiply\n",
      "  V_ER11 = (1 / rr_ER11) * (Vmax * rmax + 0.5 * fcor * rmax**2) * (\n"
     ]
    },
    {
     "name": "stdout",
     "output_type": "stream",
     "text": [
      "'ER11_radprof_raw'  0.38347 s \n",
      "\n",
      "'ER11_radprof'  3.20335 s \n",
      "\n",
      "intersection sizes 1000 1334 1334000\n",
      "'curveintersect'  2.10492 s \n",
      "\n",
      "Large storm detected. Increasing drfracrm.\n",
      "dr =  675.0287589628585\n",
      "[  593350.27912835   594025.30788732   594700.33664628 ...\n",
      " 33748737.83310708 33749412.86186603 33750087.890625  ]\n"
     ]
    },
    {
     "name": "stderr",
     "output_type": "stream",
     "text": [
      "/Users/simon/tcpips/chavas15/er11/radprof_raw.py:51: RuntimeWarning: divide by zero encountered in divide\n",
      "  V_ER11 = (1 / rr_ER11) * (Vmax * rmax + 0.5 * fcor * rmax**2) * (\n",
      "/Users/simon/tcpips/chavas15/er11/radprof_raw.py:51: RuntimeWarning: invalid value encountered in multiply\n",
      "  V_ER11 = (1 / rr_ER11) * (Vmax * rmax + 0.5 * fcor * rmax**2) * (\n"
     ]
    },
    {
     "name": "stdout",
     "output_type": "stream",
     "text": [
      "'ER11_radprof_raw'  0.36577 s \n",
      "\n",
      "[  657478.01122982   658153.03998879   658828.06874775 ...\n",
      " 33748737.83310708 33749412.86186603 33750087.890625  ]\n"
     ]
    },
    {
     "name": "stderr",
     "output_type": "stream",
     "text": [
      "/Users/simon/tcpips/chavas15/er11/radprof_raw.py:51: RuntimeWarning: divide by zero encountered in divide\n",
      "  V_ER11 = (1 / rr_ER11) * (Vmax * rmax + 0.5 * fcor * rmax**2) * (\n",
      "/Users/simon/tcpips/chavas15/er11/radprof_raw.py:51: RuntimeWarning: invalid value encountered in multiply\n",
      "  V_ER11 = (1 / rr_ER11) * (Vmax * rmax + 0.5 * fcor * rmax**2) * (\n"
     ]
    },
    {
     "name": "stdout",
     "output_type": "stream",
     "text": [
      "'ER11_radprof_raw'  0.38381 s \n",
      "\n",
      "[  657478.01122982   658153.03998879   658828.06874775 ...\n",
      " 33748737.83310708 33749412.86186603 33750087.890625  ]\n"
     ]
    },
    {
     "name": "stderr",
     "output_type": "stream",
     "text": [
      "/Users/simon/tcpips/chavas15/er11/radprof_raw.py:51: RuntimeWarning: divide by zero encountered in divide\n",
      "  V_ER11 = (1 / rr_ER11) * (Vmax * rmax + 0.5 * fcor * rmax**2) * (\n",
      "/Users/simon/tcpips/chavas15/er11/radprof_raw.py:51: RuntimeWarning: invalid value encountered in multiply\n",
      "  V_ER11 = (1 / rr_ER11) * (Vmax * rmax + 0.5 * fcor * rmax**2) * (\n"
     ]
    },
    {
     "name": "stdout",
     "output_type": "stream",
     "text": [
      "'ER11_radprof_raw'  0.36625 s \n",
      "\n",
      "[  672328.64392701   673003.67268597   673678.70144493 ...\n",
      " 33748737.83310708 33749412.86186603 33750087.890625  ]\n"
     ]
    },
    {
     "name": "stderr",
     "output_type": "stream",
     "text": [
      "/Users/simon/tcpips/chavas15/er11/radprof_raw.py:51: RuntimeWarning: divide by zero encountered in divide\n",
      "  V_ER11 = (1 / rr_ER11) * (Vmax * rmax + 0.5 * fcor * rmax**2) * (\n",
      "/Users/simon/tcpips/chavas15/er11/radprof_raw.py:51: RuntimeWarning: invalid value encountered in multiply\n",
      "  V_ER11 = (1 / rr_ER11) * (Vmax * rmax + 0.5 * fcor * rmax**2) * (\n"
     ]
    },
    {
     "name": "stdout",
     "output_type": "stream",
     "text": [
      "'ER11_radprof_raw'  0.35560 s \n",
      "\n"
     ]
    },
    {
     "name": "stderr",
     "output_type": "stream",
     "text": [
      "/Users/simon/tcpips/chavas15/er11/radprof_raw.py:51: RuntimeWarning: divide by zero encountered in divide\n",
      "  V_ER11 = (1 / rr_ER11) * (Vmax * rmax + 0.5 * fcor * rmax**2) * (\n",
      "/Users/simon/tcpips/chavas15/er11/radprof_raw.py:51: RuntimeWarning: invalid value encountered in multiply\n",
      "  V_ER11 = (1 / rr_ER11) * (Vmax * rmax + 0.5 * fcor * rmax**2) * (\n"
     ]
    },
    {
     "name": "stdout",
     "output_type": "stream",
     "text": [
      "[  675028.75896286   675703.78772182   676378.81648078 ...\n",
      " 33748737.83310708 33749412.86186603 33750087.890625  ]\n",
      "'ER11_radprof_raw'  0.36607 s \n",
      "\n",
      "[  675703.78772182   676378.81648078   677053.84523975 ...\n",
      " 33748737.83310708 33749412.86186603 33750087.890625  ]\n"
     ]
    },
    {
     "name": "stderr",
     "output_type": "stream",
     "text": [
      "/Users/simon/tcpips/chavas15/er11/radprof_raw.py:51: RuntimeWarning: divide by zero encountered in divide\n",
      "  V_ER11 = (1 / rr_ER11) * (Vmax * rmax + 0.5 * fcor * rmax**2) * (\n",
      "/Users/simon/tcpips/chavas15/er11/radprof_raw.py:51: RuntimeWarning: invalid value encountered in multiply\n",
      "  V_ER11 = (1 / rr_ER11) * (Vmax * rmax + 0.5 * fcor * rmax**2) * (\n"
     ]
    },
    {
     "name": "stdout",
     "output_type": "stream",
     "text": [
      "'ER11_radprof_raw'  0.36229 s \n",
      "\n",
      "'ER11_radprof'  3.08826 s \n",
      "\n",
      "intersection sizes 1000 1334 1334000\n",
      "'curveintersect'  2.07562 s \n",
      "\n",
      "Adjusting CkCd to find convergence.\n",
      "Large storm detected. Increasing drfracrm.\n",
      "dr =  675.9270370814833\n",
      "[  598871.35485419   599547.28189128   600223.20892836 ...\n",
      " 33793648.14592583 33794324.07296292 33795000.        ]\n"
     ]
    },
    {
     "name": "stderr",
     "output_type": "stream",
     "text": [
      "/Users/simon/tcpips/chavas15/er11/radprof_raw.py:51: RuntimeWarning: divide by zero encountered in divide\n",
      "  V_ER11 = (1 / rr_ER11) * (Vmax * rmax + 0.5 * fcor * rmax**2) * (\n",
      "/Users/simon/tcpips/chavas15/er11/radprof_raw.py:51: RuntimeWarning: invalid value encountered in multiply\n",
      "  V_ER11 = (1 / rr_ER11) * (Vmax * rmax + 0.5 * fcor * rmax**2) * (\n"
     ]
    },
    {
     "name": "stdout",
     "output_type": "stream",
     "text": [
      "'ER11_radprof_raw'  0.37198 s \n",
      "\n",
      "[  660380.71522861   661056.64226569   661732.56930277 ...\n",
      " 33793648.14592583 33794324.07296292 33795000.        ]\n"
     ]
    },
    {
     "name": "stderr",
     "output_type": "stream",
     "text": [
      "/Users/simon/tcpips/chavas15/er11/radprof_raw.py:51: RuntimeWarning: divide by zero encountered in divide\n",
      "  V_ER11 = (1 / rr_ER11) * (Vmax * rmax + 0.5 * fcor * rmax**2) * (\n",
      "/Users/simon/tcpips/chavas15/er11/radprof_raw.py:51: RuntimeWarning: invalid value encountered in multiply\n",
      "  V_ER11 = (1 / rr_ER11) * (Vmax * rmax + 0.5 * fcor * rmax**2) * (\n"
     ]
    },
    {
     "name": "stdout",
     "output_type": "stream",
     "text": [
      "'ER11_radprof_raw'  0.37058 s \n",
      "\n",
      "[  660380.71522861   661056.64226569   661732.56930277 ...\n",
      " 33793648.14592583 33794324.07296292 33795000.        ]\n"
     ]
    },
    {
     "name": "stderr",
     "output_type": "stream",
     "text": [
      "/Users/simon/tcpips/chavas15/er11/radprof_raw.py:51: RuntimeWarning: divide by zero encountered in divide\n",
      "  V_ER11 = (1 / rr_ER11) * (Vmax * rmax + 0.5 * fcor * rmax**2) * (\n",
      "/Users/simon/tcpips/chavas15/er11/radprof_raw.py:51: RuntimeWarning: invalid value encountered in multiply\n",
      "  V_ER11 = (1 / rr_ER11) * (Vmax * rmax + 0.5 * fcor * rmax**2) * (\n"
     ]
    },
    {
     "name": "stdout",
     "output_type": "stream",
     "text": [
      "'ER11_radprof_raw'  0.37863 s \n",
      "\n",
      "[  673899.25597024   674575.18300732   675251.1100444  ...\n",
      " 33793648.14592583 33794324.07296292 33795000.        ]\n"
     ]
    },
    {
     "name": "stderr",
     "output_type": "stream",
     "text": [
      "/Users/simon/tcpips/chavas15/er11/radprof_raw.py:51: RuntimeWarning: divide by zero encountered in divide\n",
      "  V_ER11 = (1 / rr_ER11) * (Vmax * rmax + 0.5 * fcor * rmax**2) * (\n",
      "/Users/simon/tcpips/chavas15/er11/radprof_raw.py:51: RuntimeWarning: invalid value encountered in multiply\n",
      "  V_ER11 = (1 / rr_ER11) * (Vmax * rmax + 0.5 * fcor * rmax**2) * (\n"
     ]
    },
    {
     "name": "stdout",
     "output_type": "stream",
     "text": [
      "'ER11_radprof_raw'  0.36197 s \n",
      "\n",
      "[  675927.03708148   676602.96411856   677278.89115565 ...\n",
      " 33793648.14592583 33794324.07296292 33795000.        ]\n"
     ]
    },
    {
     "name": "stderr",
     "output_type": "stream",
     "text": [
      "/Users/simon/tcpips/chavas15/er11/radprof_raw.py:51: RuntimeWarning: divide by zero encountered in divide\n",
      "  V_ER11 = (1 / rr_ER11) * (Vmax * rmax + 0.5 * fcor * rmax**2) * (\n",
      "/Users/simon/tcpips/chavas15/er11/radprof_raw.py:51: RuntimeWarning: invalid value encountered in multiply\n",
      "  V_ER11 = (1 / rr_ER11) * (Vmax * rmax + 0.5 * fcor * rmax**2) * (\n"
     ]
    },
    {
     "name": "stdout",
     "output_type": "stream",
     "text": [
      "'ER11_radprof_raw'  0.36878 s \n",
      "\n",
      "[  675927.03708148   676602.96411856   677278.89115565 ...\n",
      " 33793648.14592583 33794324.07296292 33795000.        ]\n"
     ]
    },
    {
     "name": "stderr",
     "output_type": "stream",
     "text": [
      "/Users/simon/tcpips/chavas15/er11/radprof_raw.py:51: RuntimeWarning: divide by zero encountered in divide\n",
      "  V_ER11 = (1 / rr_ER11) * (Vmax * rmax + 0.5 * fcor * rmax**2) * (\n",
      "/Users/simon/tcpips/chavas15/er11/radprof_raw.py:51: RuntimeWarning: invalid value encountered in multiply\n",
      "  V_ER11 = (1 / rr_ER11) * (Vmax * rmax + 0.5 * fcor * rmax**2) * (\n"
     ]
    },
    {
     "name": "stdout",
     "output_type": "stream",
     "text": [
      "'ER11_radprof_raw'  0.38045 s \n",
      "\n",
      "[  676602.96411856   677278.89115565   677954.81819273 ...\n",
      " 33793648.14592583 33794324.07296292 33795000.        ]\n"
     ]
    },
    {
     "name": "stderr",
     "output_type": "stream",
     "text": [
      "/Users/simon/tcpips/chavas15/er11/radprof_raw.py:51: RuntimeWarning: divide by zero encountered in divide\n",
      "  V_ER11 = (1 / rr_ER11) * (Vmax * rmax + 0.5 * fcor * rmax**2) * (\n",
      "/Users/simon/tcpips/chavas15/er11/radprof_raw.py:51: RuntimeWarning: invalid value encountered in multiply\n",
      "  V_ER11 = (1 / rr_ER11) * (Vmax * rmax + 0.5 * fcor * rmax**2) * (\n"
     ]
    },
    {
     "name": "stdout",
     "output_type": "stream",
     "text": [
      "'ER11_radprof_raw'  0.66615 s \n",
      "\n",
      "'ER11_radprof'  3.65621 s \n",
      "\n",
      "intersection sizes 1000 1332 1332000\n",
      "'curveintersect'  2.07359 s \n",
      "\n",
      "Large storm detected. Increasing drfracrm.\n",
      "dr =  675.4770190807633\n",
      "[  598472.63890556   599148.11592464   599823.59294372 ...\n",
      " 33771149.04596184 33771824.52298092 33772500.        ]\n"
     ]
    },
    {
     "name": "stderr",
     "output_type": "stream",
     "text": [
      "/Users/simon/tcpips/chavas15/er11/radprof_raw.py:51: RuntimeWarning: divide by zero encountered in divide\n",
      "  V_ER11 = (1 / rr_ER11) * (Vmax * rmax + 0.5 * fcor * rmax**2) * (\n",
      "/Users/simon/tcpips/chavas15/er11/radprof_raw.py:51: RuntimeWarning: invalid value encountered in multiply\n",
      "  V_ER11 = (1 / rr_ER11) * (Vmax * rmax + 0.5 * fcor * rmax**2) * (\n"
     ]
    },
    {
     "name": "stdout",
     "output_type": "stream",
     "text": [
      "'ER11_radprof_raw'  0.43122 s \n",
      "\n",
      "[  659941.04764191   660616.52466099   661292.00168007 ...\n",
      " 33771149.04596184 33771824.52298092 33772500.        ]\n"
     ]
    },
    {
     "name": "stderr",
     "output_type": "stream",
     "text": [
      "/Users/simon/tcpips/chavas15/er11/radprof_raw.py:51: RuntimeWarning: divide by zero encountered in divide\n",
      "  V_ER11 = (1 / rr_ER11) * (Vmax * rmax + 0.5 * fcor * rmax**2) * (\n",
      "/Users/simon/tcpips/chavas15/er11/radprof_raw.py:51: RuntimeWarning: invalid value encountered in multiply\n",
      "  V_ER11 = (1 / rr_ER11) * (Vmax * rmax + 0.5 * fcor * rmax**2) * (\n"
     ]
    },
    {
     "name": "stdout",
     "output_type": "stream",
     "text": [
      "'ER11_radprof_raw'  0.41369 s \n",
      "\n",
      "[  659941.04764191   660616.52466099   661292.00168007 ...\n",
      " 33771149.04596184 33771824.52298092 33772500.        ]\n"
     ]
    },
    {
     "name": "stderr",
     "output_type": "stream",
     "text": [
      "/Users/simon/tcpips/chavas15/er11/radprof_raw.py:51: RuntimeWarning: divide by zero encountered in divide\n",
      "  V_ER11 = (1 / rr_ER11) * (Vmax * rmax + 0.5 * fcor * rmax**2) * (\n",
      "/Users/simon/tcpips/chavas15/er11/radprof_raw.py:51: RuntimeWarning: invalid value encountered in multiply\n",
      "  V_ER11 = (1 / rr_ER11) * (Vmax * rmax + 0.5 * fcor * rmax**2) * (\n"
     ]
    },
    {
     "name": "stdout",
     "output_type": "stream",
     "text": [
      "'ER11_radprof_raw'  0.40824 s \n",
      "\n",
      "[  673450.58802352   674126.0650426    674801.54206168 ...\n",
      " 33771149.04596184 33771824.52298092 33772500.        ]\n"
     ]
    },
    {
     "name": "stderr",
     "output_type": "stream",
     "text": [
      "/Users/simon/tcpips/chavas15/er11/radprof_raw.py:51: RuntimeWarning: divide by zero encountered in divide\n",
      "  V_ER11 = (1 / rr_ER11) * (Vmax * rmax + 0.5 * fcor * rmax**2) * (\n",
      "/Users/simon/tcpips/chavas15/er11/radprof_raw.py:51: RuntimeWarning: invalid value encountered in multiply\n",
      "  V_ER11 = (1 / rr_ER11) * (Vmax * rmax + 0.5 * fcor * rmax**2) * (\n"
     ]
    },
    {
     "name": "stdout",
     "output_type": "stream",
     "text": [
      "'ER11_radprof_raw'  0.40903 s \n",
      "\n",
      "[  675477.01908076   676152.49609984   676827.97311892 ...\n",
      " 33771149.04596184 33771824.52298092 33772500.        ]\n"
     ]
    },
    {
     "name": "stderr",
     "output_type": "stream",
     "text": [
      "/Users/simon/tcpips/chavas15/er11/radprof_raw.py:51: RuntimeWarning: divide by zero encountered in divide\n",
      "  V_ER11 = (1 / rr_ER11) * (Vmax * rmax + 0.5 * fcor * rmax**2) * (\n",
      "/Users/simon/tcpips/chavas15/er11/radprof_raw.py:51: RuntimeWarning: invalid value encountered in multiply\n",
      "  V_ER11 = (1 / rr_ER11) * (Vmax * rmax + 0.5 * fcor * rmax**2) * (\n"
     ]
    },
    {
     "name": "stdout",
     "output_type": "stream",
     "text": [
      "'ER11_radprof_raw'  0.41442 s \n",
      "\n",
      "[  676152.49609984   676827.97311892   677503.45013801 ...\n",
      " 33771149.04596184 33771824.52298092 33772500.        ]\n"
     ]
    },
    {
     "name": "stderr",
     "output_type": "stream",
     "text": [
      "/Users/simon/tcpips/chavas15/er11/radprof_raw.py:51: RuntimeWarning: divide by zero encountered in divide\n",
      "  V_ER11 = (1 / rr_ER11) * (Vmax * rmax + 0.5 * fcor * rmax**2) * (\n",
      "/Users/simon/tcpips/chavas15/er11/radprof_raw.py:51: RuntimeWarning: invalid value encountered in multiply\n",
      "  V_ER11 = (1 / rr_ER11) * (Vmax * rmax + 0.5 * fcor * rmax**2) * (\n"
     ]
    },
    {
     "name": "stdout",
     "output_type": "stream",
     "text": [
      "'ER11_radprof_raw'  0.41865 s \n",
      "\n",
      "'ER11_radprof'  3.11432 s \n",
      "\n",
      "intersection sizes 1000 1333 1333000\n",
      "'curveintersect'  2.08463 s \n",
      "\n",
      "Large storm detected. Increasing drfracrm.\n",
      "dr =  675.2520100804032\n",
      "[  598273.28093124   598948.53294132   599623.7849514  ...\n",
      " 33759899.49597984 33760574.74798992 33761250.        ]\n"
     ]
    },
    {
     "name": "stderr",
     "output_type": "stream",
     "text": [
      "/Users/simon/tcpips/chavas15/er11/radprof_raw.py:51: RuntimeWarning: divide by zero encountered in divide\n",
      "  V_ER11 = (1 / rr_ER11) * (Vmax * rmax + 0.5 * fcor * rmax**2) * (\n",
      "/Users/simon/tcpips/chavas15/er11/radprof_raw.py:51: RuntimeWarning: invalid value encountered in multiply\n",
      "  V_ER11 = (1 / rr_ER11) * (Vmax * rmax + 0.5 * fcor * rmax**2) * (\n"
     ]
    },
    {
     "name": "stdout",
     "output_type": "stream",
     "text": [
      "'ER11_radprof_raw'  0.38091 s \n",
      "\n",
      "[  659721.21384855   660396.46585863   661071.71786871 ...\n",
      " 33759899.49597984 33760574.74798992 33761250.        ]\n"
     ]
    },
    {
     "name": "stderr",
     "output_type": "stream",
     "text": [
      "/Users/simon/tcpips/chavas15/er11/radprof_raw.py:51: RuntimeWarning: divide by zero encountered in divide\n",
      "  V_ER11 = (1 / rr_ER11) * (Vmax * rmax + 0.5 * fcor * rmax**2) * (\n",
      "/Users/simon/tcpips/chavas15/er11/radprof_raw.py:51: RuntimeWarning: invalid value encountered in multiply\n",
      "  V_ER11 = (1 / rr_ER11) * (Vmax * rmax + 0.5 * fcor * rmax**2) * (\n"
     ]
    },
    {
     "name": "stdout",
     "output_type": "stream",
     "text": [
      "'ER11_radprof_raw'  0.38717 s \n",
      "\n",
      "[  659721.21384855   660396.46585863   661071.71786871 ...\n",
      " 33759899.49597984 33760574.74798992 33761250.        ]\n"
     ]
    },
    {
     "name": "stderr",
     "output_type": "stream",
     "text": [
      "/Users/simon/tcpips/chavas15/er11/radprof_raw.py:51: RuntimeWarning: divide by zero encountered in divide\n",
      "  V_ER11 = (1 / rr_ER11) * (Vmax * rmax + 0.5 * fcor * rmax**2) * (\n",
      "/Users/simon/tcpips/chavas15/er11/radprof_raw.py:51: RuntimeWarning: invalid value encountered in multiply\n",
      "  V_ER11 = (1 / rr_ER11) * (Vmax * rmax + 0.5 * fcor * rmax**2) * (\n"
     ]
    },
    {
     "name": "stdout",
     "output_type": "stream",
     "text": [
      "'ER11_radprof_raw'  0.66549 s \n",
      "\n",
      "[  673226.25405016   673901.50606024   674576.75807032 ...\n",
      " 33759899.49597984 33760574.74798992 33761250.        ]\n"
     ]
    },
    {
     "name": "stderr",
     "output_type": "stream",
     "text": [
      "/Users/simon/tcpips/chavas15/er11/radprof_raw.py:51: RuntimeWarning: divide by zero encountered in divide\n",
      "  V_ER11 = (1 / rr_ER11) * (Vmax * rmax + 0.5 * fcor * rmax**2) * (\n",
      "/Users/simon/tcpips/chavas15/er11/radprof_raw.py:51: RuntimeWarning: invalid value encountered in multiply\n",
      "  V_ER11 = (1 / rr_ER11) * (Vmax * rmax + 0.5 * fcor * rmax**2) * (\n"
     ]
    },
    {
     "name": "stdout",
     "output_type": "stream",
     "text": [
      "'ER11_radprof_raw'  0.38498 s \n",
      "\n",
      "[  675252.0100804    675927.26209048   676602.51410056 ...\n",
      " 33759899.49597984 33760574.74798992 33761250.        ]\n"
     ]
    },
    {
     "name": "stderr",
     "output_type": "stream",
     "text": [
      "/Users/simon/tcpips/chavas15/er11/radprof_raw.py:51: RuntimeWarning: divide by zero encountered in divide\n",
      "  V_ER11 = (1 / rr_ER11) * (Vmax * rmax + 0.5 * fcor * rmax**2) * (\n",
      "/Users/simon/tcpips/chavas15/er11/radprof_raw.py:51: RuntimeWarning: invalid value encountered in multiply\n",
      "  V_ER11 = (1 / rr_ER11) * (Vmax * rmax + 0.5 * fcor * rmax**2) * (\n"
     ]
    },
    {
     "name": "stdout",
     "output_type": "stream",
     "text": [
      "'ER11_radprof_raw'  0.38865 s \n",
      "\n",
      "[  675927.26209048   676602.51410056   677277.76611064 ...\n",
      " 33759899.49597984 33760574.74798992 33761250.        ]\n"
     ]
    },
    {
     "name": "stderr",
     "output_type": "stream",
     "text": [
      "/Users/simon/tcpips/chavas15/er11/radprof_raw.py:51: RuntimeWarning: divide by zero encountered in divide\n",
      "  V_ER11 = (1 / rr_ER11) * (Vmax * rmax + 0.5 * fcor * rmax**2) * (\n",
      "/Users/simon/tcpips/chavas15/er11/radprof_raw.py:51: RuntimeWarning: invalid value encountered in multiply\n",
      "  V_ER11 = (1 / rr_ER11) * (Vmax * rmax + 0.5 * fcor * rmax**2) * (\n"
     ]
    },
    {
     "name": "stdout",
     "output_type": "stream",
     "text": [
      "'ER11_radprof_raw'  0.38742 s \n",
      "\n",
      "'ER11_radprof'  3.22588 s \n",
      "\n",
      "intersection sizes 1000 1333 1333000\n",
      "'curveintersect'  2.10654 s \n",
      "\n",
      "Large storm detected. Increasing drfracrm.\n",
      "dr =  675.1395055802232\n",
      "[  598173.60194408   598848.74144966   599523.88095524 ...\n",
      " 33754274.72098883 33754949.86049441 33755624.99999999]\n"
     ]
    },
    {
     "name": "stderr",
     "output_type": "stream",
     "text": [
      "/Users/simon/tcpips/chavas15/er11/radprof_raw.py:51: RuntimeWarning: divide by zero encountered in divide\n",
      "  V_ER11 = (1 / rr_ER11) * (Vmax * rmax + 0.5 * fcor * rmax**2) * (\n",
      "/Users/simon/tcpips/chavas15/er11/radprof_raw.py:51: RuntimeWarning: invalid value encountered in multiply\n",
      "  V_ER11 = (1 / rr_ER11) * (Vmax * rmax + 0.5 * fcor * rmax**2) * (\n"
     ]
    },
    {
     "name": "stdout",
     "output_type": "stream",
     "text": [
      "'ER11_radprof_raw'  0.38292 s \n",
      "\n",
      "[  659611.29695188   660286.43645746   660961.57596304 ...\n",
      " 33754274.72098883 33754949.86049441 33755624.99999999]\n"
     ]
    },
    {
     "name": "stderr",
     "output_type": "stream",
     "text": [
      "/Users/simon/tcpips/chavas15/er11/radprof_raw.py:51: RuntimeWarning: divide by zero encountered in divide\n",
      "  V_ER11 = (1 / rr_ER11) * (Vmax * rmax + 0.5 * fcor * rmax**2) * (\n",
      "/Users/simon/tcpips/chavas15/er11/radprof_raw.py:51: RuntimeWarning: invalid value encountered in multiply\n",
      "  V_ER11 = (1 / rr_ER11) * (Vmax * rmax + 0.5 * fcor * rmax**2) * (\n"
     ]
    },
    {
     "name": "stdout",
     "output_type": "stream",
     "text": [
      "'ER11_radprof_raw'  0.38689 s \n",
      "\n",
      "[  659611.29695188   660286.43645746   660961.57596304 ...\n",
      " 33754274.72098883 33754949.86049441 33755624.99999999]\n"
     ]
    },
    {
     "name": "stderr",
     "output_type": "stream",
     "text": [
      "/Users/simon/tcpips/chavas15/er11/radprof_raw.py:51: RuntimeWarning: divide by zero encountered in divide\n",
      "  V_ER11 = (1 / rr_ER11) * (Vmax * rmax + 0.5 * fcor * rmax**2) * (\n",
      "/Users/simon/tcpips/chavas15/er11/radprof_raw.py:51: RuntimeWarning: invalid value encountered in multiply\n",
      "  V_ER11 = (1 / rr_ER11) * (Vmax * rmax + 0.5 * fcor * rmax**2) * (\n"
     ]
    },
    {
     "name": "stdout",
     "output_type": "stream",
     "text": [
      "'ER11_radprof_raw'  0.37200 s \n",
      "\n",
      "[  673114.08706348   673789.22656906   674464.36607464 ...\n",
      " 33754274.72098883 33754949.86049441 33755624.99999999]\n"
     ]
    },
    {
     "name": "stderr",
     "output_type": "stream",
     "text": [
      "/Users/simon/tcpips/chavas15/er11/radprof_raw.py:51: RuntimeWarning: divide by zero encountered in divide\n",
      "  V_ER11 = (1 / rr_ER11) * (Vmax * rmax + 0.5 * fcor * rmax**2) * (\n",
      "/Users/simon/tcpips/chavas15/er11/radprof_raw.py:51: RuntimeWarning: invalid value encountered in multiply\n",
      "  V_ER11 = (1 / rr_ER11) * (Vmax * rmax + 0.5 * fcor * rmax**2) * (\n"
     ]
    },
    {
     "name": "stdout",
     "output_type": "stream",
     "text": [
      "'ER11_radprof_raw'  0.37373 s \n",
      "\n",
      "[  675139.50558022   675814.6450858    676489.78459138 ...\n",
      " 33754274.72098883 33754949.86049441 33755624.99999999]\n"
     ]
    },
    {
     "name": "stderr",
     "output_type": "stream",
     "text": [
      "/Users/simon/tcpips/chavas15/er11/radprof_raw.py:51: RuntimeWarning: divide by zero encountered in divide\n",
      "  V_ER11 = (1 / rr_ER11) * (Vmax * rmax + 0.5 * fcor * rmax**2) * (\n",
      "/Users/simon/tcpips/chavas15/er11/radprof_raw.py:51: RuntimeWarning: invalid value encountered in multiply\n",
      "  V_ER11 = (1 / rr_ER11) * (Vmax * rmax + 0.5 * fcor * rmax**2) * (\n"
     ]
    },
    {
     "name": "stdout",
     "output_type": "stream",
     "text": [
      "'ER11_radprof_raw'  0.67262 s \n",
      "\n",
      "[  675814.6450858    676489.78459138   677164.92409696 ...\n",
      " 33754274.72098883 33754949.86049441 33755624.99999999]\n"
     ]
    },
    {
     "name": "stderr",
     "output_type": "stream",
     "text": [
      "/Users/simon/tcpips/chavas15/er11/radprof_raw.py:51: RuntimeWarning: divide by zero encountered in divide\n",
      "  V_ER11 = (1 / rr_ER11) * (Vmax * rmax + 0.5 * fcor * rmax**2) * (\n",
      "/Users/simon/tcpips/chavas15/er11/radprof_raw.py:51: RuntimeWarning: invalid value encountered in multiply\n",
      "  V_ER11 = (1 / rr_ER11) * (Vmax * rmax + 0.5 * fcor * rmax**2) * (\n"
     ]
    },
    {
     "name": "stdout",
     "output_type": "stream",
     "text": [
      "'ER11_radprof_raw'  0.38412 s \n",
      "\n",
      "'ER11_radprof'  3.17836 s \n",
      "\n",
      "intersection sizes 1000 1334 1334000\n",
      "'curveintersect'  2.13872 s \n",
      "\n",
      "Large storm detected. Increasing drfracrm.\n",
      "dr =  675.0832533301333\n",
      "[  598123.7624505    598798.84570383   599473.92895716 ...\n",
      " 33751462.33349334 33752137.41674667 33752812.5       ]\n"
     ]
    },
    {
     "name": "stderr",
     "output_type": "stream",
     "text": [
      "/Users/simon/tcpips/chavas15/er11/radprof_raw.py:51: RuntimeWarning: divide by zero encountered in divide\n",
      "  V_ER11 = (1 / rr_ER11) * (Vmax * rmax + 0.5 * fcor * rmax**2) * (\n",
      "/Users/simon/tcpips/chavas15/er11/radprof_raw.py:51: RuntimeWarning: invalid value encountered in multiply\n",
      "  V_ER11 = (1 / rr_ER11) * (Vmax * rmax + 0.5 * fcor * rmax**2) * (\n"
     ]
    },
    {
     "name": "stdout",
     "output_type": "stream",
     "text": [
      "'ER11_radprof_raw'  0.37545 s \n",
      "\n",
      "[  659556.33850354   660231.42175687   660906.5050102  ...\n",
      " 33751462.33349334 33752137.41674667 33752812.5       ]\n"
     ]
    },
    {
     "name": "stderr",
     "output_type": "stream",
     "text": [
      "/Users/simon/tcpips/chavas15/er11/radprof_raw.py:51: RuntimeWarning: divide by zero encountered in divide\n",
      "  V_ER11 = (1 / rr_ER11) * (Vmax * rmax + 0.5 * fcor * rmax**2) * (\n",
      "/Users/simon/tcpips/chavas15/er11/radprof_raw.py:51: RuntimeWarning: invalid value encountered in multiply\n",
      "  V_ER11 = (1 / rr_ER11) * (Vmax * rmax + 0.5 * fcor * rmax**2) * (\n"
     ]
    },
    {
     "name": "stdout",
     "output_type": "stream",
     "text": [
      "'ER11_radprof_raw'  0.37318 s \n",
      "\n",
      "[  659556.33850354   660231.42175687   660906.5050102  ...\n",
      " 33751462.33349334 33752137.41674667 33752812.5       ]\n"
     ]
    },
    {
     "name": "stderr",
     "output_type": "stream",
     "text": [
      "/Users/simon/tcpips/chavas15/er11/radprof_raw.py:51: RuntimeWarning: divide by zero encountered in divide\n",
      "  V_ER11 = (1 / rr_ER11) * (Vmax * rmax + 0.5 * fcor * rmax**2) * (\n",
      "/Users/simon/tcpips/chavas15/er11/radprof_raw.py:51: RuntimeWarning: invalid value encountered in multiply\n",
      "  V_ER11 = (1 / rr_ER11) * (Vmax * rmax + 0.5 * fcor * rmax**2) * (\n"
     ]
    },
    {
     "name": "stdout",
     "output_type": "stream",
     "text": [
      "'ER11_radprof_raw'  0.35872 s \n",
      "\n",
      "[  673058.00357014   673733.08682347   674408.1700768  ...\n",
      " 33751462.33349334 33752137.41674667 33752812.5       ]\n"
     ]
    },
    {
     "name": "stderr",
     "output_type": "stream",
     "text": [
      "/Users/simon/tcpips/chavas15/er11/radprof_raw.py:51: RuntimeWarning: divide by zero encountered in divide\n",
      "  V_ER11 = (1 / rr_ER11) * (Vmax * rmax + 0.5 * fcor * rmax**2) * (\n",
      "/Users/simon/tcpips/chavas15/er11/radprof_raw.py:51: RuntimeWarning: invalid value encountered in multiply\n",
      "  V_ER11 = (1 / rr_ER11) * (Vmax * rmax + 0.5 * fcor * rmax**2) * (\n"
     ]
    },
    {
     "name": "stdout",
     "output_type": "stream",
     "text": [
      "'ER11_radprof_raw'  0.37999 s \n",
      "\n",
      "[  675083.25333013   675758.33658346   676433.41983679 ...\n",
      " 33751462.33349334 33752137.41674667 33752812.5       ]\n"
     ]
    },
    {
     "name": "stderr",
     "output_type": "stream",
     "text": [
      "/Users/simon/tcpips/chavas15/er11/radprof_raw.py:51: RuntimeWarning: divide by zero encountered in divide\n",
      "  V_ER11 = (1 / rr_ER11) * (Vmax * rmax + 0.5 * fcor * rmax**2) * (\n",
      "/Users/simon/tcpips/chavas15/er11/radprof_raw.py:51: RuntimeWarning: invalid value encountered in multiply\n",
      "  V_ER11 = (1 / rr_ER11) * (Vmax * rmax + 0.5 * fcor * rmax**2) * (\n"
     ]
    },
    {
     "name": "stdout",
     "output_type": "stream",
     "text": [
      "'ER11_radprof_raw'  0.36338 s \n",
      "\n",
      "[  675758.33658346   676433.41983679   677108.50309012 ...\n",
      " 33751462.33349334 33752137.41674667 33752812.5       ]\n"
     ]
    },
    {
     "name": "stderr",
     "output_type": "stream",
     "text": [
      "/Users/simon/tcpips/chavas15/er11/radprof_raw.py:51: RuntimeWarning: divide by zero encountered in divide\n",
      "  V_ER11 = (1 / rr_ER11) * (Vmax * rmax + 0.5 * fcor * rmax**2) * (\n",
      "/Users/simon/tcpips/chavas15/er11/radprof_raw.py:51: RuntimeWarning: invalid value encountered in multiply\n",
      "  V_ER11 = (1 / rr_ER11) * (Vmax * rmax + 0.5 * fcor * rmax**2) * (\n"
     ]
    },
    {
     "name": "stdout",
     "output_type": "stream",
     "text": [
      "'ER11_radprof_raw'  0.37026 s \n",
      "\n",
      "'ER11_radprof'  2.82326 s \n",
      "\n",
      "intersection sizes 1000 1334 1334000\n",
      "'curveintersect'  2.15278 s \n",
      "\n",
      "Large storm detected. Increasing drfracrm.\n",
      "dr =  675.0551272050881\n",
      "[  598098.84270371   598773.89783091   599448.95295812 ...\n",
      " 33750056.13974559 33750731.19487279 33751406.24999999]\n"
     ]
    },
    {
     "name": "stderr",
     "output_type": "stream",
     "text": [
      "/Users/simon/tcpips/chavas15/er11/radprof_raw.py:51: RuntimeWarning: divide by zero encountered in divide\n",
      "  V_ER11 = (1 / rr_ER11) * (Vmax * rmax + 0.5 * fcor * rmax**2) * (\n",
      "/Users/simon/tcpips/chavas15/er11/radprof_raw.py:51: RuntimeWarning: invalid value encountered in multiply\n",
      "  V_ER11 = (1 / rr_ER11) * (Vmax * rmax + 0.5 * fcor * rmax**2) * (\n"
     ]
    },
    {
     "name": "stdout",
     "output_type": "stream",
     "text": [
      "'ER11_radprof_raw'  0.42403 s \n",
      "\n",
      "[  659528.85927937   660203.91440658   660878.96953378 ...\n",
      " 33750056.13974559 33750731.19487279 33751406.24999999]\n"
     ]
    },
    {
     "name": "stderr",
     "output_type": "stream",
     "text": [
      "/Users/simon/tcpips/chavas15/er11/radprof_raw.py:51: RuntimeWarning: divide by zero encountered in divide\n",
      "  V_ER11 = (1 / rr_ER11) * (Vmax * rmax + 0.5 * fcor * rmax**2) * (\n",
      "/Users/simon/tcpips/chavas15/er11/radprof_raw.py:51: RuntimeWarning: invalid value encountered in multiply\n",
      "  V_ER11 = (1 / rr_ER11) * (Vmax * rmax + 0.5 * fcor * rmax**2) * (\n"
     ]
    },
    {
     "name": "stdout",
     "output_type": "stream",
     "text": [
      "'ER11_radprof_raw'  0.71836 s \n",
      "\n",
      "[  659528.85927937   660203.91440658   660878.96953378 ...\n",
      " 33750056.13974559 33750731.19487279 33751406.24999999]\n"
     ]
    },
    {
     "name": "stderr",
     "output_type": "stream",
     "text": [
      "/Users/simon/tcpips/chavas15/er11/radprof_raw.py:51: RuntimeWarning: divide by zero encountered in divide\n",
      "  V_ER11 = (1 / rr_ER11) * (Vmax * rmax + 0.5 * fcor * rmax**2) * (\n",
      "/Users/simon/tcpips/chavas15/er11/radprof_raw.py:51: RuntimeWarning: invalid value encountered in multiply\n",
      "  V_ER11 = (1 / rr_ER11) * (Vmax * rmax + 0.5 * fcor * rmax**2) * (\n"
     ]
    },
    {
     "name": "stdout",
     "output_type": "stream",
     "text": [
      "'ER11_radprof_raw'  0.41564 s \n",
      "\n",
      "[  673029.96182347   673705.01695068   674380.07207788 ...\n",
      " 33750056.13974559 33750731.19487279 33751406.24999999]\n"
     ]
    },
    {
     "name": "stderr",
     "output_type": "stream",
     "text": [
      "/Users/simon/tcpips/chavas15/er11/radprof_raw.py:51: RuntimeWarning: divide by zero encountered in divide\n",
      "  V_ER11 = (1 / rr_ER11) * (Vmax * rmax + 0.5 * fcor * rmax**2) * (\n",
      "/Users/simon/tcpips/chavas15/er11/radprof_raw.py:51: RuntimeWarning: invalid value encountered in multiply\n",
      "  V_ER11 = (1 / rr_ER11) * (Vmax * rmax + 0.5 * fcor * rmax**2) * (\n"
     ]
    },
    {
     "name": "stdout",
     "output_type": "stream",
     "text": [
      "'ER11_radprof_raw'  0.41772 s \n",
      "\n",
      "[  675055.12720509   675730.18233229   676405.2374595  ...\n",
      " 33750056.13974559 33750731.19487279 33751406.24999999]\n"
     ]
    },
    {
     "name": "stderr",
     "output_type": "stream",
     "text": [
      "/Users/simon/tcpips/chavas15/er11/radprof_raw.py:51: RuntimeWarning: divide by zero encountered in divide\n",
      "  V_ER11 = (1 / rr_ER11) * (Vmax * rmax + 0.5 * fcor * rmax**2) * (\n",
      "/Users/simon/tcpips/chavas15/er11/radprof_raw.py:51: RuntimeWarning: invalid value encountered in multiply\n",
      "  V_ER11 = (1 / rr_ER11) * (Vmax * rmax + 0.5 * fcor * rmax**2) * (\n"
     ]
    },
    {
     "name": "stdout",
     "output_type": "stream",
     "text": [
      "'ER11_radprof_raw'  0.41655 s \n",
      "\n",
      "[  675730.18233229   676405.2374595    677080.2925867  ...\n",
      " 33750056.13974559 33750731.19487279 33751406.24999999]\n"
     ]
    },
    {
     "name": "stderr",
     "output_type": "stream",
     "text": [
      "/Users/simon/tcpips/chavas15/er11/radprof_raw.py:51: RuntimeWarning: divide by zero encountered in divide\n",
      "  V_ER11 = (1 / rr_ER11) * (Vmax * rmax + 0.5 * fcor * rmax**2) * (\n",
      "/Users/simon/tcpips/chavas15/er11/radprof_raw.py:51: RuntimeWarning: invalid value encountered in multiply\n",
      "  V_ER11 = (1 / rr_ER11) * (Vmax * rmax + 0.5 * fcor * rmax**2) * (\n"
     ]
    },
    {
     "name": "stdout",
     "output_type": "stream",
     "text": [
      "'ER11_radprof_raw'  0.41592 s \n",
      "\n",
      "'ER11_radprof'  3.42683 s \n",
      "\n",
      "intersection sizes 1000 1334 1334000\n",
      "'curveintersect'  2.09249 s \n",
      "\n",
      "Large storm detected. Increasing drfracrm.\n",
      "dr =  675.0410641425657\n",
      "[  598086.38283031   598761.42389446   599436.4649586  ...\n",
      " 33749353.04287171 33750028.08393586 33750703.125     ]\n"
     ]
    },
    {
     "name": "stderr",
     "output_type": "stream",
     "text": [
      "/Users/simon/tcpips/chavas15/er11/radprof_raw.py:51: RuntimeWarning: divide by zero encountered in divide\n",
      "  V_ER11 = (1 / rr_ER11) * (Vmax * rmax + 0.5 * fcor * rmax**2) * (\n",
      "/Users/simon/tcpips/chavas15/er11/radprof_raw.py:51: RuntimeWarning: invalid value encountered in multiply\n",
      "  V_ER11 = (1 / rr_ER11) * (Vmax * rmax + 0.5 * fcor * rmax**2) * (\n"
     ]
    },
    {
     "name": "stdout",
     "output_type": "stream",
     "text": [
      "'ER11_radprof_raw'  0.38822 s \n",
      "\n",
      "[  659515.11966729   660190.16073143   660865.20179557 ...\n",
      " 33749353.04287171 33750028.08393586 33750703.125     ]\n"
     ]
    },
    {
     "name": "stderr",
     "output_type": "stream",
     "text": [
      "/Users/simon/tcpips/chavas15/er11/radprof_raw.py:51: RuntimeWarning: divide by zero encountered in divide\n",
      "  V_ER11 = (1 / rr_ER11) * (Vmax * rmax + 0.5 * fcor * rmax**2) * (\n",
      "/Users/simon/tcpips/chavas15/er11/radprof_raw.py:51: RuntimeWarning: invalid value encountered in multiply\n",
      "  V_ER11 = (1 / rr_ER11) * (Vmax * rmax + 0.5 * fcor * rmax**2) * (\n"
     ]
    },
    {
     "name": "stdout",
     "output_type": "stream",
     "text": [
      "'ER11_radprof_raw'  0.38232 s \n",
      "\n",
      "[  659515.11966729   660190.16073143   660865.20179557 ...\n",
      " 33749353.04287171 33750028.08393586 33750703.125     ]\n"
     ]
    },
    {
     "name": "stderr",
     "output_type": "stream",
     "text": [
      "/Users/simon/tcpips/chavas15/er11/radprof_raw.py:51: RuntimeWarning: divide by zero encountered in divide\n",
      "  V_ER11 = (1 / rr_ER11) * (Vmax * rmax + 0.5 * fcor * rmax**2) * (\n",
      "/Users/simon/tcpips/chavas15/er11/radprof_raw.py:51: RuntimeWarning: invalid value encountered in multiply\n",
      "  V_ER11 = (1 / rr_ER11) * (Vmax * rmax + 0.5 * fcor * rmax**2) * (\n"
     ]
    },
    {
     "name": "stdout",
     "output_type": "stream",
     "text": [
      "'ER11_radprof_raw'  0.37673 s \n",
      "\n",
      "[  673015.94095014   673690.98201428   674366.02307842 ...\n",
      " 33749353.04287171 33750028.08393586 33750703.125     ]\n"
     ]
    },
    {
     "name": "stderr",
     "output_type": "stream",
     "text": [
      "/Users/simon/tcpips/chavas15/er11/radprof_raw.py:51: RuntimeWarning: divide by zero encountered in divide\n",
      "  V_ER11 = (1 / rr_ER11) * (Vmax * rmax + 0.5 * fcor * rmax**2) * (\n",
      "/Users/simon/tcpips/chavas15/er11/radprof_raw.py:51: RuntimeWarning: invalid value encountered in multiply\n",
      "  V_ER11 = (1 / rr_ER11) * (Vmax * rmax + 0.5 * fcor * rmax**2) * (\n"
     ]
    },
    {
     "name": "stdout",
     "output_type": "stream",
     "text": [
      "'ER11_radprof_raw'  0.40051 s \n",
      "\n",
      "[  675041.06414257   675716.10520671   676391.14627085 ...\n",
      " 33749353.04287171 33750028.08393586 33750703.125     ]\n"
     ]
    },
    {
     "name": "stderr",
     "output_type": "stream",
     "text": [
      "/Users/simon/tcpips/chavas15/er11/radprof_raw.py:51: RuntimeWarning: divide by zero encountered in divide\n",
      "  V_ER11 = (1 / rr_ER11) * (Vmax * rmax + 0.5 * fcor * rmax**2) * (\n",
      "/Users/simon/tcpips/chavas15/er11/radprof_raw.py:51: RuntimeWarning: invalid value encountered in multiply\n",
      "  V_ER11 = (1 / rr_ER11) * (Vmax * rmax + 0.5 * fcor * rmax**2) * (\n"
     ]
    },
    {
     "name": "stdout",
     "output_type": "stream",
     "text": [
      "'ER11_radprof_raw'  0.37718 s \n",
      "\n"
     ]
    },
    {
     "name": "stderr",
     "output_type": "stream",
     "text": [
      "/Users/simon/tcpips/chavas15/er11/radprof_raw.py:51: RuntimeWarning: divide by zero encountered in divide\n",
      "  V_ER11 = (1 / rr_ER11) * (Vmax * rmax + 0.5 * fcor * rmax**2) * (\n",
      "/Users/simon/tcpips/chavas15/er11/radprof_raw.py:51: RuntimeWarning: invalid value encountered in multiply\n",
      "  V_ER11 = (1 / rr_ER11) * (Vmax * rmax + 0.5 * fcor * rmax**2) * (\n"
     ]
    },
    {
     "name": "stdout",
     "output_type": "stream",
     "text": [
      "[  675716.10520671   676391.14627085   677066.18733499 ...\n",
      " 33749353.04287171 33750028.08393586 33750703.125     ]\n",
      "'ER11_radprof_raw'  0.38618 s \n",
      "\n",
      "'ER11_radprof'  3.23838 s \n",
      "\n",
      "intersection sizes 1000 1334 1334000\n",
      "'curveintersect'  2.13014 s \n",
      "\n",
      "Large storm detected. Increasing drfracrm.\n",
      "dr =  675.0340326113044\n",
      "[  598080.15289362   598755.18692623   599430.22095884 ...\n",
      " 33749001.49443477 33749676.52846738 33750351.56249999]\n"
     ]
    },
    {
     "name": "stderr",
     "output_type": "stream",
     "text": [
      "/Users/simon/tcpips/chavas15/er11/radprof_raw.py:51: RuntimeWarning: divide by zero encountered in divide\n",
      "  V_ER11 = (1 / rr_ER11) * (Vmax * rmax + 0.5 * fcor * rmax**2) * (\n",
      "/Users/simon/tcpips/chavas15/er11/radprof_raw.py:51: RuntimeWarning: invalid value encountered in multiply\n",
      "  V_ER11 = (1 / rr_ER11) * (Vmax * rmax + 0.5 * fcor * rmax**2) * (\n"
     ]
    },
    {
     "name": "stdout",
     "output_type": "stream",
     "text": [
      "'ER11_radprof_raw'  0.37515 s \n",
      "\n",
      "[  659508.24986124   660183.28389386   660858.31792647 ...\n",
      " 33749001.49443477 33749676.52846738 33750351.56249999]\n"
     ]
    },
    {
     "name": "stderr",
     "output_type": "stream",
     "text": [
      "/Users/simon/tcpips/chavas15/er11/radprof_raw.py:51: RuntimeWarning: divide by zero encountered in divide\n",
      "  V_ER11 = (1 / rr_ER11) * (Vmax * rmax + 0.5 * fcor * rmax**2) * (\n",
      "/Users/simon/tcpips/chavas15/er11/radprof_raw.py:51: RuntimeWarning: invalid value encountered in multiply\n",
      "  V_ER11 = (1 / rr_ER11) * (Vmax * rmax + 0.5 * fcor * rmax**2) * (\n"
     ]
    },
    {
     "name": "stdout",
     "output_type": "stream",
     "text": [
      "'ER11_radprof_raw'  0.37051 s \n",
      "\n",
      "[  659508.24986124   660183.28389386   660858.31792647 ...\n",
      " 33749001.49443477 33749676.52846738 33750351.56249999]\n"
     ]
    },
    {
     "name": "stderr",
     "output_type": "stream",
     "text": [
      "/Users/simon/tcpips/chavas15/er11/radprof_raw.py:51: RuntimeWarning: divide by zero encountered in divide\n",
      "  V_ER11 = (1 / rr_ER11) * (Vmax * rmax + 0.5 * fcor * rmax**2) * (\n",
      "/Users/simon/tcpips/chavas15/er11/radprof_raw.py:51: RuntimeWarning: invalid value encountered in multiply\n",
      "  V_ER11 = (1 / rr_ER11) * (Vmax * rmax + 0.5 * fcor * rmax**2) * (\n"
     ]
    },
    {
     "name": "stdout",
     "output_type": "stream",
     "text": [
      "'ER11_radprof_raw'  0.37181 s \n",
      "\n",
      "[  673008.93051347   673683.96454608   674358.99857869 ...\n",
      " 33749001.49443477 33749676.52846738 33750351.56249999]\n"
     ]
    },
    {
     "name": "stderr",
     "output_type": "stream",
     "text": [
      "/Users/simon/tcpips/chavas15/er11/radprof_raw.py:51: RuntimeWarning: divide by zero encountered in divide\n",
      "  V_ER11 = (1 / rr_ER11) * (Vmax * rmax + 0.5 * fcor * rmax**2) * (\n",
      "/Users/simon/tcpips/chavas15/er11/radprof_raw.py:51: RuntimeWarning: invalid value encountered in multiply\n",
      "  V_ER11 = (1 / rr_ER11) * (Vmax * rmax + 0.5 * fcor * rmax**2) * (\n"
     ]
    },
    {
     "name": "stdout",
     "output_type": "stream",
     "text": [
      "'ER11_radprof_raw'  0.36483 s \n",
      "\n",
      "[  675034.0326113    675709.06664392   676384.10067653 ...\n",
      " 33749001.49443477 33749676.52846738 33750351.56249999]\n"
     ]
    },
    {
     "name": "stderr",
     "output_type": "stream",
     "text": [
      "/Users/simon/tcpips/chavas15/er11/radprof_raw.py:51: RuntimeWarning: divide by zero encountered in divide\n",
      "  V_ER11 = (1 / rr_ER11) * (Vmax * rmax + 0.5 * fcor * rmax**2) * (\n",
      "/Users/simon/tcpips/chavas15/er11/radprof_raw.py:51: RuntimeWarning: invalid value encountered in multiply\n",
      "  V_ER11 = (1 / rr_ER11) * (Vmax * rmax + 0.5 * fcor * rmax**2) * (\n"
     ]
    },
    {
     "name": "stdout",
     "output_type": "stream",
     "text": [
      "'ER11_radprof_raw'  0.37458 s \n",
      "\n",
      "[  675709.06664392   676384.10067653   677059.13470914 ...\n",
      " 33749001.49443477 33749676.52846738 33750351.56249999]\n"
     ]
    },
    {
     "name": "stderr",
     "output_type": "stream",
     "text": [
      "/Users/simon/tcpips/chavas15/er11/radprof_raw.py:51: RuntimeWarning: divide by zero encountered in divide\n",
      "  V_ER11 = (1 / rr_ER11) * (Vmax * rmax + 0.5 * fcor * rmax**2) * (\n",
      "/Users/simon/tcpips/chavas15/er11/radprof_raw.py:51: RuntimeWarning: invalid value encountered in multiply\n",
      "  V_ER11 = (1 / rr_ER11) * (Vmax * rmax + 0.5 * fcor * rmax**2) * (\n"
     ]
    },
    {
     "name": "stdout",
     "output_type": "stream",
     "text": [
      "'ER11_radprof_raw'  0.37264 s \n",
      "\n",
      "'ER11_radprof'  2.84691 s \n",
      "\n",
      "intersection sizes 1000 1334 1334000\n",
      "'curveintersect'  2.16976 s \n",
      "\n",
      "Large storm detected. Increasing drfracrm.\n",
      "dr =  675.0305168456738\n",
      "[  598077.03792527   598752.06844211   599427.09895896 ...\n",
      " 33748825.7202163  33749500.75073315 33750175.78124999]\n"
     ]
    },
    {
     "name": "stderr",
     "output_type": "stream",
     "text": [
      "/Users/simon/tcpips/chavas15/er11/radprof_raw.py:51: RuntimeWarning: divide by zero encountered in divide\n",
      "  V_ER11 = (1 / rr_ER11) * (Vmax * rmax + 0.5 * fcor * rmax**2) * (\n",
      "/Users/simon/tcpips/chavas15/er11/radprof_raw.py:51: RuntimeWarning: invalid value encountered in multiply\n",
      "  V_ER11 = (1 / rr_ER11) * (Vmax * rmax + 0.5 * fcor * rmax**2) * (\n"
     ]
    },
    {
     "name": "stdout",
     "output_type": "stream",
     "text": [
      "'ER11_radprof_raw'  0.37926 s \n",
      "\n",
      "[  659504.81495822   660179.84547507   660854.87599191 ...\n",
      " 33748825.7202163  33749500.75073315 33750175.78124999]\n"
     ]
    },
    {
     "name": "stderr",
     "output_type": "stream",
     "text": [
      "/Users/simon/tcpips/chavas15/er11/radprof_raw.py:51: RuntimeWarning: divide by zero encountered in divide\n",
      "  V_ER11 = (1 / rr_ER11) * (Vmax * rmax + 0.5 * fcor * rmax**2) * (\n",
      "/Users/simon/tcpips/chavas15/er11/radprof_raw.py:51: RuntimeWarning: invalid value encountered in multiply\n",
      "  V_ER11 = (1 / rr_ER11) * (Vmax * rmax + 0.5 * fcor * rmax**2) * (\n"
     ]
    },
    {
     "name": "stdout",
     "output_type": "stream",
     "text": [
      "'ER11_radprof_raw'  0.38115 s \n",
      "\n"
     ]
    },
    {
     "name": "stderr",
     "output_type": "stream",
     "text": [
      "/Users/simon/tcpips/chavas15/er11/radprof_raw.py:51: RuntimeWarning: divide by zero encountered in divide\n",
      "  V_ER11 = (1 / rr_ER11) * (Vmax * rmax + 0.5 * fcor * rmax**2) * (\n",
      "/Users/simon/tcpips/chavas15/er11/radprof_raw.py:51: RuntimeWarning: invalid value encountered in multiply\n",
      "  V_ER11 = (1 / rr_ER11) * (Vmax * rmax + 0.5 * fcor * rmax**2) * (\n"
     ]
    },
    {
     "name": "stdout",
     "output_type": "stream",
     "text": [
      "[  659504.81495822   660179.84547507   660854.87599191 ...\n",
      " 33748825.7202163  33749500.75073315 33750175.78124999]\n",
      "'ER11_radprof_raw'  0.70684 s \n",
      "\n",
      "[  673005.42529514   673680.45581198   674355.48632883 ...\n",
      " 33748825.7202163  33749500.75073315 33750175.78124999]\n"
     ]
    },
    {
     "name": "stderr",
     "output_type": "stream",
     "text": [
      "/Users/simon/tcpips/chavas15/er11/radprof_raw.py:51: RuntimeWarning: divide by zero encountered in divide\n",
      "  V_ER11 = (1 / rr_ER11) * (Vmax * rmax + 0.5 * fcor * rmax**2) * (\n",
      "/Users/simon/tcpips/chavas15/er11/radprof_raw.py:51: RuntimeWarning: invalid value encountered in multiply\n",
      "  V_ER11 = (1 / rr_ER11) * (Vmax * rmax + 0.5 * fcor * rmax**2) * (\n"
     ]
    },
    {
     "name": "stdout",
     "output_type": "stream",
     "text": [
      "'ER11_radprof_raw'  0.38048 s \n",
      "\n",
      "[  675030.51684567   675705.54736252   676380.57787937 ...\n",
      " 33748825.7202163  33749500.75073315 33750175.78124999]\n"
     ]
    },
    {
     "name": "stderr",
     "output_type": "stream",
     "text": [
      "/Users/simon/tcpips/chavas15/er11/radprof_raw.py:51: RuntimeWarning: divide by zero encountered in divide\n",
      "  V_ER11 = (1 / rr_ER11) * (Vmax * rmax + 0.5 * fcor * rmax**2) * (\n",
      "/Users/simon/tcpips/chavas15/er11/radprof_raw.py:51: RuntimeWarning: invalid value encountered in multiply\n",
      "  V_ER11 = (1 / rr_ER11) * (Vmax * rmax + 0.5 * fcor * rmax**2) * (\n"
     ]
    },
    {
     "name": "stdout",
     "output_type": "stream",
     "text": [
      "'ER11_radprof_raw'  0.37571 s \n",
      "\n",
      "[  675705.54736252   676380.57787937   677055.60839621 ...\n",
      " 33748825.7202163  33749500.75073315 33750175.78124999]\n"
     ]
    },
    {
     "name": "stderr",
     "output_type": "stream",
     "text": [
      "/Users/simon/tcpips/chavas15/er11/radprof_raw.py:51: RuntimeWarning: divide by zero encountered in divide\n",
      "  V_ER11 = (1 / rr_ER11) * (Vmax * rmax + 0.5 * fcor * rmax**2) * (\n",
      "/Users/simon/tcpips/chavas15/er11/radprof_raw.py:51: RuntimeWarning: invalid value encountered in multiply\n",
      "  V_ER11 = (1 / rr_ER11) * (Vmax * rmax + 0.5 * fcor * rmax**2) * (\n"
     ]
    },
    {
     "name": "stdout",
     "output_type": "stream",
     "text": [
      "'ER11_radprof_raw'  0.37869 s \n",
      "\n",
      "'ER11_radprof'  3.21531 s \n",
      "\n",
      "intersection sizes 1000 1334 1334000\n",
      "'curveintersect'  2.20474 s \n",
      "\n",
      "Large storm detected. Increasing drfracrm.\n",
      "dr =  675.0287589628585\n",
      "[  598075.48044109   598750.50920006   599425.53795902 ...\n",
      " 33748737.83310708 33749412.86186603 33750087.890625  ]\n"
     ]
    },
    {
     "name": "stderr",
     "output_type": "stream",
     "text": [
      "/Users/simon/tcpips/chavas15/er11/radprof_raw.py:51: RuntimeWarning: divide by zero encountered in divide\n",
      "  V_ER11 = (1 / rr_ER11) * (Vmax * rmax + 0.5 * fcor * rmax**2) * (\n",
      "/Users/simon/tcpips/chavas15/er11/radprof_raw.py:51: RuntimeWarning: invalid value encountered in multiply\n",
      "  V_ER11 = (1 / rr_ER11) * (Vmax * rmax + 0.5 * fcor * rmax**2) * (\n"
     ]
    },
    {
     "name": "stdout",
     "output_type": "stream",
     "text": [
      "'ER11_radprof_raw'  0.36255 s \n",
      "\n",
      "[  659503.09750671   660178.12626568   660853.15502464 ...\n",
      " 33748737.83310708 33749412.86186603 33750087.890625  ]\n"
     ]
    },
    {
     "name": "stderr",
     "output_type": "stream",
     "text": [
      "/Users/simon/tcpips/chavas15/er11/radprof_raw.py:51: RuntimeWarning: divide by zero encountered in divide\n",
      "  V_ER11 = (1 / rr_ER11) * (Vmax * rmax + 0.5 * fcor * rmax**2) * (\n",
      "/Users/simon/tcpips/chavas15/er11/radprof_raw.py:51: RuntimeWarning: invalid value encountered in multiply\n",
      "  V_ER11 = (1 / rr_ER11) * (Vmax * rmax + 0.5 * fcor * rmax**2) * (\n"
     ]
    },
    {
     "name": "stdout",
     "output_type": "stream",
     "text": [
      "'ER11_radprof_raw'  0.37570 s \n",
      "\n",
      "[  659503.09750671   660178.12626568   660853.15502464 ...\n",
      " 33748737.83310708 33749412.86186603 33750087.890625  ]\n"
     ]
    },
    {
     "name": "stderr",
     "output_type": "stream",
     "text": [
      "/Users/simon/tcpips/chavas15/er11/radprof_raw.py:51: RuntimeWarning: divide by zero encountered in divide\n",
      "  V_ER11 = (1 / rr_ER11) * (Vmax * rmax + 0.5 * fcor * rmax**2) * (\n",
      "/Users/simon/tcpips/chavas15/er11/radprof_raw.py:51: RuntimeWarning: invalid value encountered in multiply\n",
      "  V_ER11 = (1 / rr_ER11) * (Vmax * rmax + 0.5 * fcor * rmax**2) * (\n"
     ]
    },
    {
     "name": "stdout",
     "output_type": "stream",
     "text": [
      "'ER11_radprof_raw'  0.37506 s \n",
      "\n",
      "[  673003.67268597   673678.70144493   674353.7302039  ...\n",
      " 33748737.83310708 33749412.86186603 33750087.890625  ]\n"
     ]
    },
    {
     "name": "stderr",
     "output_type": "stream",
     "text": [
      "/Users/simon/tcpips/chavas15/er11/radprof_raw.py:51: RuntimeWarning: divide by zero encountered in divide\n",
      "  V_ER11 = (1 / rr_ER11) * (Vmax * rmax + 0.5 * fcor * rmax**2) * (\n",
      "/Users/simon/tcpips/chavas15/er11/radprof_raw.py:51: RuntimeWarning: invalid value encountered in multiply\n",
      "  V_ER11 = (1 / rr_ER11) * (Vmax * rmax + 0.5 * fcor * rmax**2) * (\n"
     ]
    },
    {
     "name": "stdout",
     "output_type": "stream",
     "text": [
      "'ER11_radprof_raw'  0.36378 s \n",
      "\n",
      "[  675028.75896286   675703.78772182   676378.81648078 ...\n",
      " 33748737.83310708 33749412.86186603 33750087.890625  ]\n"
     ]
    },
    {
     "name": "stderr",
     "output_type": "stream",
     "text": [
      "/Users/simon/tcpips/chavas15/er11/radprof_raw.py:51: RuntimeWarning: divide by zero encountered in divide\n",
      "  V_ER11 = (1 / rr_ER11) * (Vmax * rmax + 0.5 * fcor * rmax**2) * (\n",
      "/Users/simon/tcpips/chavas15/er11/radprof_raw.py:51: RuntimeWarning: invalid value encountered in multiply\n",
      "  V_ER11 = (1 / rr_ER11) * (Vmax * rmax + 0.5 * fcor * rmax**2) * (\n"
     ]
    },
    {
     "name": "stdout",
     "output_type": "stream",
     "text": [
      "'ER11_radprof_raw'  0.36346 s \n",
      "\n",
      "[  675703.78772182   676378.81648078   677053.84523975 ...\n",
      " 33748737.83310708 33749412.86186603 33750087.890625  ]\n"
     ]
    },
    {
     "name": "stderr",
     "output_type": "stream",
     "text": [
      "/Users/simon/tcpips/chavas15/er11/radprof_raw.py:51: RuntimeWarning: divide by zero encountered in divide\n",
      "  V_ER11 = (1 / rr_ER11) * (Vmax * rmax + 0.5 * fcor * rmax**2) * (\n",
      "/Users/simon/tcpips/chavas15/er11/radprof_raw.py:51: RuntimeWarning: invalid value encountered in multiply\n",
      "  V_ER11 = (1 / rr_ER11) * (Vmax * rmax + 0.5 * fcor * rmax**2) * (\n"
     ]
    },
    {
     "name": "stdout",
     "output_type": "stream",
     "text": [
      "'ER11_radprof_raw'  0.67519 s \n",
      "\n",
      "'ER11_radprof'  3.13696 s \n",
      "\n",
      "intersection sizes 1000 1334 1334000\n",
      "'curveintersect'  2.09375 s \n",
      "\n",
      "Adjusting CkCd to find convergence.\n",
      "Large storm detected. Increasing drfracrm.\n",
      "dr =  675.9270370814833\n",
      "[  602926.91707668   603602.84411376   604278.77115085 ...\n",
      " 33793648.14592583 33794324.07296292 33795000.        ]\n"
     ]
    },
    {
     "name": "stderr",
     "output_type": "stream",
     "text": [
      "/Users/simon/tcpips/chavas15/er11/radprof_raw.py:51: RuntimeWarning: divide by zero encountered in divide\n",
      "  V_ER11 = (1 / rr_ER11) * (Vmax * rmax + 0.5 * fcor * rmax**2) * (\n",
      "/Users/simon/tcpips/chavas15/er11/radprof_raw.py:51: RuntimeWarning: invalid value encountered in multiply\n",
      "  V_ER11 = (1 / rr_ER11) * (Vmax * rmax + 0.5 * fcor * rmax**2) * (\n"
     ]
    },
    {
     "name": "stdout",
     "output_type": "stream",
     "text": [
      "'ER11_radprof_raw'  0.36867 s \n",
      "\n",
      "[  662408.49633985   663084.42337694   663760.35041402 ...\n",
      " 33793648.14592583 33794324.07296292 33795000.        ]\n"
     ]
    },
    {
     "name": "stderr",
     "output_type": "stream",
     "text": [
      "/Users/simon/tcpips/chavas15/er11/radprof_raw.py:51: RuntimeWarning: divide by zero encountered in divide\n",
      "  V_ER11 = (1 / rr_ER11) * (Vmax * rmax + 0.5 * fcor * rmax**2) * (\n",
      "/Users/simon/tcpips/chavas15/er11/radprof_raw.py:51: RuntimeWarning: invalid value encountered in multiply\n",
      "  V_ER11 = (1 / rr_ER11) * (Vmax * rmax + 0.5 * fcor * rmax**2) * (\n"
     ]
    },
    {
     "name": "stdout",
     "output_type": "stream",
     "text": [
      "'ER11_radprof_raw'  0.37179 s \n",
      "\n",
      "[  662408.49633985   663084.42337694   663760.35041402 ...\n",
      " 33793648.14592583 33794324.07296292 33795000.        ]\n"
     ]
    },
    {
     "name": "stderr",
     "output_type": "stream",
     "text": [
      "/Users/simon/tcpips/chavas15/er11/radprof_raw.py:51: RuntimeWarning: divide by zero encountered in divide\n",
      "  V_ER11 = (1 / rr_ER11) * (Vmax * rmax + 0.5 * fcor * rmax**2) * (\n",
      "/Users/simon/tcpips/chavas15/er11/radprof_raw.py:51: RuntimeWarning: invalid value encountered in multiply\n",
      "  V_ER11 = (1 / rr_ER11) * (Vmax * rmax + 0.5 * fcor * rmax**2) * (\n"
     ]
    },
    {
     "name": "stdout",
     "output_type": "stream",
     "text": [
      "'ER11_radprof_raw'  0.37025 s \n",
      "\n",
      "[  673899.25597024   674575.18300732   675251.1100444  ...\n",
      " 33793648.14592583 33794324.07296292 33795000.        ]\n"
     ]
    },
    {
     "name": "stderr",
     "output_type": "stream",
     "text": [
      "/Users/simon/tcpips/chavas15/er11/radprof_raw.py:51: RuntimeWarning: divide by zero encountered in divide\n",
      "  V_ER11 = (1 / rr_ER11) * (Vmax * rmax + 0.5 * fcor * rmax**2) * (\n",
      "/Users/simon/tcpips/chavas15/er11/radprof_raw.py:51: RuntimeWarning: invalid value encountered in multiply\n",
      "  V_ER11 = (1 / rr_ER11) * (Vmax * rmax + 0.5 * fcor * rmax**2) * (\n"
     ]
    },
    {
     "name": "stdout",
     "output_type": "stream",
     "text": [
      "'ER11_radprof_raw'  0.36969 s \n",
      "\n",
      "[  675927.03708148   676602.96411856   677278.89115565 ...\n",
      " 33793648.14592583 33794324.07296292 33795000.        ]\n"
     ]
    },
    {
     "name": "stderr",
     "output_type": "stream",
     "text": [
      "/Users/simon/tcpips/chavas15/er11/radprof_raw.py:51: RuntimeWarning: divide by zero encountered in divide\n",
      "  V_ER11 = (1 / rr_ER11) * (Vmax * rmax + 0.5 * fcor * rmax**2) * (\n",
      "/Users/simon/tcpips/chavas15/er11/radprof_raw.py:51: RuntimeWarning: invalid value encountered in multiply\n",
      "  V_ER11 = (1 / rr_ER11) * (Vmax * rmax + 0.5 * fcor * rmax**2) * (\n"
     ]
    },
    {
     "name": "stdout",
     "output_type": "stream",
     "text": [
      "'ER11_radprof_raw'  0.37133 s \n",
      "\n",
      "[  676602.96411856   677278.89115565   677954.81819273 ...\n",
      " 33793648.14592583 33794324.07296292 33795000.        ]\n"
     ]
    },
    {
     "name": "stderr",
     "output_type": "stream",
     "text": [
      "/Users/simon/tcpips/chavas15/er11/radprof_raw.py:51: RuntimeWarning: divide by zero encountered in divide\n",
      "  V_ER11 = (1 / rr_ER11) * (Vmax * rmax + 0.5 * fcor * rmax**2) * (\n",
      "/Users/simon/tcpips/chavas15/er11/radprof_raw.py:51: RuntimeWarning: invalid value encountered in multiply\n",
      "  V_ER11 = (1 / rr_ER11) * (Vmax * rmax + 0.5 * fcor * rmax**2) * (\n"
     ]
    },
    {
     "name": "stdout",
     "output_type": "stream",
     "text": [
      "'ER11_radprof_raw'  0.37051 s \n",
      "\n",
      "'ER11_radprof'  2.82711 s \n",
      "\n",
      "intersection sizes 1000 1332 1332000\n",
      "'curveintersect'  2.10800 s \n",
      "\n",
      "Large storm detected. Increasing drfracrm.\n",
      "dr =  675.4770190807633\n",
      "[  602525.50102004   603200.97803912   603876.4550582  ...\n",
      " 33771149.04596184 33771824.52298092 33772500.        ]\n"
     ]
    },
    {
     "name": "stderr",
     "output_type": "stream",
     "text": [
      "/Users/simon/tcpips/chavas15/er11/radprof_raw.py:51: RuntimeWarning: divide by zero encountered in divide\n",
      "  V_ER11 = (1 / rr_ER11) * (Vmax * rmax + 0.5 * fcor * rmax**2) * (\n",
      "/Users/simon/tcpips/chavas15/er11/radprof_raw.py:51: RuntimeWarning: invalid value encountered in multiply\n",
      "  V_ER11 = (1 / rr_ER11) * (Vmax * rmax + 0.5 * fcor * rmax**2) * (\n"
     ]
    },
    {
     "name": "stdout",
     "output_type": "stream",
     "text": [
      "'ER11_radprof_raw'  0.41435 s \n",
      "\n",
      "[  661967.47869915   662642.95571823   663318.43273731 ...\n",
      " 33771149.04596184 33771824.52298092 33772500.        ]\n"
     ]
    },
    {
     "name": "stderr",
     "output_type": "stream",
     "text": [
      "/Users/simon/tcpips/chavas15/er11/radprof_raw.py:51: RuntimeWarning: divide by zero encountered in divide\n",
      "  V_ER11 = (1 / rr_ER11) * (Vmax * rmax + 0.5 * fcor * rmax**2) * (\n",
      "/Users/simon/tcpips/chavas15/er11/radprof_raw.py:51: RuntimeWarning: invalid value encountered in multiply\n",
      "  V_ER11 = (1 / rr_ER11) * (Vmax * rmax + 0.5 * fcor * rmax**2) * (\n"
     ]
    },
    {
     "name": "stdout",
     "output_type": "stream",
     "text": [
      "'ER11_radprof_raw'  0.39936 s \n",
      "\n",
      "[  661967.47869915   662642.95571823   663318.43273731 ...\n",
      " 33771149.04596184 33771824.52298092 33772500.        ]\n"
     ]
    },
    {
     "name": "stderr",
     "output_type": "stream",
     "text": [
      "/Users/simon/tcpips/chavas15/er11/radprof_raw.py:51: RuntimeWarning: divide by zero encountered in divide\n",
      "  V_ER11 = (1 / rr_ER11) * (Vmax * rmax + 0.5 * fcor * rmax**2) * (\n",
      "/Users/simon/tcpips/chavas15/er11/radprof_raw.py:51: RuntimeWarning: invalid value encountered in multiply\n",
      "  V_ER11 = (1 / rr_ER11) * (Vmax * rmax + 0.5 * fcor * rmax**2) * (\n"
     ]
    },
    {
     "name": "stdout",
     "output_type": "stream",
     "text": [
      "'ER11_radprof_raw'  0.40640 s \n",
      "\n"
     ]
    },
    {
     "name": "stderr",
     "output_type": "stream",
     "text": [
      "/Users/simon/tcpips/chavas15/er11/radprof_raw.py:51: RuntimeWarning: divide by zero encountered in divide\n",
      "  V_ER11 = (1 / rr_ER11) * (Vmax * rmax + 0.5 * fcor * rmax**2) * (\n",
      "/Users/simon/tcpips/chavas15/er11/radprof_raw.py:51: RuntimeWarning: invalid value encountered in multiply\n",
      "  V_ER11 = (1 / rr_ER11) * (Vmax * rmax + 0.5 * fcor * rmax**2) * (\n"
     ]
    },
    {
     "name": "stdout",
     "output_type": "stream",
     "text": [
      "[  673450.58802352   674126.0650426    674801.54206168 ...\n",
      " 33771149.04596184 33771824.52298092 33772500.        ]\n",
      "'ER11_radprof_raw'  0.40582 s \n",
      "\n",
      "[  675477.01908076   676152.49609984   676827.97311892 ...\n",
      " 33771149.04596184 33771824.52298092 33772500.        ]\n"
     ]
    },
    {
     "name": "stderr",
     "output_type": "stream",
     "text": [
      "/Users/simon/tcpips/chavas15/er11/radprof_raw.py:51: RuntimeWarning: divide by zero encountered in divide\n",
      "  V_ER11 = (1 / rr_ER11) * (Vmax * rmax + 0.5 * fcor * rmax**2) * (\n",
      "/Users/simon/tcpips/chavas15/er11/radprof_raw.py:51: RuntimeWarning: invalid value encountered in multiply\n",
      "  V_ER11 = (1 / rr_ER11) * (Vmax * rmax + 0.5 * fcor * rmax**2) * (\n"
     ]
    },
    {
     "name": "stdout",
     "output_type": "stream",
     "text": [
      "'ER11_radprof_raw'  0.41788 s \n",
      "\n",
      "[  676152.49609984   676827.97311892   677503.45013801 ...\n",
      " 33771149.04596184 33771824.52298092 33772500.        ]\n"
     ]
    },
    {
     "name": "stderr",
     "output_type": "stream",
     "text": [
      "/Users/simon/tcpips/chavas15/er11/radprof_raw.py:51: RuntimeWarning: divide by zero encountered in divide\n",
      "  V_ER11 = (1 / rr_ER11) * (Vmax * rmax + 0.5 * fcor * rmax**2) * (\n",
      "/Users/simon/tcpips/chavas15/er11/radprof_raw.py:51: RuntimeWarning: invalid value encountered in multiply\n",
      "  V_ER11 = (1 / rr_ER11) * (Vmax * rmax + 0.5 * fcor * rmax**2) * (\n"
     ]
    },
    {
     "name": "stdout",
     "output_type": "stream",
     "text": [
      "'ER11_radprof_raw'  0.42632 s \n",
      "\n",
      "'ER11_radprof'  3.41987 s \n",
      "\n",
      "intersection sizes 1000 1333 1333000\n",
      "'curveintersect'  2.16263 s \n",
      "\n",
      "Large storm detected. Increasing drfracrm.\n",
      "dr =  675.2520100804032\n",
      "[  602324.79299172   603000.0450018    603675.29701188 ...\n",
      " 33759899.49597984 33760574.74798992 33761250.        ]\n"
     ]
    },
    {
     "name": "stderr",
     "output_type": "stream",
     "text": [
      "/Users/simon/tcpips/chavas15/er11/radprof_raw.py:51: RuntimeWarning: divide by zero encountered in divide\n",
      "  V_ER11 = (1 / rr_ER11) * (Vmax * rmax + 0.5 * fcor * rmax**2) * (\n",
      "/Users/simon/tcpips/chavas15/er11/radprof_raw.py:51: RuntimeWarning: invalid value encountered in multiply\n",
      "  V_ER11 = (1 / rr_ER11) * (Vmax * rmax + 0.5 * fcor * rmax**2) * (\n"
     ]
    },
    {
     "name": "stdout",
     "output_type": "stream",
     "text": [
      "'ER11_radprof_raw'  0.41472 s \n",
      "\n",
      "[  661746.9698788    662422.22188888   663097.47389896 ...\n",
      " 33759899.49597984 33760574.74798992 33761250.        ]\n"
     ]
    },
    {
     "name": "stderr",
     "output_type": "stream",
     "text": [
      "/Users/simon/tcpips/chavas15/er11/radprof_raw.py:51: RuntimeWarning: divide by zero encountered in divide\n",
      "  V_ER11 = (1 / rr_ER11) * (Vmax * rmax + 0.5 * fcor * rmax**2) * (\n",
      "/Users/simon/tcpips/chavas15/er11/radprof_raw.py:51: RuntimeWarning: invalid value encountered in multiply\n",
      "  V_ER11 = (1 / rr_ER11) * (Vmax * rmax + 0.5 * fcor * rmax**2) * (\n"
     ]
    },
    {
     "name": "stdout",
     "output_type": "stream",
     "text": [
      "'ER11_radprof_raw'  0.42525 s \n",
      "\n",
      "[  661746.9698788    662422.22188888   663097.47389896 ...\n",
      " 33759899.49597984 33760574.74798992 33761250.        ]\n"
     ]
    },
    {
     "name": "stderr",
     "output_type": "stream",
     "text": [
      "/Users/simon/tcpips/chavas15/er11/radprof_raw.py:51: RuntimeWarning: divide by zero encountered in divide\n",
      "  V_ER11 = (1 / rr_ER11) * (Vmax * rmax + 0.5 * fcor * rmax**2) * (\n",
      "/Users/simon/tcpips/chavas15/er11/radprof_raw.py:51: RuntimeWarning: invalid value encountered in multiply\n",
      "  V_ER11 = (1 / rr_ER11) * (Vmax * rmax + 0.5 * fcor * rmax**2) * (\n"
     ]
    },
    {
     "name": "stdout",
     "output_type": "stream",
     "text": [
      "'ER11_radprof_raw'  0.50733 s \n",
      "\n",
      "[  673226.25405016   673901.50606024   674576.75807032 ...\n",
      " 33759899.49597984 33760574.74798992 33761250.        ]\n"
     ]
    },
    {
     "name": "stderr",
     "output_type": "stream",
     "text": [
      "/Users/simon/tcpips/chavas15/er11/radprof_raw.py:51: RuntimeWarning: divide by zero encountered in divide\n",
      "  V_ER11 = (1 / rr_ER11) * (Vmax * rmax + 0.5 * fcor * rmax**2) * (\n",
      "/Users/simon/tcpips/chavas15/er11/radprof_raw.py:51: RuntimeWarning: invalid value encountered in multiply\n",
      "  V_ER11 = (1 / rr_ER11) * (Vmax * rmax + 0.5 * fcor * rmax**2) * (\n"
     ]
    },
    {
     "name": "stdout",
     "output_type": "stream",
     "text": [
      "'ER11_radprof_raw'  0.43867 s \n",
      "\n",
      "[  675252.0100804    675927.26209048   676602.51410056 ...\n",
      " 33759899.49597984 33760574.74798992 33761250.        ]\n"
     ]
    },
    {
     "name": "stderr",
     "output_type": "stream",
     "text": [
      "/Users/simon/tcpips/chavas15/er11/radprof_raw.py:51: RuntimeWarning: divide by zero encountered in divide\n",
      "  V_ER11 = (1 / rr_ER11) * (Vmax * rmax + 0.5 * fcor * rmax**2) * (\n",
      "/Users/simon/tcpips/chavas15/er11/radprof_raw.py:51: RuntimeWarning: invalid value encountered in multiply\n",
      "  V_ER11 = (1 / rr_ER11) * (Vmax * rmax + 0.5 * fcor * rmax**2) * (\n"
     ]
    },
    {
     "name": "stdout",
     "output_type": "stream",
     "text": [
      "'ER11_radprof_raw'  0.45326 s \n",
      "\n"
     ]
    },
    {
     "name": "stderr",
     "output_type": "stream",
     "text": [
      "/Users/simon/tcpips/chavas15/er11/radprof_raw.py:51: RuntimeWarning: divide by zero encountered in divide\n",
      "  V_ER11 = (1 / rr_ER11) * (Vmax * rmax + 0.5 * fcor * rmax**2) * (\n",
      "/Users/simon/tcpips/chavas15/er11/radprof_raw.py:51: RuntimeWarning: invalid value encountered in multiply\n",
      "  V_ER11 = (1 / rr_ER11) * (Vmax * rmax + 0.5 * fcor * rmax**2) * (\n"
     ]
    },
    {
     "name": "stdout",
     "output_type": "stream",
     "text": [
      "[  675927.26209048   676602.51410056   677277.76611064 ...\n",
      " 33759899.49597984 33760574.74798992 33761250.        ]\n",
      "'ER11_radprof_raw'  0.50075 s \n",
      "\n",
      "'ER11_radprof'  3.52268 s \n",
      "\n",
      "intersection sizes 1000 1333 1333000\n",
      "'curveintersect'  2.18618 s \n",
      "\n",
      "Large storm detected. Increasing drfracrm.\n",
      "dr =  675.1395055802232\n",
      "[  602224.43897756   602899.57848314   603574.71798872 ...\n",
      " 33754274.72098883 33754949.86049441 33755624.99999999]\n"
     ]
    },
    {
     "name": "stderr",
     "output_type": "stream",
     "text": [
      "/Users/simon/tcpips/chavas15/er11/radprof_raw.py:51: RuntimeWarning: divide by zero encountered in divide\n",
      "  V_ER11 = (1 / rr_ER11) * (Vmax * rmax + 0.5 * fcor * rmax**2) * (\n",
      "/Users/simon/tcpips/chavas15/er11/radprof_raw.py:51: RuntimeWarning: invalid value encountered in multiply\n",
      "  V_ER11 = (1 / rr_ER11) * (Vmax * rmax + 0.5 * fcor * rmax**2) * (\n"
     ]
    },
    {
     "name": "stdout",
     "output_type": "stream",
     "text": [
      "'ER11_radprof_raw'  0.41646 s \n",
      "\n",
      "[  661636.71546862   662311.8549742    662986.99447978 ...\n",
      " 33754274.72098883 33754949.86049441 33755624.99999999]\n"
     ]
    },
    {
     "name": "stderr",
     "output_type": "stream",
     "text": [
      "/Users/simon/tcpips/chavas15/er11/radprof_raw.py:51: RuntimeWarning: divide by zero encountered in divide\n",
      "  V_ER11 = (1 / rr_ER11) * (Vmax * rmax + 0.5 * fcor * rmax**2) * (\n",
      "/Users/simon/tcpips/chavas15/er11/radprof_raw.py:51: RuntimeWarning: invalid value encountered in multiply\n",
      "  V_ER11 = (1 / rr_ER11) * (Vmax * rmax + 0.5 * fcor * rmax**2) * (\n"
     ]
    },
    {
     "name": "stdout",
     "output_type": "stream",
     "text": [
      "'ER11_radprof_raw'  0.38481 s \n",
      "\n",
      "[  661636.71546862   662311.8549742    662986.99447978 ...\n",
      " 33754274.72098883 33754949.86049441 33755624.99999999]\n"
     ]
    },
    {
     "name": "stderr",
     "output_type": "stream",
     "text": [
      "/Users/simon/tcpips/chavas15/er11/radprof_raw.py:51: RuntimeWarning: divide by zero encountered in divide\n",
      "  V_ER11 = (1 / rr_ER11) * (Vmax * rmax + 0.5 * fcor * rmax**2) * (\n",
      "/Users/simon/tcpips/chavas15/er11/radprof_raw.py:51: RuntimeWarning: invalid value encountered in multiply\n",
      "  V_ER11 = (1 / rr_ER11) * (Vmax * rmax + 0.5 * fcor * rmax**2) * (\n"
     ]
    },
    {
     "name": "stdout",
     "output_type": "stream",
     "text": [
      "'ER11_radprof_raw'  0.40623 s \n",
      "\n",
      "[  673114.08706348   673789.22656906   674464.36607464 ...\n",
      " 33754274.72098883 33754949.86049441 33755624.99999999]\n"
     ]
    },
    {
     "name": "stderr",
     "output_type": "stream",
     "text": [
      "/Users/simon/tcpips/chavas15/er11/radprof_raw.py:51: RuntimeWarning: divide by zero encountered in divide\n",
      "  V_ER11 = (1 / rr_ER11) * (Vmax * rmax + 0.5 * fcor * rmax**2) * (\n",
      "/Users/simon/tcpips/chavas15/er11/radprof_raw.py:51: RuntimeWarning: invalid value encountered in multiply\n",
      "  V_ER11 = (1 / rr_ER11) * (Vmax * rmax + 0.5 * fcor * rmax**2) * (\n"
     ]
    },
    {
     "name": "stdout",
     "output_type": "stream",
     "text": [
      "'ER11_radprof_raw'  0.37778 s \n",
      "\n",
      "[  675139.50558022   675814.6450858    676489.78459138 ...\n",
      " 33754274.72098883 33754949.86049441 33755624.99999999]\n"
     ]
    },
    {
     "name": "stderr",
     "output_type": "stream",
     "text": [
      "/Users/simon/tcpips/chavas15/er11/radprof_raw.py:51: RuntimeWarning: divide by zero encountered in divide\n",
      "  V_ER11 = (1 / rr_ER11) * (Vmax * rmax + 0.5 * fcor * rmax**2) * (\n",
      "/Users/simon/tcpips/chavas15/er11/radprof_raw.py:51: RuntimeWarning: invalid value encountered in multiply\n",
      "  V_ER11 = (1 / rr_ER11) * (Vmax * rmax + 0.5 * fcor * rmax**2) * (\n"
     ]
    },
    {
     "name": "stdout",
     "output_type": "stream",
     "text": [
      "'ER11_radprof_raw'  0.37884 s \n",
      "\n",
      "[  675814.6450858    676489.78459138   677164.92409696 ...\n",
      " 33754274.72098883 33754949.86049441 33755624.99999999]\n"
     ]
    },
    {
     "name": "stderr",
     "output_type": "stream",
     "text": [
      "/Users/simon/tcpips/chavas15/er11/radprof_raw.py:51: RuntimeWarning: divide by zero encountered in divide\n",
      "  V_ER11 = (1 / rr_ER11) * (Vmax * rmax + 0.5 * fcor * rmax**2) * (\n",
      "/Users/simon/tcpips/chavas15/er11/radprof_raw.py:51: RuntimeWarning: invalid value encountered in multiply\n",
      "  V_ER11 = (1 / rr_ER11) * (Vmax * rmax + 0.5 * fcor * rmax**2) * (\n"
     ]
    },
    {
     "name": "stdout",
     "output_type": "stream",
     "text": [
      "'ER11_radprof_raw'  0.37026 s \n",
      "\n",
      "'ER11_radprof'  2.94931 s \n",
      "\n",
      "intersection sizes 1000 1334 1334000\n",
      "'curveintersect'  2.09445 s \n",
      "\n",
      "Large storm detected. Increasing drfracrm.\n",
      "dr =  675.0832533301333\n",
      "[  602174.26197048   602849.34522381   603524.42847714 ...\n",
      " 33751462.33349334 33752137.41674667 33752812.5       ]\n"
     ]
    },
    {
     "name": "stderr",
     "output_type": "stream",
     "text": [
      "/Users/simon/tcpips/chavas15/er11/radprof_raw.py:51: RuntimeWarning: divide by zero encountered in divide\n",
      "  V_ER11 = (1 / rr_ER11) * (Vmax * rmax + 0.5 * fcor * rmax**2) * (\n",
      "/Users/simon/tcpips/chavas15/er11/radprof_raw.py:51: RuntimeWarning: invalid value encountered in multiply\n",
      "  V_ER11 = (1 / rr_ER11) * (Vmax * rmax + 0.5 * fcor * rmax**2) * (\n"
     ]
    },
    {
     "name": "stdout",
     "output_type": "stream",
     "text": [
      "'ER11_radprof_raw'  0.37768 s \n",
      "\n",
      "[  661581.58826353   662256.67151686   662931.75477019 ...\n",
      " 33751462.33349334 33752137.41674667 33752812.5       ]\n"
     ]
    },
    {
     "name": "stderr",
     "output_type": "stream",
     "text": [
      "/Users/simon/tcpips/chavas15/er11/radprof_raw.py:51: RuntimeWarning: divide by zero encountered in divide\n",
      "  V_ER11 = (1 / rr_ER11) * (Vmax * rmax + 0.5 * fcor * rmax**2) * (\n",
      "/Users/simon/tcpips/chavas15/er11/radprof_raw.py:51: RuntimeWarning: invalid value encountered in multiply\n",
      "  V_ER11 = (1 / rr_ER11) * (Vmax * rmax + 0.5 * fcor * rmax**2) * (\n"
     ]
    },
    {
     "name": "stdout",
     "output_type": "stream",
     "text": [
      "'ER11_radprof_raw'  0.44547 s \n",
      "\n",
      "[  661581.58826353   662256.67151686   662931.75477019 ...\n",
      " 33751462.33349334 33752137.41674667 33752812.5       ]\n"
     ]
    },
    {
     "name": "stderr",
     "output_type": "stream",
     "text": [
      "/Users/simon/tcpips/chavas15/er11/radprof_raw.py:51: RuntimeWarning: divide by zero encountered in divide\n",
      "  V_ER11 = (1 / rr_ER11) * (Vmax * rmax + 0.5 * fcor * rmax**2) * (\n",
      "/Users/simon/tcpips/chavas15/er11/radprof_raw.py:51: RuntimeWarning: invalid value encountered in multiply\n",
      "  V_ER11 = (1 / rr_ER11) * (Vmax * rmax + 0.5 * fcor * rmax**2) * (\n"
     ]
    },
    {
     "name": "stdout",
     "output_type": "stream",
     "text": [
      "'ER11_radprof_raw'  0.44252 s \n",
      "\n",
      "[  673058.00357014   673733.08682347   674408.1700768  ...\n",
      " 33751462.33349334 33752137.41674667 33752812.5       ]\n"
     ]
    },
    {
     "name": "stderr",
     "output_type": "stream",
     "text": [
      "/Users/simon/tcpips/chavas15/er11/radprof_raw.py:51: RuntimeWarning: divide by zero encountered in divide\n",
      "  V_ER11 = (1 / rr_ER11) * (Vmax * rmax + 0.5 * fcor * rmax**2) * (\n",
      "/Users/simon/tcpips/chavas15/er11/radprof_raw.py:51: RuntimeWarning: invalid value encountered in multiply\n",
      "  V_ER11 = (1 / rr_ER11) * (Vmax * rmax + 0.5 * fcor * rmax**2) * (\n"
     ]
    },
    {
     "name": "stdout",
     "output_type": "stream",
     "text": [
      "'ER11_radprof_raw'  0.40814 s \n",
      "\n"
     ]
    },
    {
     "name": "stderr",
     "output_type": "stream",
     "text": [
      "/Users/simon/tcpips/chavas15/er11/radprof_raw.py:51: RuntimeWarning: divide by zero encountered in divide\n",
      "  V_ER11 = (1 / rr_ER11) * (Vmax * rmax + 0.5 * fcor * rmax**2) * (\n",
      "/Users/simon/tcpips/chavas15/er11/radprof_raw.py:51: RuntimeWarning: invalid value encountered in multiply\n",
      "  V_ER11 = (1 / rr_ER11) * (Vmax * rmax + 0.5 * fcor * rmax**2) * (\n"
     ]
    },
    {
     "name": "stdout",
     "output_type": "stream",
     "text": [
      "[  675083.25333013   675758.33658346   676433.41983679 ...\n",
      " 33751462.33349334 33752137.41674667 33752812.5       ]\n",
      "'ER11_radprof_raw'  0.38679 s \n",
      "\n",
      "[  675758.33658346   676433.41983679   677108.50309012 ...\n",
      " 33751462.33349334 33752137.41674667 33752812.5       ]\n"
     ]
    },
    {
     "name": "stderr",
     "output_type": "stream",
     "text": [
      "/Users/simon/tcpips/chavas15/er11/radprof_raw.py:51: RuntimeWarning: divide by zero encountered in divide\n",
      "  V_ER11 = (1 / rr_ER11) * (Vmax * rmax + 0.5 * fcor * rmax**2) * (\n",
      "/Users/simon/tcpips/chavas15/er11/radprof_raw.py:51: RuntimeWarning: invalid value encountered in multiply\n",
      "  V_ER11 = (1 / rr_ER11) * (Vmax * rmax + 0.5 * fcor * rmax**2) * (\n"
     ]
    },
    {
     "name": "stdout",
     "output_type": "stream",
     "text": [
      "'ER11_radprof_raw'  0.40585 s \n",
      "\n",
      "'ER11_radprof'  3.55349 s \n",
      "\n",
      "intersection sizes 1000 1334 1334000\n",
      "'curveintersect'  2.21432 s \n",
      "\n",
      "Large storm detected. Increasing drfracrm.\n",
      "dr =  675.0551272050881\n",
      "[  602149.17346694   602824.22859414   603499.28372135 ...\n",
      " 33750056.13974559 33750731.19487279 33751406.24999999]\n"
     ]
    },
    {
     "name": "stderr",
     "output_type": "stream",
     "text": [
      "/Users/simon/tcpips/chavas15/er11/radprof_raw.py:51: RuntimeWarning: divide by zero encountered in divide\n",
      "  V_ER11 = (1 / rr_ER11) * (Vmax * rmax + 0.5 * fcor * rmax**2) * (\n",
      "/Users/simon/tcpips/chavas15/er11/radprof_raw.py:51: RuntimeWarning: invalid value encountered in multiply\n",
      "  V_ER11 = (1 / rr_ER11) * (Vmax * rmax + 0.5 * fcor * rmax**2) * (\n"
     ]
    },
    {
     "name": "stdout",
     "output_type": "stream",
     "text": [
      "'ER11_radprof_raw'  0.43901 s \n",
      "\n",
      "[  661554.02466099   662229.07978819   662904.1349154  ...\n",
      " 33750056.13974559 33750731.19487279 33751406.24999999]\n"
     ]
    },
    {
     "name": "stderr",
     "output_type": "stream",
     "text": [
      "/Users/simon/tcpips/chavas15/er11/radprof_raw.py:51: RuntimeWarning: divide by zero encountered in divide\n",
      "  V_ER11 = (1 / rr_ER11) * (Vmax * rmax + 0.5 * fcor * rmax**2) * (\n",
      "/Users/simon/tcpips/chavas15/er11/radprof_raw.py:51: RuntimeWarning: invalid value encountered in multiply\n",
      "  V_ER11 = (1 / rr_ER11) * (Vmax * rmax + 0.5 * fcor * rmax**2) * (\n"
     ]
    },
    {
     "name": "stdout",
     "output_type": "stream",
     "text": [
      "'ER11_radprof_raw'  0.45416 s \n",
      "\n",
      "[  661554.02466099   662229.07978819   662904.1349154  ...\n",
      " 33750056.13974559 33750731.19487279 33751406.24999999]\n"
     ]
    },
    {
     "name": "stderr",
     "output_type": "stream",
     "text": [
      "/Users/simon/tcpips/chavas15/er11/radprof_raw.py:51: RuntimeWarning: divide by zero encountered in divide\n",
      "  V_ER11 = (1 / rr_ER11) * (Vmax * rmax + 0.5 * fcor * rmax**2) * (\n",
      "/Users/simon/tcpips/chavas15/er11/radprof_raw.py:51: RuntimeWarning: invalid value encountered in multiply\n",
      "  V_ER11 = (1 / rr_ER11) * (Vmax * rmax + 0.5 * fcor * rmax**2) * (\n"
     ]
    },
    {
     "name": "stdout",
     "output_type": "stream",
     "text": [
      "'ER11_radprof_raw'  0.44832 s \n",
      "\n",
      "[  673029.96182347   673705.01695068   674380.07207788 ...\n",
      " 33750056.13974559 33750731.19487279 33751406.24999999]\n"
     ]
    },
    {
     "name": "stderr",
     "output_type": "stream",
     "text": [
      "/Users/simon/tcpips/chavas15/er11/radprof_raw.py:51: RuntimeWarning: divide by zero encountered in divide\n",
      "  V_ER11 = (1 / rr_ER11) * (Vmax * rmax + 0.5 * fcor * rmax**2) * (\n",
      "/Users/simon/tcpips/chavas15/er11/radprof_raw.py:51: RuntimeWarning: invalid value encountered in multiply\n",
      "  V_ER11 = (1 / rr_ER11) * (Vmax * rmax + 0.5 * fcor * rmax**2) * (\n"
     ]
    },
    {
     "name": "stdout",
     "output_type": "stream",
     "text": [
      "'ER11_radprof_raw'  0.42746 s \n",
      "\n",
      "[  675055.12720509   675730.18233229   676405.2374595  ...\n",
      " 33750056.13974559 33750731.19487279 33751406.24999999]\n"
     ]
    },
    {
     "name": "stderr",
     "output_type": "stream",
     "text": [
      "/Users/simon/tcpips/chavas15/er11/radprof_raw.py:51: RuntimeWarning: divide by zero encountered in divide\n",
      "  V_ER11 = (1 / rr_ER11) * (Vmax * rmax + 0.5 * fcor * rmax**2) * (\n",
      "/Users/simon/tcpips/chavas15/er11/radprof_raw.py:51: RuntimeWarning: invalid value encountered in multiply\n",
      "  V_ER11 = (1 / rr_ER11) * (Vmax * rmax + 0.5 * fcor * rmax**2) * (\n"
     ]
    },
    {
     "name": "stdout",
     "output_type": "stream",
     "text": [
      "'ER11_radprof_raw'  0.43730 s \n",
      "\n",
      "[  675730.18233229   676405.2374595    677080.2925867  ...\n",
      " 33750056.13974559 33750731.19487279 33751406.24999999]\n"
     ]
    },
    {
     "name": "stderr",
     "output_type": "stream",
     "text": [
      "/Users/simon/tcpips/chavas15/er11/radprof_raw.py:51: RuntimeWarning: divide by zero encountered in divide\n",
      "  V_ER11 = (1 / rr_ER11) * (Vmax * rmax + 0.5 * fcor * rmax**2) * (\n",
      "/Users/simon/tcpips/chavas15/er11/radprof_raw.py:51: RuntimeWarning: invalid value encountered in multiply\n",
      "  V_ER11 = (1 / rr_ER11) * (Vmax * rmax + 0.5 * fcor * rmax**2) * (\n"
     ]
    },
    {
     "name": "stdout",
     "output_type": "stream",
     "text": [
      "'ER11_radprof_raw'  0.43246 s \n",
      "\n",
      "'ER11_radprof'  3.28627 s \n",
      "\n",
      "intersection sizes 1000 1334 1334000\n",
      "'curveintersect'  2.14984 s \n",
      "\n",
      "Large storm detected. Increasing drfracrm.\n",
      "dr =  675.0410641425657\n",
      "[  602136.62921517   602811.67027931   603486.71134345 ...\n",
      " 33749353.04287171 33750028.08393586 33750703.125     ]\n"
     ]
    },
    {
     "name": "stderr",
     "output_type": "stream",
     "text": [
      "/Users/simon/tcpips/chavas15/er11/radprof_raw.py:51: RuntimeWarning: divide by zero encountered in divide\n",
      "  V_ER11 = (1 / rr_ER11) * (Vmax * rmax + 0.5 * fcor * rmax**2) * (\n",
      "/Users/simon/tcpips/chavas15/er11/radprof_raw.py:51: RuntimeWarning: invalid value encountered in multiply\n",
      "  V_ER11 = (1 / rr_ER11) * (Vmax * rmax + 0.5 * fcor * rmax**2) * (\n"
     ]
    },
    {
     "name": "stdout",
     "output_type": "stream",
     "text": [
      "'ER11_radprof_raw'  0.39114 s \n",
      "\n",
      "[  661540.24285971   662215.28392386   662890.324988   ...\n",
      " 33749353.04287171 33750028.08393586 33750703.125     ]\n"
     ]
    },
    {
     "name": "stderr",
     "output_type": "stream",
     "text": [
      "/Users/simon/tcpips/chavas15/er11/radprof_raw.py:51: RuntimeWarning: divide by zero encountered in divide\n",
      "  V_ER11 = (1 / rr_ER11) * (Vmax * rmax + 0.5 * fcor * rmax**2) * (\n",
      "/Users/simon/tcpips/chavas15/er11/radprof_raw.py:51: RuntimeWarning: invalid value encountered in multiply\n",
      "  V_ER11 = (1 / rr_ER11) * (Vmax * rmax + 0.5 * fcor * rmax**2) * (\n"
     ]
    },
    {
     "name": "stdout",
     "output_type": "stream",
     "text": [
      "'ER11_radprof_raw'  0.72451 s \n",
      "\n",
      "[  661540.24285971   662215.28392386   662890.324988   ...\n",
      " 33749353.04287171 33750028.08393586 33750703.125     ]\n"
     ]
    },
    {
     "name": "stderr",
     "output_type": "stream",
     "text": [
      "/Users/simon/tcpips/chavas15/er11/radprof_raw.py:51: RuntimeWarning: divide by zero encountered in divide\n",
      "  V_ER11 = (1 / rr_ER11) * (Vmax * rmax + 0.5 * fcor * rmax**2) * (\n",
      "/Users/simon/tcpips/chavas15/er11/radprof_raw.py:51: RuntimeWarning: invalid value encountered in multiply\n",
      "  V_ER11 = (1 / rr_ER11) * (Vmax * rmax + 0.5 * fcor * rmax**2) * (\n"
     ]
    },
    {
     "name": "stdout",
     "output_type": "stream",
     "text": [
      "'ER11_radprof_raw'  0.38691 s \n",
      "\n",
      "[  673015.94095014   673690.98201428   674366.02307842 ...\n",
      " 33749353.04287171 33750028.08393586 33750703.125     ]\n"
     ]
    },
    {
     "name": "stderr",
     "output_type": "stream",
     "text": [
      "/Users/simon/tcpips/chavas15/er11/radprof_raw.py:51: RuntimeWarning: divide by zero encountered in divide\n",
      "  V_ER11 = (1 / rr_ER11) * (Vmax * rmax + 0.5 * fcor * rmax**2) * (\n",
      "/Users/simon/tcpips/chavas15/er11/radprof_raw.py:51: RuntimeWarning: invalid value encountered in multiply\n",
      "  V_ER11 = (1 / rr_ER11) * (Vmax * rmax + 0.5 * fcor * rmax**2) * (\n"
     ]
    },
    {
     "name": "stdout",
     "output_type": "stream",
     "text": [
      "'ER11_radprof_raw'  0.39427 s \n",
      "\n",
      "[  675041.06414257   675716.10520671   676391.14627085 ...\n",
      " 33749353.04287171 33750028.08393586 33750703.125     ]\n"
     ]
    },
    {
     "name": "stderr",
     "output_type": "stream",
     "text": [
      "/Users/simon/tcpips/chavas15/er11/radprof_raw.py:51: RuntimeWarning: divide by zero encountered in divide\n",
      "  V_ER11 = (1 / rr_ER11) * (Vmax * rmax + 0.5 * fcor * rmax**2) * (\n",
      "/Users/simon/tcpips/chavas15/er11/radprof_raw.py:51: RuntimeWarning: invalid value encountered in multiply\n",
      "  V_ER11 = (1 / rr_ER11) * (Vmax * rmax + 0.5 * fcor * rmax**2) * (\n"
     ]
    },
    {
     "name": "stdout",
     "output_type": "stream",
     "text": [
      "'ER11_radprof_raw'  0.40158 s \n",
      "\n",
      "[  675716.10520671   676391.14627085   677066.18733499 ...\n",
      " 33749353.04287171 33750028.08393586 33750703.125     ]\n"
     ]
    },
    {
     "name": "stderr",
     "output_type": "stream",
     "text": [
      "/Users/simon/tcpips/chavas15/er11/radprof_raw.py:51: RuntimeWarning: divide by zero encountered in divide\n",
      "  V_ER11 = (1 / rr_ER11) * (Vmax * rmax + 0.5 * fcor * rmax**2) * (\n",
      "/Users/simon/tcpips/chavas15/er11/radprof_raw.py:51: RuntimeWarning: invalid value encountered in multiply\n",
      "  V_ER11 = (1 / rr_ER11) * (Vmax * rmax + 0.5 * fcor * rmax**2) * (\n"
     ]
    },
    {
     "name": "stdout",
     "output_type": "stream",
     "text": [
      "'ER11_radprof_raw'  0.42570 s \n",
      "\n",
      "'ER11_radprof'  3.36388 s \n",
      "\n",
      "intersection sizes 1000 1334 1334000\n",
      "'curveintersect'  2.12233 s \n",
      "\n",
      "Large storm detected. Increasing drfracrm.\n",
      "dr =  675.0340326113044\n",
      "[  602130.35708928   602805.39112189   603480.42515451 ...\n",
      " 33749001.49443477 33749676.52846738 33750351.56249999]\n"
     ]
    },
    {
     "name": "stderr",
     "output_type": "stream",
     "text": [
      "/Users/simon/tcpips/chavas15/er11/radprof_raw.py:51: RuntimeWarning: divide by zero encountered in divide\n",
      "  V_ER11 = (1 / rr_ER11) * (Vmax * rmax + 0.5 * fcor * rmax**2) * (\n",
      "/Users/simon/tcpips/chavas15/er11/radprof_raw.py:51: RuntimeWarning: invalid value encountered in multiply\n",
      "  V_ER11 = (1 / rr_ER11) * (Vmax * rmax + 0.5 * fcor * rmax**2) * (\n"
     ]
    },
    {
     "name": "stdout",
     "output_type": "stream",
     "text": [
      "'ER11_radprof_raw'  0.44511 s \n",
      "\n",
      "[  661533.35195908   662208.38599169   662883.4200243  ...\n",
      " 33749001.49443477 33749676.52846738 33750351.56249999]\n"
     ]
    },
    {
     "name": "stderr",
     "output_type": "stream",
     "text": [
      "/Users/simon/tcpips/chavas15/er11/radprof_raw.py:51: RuntimeWarning: divide by zero encountered in divide\n",
      "  V_ER11 = (1 / rr_ER11) * (Vmax * rmax + 0.5 * fcor * rmax**2) * (\n",
      "/Users/simon/tcpips/chavas15/er11/radprof_raw.py:51: RuntimeWarning: invalid value encountered in multiply\n",
      "  V_ER11 = (1 / rr_ER11) * (Vmax * rmax + 0.5 * fcor * rmax**2) * (\n"
     ]
    },
    {
     "name": "stdout",
     "output_type": "stream",
     "text": [
      "'ER11_radprof_raw'  0.43412 s \n",
      "\n",
      "[  661533.35195908   662208.38599169   662883.4200243  ...\n",
      " 33749001.49443477 33749676.52846738 33750351.56249999]\n"
     ]
    },
    {
     "name": "stderr",
     "output_type": "stream",
     "text": [
      "/Users/simon/tcpips/chavas15/er11/radprof_raw.py:51: RuntimeWarning: divide by zero encountered in divide\n",
      "  V_ER11 = (1 / rr_ER11) * (Vmax * rmax + 0.5 * fcor * rmax**2) * (\n",
      "/Users/simon/tcpips/chavas15/er11/radprof_raw.py:51: RuntimeWarning: invalid value encountered in multiply\n",
      "  V_ER11 = (1 / rr_ER11) * (Vmax * rmax + 0.5 * fcor * rmax**2) * (\n"
     ]
    },
    {
     "name": "stdout",
     "output_type": "stream",
     "text": [
      "'ER11_radprof_raw'  0.40042 s \n",
      "\n",
      "[  673008.93051347   673683.96454608   674358.99857869 ...\n",
      " 33749001.49443477 33749676.52846738 33750351.56249999]\n"
     ]
    },
    {
     "name": "stderr",
     "output_type": "stream",
     "text": [
      "/Users/simon/tcpips/chavas15/er11/radprof_raw.py:51: RuntimeWarning: divide by zero encountered in divide\n",
      "  V_ER11 = (1 / rr_ER11) * (Vmax * rmax + 0.5 * fcor * rmax**2) * (\n",
      "/Users/simon/tcpips/chavas15/er11/radprof_raw.py:51: RuntimeWarning: invalid value encountered in multiply\n",
      "  V_ER11 = (1 / rr_ER11) * (Vmax * rmax + 0.5 * fcor * rmax**2) * (\n"
     ]
    },
    {
     "name": "stdout",
     "output_type": "stream",
     "text": [
      "'ER11_radprof_raw'  0.43137 s \n",
      "\n",
      "[  675034.0326113    675709.06664392   676384.10067653 ...\n",
      " 33749001.49443477 33749676.52846738 33750351.56249999]\n"
     ]
    },
    {
     "name": "stderr",
     "output_type": "stream",
     "text": [
      "/Users/simon/tcpips/chavas15/er11/radprof_raw.py:51: RuntimeWarning: divide by zero encountered in divide\n",
      "  V_ER11 = (1 / rr_ER11) * (Vmax * rmax + 0.5 * fcor * rmax**2) * (\n",
      "/Users/simon/tcpips/chavas15/er11/radprof_raw.py:51: RuntimeWarning: invalid value encountered in multiply\n",
      "  V_ER11 = (1 / rr_ER11) * (Vmax * rmax + 0.5 * fcor * rmax**2) * (\n"
     ]
    },
    {
     "name": "stdout",
     "output_type": "stream",
     "text": [
      "'ER11_radprof_raw'  0.40524 s \n",
      "\n",
      "[  675709.06664392   676384.10067653   677059.13470914 ...\n",
      " 33749001.49443477 33749676.52846738 33750351.56249999]\n"
     ]
    },
    {
     "name": "stderr",
     "output_type": "stream",
     "text": [
      "/Users/simon/tcpips/chavas15/er11/radprof_raw.py:51: RuntimeWarning: divide by zero encountered in divide\n",
      "  V_ER11 = (1 / rr_ER11) * (Vmax * rmax + 0.5 * fcor * rmax**2) * (\n",
      "/Users/simon/tcpips/chavas15/er11/radprof_raw.py:51: RuntimeWarning: invalid value encountered in multiply\n",
      "  V_ER11 = (1 / rr_ER11) * (Vmax * rmax + 0.5 * fcor * rmax**2) * (\n"
     ]
    },
    {
     "name": "stdout",
     "output_type": "stream",
     "text": [
      "'ER11_radprof_raw'  0.89773 s \n",
      "\n",
      "'ER11_radprof'  3.67586 s \n",
      "\n",
      "intersection sizes 1000 1334 1334000\n",
      "'curveintersect'  2.21351 s \n",
      "\n",
      "Large storm detected. Increasing drfracrm.\n",
      "dr =  675.0305168456738\n",
      "[  602127.22102634   602802.25154319   603477.28206003 ...\n",
      " 33748825.7202163  33749500.75073315 33750175.78124999]\n"
     ]
    },
    {
     "name": "stderr",
     "output_type": "stream",
     "text": [
      "/Users/simon/tcpips/chavas15/er11/radprof_raw.py:51: RuntimeWarning: divide by zero encountered in divide\n",
      "  V_ER11 = (1 / rr_ER11) * (Vmax * rmax + 0.5 * fcor * rmax**2) * (\n",
      "/Users/simon/tcpips/chavas15/er11/radprof_raw.py:51: RuntimeWarning: invalid value encountered in multiply\n",
      "  V_ER11 = (1 / rr_ER11) * (Vmax * rmax + 0.5 * fcor * rmax**2) * (\n"
     ]
    },
    {
     "name": "stdout",
     "output_type": "stream",
     "text": [
      "'ER11_radprof_raw'  0.39908 s \n",
      "\n",
      "[  661529.90650876   662204.93702561   662879.96754245 ...\n",
      " 33748825.7202163  33749500.75073315 33750175.78124999]\n"
     ]
    },
    {
     "name": "stderr",
     "output_type": "stream",
     "text": [
      "/Users/simon/tcpips/chavas15/er11/radprof_raw.py:51: RuntimeWarning: divide by zero encountered in divide\n",
      "  V_ER11 = (1 / rr_ER11) * (Vmax * rmax + 0.5 * fcor * rmax**2) * (\n",
      "/Users/simon/tcpips/chavas15/er11/radprof_raw.py:51: RuntimeWarning: invalid value encountered in multiply\n",
      "  V_ER11 = (1 / rr_ER11) * (Vmax * rmax + 0.5 * fcor * rmax**2) * (\n"
     ]
    },
    {
     "name": "stdout",
     "output_type": "stream",
     "text": [
      "'ER11_radprof_raw'  0.37726 s \n",
      "\n",
      "[  661529.90650876   662204.93702561   662879.96754245 ...\n",
      " 33748825.7202163  33749500.75073315 33750175.78124999]\n"
     ]
    },
    {
     "name": "stderr",
     "output_type": "stream",
     "text": [
      "/Users/simon/tcpips/chavas15/er11/radprof_raw.py:51: RuntimeWarning: divide by zero encountered in divide\n",
      "  V_ER11 = (1 / rr_ER11) * (Vmax * rmax + 0.5 * fcor * rmax**2) * (\n",
      "/Users/simon/tcpips/chavas15/er11/radprof_raw.py:51: RuntimeWarning: invalid value encountered in multiply\n",
      "  V_ER11 = (1 / rr_ER11) * (Vmax * rmax + 0.5 * fcor * rmax**2) * (\n"
     ]
    },
    {
     "name": "stdout",
     "output_type": "stream",
     "text": [
      "'ER11_radprof_raw'  0.38824 s \n",
      "\n",
      "[  673005.42529514   673680.45581198   674355.48632883 ...\n",
      " 33748825.7202163  33749500.75073315 33750175.78124999]\n"
     ]
    },
    {
     "name": "stderr",
     "output_type": "stream",
     "text": [
      "/Users/simon/tcpips/chavas15/er11/radprof_raw.py:51: RuntimeWarning: divide by zero encountered in divide\n",
      "  V_ER11 = (1 / rr_ER11) * (Vmax * rmax + 0.5 * fcor * rmax**2) * (\n",
      "/Users/simon/tcpips/chavas15/er11/radprof_raw.py:51: RuntimeWarning: invalid value encountered in multiply\n",
      "  V_ER11 = (1 / rr_ER11) * (Vmax * rmax + 0.5 * fcor * rmax**2) * (\n"
     ]
    },
    {
     "name": "stdout",
     "output_type": "stream",
     "text": [
      "'ER11_radprof_raw'  0.40277 s \n",
      "\n",
      "[  675030.51684567   675705.54736252   676380.57787937 ...\n",
      " 33748825.7202163  33749500.75073315 33750175.78124999]\n"
     ]
    },
    {
     "name": "stderr",
     "output_type": "stream",
     "text": [
      "/Users/simon/tcpips/chavas15/er11/radprof_raw.py:51: RuntimeWarning: divide by zero encountered in divide\n",
      "  V_ER11 = (1 / rr_ER11) * (Vmax * rmax + 0.5 * fcor * rmax**2) * (\n",
      "/Users/simon/tcpips/chavas15/er11/radprof_raw.py:51: RuntimeWarning: invalid value encountered in multiply\n",
      "  V_ER11 = (1 / rr_ER11) * (Vmax * rmax + 0.5 * fcor * rmax**2) * (\n"
     ]
    },
    {
     "name": "stdout",
     "output_type": "stream",
     "text": [
      "'ER11_radprof_raw'  0.39785 s \n",
      "\n",
      "[  675705.54736252   676380.57787937   677055.60839621 ...\n",
      " 33748825.7202163  33749500.75073315 33750175.78124999]\n"
     ]
    },
    {
     "name": "stderr",
     "output_type": "stream",
     "text": [
      "/Users/simon/tcpips/chavas15/er11/radprof_raw.py:51: RuntimeWarning: divide by zero encountered in divide\n",
      "  V_ER11 = (1 / rr_ER11) * (Vmax * rmax + 0.5 * fcor * rmax**2) * (\n",
      "/Users/simon/tcpips/chavas15/er11/radprof_raw.py:51: RuntimeWarning: invalid value encountered in multiply\n",
      "  V_ER11 = (1 / rr_ER11) * (Vmax * rmax + 0.5 * fcor * rmax**2) * (\n"
     ]
    },
    {
     "name": "stdout",
     "output_type": "stream",
     "text": [
      "'ER11_radprof_raw'  0.40870 s \n",
      "\n",
      "'ER11_radprof'  3.01188 s \n",
      "\n",
      "intersection sizes 1000 1334 1334000\n",
      "'curveintersect'  2.19313 s \n",
      "\n",
      "Large storm detected. Increasing drfracrm.\n",
      "dr =  675.0287589628585\n",
      "[  602125.65299487   602800.68175383   603475.7105128  ...\n",
      " 33748737.83310708 33749412.86186603 33750087.890625  ]\n"
     ]
    },
    {
     "name": "stderr",
     "output_type": "stream",
     "text": [
      "/Users/simon/tcpips/chavas15/er11/radprof_raw.py:51: RuntimeWarning: divide by zero encountered in divide\n",
      "  V_ER11 = (1 / rr_ER11) * (Vmax * rmax + 0.5 * fcor * rmax**2) * (\n",
      "/Users/simon/tcpips/chavas15/er11/radprof_raw.py:51: RuntimeWarning: invalid value encountered in multiply\n",
      "  V_ER11 = (1 / rr_ER11) * (Vmax * rmax + 0.5 * fcor * rmax**2) * (\n"
     ]
    },
    {
     "name": "stdout",
     "output_type": "stream",
     "text": [
      "'ER11_radprof_raw'  0.42322 s \n",
      "\n",
      "[  661528.1837836    662203.21254256   662878.24130153 ...\n",
      " 33748737.83310708 33749412.86186603 33750087.890625  ]\n"
     ]
    },
    {
     "name": "stderr",
     "output_type": "stream",
     "text": [
      "/Users/simon/tcpips/chavas15/er11/radprof_raw.py:51: RuntimeWarning: divide by zero encountered in divide\n",
      "  V_ER11 = (1 / rr_ER11) * (Vmax * rmax + 0.5 * fcor * rmax**2) * (\n",
      "/Users/simon/tcpips/chavas15/er11/radprof_raw.py:51: RuntimeWarning: invalid value encountered in multiply\n",
      "  V_ER11 = (1 / rr_ER11) * (Vmax * rmax + 0.5 * fcor * rmax**2) * (\n"
     ]
    },
    {
     "name": "stdout",
     "output_type": "stream",
     "text": [
      "'ER11_radprof_raw'  0.41952 s \n",
      "\n",
      "[  661528.1837836    662203.21254256   662878.24130153 ...\n",
      " 33748737.83310708 33749412.86186603 33750087.890625  ]\n"
     ]
    },
    {
     "name": "stderr",
     "output_type": "stream",
     "text": [
      "/Users/simon/tcpips/chavas15/er11/radprof_raw.py:51: RuntimeWarning: divide by zero encountered in divide\n",
      "  V_ER11 = (1 / rr_ER11) * (Vmax * rmax + 0.5 * fcor * rmax**2) * (\n",
      "/Users/simon/tcpips/chavas15/er11/radprof_raw.py:51: RuntimeWarning: invalid value encountered in multiply\n",
      "  V_ER11 = (1 / rr_ER11) * (Vmax * rmax + 0.5 * fcor * rmax**2) * (\n"
     ]
    },
    {
     "name": "stdout",
     "output_type": "stream",
     "text": [
      "'ER11_radprof_raw'  0.39689 s \n",
      "\n",
      "[  673003.67268597   673678.70144493   674353.7302039  ...\n",
      " 33748737.83310708 33749412.86186603 33750087.890625  ]\n"
     ]
    },
    {
     "name": "stderr",
     "output_type": "stream",
     "text": [
      "/Users/simon/tcpips/chavas15/er11/radprof_raw.py:51: RuntimeWarning: divide by zero encountered in divide\n",
      "  V_ER11 = (1 / rr_ER11) * (Vmax * rmax + 0.5 * fcor * rmax**2) * (\n",
      "/Users/simon/tcpips/chavas15/er11/radprof_raw.py:51: RuntimeWarning: invalid value encountered in multiply\n",
      "  V_ER11 = (1 / rr_ER11) * (Vmax * rmax + 0.5 * fcor * rmax**2) * (\n"
     ]
    },
    {
     "name": "stdout",
     "output_type": "stream",
     "text": [
      "'ER11_radprof_raw'  0.75101 s \n",
      "\n",
      "[  675028.75896286   675703.78772182   676378.81648078 ...\n",
      " 33748737.83310708 33749412.86186603 33750087.890625  ]\n"
     ]
    },
    {
     "name": "stderr",
     "output_type": "stream",
     "text": [
      "/Users/simon/tcpips/chavas15/er11/radprof_raw.py:51: RuntimeWarning: divide by zero encountered in divide\n",
      "  V_ER11 = (1 / rr_ER11) * (Vmax * rmax + 0.5 * fcor * rmax**2) * (\n",
      "/Users/simon/tcpips/chavas15/er11/radprof_raw.py:51: RuntimeWarning: invalid value encountered in multiply\n",
      "  V_ER11 = (1 / rr_ER11) * (Vmax * rmax + 0.5 * fcor * rmax**2) * (\n"
     ]
    },
    {
     "name": "stdout",
     "output_type": "stream",
     "text": [
      "'ER11_radprof_raw'  0.37622 s \n",
      "\n",
      "[  675703.78772182   676378.81648078   677053.84523975 ...\n",
      " 33748737.83310708 33749412.86186603 33750087.890625  ]\n"
     ]
    },
    {
     "name": "stderr",
     "output_type": "stream",
     "text": [
      "/Users/simon/tcpips/chavas15/er11/radprof_raw.py:51: RuntimeWarning: divide by zero encountered in divide\n",
      "  V_ER11 = (1 / rr_ER11) * (Vmax * rmax + 0.5 * fcor * rmax**2) * (\n",
      "/Users/simon/tcpips/chavas15/er11/radprof_raw.py:51: RuntimeWarning: invalid value encountered in multiply\n",
      "  V_ER11 = (1 / rr_ER11) * (Vmax * rmax + 0.5 * fcor * rmax**2) * (\n"
     ]
    },
    {
     "name": "stdout",
     "output_type": "stream",
     "text": [
      "'ER11_radprof_raw'  0.37172 s \n",
      "\n",
      "'ER11_radprof'  3.37349 s \n",
      "\n",
      "intersection sizes 1000 1334 1334000\n",
      "'curveintersect'  2.21387 s \n",
      "\n",
      "Adjusting CkCd to find convergence.\n",
      "Large storm detected. Increasing drfracrm.\n",
      "dr =  675.9270370814833\n",
      "[  606306.55226209   606982.47929917   607658.40633625 ...\n",
      " 33793648.14592583 33794324.07296292 33795000.        ]\n"
     ]
    },
    {
     "name": "stderr",
     "output_type": "stream",
     "text": [
      "/Users/simon/tcpips/chavas15/er11/radprof_raw.py:51: RuntimeWarning: divide by zero encountered in divide\n",
      "  V_ER11 = (1 / rr_ER11) * (Vmax * rmax + 0.5 * fcor * rmax**2) * (\n",
      "/Users/simon/tcpips/chavas15/er11/radprof_raw.py:51: RuntimeWarning: invalid value encountered in multiply\n",
      "  V_ER11 = (1 / rr_ER11) * (Vmax * rmax + 0.5 * fcor * rmax**2) * (\n"
     ]
    },
    {
     "name": "stdout",
     "output_type": "stream",
     "text": [
      "'ER11_radprof_raw'  0.37744 s \n",
      "\n",
      "[  664436.2774511    665112.20448818   665788.13152526 ...\n",
      " 33793648.14592583 33794324.07296292 33795000.        ]\n"
     ]
    },
    {
     "name": "stderr",
     "output_type": "stream",
     "text": [
      "/Users/simon/tcpips/chavas15/er11/radprof_raw.py:51: RuntimeWarning: divide by zero encountered in divide\n",
      "  V_ER11 = (1 / rr_ER11) * (Vmax * rmax + 0.5 * fcor * rmax**2) * (\n",
      "/Users/simon/tcpips/chavas15/er11/radprof_raw.py:51: RuntimeWarning: invalid value encountered in multiply\n",
      "  V_ER11 = (1 / rr_ER11) * (Vmax * rmax + 0.5 * fcor * rmax**2) * (\n"
     ]
    },
    {
     "name": "stdout",
     "output_type": "stream",
     "text": [
      "'ER11_radprof_raw'  0.37932 s \n",
      "\n",
      "[  664436.2774511    665112.20448818   665788.13152526 ...\n",
      " 33793648.14592583 33794324.07296292 33795000.        ]\n"
     ]
    },
    {
     "name": "stderr",
     "output_type": "stream",
     "text": [
      "/Users/simon/tcpips/chavas15/er11/radprof_raw.py:51: RuntimeWarning: divide by zero encountered in divide\n",
      "  V_ER11 = (1 / rr_ER11) * (Vmax * rmax + 0.5 * fcor * rmax**2) * (\n",
      "/Users/simon/tcpips/chavas15/er11/radprof_raw.py:51: RuntimeWarning: invalid value encountered in multiply\n",
      "  V_ER11 = (1 / rr_ER11) * (Vmax * rmax + 0.5 * fcor * rmax**2) * (\n"
     ]
    },
    {
     "name": "stdout",
     "output_type": "stream",
     "text": [
      "'ER11_radprof_raw'  0.38206 s \n",
      "\n",
      "[  673899.25597024   674575.18300732   675251.1100444  ...\n",
      " 33793648.14592583 33794324.07296292 33795000.        ]\n"
     ]
    },
    {
     "name": "stderr",
     "output_type": "stream",
     "text": [
      "/Users/simon/tcpips/chavas15/er11/radprof_raw.py:51: RuntimeWarning: divide by zero encountered in divide\n",
      "  V_ER11 = (1 / rr_ER11) * (Vmax * rmax + 0.5 * fcor * rmax**2) * (\n",
      "/Users/simon/tcpips/chavas15/er11/radprof_raw.py:51: RuntimeWarning: invalid value encountered in multiply\n",
      "  V_ER11 = (1 / rr_ER11) * (Vmax * rmax + 0.5 * fcor * rmax**2) * (\n"
     ]
    },
    {
     "name": "stdout",
     "output_type": "stream",
     "text": [
      "'ER11_radprof_raw'  0.37937 s \n",
      "\n",
      "[  676602.96411856   677278.89115565   677954.81819273 ...\n",
      " 33793648.14592583 33794324.07296292 33795000.        ]\n"
     ]
    },
    {
     "name": "stderr",
     "output_type": "stream",
     "text": [
      "/Users/simon/tcpips/chavas15/er11/radprof_raw.py:51: RuntimeWarning: divide by zero encountered in divide\n",
      "  V_ER11 = (1 / rr_ER11) * (Vmax * rmax + 0.5 * fcor * rmax**2) * (\n",
      "/Users/simon/tcpips/chavas15/er11/radprof_raw.py:51: RuntimeWarning: invalid value encountered in multiply\n",
      "  V_ER11 = (1 / rr_ER11) * (Vmax * rmax + 0.5 * fcor * rmax**2) * (\n"
     ]
    },
    {
     "name": "stdout",
     "output_type": "stream",
     "text": [
      "'ER11_radprof_raw'  0.38240 s \n",
      "\n",
      "'ER11_radprof'  2.37810 s \n",
      "\n",
      "intersection sizes 1000 1332 1332000\n",
      "'curveintersect'  2.11710 s \n",
      "\n",
      "Large storm detected. Increasing drfracrm.\n",
      "dr =  675.4770190807633\n",
      "[  606578.36313453   607253.84015361   607929.31717269 ...\n",
      " 33771149.04596184 33771824.52298092 33772500.        ]\n"
     ]
    },
    {
     "name": "stderr",
     "output_type": "stream",
     "text": [
      "/Users/simon/tcpips/chavas15/er11/radprof_raw.py:51: RuntimeWarning: divide by zero encountered in divide\n",
      "  V_ER11 = (1 / rr_ER11) * (Vmax * rmax + 0.5 * fcor * rmax**2) * (\n",
      "/Users/simon/tcpips/chavas15/er11/radprof_raw.py:51: RuntimeWarning: invalid value encountered in multiply\n",
      "  V_ER11 = (1 / rr_ER11) * (Vmax * rmax + 0.5 * fcor * rmax**2) * (\n"
     ]
    },
    {
     "name": "stdout",
     "output_type": "stream",
     "text": [
      "'ER11_radprof_raw'  0.41866 s \n",
      "\n",
      "[  663318.43273731   663993.90975639   664669.38677547 ...\n",
      " 33771149.04596184 33771824.52298092 33772500.        ]\n"
     ]
    },
    {
     "name": "stderr",
     "output_type": "stream",
     "text": [
      "/Users/simon/tcpips/chavas15/er11/radprof_raw.py:51: RuntimeWarning: divide by zero encountered in divide\n",
      "  V_ER11 = (1 / rr_ER11) * (Vmax * rmax + 0.5 * fcor * rmax**2) * (\n",
      "/Users/simon/tcpips/chavas15/er11/radprof_raw.py:51: RuntimeWarning: invalid value encountered in multiply\n",
      "  V_ER11 = (1 / rr_ER11) * (Vmax * rmax + 0.5 * fcor * rmax**2) * (\n"
     ]
    },
    {
     "name": "stdout",
     "output_type": "stream",
     "text": [
      "'ER11_radprof_raw'  0.40819 s \n",
      "\n",
      "[  663318.43273731   663993.90975639   664669.38677547 ...\n",
      " 33771149.04596184 33771824.52298092 33772500.        ]\n"
     ]
    },
    {
     "name": "stderr",
     "output_type": "stream",
     "text": [
      "/Users/simon/tcpips/chavas15/er11/radprof_raw.py:51: RuntimeWarning: divide by zero encountered in divide\n",
      "  V_ER11 = (1 / rr_ER11) * (Vmax * rmax + 0.5 * fcor * rmax**2) * (\n",
      "/Users/simon/tcpips/chavas15/er11/radprof_raw.py:51: RuntimeWarning: invalid value encountered in multiply\n",
      "  V_ER11 = (1 / rr_ER11) * (Vmax * rmax + 0.5 * fcor * rmax**2) * (\n"
     ]
    },
    {
     "name": "stdout",
     "output_type": "stream",
     "text": [
      "'ER11_radprof_raw'  0.43336 s \n",
      "\n"
     ]
    },
    {
     "name": "stderr",
     "output_type": "stream",
     "text": [
      "/Users/simon/tcpips/chavas15/er11/radprof_raw.py:51: RuntimeWarning: divide by zero encountered in divide\n",
      "  V_ER11 = (1 / rr_ER11) * (Vmax * rmax + 0.5 * fcor * rmax**2) * (\n",
      "/Users/simon/tcpips/chavas15/er11/radprof_raw.py:51: RuntimeWarning: invalid value encountered in multiply\n",
      "  V_ER11 = (1 / rr_ER11) * (Vmax * rmax + 0.5 * fcor * rmax**2) * (\n"
     ]
    },
    {
     "name": "stdout",
     "output_type": "stream",
     "text": [
      "[  673450.58802352   674126.0650426    674801.54206168 ...\n",
      " 33771149.04596184 33771824.52298092 33772500.        ]\n",
      "'ER11_radprof_raw'  0.42311 s \n",
      "\n",
      "[  676152.49609984   676827.97311892   677503.45013801 ...\n",
      " 33771149.04596184 33771824.52298092 33772500.        ]\n"
     ]
    },
    {
     "name": "stderr",
     "output_type": "stream",
     "text": [
      "/Users/simon/tcpips/chavas15/er11/radprof_raw.py:51: RuntimeWarning: divide by zero encountered in divide\n",
      "  V_ER11 = (1 / rr_ER11) * (Vmax * rmax + 0.5 * fcor * rmax**2) * (\n",
      "/Users/simon/tcpips/chavas15/er11/radprof_raw.py:51: RuntimeWarning: invalid value encountered in multiply\n",
      "  V_ER11 = (1 / rr_ER11) * (Vmax * rmax + 0.5 * fcor * rmax**2) * (\n"
     ]
    },
    {
     "name": "stdout",
     "output_type": "stream",
     "text": [
      "'ER11_radprof_raw'  0.46663 s \n",
      "\n",
      "'ER11_radprof'  3.05583 s \n",
      "\n",
      "intersection sizes 1000 1333 1333000\n",
      "'curveintersect'  2.27379 s \n",
      "\n",
      "Large storm detected. Increasing drfracrm.\n",
      "dr =  675.2520100804032\n",
      "[  606376.3050522    607051.55706228   607726.80907236 ...\n",
      " 33759899.49597984 33760574.74798992 33761250.        ]\n"
     ]
    },
    {
     "name": "stderr",
     "output_type": "stream",
     "text": [
      "/Users/simon/tcpips/chavas15/er11/radprof_raw.py:51: RuntimeWarning: divide by zero encountered in divide\n",
      "  V_ER11 = (1 / rr_ER11) * (Vmax * rmax + 0.5 * fcor * rmax**2) * (\n",
      "/Users/simon/tcpips/chavas15/er11/radprof_raw.py:51: RuntimeWarning: invalid value encountered in multiply\n",
      "  V_ER11 = (1 / rr_ER11) * (Vmax * rmax + 0.5 * fcor * rmax**2) * (\n"
     ]
    },
    {
     "name": "stdout",
     "output_type": "stream",
     "text": [
      "'ER11_radprof_raw'  0.42790 s \n",
      "\n",
      "[  663097.47389896   663772.72590904   664447.97791912 ...\n",
      " 33759899.49597984 33760574.74798992 33761250.        ]\n"
     ]
    },
    {
     "name": "stderr",
     "output_type": "stream",
     "text": [
      "/Users/simon/tcpips/chavas15/er11/radprof_raw.py:51: RuntimeWarning: divide by zero encountered in divide\n",
      "  V_ER11 = (1 / rr_ER11) * (Vmax * rmax + 0.5 * fcor * rmax**2) * (\n",
      "/Users/simon/tcpips/chavas15/er11/radprof_raw.py:51: RuntimeWarning: invalid value encountered in multiply\n",
      "  V_ER11 = (1 / rr_ER11) * (Vmax * rmax + 0.5 * fcor * rmax**2) * (\n"
     ]
    },
    {
     "name": "stdout",
     "output_type": "stream",
     "text": [
      "'ER11_radprof_raw'  0.40920 s \n",
      "\n",
      "[  663097.47389896   663772.72590904   664447.97791912 ...\n",
      " 33759899.49597984 33760574.74798992 33761250.        ]\n"
     ]
    },
    {
     "name": "stderr",
     "output_type": "stream",
     "text": [
      "/Users/simon/tcpips/chavas15/er11/radprof_raw.py:51: RuntimeWarning: divide by zero encountered in divide\n",
      "  V_ER11 = (1 / rr_ER11) * (Vmax * rmax + 0.5 * fcor * rmax**2) * (\n",
      "/Users/simon/tcpips/chavas15/er11/radprof_raw.py:51: RuntimeWarning: invalid value encountered in multiply\n",
      "  V_ER11 = (1 / rr_ER11) * (Vmax * rmax + 0.5 * fcor * rmax**2) * (\n"
     ]
    },
    {
     "name": "stdout",
     "output_type": "stream",
     "text": [
      "'ER11_radprof_raw'  0.39589 s \n",
      "\n",
      "[  673226.25405016   673901.50606024   674576.75807032 ...\n",
      " 33759899.49597984 33760574.74798992 33761250.        ]\n"
     ]
    },
    {
     "name": "stderr",
     "output_type": "stream",
     "text": [
      "/Users/simon/tcpips/chavas15/er11/radprof_raw.py:51: RuntimeWarning: divide by zero encountered in divide\n",
      "  V_ER11 = (1 / rr_ER11) * (Vmax * rmax + 0.5 * fcor * rmax**2) * (\n",
      "/Users/simon/tcpips/chavas15/er11/radprof_raw.py:51: RuntimeWarning: invalid value encountered in multiply\n",
      "  V_ER11 = (1 / rr_ER11) * (Vmax * rmax + 0.5 * fcor * rmax**2) * (\n"
     ]
    },
    {
     "name": "stdout",
     "output_type": "stream",
     "text": [
      "'ER11_radprof_raw'  0.40522 s \n",
      "\n",
      "[  675927.26209048   676602.51410056   677277.76611064 ...\n",
      " 33759899.49597984 33760574.74798992 33761250.        ]\n"
     ]
    },
    {
     "name": "stderr",
     "output_type": "stream",
     "text": [
      "/Users/simon/tcpips/chavas15/er11/radprof_raw.py:51: RuntimeWarning: divide by zero encountered in divide\n",
      "  V_ER11 = (1 / rr_ER11) * (Vmax * rmax + 0.5 * fcor * rmax**2) * (\n",
      "/Users/simon/tcpips/chavas15/er11/radprof_raw.py:51: RuntimeWarning: invalid value encountered in multiply\n",
      "  V_ER11 = (1 / rr_ER11) * (Vmax * rmax + 0.5 * fcor * rmax**2) * (\n"
     ]
    },
    {
     "name": "stdout",
     "output_type": "stream",
     "text": [
      "'ER11_radprof_raw'  0.42712 s \n",
      "\n",
      "'ER11_radprof'  2.55288 s \n",
      "\n",
      "intersection sizes 1000 1333 1333000\n",
      "'curveintersect'  2.12800 s \n",
      "\n",
      "Large storm detected. Increasing drfracrm.\n",
      "dr =  675.1395055802232\n",
      "[  606275.27601104   606950.41551662   607625.5550222  ...\n",
      " 33754274.72098883 33754949.86049441 33755624.99999999]\n"
     ]
    },
    {
     "name": "stderr",
     "output_type": "stream",
     "text": [
      "/Users/simon/tcpips/chavas15/er11/radprof_raw.py:51: RuntimeWarning: divide by zero encountered in divide\n",
      "  V_ER11 = (1 / rr_ER11) * (Vmax * rmax + 0.5 * fcor * rmax**2) * (\n",
      "/Users/simon/tcpips/chavas15/er11/radprof_raw.py:51: RuntimeWarning: invalid value encountered in multiply\n",
      "  V_ER11 = (1 / rr_ER11) * (Vmax * rmax + 0.5 * fcor * rmax**2) * (\n"
     ]
    },
    {
     "name": "stdout",
     "output_type": "stream",
     "text": [
      "'ER11_radprof_raw'  0.40776 s \n",
      "\n",
      "[  662986.99447978   663662.13398536   664337.27349094 ...\n",
      " 33754274.72098883 33754949.86049441 33755624.99999999]\n"
     ]
    },
    {
     "name": "stderr",
     "output_type": "stream",
     "text": [
      "/Users/simon/tcpips/chavas15/er11/radprof_raw.py:51: RuntimeWarning: divide by zero encountered in divide\n",
      "  V_ER11 = (1 / rr_ER11) * (Vmax * rmax + 0.5 * fcor * rmax**2) * (\n",
      "/Users/simon/tcpips/chavas15/er11/radprof_raw.py:51: RuntimeWarning: invalid value encountered in multiply\n",
      "  V_ER11 = (1 / rr_ER11) * (Vmax * rmax + 0.5 * fcor * rmax**2) * (\n"
     ]
    },
    {
     "name": "stdout",
     "output_type": "stream",
     "text": [
      "'ER11_radprof_raw'  0.39745 s \n",
      "\n",
      "[  662986.99447978   663662.13398536   664337.27349094 ...\n",
      " 33754274.72098883 33754949.86049441 33755624.99999999]\n"
     ]
    },
    {
     "name": "stderr",
     "output_type": "stream",
     "text": [
      "/Users/simon/tcpips/chavas15/er11/radprof_raw.py:51: RuntimeWarning: divide by zero encountered in divide\n",
      "  V_ER11 = (1 / rr_ER11) * (Vmax * rmax + 0.5 * fcor * rmax**2) * (\n",
      "/Users/simon/tcpips/chavas15/er11/radprof_raw.py:51: RuntimeWarning: invalid value encountered in multiply\n",
      "  V_ER11 = (1 / rr_ER11) * (Vmax * rmax + 0.5 * fcor * rmax**2) * (\n"
     ]
    },
    {
     "name": "stdout",
     "output_type": "stream",
     "text": [
      "'ER11_radprof_raw'  0.39218 s \n",
      "\n",
      "[  673114.08706348   673789.22656906   674464.36607464 ...\n",
      " 33754274.72098883 33754949.86049441 33755624.99999999]\n"
     ]
    },
    {
     "name": "stderr",
     "output_type": "stream",
     "text": [
      "/Users/simon/tcpips/chavas15/er11/radprof_raw.py:51: RuntimeWarning: divide by zero encountered in divide\n",
      "  V_ER11 = (1 / rr_ER11) * (Vmax * rmax + 0.5 * fcor * rmax**2) * (\n",
      "/Users/simon/tcpips/chavas15/er11/radprof_raw.py:51: RuntimeWarning: invalid value encountered in multiply\n",
      "  V_ER11 = (1 / rr_ER11) * (Vmax * rmax + 0.5 * fcor * rmax**2) * (\n"
     ]
    },
    {
     "name": "stdout",
     "output_type": "stream",
     "text": [
      "'ER11_radprof_raw'  0.83594 s \n",
      "\n",
      "[  675814.6450858    676489.78459138   677164.92409696 ...\n",
      " 33754274.72098883 33754949.86049441 33755624.99999999]\n"
     ]
    },
    {
     "name": "stderr",
     "output_type": "stream",
     "text": [
      "/Users/simon/tcpips/chavas15/er11/radprof_raw.py:51: RuntimeWarning: divide by zero encountered in divide\n",
      "  V_ER11 = (1 / rr_ER11) * (Vmax * rmax + 0.5 * fcor * rmax**2) * (\n",
      "/Users/simon/tcpips/chavas15/er11/radprof_raw.py:51: RuntimeWarning: invalid value encountered in multiply\n",
      "  V_ER11 = (1 / rr_ER11) * (Vmax * rmax + 0.5 * fcor * rmax**2) * (\n"
     ]
    },
    {
     "name": "stdout",
     "output_type": "stream",
     "text": [
      "'ER11_radprof_raw'  0.40019 s \n",
      "\n",
      "'ER11_radprof'  2.94853 s \n",
      "\n",
      "intersection sizes 1000 1334 1334000\n",
      "'curveintersect'  2.17709 s \n",
      "\n",
      "Large storm detected. Increasing drfracrm.\n",
      "dr =  675.0832533301333\n",
      "[  606224.76149046   606899.84474379   607574.92799712 ...\n",
      " 33751462.33349334 33752137.41674667 33752812.5       ]\n"
     ]
    },
    {
     "name": "stderr",
     "output_type": "stream",
     "text": [
      "/Users/simon/tcpips/chavas15/er11/radprof_raw.py:51: RuntimeWarning: divide by zero encountered in divide\n",
      "  V_ER11 = (1 / rr_ER11) * (Vmax * rmax + 0.5 * fcor * rmax**2) * (\n",
      "/Users/simon/tcpips/chavas15/er11/radprof_raw.py:51: RuntimeWarning: invalid value encountered in multiply\n",
      "  V_ER11 = (1 / rr_ER11) * (Vmax * rmax + 0.5 * fcor * rmax**2) * (\n"
     ]
    },
    {
     "name": "stdout",
     "output_type": "stream",
     "text": [
      "'ER11_radprof_raw'  0.39976 s \n",
      "\n",
      "[  662931.75477019   663606.83802352   664281.92127685 ...\n",
      " 33751462.33349334 33752137.41674667 33752812.5       ]\n"
     ]
    },
    {
     "name": "stderr",
     "output_type": "stream",
     "text": [
      "/Users/simon/tcpips/chavas15/er11/radprof_raw.py:51: RuntimeWarning: divide by zero encountered in divide\n",
      "  V_ER11 = (1 / rr_ER11) * (Vmax * rmax + 0.5 * fcor * rmax**2) * (\n",
      "/Users/simon/tcpips/chavas15/er11/radprof_raw.py:51: RuntimeWarning: invalid value encountered in multiply\n",
      "  V_ER11 = (1 / rr_ER11) * (Vmax * rmax + 0.5 * fcor * rmax**2) * (\n"
     ]
    },
    {
     "name": "stdout",
     "output_type": "stream",
     "text": [
      "'ER11_radprof_raw'  0.41200 s \n",
      "\n",
      "[  662931.75477019   663606.83802352   664281.92127685 ...\n",
      " 33751462.33349334 33752137.41674667 33752812.5       ]\n"
     ]
    },
    {
     "name": "stderr",
     "output_type": "stream",
     "text": [
      "/Users/simon/tcpips/chavas15/er11/radprof_raw.py:51: RuntimeWarning: divide by zero encountered in divide\n",
      "  V_ER11 = (1 / rr_ER11) * (Vmax * rmax + 0.5 * fcor * rmax**2) * (\n",
      "/Users/simon/tcpips/chavas15/er11/radprof_raw.py:51: RuntimeWarning: invalid value encountered in multiply\n",
      "  V_ER11 = (1 / rr_ER11) * (Vmax * rmax + 0.5 * fcor * rmax**2) * (\n"
     ]
    },
    {
     "name": "stdout",
     "output_type": "stream",
     "text": [
      "'ER11_radprof_raw'  0.39638 s \n",
      "\n",
      "[  673058.00357014   673733.08682347   674408.1700768  ...\n",
      " 33751462.33349334 33752137.41674667 33752812.5       ]\n"
     ]
    },
    {
     "name": "stderr",
     "output_type": "stream",
     "text": [
      "/Users/simon/tcpips/chavas15/er11/radprof_raw.py:51: RuntimeWarning: divide by zero encountered in divide\n",
      "  V_ER11 = (1 / rr_ER11) * (Vmax * rmax + 0.5 * fcor * rmax**2) * (\n",
      "/Users/simon/tcpips/chavas15/er11/radprof_raw.py:51: RuntimeWarning: invalid value encountered in multiply\n",
      "  V_ER11 = (1 / rr_ER11) * (Vmax * rmax + 0.5 * fcor * rmax**2) * (\n"
     ]
    },
    {
     "name": "stdout",
     "output_type": "stream",
     "text": [
      "'ER11_radprof_raw'  0.39075 s \n",
      "\n"
     ]
    },
    {
     "name": "stderr",
     "output_type": "stream",
     "text": [
      "/Users/simon/tcpips/chavas15/er11/radprof_raw.py:51: RuntimeWarning: divide by zero encountered in divide\n",
      "  V_ER11 = (1 / rr_ER11) * (Vmax * rmax + 0.5 * fcor * rmax**2) * (\n",
      "/Users/simon/tcpips/chavas15/er11/radprof_raw.py:51: RuntimeWarning: invalid value encountered in multiply\n",
      "  V_ER11 = (1 / rr_ER11) * (Vmax * rmax + 0.5 * fcor * rmax**2) * (\n"
     ]
    },
    {
     "name": "stdout",
     "output_type": "stream",
     "text": [
      "[  675758.33658346   676433.41983679   677108.50309012 ...\n",
      " 33751462.33349334 33752137.41674667 33752812.5       ]\n",
      "'ER11_radprof_raw'  0.38345 s \n",
      "\n",
      "'ER11_radprof'  2.51484 s \n",
      "\n",
      "intersection sizes 1000 1334 1334000\n",
      "'curveintersect'  2.40996 s \n",
      "\n",
      "Large storm detected. Increasing drfracrm.\n",
      "dr =  675.0551272050881\n",
      "[  606199.50423017   606874.55935737   607549.61448458 ...\n",
      " 33750056.13974559 33750731.19487279 33751406.24999999]\n"
     ]
    },
    {
     "name": "stderr",
     "output_type": "stream",
     "text": [
      "/Users/simon/tcpips/chavas15/er11/radprof_raw.py:51: RuntimeWarning: divide by zero encountered in divide\n",
      "  V_ER11 = (1 / rr_ER11) * (Vmax * rmax + 0.5 * fcor * rmax**2) * (\n",
      "/Users/simon/tcpips/chavas15/er11/radprof_raw.py:51: RuntimeWarning: invalid value encountered in multiply\n",
      "  V_ER11 = (1 / rr_ER11) * (Vmax * rmax + 0.5 * fcor * rmax**2) * (\n"
     ]
    },
    {
     "name": "stdout",
     "output_type": "stream",
     "text": [
      "'ER11_radprof_raw'  0.43753 s \n",
      "\n",
      "[  662904.1349154    663579.1900426    664254.24516981 ...\n",
      " 33750056.13974559 33750731.19487279 33751406.24999999]\n"
     ]
    },
    {
     "name": "stderr",
     "output_type": "stream",
     "text": [
      "/Users/simon/tcpips/chavas15/er11/radprof_raw.py:51: RuntimeWarning: divide by zero encountered in divide\n",
      "  V_ER11 = (1 / rr_ER11) * (Vmax * rmax + 0.5 * fcor * rmax**2) * (\n",
      "/Users/simon/tcpips/chavas15/er11/radprof_raw.py:51: RuntimeWarning: invalid value encountered in multiply\n",
      "  V_ER11 = (1 / rr_ER11) * (Vmax * rmax + 0.5 * fcor * rmax**2) * (\n"
     ]
    },
    {
     "name": "stdout",
     "output_type": "stream",
     "text": [
      "'ER11_radprof_raw'  0.41780 s \n",
      "\n",
      "[  662904.1349154    663579.1900426    664254.24516981 ...\n",
      " 33750056.13974559 33750731.19487279 33751406.24999999]\n"
     ]
    },
    {
     "name": "stderr",
     "output_type": "stream",
     "text": [
      "/Users/simon/tcpips/chavas15/er11/radprof_raw.py:51: RuntimeWarning: divide by zero encountered in divide\n",
      "  V_ER11 = (1 / rr_ER11) * (Vmax * rmax + 0.5 * fcor * rmax**2) * (\n",
      "/Users/simon/tcpips/chavas15/er11/radprof_raw.py:51: RuntimeWarning: invalid value encountered in multiply\n",
      "  V_ER11 = (1 / rr_ER11) * (Vmax * rmax + 0.5 * fcor * rmax**2) * (\n"
     ]
    },
    {
     "name": "stdout",
     "output_type": "stream",
     "text": [
      "'ER11_radprof_raw'  0.42323 s \n",
      "\n",
      "[  673029.96182347   673705.01695068   674380.07207788 ...\n",
      " 33750056.13974559 33750731.19487279 33751406.24999999]\n"
     ]
    },
    {
     "name": "stderr",
     "output_type": "stream",
     "text": [
      "/Users/simon/tcpips/chavas15/er11/radprof_raw.py:51: RuntimeWarning: divide by zero encountered in divide\n",
      "  V_ER11 = (1 / rr_ER11) * (Vmax * rmax + 0.5 * fcor * rmax**2) * (\n",
      "/Users/simon/tcpips/chavas15/er11/radprof_raw.py:51: RuntimeWarning: invalid value encountered in multiply\n",
      "  V_ER11 = (1 / rr_ER11) * (Vmax * rmax + 0.5 * fcor * rmax**2) * (\n"
     ]
    },
    {
     "name": "stdout",
     "output_type": "stream",
     "text": [
      "'ER11_radprof_raw'  0.41772 s \n",
      "\n"
     ]
    },
    {
     "name": "stderr",
     "output_type": "stream",
     "text": [
      "/Users/simon/tcpips/chavas15/er11/radprof_raw.py:51: RuntimeWarning: divide by zero encountered in divide\n",
      "  V_ER11 = (1 / rr_ER11) * (Vmax * rmax + 0.5 * fcor * rmax**2) * (\n",
      "/Users/simon/tcpips/chavas15/er11/radprof_raw.py:51: RuntimeWarning: invalid value encountered in multiply\n",
      "  V_ER11 = (1 / rr_ER11) * (Vmax * rmax + 0.5 * fcor * rmax**2) * (\n"
     ]
    },
    {
     "name": "stdout",
     "output_type": "stream",
     "text": [
      "[  675730.18233229   676405.2374595    677080.2925867  ...\n",
      " 33750056.13974559 33750731.19487279 33751406.24999999]\n",
      "'ER11_radprof_raw'  0.41327 s \n",
      "\n",
      "'ER11_radprof'  3.01650 s \n",
      "\n",
      "intersection sizes 1000 1334 1334000\n",
      "'curveintersect'  2.12972 s \n",
      "\n",
      "Large storm detected. Increasing drfracrm.\n",
      "dr =  675.0410641425657\n",
      "[  606186.87560002   606861.91666417   607536.95772831 ...\n",
      " 33749353.04287171 33750028.08393586 33750703.125     ]\n"
     ]
    },
    {
     "name": "stderr",
     "output_type": "stream",
     "text": [
      "/Users/simon/tcpips/chavas15/er11/radprof_raw.py:51: RuntimeWarning: divide by zero encountered in divide\n",
      "  V_ER11 = (1 / rr_ER11) * (Vmax * rmax + 0.5 * fcor * rmax**2) * (\n",
      "/Users/simon/tcpips/chavas15/er11/radprof_raw.py:51: RuntimeWarning: invalid value encountered in multiply\n",
      "  V_ER11 = (1 / rr_ER11) * (Vmax * rmax + 0.5 * fcor * rmax**2) * (\n"
     ]
    },
    {
     "name": "stdout",
     "output_type": "stream",
     "text": [
      "'ER11_radprof_raw'  0.39819 s \n",
      "\n",
      "[  662890.324988     663565.36605214   664240.40711628 ...\n",
      " 33749353.04287171 33750028.08393586 33750703.125     ]\n"
     ]
    },
    {
     "name": "stderr",
     "output_type": "stream",
     "text": [
      "/Users/simon/tcpips/chavas15/er11/radprof_raw.py:51: RuntimeWarning: divide by zero encountered in divide\n",
      "  V_ER11 = (1 / rr_ER11) * (Vmax * rmax + 0.5 * fcor * rmax**2) * (\n",
      "/Users/simon/tcpips/chavas15/er11/radprof_raw.py:51: RuntimeWarning: invalid value encountered in multiply\n",
      "  V_ER11 = (1 / rr_ER11) * (Vmax * rmax + 0.5 * fcor * rmax**2) * (\n"
     ]
    },
    {
     "name": "stdout",
     "output_type": "stream",
     "text": [
      "'ER11_radprof_raw'  0.42493 s \n",
      "\n",
      "[  662890.324988     663565.36605214   664240.40711628 ...\n",
      " 33749353.04287171 33750028.08393586 33750703.125     ]\n"
     ]
    },
    {
     "name": "stderr",
     "output_type": "stream",
     "text": [
      "/Users/simon/tcpips/chavas15/er11/radprof_raw.py:51: RuntimeWarning: divide by zero encountered in divide\n",
      "  V_ER11 = (1 / rr_ER11) * (Vmax * rmax + 0.5 * fcor * rmax**2) * (\n",
      "/Users/simon/tcpips/chavas15/er11/radprof_raw.py:51: RuntimeWarning: invalid value encountered in multiply\n",
      "  V_ER11 = (1 / rr_ER11) * (Vmax * rmax + 0.5 * fcor * rmax**2) * (\n"
     ]
    },
    {
     "name": "stdout",
     "output_type": "stream",
     "text": [
      "'ER11_radprof_raw'  0.41582 s \n",
      "\n",
      "[  673015.94095014   673690.98201428   674366.02307842 ...\n",
      " 33749353.04287171 33750028.08393586 33750703.125     ]\n"
     ]
    },
    {
     "name": "stderr",
     "output_type": "stream",
     "text": [
      "/Users/simon/tcpips/chavas15/er11/radprof_raw.py:51: RuntimeWarning: divide by zero encountered in divide\n",
      "  V_ER11 = (1 / rr_ER11) * (Vmax * rmax + 0.5 * fcor * rmax**2) * (\n",
      "/Users/simon/tcpips/chavas15/er11/radprof_raw.py:51: RuntimeWarning: invalid value encountered in multiply\n",
      "  V_ER11 = (1 / rr_ER11) * (Vmax * rmax + 0.5 * fcor * rmax**2) * (\n"
     ]
    },
    {
     "name": "stdout",
     "output_type": "stream",
     "text": [
      "'ER11_radprof_raw'  0.41060 s \n",
      "\n",
      "[  675716.10520671   676391.14627085   677066.18733499 ...\n",
      " 33749353.04287171 33750028.08393586 33750703.125     ]\n"
     ]
    },
    {
     "name": "stderr",
     "output_type": "stream",
     "text": [
      "/Users/simon/tcpips/chavas15/er11/radprof_raw.py:51: RuntimeWarning: divide by zero encountered in divide\n",
      "  V_ER11 = (1 / rr_ER11) * (Vmax * rmax + 0.5 * fcor * rmax**2) * (\n",
      "/Users/simon/tcpips/chavas15/er11/radprof_raw.py:51: RuntimeWarning: invalid value encountered in multiply\n",
      "  V_ER11 = (1 / rr_ER11) * (Vmax * rmax + 0.5 * fcor * rmax**2) * (\n"
     ]
    },
    {
     "name": "stdout",
     "output_type": "stream",
     "text": [
      "'ER11_radprof_raw'  0.40644 s \n",
      "\n",
      "'ER11_radprof'  2.53921 s \n",
      "\n",
      "intersection sizes 1000 1334 1334000\n",
      "'curveintersect'  2.14830 s \n",
      "\n",
      "Large storm detected. Increasing drfracrm.\n",
      "dr =  675.0340326113044\n",
      "[  606180.56128495   606855.59531756   607530.62935017 ...\n",
      " 33749001.49443477 33749676.52846738 33750351.56249999]\n"
     ]
    },
    {
     "name": "stderr",
     "output_type": "stream",
     "text": [
      "/Users/simon/tcpips/chavas15/er11/radprof_raw.py:51: RuntimeWarning: divide by zero encountered in divide\n",
      "  V_ER11 = (1 / rr_ER11) * (Vmax * rmax + 0.5 * fcor * rmax**2) * (\n",
      "/Users/simon/tcpips/chavas15/er11/radprof_raw.py:51: RuntimeWarning: invalid value encountered in multiply\n",
      "  V_ER11 = (1 / rr_ER11) * (Vmax * rmax + 0.5 * fcor * rmax**2) * (\n"
     ]
    },
    {
     "name": "stdout",
     "output_type": "stream",
     "text": [
      "'ER11_radprof_raw'  0.38470 s \n",
      "\n",
      "[  662883.4200243    663558.45405691   664233.48808952 ...\n",
      " 33749001.49443477 33749676.52846738 33750351.56249999]\n"
     ]
    },
    {
     "name": "stderr",
     "output_type": "stream",
     "text": [
      "/Users/simon/tcpips/chavas15/er11/radprof_raw.py:51: RuntimeWarning: divide by zero encountered in divide\n",
      "  V_ER11 = (1 / rr_ER11) * (Vmax * rmax + 0.5 * fcor * rmax**2) * (\n",
      "/Users/simon/tcpips/chavas15/er11/radprof_raw.py:51: RuntimeWarning: invalid value encountered in multiply\n",
      "  V_ER11 = (1 / rr_ER11) * (Vmax * rmax + 0.5 * fcor * rmax**2) * (\n"
     ]
    },
    {
     "name": "stdout",
     "output_type": "stream",
     "text": [
      "'ER11_radprof_raw'  0.38274 s \n",
      "\n",
      "[  662883.4200243    663558.45405691   664233.48808952 ...\n",
      " 33749001.49443477 33749676.52846738 33750351.56249999]\n"
     ]
    },
    {
     "name": "stderr",
     "output_type": "stream",
     "text": [
      "/Users/simon/tcpips/chavas15/er11/radprof_raw.py:51: RuntimeWarning: divide by zero encountered in divide\n",
      "  V_ER11 = (1 / rr_ER11) * (Vmax * rmax + 0.5 * fcor * rmax**2) * (\n",
      "/Users/simon/tcpips/chavas15/er11/radprof_raw.py:51: RuntimeWarning: invalid value encountered in multiply\n",
      "  V_ER11 = (1 / rr_ER11) * (Vmax * rmax + 0.5 * fcor * rmax**2) * (\n"
     ]
    },
    {
     "name": "stdout",
     "output_type": "stream",
     "text": [
      "'ER11_radprof_raw'  0.37290 s \n",
      "\n",
      "[  673008.93051347   673683.96454608   674358.99857869 ...\n",
      " 33749001.49443477 33749676.52846738 33750351.56249999]\n"
     ]
    },
    {
     "name": "stderr",
     "output_type": "stream",
     "text": [
      "/Users/simon/tcpips/chavas15/er11/radprof_raw.py:51: RuntimeWarning: divide by zero encountered in divide\n",
      "  V_ER11 = (1 / rr_ER11) * (Vmax * rmax + 0.5 * fcor * rmax**2) * (\n",
      "/Users/simon/tcpips/chavas15/er11/radprof_raw.py:51: RuntimeWarning: invalid value encountered in multiply\n",
      "  V_ER11 = (1 / rr_ER11) * (Vmax * rmax + 0.5 * fcor * rmax**2) * (\n"
     ]
    },
    {
     "name": "stdout",
     "output_type": "stream",
     "text": [
      "'ER11_radprof_raw'  0.38253 s \n",
      "\n",
      "[  675709.06664392   676384.10067653   677059.13470914 ...\n",
      " 33749001.49443477 33749676.52846738 33750351.56249999]\n"
     ]
    },
    {
     "name": "stderr",
     "output_type": "stream",
     "text": [
      "/Users/simon/tcpips/chavas15/er11/radprof_raw.py:51: RuntimeWarning: divide by zero encountered in divide\n",
      "  V_ER11 = (1 / rr_ER11) * (Vmax * rmax + 0.5 * fcor * rmax**2) * (\n",
      "/Users/simon/tcpips/chavas15/er11/radprof_raw.py:51: RuntimeWarning: invalid value encountered in multiply\n",
      "  V_ER11 = (1 / rr_ER11) * (Vmax * rmax + 0.5 * fcor * rmax**2) * (\n"
     ]
    },
    {
     "name": "stdout",
     "output_type": "stream",
     "text": [
      "'ER11_radprof_raw'  0.37861 s \n",
      "\n",
      "'ER11_radprof'  2.77005 s \n",
      "\n",
      "intersection sizes 1000 1334 1334000\n",
      "'curveintersect'  2.28389 s \n",
      "\n",
      "Large storm detected. Increasing drfracrm.\n",
      "dr =  675.0305168456738\n",
      "[  606177.40412742   606852.43464426   607527.46516111 ...\n",
      " 33748825.7202163  33749500.75073315 33750175.78124999]\n"
     ]
    },
    {
     "name": "stderr",
     "output_type": "stream",
     "text": [
      "/Users/simon/tcpips/chavas15/er11/radprof_raw.py:51: RuntimeWarning: divide by zero encountered in divide\n",
      "  V_ER11 = (1 / rr_ER11) * (Vmax * rmax + 0.5 * fcor * rmax**2) * (\n",
      "/Users/simon/tcpips/chavas15/er11/radprof_raw.py:51: RuntimeWarning: invalid value encountered in multiply\n",
      "  V_ER11 = (1 / rr_ER11) * (Vmax * rmax + 0.5 * fcor * rmax**2) * (\n"
     ]
    },
    {
     "name": "stdout",
     "output_type": "stream",
     "text": [
      "'ER11_radprof_raw'  0.45036 s \n",
      "\n",
      "[  662879.96754245   663554.9980593    664230.02857614 ...\n",
      " 33748825.7202163  33749500.75073315 33750175.78124999]\n"
     ]
    },
    {
     "name": "stderr",
     "output_type": "stream",
     "text": [
      "/Users/simon/tcpips/chavas15/er11/radprof_raw.py:51: RuntimeWarning: divide by zero encountered in divide\n",
      "  V_ER11 = (1 / rr_ER11) * (Vmax * rmax + 0.5 * fcor * rmax**2) * (\n",
      "/Users/simon/tcpips/chavas15/er11/radprof_raw.py:51: RuntimeWarning: invalid value encountered in multiply\n",
      "  V_ER11 = (1 / rr_ER11) * (Vmax * rmax + 0.5 * fcor * rmax**2) * (\n"
     ]
    },
    {
     "name": "stdout",
     "output_type": "stream",
     "text": [
      "'ER11_radprof_raw'  0.52830 s \n",
      "\n",
      "[  662879.96754245   663554.9980593    664230.02857614 ...\n",
      " 33748825.7202163  33749500.75073315 33750175.78124999]\n"
     ]
    },
    {
     "name": "stderr",
     "output_type": "stream",
     "text": [
      "/Users/simon/tcpips/chavas15/er11/radprof_raw.py:51: RuntimeWarning: divide by zero encountered in divide\n",
      "  V_ER11 = (1 / rr_ER11) * (Vmax * rmax + 0.5 * fcor * rmax**2) * (\n",
      "/Users/simon/tcpips/chavas15/er11/radprof_raw.py:51: RuntimeWarning: invalid value encountered in multiply\n",
      "  V_ER11 = (1 / rr_ER11) * (Vmax * rmax + 0.5 * fcor * rmax**2) * (\n"
     ]
    },
    {
     "name": "stdout",
     "output_type": "stream",
     "text": [
      "'ER11_radprof_raw'  0.42007 s \n",
      "\n",
      "[  673005.42529514   673680.45581198   674355.48632883 ...\n",
      " 33748825.7202163  33749500.75073315 33750175.78124999]\n"
     ]
    },
    {
     "name": "stderr",
     "output_type": "stream",
     "text": [
      "/Users/simon/tcpips/chavas15/er11/radprof_raw.py:51: RuntimeWarning: divide by zero encountered in divide\n",
      "  V_ER11 = (1 / rr_ER11) * (Vmax * rmax + 0.5 * fcor * rmax**2) * (\n",
      "/Users/simon/tcpips/chavas15/er11/radprof_raw.py:51: RuntimeWarning: invalid value encountered in multiply\n",
      "  V_ER11 = (1 / rr_ER11) * (Vmax * rmax + 0.5 * fcor * rmax**2) * (\n"
     ]
    },
    {
     "name": "stdout",
     "output_type": "stream",
     "text": [
      "'ER11_radprof_raw'  0.44277 s \n",
      "\n",
      "[  675705.54736252   676380.57787937   677055.60839621 ...\n",
      " 33748825.7202163  33749500.75073315 33750175.78124999]\n"
     ]
    },
    {
     "name": "stderr",
     "output_type": "stream",
     "text": [
      "/Users/simon/tcpips/chavas15/er11/radprof_raw.py:51: RuntimeWarning: divide by zero encountered in divide\n",
      "  V_ER11 = (1 / rr_ER11) * (Vmax * rmax + 0.5 * fcor * rmax**2) * (\n",
      "/Users/simon/tcpips/chavas15/er11/radprof_raw.py:51: RuntimeWarning: invalid value encountered in multiply\n",
      "  V_ER11 = (1 / rr_ER11) * (Vmax * rmax + 0.5 * fcor * rmax**2) * (\n"
     ]
    },
    {
     "name": "stdout",
     "output_type": "stream",
     "text": [
      "'ER11_radprof_raw'  0.44153 s \n",
      "\n",
      "'ER11_radprof'  2.83347 s \n",
      "\n",
      "intersection sizes 1000 1334 1334000\n",
      "'curveintersect'  2.20088 s \n",
      "\n",
      "Large storm detected. Increasing drfracrm.\n",
      "dr =  675.0287589628585\n",
      "[  606175.82554865   606850.85430761   607525.88306657 ...\n",
      " 33748737.83310708 33749412.86186603 33750087.890625  ]\n"
     ]
    },
    {
     "name": "stderr",
     "output_type": "stream",
     "text": [
      "/Users/simon/tcpips/chavas15/er11/radprof_raw.py:51: RuntimeWarning: divide by zero encountered in divide\n",
      "  V_ER11 = (1 / rr_ER11) * (Vmax * rmax + 0.5 * fcor * rmax**2) * (\n",
      "/Users/simon/tcpips/chavas15/er11/radprof_raw.py:51: RuntimeWarning: invalid value encountered in multiply\n",
      "  V_ER11 = (1 / rr_ER11) * (Vmax * rmax + 0.5 * fcor * rmax**2) * (\n"
     ]
    },
    {
     "name": "stdout",
     "output_type": "stream",
     "text": [
      "'ER11_radprof_raw'  0.40108 s \n",
      "\n",
      "[  662878.24130153   663553.27006049   664228.29881945 ...\n",
      " 33748737.83310708 33749412.86186603 33750087.890625  ]\n"
     ]
    },
    {
     "name": "stderr",
     "output_type": "stream",
     "text": [
      "/Users/simon/tcpips/chavas15/er11/radprof_raw.py:51: RuntimeWarning: divide by zero encountered in divide\n",
      "  V_ER11 = (1 / rr_ER11) * (Vmax * rmax + 0.5 * fcor * rmax**2) * (\n",
      "/Users/simon/tcpips/chavas15/er11/radprof_raw.py:51: RuntimeWarning: invalid value encountered in multiply\n",
      "  V_ER11 = (1 / rr_ER11) * (Vmax * rmax + 0.5 * fcor * rmax**2) * (\n"
     ]
    },
    {
     "name": "stdout",
     "output_type": "stream",
     "text": [
      "'ER11_radprof_raw'  0.40368 s \n",
      "\n",
      "[  662878.24130153   663553.27006049   664228.29881945 ...\n",
      " 33748737.83310708 33749412.86186603 33750087.890625  ]\n"
     ]
    },
    {
     "name": "stderr",
     "output_type": "stream",
     "text": [
      "/Users/simon/tcpips/chavas15/er11/radprof_raw.py:51: RuntimeWarning: divide by zero encountered in divide\n",
      "  V_ER11 = (1 / rr_ER11) * (Vmax * rmax + 0.5 * fcor * rmax**2) * (\n",
      "/Users/simon/tcpips/chavas15/er11/radprof_raw.py:51: RuntimeWarning: invalid value encountered in multiply\n",
      "  V_ER11 = (1 / rr_ER11) * (Vmax * rmax + 0.5 * fcor * rmax**2) * (\n"
     ]
    },
    {
     "name": "stdout",
     "output_type": "stream",
     "text": [
      "'ER11_radprof_raw'  0.38690 s \n",
      "\n",
      "[  673003.67268597   673678.70144493   674353.7302039  ...\n",
      " 33748737.83310708 33749412.86186603 33750087.890625  ]\n"
     ]
    },
    {
     "name": "stderr",
     "output_type": "stream",
     "text": [
      "/Users/simon/tcpips/chavas15/er11/radprof_raw.py:51: RuntimeWarning: divide by zero encountered in divide\n",
      "  V_ER11 = (1 / rr_ER11) * (Vmax * rmax + 0.5 * fcor * rmax**2) * (\n",
      "/Users/simon/tcpips/chavas15/er11/radprof_raw.py:51: RuntimeWarning: invalid value encountered in multiply\n",
      "  V_ER11 = (1 / rr_ER11) * (Vmax * rmax + 0.5 * fcor * rmax**2) * (\n"
     ]
    },
    {
     "name": "stdout",
     "output_type": "stream",
     "text": [
      "'ER11_radprof_raw'  0.39470 s \n",
      "\n",
      "[  675703.78772182   676378.81648078   677053.84523975 ...\n",
      " 33748737.83310708 33749412.86186603 33750087.890625  ]\n"
     ]
    },
    {
     "name": "stderr",
     "output_type": "stream",
     "text": [
      "/Users/simon/tcpips/chavas15/er11/radprof_raw.py:51: RuntimeWarning: divide by zero encountered in divide\n",
      "  V_ER11 = (1 / rr_ER11) * (Vmax * rmax + 0.5 * fcor * rmax**2) * (\n",
      "/Users/simon/tcpips/chavas15/er11/radprof_raw.py:51: RuntimeWarning: invalid value encountered in multiply\n",
      "  V_ER11 = (1 / rr_ER11) * (Vmax * rmax + 0.5 * fcor * rmax**2) * (\n"
     ]
    },
    {
     "name": "stdout",
     "output_type": "stream",
     "text": [
      "'ER11_radprof_raw'  0.40620 s \n",
      "\n",
      "'ER11_radprof'  2.51393 s \n",
      "\n",
      "intersection sizes 1000 1334 1334000\n",
      "'curveintersect'  2.28063 s \n",
      "\n",
      "Adjusting CkCd to find convergence.\n",
      "Large storm detected. Increasing drfracrm.\n",
      "dr =  675.9270370814833\n",
      "[  756362.35449418   757038.28153126   757714.20856834 ...\n",
      " 33793648.14592583 33794324.07296292 33795000.        ]\n"
     ]
    },
    {
     "name": "stderr",
     "output_type": "stream",
     "text": [
      "/Users/simon/tcpips/chavas15/er11/radprof_raw.py:51: RuntimeWarning: divide by zero encountered in divide\n",
      "  V_ER11 = (1 / rr_ER11) * (Vmax * rmax + 0.5 * fcor * rmax**2) * (\n",
      "/Users/simon/tcpips/chavas15/er11/radprof_raw.py:51: RuntimeWarning: divide by zero encountered in power\n",
      "  V_ER11 = (1 / rr_ER11) * (Vmax * rmax + 0.5 * fcor * rmax**2) * (\n"
     ]
    },
    {
     "ename": "ValueError",
     "evalue": "`x` must be strictly increasing sequence.",
     "output_type": "error",
     "traceback": [
      "\u001b[0;31m---------------------------------------------------------------------------\u001b[0m",
      "\u001b[0;31mValueError\u001b[0m                                Traceback (most recent call last)",
      "Cell \u001b[0;32mIn[4], line 21\u001b[0m\n\u001b[1;32m     18\u001b[0m alpha_eye \u001b[38;5;241m=\u001b[39m \u001b[38;5;241m0.15\u001b[39m\n\u001b[1;32m     20\u001b[0m \u001b[38;5;66;03m# Get profile\u001b[39;00m\n\u001b[0;32m---> 21\u001b[0m rr, VV, rmax, rmerge, Vmerge \u001b[38;5;241m=\u001b[39m \u001b[43mER11E04_nondim_r0input\u001b[49m\u001b[43m(\u001b[49m\n\u001b[1;32m     22\u001b[0m \u001b[43m    \u001b[49m\u001b[43mVmax\u001b[49m\u001b[43m,\u001b[49m\u001b[43m \u001b[49m\u001b[43mr0\u001b[49m\u001b[43m,\u001b[49m\u001b[43m \u001b[49m\u001b[43mfcor\u001b[49m\u001b[43m,\u001b[49m\u001b[43m \u001b[49m\u001b[43mCdvary\u001b[49m\u001b[43m,\u001b[49m\u001b[43m \u001b[49m\u001b[43mCd\u001b[49m\u001b[43m,\u001b[49m\u001b[43m \u001b[49m\u001b[43mw_cool\u001b[49m\u001b[43m,\u001b[49m\u001b[43m \u001b[49m\u001b[43mCkCdvary\u001b[49m\u001b[43m,\u001b[49m\u001b[43m \u001b[49m\u001b[43mCkCd\u001b[49m\u001b[43m,\u001b[49m\u001b[43m \u001b[49m\u001b[43meye_adj\u001b[49m\u001b[43m,\u001b[49m\u001b[43m \u001b[49m\u001b[43malpha_eye\u001b[49m\n\u001b[1;32m     23\u001b[0m \u001b[43m)\u001b[49m\n",
      "File \u001b[0;32m~/sithom/sithom/time.py:136\u001b[0m, in \u001b[0;36mtimeit.<locals>.timed\u001b[0;34m(*args, **kw)\u001b[0m\n\u001b[1;32m    133\u001b[0m \u001b[38;5;129m@wraps\u001b[39m(method)\n\u001b[1;32m    134\u001b[0m \u001b[38;5;28;01mdef\u001b[39;00m \u001b[38;5;21mtimed\u001b[39m(\u001b[38;5;241m*\u001b[39margs, \u001b[38;5;241m*\u001b[39m\u001b[38;5;241m*\u001b[39mkw):\n\u001b[1;32m    135\u001b[0m     time_start \u001b[38;5;241m=\u001b[39m time\u001b[38;5;241m.\u001b[39mperf_counter()\n\u001b[0;32m--> 136\u001b[0m     result \u001b[38;5;241m=\u001b[39m \u001b[43mmethod\u001b[49m\u001b[43m(\u001b[49m\u001b[38;5;241;43m*\u001b[39;49m\u001b[43margs\u001b[49m\u001b[43m,\u001b[49m\u001b[43m \u001b[49m\u001b[38;5;241;43m*\u001b[39;49m\u001b[38;5;241;43m*\u001b[39;49m\u001b[43mkw\u001b[49m\u001b[43m)\u001b[49m\n\u001b[1;32m    137\u001b[0m     time_end \u001b[38;5;241m=\u001b[39m time\u001b[38;5;241m.\u001b[39mperf_counter()\n\u001b[1;32m    138\u001b[0m     \u001b[38;5;66;03m# time.gmtime()\u001b[39;00m\n",
      "File \u001b[0;32m~/tcpips/chavas15/er11e04/r0input.py:76\u001b[0m, in \u001b[0;36mER11E04_nondim_r0input\u001b[0;34m(Vmax, r0, fcor, Cdvary, C_d, w_cool, CkCdvary, CkCd, eye_adj, alpha_eye, Nr)\u001b[0m\n\u001b[1;32m     74\u001b[0m rr_ER11 \u001b[38;5;241m=\u001b[39m rrfracrm_ER11 \u001b[38;5;241m*\u001b[39m rmax\n\u001b[1;32m     75\u001b[0m rmax_or_r0 \u001b[38;5;241m=\u001b[39m \u001b[38;5;124m\"\u001b[39m\u001b[38;5;124mrmax\u001b[39m\u001b[38;5;124m\"\u001b[39m\n\u001b[0;32m---> 76\u001b[0m VV_ER11, _ \u001b[38;5;241m=\u001b[39m \u001b[43mER11_radprof\u001b[49m\u001b[43m(\u001b[49m\u001b[43mVmax\u001b[49m\u001b[43m,\u001b[49m\u001b[43m \u001b[49m\u001b[43mrmax\u001b[49m\u001b[43m,\u001b[49m\u001b[43m \u001b[49m\u001b[43mrmax_or_r0\u001b[49m\u001b[43m,\u001b[49m\u001b[43m \u001b[49m\u001b[43mfcor\u001b[49m\u001b[43m,\u001b[49m\u001b[43m \u001b[49m\u001b[43mCkCd\u001b[49m\u001b[43m,\u001b[49m\u001b[43m \u001b[49m\u001b[43mrr_ER11\u001b[49m\u001b[43m)\u001b[49m\n\u001b[1;32m     78\u001b[0m \u001b[38;5;66;03m# what does this mean in matlab?\u001b[39;00m\n\u001b[1;32m     79\u001b[0m \u001b[38;5;28;01mif\u001b[39;00m \u001b[38;5;241m~\u001b[39mnp\u001b[38;5;241m.\u001b[39misnan(np\u001b[38;5;241m.\u001b[39mnanmax(VV_ER11)):  \u001b[38;5;66;03m# ER11_radprof converged.\u001b[39;00m\n\u001b[1;32m     80\u001b[0m     \u001b[38;5;66;03m# nondimensionalize?\u001b[39;00m\n",
      "File \u001b[0;32m~/sithom/sithom/time.py:136\u001b[0m, in \u001b[0;36mtimeit.<locals>.timed\u001b[0;34m(*args, **kw)\u001b[0m\n\u001b[1;32m    133\u001b[0m \u001b[38;5;129m@wraps\u001b[39m(method)\n\u001b[1;32m    134\u001b[0m \u001b[38;5;28;01mdef\u001b[39;00m \u001b[38;5;21mtimed\u001b[39m(\u001b[38;5;241m*\u001b[39margs, \u001b[38;5;241m*\u001b[39m\u001b[38;5;241m*\u001b[39mkw):\n\u001b[1;32m    135\u001b[0m     time_start \u001b[38;5;241m=\u001b[39m time\u001b[38;5;241m.\u001b[39mperf_counter()\n\u001b[0;32m--> 136\u001b[0m     result \u001b[38;5;241m=\u001b[39m \u001b[43mmethod\u001b[49m\u001b[43m(\u001b[49m\u001b[38;5;241;43m*\u001b[39;49m\u001b[43margs\u001b[49m\u001b[43m,\u001b[49m\u001b[43m \u001b[49m\u001b[38;5;241;43m*\u001b[39;49m\u001b[38;5;241;43m*\u001b[39;49m\u001b[43mkw\u001b[49m\u001b[43m)\u001b[49m\n\u001b[1;32m    137\u001b[0m     time_end \u001b[38;5;241m=\u001b[39m time\u001b[38;5;241m.\u001b[39mperf_counter()\n\u001b[1;32m    138\u001b[0m     \u001b[38;5;66;03m# time.gmtime()\u001b[39;00m\n",
      "File \u001b[0;32m~/tcpips/chavas15/er11/radprof.py:22\u001b[0m, in \u001b[0;36mER11_radprof\u001b[0;34m(Vmax, r_in, rmax_or_r0, fcor, CkCd, rr_ER11)\u001b[0m\n\u001b[1;32m     19\u001b[0m \u001b[38;5;28mprint\u001b[39m(\u001b[38;5;124m\"\u001b[39m\u001b[38;5;124mdr = \u001b[39m\u001b[38;5;124m\"\u001b[39m, dr)\n\u001b[1;32m     21\u001b[0m \u001b[38;5;66;03m# Call ER11_radprof_raw to get velocity profile and the radius not given as input.\u001b[39;00m\n\u001b[0;32m---> 22\u001b[0m V_ER11, r_out \u001b[38;5;241m=\u001b[39m \u001b[43mER11_radprof_raw\u001b[49m\u001b[43m(\u001b[49m\u001b[43mVmax\u001b[49m\u001b[43m,\u001b[49m\u001b[43m \u001b[49m\u001b[43mr_in\u001b[49m\u001b[43m,\u001b[49m\u001b[43m \u001b[49m\u001b[43mrmax_or_r0\u001b[49m\u001b[43m,\u001b[49m\u001b[43m \u001b[49m\u001b[43mfcor\u001b[49m\u001b[43m,\u001b[49m\u001b[43m \u001b[49m\u001b[43mCkCd\u001b[49m\u001b[43m,\u001b[49m\u001b[43m \u001b[49m\u001b[43mrr_ER11\u001b[49m\u001b[43m)\u001b[49m\n\u001b[1;32m     24\u001b[0m \u001b[38;5;66;03m# Calculate error in r_in\u001b[39;00m\n\u001b[1;32m     25\u001b[0m \u001b[38;5;28;01mif\u001b[39;00m rmax_or_r0 \u001b[38;5;241m==\u001b[39m \u001b[38;5;124m\"\u001b[39m\u001b[38;5;124mrmax\u001b[39m\u001b[38;5;124m\"\u001b[39m:\n",
      "File \u001b[0;32m~/sithom/sithom/time.py:136\u001b[0m, in \u001b[0;36mtimeit.<locals>.timed\u001b[0;34m(*args, **kw)\u001b[0m\n\u001b[1;32m    133\u001b[0m \u001b[38;5;129m@wraps\u001b[39m(method)\n\u001b[1;32m    134\u001b[0m \u001b[38;5;28;01mdef\u001b[39;00m \u001b[38;5;21mtimed\u001b[39m(\u001b[38;5;241m*\u001b[39margs, \u001b[38;5;241m*\u001b[39m\u001b[38;5;241m*\u001b[39mkw):\n\u001b[1;32m    135\u001b[0m     time_start \u001b[38;5;241m=\u001b[39m time\u001b[38;5;241m.\u001b[39mperf_counter()\n\u001b[0;32m--> 136\u001b[0m     result \u001b[38;5;241m=\u001b[39m \u001b[43mmethod\u001b[49m\u001b[43m(\u001b[49m\u001b[38;5;241;43m*\u001b[39;49m\u001b[43margs\u001b[49m\u001b[43m,\u001b[49m\u001b[43m \u001b[49m\u001b[38;5;241;43m*\u001b[39;49m\u001b[38;5;241;43m*\u001b[39;49m\u001b[43mkw\u001b[49m\u001b[43m)\u001b[49m\n\u001b[1;32m    137\u001b[0m     time_end \u001b[38;5;241m=\u001b[39m time\u001b[38;5;241m.\u001b[39mperf_counter()\n\u001b[1;32m    138\u001b[0m     \u001b[38;5;66;03m# time.gmtime()\u001b[39;00m\n",
      "File \u001b[0;32m~/tcpips/chavas15/er11/radprof_raw.py:82\u001b[0m, in \u001b[0;36mER11_radprof_raw\u001b[0;34m(Vmax, r_in, rmax_or_r0, fcor, CkCd, rr_ER11)\u001b[0m\n\u001b[1;32m     80\u001b[0m         plt\u001b[38;5;241m.\u001b[39mclf()\n\u001b[1;32m     81\u001b[0m         plt\u001b[38;5;241m.\u001b[39mclose()\n\u001b[0;32m---> 82\u001b[0m     r0_profile \u001b[38;5;241m=\u001b[39m \u001b[43mpchip_interpolate\u001b[49m\u001b[43m(\u001b[49m\n\u001b[1;32m     83\u001b[0m \u001b[43m        \u001b[49m\u001b[43mV_ER11\u001b[49m\u001b[43m[\u001b[49m\u001b[43mi_rmax\u001b[49m\u001b[43m \u001b[49m\u001b[38;5;241;43m+\u001b[39;49m\u001b[43m \u001b[49m\u001b[38;5;241;43m1\u001b[39;49m\u001b[43m \u001b[49m\u001b[43m:\u001b[49m\u001b[43m]\u001b[49m\u001b[43m[\u001b[49m\u001b[43m:\u001b[49m\u001b[43m:\u001b[49m\u001b[38;5;241;43m-\u001b[39;49m\u001b[38;5;241;43m1\u001b[39;49m\u001b[43m]\u001b[49m\u001b[43m,\u001b[49m\u001b[43m \u001b[49m\u001b[43mrr_ER11\u001b[49m\u001b[43m[\u001b[49m\u001b[43mi_rmax\u001b[49m\u001b[43m \u001b[49m\u001b[38;5;241;43m+\u001b[39;49m\u001b[43m \u001b[49m\u001b[38;5;241;43m1\u001b[39;49m\u001b[43m \u001b[49m\u001b[43m:\u001b[49m\u001b[43m]\u001b[49m\u001b[43m[\u001b[49m\u001b[43m:\u001b[49m\u001b[43m:\u001b[49m\u001b[38;5;241;43m-\u001b[39;49m\u001b[38;5;241;43m1\u001b[39;49m\u001b[43m]\u001b[49m\u001b[43m,\u001b[49m\u001b[43m \u001b[49m\u001b[43m[\u001b[49m\u001b[38;5;241;43m0\u001b[39;49m\u001b[43m]\u001b[49m\n\u001b[1;32m     84\u001b[0m \u001b[43m    \u001b[49m\u001b[43m)\u001b[49m\n\u001b[1;32m     85\u001b[0m     r_out \u001b[38;5;241m=\u001b[39m r0_profile\n\u001b[1;32m     87\u001b[0m \u001b[38;5;28;01mreturn\u001b[39;00m V_ER11, r_out\n",
      "File \u001b[0;32m~/micromamba/envs/tcpips/lib/python3.10/site-packages/scipy/interpolate/_cubic.py:357\u001b[0m, in \u001b[0;36mpchip_interpolate\u001b[0;34m(xi, yi, x, der, axis)\u001b[0m\n\u001b[1;32m    305\u001b[0m \u001b[38;5;28;01mdef\u001b[39;00m \u001b[38;5;21mpchip_interpolate\u001b[39m(xi, yi, x, der\u001b[38;5;241m=\u001b[39m\u001b[38;5;241m0\u001b[39m, axis\u001b[38;5;241m=\u001b[39m\u001b[38;5;241m0\u001b[39m):\n\u001b[1;32m    306\u001b[0m \u001b[38;5;250m    \u001b[39m\u001b[38;5;124;03m\"\"\"\u001b[39;00m\n\u001b[1;32m    307\u001b[0m \u001b[38;5;124;03m    Convenience function for pchip interpolation.\u001b[39;00m\n\u001b[1;32m    308\u001b[0m \n\u001b[0;32m   (...)\u001b[0m\n\u001b[1;32m    355\u001b[0m \n\u001b[1;32m    356\u001b[0m \u001b[38;5;124;03m    \"\"\"\u001b[39;00m\n\u001b[0;32m--> 357\u001b[0m     P \u001b[38;5;241m=\u001b[39m \u001b[43mPchipInterpolator\u001b[49m\u001b[43m(\u001b[49m\u001b[43mxi\u001b[49m\u001b[43m,\u001b[49m\u001b[43m \u001b[49m\u001b[43myi\u001b[49m\u001b[43m,\u001b[49m\u001b[43m \u001b[49m\u001b[43maxis\u001b[49m\u001b[38;5;241;43m=\u001b[39;49m\u001b[43maxis\u001b[49m\u001b[43m)\u001b[49m\n\u001b[1;32m    359\u001b[0m     \u001b[38;5;28;01mif\u001b[39;00m der \u001b[38;5;241m==\u001b[39m \u001b[38;5;241m0\u001b[39m:\n\u001b[1;32m    360\u001b[0m         \u001b[38;5;28;01mreturn\u001b[39;00m P(x)\n",
      "File \u001b[0;32m~/micromamba/envs/tcpips/lib/python3.10/site-packages/scipy/interpolate/_cubic.py:234\u001b[0m, in \u001b[0;36mPchipInterpolator.__init__\u001b[0;34m(self, x, y, axis, extrapolate)\u001b[0m\n\u001b[1;32m    233\u001b[0m \u001b[38;5;28;01mdef\u001b[39;00m \u001b[38;5;21m__init__\u001b[39m(\u001b[38;5;28mself\u001b[39m, x, y, axis\u001b[38;5;241m=\u001b[39m\u001b[38;5;241m0\u001b[39m, extrapolate\u001b[38;5;241m=\u001b[39m\u001b[38;5;28;01mNone\u001b[39;00m):\n\u001b[0;32m--> 234\u001b[0m     x, _, y, axis, _ \u001b[38;5;241m=\u001b[39m \u001b[43mprepare_input\u001b[49m\u001b[43m(\u001b[49m\u001b[43mx\u001b[49m\u001b[43m,\u001b[49m\u001b[43m \u001b[49m\u001b[43my\u001b[49m\u001b[43m,\u001b[49m\u001b[43m \u001b[49m\u001b[43maxis\u001b[49m\u001b[43m)\u001b[49m\n\u001b[1;32m    235\u001b[0m     xp \u001b[38;5;241m=\u001b[39m x\u001b[38;5;241m.\u001b[39mreshape((x\u001b[38;5;241m.\u001b[39mshape[\u001b[38;5;241m0\u001b[39m],) \u001b[38;5;241m+\u001b[39m (\u001b[38;5;241m1\u001b[39m,)\u001b[38;5;241m*\u001b[39m(y\u001b[38;5;241m.\u001b[39mndim\u001b[38;5;241m-\u001b[39m\u001b[38;5;241m1\u001b[39m))\n\u001b[1;32m    236\u001b[0m     dk \u001b[38;5;241m=\u001b[39m \u001b[38;5;28mself\u001b[39m\u001b[38;5;241m.\u001b[39m_find_derivatives(xp, y)\n",
      "File \u001b[0;32m~/micromamba/envs/tcpips/lib/python3.10/site-packages/scipy/interpolate/_cubic.py:61\u001b[0m, in \u001b[0;36mprepare_input\u001b[0;34m(x, y, axis, dydx)\u001b[0m\n\u001b[1;32m     59\u001b[0m dx \u001b[38;5;241m=\u001b[39m np\u001b[38;5;241m.\u001b[39mdiff(x)\n\u001b[1;32m     60\u001b[0m \u001b[38;5;28;01mif\u001b[39;00m np\u001b[38;5;241m.\u001b[39many(dx \u001b[38;5;241m<\u001b[39m\u001b[38;5;241m=\u001b[39m \u001b[38;5;241m0\u001b[39m):\n\u001b[0;32m---> 61\u001b[0m     \u001b[38;5;28;01mraise\u001b[39;00m \u001b[38;5;167;01mValueError\u001b[39;00m(\u001b[38;5;124m\"\u001b[39m\u001b[38;5;124m`x` must be strictly increasing sequence.\u001b[39m\u001b[38;5;124m\"\u001b[39m)\n\u001b[1;32m     63\u001b[0m y \u001b[38;5;241m=\u001b[39m np\u001b[38;5;241m.\u001b[39mmoveaxis(y, axis, \u001b[38;5;241m0\u001b[39m)\n\u001b[1;32m     64\u001b[0m \u001b[38;5;28;01mif\u001b[39;00m dydx \u001b[38;5;129;01mis\u001b[39;00m \u001b[38;5;129;01mnot\u001b[39;00m \u001b[38;5;28;01mNone\u001b[39;00m:\n",
      "\u001b[0;31mValueError\u001b[0m: `x` must be strictly increasing sequence."
     ]
    },
    {
     "ename": "",
     "evalue": "",
     "output_type": "error",
     "traceback": [
      "\u001b[1;31mThe Kernel crashed while executing code in the the current cell or a previous cell. Please review the code in the cell(s) to identify a possible cause of the failure. Click <a href='https://aka.ms/vscodeJupyterKernelCrash'>here</a> for more info. View Jupyter <a href='command:jupyter.viewOutput'>log</a> for further details."
     ]
    }
   ],
   "source": [
    "# Storm parameters\n",
    "Vmax = 50  # [ms-1]\n",
    "r0 = 900 * 1000  # [m]\n",
    "fcor = 5e-5  # [s-1]\n",
    "\n",
    "# Environmental parameters\n",
    "# Outer region\n",
    "Cdvary = 0\n",
    "Cd = 1.5e-3\n",
    "w_cool = 2 / 1000  # [ms-1]\n",
    "\n",
    "# Inner region\n",
    "CkCdvary = False\n",
    "CkCd = 1\n",
    "\n",
    "# Eye adjustment\n",
    "eye_adj = False\n",
    "alpha_eye = 0.15\n",
    "\n",
    "# Get profile\n",
    "rr, VV, rmax, rmerge, Vmerge = ER11E04_nondim_r0input(\n",
    "    Vmax, r0, fcor, Cdvary, Cd, w_cool, CkCdvary, CkCd, eye_adj, alpha_eye\n",
    ")"
   ]
  },
  {
   "cell_type": "code",
   "execution_count": null,
   "metadata": {},
   "outputs": [],
   "source": [
    "\n",
    "# Plotting\n",
    "plt.figure(figsize=(12, 12))\n",
    "plt.plot(rr / 1000, VV, \"b\", linewidth=3, label=\"Model\")\n",
    "plt.plot(rmax / 1000, Vmax, \"bx\", markersize=20, label=\"r_max\")\n",
    "plt.plot(r0 / 1000, 0, \"r.\", markersize=40, label=\"r_0 (input)\")\n",
    "plt.plot(\n",
    "    rmerge / 1000, Vmerge, \".\", color=[0.5, 0.5, 0.5], markersize=30, label=\"r_merge\"\n",
    ")\n",
    "\n",
    "xmax_pl = np.ceil((1.01 * r0 / 1000) / 100) * 100\n",
    "ymax_pl = np.ceil(1.01 * Vmax / 5) * 5\n",
    "plt.axis([0, xmax_pl, 0, ymax_pl])\n",
    "plt.xlabel(\"radius [km]\")\n",
    "plt.ylabel(\"rotating wind speed [ms^{-1}]\")\n",
    "plt.legend(loc=\"northeast\")\n",
    "plt.grid(True)\n",
    "plt.title(\"CLE15 Wind Profile Plot\")\n",
    "\n",
    "# Save plot\n",
    "plt.savefig(\"CLE15_plot_r0input.pdf\", format=\"pdf\")\n",
    "plt.show()"
   ]
  },
  {
   "cell_type": "code",
   "execution_count": null,
   "metadata": {},
   "outputs": [],
   "source": []
  }
 ],
 "metadata": {
  "kernelspec": {
   "display_name": "Python 3",
   "language": "python",
   "name": "python3"
  },
  "language_info": {
   "codemirror_mode": {
    "name": "ipython",
    "version": 3
   },
   "file_extension": ".py",
   "mimetype": "text/x-python",
   "name": "python",
   "nbconvert_exporter": "python",
   "pygments_lexer": "ipython3",
   "version": "3.10.13"
  }
 },
 "nbformat": 4,
 "nbformat_minor": 2
}
