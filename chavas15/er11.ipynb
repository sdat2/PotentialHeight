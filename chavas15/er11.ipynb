{
 "cells": [
  {
   "cell_type": "markdown",
   "metadata": {},
   "source": [
    "# ER11"
   ]
  },
  {
   "cell_type": "code",
   "execution_count": 1,
   "metadata": {},
   "outputs": [],
   "source": [
    "%load_ext autoreload\n",
    "%autoreload 2\n",
    "%config IPCompleter.greedy=True"
   ]
  },
  {
   "cell_type": "code",
   "execution_count": 5,
   "metadata": {},
   "outputs": [],
   "source": [
    "import numpy as np\n",
    "from chavas15.er11.radprof import ER11_radprof\n",
    "from matplotlib import pyplot as plt\n",
    "from sithom.plot import plot_defaults\n",
    "plot_defaults()"
   ]
  },
  {
   "cell_type": "code",
   "execution_count": 4,
   "metadata": {},
   "outputs": [],
   "source": [
    "# Storm parameters\n",
    "Vmax = 50  # [ms-1]\n",
    "r0 = 900 * 1000  # [m]\n",
    "fcor = 5e-5  # [s-1]\n",
    "\n",
    "# Environmental parameters\n",
    "# Outer region\n",
    "Cdvary = False\n",
    "Cd = 1.5e-3\n",
    "w_cool = 2 / 1000  # [ms-1]\n",
    "\n",
    "# Inner region\n",
    "CkCdvary = False\n",
    "CkCd = 1\n",
    "\n",
    "# Eye adjustment\n",
    "eye_adj = False\n",
    "alpha_eye = 0.15"
   ]
  },
  {
   "cell_type": "code",
   "execution_count": 9,
   "metadata": {},
   "outputs": [],
   "source": [
    "# %% USER INPUT\n",
    "Vmax = 50 #;  %[ms-1]\n",
    "rmax_or_r0 = 'rmax' #;\n",
    "r0 = 1000*1000 #; %[m]\n",
    "fcor = 5e-5 #;\n",
    "CkCd = 1 #;"
   ]
  },
  {
   "cell_type": "code",
   "execution_count": 15,
   "metadata": {},
   "outputs": [
    {
     "name": "stdout",
     "output_type": "stream",
     "text": [
      "rmax =  [236067.97749979]\n",
      "'ER11_radprof_raw'  0.00093 s \n",
      "\n"
     ]
    },
    {
     "ename": "ValueError",
     "evalue": "`x` must be strictly increasing sequence.",
     "output_type": "error",
     "traceback": [
      "\u001b[0;31m---------------------------------------------------------------------------\u001b[0m",
      "\u001b[0;31mValueError\u001b[0m                                Traceback (most recent call last)",
      "\u001b[1;32m/Users/simon/tcpips/chavas15/er11.ipynb Cell 7\u001b[0m line \u001b[0;36m2\n\u001b[1;32m      <a href='vscode-notebook-cell:/Users/simon/tcpips/chavas15/er11.ipynb#W6sZmlsZQ%3D%3D?line=0'>1</a>\u001b[0m radii \u001b[39m=\u001b[39m np\u001b[39m.\u001b[39mlinspace( \u001b[39m1\u001b[39m, \u001b[39m1000\u001b[39m\u001b[39m*\u001b[39m\u001b[39m1000\u001b[39m, \u001b[39m10000\u001b[39m)\n\u001b[0;32m----> <a href='vscode-notebook-cell:/Users/simon/tcpips/chavas15/er11.ipynb#W6sZmlsZQ%3D%3D?line=1'>2</a>\u001b[0m V_ER11, r_out \u001b[39m=\u001b[39m ER11_radprof(\n\u001b[1;32m      <a href='vscode-notebook-cell:/Users/simon/tcpips/chavas15/er11.ipynb#W6sZmlsZQ%3D%3D?line=2'>3</a>\u001b[0m     Vmax,\n\u001b[1;32m      <a href='vscode-notebook-cell:/Users/simon/tcpips/chavas15/er11.ipynb#W6sZmlsZQ%3D%3D?line=3'>4</a>\u001b[0m     r0,\n\u001b[1;32m      <a href='vscode-notebook-cell:/Users/simon/tcpips/chavas15/er11.ipynb#W6sZmlsZQ%3D%3D?line=4'>5</a>\u001b[0m     \u001b[39m\"\u001b[39;49m\u001b[39mr0\u001b[39;49m\u001b[39m\"\u001b[39;49m,\n\u001b[1;32m      <a href='vscode-notebook-cell:/Users/simon/tcpips/chavas15/er11.ipynb#W6sZmlsZQ%3D%3D?line=5'>6</a>\u001b[0m     fcor,\n\u001b[1;32m      <a href='vscode-notebook-cell:/Users/simon/tcpips/chavas15/er11.ipynb#W6sZmlsZQ%3D%3D?line=6'>7</a>\u001b[0m     CkCd,\n\u001b[1;32m      <a href='vscode-notebook-cell:/Users/simon/tcpips/chavas15/er11.ipynb#W6sZmlsZQ%3D%3D?line=7'>8</a>\u001b[0m     radii,\n\u001b[1;32m      <a href='vscode-notebook-cell:/Users/simon/tcpips/chavas15/er11.ipynb#W6sZmlsZQ%3D%3D?line=8'>9</a>\u001b[0m )\n",
      "File \u001b[0;32m~/sithom/sithom/time.py:136\u001b[0m, in \u001b[0;36mtimeit.<locals>.timed\u001b[0;34m(*args, **kw)\u001b[0m\n\u001b[1;32m    133\u001b[0m \u001b[39m@wraps\u001b[39m(method)\n\u001b[1;32m    134\u001b[0m \u001b[39mdef\u001b[39;00m \u001b[39mtimed\u001b[39m(\u001b[39m*\u001b[39margs, \u001b[39m*\u001b[39m\u001b[39m*\u001b[39mkw):\n\u001b[1;32m    135\u001b[0m     time_start \u001b[39m=\u001b[39m time\u001b[39m.\u001b[39mperf_counter()\n\u001b[0;32m--> 136\u001b[0m     result \u001b[39m=\u001b[39m method(\u001b[39m*\u001b[39;49margs, \u001b[39m*\u001b[39;49m\u001b[39m*\u001b[39;49mkw)\n\u001b[1;32m    137\u001b[0m     time_end \u001b[39m=\u001b[39m time\u001b[39m.\u001b[39mperf_counter()\n\u001b[1;32m    138\u001b[0m     \u001b[39m# time.gmtime()\u001b[39;00m\n",
      "File \u001b[0;32m~/tcpips/chavas15/er11/radprof.py:27\u001b[0m, in \u001b[0;36mER11_radprof\u001b[0;34m(Vmax, r_in, rmax_or_r0, fcor, CkCd, rr_ER11)\u001b[0m\n\u001b[1;32m     25\u001b[0m     drin_temp \u001b[39m=\u001b[39m r_in \u001b[39m-\u001b[39m rr_ER11[np\u001b[39m.\u001b[39margmax(V_ER11)]\n\u001b[1;32m     26\u001b[0m \u001b[39melif\u001b[39;00m rmax_or_r0 \u001b[39m==\u001b[39m \u001b[39m\"\u001b[39m\u001b[39mr0\u001b[39m\u001b[39m\"\u001b[39m:\n\u001b[0;32m---> 27\u001b[0m     drin_temp \u001b[39m=\u001b[39m r_in \u001b[39m-\u001b[39m pchip_interpolate(V_ER11[\u001b[39m2\u001b[39;49m:], rr_ER11[\u001b[39m2\u001b[39;49m:], \u001b[39m0\u001b[39;49m)\n\u001b[1;32m     29\u001b[0m \u001b[39m# Calculate error in Vmax\u001b[39;00m\n\u001b[1;32m     30\u001b[0m dVmax_temp \u001b[39m=\u001b[39m Vmax \u001b[39m-\u001b[39m np\u001b[39m.\u001b[39mmax(V_ER11)\n",
      "File \u001b[0;32m~/micromamba/envs/tcpips/lib/python3.10/site-packages/scipy/interpolate/_cubic.py:357\u001b[0m, in \u001b[0;36mpchip_interpolate\u001b[0;34m(xi, yi, x, der, axis)\u001b[0m\n\u001b[1;32m    305\u001b[0m \u001b[39mdef\u001b[39;00m \u001b[39mpchip_interpolate\u001b[39m(xi, yi, x, der\u001b[39m=\u001b[39m\u001b[39m0\u001b[39m, axis\u001b[39m=\u001b[39m\u001b[39m0\u001b[39m):\n\u001b[1;32m    306\u001b[0m \u001b[39m    \u001b[39m\u001b[39m\"\"\"\u001b[39;00m\n\u001b[1;32m    307\u001b[0m \u001b[39m    Convenience function for pchip interpolation.\u001b[39;00m\n\u001b[1;32m    308\u001b[0m \n\u001b[0;32m   (...)\u001b[0m\n\u001b[1;32m    355\u001b[0m \n\u001b[1;32m    356\u001b[0m \u001b[39m    \"\"\"\u001b[39;00m\n\u001b[0;32m--> 357\u001b[0m     P \u001b[39m=\u001b[39m PchipInterpolator(xi, yi, axis\u001b[39m=\u001b[39;49maxis)\n\u001b[1;32m    359\u001b[0m     \u001b[39mif\u001b[39;00m der \u001b[39m==\u001b[39m \u001b[39m0\u001b[39m:\n\u001b[1;32m    360\u001b[0m         \u001b[39mreturn\u001b[39;00m P(x)\n",
      "File \u001b[0;32m~/micromamba/envs/tcpips/lib/python3.10/site-packages/scipy/interpolate/_cubic.py:234\u001b[0m, in \u001b[0;36mPchipInterpolator.__init__\u001b[0;34m(self, x, y, axis, extrapolate)\u001b[0m\n\u001b[1;32m    233\u001b[0m \u001b[39mdef\u001b[39;00m \u001b[39m__init__\u001b[39m(\u001b[39mself\u001b[39m, x, y, axis\u001b[39m=\u001b[39m\u001b[39m0\u001b[39m, extrapolate\u001b[39m=\u001b[39m\u001b[39mNone\u001b[39;00m):\n\u001b[0;32m--> 234\u001b[0m     x, _, y, axis, _ \u001b[39m=\u001b[39m prepare_input(x, y, axis)\n\u001b[1;32m    235\u001b[0m     xp \u001b[39m=\u001b[39m x\u001b[39m.\u001b[39mreshape((x\u001b[39m.\u001b[39mshape[\u001b[39m0\u001b[39m],) \u001b[39m+\u001b[39m (\u001b[39m1\u001b[39m,)\u001b[39m*\u001b[39m(y\u001b[39m.\u001b[39mndim\u001b[39m-\u001b[39m\u001b[39m1\u001b[39m))\n\u001b[1;32m    236\u001b[0m     dk \u001b[39m=\u001b[39m \u001b[39mself\u001b[39m\u001b[39m.\u001b[39m_find_derivatives(xp, y)\n",
      "File \u001b[0;32m~/micromamba/envs/tcpips/lib/python3.10/site-packages/scipy/interpolate/_cubic.py:61\u001b[0m, in \u001b[0;36mprepare_input\u001b[0;34m(x, y, axis, dydx)\u001b[0m\n\u001b[1;32m     59\u001b[0m dx \u001b[39m=\u001b[39m np\u001b[39m.\u001b[39mdiff(x)\n\u001b[1;32m     60\u001b[0m \u001b[39mif\u001b[39;00m np\u001b[39m.\u001b[39many(dx \u001b[39m<\u001b[39m\u001b[39m=\u001b[39m \u001b[39m0\u001b[39m):\n\u001b[0;32m---> 61\u001b[0m     \u001b[39mraise\u001b[39;00m \u001b[39mValueError\u001b[39;00m(\u001b[39m\"\u001b[39m\u001b[39m`x` must be strictly increasing sequence.\u001b[39m\u001b[39m\"\u001b[39m)\n\u001b[1;32m     63\u001b[0m y \u001b[39m=\u001b[39m np\u001b[39m.\u001b[39mmoveaxis(y, axis, \u001b[39m0\u001b[39m)\n\u001b[1;32m     64\u001b[0m \u001b[39mif\u001b[39;00m dydx \u001b[39mis\u001b[39;00m \u001b[39mnot\u001b[39;00m \u001b[39mNone\u001b[39;00m:\n",
      "\u001b[0;31mValueError\u001b[0m: `x` must be strictly increasing sequence."
     ]
    }
   ],
   "source": [
    "radii = np.linspace( 1, 1000*1000, 10000)\n",
    "V_ER11, r_out = ER11_radprof(\n",
    "    Vmax,\n",
    "    r0,\n",
    "    \"r0\",\n",
    "    fcor,\n",
    "    CkCd,\n",
    "    radii,\n",
    ")"
   ]
  },
  {
   "cell_type": "code",
   "execution_count": null,
   "metadata": {},
   "outputs": [],
   "source": []
  }
 ],
 "metadata": {
  "kernelspec": {
   "display_name": "Python 3",
   "language": "python",
   "name": "python3"
  },
  "language_info": {
   "codemirror_mode": {
    "name": "ipython",
    "version": 3
   },
   "file_extension": ".py",
   "mimetype": "text/x-python",
   "name": "python",
   "nbconvert_exporter": "python",
   "pygments_lexer": "ipython3",
   "version": "3.10.13"
  }
 },
 "nbformat": 4,
 "nbformat_minor": 2
}
